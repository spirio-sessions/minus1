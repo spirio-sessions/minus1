{
 "cells": [
  {
   "cell_type": "code",
   "id": "initial_id",
   "metadata": {
    "collapsed": true,
    "ExecuteTime": {
     "end_time": "2024-07-03T20:33:08.585675Z",
     "start_time": "2024-07-03T20:32:58.385048Z"
    }
   },
   "source": [
    "import numpy as np\n",
    "import torch\n",
    "\n",
    "from data_preperation import dataset_snapshot\n",
    "from transformer_decoder_training.dataprep_transformer import dataprep_1\n",
    "from sklearn.model_selection import train_test_split\n",
    "\n",
    "# Check if GPU is available, set device accordingly\n",
    "device = torch.device(\"cuda\" if torch.cuda.is_available() else 'cpu')\n",
    "\n",
    "#load data\n",
    "dataset_as_snapshots = dataset_snapshot.process_dataset_multithreaded(\"/home/falaxdb/Repos/minus1/datasets/maestro_v3_split/hands_split_into_seperate_midis\", 0.05, amount=100)\n",
    "# filter snapshots to 88 piano notes\n",
    "dataset_as_snapshots = dataset_snapshot.filter_piano_range(dataset_as_snapshots)\n",
    "\n",
    "dataset_as_snapshots = dataset_snapshot.compress_existing_dataset_to_12keys(dataset_as_snapshots)\n",
    "\n",
    "# split songs into train, test and val\n",
    "train_data, temp_data = train_test_split(dataset_as_snapshots, test_size=0.3, random_state=42, shuffle=True)\n",
    "val_data, test_data = train_test_split(temp_data, test_size=0.5, random_state=42, shuffle=True)\n",
    "\n",
    "# see if split is correct\n",
    "print(\"Train data:\", len(train_data))\n",
    "print(\"test data:\", len(test_data))\n",
    "print(\"val data:\", len(val_data))"
   ],
   "outputs": [
    {
     "name": "stderr",
     "output_type": "stream",
     "text": [
      "Processed dataset (200/200): 100%|██████████| 200/200 [00:02<00:00, 70.88it/s]\n"
     ]
    },
    {
     "name": "stdout",
     "output_type": "stream",
     "text": [
      "Processed 200 of 200 files\n",
      "Train data: 70\n",
      "test data: 15\n",
      "val data: 15\n"
     ]
    }
   ],
   "execution_count": 1
  },
  {
   "metadata": {
    "ExecuteTime": {
     "end_time": "2024-07-03T20:33:08.822874Z",
     "start_time": "2024-07-03T20:33:08.586374Z"
    }
   },
   "cell_type": "code",
   "source": [
    "# Define special Tokens\n",
    "# Token dimension needs to fit Data\n",
    "sos_token = np.full((1, 24), 1)\n",
    "pad_token = np.full((1, 24), 2)\n",
    "pad_token = torch.tensor(pad_token, device=device)\n",
    "\n",
    "# Define other parameters\n",
    "batch_size = 64\n",
    "seq_length = 512\n",
    "stride = 256\n",
    "\n",
    "# create dataset + dataloader\n",
    "from torch.utils.data import DataLoader\n",
    "from transformer_decoder_training.dataset_transformer.dataset_2 import AdvancedPianoDataset\n",
    "\n",
    "train_dataset = AdvancedPianoDataset(train_data, seq_length, stride, sos_token)\n",
    "val_dataset = AdvancedPianoDataset(val_data, seq_length, stride, sos_token)\n",
    "test_dataset = AdvancedPianoDataset(test_data, seq_length, stride, sos_token)\n",
    "\n",
    "print(\"Check length of datasets. should roughly match split ratio\")\n",
    "print(\"train dataset:\", len(train_dataset))\n",
    "print(\"val dataset:\", len(val_dataset))\n",
    "print(\"test dataset:\", len(test_dataset))\n",
    "print(\"\")\n",
    "\n",
    "# Create DataLoaders for each subset with drop_last=True\n",
    "train_loader = DataLoader(train_dataset, batch_size=batch_size, shuffle=True, drop_last=True)\n",
    "val_loader = DataLoader(val_dataset, batch_size=batch_size, shuffle=False, drop_last=True)\n",
    "test_loader = DataLoader(test_dataset, batch_size=batch_size, shuffle=False, drop_last=True)"
   ],
   "id": "8acfecebe4fcc7e0",
   "outputs": [
    {
     "name": "stdout",
     "output_type": "stream",
     "text": [
      "Check length of datasets. should roughly match split ratio\n",
      "train dataset: 2292\n",
      "val dataset: 478\n",
      "test dataset: 696\n",
      "\n"
     ]
    }
   ],
   "execution_count": 2
  },
  {
   "metadata": {
    "ExecuteTime": {
     "end_time": "2024-07-03T20:33:08.865816Z",
     "start_time": "2024-07-03T20:33:08.823786Z"
    }
   },
   "cell_type": "code",
   "source": [
    "# Embedding Size\n",
    "hidden_size = 256\n",
    "# Number of transformer blocks\n",
    "num_layers = 8\n",
    "# MultiheadAttention Heads\n",
    "num_heads = 8\n",
    "\n",
    "from transformer_decoder_training.models.transformer_decoder_1 import Transformer\n",
    "\n",
    "model = Transformer(num_emb=24, num_layers=num_layers, hidden_size=hidden_size, num_heads=num_heads).to(device)\n",
    "model.load_state_dict(torch.load(\"/home/falaxdb/Repos/minus1/transformer_decoder_training/saved_files/saved_models/model_1_notebook_v6.pth\"))\n",
    "model.eval()"
   ],
   "id": "38ccec3225884077",
   "outputs": [
    {
     "data": {
      "text/plain": [
       "Transformer(\n",
       "  (embedding): Linear(in_features=24, out_features=256, bias=True)\n",
       "  (pos_emb): SinusoidalPosEmb()\n",
       "  (blocks): ModuleList(\n",
       "    (0-7): 8 x TransformerBlock(\n",
       "      (norm1): LayerNorm((256,), eps=1e-05, elementwise_affine=True)\n",
       "      (multihead_attn): MultiheadAttention(\n",
       "        (out_proj): NonDynamicallyQuantizableLinear(in_features=256, out_features=256, bias=True)\n",
       "      )\n",
       "      (norm2): LayerNorm((256,), eps=1e-05, elementwise_affine=True)\n",
       "      (mlp): Sequential(\n",
       "        (0): Linear(in_features=256, out_features=1024, bias=True)\n",
       "        (1): ELU(alpha=1.0)\n",
       "        (2): Linear(in_features=1024, out_features=256, bias=True)\n",
       "      )\n",
       "    )\n",
       "  )\n",
       "  (fc_out): Linear(in_features=256, out_features=24, bias=True)\n",
       "  (sigmoid): Sigmoid()\n",
       ")"
      ]
     },
     "execution_count": 3,
     "metadata": {},
     "output_type": "execute_result"
    }
   ],
   "execution_count": 3
  },
  {
   "metadata": {},
   "cell_type": "markdown",
   "source": "# Iteration i bei inference nochmal anschauen. iwas stimmt nicht glaube ich",
   "id": "d447c118579dae68"
  },
  {
   "metadata": {
    "ExecuteTime": {
     "end_time": "2024-07-03T20:33:08.997718Z",
     "start_time": "2024-07-03T20:33:08.866306Z"
    }
   },
   "cell_type": "code",
   "source": [
    "from transformer_decoder_training.inference.inference_2 import inference\n",
    "\n",
    "# just do one single sequence\n",
    "for batch in test_loader:\n",
    "    # get single sequence\n",
    "    # blow it up to one batch again\n",
    "    sequence = torch.unsqueeze(batch[0], 0)\n",
    "    print(sequence.shape)\n",
    "    \n",
    "    # split into context sequence and truth sequence\n",
    "    context_seq = sequence[: ,:200]\n",
    "    continuing_seq = sequence[:, 200:]\n",
    "    \n",
    "    output_tokens, melody_output_tokens = inference(model, context_seq, continuing_seq, 0.25, pad_token, device)\n",
    "    \n",
    "    print(output_tokens)\n",
    "    print(melody_output_tokens)"
   ],
   "id": "3b8b57e56a05c503",
   "outputs": [
    {
     "name": "stdout",
     "output_type": "stream",
     "text": [
      "torch.Size([1, 513, 24])\n",
      "Next token shape: torch.Size([1, 24])\n",
      "iteration: 0\n",
      "Next token shape torch.Size([1, 24])\n",
      "ground truth shape torch.Size([1, 24])\n",
      "[tensor([[0., 0., 0., 0., 0., 0., 0., 0., 0., 0., 0., 1., 0., 0., 0., 0., 0., 0.,\n",
      "         0., 0., 0., 0., 0., 1.]], device='cuda:0')]\n",
      "[tensor([[0., 0., 0., 0., 0., 0., 0., 0., 0., 0., 0., 1.]], device='cuda:0')]\n",
      "torch.Size([1, 513, 24])\n",
      "Next token shape: torch.Size([1, 24])\n",
      "iteration: 0\n",
      "Next token shape torch.Size([1, 24])\n",
      "ground truth shape torch.Size([1, 24])\n",
      "[tensor([[0., 0., 0., 0., 0., 0., 0., 0., 0., 0., 0., 0., 0., 0., 0., 0., 0., 0., 0., 0., 0., 0., 0., 0.]],\n",
      "       device='cuda:0')]\n",
      "[tensor([[0., 0., 0., 0., 0., 0., 0., 0., 0., 0., 0., 0.]], device='cuda:0')]\n",
      "torch.Size([1, 513, 24])\n",
      "Next token shape: torch.Size([1, 24])\n",
      "iteration: 0\n",
      "Next token shape torch.Size([1, 24])\n",
      "ground truth shape torch.Size([1, 24])\n",
      "[tensor([[0., 0., 0., 0., 1., 0., 0., 0., 0., 0., 0., 0., 0., 0., 0., 0., 0., 0.,\n",
      "         0., 0., 0., 0., 0., 0.]], device='cuda:0')]\n",
      "[tensor([[0., 0., 0., 0., 1., 0., 0., 0., 0., 0., 0., 0.]], device='cuda:0')]\n",
      "torch.Size([1, 513, 24])\n",
      "Next token shape: torch.Size([1, 24])\n",
      "iteration: 0\n",
      "Next token shape torch.Size([1, 24])\n",
      "ground truth shape torch.Size([1, 24])\n",
      "[tensor([[0., 0., 0., 0., 0., 0., 0., 0., 1., 0., 0., 0., 0., 0., 1., 0., 0., 0.,\n",
      "         0., 0., 1., 0., 0., 0.]], device='cuda:0')]\n",
      "[tensor([[0., 0., 0., 0., 0., 0., 0., 0., 1., 0., 0., 0.]], device='cuda:0')]\n",
      "torch.Size([1, 513, 24])\n",
      "Next token shape: torch.Size([1, 24])\n",
      "iteration: 0\n",
      "Next token shape torch.Size([1, 24])\n",
      "ground truth shape torch.Size([1, 24])\n",
      "[tensor([[0., 0., 0., 1., 0., 0., 0., 0., 0., 0., 0., 0., 0., 0., 0., 1., 0., 0.,\n",
      "         0., 1., 0., 0., 0., 1.]], device='cuda:0')]\n",
      "[tensor([[0., 0., 0., 1., 0., 0., 0., 0., 0., 0., 0., 0.]], device='cuda:0')]\n",
      "torch.Size([1, 513, 24])\n",
      "Next token shape: torch.Size([1, 24])\n",
      "iteration: 0\n",
      "Next token shape torch.Size([1, 24])\n",
      "ground truth shape torch.Size([1, 24])\n",
      "[tensor([[0., 0., 0., 1., 0., 0., 0., 0., 0., 0., 0., 0., 0., 0., 0., 0., 0., 0.,\n",
      "         0., 0., 0., 0., 0., 0.]], device='cuda:0')]\n",
      "[tensor([[0., 0., 0., 1., 0., 0., 0., 0., 0., 0., 0., 0.]], device='cuda:0')]\n",
      "torch.Size([1, 513, 24])\n",
      "Next token shape: torch.Size([1, 24])\n",
      "iteration: 0\n",
      "Next token shape torch.Size([1, 24])\n",
      "ground truth shape torch.Size([1, 24])\n",
      "[tensor([[0., 0., 0., 0., 1., 0., 0., 0., 1., 0., 0., 1., 0., 0., 0., 0., 1., 0.,\n",
      "         0., 0., 0., 0., 0., 0.]], device='cuda:0')]\n",
      "[tensor([[0., 0., 0., 0., 1., 0., 0., 0., 1., 0., 0., 1.]], device='cuda:0')]\n",
      "torch.Size([1, 513, 24])\n",
      "Next token shape: torch.Size([1, 24])\n",
      "iteration: 0\n",
      "Next token shape torch.Size([1, 24])\n",
      "ground truth shape torch.Size([1, 24])\n",
      "[tensor([[0., 0., 0., 0., 0., 0., 0., 0., 0., 0., 0., 0., 0., 0., 0., 0., 0., 0.,\n",
      "         0., 1., 0., 0., 0., 0.]], device='cuda:0')]\n",
      "[tensor([[0., 0., 0., 0., 0., 0., 0., 0., 0., 0., 0., 0.]], device='cuda:0')]\n",
      "torch.Size([1, 513, 24])\n",
      "Next token shape: torch.Size([1, 24])\n",
      "iteration: 0\n",
      "Next token shape torch.Size([1, 24])\n",
      "ground truth shape torch.Size([1, 24])\n",
      "[tensor([[0., 0., 0., 0., 0., 0., 0., 0., 0., 0., 0., 0., 0., 0., 0., 0., 1., 0.,\n",
      "         0., 0., 0., 0., 0., 0.]], device='cuda:0')]\n",
      "[tensor([[0., 0., 0., 0., 0., 0., 0., 0., 0., 0., 0., 0.]], device='cuda:0')]\n",
      "torch.Size([1, 513, 24])\n",
      "Next token shape: torch.Size([1, 24])\n",
      "iteration: 0\n",
      "Next token shape torch.Size([1, 24])\n",
      "ground truth shape torch.Size([1, 24])\n",
      "[tensor([[0., 0., 0., 0., 0., 0., 0., 1., 0., 0., 0., 0., 0., 0., 0., 0., 0., 0.,\n",
      "         0., 1., 0., 0., 0., 0.]], device='cuda:0')]\n",
      "[tensor([[0., 0., 0., 0., 0., 0., 0., 1., 0., 0., 0., 0.]], device='cuda:0')]\n"
     ]
    }
   ],
   "execution_count": 4
  }
 ],
 "metadata": {
  "kernelspec": {
   "display_name": "Python 3",
   "language": "python",
   "name": "python3"
  },
  "language_info": {
   "codemirror_mode": {
    "name": "ipython",
    "version": 2
   },
   "file_extension": ".py",
   "mimetype": "text/x-python",
   "name": "python",
   "nbconvert_exporter": "python",
   "pygments_lexer": "ipython2",
   "version": "2.7.6"
  }
 },
 "nbformat": 4,
 "nbformat_minor": 5
}
