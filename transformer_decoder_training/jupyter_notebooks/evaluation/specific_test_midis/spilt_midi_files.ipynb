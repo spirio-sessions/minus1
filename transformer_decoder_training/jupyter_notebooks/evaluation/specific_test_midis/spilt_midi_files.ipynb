{
 "cells": [
  {
   "cell_type": "code",
   "id": "initial_id",
   "metadata": {
    "collapsed": true,
    "ExecuteTime": {
     "end_time": "2024-07-24T19:18:51.312806Z",
     "start_time": "2024-07-24T19:18:51.154187Z"
    }
   },
   "source": [
    "from data_preperation import maestro_split_hands_into_midi\n",
    "\n",
    "input_folder = \"/home/falaxdb/Repos/minus1/transformer_decoder_training/jupyter_notebooks/evaluation/specific_test_midis/split_tracks\"\n",
    "output_folder = \"/home/falaxdb/Repos/minus1/transformer_decoder_training/jupyter_notebooks/evaluation/specific_test_midis/split_into_mid\"\n",
    "\n",
    "# somehow the function does not correctly split the right_H track? Funktioniert evtl. nicht richtig mit signal.vercel dateien?\n",
    "\n",
    "maestro_split_hands_into_midi.split_midi_tracks(input_folder, output_folder, True,)\n"
   ],
   "outputs": [
    {
     "name": "stderr",
     "output_type": "stream",
     "text": [
      "Processed dataset (1/1): 100%|██████████| 1/1 [00:00<00:00,  6.63it/s]\n"
     ]
    }
   ],
   "execution_count": 5
  }
 ],
 "metadata": {
  "kernelspec": {
   "display_name": "Python 3",
   "language": "python",
   "name": "python3"
  },
  "language_info": {
   "codemirror_mode": {
    "name": "ipython",
    "version": 2
   },
   "file_extension": ".py",
   "mimetype": "text/x-python",
   "name": "python",
   "nbconvert_exporter": "python",
   "pygments_lexer": "ipython2",
   "version": "2.7.6"
  }
 },
 "nbformat": 4,
 "nbformat_minor": 5
}
