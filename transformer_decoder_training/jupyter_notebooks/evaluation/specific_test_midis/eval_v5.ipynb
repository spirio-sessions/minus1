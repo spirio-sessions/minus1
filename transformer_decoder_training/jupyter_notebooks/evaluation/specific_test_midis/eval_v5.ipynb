{
 "cells": [
  {
   "metadata": {},
   "cell_type": "markdown",
   "source": "# Evaluation with new Inference with limit of input seq length",
   "id": "ec030f036261add8"
  },
  {
   "metadata": {
    "ExecuteTime": {
     "end_time": "2024-07-28T21:44:57.112410Z",
     "start_time": "2024-07-28T21:44:55.961535Z"
    }
   },
   "cell_type": "code",
   "source": [
    "import torch\n",
    "import numpy as np\n",
    "import data_visualization.Visualization as visualization\n",
    "\n",
    "# Check if GPU is available, set device accordingly\n",
    "device = torch.device(\"cuda\" if torch.cuda.is_available() else 'cpu')"
   ],
   "id": "ef5ce9b20e352d9a",
   "outputs": [],
   "execution_count": 1
  },
  {
   "metadata": {
    "ExecuteTime": {
     "end_time": "2024-07-28T21:44:57.242717Z",
     "start_time": "2024-07-28T21:44:57.113285Z"
    }
   },
   "cell_type": "code",
   "source": [
    "# Define Data parameters\n",
    "\n",
    "sos_token = np.full((1, 24), 1)\n",
    "pad_token = np.full((1, 24), 2)\n",
    "pad_token = torch.tensor(pad_token, device=device)\n",
    "\n",
    "dataset_dir = \"/home/falaxdb/Repos/minus1/transformer_decoder_training/jupyter_notebooks/evaluation/specific_test_midis/split_into_mid\"\n",
    "snapshot_intervall = 0.05\n",
    "\n",
    "batch_size = 1\n",
    "seq_length = 1024\n",
    "stride = 128\n",
    "\n",
    "test_size=0.1"
   ],
   "id": "43f2cc461f89c22c",
   "outputs": [],
   "execution_count": 2
  },
  {
   "metadata": {
    "ExecuteTime": {
     "end_time": "2024-07-28T21:44:57.777990Z",
     "start_time": "2024-07-28T21:44:57.243288Z"
    }
   },
   "cell_type": "code",
   "source": [
    "from transformer_decoder_training.dataprep_transformer.prepare_dataloader_complete import prepare_dataset_as_single_loader\n",
    "\n",
    "# Load Data\n",
    "\n",
    "#train_loader, val_loader, test_loader = prepare_dataset_as_dataloaders(dataset_dir, snapshot_intervall, batch_size, seq_length, stride, test_size, sos_token)\n",
    "train_loader = prepare_dataset_as_single_loader(dataset_dir, snapshot_intervall, batch_size, seq_length, stride, sos_token, shuffle=False)"
   ],
   "id": "54b868baff378902",
   "outputs": [
    {
     "name": "stderr",
     "output_type": "stream",
     "text": [
      "Processed dataset (2/2): 100%|██████████| 2/2 [00:00<00:00,  4.38it/s]"
     ]
    },
    {
     "name": "stdout",
     "output_type": "stream",
     "text": [
      "Processed 2 of 2 files\n"
     ]
    },
    {
     "name": "stderr",
     "output_type": "stream",
     "text": [
      "\n"
     ]
    }
   ],
   "execution_count": 3
  },
  {
   "metadata": {
    "ExecuteTime": {
     "end_time": "2024-07-28T21:44:57.782786Z",
     "start_time": "2024-07-28T21:44:57.778943Z"
    }
   },
   "cell_type": "code",
   "source": [
    "from transformer_decoder_training.transformer_inference_eval import inference_and_visualize_1\n",
    "\n",
    "# Get sequence\n",
    "sequence = next(iter(train_loader))\n",
    "print(sequence.shape)\n",
    "\n",
    "context_seq, continuing_seq, original_seq = inference_and_visualize_1.prepare_sequence(sequence, 513)"
   ],
   "id": "4fdd51936021bf20",
   "outputs": [
    {
     "name": "stdout",
     "output_type": "stream",
     "text": [
      "torch.Size([1, 1025, 24])\n"
     ]
    }
   ],
   "execution_count": 4
  },
  {
   "metadata": {},
   "cell_type": "markdown",
   "source": [
    "# 6.1\n",
    "\n",
    "Load model"
   ],
   "id": "b27d09c83dffa1cc"
  },
  {
   "metadata": {
    "ExecuteTime": {
     "end_time": "2024-07-28T21:44:57.847625Z",
     "start_time": "2024-07-28T21:44:57.783311Z"
    }
   },
   "cell_type": "code",
   "source": [
    "# Define model Parameters\n",
    "\n",
    "# Embedding Size\n",
    "hidden_size = 256\n",
    "# Number of transformer blocks\n",
    "num_layers = 8\n",
    "# MultiheadAttention Heads\n",
    "num_heads = 8\n",
    "\n",
    "# Transformer without sigmoid output\n",
    "from transformer_decoder_training.models.transformer_decoder_2 import Transformer\n",
    "\n",
    "model = Transformer(num_emb=24, num_layers=num_layers, hidden_size=hidden_size, num_heads=num_heads).to(device)\n",
    "model.load_state_dict(torch.load(\"/home/falaxdb/Repos/minus1/transformer_decoder_training/saved_files/saved_models/model_1_notebook_v6.1.pth\"))\n",
    "model.eval()"
   ],
   "id": "87aee3837d48f8d5",
   "outputs": [
    {
     "data": {
      "text/plain": [
       "Transformer(\n",
       "  (embedding): Linear(in_features=24, out_features=256, bias=True)\n",
       "  (pos_emb): SinusoidalPosEmb()\n",
       "  (blocks): ModuleList(\n",
       "    (0-7): 8 x TransformerBlock(\n",
       "      (norm1): LayerNorm((256,), eps=1e-05, elementwise_affine=True)\n",
       "      (multihead_attn): MultiheadAttention(\n",
       "        (out_proj): NonDynamicallyQuantizableLinear(in_features=256, out_features=256, bias=True)\n",
       "      )\n",
       "      (norm2): LayerNorm((256,), eps=1e-05, elementwise_affine=True)\n",
       "      (mlp): Sequential(\n",
       "        (0): Linear(in_features=256, out_features=1024, bias=True)\n",
       "        (1): ELU(alpha=1.0)\n",
       "        (2): Linear(in_features=1024, out_features=256, bias=True)\n",
       "      )\n",
       "    )\n",
       "  )\n",
       "  (fc_out): Linear(in_features=256, out_features=24, bias=True)\n",
       ")"
      ]
     },
     "execution_count": 5,
     "metadata": {},
     "output_type": "execute_result"
    }
   ],
   "execution_count": 5
  },
  {
   "metadata": {},
   "cell_type": "markdown",
   "source": "## Inference",
   "id": "3372a0c8bafd8879"
  },
  {
   "metadata": {
    "ExecuteTime": {
     "end_time": "2024-07-28T21:44:57.849828Z",
     "start_time": "2024-07-28T21:44:57.848174Z"
    }
   },
   "cell_type": "code",
   "source": "midi_save_dir = \"/home/falaxdb/Repos/minus1/transformer_decoder_training/saved_files/midi_outputs/notebook_6/6.1\"",
   "id": "d2290fd64d97885f",
   "outputs": [],
   "execution_count": 6
  },
  {
   "metadata": {
    "ExecuteTime": {
     "end_time": "2024-07-28T21:44:58.857682Z",
     "start_time": "2024-07-28T21:44:57.850266Z"
    }
   },
   "cell_type": "code",
   "source": [
    "# inference with threshold\n",
    "\n",
    "from transformer_decoder_training.inference import inference_5\n",
    "\n",
    "tokens_with_truth, token_probs = inference_5.inference(model, context_seq, continuing_seq, 0.17, pad_token, 513, device)\n",
    "\n",
    "generated_sequence = inference_and_visualize_1.combine_output_with_context(tokens_with_truth, context_seq)\n",
    "\n",
    "inference_and_visualize_1.inference_output_to_midi_one_octave(original_seq, context_seq, generated_sequence, 0.05, midi_save_dir, \"limited_input_seq.mid\")\n"
   ],
   "id": "d79328bb513fb2a",
   "outputs": [
    {
     "name": "stdout",
     "output_type": "stream",
     "text": [
      "Tokens to generate: 512\n",
      "Binary Tensors after concatinating:  torch.Size([512, 24])\n",
      "Binary Tensors after unsqueezing:  torch.Size([1, 512, 24])\n",
      "Context sequence + Generated tokens:  torch.Size([1, 1025, 24])\n",
      "MIDI file saved to /home/falaxdb/Repos/minus1/transformer_decoder_training/saved_files/midi_outputs/notebook_6/6.1/limited_input_seq.mid\n"
     ]
    }
   ],
   "execution_count": 7
  }
 ],
 "metadata": {
  "kernelspec": {
   "display_name": "Python 3",
   "language": "python",
   "name": "python3"
  },
  "language_info": {
   "codemirror_mode": {
    "name": "ipython",
    "version": 2
   },
   "file_extension": ".py",
   "mimetype": "text/x-python",
   "name": "python",
   "nbconvert_exporter": "python",
   "pygments_lexer": "ipython2",
   "version": "2.7.6"
  }
 },
 "nbformat": 4,
 "nbformat_minor": 5
}
