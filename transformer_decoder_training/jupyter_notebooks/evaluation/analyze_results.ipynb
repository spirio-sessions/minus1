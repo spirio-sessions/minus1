{
 "cells": [
  {
   "cell_type": "code",
   "id": "initial_id",
   "metadata": {
    "collapsed": true,
    "ExecuteTime": {
     "end_time": "2024-08-26T22:06:57.613408Z",
     "start_time": "2024-08-26T22:06:56.732931Z"
    }
   },
   "source": "import transformer_decoder_training.analyze_results_functions as analyze",
   "outputs": [],
   "execution_count": 1
  },
  {
   "metadata": {
    "ExecuteTime": {
     "end_time": "2024-08-26T22:06:58.713104Z",
     "start_time": "2024-08-26T22:06:58.706465Z"
    }
   },
   "cell_type": "code",
   "source": "projects_dir = \"/home/falaxdb/Repos/minus1/transformer_decoder_training/saved_files/saved_models\"",
   "id": "e2cf047ef6bd99",
   "outputs": [],
   "execution_count": 2
  },
  {
   "metadata": {
    "ExecuteTime": {
     "end_time": "2024-08-26T22:06:59.780585Z",
     "start_time": "2024-08-26T22:06:59.765578Z"
    }
   },
   "cell_type": "code",
   "source": [
    "# Analyze validation improvements\n",
    "analyze.compute_val_loss_improvement(projects_dir)\n"
   ],
   "id": "7400f987f3f1298c",
   "outputs": [
    {
     "name": "stdout",
     "output_type": "stream",
     "text": [
      "Found 14 projects\n",
      "Project transformer_01: First Val Loss = 0.17600, Best Val Loss = 0.16200, Improvement = 7.9545%\n",
      "Project transformer_0.2: First Val Loss = 0.15200, Best Val Loss = 0.14400, Improvement = 5.2632%\n",
      "Project transformer_0.3: First Val Loss = 0.14700, Best Val Loss = 0.14700, Improvement = 0.0000%\n",
      "Project transformer_0.4: First Val Loss = 0.17300, Best Val Loss = 0.16900, Improvement = 2.3121%\n",
      "Project transformer_0.5: First Val Loss = 0.19500, Best Val Loss = 0.19200, Improvement = 1.5385%\n",
      "Project transformer_1.2: First Val Loss = 0.19200, Best Val Loss = 0.19000, Improvement = 1.0417%\n",
      "Project transformer_1.0: First Val Loss = 0.16500, Best Val Loss = 0.14500, Improvement = 12.1212%\n",
      "Project transformer_1.1: First Val Loss = 0.16300, Best Val Loss = 0.13800, Improvement = 15.3374%\n",
      "Project transformer_1.3: First Val Loss = 0.16500, Best Val Loss = 0.14700, Improvement = 10.9091%\n",
      "Project transformer_1.4: First Val Loss = 0.16800, Best Val Loss = 0.14900, Improvement = 11.3095%\n",
      "Project transformer_1.5: First Val Loss = 0.16000, Best Val Loss = 0.14400, Improvement = 10.0000%\n",
      "Project transformer_1.6: First Val Loss = 0.16600, Best Val Loss = 0.14900, Improvement = 10.2410%\n",
      "Project transformer_1.7: First Val Loss = 0.17400, Best Val Loss = 0.14000, Improvement = 19.5402%\n",
      "Project transformer_2.0: First Val Loss = 0.03500, Best Val Loss = 0.02900, Improvement = 17.1429%\n"
     ]
    }
   ],
   "execution_count": 3
  }
 ],
 "metadata": {
  "kernelspec": {
   "display_name": "Python 3",
   "language": "python",
   "name": "python3"
  },
  "language_info": {
   "codemirror_mode": {
    "name": "ipython",
    "version": 2
   },
   "file_extension": ".py",
   "mimetype": "text/x-python",
   "name": "python",
   "nbconvert_exporter": "python",
   "pygments_lexer": "ipython2",
   "version": "2.7.6"
  }
 },
 "nbformat": 4,
 "nbformat_minor": 5
}
