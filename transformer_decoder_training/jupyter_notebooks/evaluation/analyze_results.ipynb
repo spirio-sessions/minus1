{
 "cells": [
  {
   "cell_type": "code",
   "id": "initial_id",
   "metadata": {
    "collapsed": true,
    "ExecuteTime": {
     "end_time": "2024-09-03T01:11:59.185486Z",
     "start_time": "2024-09-03T01:11:58.567984Z"
    }
   },
   "source": [
    "from pathlib import Path\n",
    "import torch\n",
    "\n",
    "import transformer_decoder_training.analyze_results_functions as analyze"
   ],
   "outputs": [],
   "execution_count": 1
  },
  {
   "metadata": {
    "ExecuteTime": {
     "end_time": "2024-09-03T01:11:59.229741Z",
     "start_time": "2024-09-03T01:11:59.186317Z"
    }
   },
   "cell_type": "code",
   "source": [
    "projects_dir = \"/home/falaxdb/Repos/minus1/transformer_decoder_training/saved_files/saved_models\"\n",
    "\n",
    "device = torch.device(\"cuda\" if torch.cuda.is_available() else 'cpu')"
   ],
   "id": "e2cf047ef6bd99",
   "outputs": [],
   "execution_count": 2
  },
  {
   "metadata": {},
   "cell_type": "markdown",
   "source": "## Finde modell mit bester Val loss veränderung",
   "id": "f2a7773dce47d3f8"
  },
  {
   "metadata": {
    "ExecuteTime": {
     "end_time": "2024-09-03T01:11:59.244797Z",
     "start_time": "2024-09-03T01:11:59.230145Z"
    }
   },
   "cell_type": "code",
   "source": [
    "# test harmony scoring\n",
    "import transformer_decoder_training.music_score_computation as music_score\n",
    "\n",
    "\n",
    "# Test case 1: Perfect fifth\n",
    "snapshot1 = [1, 0, 0, 0, 0, 0, 0, 1, 0, 0, 0, 0]  # Notes C and G (0 and 7 semitones)\n",
    "print(music_score.detect_harmony_and_disharmony_score(snapshot1))\n",
    "\n",
    "# Test case 2: Major triad\n",
    "snapshot2 = [1, 0, 0, 0, 1, 0, 0, 1, 0, 0, 0, 0]  # Notes C, E, G (0, 4, 7 semitones)\n",
    "print(music_score.detect_harmony_and_disharmony_score(snapshot2))\n",
    "\n",
    "# Test case 3: Dissonant interval\n",
    "snapshot3 = [1, 1, 0, 0, 0, 0, 0, 0, 0, 0, 0, 0]  # Notes C and C# (0 and 1 semitones)\n",
    "print(music_score.detect_harmony_and_disharmony_score(snapshot3))\n",
    "\n",
    "# Test case 4: Combination of harmony and dissonance\n",
    "snapshot4 = [1, 0, 0, 0, 0, 0, 1, 1, 0, 0, 0, 0]  # Notes C, F#, G (0, 6, 7 semitones)\n",
    "print(music_score.detect_harmony_and_disharmony_score(snapshot4))\n",
    "\n",
    "# Test case 5: All notes active\n",
    "result = music_score.detect_harmony_and_disharmony_score([1, 1, 1, 1, 1, 1, 1, 1, 1, 1, 1, 1])\n",
    "print(result)\n"
   ],
   "id": "612091025515d4e4",
   "outputs": [
    {
     "name": "stdout",
     "output_type": "stream",
     "text": [
      "{'harmony_score': 0, 'disharmony_score': 0}\n",
      "{'harmony_score': 4, 'disharmony_score': 0}\n",
      "{'harmony_score': 0, 'disharmony_score': 1}\n",
      "{'harmony_score': 0, 'disharmony_score': 2}\n",
      "{'harmony_score': 0, 'disharmony_score': 3}\n"
     ]
    }
   ],
   "execution_count": 3
  },
  {
   "metadata": {
    "ExecuteTime": {
     "end_time": "2024-09-03T01:11:59.256030Z",
     "start_time": "2024-09-03T01:11:59.245642Z"
    }
   },
   "cell_type": "code",
   "source": [
    "# Analyze validation improvements\n",
    "improvements = analyze.compute_val_loss_improvement(projects_dir)\n",
    "\n",
    "print(\"==============\")\n",
    "print(improvements)"
   ],
   "id": "7400f987f3f1298c",
   "outputs": [
    {
     "name": "stdout",
     "output_type": "stream",
     "text": [
      "Found 23 projects\n",
      "Project transformer_1.9: First Val Loss = 0.3000, Best Val Loss = 0.1295 (Epoch 179), Improvement = 56.82%\n",
      "Project transformer_1.10: First Val Loss = 0.3236, Best Val Loss = 0.1675 (Epoch 200), Improvement = 48.24%\n",
      "Project transformer_1.12: First Val Loss = 0.1270, Best Val Loss = 0.1003 (Epoch 17), Improvement = 20.95%\n",
      "Project transformer_1.11: First Val Loss = 0.1237, Best Val Loss = 0.0982 (Epoch 9), Improvement = 20.64%\n",
      "Project transformer_1.7: First Val Loss = 0.1740, Best Val Loss = 0.1400 (Epoch 63), Improvement = 19.54%\n",
      "Project transformer_1.11_overfitted: First Val Loss = 0.1171, Best Val Loss = 0.0947 (Epoch 9), Improvement = 19.12%\n",
      "Project transformer_2.0: First Val Loss = 0.0350, Best Val Loss = 0.0290 (Epoch 14), Improvement = 17.14%\n",
      "Project transformer_1.1: First Val Loss = 0.1630, Best Val Loss = 0.1380 (Epoch 12), Improvement = 15.34%\n",
      "Project transformer_1.0: First Val Loss = 0.1650, Best Val Loss = 0.1450 (Epoch 12), Improvement = 12.12%\n",
      "Project transformer_1.4: First Val Loss = 0.1680, Best Val Loss = 0.1490 (Epoch 16), Improvement = 11.31%\n",
      "Project transformer_1.3: First Val Loss = 0.1650, Best Val Loss = 0.1470 (Epoch 7), Improvement = 10.91%\n",
      "Project transformer_1.6: First Val Loss = 0.1660, Best Val Loss = 0.1490 (Epoch 9), Improvement = 10.24%\n",
      "Project transformer_1.5: First Val Loss = 0.1600, Best Val Loss = 0.1440 (Epoch 5), Improvement = 10.00%\n",
      "Project transformer_01: First Val Loss = 0.1760, Best Val Loss = 0.1620 (Epoch 19), Improvement = 7.95%\n",
      "Project transformer_0.2: First Val Loss = 0.1520, Best Val Loss = 0.1440 (Epoch 3), Improvement = 5.26%\n",
      "Project transformer_1.8: First Val Loss = 0.2319, Best Val Loss = 0.2234 (Epoch 8), Improvement = 3.65%\n",
      "Project transformer_3.2: First Val Loss = 0.8458, Best Val Loss = 0.8220 (Epoch 17), Improvement = 2.81%\n",
      "Project transformer_3.1: First Val Loss = 1.1650, Best Val Loss = 1.1373 (Epoch 63), Improvement = 2.37%\n",
      "Project transformer_0.4: First Val Loss = 0.1730, Best Val Loss = 0.1690 (Epoch 7), Improvement = 2.31%\n",
      "Project transformer_3.0: First Val Loss = 1.1025, Best Val Loss = 1.0805 (Epoch 9), Improvement = 1.99%\n",
      "Project transformer_0.5: First Val Loss = 0.1950, Best Val Loss = 0.1920 (Epoch 12), Improvement = 1.54%\n",
      "Project transformer_1.2: First Val Loss = 0.1920, Best Val Loss = 0.1900 (Epoch 7), Improvement = 1.04%\n",
      "Project transformer_0.3: First Val Loss = 0.1470, Best Val Loss = 0.1470 (Epoch 1), Improvement = 0.00%\n",
      "==============\n",
      "[{'project_name': 'transformer_1.9', 'first_val_loss': 0.30001, 'best_val_loss': 0.12953, 'best_epoch': 179, 'improvement': 56.82477250758308}, {'project_name': 'transformer_1.10', 'first_val_loss': 0.32358, 'best_val_loss': 0.1675, 'best_epoch': 200, 'improvement': 48.23536683354966}, {'project_name': 'transformer_1.12', 'first_val_loss': 0.12695, 'best_val_loss': 0.10035, 'best_epoch': 17, 'improvement': 20.953131153997646}, {'project_name': 'transformer_1.11', 'first_val_loss': 0.12368, 'best_val_loss': 0.09815, 'best_epoch': 9, 'improvement': 20.641979301423024}, {'project_name': 'transformer_1.7', 'first_val_loss': 0.174, 'best_val_loss': 0.14, 'best_epoch': 63, 'improvement': 19.540229885057457}, {'project_name': 'transformer_1.11_overfitted', 'first_val_loss': 0.11709, 'best_val_loss': 0.0947, 'best_epoch': 9, 'improvement': 19.122042873003668}, {'project_name': 'transformer_2.0', 'first_val_loss': 0.035, 'best_val_loss': 0.029, 'best_epoch': 14, 'improvement': 17.142857142857146}, {'project_name': 'transformer_1.1', 'first_val_loss': 0.163, 'best_val_loss': 0.138, 'best_epoch': 12, 'improvement': 15.33742331288343}, {'project_name': 'transformer_1.0', 'first_val_loss': 0.165, 'best_val_loss': 0.145, 'best_epoch': 12, 'improvement': 12.121212121212132}, {'project_name': 'transformer_1.4', 'first_val_loss': 0.168, 'best_val_loss': 0.149, 'best_epoch': 16, 'improvement': 11.309523809523819}, {'project_name': 'transformer_1.3', 'first_val_loss': 0.165, 'best_val_loss': 0.147, 'best_epoch': 7, 'improvement': 10.909090909090919}, {'project_name': 'transformer_1.6', 'first_val_loss': 0.166, 'best_val_loss': 0.149, 'best_epoch': 9, 'improvement': 10.240963855421695}, {'project_name': 'transformer_1.5', 'first_val_loss': 0.16, 'best_val_loss': 0.144, 'best_epoch': 5, 'improvement': 10.000000000000009}, {'project_name': 'transformer_01', 'first_val_loss': 0.176, 'best_val_loss': 0.162, 'best_epoch': 19, 'improvement': 7.954545454545446}, {'project_name': 'transformer_0.2', 'first_val_loss': 0.152, 'best_val_loss': 0.144, 'best_epoch': 3, 'improvement': 5.263157894736847}, {'project_name': 'transformer_1.8', 'first_val_loss': 0.23187, 'best_val_loss': 0.22341, 'best_epoch': 8, 'improvement': 3.6485961961443896}, {'project_name': 'transformer_3.2', 'first_val_loss': 0.84581, 'best_val_loss': 0.82205, 'best_epoch': 17, 'improvement': 2.8091415329683977}, {'project_name': 'transformer_3.1', 'first_val_loss': 1.16498, 'best_val_loss': 1.13733, 'best_epoch': 63, 'improvement': 2.373431303541688}, {'project_name': 'transformer_0.4', 'first_val_loss': 0.173, 'best_val_loss': 0.169, 'best_epoch': 7, 'improvement': 2.312138728323686}, {'project_name': 'transformer_3.0', 'first_val_loss': 1.10249, 'best_val_loss': 1.08055, 'best_epoch': 9, 'improvement': 1.990040725992986}, {'project_name': 'transformer_0.5', 'first_val_loss': 0.195, 'best_val_loss': 0.192, 'best_epoch': 12, 'improvement': 1.5384615384615397}, {'project_name': 'transformer_1.2', 'first_val_loss': 0.192, 'best_val_loss': 0.19, 'best_epoch': 7, 'improvement': 1.0416666666666676}, {'project_name': 'transformer_0.3', 'first_val_loss': 0.147, 'best_val_loss': 0.147, 'best_epoch': 1, 'improvement': 0.0}]\n"
     ]
    }
   ],
   "execution_count": 4
  },
  {
   "metadata": {
    "ExecuteTime": {
     "end_time": "2024-09-03T01:12:02.095401Z",
     "start_time": "2024-09-03T01:11:59.257202Z"
    }
   },
   "cell_type": "code",
   "source": [
    "\n",
    "analyze.analyze_all_projects(projects_dir)"
   ],
   "id": "2a717da63312878c",
   "outputs": [
    {
     "name": "stdout",
     "output_type": "stream",
     "text": [
      "Found 23 projects\n",
      "analyzing project transformer_01\n",
      "Analyzing threshold_02...\n",
      "  Processing file: simple_test_configuration.json\n",
      "  Processing file: short_cord_progression_configuration.json\n",
      "  Processing file: moritz_maria_configuration.json\n",
      "  Processing file: raindrop_prelude_configuration.json\n",
      "Evaluation results saved to /home/falaxdb/Repos/minus1/transformer_decoder_training/saved_files/saved_models/transformer_01/music_evaluation.json\n",
      "analyzing project transformer_0.2\n",
      "Analyzing threshold_02...\n",
      "  Processing file: simple_test_configuration.json\n",
      "  Processing file: short_cord_progression_configuration.json\n",
      "  Processing file: moritz_maria_configuration.json\n",
      "  Processing file: raindrop_prelude_configuration.json\n",
      "Evaluation results saved to /home/falaxdb/Repos/minus1/transformer_decoder_training/saved_files/saved_models/transformer_0.2/music_evaluation.json\n",
      "analyzing project transformer_0.3\n",
      "Analyzing threshold_02...\n",
      "  Processing file: simple_test_configuration.json\n",
      "  Processing file: short_cord_progression_configuration.json\n",
      "  Processing file: moritz_maria_configuration.json\n",
      "  Processing file: raindrop_prelude_configuration.json\n",
      "Evaluation results saved to /home/falaxdb/Repos/minus1/transformer_decoder_training/saved_files/saved_models/transformer_0.3/music_evaluation.json\n",
      "analyzing project transformer_0.4\n",
      "Analyzing threshold_02...\n",
      "  Processing file: simple_test_configuration.json\n",
      "  Processing file: short_cord_progression_configuration.json\n",
      "  Processing file: moritz_maria_configuration.json\n",
      "  Processing file: raindrop_prelude_configuration.json\n",
      "Evaluation results saved to /home/falaxdb/Repos/minus1/transformer_decoder_training/saved_files/saved_models/transformer_0.4/music_evaluation.json\n",
      "analyzing project transformer_0.5\n",
      "Analyzing threshold_02...\n",
      "  Processing file: simple_test_configuration.json\n",
      "  Processing file: short_cord_progression_configuration.json\n",
      "  Processing file: moritz_maria_configuration.json\n",
      "  Processing file: raindrop_prelude_configuration.json\n",
      "Evaluation results saved to /home/falaxdb/Repos/minus1/transformer_decoder_training/saved_files/saved_models/transformer_0.5/music_evaluation.json\n",
      "analyzing project transformer_1.2\n",
      "Analyzing threshold_02...\n",
      "  Processing file: simple_test_configuration.json\n",
      "  Processing file: short_cord_progression_configuration.json\n",
      "  Processing file: moritz_maria_configuration.json\n",
      "  Processing file: raindrop_prelude_configuration.json\n",
      "Evaluation results saved to /home/falaxdb/Repos/minus1/transformer_decoder_training/saved_files/saved_models/transformer_1.2/music_evaluation.json\n",
      "analyzing project transformer_1.0\n",
      "Analyzing threshold_02...\n",
      "  Processing file: simple_test_configuration.json\n",
      "  Processing file: short_cord_progression_configuration.json\n",
      "  Processing file: moritz_maria_configuration.json\n",
      "  Processing file: raindrop_prelude_configuration.json\n",
      "Evaluation results saved to /home/falaxdb/Repos/minus1/transformer_decoder_training/saved_files/saved_models/transformer_1.0/music_evaluation.json\n",
      "analyzing project transformer_1.1\n",
      "Analyzing threshold_02...\n",
      "  Processing file: simple_test_configuration.json\n",
      "  Processing file: short_cord_progression_configuration.json\n",
      "  Processing file: moritz_maria_configuration.json\n",
      "  Processing file: raindrop_prelude_configuration.json\n",
      "Evaluation results saved to /home/falaxdb/Repos/minus1/transformer_decoder_training/saved_files/saved_models/transformer_1.1/music_evaluation.json\n",
      "analyzing project transformer_1.3\n",
      "Analyzing threshold_02...\n",
      "  Processing file: simple_test_configuration.json\n",
      "  Processing file: short_cord_progression_configuration.json\n",
      "  Processing file: moritz_maria_configuration.json\n",
      "  Processing file: raindrop_prelude_configuration.json\n",
      "Evaluation results saved to /home/falaxdb/Repos/minus1/transformer_decoder_training/saved_files/saved_models/transformer_1.3/music_evaluation.json\n",
      "analyzing project transformer_1.4\n",
      "Analyzing threshold_02...\n",
      "  Processing file: simple_test_configuration.json\n",
      "  Processing file: short_cord_progression_configuration.json\n",
      "  Processing file: moritz_maria_configuration.json\n",
      "  Processing file: raindrop_prelude_configuration.json\n",
      "Evaluation results saved to /home/falaxdb/Repos/minus1/transformer_decoder_training/saved_files/saved_models/transformer_1.4/music_evaluation.json\n",
      "analyzing project transformer_1.5\n",
      "Analyzing threshold_02...\n",
      "  Processing file: simple_test_configuration.json\n",
      "  Processing file: short_cord_progression_configuration.json\n",
      "  Processing file: moritz_maria_configuration.json\n",
      "  Processing file: raindrop_prelude_configuration.json\n",
      "Evaluation results saved to /home/falaxdb/Repos/minus1/transformer_decoder_training/saved_files/saved_models/transformer_1.5/music_evaluation.json\n",
      "analyzing project transformer_1.6\n",
      "Analyzing threshold_02...\n",
      "  Processing file: simple_test_configuration.json\n",
      "  Processing file: short_cord_progression_configuration.json\n",
      "  Processing file: moritz_maria_configuration.json\n",
      "  Processing file: raindrop_prelude_configuration.json\n",
      "Evaluation results saved to /home/falaxdb/Repos/minus1/transformer_decoder_training/saved_files/saved_models/transformer_1.6/music_evaluation.json\n",
      "analyzing project transformer_1.7\n",
      "Analyzing threshold_02...\n",
      "  Processing file: simple_test_configuration.json\n",
      "  Processing file: short_cord_progression_configuration.json\n",
      "  Processing file: moritz_maria_configuration.json\n",
      "  Processing file: raindrop_prelude_configuration.json\n",
      "Evaluation results saved to /home/falaxdb/Repos/minus1/transformer_decoder_training/saved_files/saved_models/transformer_1.7/music_evaluation.json\n",
      "analyzing project transformer_2.0\n",
      "Analyzing threshold_02...\n",
      "  Processing file: simple_test_configuration.json\n",
      "  Processing file: short_cord_progression_configuration.json\n",
      "  Processing file: moritz_maria_configuration.json\n",
      "  Processing file: raindrop_prelude_configuration.json\n",
      "Evaluation results saved to /home/falaxdb/Repos/minus1/transformer_decoder_training/saved_files/saved_models/transformer_2.0/music_evaluation.json\n",
      "analyzing project transformer_1.9\n",
      "Analyzing threshold_02...\n",
      "  Processing file: simple_test_configuration.json\n",
      "  Processing file: short_cord_progression_configuration.json\n",
      "  Processing file: moritz_maria_configuration.json\n",
      "  Processing file: raindrop_prelude_configuration.json\n",
      "Evaluation results saved to /home/falaxdb/Repos/minus1/transformer_decoder_training/saved_files/saved_models/transformer_1.9/music_evaluation.json\n",
      "analyzing project transformer_3.0\n",
      "Analyzing threshold_02...\n",
      "  Processing file: simple_test_configuration.json\n",
      "  Processing file: short_cord_progression_configuration.json\n",
      "  Processing file: moritz_maria_configuration.json\n",
      "  Processing file: raindrop_prelude_configuration.json\n",
      "Evaluation results saved to /home/falaxdb/Repos/minus1/transformer_decoder_training/saved_files/saved_models/transformer_3.0/music_evaluation.json\n",
      "analyzing project transformer_3.1\n",
      "Analyzing threshold_02...\n",
      "  Processing file: simple_test_configuration.json\n",
      "  Processing file: short_cord_progression_configuration.json\n",
      "  Processing file: moritz_maria_configuration.json\n",
      "  Processing file: raindrop_prelude_configuration.json\n",
      "Evaluation results saved to /home/falaxdb/Repos/minus1/transformer_decoder_training/saved_files/saved_models/transformer_3.1/music_evaluation.json\n",
      "analyzing project transformer_1.10\n",
      "Analyzing threshold_02...\n",
      "  Processing file: simple_test_configuration.json\n",
      "  Processing file: short_cord_progression_configuration.json\n",
      "  Processing file: moritz_maria_configuration.json\n",
      "  Processing file: raindrop_prelude_configuration.json\n",
      "Evaluation results saved to /home/falaxdb/Repos/minus1/transformer_decoder_training/saved_files/saved_models/transformer_1.10/music_evaluation.json\n",
      "analyzing project transformer_1.8\n",
      "Analyzing threshold_02...\n",
      "  Processing file: simple_test_configuration.json\n",
      "  Processing file: short_cord_progression_configuration.json\n",
      "  Processing file: moritz_maria_configuration.json\n",
      "  Processing file: raindrop_prelude_configuration.json\n",
      "Evaluation results saved to /home/falaxdb/Repos/minus1/transformer_decoder_training/saved_files/saved_models/transformer_1.8/music_evaluation.json\n",
      "analyzing project transformer_1.11\n",
      "Analyzing threshold_02...\n",
      "  Processing file: simple_test_configuration.json\n",
      "  Processing file: short_cord_progression_configuration.json\n",
      "  Processing file: moritz_maria_configuration.json\n",
      "  Processing file: raindrop_prelude_configuration.json\n",
      "Evaluation results saved to /home/falaxdb/Repos/minus1/transformer_decoder_training/saved_files/saved_models/transformer_1.11/music_evaluation.json\n",
      "analyzing project transformer_3.2\n",
      "Analyzing threshold_02...\n",
      "  Processing file: simple_test_configuration.json\n",
      "  Processing file: short_cord_progression_configuration.json\n",
      "  Processing file: moritz_maria_configuration.json\n",
      "  Processing file: raindrop_prelude_configuration.json\n",
      "Evaluation results saved to /home/falaxdb/Repos/minus1/transformer_decoder_training/saved_files/saved_models/transformer_3.2/music_evaluation.json\n",
      "analyzing project transformer_1.12\n",
      "Analyzing threshold_02...\n",
      "  Processing file: simple_test_configuration.json\n",
      "  Processing file: short_cord_progression_configuration.json\n",
      "  Processing file: moritz_maria_configuration.json\n",
      "  Processing file: raindrop_prelude_configuration.json\n",
      "Evaluation results saved to /home/falaxdb/Repos/minus1/transformer_decoder_training/saved_files/saved_models/transformer_1.12/music_evaluation.json\n",
      "analyzing project transformer_1.11_overfitted\n",
      "Analyzing threshold_02...\n",
      "  Processing file: simple_test_configuration.json\n",
      "  Processing file: short_cord_progression_configuration.json\n",
      "  Processing file: moritz_maria_configuration.json\n",
      "  Processing file: raindrop_prelude_configuration.json\n",
      "Evaluation results saved to /home/falaxdb/Repos/minus1/transformer_decoder_training/saved_files/saved_models/transformer_1.11_overfitted/music_evaluation.json\n"
     ]
    }
   ],
   "execution_count": 5
  }
 ],
 "metadata": {
  "kernelspec": {
   "display_name": "Python 3",
   "language": "python",
   "name": "python3"
  },
  "language_info": {
   "codemirror_mode": {
    "name": "ipython",
    "version": 2
   },
   "file_extension": ".py",
   "mimetype": "text/x-python",
   "name": "python",
   "nbconvert_exporter": "python",
   "pygments_lexer": "ipython2",
   "version": "2.7.6"
  }
 },
 "nbformat": 4,
 "nbformat_minor": 5
}
