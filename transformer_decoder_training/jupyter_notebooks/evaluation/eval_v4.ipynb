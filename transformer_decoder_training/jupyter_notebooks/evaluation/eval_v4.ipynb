{
 "cells": [
  {
   "metadata": {},
   "cell_type": "markdown",
   "source": "In this notebook i try multiple different methods to have more variance in inference",
   "id": "62e8515c3a5f4ab7"
  },
  {
   "metadata": {},
   "cell_type": "markdown",
   "source": "## Get data",
   "id": "12fe7c2313b40cb0"
  },
  {
   "metadata": {
    "ExecuteTime": {
     "end_time": "2024-07-21T21:29:32.820179Z",
     "start_time": "2024-07-21T21:29:32.205387Z"
    }
   },
   "cell_type": "code",
   "source": [
    "import torch\n",
    "import numpy as np\n",
    "\n",
    "# Check if GPU is available, set device accordingly\n",
    "device = torch.device(\"cuda\" if torch.cuda.is_available() else 'cpu')"
   ],
   "id": "4b1667eb2f16b770",
   "outputs": [],
   "execution_count": 1
  },
  {
   "metadata": {
    "ExecuteTime": {
     "end_time": "2024-07-21T21:29:32.946791Z",
     "start_time": "2024-07-21T21:29:32.820813Z"
    }
   },
   "cell_type": "code",
   "source": [
    "# Define Data parameters\n",
    "\n",
    "sos_token = np.full((1, 24), 1)\n",
    "pad_token = np.full((1, 24), 2)\n",
    "pad_token = torch.tensor(pad_token, device=device)\n",
    "\n",
    "dataset_dir = \"/home/falaxdb/Repos/minus1/datasets/maestro_v3_split/hands_split_into_seperate_midis\"\n",
    "snapshot_intervall = 0.05\n",
    "\n",
    "batch_size = 64\n",
    "seq_length = 512\n",
    "stride = 256\n",
    "\n",
    "test_size=0.3"
   ],
   "id": "785e08d4fcf266fb",
   "outputs": [],
   "execution_count": 2
  },
  {
   "metadata": {
    "ExecuteTime": {
     "end_time": "2024-07-21T21:29:35.648871Z",
     "start_time": "2024-07-21T21:29:32.947399Z"
    }
   },
   "cell_type": "code",
   "source": [
    "from transformer_decoder_training.dataprep_transformer.prepare_dataloader_complete import prepare_dataset_as_dataloaders\n",
    "\n",
    "# Load Data\n",
    "\n",
    "train_loader, val_loader, test_loader = prepare_dataset_as_dataloaders(dataset_dir, snapshot_intervall, batch_size, seq_length, stride, test_size, sos_token, amount=20)"
   ],
   "id": "b06d4da597cfde23",
   "outputs": [
    {
     "name": "stderr",
     "output_type": "stream",
     "text": [
      "Processed dataset (40/40): 100%|██████████| 40/40 [00:01<00:00, 34.31it/s]\n"
     ]
    },
    {
     "name": "stdout",
     "output_type": "stream",
     "text": [
      "Processed 40 of 40 files\n"
     ]
    }
   ],
   "execution_count": 3
  },
  {
   "metadata": {},
   "cell_type": "markdown",
   "source": "## Load model",
   "id": "27ef84cf773e9592"
  },
  {
   "metadata": {
    "ExecuteTime": {
     "end_time": "2024-07-21T21:29:35.698414Z",
     "start_time": "2024-07-21T21:29:35.649747Z"
    }
   },
   "cell_type": "code",
   "source": [
    "# Define model Parameters\n",
    "\n",
    "# Embedding Size\n",
    "hidden_size = 256\n",
    "# Number of transformer blocks\n",
    "num_layers = 8\n",
    "# MultiheadAttention Heads\n",
    "num_heads = 8\n",
    "\n",
    "# Transformer without sigmoid output\n",
    "from transformer_decoder_training.models.transformer_decoder_2 import Transformer\n",
    "\n",
    "model = Transformer(num_emb=24, num_layers=num_layers, hidden_size=hidden_size, num_heads=num_heads).to(device)\n",
    "model.load_state_dict(torch.load(\"/home/falaxdb/Repos/minus1/transformer_decoder_training/saved_files/saved_models/model_1_notebook_v6_no_sigmoid.pth\"))\n",
    "model.eval()"
   ],
   "id": "4263942396e8502f",
   "outputs": [
    {
     "data": {
      "text/plain": [
       "Transformer(\n",
       "  (embedding): Linear(in_features=24, out_features=256, bias=True)\n",
       "  (pos_emb): SinusoidalPosEmb()\n",
       "  (blocks): ModuleList(\n",
       "    (0-7): 8 x TransformerBlock(\n",
       "      (norm1): LayerNorm((256,), eps=1e-05, elementwise_affine=True)\n",
       "      (multihead_attn): MultiheadAttention(\n",
       "        (out_proj): NonDynamicallyQuantizableLinear(in_features=256, out_features=256, bias=True)\n",
       "      )\n",
       "      (norm2): LayerNorm((256,), eps=1e-05, elementwise_affine=True)\n",
       "      (mlp): Sequential(\n",
       "        (0): Linear(in_features=256, out_features=1024, bias=True)\n",
       "        (1): ELU(alpha=1.0)\n",
       "        (2): Linear(in_features=1024, out_features=256, bias=True)\n",
       "      )\n",
       "    )\n",
       "  )\n",
       "  (fc_out): Linear(in_features=256, out_features=24, bias=True)\n",
       "  (sigmoid): Sigmoid()\n",
       ")"
      ]
     },
     "execution_count": 4,
     "metadata": {},
     "output_type": "execute_result"
    }
   ],
   "execution_count": 4
  }
 ],
 "metadata": {
  "kernelspec": {
   "display_name": "Python 3",
   "language": "python",
   "name": "python3"
  },
  "language_info": {
   "codemirror_mode": {
    "name": "ipython",
    "version": 2
   },
   "file_extension": ".py",
   "mimetype": "text/x-python",
   "name": "python",
   "nbconvert_exporter": "python",
   "pygments_lexer": "ipython2",
   "version": "2.7.6"
  }
 },
 "nbformat": 4,
 "nbformat_minor": 5
}
