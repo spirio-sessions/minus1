{
 "cells": [
  {
   "metadata": {},
   "cell_type": "markdown",
   "source": "# Notebook to test several inference methods",
   "id": "931cf97a4121bebe"
  },
  {
   "metadata": {},
   "cell_type": "markdown",
   "source": "load model",
   "id": "5e9dd488f703604c"
  },
  {
   "metadata": {
    "ExecuteTime": {
     "end_time": "2024-06-25T22:15:44.928559Z",
     "start_time": "2024-06-25T22:15:44.099725Z"
    }
   },
   "cell_type": "code",
   "source": [
    "import torch\n",
    "from transformer_decoder_training.models.transformer_decoder_1 import Transformer\n",
    "\n",
    "# see: https://pytorch.org/tutorials/beginner/basics/saveloadrun_tutorial.html#saving-and-loading-models-with-shapes\n",
    "# model from Transformer_decoder_1\n",
    "model = torch.load(\"/home/falaxdb/Repos/minus1/transformer_decoder_training/jupyter_notebooks/piano_tests/saved_models/model_1_notebook_v5.pth\")"
   ],
   "id": "8bc5f412a399bc82",
   "outputs": [],
   "execution_count": 1
  },
  {
   "metadata": {
    "ExecuteTime": {
     "end_time": "2024-06-25T22:15:54.279119Z",
     "start_time": "2024-06-25T22:15:54.268488Z"
    }
   },
   "cell_type": "code",
   "source": "print(model)",
   "id": "aa0a11e0f408f9cc",
   "outputs": [
    {
     "name": "stdout",
     "output_type": "stream",
     "text": [
      "Transformer(\n",
      "  (embedding): Linear(in_features=88, out_features=256, bias=True)\n",
      "  (pos_emb): SinusoidalPosEmb()\n",
      "  (blocks): ModuleList(\n",
      "    (0-7): 8 x TransformerBlock(\n",
      "      (norm1): LayerNorm((256,), eps=1e-05, elementwise_affine=True)\n",
      "      (multihead_attn): MultiheadAttention(\n",
      "        (out_proj): NonDynamicallyQuantizableLinear(in_features=256, out_features=256, bias=True)\n",
      "      )\n",
      "      (norm2): LayerNorm((256,), eps=1e-05, elementwise_affine=True)\n",
      "      (mlp): Sequential(\n",
      "        (0): Linear(in_features=256, out_features=1024, bias=True)\n",
      "        (1): ELU(alpha=1.0)\n",
      "        (2): Linear(in_features=1024, out_features=256, bias=True)\n",
      "      )\n",
      "    )\n",
      "  )\n",
      "  (fc_out): Linear(in_features=256, out_features=88, bias=True)\n",
      "  (sigmoid): Sigmoid()\n",
      ")\n"
     ]
    }
   ],
   "execution_count": 2
  }
 ],
 "metadata": {
  "kernelspec": {
   "display_name": "Python 3",
   "language": "python",
   "name": "python3"
  },
  "language_info": {
   "codemirror_mode": {
    "name": "ipython",
    "version": 2
   },
   "file_extension": ".py",
   "mimetype": "text/x-python",
   "name": "python",
   "nbconvert_exporter": "python",
   "pygments_lexer": "ipython2",
   "version": "2.7.6"
  }
 },
 "nbformat": 4,
 "nbformat_minor": 5
}
