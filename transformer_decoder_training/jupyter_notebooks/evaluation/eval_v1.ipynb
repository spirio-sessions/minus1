{
 "cells": [
  {
   "metadata": {},
   "cell_type": "markdown",
   "source": "# Notebook to test several inference methods",
   "id": "931cf97a4121bebe"
  },
  {
   "metadata": {},
   "cell_type": "markdown",
   "source": [
    "# Get data\n",
    "TODO: get seperate test data\n"
   ],
   "id": "557beddeb6fe7940"
  },
  {
   "metadata": {
    "ExecuteTime": {
     "end_time": "2024-06-26T18:32:12.647273Z",
     "start_time": "2024-06-26T18:32:11.919578Z"
    }
   },
   "cell_type": "code",
   "source": [
    "import numpy as np\n",
    "import torch\n",
    "device = torch.device(\"cuda\" if torch.cuda.is_available() else 'cpu')\n",
    "\n",
    "seq_length = 512\n",
    "sos_token = np.full((1, 88), 1)\n",
    "pad_token = np.full((1, 88), 2)\n",
    "pad_token = torch.tensor(pad_token, device=device)"
   ],
   "id": "fe10412ed424cc00",
   "outputs": [],
   "execution_count": 1
  },
  {
   "metadata": {
    "ExecuteTime": {
     "end_time": "2024-06-26T18:32:14.390087Z",
     "start_time": "2024-06-26T18:32:12.649144Z"
    }
   },
   "cell_type": "code",
   "source": [
    "from transformer_decoder_training.dataprep_transformer import dataprep_1\n",
    "from data_preperation import dataset_snapshot\n",
    "from sklearn.model_selection import train_test_split\n",
    "# prepare data for dataset\n",
    "\n",
    "#load data\n",
    "dataset_as_snapshots = dataset_snapshot.process_dataset_multithreaded(\"/home/falaxdb/Repos/minus1/datasets/maestro_v3_split/hands_split_into_seperate_midis\", 0.05, amount=20)\n",
    "# filter snapshots to 88 piano notes\n",
    "dataset_as_snapshots = dataset_snapshot.filter_piano_range(dataset_as_snapshots)\n",
    "\n",
    "# Convert data into Chunks and add special tokens\n",
    "data = dataprep_1.prepare_dataset(dataset_as_snapshots, seq_length, seq_length, sos_token)\n",
    "\n",
    "print(\"Ammount of chunks:\", len(data))\n",
    "print(\"sequence of one chunk touple:\", data[0][0].shape)"
   ],
   "id": "6dbb9f8847330c13",
   "outputs": [
    {
     "name": "stderr",
     "output_type": "stream",
     "text": [
      "Processed dataset (40/40): 100%|██████████| 40/40 [00:01<00:00, 28.09it/s]\n"
     ]
    },
    {
     "name": "stdout",
     "output_type": "stream",
     "text": [
      "Processed 40 of 40 files\n",
      "Ammount of chunks: 349\n",
      "sequence of one chunk touple: (513, 88)\n"
     ]
    }
   ],
   "execution_count": 2
  },
  {
   "metadata": {},
   "cell_type": "markdown",
   "source": "load model",
   "id": "5e9dd488f703604c"
  },
  {
   "metadata": {
    "ExecuteTime": {
     "end_time": "2024-06-26T18:32:14.440765Z",
     "start_time": "2024-06-26T18:32:14.390647Z"
    }
   },
   "cell_type": "code",
   "source": [
    "\n",
    "from transformer_decoder_training.models.transformer_decoder_1 import Transformer\n",
    "\n",
    "\n",
    "\n",
    "# Embedding Size\n",
    "hidden_size = 256\n",
    "\n",
    "# Number of transformer blocks\n",
    "num_layers = 8\n",
    "\n",
    "# MultiheadAttention Heads\n",
    "num_heads = 8\n",
    "\n",
    "# see: https://pytorch.org/tutorials/beginner/basics/saveloadrun_tutorial.html#save-and-load-the-model\n",
    "model = Transformer(num_emb=88, num_layers=num_layers, hidden_size=hidden_size, num_heads=num_heads).to(device)\n",
    "model.load_state_dict(torch.load(\"/home/falaxdb/Repos/minus1/transformer_decoder_training/jupyter_notebooks/piano_tests/saved_models/model_1_notebook_v5.pth\"))\n",
    "model.eval()\n"
   ],
   "id": "8bc5f412a399bc82",
   "outputs": [
    {
     "data": {
      "text/plain": [
       "Transformer(\n",
       "  (embedding): Linear(in_features=88, out_features=256, bias=True)\n",
       "  (pos_emb): SinusoidalPosEmb()\n",
       "  (blocks): ModuleList(\n",
       "    (0-7): 8 x TransformerBlock(\n",
       "      (norm1): LayerNorm((256,), eps=1e-05, elementwise_affine=True)\n",
       "      (multihead_attn): MultiheadAttention(\n",
       "        (out_proj): NonDynamicallyQuantizableLinear(in_features=256, out_features=256, bias=True)\n",
       "      )\n",
       "      (norm2): LayerNorm((256,), eps=1e-05, elementwise_affine=True)\n",
       "      (mlp): Sequential(\n",
       "        (0): Linear(in_features=256, out_features=1024, bias=True)\n",
       "        (1): ELU(alpha=1.0)\n",
       "        (2): Linear(in_features=1024, out_features=256, bias=True)\n",
       "      )\n",
       "    )\n",
       "  )\n",
       "  (fc_out): Linear(in_features=256, out_features=88, bias=True)\n",
       "  (sigmoid): Sigmoid()\n",
       ")"
      ]
     },
     "execution_count": 3,
     "metadata": {},
     "output_type": "execute_result"
    }
   ],
   "execution_count": 3
  },
  {
   "metadata": {},
   "cell_type": "markdown",
   "source": [
    "## Obacht\n",
    "\n",
    "Das Modell: `model_1_notebook_v5.pth` sagt nicht nur einen Token vorraus, sondern bei einem input von 513 Tokens werden auch 513 Vorhergesagt\n",
    "\n",
    "evtl. weitere Infos: https://ai.stackexchange.com/questions/40140/how-is-the-next-token-predicted-in-transformers"
   ],
   "id": "e86e6d4afb525d9e"
  },
  {
   "metadata": {
    "ExecuteTime": {
     "end_time": "2024-06-26T18:32:15.783829Z",
     "start_time": "2024-06-26T18:32:14.441217Z"
    }
   },
   "cell_type": "code",
   "source": [
    "from transformer_decoder_training.inference.inference_1 import inference\n",
    "\n",
    "input_touple = data[300]\n",
    "input_seq = input_touple[0]\n",
    "input_seq = torch.tensor(input_seq).float().to(device)\n",
    "# input must be of shape (batch_dim, seq_length, feature_dim\n",
    "input_seq = torch.unsqueeze(input_seq, 0)\n",
    "\n",
    "output_tokens = inference(model, input_seq, 512, 0.25, pad_token, device)\n",
    "\n",
    "print(len(output_tokens))\n",
    "#print(output_tokens)\n",
    "      "
   ],
   "id": "e8591efc8276025b",
   "outputs": [
    {
     "name": "stdout",
     "output_type": "stream",
     "text": [
      "512\n"
     ]
    }
   ],
   "execution_count": 4
  },
  {
   "metadata": {},
   "cell_type": "markdown",
   "source": "# convert to Midi",
   "id": "10fbcfe916cf0482"
  },
  {
   "metadata": {
    "ExecuteTime": {
     "end_time": "2024-06-26T18:32:15.834937Z",
     "start_time": "2024-06-26T18:32:15.784545Z"
    }
   },
   "cell_type": "code",
   "source": [
    "# start token is existing\n",
    "print(input_seq[0][0])"
   ],
   "id": "3eb8b39f3d94cb5d",
   "outputs": [
    {
     "name": "stdout",
     "output_type": "stream",
     "text": [
      "tensor([1., 1., 1., 1., 1., 1., 1., 1., 1., 1., 1., 1., 1., 1., 1., 1., 1., 1.,\n",
      "        1., 1., 1., 1., 1., 1., 1., 1., 1., 1., 1., 1., 1., 1., 1., 1., 1., 1.,\n",
      "        1., 1., 1., 1., 1., 1., 1., 1., 1., 1., 1., 1., 1., 1., 1., 1., 1., 1.,\n",
      "        1., 1., 1., 1., 1., 1., 1., 1., 1., 1., 1., 1., 1., 1., 1., 1., 1., 1.,\n",
      "        1., 1., 1., 1., 1., 1., 1., 1., 1., 1., 1., 1., 1., 1., 1., 1.],\n",
      "       device='cuda:0')\n"
     ]
    }
   ],
   "execution_count": 5
  },
  {
   "metadata": {
    "ExecuteTime": {
     "end_time": "2024-06-26T18:32:15.837734Z",
     "start_time": "2024-06-26T18:32:15.835588Z"
    }
   },
   "cell_type": "code",
   "source": [
    "# prepare data for midi conversion\n",
    "generated_harmony = torch.cat(output_tokens, dim=0)\n",
    "# convert to numpy\n",
    "generated_harmony = generated_harmony.cpu().numpy()\n",
    "original_melody = torch.squeeze(input_seq, dim=0).cpu().numpy()\n",
    "original_harmony = input_touple[1]\n",
    "# remove start token\n",
    "original_melody = original_melody[1:]\n",
    "original_harmony = original_harmony[1:]\n",
    "\n",
    "\n",
    "print(\"original melody shape:\", original_melody.shape)\n",
    "print(\"original harmony shape:\", original_harmony.shape)\n",
    "print(\"generated harmony shape:\", generated_harmony.shape)"
   ],
   "id": "86f073698509e7ed",
   "outputs": [
    {
     "name": "stdout",
     "output_type": "stream",
     "text": [
      "original melody shape: (512, 88)\n",
      "original harmony shape: (512, 88)\n",
      "generated harmony shape: (512, 88)\n"
     ]
    }
   ],
   "execution_count": 6
  },
  {
   "metadata": {
    "ExecuteTime": {
     "end_time": "2024-06-26T18:32:16.077280Z",
     "start_time": "2024-06-26T18:32:15.838119Z"
    }
   },
   "cell_type": "code",
   "source": [
    "from data_visualization import snapshot_to_midi\n",
    "\n",
    "midi_tracks = [original_melody, original_harmony, generated_harmony]\n",
    "track_names = [\"o_melody\", \"o_harmony\", \"g_harmony\"]\n",
    "\n",
    "snapshot_to_midi.create_midi_from_snapshots(midi_tracks, track_names, 0.05, \"/home/falaxdb/Repos/minus1/transformer_decoder_training/saved_files/midi_outputs\", \"model_1_notebook_v5.mid\")"
   ],
   "id": "ccd88bed0b353f08",
   "outputs": [
    {
     "name": "stdout",
     "output_type": "stream",
     "text": [
      "Processing track 0: o_melody with snapshot shape (512, 88)\n",
      "Processing track 1: o_harmony with snapshot shape (512, 88)\n",
      "Processing track 2: g_harmony with snapshot shape (512, 88)\n",
      "MIDI file saved to /home/falaxdb/Repos/minus1/transformer_decoder_training/saved_files/midi_outputs\n"
     ]
    }
   ],
   "execution_count": 7
  }
 ],
 "metadata": {
  "kernelspec": {
   "display_name": "Python 3",
   "language": "python",
   "name": "python3"
  },
  "language_info": {
   "codemirror_mode": {
    "name": "ipython",
    "version": 2
   },
   "file_extension": ".py",
   "mimetype": "text/x-python",
   "name": "python",
   "nbconvert_exporter": "python",
   "pygments_lexer": "ipython2",
   "version": "2.7.6"
  }
 },
 "nbformat": 4,
 "nbformat_minor": 5
}
