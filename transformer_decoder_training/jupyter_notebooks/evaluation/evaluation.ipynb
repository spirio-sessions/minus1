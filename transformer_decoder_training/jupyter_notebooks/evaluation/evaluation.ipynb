{
 "cells": [
  {
   "metadata": {},
   "cell_type": "markdown",
   "source": [
    "## Test models on sequence\n",
    "\n",
    "use pathlib for operations like finding files, etc"
   ],
   "id": "bef6c8de465bf444"
  },
  {
   "cell_type": "code",
   "id": "initial_id",
   "metadata": {
    "collapsed": true,
    "ExecuteTime": {
     "end_time": "2024-08-25T00:23:08.754306Z",
     "start_time": "2024-08-25T00:23:07.650694Z"
    }
   },
   "source": [
    "import torch\n",
    "import numpy as np\n",
    "import data_visualization.Visualization as visualization\n",
    "import json\n",
    "from pathlib import Path\n",
    "\n",
    "# Check if GPU is available, set device accordingly\n",
    "device = torch.device(\"cuda\" if torch.cuda.is_available() else 'cpu')"
   ],
   "outputs": [],
   "execution_count": 1
  },
  {
   "metadata": {
    "ExecuteTime": {
     "end_time": "2024-08-25T00:23:09.293445Z",
     "start_time": "2024-08-25T00:23:08.755242Z"
    }
   },
   "cell_type": "code",
   "source": [
    "import transformer_decoder_training.training_helper_functions as train_helpers\n",
    "import transformer_decoder_training.testing_helper_functions as test_helpers\n",
    "projects_dir = \"/home/falaxdb/Repos/minus1/transformer_decoder_training/saved_files/saved_models\"\n",
    "test_data_dir = \"/home/falaxdb/Repos/minus1/transformer_decoder_training/test_files_and_configs/split_into_midis\"\n",
    "\n",
    "model = test_helpers.load_transformer_model(\"transformer_1.1\", projects_dir, device, True)"
   ],
   "id": "d627d0c178deaed7",
   "outputs": [
    {
     "name": "stdout",
     "output_type": "stream",
     "text": [
      "Best epoch is epoch number 12\n"
     ]
    }
   ],
   "execution_count": 2
  },
  {
   "metadata": {
    "ExecuteTime": {
     "end_time": "2024-08-25T00:23:09.297114Z",
     "start_time": "2024-08-25T00:23:09.293951Z"
    }
   },
   "cell_type": "code",
   "source": [
    "project_path = Path(projects_dir) / \"transformer_1.1\"\n",
    "\n",
    "config = test_helpers.create_json_testing_template()\n",
    "\n",
    "config[\"test_row_name\"] = \"threshold_005\"\n",
    "config[\"threshold\"] = 0.05\n",
    "config[\"inference_method\"] = \"inference\"\n",
    "\n",
    "test_helpers.save_json_testing_configuration_to_project(config, project_path, overwrite=True)"
   ],
   "id": "46f663a13c9c292e",
   "outputs": [
    {
     "data": {
      "text/plain": [
       "PosixPath('/home/falaxdb/Repos/minus1/transformer_decoder_training/saved_files/saved_models/transformer_1.1/tests/threshold_005_configuration.json')"
      ]
     },
     "execution_count": 3,
     "metadata": {},
     "output_type": "execute_result"
    }
   ],
   "execution_count": 3
  },
  {
   "metadata": {
    "jupyter": {
     "is_executing": true
    },
    "ExecuteTime": {
     "start_time": "2024-08-25T00:23:09.297504Z"
    }
   },
   "cell_type": "code",
   "source": "test_helpers.testinference_for_model(model, \"transformer_1.1\", projects_dir, device, test_data_dir)",
   "id": "6b53c95c74d28409",
   "outputs": [
    {
     "name": "stderr",
     "output_type": "stream",
     "text": [
      "Testing configurations:   0%|          | 0/7 [00:00<?, ?it/s]\n",
      "Songs:   0%|          | 0/3 [00:00<?, ?it/s]\u001B[A"
     ]
    },
    {
     "name": "stdout",
     "output_type": "stream",
     "text": [
      "sequecne tensor: torch.Size([2803, 24])\n",
      "sequence with start token tensor: torch.Size([2804, 24])\n",
      "context_seq tensor: torch.Size([1, 1025, 24])\n",
      "continuing seq torch.Size([1, 1779, 24])\n",
      "Tokens to generate: 1779\n"
     ]
    }
   ],
   "execution_count": null
  }
 ],
 "metadata": {
  "kernelspec": {
   "display_name": "Python 3",
   "language": "python",
   "name": "python3"
  },
  "language_info": {
   "codemirror_mode": {
    "name": "ipython",
    "version": 2
   },
   "file_extension": ".py",
   "mimetype": "text/x-python",
   "name": "python",
   "nbconvert_exporter": "python",
   "pygments_lexer": "ipython2",
   "version": "2.7.6"
  }
 },
 "nbformat": 4,
 "nbformat_minor": 5
}
