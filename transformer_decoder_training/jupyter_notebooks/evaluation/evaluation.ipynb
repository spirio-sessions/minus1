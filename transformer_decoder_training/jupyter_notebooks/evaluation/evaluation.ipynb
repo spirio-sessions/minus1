{
 "cells": [
  {
   "metadata": {},
   "cell_type": "markdown",
   "source": [
    "## Test models on sequence\n",
    "\n",
    "use pathlib for operations like finding files, etc"
   ],
   "id": "bef6c8de465bf444"
  },
  {
   "cell_type": "code",
   "id": "initial_id",
   "metadata": {
    "collapsed": true,
    "ExecuteTime": {
     "end_time": "2024-08-19T23:55:36.998493Z",
     "start_time": "2024-08-19T23:55:35.819141Z"
    }
   },
   "source": [
    "import torch\n",
    "import numpy as np\n",
    "import data_visualization.Visualization as visualization\n",
    "import json\n",
    "from pathlib import Path\n",
    "\n",
    "# Check if GPU is available, set device accordingly\n",
    "device = torch.device(\"cuda\" if torch.cuda.is_available() else 'cpu')"
   ],
   "outputs": [],
   "execution_count": 1
  },
  {
   "metadata": {
    "ExecuteTime": {
     "end_time": "2024-08-19T23:55:37.552926Z",
     "start_time": "2024-08-19T23:55:36.999131Z"
    }
   },
   "cell_type": "code",
   "source": [
    "import transformer_decoder_training.training_helper_functions as train_helpers\n",
    "import transformer_decoder_training.testing_helper_functions as test_helpers\n",
    "projects_dir = \"/home/falaxdb/Repos/minus1/transformer_decoder_training/saved_files/saved_models\"\n",
    "test_data_dir = \"/home/falaxdb/Repos/minus1/transformer_decoder_training/midi_test_files/split_into_midis\"\n",
    "\n",
    "model = test_helpers.load_transformer_model(\"transformer_1.2\", projects_dir, device, True)"
   ],
   "id": "d627d0c178deaed7",
   "outputs": [
    {
     "name": "stdout",
     "output_type": "stream",
     "text": [
      "Best epoch is epoch number 17\n"
     ]
    }
   ],
   "execution_count": 2
  },
  {
   "metadata": {
    "ExecuteTime": {
     "end_time": "2024-08-19T23:55:37.557118Z",
     "start_time": "2024-08-19T23:55:37.553525Z"
    }
   },
   "cell_type": "code",
   "source": [
    "project_path = Path(projects_dir) / \"transformer_1.2\"\n",
    "\n",
    "config = test_helpers.create_json_testing_template()\n",
    "\n",
    "config[\"test_row_name\"] = \"standard_025\"\n",
    "config[\"threshold\"] = 0.25\n",
    "\n",
    "test_helpers.save_json_testing_configuration(config, project_path)"
   ],
   "id": "46f663a13c9c292e",
   "outputs": [
    {
     "data": {
      "text/plain": [
       "PosixPath('/home/falaxdb/Repos/minus1/transformer_decoder_training/saved_files/saved_models/transformer_1.2/tests/standard_025_configuration.json')"
      ]
     },
     "execution_count": 3,
     "metadata": {},
     "output_type": "execute_result"
    }
   ],
   "execution_count": 3
  },
  {
   "metadata": {
    "ExecuteTime": {
     "end_time": "2024-08-19T23:57:35.135817Z",
     "start_time": "2024-08-19T23:55:37.557818Z"
    }
   },
   "cell_type": "code",
   "source": "test_helpers.testinference_for_model(model, \"transformer_1.2\", projects_dir, device, test_data_dir)",
   "id": "6b53c95c74d28409",
   "outputs": [
    {
     "name": "stdout",
     "output_type": "stream",
     "text": [
      "sequecne tensor: torch.Size([2803, 24])\n",
      "Tokens to generate: 2799\n",
      "Binary Tensors after concatinating:  torch.Size([2799, 24])\n",
      "Binary Tensors after unsqueezing:  torch.Size([1, 2799, 24])\n",
      "Context sequence + Generated tokens:  torch.Size([1, 2804, 24])\n",
      "MIDI file saved to /home/falaxdb/Repos/minus1/transformer_decoder_training/saved_files/saved_models/transformer_1.2/tests/standard/midi-unprocessed_04_r1_2008_01-04_orig_mid--audio_04_r1_2008_wav--1-split.mid\n",
      "sequecne tensor: torch.Size([14379, 24])\n",
      "Tokens to generate: 14375\n",
      "Binary Tensors after concatinating:  torch.Size([14375, 24])\n",
      "Binary Tensors after unsqueezing:  torch.Size([1, 14375, 24])\n",
      "Context sequence + Generated tokens:  torch.Size([1, 14380, 24])\n",
      "MIDI file saved to /home/falaxdb/Repos/minus1/transformer_decoder_training/saved_files/saved_models/transformer_1.2/tests/standard/midi-unprocessed_01_r1_2006_01-09_orig_mid--audio_01_r1_2006_01_track01_wav-split.mid\n",
      "sequecne tensor: torch.Size([2803, 24])\n",
      "Tokens to generate: 2799\n",
      "Binary Tensors after concatinating:  torch.Size([2799, 24])\n",
      "Binary Tensors after unsqueezing:  torch.Size([1, 2799, 24])\n",
      "Context sequence + Generated tokens:  torch.Size([1, 2804, 24])\n",
      "MIDI file saved to /home/falaxdb/Repos/minus1/transformer_decoder_training/saved_files/saved_models/transformer_1.2/tests/standard_01/midi-unprocessed_04_r1_2008_01-04_orig_mid--audio_04_r1_2008_wav--1-split.mid\n",
      "sequecne tensor: torch.Size([14379, 24])\n",
      "Tokens to generate: 14375\n",
      "Binary Tensors after concatinating:  torch.Size([14375, 24])\n",
      "Binary Tensors after unsqueezing:  torch.Size([1, 14375, 24])\n",
      "Context sequence + Generated tokens:  torch.Size([1, 14380, 24])\n",
      "MIDI file saved to /home/falaxdb/Repos/minus1/transformer_decoder_training/saved_files/saved_models/transformer_1.2/tests/standard_01/midi-unprocessed_01_r1_2006_01-09_orig_mid--audio_01_r1_2006_01_track01_wav-split.mid\n",
      "sequecne tensor: torch.Size([2803, 24])\n",
      "Tokens to generate: 2799\n",
      "Binary Tensors after concatinating:  torch.Size([2799, 24])\n",
      "Binary Tensors after unsqueezing:  torch.Size([1, 2799, 24])\n",
      "Context sequence + Generated tokens:  torch.Size([1, 2804, 24])\n",
      "MIDI file saved to /home/falaxdb/Repos/minus1/transformer_decoder_training/saved_files/saved_models/transformer_1.2/tests/standard_015/midi-unprocessed_04_r1_2008_01-04_orig_mid--audio_04_r1_2008_wav--1-split.mid\n",
      "sequecne tensor: torch.Size([14379, 24])\n",
      "Tokens to generate: 14375\n",
      "Binary Tensors after concatinating:  torch.Size([14375, 24])\n",
      "Binary Tensors after unsqueezing:  torch.Size([1, 14375, 24])\n",
      "Context sequence + Generated tokens:  torch.Size([1, 14380, 24])\n",
      "MIDI file saved to /home/falaxdb/Repos/minus1/transformer_decoder_training/saved_files/saved_models/transformer_1.2/tests/standard_015/midi-unprocessed_01_r1_2006_01-09_orig_mid--audio_01_r1_2006_01_track01_wav-split.mid\n",
      "sequecne tensor: torch.Size([2803, 24])\n",
      "Tokens to generate: 2799\n",
      "Binary Tensors after concatinating:  torch.Size([2799, 24])\n",
      "Binary Tensors after unsqueezing:  torch.Size([1, 2799, 24])\n",
      "Context sequence + Generated tokens:  torch.Size([1, 2804, 24])\n",
      "MIDI file saved to /home/falaxdb/Repos/minus1/transformer_decoder_training/saved_files/saved_models/transformer_1.2/tests/standard_02/midi-unprocessed_04_r1_2008_01-04_orig_mid--audio_04_r1_2008_wav--1-split.mid\n",
      "sequecne tensor: torch.Size([14379, 24])\n",
      "Tokens to generate: 14375\n",
      "Binary Tensors after concatinating:  torch.Size([14375, 24])\n",
      "Binary Tensors after unsqueezing:  torch.Size([1, 14375, 24])\n",
      "Context sequence + Generated tokens:  torch.Size([1, 14380, 24])\n",
      "MIDI file saved to /home/falaxdb/Repos/minus1/transformer_decoder_training/saved_files/saved_models/transformer_1.2/tests/standard_02/midi-unprocessed_01_r1_2006_01-09_orig_mid--audio_01_r1_2006_01_track01_wav-split.mid\n",
      "sequecne tensor: torch.Size([2803, 24])\n",
      "Tokens to generate: 2799\n",
      "Binary Tensors after concatinating:  torch.Size([2799, 24])\n",
      "Binary Tensors after unsqueezing:  torch.Size([1, 2799, 24])\n",
      "Context sequence + Generated tokens:  torch.Size([1, 2804, 24])\n",
      "MIDI file saved to /home/falaxdb/Repos/minus1/transformer_decoder_training/saved_files/saved_models/transformer_1.2/tests/standard_025/midi-unprocessed_04_r1_2008_01-04_orig_mid--audio_04_r1_2008_wav--1-split.mid\n",
      "sequecne tensor: torch.Size([14379, 24])\n",
      "Tokens to generate: 14375\n",
      "Binary Tensors after concatinating:  torch.Size([14375, 24])\n",
      "Binary Tensors after unsqueezing:  torch.Size([1, 14375, 24])\n",
      "Context sequence + Generated tokens:  torch.Size([1, 14380, 24])\n",
      "MIDI file saved to /home/falaxdb/Repos/minus1/transformer_decoder_training/saved_files/saved_models/transformer_1.2/tests/standard_025/midi-unprocessed_01_r1_2006_01-09_orig_mid--audio_01_r1_2006_01_track01_wav-split.mid\n"
     ]
    }
   ],
   "execution_count": 4
  }
 ],
 "metadata": {
  "kernelspec": {
   "display_name": "Python 3",
   "language": "python",
   "name": "python3"
  },
  "language_info": {
   "codemirror_mode": {
    "name": "ipython",
    "version": 2
   },
   "file_extension": ".py",
   "mimetype": "text/x-python",
   "name": "python",
   "nbconvert_exporter": "python",
   "pygments_lexer": "ipython2",
   "version": "2.7.6"
  }
 },
 "nbformat": 4,
 "nbformat_minor": 5
}
