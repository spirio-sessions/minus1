{
 "cells": [
  {
   "metadata": {},
   "cell_type": "markdown",
   "source": [
    "## Test models on sequence\n",
    "\n",
    "use pathlib for operations like finding files, etc"
   ],
   "id": "bef6c8de465bf444"
  },
  {
   "cell_type": "code",
   "id": "initial_id",
   "metadata": {
    "collapsed": true,
    "ExecuteTime": {
     "end_time": "2024-08-17T00:21:53.288466Z",
     "start_time": "2024-08-17T00:21:52.057601Z"
    }
   },
   "source": [
    "import torch\n",
    "import numpy as np\n",
    "import data_visualization.Visualization as visualization\n",
    "import json\n",
    "\n",
    "\n",
    "# Check if GPU is available, set device accordingly\n",
    "device = torch.device(\"cuda\" if torch.cuda.is_available() else 'cpu')"
   ],
   "outputs": [],
   "execution_count": 1
  },
  {
   "metadata": {
    "ExecuteTime": {
     "end_time": "2024-08-17T00:21:53.291110Z",
     "start_time": "2024-08-17T00:21:53.289183Z"
    }
   },
   "cell_type": "code",
   "source": [
    "dataset_dir = \"/home/falaxdb/Repos/minus1/transformer_decoder_training/jupyter_notebooks/evaluation/specific_test_midis/split_into_mid\"\n",
    "model_params_json = \"/home/falaxdb/Repos/minus1/transformer_decoder_training/saved_files/saved_models/model_1_notebook_v6.1_small_stride_model_params_overfitted.json\"\n",
    "model_state_dict = \"/home/falaxdb/Repos/minus1/transformer_decoder_training/saved_files/saved_models/model_1_notebook_v6.1_small_stride_overfitted.pth\""
   ],
   "id": "6499d86a8192dbb6",
   "outputs": [],
   "execution_count": 2
  },
  {
   "metadata": {},
   "cell_type": "markdown",
   "source": "## load model + test dataloader",
   "id": "8e5af3afbd7ab6f6"
  },
  {
   "metadata": {
    "ExecuteTime": {
     "end_time": "2024-08-17T00:21:53.887390Z",
     "start_time": "2024-08-17T00:21:53.291813Z"
    }
   },
   "cell_type": "code",
   "source": [
    "# get parameters\n",
    "with open(model_params_json, 'r') as file:\n",
    "    parameters = json.load(file)\n",
    "\n",
    "# load model\n",
    "from transformer_decoder_training import helper_functions\n",
    "\n",
    "helper_functions.load_transformer_model(model_params_json, model_state_dict, device)\n",
    "\n",
    "\n",
    "# load dataset with fitting parameters for model\n",
    "training_data_params = parameters['training_data_params']\n",
    "\n",
    "# Accessing training data parameters\n",
    "sos_token = np.array(training_data_params['sos_token'])\n",
    "pad_token = torch.tensor(training_data_params['pad_token'])\n",
    "snapshot_intervall = training_data_params['snapshot_intervall']\n",
    "stride = training_data_params['stride']\n",
    "\n",
    "# set own parameters for testing sequences\n",
    "batch_size = 1\n",
    "sequence_length = 1024\n",
    "\n",
    "\n",
    "from transformer_decoder_training.dataprep_transformer.prepare_dataloader_complete import prepare_dataset_as_single_loader\n",
    "\n",
    "train_loader = prepare_dataset_as_single_loader(dataset_dir, snapshot_intervall, batch_size, sequence_length, stride, sos_token, shuffle=False)"
   ],
   "id": "68b013ef55b38c84",
   "outputs": [
    {
     "name": "stderr",
     "output_type": "stream",
     "text": [
      "Processed dataset (2/2): 100%|██████████| 2/2 [00:00<00:00,  5.62it/s]"
     ]
    },
    {
     "name": "stdout",
     "output_type": "stream",
     "text": [
      "Processed 2 of 2 files\n"
     ]
    },
    {
     "name": "stderr",
     "output_type": "stream",
     "text": [
      "\n"
     ]
    }
   ],
   "execution_count": 3
  },
  {
   "metadata": {},
   "cell_type": "markdown",
   "source": "## Get test sequence",
   "id": "8eea1f63cb413374"
  },
  {
   "metadata": {
    "ExecuteTime": {
     "end_time": "2024-08-17T00:21:53.898934Z",
     "start_time": "2024-08-17T00:21:53.888134Z"
    }
   },
   "cell_type": "code",
   "source": [
    "from transformer_decoder_training.transformer_inference_eval import inference_and_visualize_1\n",
    "\n",
    "# Get sequence\n",
    "sequence = next(iter(train_loader))\n",
    "print(sequence.shape)\n",
    "\n",
    "context_seq, continuing_seq, original_seq = inference_and_visualize_1.prepare_sequence(sequence, 513)"
   ],
   "id": "6c786fc2412bd455",
   "outputs": [
    {
     "name": "stdout",
     "output_type": "stream",
     "text": [
      "torch.Size([1, 1025, 24])\n"
     ]
    }
   ],
   "execution_count": 4
  }
 ],
 "metadata": {
  "kernelspec": {
   "display_name": "Python 3",
   "language": "python",
   "name": "python3"
  },
  "language_info": {
   "codemirror_mode": {
    "name": "ipython",
    "version": 2
   },
   "file_extension": ".py",
   "mimetype": "text/x-python",
   "name": "python",
   "nbconvert_exporter": "python",
   "pygments_lexer": "ipython2",
   "version": "2.7.6"
  }
 },
 "nbformat": 4,
 "nbformat_minor": 5
}
