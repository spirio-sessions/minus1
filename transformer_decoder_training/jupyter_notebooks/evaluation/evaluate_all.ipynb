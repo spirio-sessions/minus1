{
 "cells": [
  {
   "cell_type": "code",
   "id": "initial_id",
   "metadata": {
    "collapsed": true,
    "ExecuteTime": {
     "end_time": "2024-08-29T16:54:39.853284Z",
     "start_time": "2024-08-29T16:54:38.084144Z"
    }
   },
   "source": [
    "import torch\n",
    "import numpy as np\n",
    "import data_visualization.Visualization as visualization\n",
    "import json\n",
    "from pathlib import Path\n",
    "import transformer_decoder_training.testing_helper_functions as test_helpers\n",
    "\n",
    "# Check if GPU is available, set device accordingly\n",
    "device = torch.device(\"cuda\" if torch.cuda.is_available() else 'cpu')"
   ],
   "outputs": [],
   "execution_count": 1
  },
  {
   "metadata": {
    "ExecuteTime": {
     "end_time": "2024-08-29T16:54:39.857277Z",
     "start_time": "2024-08-29T16:54:39.854799Z"
    }
   },
   "cell_type": "code",
   "source": [
    "projects_dir = \"/home/falaxdb/Repos/minus1/transformer_decoder_training/saved_files/saved_models\"\n",
    "test_data_dir = \"/home/falaxdb/Repos/minus1/transformer_decoder_training/test_files_and_configs/split_into_midis\"\n",
    "test_configs_dir = \"/home/falaxdb/Repos/minus1/transformer_decoder_training/test_files_and_configs/test_configs\""
   ],
   "id": "db4b595478180a27",
   "outputs": [],
   "execution_count": 2
  },
  {
   "metadata": {
    "ExecuteTime": {
     "end_time": "2024-08-29T16:54:39.866848Z",
     "start_time": "2024-08-29T16:54:39.858607Z"
    }
   },
   "cell_type": "code",
   "source": [
    "# create test configurations\n",
    "config = test_helpers.create_json_testing_template()\n",
    "\n",
    "config[\"test_row_name\"] = \"top_k\"\n",
    "config[\"threshold\"] = None\n",
    "config[\"inference_method\"] = \"inference_top_k_truth_notes\"\n",
    "\n",
    "test_helpers.save_json_testing_configuration(config, test_configs_dir, overwrite=False)"
   ],
   "id": "305c0a45ac82150d",
   "outputs": [
    {
     "name": "stdout",
     "output_type": "stream",
     "text": [
      "configuration file already exist and overwrite set to False. Skipping\n"
     ]
    }
   ],
   "execution_count": 3
  },
  {
   "metadata": {
    "ExecuteTime": {
     "end_time": "2024-08-29T16:54:39.877922Z",
     "start_time": "2024-08-29T16:54:39.868700Z"
    }
   },
   "cell_type": "code",
   "source": "test_helpers.copy_testing_templates_to_all_models(projects_dir, test_configs_dir, override=False)",
   "id": "2279f8fc1cca1f4c",
   "outputs": [
    {
     "name": "stdout",
     "output_type": "stream",
     "text": [
      "Found 19 projects\n",
      "Found 8 config files\n",
      "/home/falaxdb/Repos/minus1/transformer_decoder_training/saved_files/saved_models/transformer_01 already has a test directory and override is False, skipping\n",
      "/home/falaxdb/Repos/minus1/transformer_decoder_training/saved_files/saved_models/transformer_0.2 already has a test directory and override is False, skipping\n",
      "/home/falaxdb/Repos/minus1/transformer_decoder_training/saved_files/saved_models/transformer_0.3 already has a test directory and override is False, skipping\n",
      "/home/falaxdb/Repos/minus1/transformer_decoder_training/saved_files/saved_models/transformer_0.4 already has a test directory and override is False, skipping\n",
      "/home/falaxdb/Repos/minus1/transformer_decoder_training/saved_files/saved_models/transformer_0.5 already has a test directory and override is False, skipping\n",
      "/home/falaxdb/Repos/minus1/transformer_decoder_training/saved_files/saved_models/transformer_1.2 already has a test directory and override is False, skipping\n",
      "/home/falaxdb/Repos/minus1/transformer_decoder_training/saved_files/saved_models/transformer_1.0 already has a test directory and override is False, skipping\n",
      "/home/falaxdb/Repos/minus1/transformer_decoder_training/saved_files/saved_models/transformer_1.1 already has a test directory and override is False, skipping\n",
      "/home/falaxdb/Repos/minus1/transformer_decoder_training/saved_files/saved_models/transformer_1.3 already has a test directory and override is False, skipping\n",
      "/home/falaxdb/Repos/minus1/transformer_decoder_training/saved_files/saved_models/transformer_1.4 already has a test directory and override is False, skipping\n",
      "/home/falaxdb/Repos/minus1/transformer_decoder_training/saved_files/saved_models/transformer_1.5 already has a test directory and override is False, skipping\n",
      "/home/falaxdb/Repos/minus1/transformer_decoder_training/saved_files/saved_models/transformer_1.6 already has a test directory and override is False, skipping\n",
      "/home/falaxdb/Repos/minus1/transformer_decoder_training/saved_files/saved_models/transformer_1.7 already has a test directory and override is False, skipping\n",
      "/home/falaxdb/Repos/minus1/transformer_decoder_training/saved_files/saved_models/transformer_2.0 already has a test directory and override is False, skipping\n",
      "/home/falaxdb/Repos/minus1/transformer_decoder_training/saved_files/saved_models/transformer_1.8 already has a test directory and override is False, skipping\n",
      "/home/falaxdb/Repos/minus1/transformer_decoder_training/saved_files/saved_models/transformer_1.9 already has a test directory and override is False, skipping\n",
      "/home/falaxdb/Repos/minus1/transformer_decoder_training/saved_files/saved_models/transformer_1.10 already has a test directory and override is False, skipping\n",
      "/home/falaxdb/Repos/minus1/transformer_decoder_training/saved_files/saved_models/transformer_3.0 already has a test directory and override is False, skipping\n",
      "/home/falaxdb/Repos/minus1/transformer_decoder_training/saved_files/saved_models/transformer_3.1 already has a test directory and override is False, skipping\n"
     ]
    }
   ],
   "execution_count": 4
  },
  {
   "metadata": {
    "jupyter": {
     "is_executing": true
    },
    "ExecuteTime": {
     "start_time": "2024-08-29T16:54:39.880398Z"
    }
   },
   "cell_type": "code",
   "source": "test_helpers.testinference_for_all_models(projects_dir, test_data_dir, device)",
   "id": "43925c294eb457ee",
   "outputs": [
    {
     "name": "stdout",
     "output_type": "stream",
     "text": [
      "Found 19 projects\n"
     ]
    },
    {
     "name": "stderr",
     "output_type": "stream",
     "text": [
      "Projects:   0%|          | 0/19 [00:00<?, ?it/s]"
     ]
    },
    {
     "name": "stdout",
     "output_type": "stream",
     "text": [
      "\n",
      "==============================\n",
      "Testing model transformer_01\n",
      "At location /home/falaxdb/Repos/minus1/transformer_decoder_training/saved_files/saved_models/transformer_01\n",
      "==============================\n",
      "\n",
      "Best epoch is epoch number 25\n"
     ]
    },
    {
     "name": "stderr",
     "output_type": "stream",
     "text": [
      "\n",
      "Testing configurations:   0%|          | 0/8 [00:00<?, ?it/s]\u001B[A\n",
      "\n",
      "Songs:   0%|          | 0/4 [00:00<?, ?it/s]\u001B[A\u001B[A"
     ]
    },
    {
     "name": "stdout",
     "output_type": "stream",
     "text": [
      "The song midi-unprocessed_04_r1_2008_01-04_orig_mid--audio_04_r1_2008_wav--1-split does already exist for the configuration /home/falaxdb/Repos/minus1/transformer_decoder_training/saved_files/saved_models/transformer_01/tests/threshold_005/midi-unprocessed_04_r1_2008_01-04_orig_mid--audio_04_r1_2008_wav--1-split_configuration.json, skipping\n",
      "The song simple_test does already exist for the configuration /home/falaxdb/Repos/minus1/transformer_decoder_training/saved_files/saved_models/transformer_01/tests/threshold_005/simple_test_configuration.json, skipping\n",
      "The song short_cord_progression does already exist for the configuration /home/falaxdb/Repos/minus1/transformer_decoder_training/saved_files/saved_models/transformer_01/tests/threshold_005/short_cord_progression_configuration.json, skipping\n",
      "sequecne tensor: torch.Size([1361, 24])\n",
      "sequence with start token tensor: torch.Size([1362, 24])\n",
      "context_seq tensor: torch.Size([1, 17, 24])\n",
      "continuing seq torch.Size([1, 1345, 24])\n",
      "Tokens to generate: 1345\n"
     ]
    },
    {
     "name": "stderr",
     "output_type": "stream",
     "text": [
      "\n",
      "\n",
      "Songs: 100%|██████████| 4/4 [00:02<00:00,  1.97it/s]\u001B[A\u001B[A\n",
      "\n",
      "                                                    \u001B[A\u001B[A\n",
      "Testing configurations:  12%|█▎        | 1/8 [00:02<00:14,  2.03s/it]\u001B[A"
     ]
    },
    {
     "name": "stdout",
     "output_type": "stream",
     "text": [
      "Elapsed time: 1.8906 seconds\n",
      "Binary Tensors after concatinating:  torch.Size([1345, 24])\n",
      "Binary Tensors after unsqueezing:  torch.Size([1, 1345, 24])\n",
      "Context sequence + Generated tokens:  torch.Size([1, 1362, 24])\n",
      "MIDI file saved to /home/falaxdb/Repos/minus1/transformer_decoder_training/saved_files/saved_models/transformer_01/tests/threshold_005/moritz_maria.mid\n"
     ]
    },
    {
     "name": "stderr",
     "output_type": "stream",
     "text": [
      "\n",
      "\n",
      "Songs:   0%|          | 0/4 [00:00<?, ?it/s]\u001B[A\u001B[A"
     ]
    },
    {
     "name": "stdout",
     "output_type": "stream",
     "text": [
      "The song midi-unprocessed_04_r1_2008_01-04_orig_mid--audio_04_r1_2008_wav--1-split does already exist for the configuration /home/falaxdb/Repos/minus1/transformer_decoder_training/saved_files/saved_models/transformer_01/tests/threshold_01/midi-unprocessed_04_r1_2008_01-04_orig_mid--audio_04_r1_2008_wav--1-split_configuration.json, skipping\n",
      "The song simple_test does already exist for the configuration /home/falaxdb/Repos/minus1/transformer_decoder_training/saved_files/saved_models/transformer_01/tests/threshold_01/simple_test_configuration.json, skipping\n",
      "The song short_cord_progression does already exist for the configuration /home/falaxdb/Repos/minus1/transformer_decoder_training/saved_files/saved_models/transformer_01/tests/threshold_01/short_cord_progression_configuration.json, skipping\n",
      "sequecne tensor: torch.Size([1361, 24])\n",
      "sequence with start token tensor: torch.Size([1362, 24])\n",
      "context_seq tensor: torch.Size([1, 17, 24])\n",
      "continuing seq torch.Size([1, 1345, 24])\n",
      "Tokens to generate: 1345\n"
     ]
    },
    {
     "name": "stderr",
     "output_type": "stream",
     "text": [
      "\n",
      "\n",
      "Songs: 100%|██████████| 4/4 [00:01<00:00,  2.06it/s]\u001B[A\u001B[A\n",
      "\n",
      "                                                    \u001B[A\u001B[A\n",
      "Testing configurations:  25%|██▌       | 2/8 [00:03<00:11,  1.98s/it]\u001B[A"
     ]
    },
    {
     "name": "stdout",
     "output_type": "stream",
     "text": [
      "Elapsed time: 1.8022 seconds\n",
      "Binary Tensors after concatinating:  torch.Size([1345, 24])\n",
      "Binary Tensors after unsqueezing:  torch.Size([1, 1345, 24])\n",
      "Context sequence + Generated tokens:  torch.Size([1, 1362, 24])\n",
      "MIDI file saved to /home/falaxdb/Repos/minus1/transformer_decoder_training/saved_files/saved_models/transformer_01/tests/threshold_01/moritz_maria.mid\n"
     ]
    },
    {
     "name": "stderr",
     "output_type": "stream",
     "text": [
      "\n",
      "\n",
      "Songs:   0%|          | 0/4 [00:00<?, ?it/s]\u001B[A\u001B[A"
     ]
    },
    {
     "name": "stdout",
     "output_type": "stream",
     "text": [
      "The song midi-unprocessed_04_r1_2008_01-04_orig_mid--audio_04_r1_2008_wav--1-split does already exist for the configuration /home/falaxdb/Repos/minus1/transformer_decoder_training/saved_files/saved_models/transformer_01/tests/threshold_015/midi-unprocessed_04_r1_2008_01-04_orig_mid--audio_04_r1_2008_wav--1-split_configuration.json, skipping\n",
      "The song simple_test does already exist for the configuration /home/falaxdb/Repos/minus1/transformer_decoder_training/saved_files/saved_models/transformer_01/tests/threshold_015/simple_test_configuration.json, skipping\n",
      "The song short_cord_progression does already exist for the configuration /home/falaxdb/Repos/minus1/transformer_decoder_training/saved_files/saved_models/transformer_01/tests/threshold_015/short_cord_progression_configuration.json, skipping\n",
      "sequecne tensor: torch.Size([1361, 24])\n",
      "sequence with start token tensor: torch.Size([1362, 24])\n",
      "context_seq tensor: torch.Size([1, 17, 24])\n",
      "continuing seq torch.Size([1, 1345, 24])\n",
      "Tokens to generate: 1345\n"
     ]
    },
    {
     "name": "stderr",
     "output_type": "stream",
     "text": [
      "\n",
      "\n",
      "Songs: 100%|██████████| 4/4 [00:01<00:00,  2.11it/s]\u001B[A\u001B[A\n",
      "\n",
      "                                                    \u001B[A\u001B[A\n",
      "Testing configurations:  38%|███▊      | 3/8 [00:05<00:09,  1.94s/it]\u001B[A"
     ]
    },
    {
     "name": "stdout",
     "output_type": "stream",
     "text": [
      "Elapsed time: 1.7619 seconds\n",
      "Binary Tensors after concatinating:  torch.Size([1345, 24])\n",
      "Binary Tensors after unsqueezing:  torch.Size([1, 1345, 24])\n",
      "Context sequence + Generated tokens:  torch.Size([1, 1362, 24])\n",
      "MIDI file saved to /home/falaxdb/Repos/minus1/transformer_decoder_training/saved_files/saved_models/transformer_01/tests/threshold_015/moritz_maria.mid\n"
     ]
    },
    {
     "name": "stderr",
     "output_type": "stream",
     "text": [
      "\n",
      "\n",
      "Songs:   0%|          | 0/4 [00:00<?, ?it/s]\u001B[A\u001B[A"
     ]
    },
    {
     "name": "stdout",
     "output_type": "stream",
     "text": [
      "The song midi-unprocessed_04_r1_2008_01-04_orig_mid--audio_04_r1_2008_wav--1-split does already exist for the configuration /home/falaxdb/Repos/minus1/transformer_decoder_training/saved_files/saved_models/transformer_01/tests/threshold_02/midi-unprocessed_04_r1_2008_01-04_orig_mid--audio_04_r1_2008_wav--1-split_configuration.json, skipping\n",
      "The song simple_test does already exist for the configuration /home/falaxdb/Repos/minus1/transformer_decoder_training/saved_files/saved_models/transformer_01/tests/threshold_02/simple_test_configuration.json, skipping\n",
      "The song short_cord_progression does already exist for the configuration /home/falaxdb/Repos/minus1/transformer_decoder_training/saved_files/saved_models/transformer_01/tests/threshold_02/short_cord_progression_configuration.json, skipping\n",
      "sequecne tensor: torch.Size([1361, 24])\n",
      "sequence with start token tensor: torch.Size([1362, 24])\n",
      "context_seq tensor: torch.Size([1, 17, 24])\n",
      "continuing seq torch.Size([1, 1345, 24])\n",
      "Tokens to generate: 1345\n"
     ]
    },
    {
     "name": "stderr",
     "output_type": "stream",
     "text": [
      "\n",
      "\n",
      "Songs: 100%|██████████| 4/4 [00:01<00:00,  2.08it/s]\u001B[A\u001B[A\n",
      "\n",
      "                                                    \u001B[A\u001B[A\n",
      "Testing configurations:  50%|█████     | 4/8 [00:07<00:07,  1.93s/it]\u001B[A"
     ]
    },
    {
     "name": "stdout",
     "output_type": "stream",
     "text": [
      "Elapsed time: 1.7901 seconds\n",
      "Binary Tensors after concatinating:  torch.Size([1345, 24])\n",
      "Binary Tensors after unsqueezing:  torch.Size([1, 1345, 24])\n",
      "Context sequence + Generated tokens:  torch.Size([1, 1362, 24])\n",
      "MIDI file saved to /home/falaxdb/Repos/minus1/transformer_decoder_training/saved_files/saved_models/transformer_01/tests/threshold_02/moritz_maria.mid\n"
     ]
    },
    {
     "name": "stderr",
     "output_type": "stream",
     "text": [
      "\n",
      "\n",
      "Songs:   0%|          | 0/4 [00:00<?, ?it/s]\u001B[A\u001B[A"
     ]
    },
    {
     "name": "stdout",
     "output_type": "stream",
     "text": [
      "The song midi-unprocessed_04_r1_2008_01-04_orig_mid--audio_04_r1_2008_wav--1-split does already exist for the configuration /home/falaxdb/Repos/minus1/transformer_decoder_training/saved_files/saved_models/transformer_01/tests/threshold_025/midi-unprocessed_04_r1_2008_01-04_orig_mid--audio_04_r1_2008_wav--1-split_configuration.json, skipping\n",
      "The song simple_test does already exist for the configuration /home/falaxdb/Repos/minus1/transformer_decoder_training/saved_files/saved_models/transformer_01/tests/threshold_025/simple_test_configuration.json, skipping\n",
      "The song short_cord_progression does already exist for the configuration /home/falaxdb/Repos/minus1/transformer_decoder_training/saved_files/saved_models/transformer_01/tests/threshold_025/short_cord_progression_configuration.json, skipping\n",
      "sequecne tensor: torch.Size([1361, 24])\n",
      "sequence with start token tensor: torch.Size([1362, 24])\n",
      "context_seq tensor: torch.Size([1, 17, 24])\n",
      "continuing seq torch.Size([1, 1345, 24])\n",
      "Tokens to generate: 1345\n"
     ]
    },
    {
     "name": "stderr",
     "output_type": "stream",
     "text": [
      "\n",
      "\n",
      "Songs: 100%|██████████| 4/4 [00:01<00:00,  2.08it/s]\u001B[A\u001B[A\n",
      "\n",
      "                                                    \u001B[A\u001B[A\n",
      "Testing configurations:  62%|██████▎   | 5/8 [00:09<00:05,  1.93s/it]\u001B[A"
     ]
    },
    {
     "name": "stdout",
     "output_type": "stream",
     "text": [
      "Elapsed time: 1.7881 seconds\n",
      "Binary Tensors after concatinating:  torch.Size([1345, 24])\n",
      "Binary Tensors after unsqueezing:  torch.Size([1, 1345, 24])\n",
      "Context sequence + Generated tokens:  torch.Size([1, 1362, 24])\n",
      "MIDI file saved to /home/falaxdb/Repos/minus1/transformer_decoder_training/saved_files/saved_models/transformer_01/tests/threshold_025/moritz_maria.mid\n"
     ]
    },
    {
     "name": "stderr",
     "output_type": "stream",
     "text": [
      "\n",
      "\n",
      "Songs:   0%|          | 0/4 [00:00<?, ?it/s]\u001B[A\u001B[A"
     ]
    },
    {
     "name": "stdout",
     "output_type": "stream",
     "text": [
      "The song midi-unprocessed_04_r1_2008_01-04_orig_mid--audio_04_r1_2008_wav--1-split does already exist for the configuration /home/falaxdb/Repos/minus1/transformer_decoder_training/saved_files/saved_models/transformer_01/tests/threshold_05/midi-unprocessed_04_r1_2008_01-04_orig_mid--audio_04_r1_2008_wav--1-split_configuration.json, skipping\n",
      "The song simple_test does already exist for the configuration /home/falaxdb/Repos/minus1/transformer_decoder_training/saved_files/saved_models/transformer_01/tests/threshold_05/simple_test_configuration.json, skipping\n",
      "The song short_cord_progression does already exist for the configuration /home/falaxdb/Repos/minus1/transformer_decoder_training/saved_files/saved_models/transformer_01/tests/threshold_05/short_cord_progression_configuration.json, skipping\n",
      "sequecne tensor: torch.Size([1361, 24])\n",
      "sequence with start token tensor: torch.Size([1362, 24])\n",
      "context_seq tensor: torch.Size([1, 17, 24])\n",
      "continuing seq torch.Size([1, 1345, 24])\n",
      "Tokens to generate: 1345\n"
     ]
    },
    {
     "name": "stderr",
     "output_type": "stream",
     "text": [
      "\n",
      "\n",
      "Songs: 100%|██████████| 4/4 [00:01<00:00,  2.04it/s]\u001B[A\u001B[A\n",
      "\n",
      "                                                    \u001B[A\u001B[A\n",
      "Testing configurations:  75%|███████▌  | 6/8 [00:11<00:03,  1.94s/it]\u001B[A"
     ]
    },
    {
     "name": "stdout",
     "output_type": "stream",
     "text": [
      "Elapsed time: 1.7922 seconds\n",
      "Binary Tensors after concatinating:  torch.Size([1345, 24])\n",
      "Binary Tensors after unsqueezing:  torch.Size([1, 1345, 24])\n",
      "Context sequence + Generated tokens:  torch.Size([1, 1362, 24])\n",
      "MIDI file saved to /home/falaxdb/Repos/minus1/transformer_decoder_training/saved_files/saved_models/transformer_01/tests/threshold_05/moritz_maria.mid\n"
     ]
    },
    {
     "name": "stderr",
     "output_type": "stream",
     "text": [
      "\n",
      "\n",
      "Songs:   0%|          | 0/4 [00:00<?, ?it/s]\u001B[A\u001B[A"
     ]
    },
    {
     "name": "stdout",
     "output_type": "stream",
     "text": [
      "The song midi-unprocessed_04_r1_2008_01-04_orig_mid--audio_04_r1_2008_wav--1-split does already exist for the configuration /home/falaxdb/Repos/minus1/transformer_decoder_training/saved_files/saved_models/transformer_01/tests/threshold_03/midi-unprocessed_04_r1_2008_01-04_orig_mid--audio_04_r1_2008_wav--1-split_configuration.json, skipping\n",
      "The song simple_test does already exist for the configuration /home/falaxdb/Repos/minus1/transformer_decoder_training/saved_files/saved_models/transformer_01/tests/threshold_03/simple_test_configuration.json, skipping\n",
      "The song short_cord_progression does already exist for the configuration /home/falaxdb/Repos/minus1/transformer_decoder_training/saved_files/saved_models/transformer_01/tests/threshold_03/short_cord_progression_configuration.json, skipping\n",
      "sequecne tensor: torch.Size([1361, 24])\n",
      "sequence with start token tensor: torch.Size([1362, 24])\n",
      "context_seq tensor: torch.Size([1, 17, 24])\n",
      "continuing seq torch.Size([1, 1345, 24])\n",
      "Tokens to generate: 1345\n"
     ]
    },
    {
     "name": "stderr",
     "output_type": "stream",
     "text": [
      "\n",
      "\n",
      "Songs: 100%|██████████| 4/4 [00:01<00:00,  2.13it/s]\u001B[A\u001B[A\n",
      "\n",
      "                                                    \u001B[A\u001B[A\n",
      "Testing configurations:  88%|████████▊ | 7/8 [00:13<00:01,  1.92s/it]\u001B[A"
     ]
    },
    {
     "name": "stdout",
     "output_type": "stream",
     "text": [
      "Elapsed time: 1.7458 seconds\n",
      "Binary Tensors after concatinating:  torch.Size([1345, 24])\n",
      "Binary Tensors after unsqueezing:  torch.Size([1, 1345, 24])\n",
      "Context sequence + Generated tokens:  torch.Size([1, 1362, 24])\n",
      "MIDI file saved to /home/falaxdb/Repos/minus1/transformer_decoder_training/saved_files/saved_models/transformer_01/tests/threshold_03/moritz_maria.mid\n"
     ]
    },
    {
     "name": "stderr",
     "output_type": "stream",
     "text": [
      "\n",
      "\n",
      "Songs:   0%|          | 0/4 [00:00<?, ?it/s]\u001B[A\u001B[A"
     ]
    },
    {
     "name": "stdout",
     "output_type": "stream",
     "text": [
      "The song midi-unprocessed_04_r1_2008_01-04_orig_mid--audio_04_r1_2008_wav--1-split does already exist for the configuration /home/falaxdb/Repos/minus1/transformer_decoder_training/saved_files/saved_models/transformer_01/tests/top_k/midi-unprocessed_04_r1_2008_01-04_orig_mid--audio_04_r1_2008_wav--1-split_configuration.json, skipping\n",
      "The song simple_test does already exist for the configuration /home/falaxdb/Repos/minus1/transformer_decoder_training/saved_files/saved_models/transformer_01/tests/top_k/simple_test_configuration.json, skipping\n",
      "The song short_cord_progression does already exist for the configuration /home/falaxdb/Repos/minus1/transformer_decoder_training/saved_files/saved_models/transformer_01/tests/top_k/short_cord_progression_configuration.json, skipping\n",
      "sequecne tensor: torch.Size([1361, 24])\n",
      "sequence with start token tensor: torch.Size([1362, 24])\n",
      "context_seq tensor: torch.Size([1, 17, 24])\n",
      "continuing seq torch.Size([1, 1345, 24])\n",
      "Tokens to generate: 1345\n"
     ]
    },
    {
     "name": "stderr",
     "output_type": "stream",
     "text": [
      "\n",
      "\n",
      "Songs: 100%|██████████| 4/4 [00:01<00:00,  2.01it/s]\u001B[A\u001B[A\n",
      "\n",
      "                                                    \u001B[A\u001B[A\n",
      "Testing configurations: 100%|██████████| 8/8 [00:15<00:00,  1.95s/it]\u001B[A\n",
      "Projects:   5%|▌         | 1/19 [00:16<04:49, 16.11s/it]             \u001B[A"
     ]
    },
    {
     "name": "stdout",
     "output_type": "stream",
     "text": [
      "Elapsed time: 1.8574 seconds\n",
      "Binary Tensors after concatinating:  torch.Size([1345, 24])\n",
      "Binary Tensors after unsqueezing:  torch.Size([1, 1345, 24])\n",
      "Context sequence + Generated tokens:  torch.Size([1, 1362, 24])\n",
      "MIDI file saved to /home/falaxdb/Repos/minus1/transformer_decoder_training/saved_files/saved_models/transformer_01/tests/top_k/moritz_maria.mid\n",
      "\n",
      "==============================\n",
      "Testing model transformer_0.2\n",
      "At location /home/falaxdb/Repos/minus1/transformer_decoder_training/saved_files/saved_models/transformer_0.2\n",
      "==============================\n",
      "\n",
      "Best epoch is epoch number 5\n"
     ]
    },
    {
     "name": "stderr",
     "output_type": "stream",
     "text": [
      "\n",
      "Testing configurations:   0%|          | 0/8 [00:00<?, ?it/s]\u001B[A\n",
      "\n",
      "Songs:   0%|          | 0/4 [00:00<?, ?it/s]\u001B[A\u001B[A"
     ]
    },
    {
     "name": "stdout",
     "output_type": "stream",
     "text": [
      "The song midi-unprocessed_04_r1_2008_01-04_orig_mid--audio_04_r1_2008_wav--1-split does already exist for the configuration /home/falaxdb/Repos/minus1/transformer_decoder_training/saved_files/saved_models/transformer_0.2/tests/threshold_005/midi-unprocessed_04_r1_2008_01-04_orig_mid--audio_04_r1_2008_wav--1-split_configuration.json, skipping\n",
      "The song simple_test does already exist for the configuration /home/falaxdb/Repos/minus1/transformer_decoder_training/saved_files/saved_models/transformer_0.2/tests/threshold_005/simple_test_configuration.json, skipping\n",
      "The song short_cord_progression does already exist for the configuration /home/falaxdb/Repos/minus1/transformer_decoder_training/saved_files/saved_models/transformer_0.2/tests/threshold_005/short_cord_progression_configuration.json, skipping\n",
      "sequecne tensor: torch.Size([1361, 24])\n",
      "sequence with start token tensor: torch.Size([1362, 24])\n",
      "context_seq tensor: torch.Size([1, 101, 24])\n",
      "continuing seq torch.Size([1, 1261, 24])\n",
      "Tokens to generate: 1261\n"
     ]
    },
    {
     "name": "stderr",
     "output_type": "stream",
     "text": [
      "\n",
      "\n",
      "Songs: 100%|██████████| 4/4 [00:01<00:00,  2.05it/s]\u001B[A\u001B[A\n",
      "\n",
      "                                                    \u001B[A\u001B[A\n",
      "Testing configurations:  12%|█▎        | 1/8 [00:01<00:13,  1.95s/it]\u001B[A"
     ]
    },
    {
     "name": "stdout",
     "output_type": "stream",
     "text": [
      "Elapsed time: 1.8196 seconds\n",
      "Binary Tensors after concatinating:  torch.Size([1261, 24])\n",
      "Binary Tensors after unsqueezing:  torch.Size([1, 1261, 24])\n",
      "Context sequence + Generated tokens:  torch.Size([1, 1362, 24])\n",
      "MIDI file saved to /home/falaxdb/Repos/minus1/transformer_decoder_training/saved_files/saved_models/transformer_0.2/tests/threshold_005/moritz_maria.mid\n"
     ]
    },
    {
     "name": "stderr",
     "output_type": "stream",
     "text": [
      "\n",
      "\n",
      "Songs:   0%|          | 0/4 [00:00<?, ?it/s]\u001B[A\u001B[A"
     ]
    },
    {
     "name": "stdout",
     "output_type": "stream",
     "text": [
      "The song midi-unprocessed_04_r1_2008_01-04_orig_mid--audio_04_r1_2008_wav--1-split does already exist for the configuration /home/falaxdb/Repos/minus1/transformer_decoder_training/saved_files/saved_models/transformer_0.2/tests/threshold_01/midi-unprocessed_04_r1_2008_01-04_orig_mid--audio_04_r1_2008_wav--1-split_configuration.json, skipping\n",
      "The song simple_test does already exist for the configuration /home/falaxdb/Repos/minus1/transformer_decoder_training/saved_files/saved_models/transformer_0.2/tests/threshold_01/simple_test_configuration.json, skipping\n",
      "The song short_cord_progression does already exist for the configuration /home/falaxdb/Repos/minus1/transformer_decoder_training/saved_files/saved_models/transformer_0.2/tests/threshold_01/short_cord_progression_configuration.json, skipping\n",
      "sequecne tensor: torch.Size([1361, 24])\n",
      "sequence with start token tensor: torch.Size([1362, 24])\n",
      "context_seq tensor: torch.Size([1, 101, 24])\n",
      "continuing seq torch.Size([1, 1261, 24])\n",
      "Tokens to generate: 1261\n"
     ]
    },
    {
     "name": "stderr",
     "output_type": "stream",
     "text": [
      "\n",
      "\n",
      "Songs: 100%|██████████| 4/4 [00:02<00:00,  2.00it/s]\u001B[A\u001B[A\n",
      "\n",
      "                                                    \u001B[A\u001B[A\n",
      "Testing configurations:  25%|██▌       | 2/8 [00:03<00:11,  1.98s/it]\u001B[A"
     ]
    },
    {
     "name": "stdout",
     "output_type": "stream",
     "text": [
      "Elapsed time: 1.8678 seconds\n",
      "Binary Tensors after concatinating:  torch.Size([1261, 24])\n",
      "Binary Tensors after unsqueezing:  torch.Size([1, 1261, 24])\n",
      "Context sequence + Generated tokens:  torch.Size([1, 1362, 24])\n",
      "MIDI file saved to /home/falaxdb/Repos/minus1/transformer_decoder_training/saved_files/saved_models/transformer_0.2/tests/threshold_01/moritz_maria.mid\n"
     ]
    },
    {
     "name": "stderr",
     "output_type": "stream",
     "text": [
      "\n",
      "\n",
      "Songs:   0%|          | 0/4 [00:00<?, ?it/s]\u001B[A\u001B[A"
     ]
    },
    {
     "name": "stdout",
     "output_type": "stream",
     "text": [
      "The song midi-unprocessed_04_r1_2008_01-04_orig_mid--audio_04_r1_2008_wav--1-split does already exist for the configuration /home/falaxdb/Repos/minus1/transformer_decoder_training/saved_files/saved_models/transformer_0.2/tests/threshold_015/midi-unprocessed_04_r1_2008_01-04_orig_mid--audio_04_r1_2008_wav--1-split_configuration.json, skipping\n",
      "The song simple_test does already exist for the configuration /home/falaxdb/Repos/minus1/transformer_decoder_training/saved_files/saved_models/transformer_0.2/tests/threshold_015/simple_test_configuration.json, skipping\n",
      "The song short_cord_progression does already exist for the configuration /home/falaxdb/Repos/minus1/transformer_decoder_training/saved_files/saved_models/transformer_0.2/tests/threshold_015/short_cord_progression_configuration.json, skipping\n",
      "sequecne tensor: torch.Size([1361, 24])\n",
      "sequence with start token tensor: torch.Size([1362, 24])\n",
      "context_seq tensor: torch.Size([1, 101, 24])\n",
      "continuing seq torch.Size([1, 1261, 24])\n",
      "Tokens to generate: 1261\n"
     ]
    },
    {
     "name": "stderr",
     "output_type": "stream",
     "text": [
      "\n",
      "\n",
      "Songs: 100%|██████████| 4/4 [00:01<00:00,  2.19it/s]\u001B[A\u001B[A\n",
      "\n",
      "                                                    \u001B[A\u001B[A\n",
      "Testing configurations:  38%|███▊      | 3/8 [00:05<00:09,  1.91s/it]\u001B[A"
     ]
    },
    {
     "name": "stdout",
     "output_type": "stream",
     "text": [
      "Elapsed time: 1.6900 seconds\n",
      "Binary Tensors after concatinating:  torch.Size([1261, 24])\n",
      "Binary Tensors after unsqueezing:  torch.Size([1, 1261, 24])\n",
      "Context sequence + Generated tokens:  torch.Size([1, 1362, 24])\n",
      "MIDI file saved to /home/falaxdb/Repos/minus1/transformer_decoder_training/saved_files/saved_models/transformer_0.2/tests/threshold_015/moritz_maria.mid\n"
     ]
    },
    {
     "name": "stderr",
     "output_type": "stream",
     "text": [
      "\n",
      "\n",
      "Songs:   0%|          | 0/4 [00:00<?, ?it/s]\u001B[A\u001B[A"
     ]
    },
    {
     "name": "stdout",
     "output_type": "stream",
     "text": [
      "The song midi-unprocessed_04_r1_2008_01-04_orig_mid--audio_04_r1_2008_wav--1-split does already exist for the configuration /home/falaxdb/Repos/minus1/transformer_decoder_training/saved_files/saved_models/transformer_0.2/tests/threshold_02/midi-unprocessed_04_r1_2008_01-04_orig_mid--audio_04_r1_2008_wav--1-split_configuration.json, skipping\n",
      "The song simple_test does already exist for the configuration /home/falaxdb/Repos/minus1/transformer_decoder_training/saved_files/saved_models/transformer_0.2/tests/threshold_02/simple_test_configuration.json, skipping\n",
      "The song short_cord_progression does already exist for the configuration /home/falaxdb/Repos/minus1/transformer_decoder_training/saved_files/saved_models/transformer_0.2/tests/threshold_02/short_cord_progression_configuration.json, skipping\n",
      "sequecne tensor: torch.Size([1361, 24])\n",
      "sequence with start token tensor: torch.Size([1362, 24])\n",
      "context_seq tensor: torch.Size([1, 101, 24])\n",
      "continuing seq torch.Size([1, 1261, 24])\n",
      "Tokens to generate: 1261\n"
     ]
    },
    {
     "name": "stderr",
     "output_type": "stream",
     "text": [
      "\n",
      "\n",
      "Songs: 100%|██████████| 4/4 [00:01<00:00,  2.21it/s]\u001B[A\u001B[A\n",
      "\n",
      "                                                    \u001B[A\u001B[A\n",
      "Testing configurations:  50%|█████     | 4/8 [00:07<00:07,  1.87s/it]\u001B[A"
     ]
    },
    {
     "name": "stdout",
     "output_type": "stream",
     "text": [
      "Elapsed time: 1.6703 seconds\n",
      "Binary Tensors after concatinating:  torch.Size([1261, 24])\n",
      "Binary Tensors after unsqueezing:  torch.Size([1, 1261, 24])\n",
      "Context sequence + Generated tokens:  torch.Size([1, 1362, 24])\n",
      "MIDI file saved to /home/falaxdb/Repos/minus1/transformer_decoder_training/saved_files/saved_models/transformer_0.2/tests/threshold_02/moritz_maria.mid\n"
     ]
    },
    {
     "name": "stderr",
     "output_type": "stream",
     "text": [
      "\n",
      "\n",
      "Songs:   0%|          | 0/4 [00:00<?, ?it/s]\u001B[A\u001B[A"
     ]
    },
    {
     "name": "stdout",
     "output_type": "stream",
     "text": [
      "The song midi-unprocessed_04_r1_2008_01-04_orig_mid--audio_04_r1_2008_wav--1-split does already exist for the configuration /home/falaxdb/Repos/minus1/transformer_decoder_training/saved_files/saved_models/transformer_0.2/tests/threshold_025/midi-unprocessed_04_r1_2008_01-04_orig_mid--audio_04_r1_2008_wav--1-split_configuration.json, skipping\n",
      "The song simple_test does already exist for the configuration /home/falaxdb/Repos/minus1/transformer_decoder_training/saved_files/saved_models/transformer_0.2/tests/threshold_025/simple_test_configuration.json, skipping\n",
      "The song short_cord_progression does already exist for the configuration /home/falaxdb/Repos/minus1/transformer_decoder_training/saved_files/saved_models/transformer_0.2/tests/threshold_025/short_cord_progression_configuration.json, skipping\n",
      "sequecne tensor: torch.Size([1361, 24])\n",
      "sequence with start token tensor: torch.Size([1362, 24])\n",
      "context_seq tensor: torch.Size([1, 101, 24])\n",
      "continuing seq torch.Size([1, 1261, 24])\n",
      "Tokens to generate: 1261\n"
     ]
    },
    {
     "name": "stderr",
     "output_type": "stream",
     "text": [
      "\n",
      "\n",
      "Songs: 100%|██████████| 4/4 [00:01<00:00,  2.23it/s]\u001B[A\u001B[A\n",
      "\n",
      "                                                    \u001B[A\u001B[A\n",
      "Testing configurations:  62%|██████▎   | 5/8 [00:09<00:05,  1.85s/it]\u001B[A"
     ]
    },
    {
     "name": "stdout",
     "output_type": "stream",
     "text": [
      "Elapsed time: 1.6588 seconds\n",
      "Binary Tensors after concatinating:  torch.Size([1261, 24])\n",
      "Binary Tensors after unsqueezing:  torch.Size([1, 1261, 24])\n",
      "Context sequence + Generated tokens:  torch.Size([1, 1362, 24])\n",
      "MIDI file saved to /home/falaxdb/Repos/minus1/transformer_decoder_training/saved_files/saved_models/transformer_0.2/tests/threshold_025/moritz_maria.mid\n"
     ]
    },
    {
     "name": "stderr",
     "output_type": "stream",
     "text": [
      "\n",
      "\n",
      "Songs:   0%|          | 0/4 [00:00<?, ?it/s]\u001B[A\u001B[A"
     ]
    },
    {
     "name": "stdout",
     "output_type": "stream",
     "text": [
      "The song midi-unprocessed_04_r1_2008_01-04_orig_mid--audio_04_r1_2008_wav--1-split does already exist for the configuration /home/falaxdb/Repos/minus1/transformer_decoder_training/saved_files/saved_models/transformer_0.2/tests/threshold_05/midi-unprocessed_04_r1_2008_01-04_orig_mid--audio_04_r1_2008_wav--1-split_configuration.json, skipping\n",
      "The song simple_test does already exist for the configuration /home/falaxdb/Repos/minus1/transformer_decoder_training/saved_files/saved_models/transformer_0.2/tests/threshold_05/simple_test_configuration.json, skipping\n",
      "The song short_cord_progression does already exist for the configuration /home/falaxdb/Repos/minus1/transformer_decoder_training/saved_files/saved_models/transformer_0.2/tests/threshold_05/short_cord_progression_configuration.json, skipping\n",
      "sequecne tensor: torch.Size([1361, 24])\n",
      "sequence with start token tensor: torch.Size([1362, 24])\n",
      "context_seq tensor: torch.Size([1, 101, 24])\n",
      "continuing seq torch.Size([1, 1261, 24])\n",
      "Tokens to generate: 1261\n"
     ]
    },
    {
     "name": "stderr",
     "output_type": "stream",
     "text": [
      "\n",
      "\n",
      "Songs: 100%|██████████| 4/4 [00:02<00:00,  1.98it/s]\u001B[A\u001B[A\n",
      "\n",
      "                                                    \u001B[A\u001B[A\n",
      "Testing configurations:  75%|███████▌  | 6/8 [00:11<00:03,  1.91s/it]\u001B[A"
     ]
    },
    {
     "name": "stdout",
     "output_type": "stream",
     "text": [
      "Elapsed time: 1.8918 seconds\n",
      "Binary Tensors after concatinating:  torch.Size([1261, 24])\n",
      "Binary Tensors after unsqueezing:  torch.Size([1, 1261, 24])\n",
      "Context sequence + Generated tokens:  torch.Size([1, 1362, 24])\n",
      "MIDI file saved to /home/falaxdb/Repos/minus1/transformer_decoder_training/saved_files/saved_models/transformer_0.2/tests/threshold_05/moritz_maria.mid\n"
     ]
    },
    {
     "name": "stderr",
     "output_type": "stream",
     "text": [
      "\n",
      "\n",
      "Songs:   0%|          | 0/4 [00:00<?, ?it/s]\u001B[A\u001B[A"
     ]
    },
    {
     "name": "stdout",
     "output_type": "stream",
     "text": [
      "The song midi-unprocessed_04_r1_2008_01-04_orig_mid--audio_04_r1_2008_wav--1-split does already exist for the configuration /home/falaxdb/Repos/minus1/transformer_decoder_training/saved_files/saved_models/transformer_0.2/tests/threshold_03/midi-unprocessed_04_r1_2008_01-04_orig_mid--audio_04_r1_2008_wav--1-split_configuration.json, skipping\n",
      "The song simple_test does already exist for the configuration /home/falaxdb/Repos/minus1/transformer_decoder_training/saved_files/saved_models/transformer_0.2/tests/threshold_03/simple_test_configuration.json, skipping\n",
      "The song short_cord_progression does already exist for the configuration /home/falaxdb/Repos/minus1/transformer_decoder_training/saved_files/saved_models/transformer_0.2/tests/threshold_03/short_cord_progression_configuration.json, skipping\n",
      "sequecne tensor: torch.Size([1361, 24])\n",
      "sequence with start token tensor: torch.Size([1362, 24])\n",
      "context_seq tensor: torch.Size([1, 101, 24])\n",
      "continuing seq torch.Size([1, 1261, 24])\n",
      "Tokens to generate: 1261\n"
     ]
    },
    {
     "name": "stderr",
     "output_type": "stream",
     "text": [
      "\n",
      "\n",
      "Songs: 100%|██████████| 4/4 [00:01<00:00,  2.17it/s]\u001B[A\u001B[A\n",
      "\n",
      "                                                    \u001B[A\u001B[A\n",
      "Testing configurations:  88%|████████▊ | 7/8 [00:13<00:01,  1.89s/it]\u001B[A"
     ]
    },
    {
     "name": "stdout",
     "output_type": "stream",
     "text": [
      "Elapsed time: 1.6522 seconds\n",
      "Binary Tensors after concatinating:  torch.Size([1261, 24])\n",
      "Binary Tensors after unsqueezing:  torch.Size([1, 1261, 24])\n",
      "Context sequence + Generated tokens:  torch.Size([1, 1362, 24])\n",
      "MIDI file saved to /home/falaxdb/Repos/minus1/transformer_decoder_training/saved_files/saved_models/transformer_0.2/tests/threshold_03/moritz_maria.mid\n"
     ]
    },
    {
     "name": "stderr",
     "output_type": "stream",
     "text": [
      "\n",
      "\n",
      "Songs:   0%|          | 0/4 [00:00<?, ?it/s]\u001B[A\u001B[A"
     ]
    },
    {
     "name": "stdout",
     "output_type": "stream",
     "text": [
      "The song midi-unprocessed_04_r1_2008_01-04_orig_mid--audio_04_r1_2008_wav--1-split does already exist for the configuration /home/falaxdb/Repos/minus1/transformer_decoder_training/saved_files/saved_models/transformer_0.2/tests/top_k/midi-unprocessed_04_r1_2008_01-04_orig_mid--audio_04_r1_2008_wav--1-split_configuration.json, skipping\n",
      "The song simple_test does already exist for the configuration /home/falaxdb/Repos/minus1/transformer_decoder_training/saved_files/saved_models/transformer_0.2/tests/top_k/simple_test_configuration.json, skipping\n",
      "The song short_cord_progression does already exist for the configuration /home/falaxdb/Repos/minus1/transformer_decoder_training/saved_files/saved_models/transformer_0.2/tests/top_k/short_cord_progression_configuration.json, skipping\n",
      "sequecne tensor: torch.Size([1361, 24])\n",
      "sequence with start token tensor: torch.Size([1362, 24])\n",
      "context_seq tensor: torch.Size([1, 101, 24])\n",
      "continuing seq torch.Size([1, 1261, 24])\n",
      "Tokens to generate: 1261\n"
     ]
    },
    {
     "name": "stderr",
     "output_type": "stream",
     "text": [
      "\n",
      "\n",
      "Songs: 100%|██████████| 4/4 [00:01<00:00,  2.15it/s]\u001B[A\u001B[A\n",
      "\n",
      "                                                    \u001B[A\u001B[A\n",
      "Testing configurations: 100%|██████████| 8/8 [00:15<00:00,  1.88s/it]\u001B[A\n",
      "Projects:  11%|█         | 2/19 [00:31<04:28, 15.78s/it]             \u001B[A"
     ]
    },
    {
     "name": "stdout",
     "output_type": "stream",
     "text": [
      "Elapsed time: 1.7298 seconds\n",
      "Binary Tensors after concatinating:  torch.Size([1261, 24])\n",
      "Binary Tensors after unsqueezing:  torch.Size([1, 1261, 24])\n",
      "Context sequence + Generated tokens:  torch.Size([1, 1362, 24])\n",
      "MIDI file saved to /home/falaxdb/Repos/minus1/transformer_decoder_training/saved_files/saved_models/transformer_0.2/tests/top_k/moritz_maria.mid\n",
      "\n",
      "==============================\n",
      "Testing model transformer_0.3\n",
      "At location /home/falaxdb/Repos/minus1/transformer_decoder_training/saved_files/saved_models/transformer_0.3\n",
      "==============================\n",
      "\n",
      "Best epoch is epoch number 1\n"
     ]
    },
    {
     "name": "stderr",
     "output_type": "stream",
     "text": [
      "\n",
      "Testing configurations:   0%|          | 0/8 [00:00<?, ?it/s]\u001B[A\n",
      "\n",
      "Songs:   0%|          | 0/4 [00:00<?, ?it/s]\u001B[A\u001B[A"
     ]
    },
    {
     "name": "stdout",
     "output_type": "stream",
     "text": [
      "The song midi-unprocessed_04_r1_2008_01-04_orig_mid--audio_04_r1_2008_wav--1-split does already exist for the configuration /home/falaxdb/Repos/minus1/transformer_decoder_training/saved_files/saved_models/transformer_0.3/tests/threshold_005/midi-unprocessed_04_r1_2008_01-04_orig_mid--audio_04_r1_2008_wav--1-split_configuration.json, skipping\n",
      "The song simple_test does already exist for the configuration /home/falaxdb/Repos/minus1/transformer_decoder_training/saved_files/saved_models/transformer_0.3/tests/threshold_005/simple_test_configuration.json, skipping\n",
      "The song short_cord_progression does already exist for the configuration /home/falaxdb/Repos/minus1/transformer_decoder_training/saved_files/saved_models/transformer_0.3/tests/threshold_005/short_cord_progression_configuration.json, skipping\n",
      "sequecne tensor: torch.Size([1361, 24])\n",
      "sequence with start token tensor: torch.Size([1362, 24])\n",
      "context_seq tensor: torch.Size([1, 513, 24])\n",
      "continuing seq torch.Size([1, 849, 24])\n",
      "Tokens to generate: 849\n"
     ]
    },
    {
     "name": "stderr",
     "output_type": "stream",
     "text": [
      "\n",
      "\n",
      "Songs: 100%|██████████| 4/4 [00:03<00:00,  1.00it/s]\u001B[A\u001B[A\n",
      "\n",
      "                                                    \u001B[A\u001B[A\n",
      "Testing configurations:  12%|█▎        | 1/8 [00:03<00:27,  3.99s/it]\u001B[A"
     ]
    },
    {
     "name": "stdout",
     "output_type": "stream",
     "text": [
      "Elapsed time: 3.7918 seconds\n",
      "Binary Tensors after concatinating:  torch.Size([849, 24])\n",
      "Binary Tensors after unsqueezing:  torch.Size([1, 849, 24])\n",
      "Context sequence + Generated tokens:  torch.Size([1, 1362, 24])\n",
      "MIDI file saved to /home/falaxdb/Repos/minus1/transformer_decoder_training/saved_files/saved_models/transformer_0.3/tests/threshold_005/moritz_maria.mid\n"
     ]
    },
    {
     "name": "stderr",
     "output_type": "stream",
     "text": [
      "\n",
      "\n",
      "Songs:   0%|          | 0/4 [00:00<?, ?it/s]\u001B[A\u001B[A"
     ]
    },
    {
     "name": "stdout",
     "output_type": "stream",
     "text": [
      "The song midi-unprocessed_04_r1_2008_01-04_orig_mid--audio_04_r1_2008_wav--1-split does already exist for the configuration /home/falaxdb/Repos/minus1/transformer_decoder_training/saved_files/saved_models/transformer_0.3/tests/threshold_01/midi-unprocessed_04_r1_2008_01-04_orig_mid--audio_04_r1_2008_wav--1-split_configuration.json, skipping\n",
      "The song simple_test does already exist for the configuration /home/falaxdb/Repos/minus1/transformer_decoder_training/saved_files/saved_models/transformer_0.3/tests/threshold_01/simple_test_configuration.json, skipping\n",
      "The song short_cord_progression does already exist for the configuration /home/falaxdb/Repos/minus1/transformer_decoder_training/saved_files/saved_models/transformer_0.3/tests/threshold_01/short_cord_progression_configuration.json, skipping\n",
      "sequecne tensor: torch.Size([1361, 24])\n",
      "sequence with start token tensor: torch.Size([1362, 24])\n",
      "context_seq tensor: torch.Size([1, 513, 24])\n",
      "continuing seq torch.Size([1, 849, 24])\n",
      "Tokens to generate: 849\n"
     ]
    },
    {
     "name": "stderr",
     "output_type": "stream",
     "text": [
      "\n",
      "\n",
      "Songs: 100%|██████████| 4/4 [00:03<00:00,  1.01it/s]\u001B[A\u001B[A\n",
      "\n",
      "                                                    \u001B[A\u001B[A\n",
      "Testing configurations:  25%|██▌       | 2/8 [00:07<00:23,  3.98s/it]\u001B[A"
     ]
    },
    {
     "name": "stdout",
     "output_type": "stream",
     "text": [
      "Elapsed time: 3.8095 seconds\n",
      "Binary Tensors after concatinating:  torch.Size([849, 24])\n",
      "Binary Tensors after unsqueezing:  torch.Size([1, 849, 24])\n",
      "Context sequence + Generated tokens:  torch.Size([1, 1362, 24])\n",
      "MIDI file saved to /home/falaxdb/Repos/minus1/transformer_decoder_training/saved_files/saved_models/transformer_0.3/tests/threshold_01/moritz_maria.mid\n"
     ]
    },
    {
     "name": "stderr",
     "output_type": "stream",
     "text": [
      "\n",
      "\n",
      "Songs:   0%|          | 0/4 [00:00<?, ?it/s]\u001B[A\u001B[A"
     ]
    },
    {
     "name": "stdout",
     "output_type": "stream",
     "text": [
      "The song midi-unprocessed_04_r1_2008_01-04_orig_mid--audio_04_r1_2008_wav--1-split does already exist for the configuration /home/falaxdb/Repos/minus1/transformer_decoder_training/saved_files/saved_models/transformer_0.3/tests/threshold_015/midi-unprocessed_04_r1_2008_01-04_orig_mid--audio_04_r1_2008_wav--1-split_configuration.json, skipping\n",
      "The song simple_test does already exist for the configuration /home/falaxdb/Repos/minus1/transformer_decoder_training/saved_files/saved_models/transformer_0.3/tests/threshold_015/simple_test_configuration.json, skipping\n",
      "The song short_cord_progression does already exist for the configuration /home/falaxdb/Repos/minus1/transformer_decoder_training/saved_files/saved_models/transformer_0.3/tests/threshold_015/short_cord_progression_configuration.json, skipping\n",
      "sequecne tensor: torch.Size([1361, 24])\n",
      "sequence with start token tensor: torch.Size([1362, 24])\n",
      "context_seq tensor: torch.Size([1, 513, 24])\n",
      "continuing seq torch.Size([1, 849, 24])\n",
      "Tokens to generate: 849\n"
     ]
    },
    {
     "name": "stderr",
     "output_type": "stream",
     "text": [
      "\n",
      "\n",
      "Songs: 100%|██████████| 4/4 [00:03<00:00,  1.00it/s]\u001B[A\u001B[A\n",
      "\n",
      "                                                    \u001B[A\u001B[A\n",
      "Testing configurations:  38%|███▊      | 3/8 [00:11<00:19,  3.98s/it]\u001B[A"
     ]
    },
    {
     "name": "stdout",
     "output_type": "stream",
     "text": [
      "Elapsed time: 3.8199 seconds\n",
      "Binary Tensors after concatinating:  torch.Size([849, 24])\n",
      "Binary Tensors after unsqueezing:  torch.Size([1, 849, 24])\n",
      "Context sequence + Generated tokens:  torch.Size([1, 1362, 24])\n",
      "MIDI file saved to /home/falaxdb/Repos/minus1/transformer_decoder_training/saved_files/saved_models/transformer_0.3/tests/threshold_015/moritz_maria.mid\n"
     ]
    },
    {
     "name": "stderr",
     "output_type": "stream",
     "text": [
      "\n",
      "\n",
      "Songs:   0%|          | 0/4 [00:00<?, ?it/s]\u001B[A\u001B[A"
     ]
    },
    {
     "name": "stdout",
     "output_type": "stream",
     "text": [
      "The song midi-unprocessed_04_r1_2008_01-04_orig_mid--audio_04_r1_2008_wav--1-split does already exist for the configuration /home/falaxdb/Repos/minus1/transformer_decoder_training/saved_files/saved_models/transformer_0.3/tests/threshold_02/midi-unprocessed_04_r1_2008_01-04_orig_mid--audio_04_r1_2008_wav--1-split_configuration.json, skipping\n",
      "The song simple_test does already exist for the configuration /home/falaxdb/Repos/minus1/transformer_decoder_training/saved_files/saved_models/transformer_0.3/tests/threshold_02/simple_test_configuration.json, skipping\n",
      "The song short_cord_progression does already exist for the configuration /home/falaxdb/Repos/minus1/transformer_decoder_training/saved_files/saved_models/transformer_0.3/tests/threshold_02/short_cord_progression_configuration.json, skipping\n",
      "sequecne tensor: torch.Size([1361, 24])\n",
      "sequence with start token tensor: torch.Size([1362, 24])\n",
      "context_seq tensor: torch.Size([1, 513, 24])\n",
      "continuing seq torch.Size([1, 849, 24])\n",
      "Tokens to generate: 849\n"
     ]
    },
    {
     "name": "stderr",
     "output_type": "stream",
     "text": [
      "\n",
      "\n",
      "Songs: 100%|██████████| 4/4 [00:03<00:00,  1.00it/s]\u001B[A\u001B[A\n",
      "\n",
      "                                                    \u001B[A\u001B[A\n",
      "Testing configurations:  50%|█████     | 4/8 [00:15<00:15,  3.98s/it]\u001B[A"
     ]
    },
    {
     "name": "stdout",
     "output_type": "stream",
     "text": [
      "Elapsed time: 3.8229 seconds\n",
      "Binary Tensors after concatinating:  torch.Size([849, 24])\n",
      "Binary Tensors after unsqueezing:  torch.Size([1, 849, 24])\n",
      "Context sequence + Generated tokens:  torch.Size([1, 1362, 24])\n",
      "MIDI file saved to /home/falaxdb/Repos/minus1/transformer_decoder_training/saved_files/saved_models/transformer_0.3/tests/threshold_02/moritz_maria.mid\n"
     ]
    },
    {
     "name": "stderr",
     "output_type": "stream",
     "text": [
      "\n",
      "\n",
      "Songs:   0%|          | 0/4 [00:00<?, ?it/s]\u001B[A\u001B[A"
     ]
    },
    {
     "name": "stdout",
     "output_type": "stream",
     "text": [
      "The song midi-unprocessed_04_r1_2008_01-04_orig_mid--audio_04_r1_2008_wav--1-split does already exist for the configuration /home/falaxdb/Repos/minus1/transformer_decoder_training/saved_files/saved_models/transformer_0.3/tests/threshold_025/midi-unprocessed_04_r1_2008_01-04_orig_mid--audio_04_r1_2008_wav--1-split_configuration.json, skipping\n",
      "The song simple_test does already exist for the configuration /home/falaxdb/Repos/minus1/transformer_decoder_training/saved_files/saved_models/transformer_0.3/tests/threshold_025/simple_test_configuration.json, skipping\n",
      "The song short_cord_progression does already exist for the configuration /home/falaxdb/Repos/minus1/transformer_decoder_training/saved_files/saved_models/transformer_0.3/tests/threshold_025/short_cord_progression_configuration.json, skipping\n",
      "sequecne tensor: torch.Size([1361, 24])\n",
      "sequence with start token tensor: torch.Size([1362, 24])\n",
      "context_seq tensor: torch.Size([1, 513, 24])\n",
      "continuing seq torch.Size([1, 849, 24])\n",
      "Tokens to generate: 849\n"
     ]
    },
    {
     "name": "stderr",
     "output_type": "stream",
     "text": [
      "\n",
      "\n",
      "Songs: 100%|██████████| 4/4 [00:03<00:00,  1.00it/s]\u001B[A\u001B[A\n",
      "\n",
      "                                                    \u001B[A\u001B[A\n",
      "Testing configurations:  62%|██████▎   | 5/8 [00:19<00:11,  3.99s/it]\u001B[A"
     ]
    },
    {
     "name": "stdout",
     "output_type": "stream",
     "text": [
      "Elapsed time: 3.8247 seconds\n",
      "Binary Tensors after concatinating:  torch.Size([849, 24])\n",
      "Binary Tensors after unsqueezing:  torch.Size([1, 849, 24])\n",
      "Context sequence + Generated tokens:  torch.Size([1, 1362, 24])\n",
      "MIDI file saved to /home/falaxdb/Repos/minus1/transformer_decoder_training/saved_files/saved_models/transformer_0.3/tests/threshold_025/moritz_maria.mid\n"
     ]
    },
    {
     "name": "stderr",
     "output_type": "stream",
     "text": [
      "\n",
      "\n",
      "Songs:   0%|          | 0/4 [00:00<?, ?it/s]\u001B[A\u001B[A"
     ]
    },
    {
     "name": "stdout",
     "output_type": "stream",
     "text": [
      "The song midi-unprocessed_04_r1_2008_01-04_orig_mid--audio_04_r1_2008_wav--1-split does already exist for the configuration /home/falaxdb/Repos/minus1/transformer_decoder_training/saved_files/saved_models/transformer_0.3/tests/threshold_05/midi-unprocessed_04_r1_2008_01-04_orig_mid--audio_04_r1_2008_wav--1-split_configuration.json, skipping\n",
      "The song simple_test does already exist for the configuration /home/falaxdb/Repos/minus1/transformer_decoder_training/saved_files/saved_models/transformer_0.3/tests/threshold_05/simple_test_configuration.json, skipping\n",
      "The song short_cord_progression does already exist for the configuration /home/falaxdb/Repos/minus1/transformer_decoder_training/saved_files/saved_models/transformer_0.3/tests/threshold_05/short_cord_progression_configuration.json, skipping\n",
      "sequecne tensor: torch.Size([1361, 24])\n",
      "sequence with start token tensor: torch.Size([1362, 24])\n",
      "context_seq tensor: torch.Size([1, 513, 24])\n",
      "continuing seq torch.Size([1, 849, 24])\n",
      "Tokens to generate: 849\n"
     ]
    },
    {
     "name": "stderr",
     "output_type": "stream",
     "text": [
      "\n",
      "\n",
      "Songs: 100%|██████████| 4/4 [00:03<00:00,  1.01it/s]\u001B[A\u001B[A\n",
      "\n",
      "                                                    \u001B[A\u001B[A\n",
      "Testing configurations:  75%|███████▌  | 6/8 [00:23<00:07,  3.98s/it]\u001B[A"
     ]
    },
    {
     "name": "stdout",
     "output_type": "stream",
     "text": [
      "Elapsed time: 3.8189 seconds\n",
      "Binary Tensors after concatinating:  torch.Size([849, 24])\n",
      "Binary Tensors after unsqueezing:  torch.Size([1, 849, 24])\n",
      "Context sequence + Generated tokens:  torch.Size([1, 1362, 24])\n",
      "MIDI file saved to /home/falaxdb/Repos/minus1/transformer_decoder_training/saved_files/saved_models/transformer_0.3/tests/threshold_05/moritz_maria.mid\n"
     ]
    },
    {
     "name": "stderr",
     "output_type": "stream",
     "text": [
      "\n",
      "\n",
      "Songs:   0%|          | 0/4 [00:00<?, ?it/s]\u001B[A\u001B[A"
     ]
    },
    {
     "name": "stdout",
     "output_type": "stream",
     "text": [
      "The song midi-unprocessed_04_r1_2008_01-04_orig_mid--audio_04_r1_2008_wav--1-split does already exist for the configuration /home/falaxdb/Repos/minus1/transformer_decoder_training/saved_files/saved_models/transformer_0.3/tests/threshold_03/midi-unprocessed_04_r1_2008_01-04_orig_mid--audio_04_r1_2008_wav--1-split_configuration.json, skipping\n",
      "The song simple_test does already exist for the configuration /home/falaxdb/Repos/minus1/transformer_decoder_training/saved_files/saved_models/transformer_0.3/tests/threshold_03/simple_test_configuration.json, skipping\n",
      "The song short_cord_progression does already exist for the configuration /home/falaxdb/Repos/minus1/transformer_decoder_training/saved_files/saved_models/transformer_0.3/tests/threshold_03/short_cord_progression_configuration.json, skipping\n",
      "sequecne tensor: torch.Size([1361, 24])\n",
      "sequence with start token tensor: torch.Size([1362, 24])\n",
      "context_seq tensor: torch.Size([1, 513, 24])\n",
      "continuing seq torch.Size([1, 849, 24])\n",
      "Tokens to generate: 849\n"
     ]
    },
    {
     "name": "stderr",
     "output_type": "stream",
     "text": [
      "\n",
      "\n",
      "Songs: 100%|██████████| 4/4 [00:03<00:00,  1.00it/s]\u001B[A\u001B[A\n",
      "\n",
      "                                                    \u001B[A\u001B[A\n",
      "Testing configurations:  88%|████████▊ | 7/8 [00:27<00:03,  3.99s/it]\u001B[A"
     ]
    },
    {
     "name": "stdout",
     "output_type": "stream",
     "text": [
      "Elapsed time: 3.8334 seconds\n",
      "Binary Tensors after concatinating:  torch.Size([849, 24])\n",
      "Binary Tensors after unsqueezing:  torch.Size([1, 849, 24])\n",
      "Context sequence + Generated tokens:  torch.Size([1, 1362, 24])\n",
      "MIDI file saved to /home/falaxdb/Repos/minus1/transformer_decoder_training/saved_files/saved_models/transformer_0.3/tests/threshold_03/moritz_maria.mid\n"
     ]
    },
    {
     "name": "stderr",
     "output_type": "stream",
     "text": [
      "\n",
      "\n",
      "Songs:   0%|          | 0/4 [00:00<?, ?it/s]\u001B[A\u001B[A"
     ]
    },
    {
     "name": "stdout",
     "output_type": "stream",
     "text": [
      "The song midi-unprocessed_04_r1_2008_01-04_orig_mid--audio_04_r1_2008_wav--1-split does already exist for the configuration /home/falaxdb/Repos/minus1/transformer_decoder_training/saved_files/saved_models/transformer_0.3/tests/top_k/midi-unprocessed_04_r1_2008_01-04_orig_mid--audio_04_r1_2008_wav--1-split_configuration.json, skipping\n",
      "The song simple_test does already exist for the configuration /home/falaxdb/Repos/minus1/transformer_decoder_training/saved_files/saved_models/transformer_0.3/tests/top_k/simple_test_configuration.json, skipping\n",
      "The song short_cord_progression does already exist for the configuration /home/falaxdb/Repos/minus1/transformer_decoder_training/saved_files/saved_models/transformer_0.3/tests/top_k/short_cord_progression_configuration.json, skipping\n",
      "sequecne tensor: torch.Size([1361, 24])\n",
      "sequence with start token tensor: torch.Size([1362, 24])\n",
      "context_seq tensor: torch.Size([1, 513, 24])\n",
      "continuing seq torch.Size([1, 849, 24])\n",
      "Tokens to generate: 849\n"
     ]
    },
    {
     "name": "stderr",
     "output_type": "stream",
     "text": [
      "\n",
      "\n",
      "Songs: 100%|██████████| 4/4 [00:04<00:00,  1.03s/it]\u001B[A\u001B[A\n",
      "\n",
      "                                                    \u001B[A\u001B[A\n",
      "Testing configurations: 100%|██████████| 8/8 [00:32<00:00,  4.04s/it]\u001B[A\n",
      "Projects:  16%|█▌        | 3/19 [01:04<06:17, 23.57s/it]             \u001B[A"
     ]
    },
    {
     "name": "stdout",
     "output_type": "stream",
     "text": [
      "Elapsed time: 3.9564 seconds\n",
      "Binary Tensors after concatinating:  torch.Size([849, 24])\n",
      "Binary Tensors after unsqueezing:  torch.Size([1, 849, 24])\n",
      "Context sequence + Generated tokens:  torch.Size([1, 1362, 24])\n",
      "MIDI file saved to /home/falaxdb/Repos/minus1/transformer_decoder_training/saved_files/saved_models/transformer_0.3/tests/top_k/moritz_maria.mid\n",
      "\n",
      "==============================\n",
      "Testing model transformer_0.4\n",
      "At location /home/falaxdb/Repos/minus1/transformer_decoder_training/saved_files/saved_models/transformer_0.4\n",
      "==============================\n",
      "\n",
      "Best epoch is epoch number 7\n"
     ]
    },
    {
     "name": "stderr",
     "output_type": "stream",
     "text": [
      "\n",
      "Testing configurations:   0%|          | 0/8 [00:00<?, ?it/s]\u001B[A\n",
      "\n",
      "Songs:   0%|          | 0/4 [00:00<?, ?it/s]\u001B[A\u001B[A"
     ]
    },
    {
     "name": "stdout",
     "output_type": "stream",
     "text": [
      "The song midi-unprocessed_04_r1_2008_01-04_orig_mid--audio_04_r1_2008_wav--1-split does already exist for the configuration /home/falaxdb/Repos/minus1/transformer_decoder_training/saved_files/saved_models/transformer_0.4/tests/threshold_005/midi-unprocessed_04_r1_2008_01-04_orig_mid--audio_04_r1_2008_wav--1-split_configuration.json, skipping\n",
      "The song simple_test does already exist for the configuration /home/falaxdb/Repos/minus1/transformer_decoder_training/saved_files/saved_models/transformer_0.4/tests/threshold_005/simple_test_configuration.json, skipping\n",
      "The song short_cord_progression does already exist for the configuration /home/falaxdb/Repos/minus1/transformer_decoder_training/saved_files/saved_models/transformer_0.4/tests/threshold_005/short_cord_progression_configuration.json, skipping\n",
      "sequecne tensor: torch.Size([1361, 24])\n",
      "sequence with start token tensor: torch.Size([1362, 24])\n",
      "context_seq tensor: torch.Size([1, 9, 24])\n",
      "continuing seq torch.Size([1, 1353, 24])\n",
      "Tokens to generate: 1353\n"
     ]
    },
    {
     "name": "stderr",
     "output_type": "stream",
     "text": [
      "\n",
      "\n",
      "Songs: 100%|██████████| 4/4 [00:01<00:00,  2.11it/s]\u001B[A\u001B[A\n",
      "\n",
      "                                                    \u001B[A\u001B[A\n",
      "Testing configurations:  12%|█▎        | 1/8 [00:01<00:13,  1.90s/it]\u001B[A"
     ]
    },
    {
     "name": "stdout",
     "output_type": "stream",
     "text": [
      "Elapsed time: 1.7600 seconds\n",
      "Binary Tensors after concatinating:  torch.Size([1353, 24])\n",
      "Binary Tensors after unsqueezing:  torch.Size([1, 1353, 24])\n",
      "Context sequence + Generated tokens:  torch.Size([1, 1362, 24])\n",
      "MIDI file saved to /home/falaxdb/Repos/minus1/transformer_decoder_training/saved_files/saved_models/transformer_0.4/tests/threshold_005/moritz_maria.mid\n"
     ]
    },
    {
     "name": "stderr",
     "output_type": "stream",
     "text": [
      "\n",
      "\n",
      "Songs:   0%|          | 0/4 [00:00<?, ?it/s]\u001B[A\u001B[A"
     ]
    },
    {
     "name": "stdout",
     "output_type": "stream",
     "text": [
      "The song midi-unprocessed_04_r1_2008_01-04_orig_mid--audio_04_r1_2008_wav--1-split does already exist for the configuration /home/falaxdb/Repos/minus1/transformer_decoder_training/saved_files/saved_models/transformer_0.4/tests/threshold_01/midi-unprocessed_04_r1_2008_01-04_orig_mid--audio_04_r1_2008_wav--1-split_configuration.json, skipping\n",
      "The song simple_test does already exist for the configuration /home/falaxdb/Repos/minus1/transformer_decoder_training/saved_files/saved_models/transformer_0.4/tests/threshold_01/simple_test_configuration.json, skipping\n",
      "The song short_cord_progression does already exist for the configuration /home/falaxdb/Repos/minus1/transformer_decoder_training/saved_files/saved_models/transformer_0.4/tests/threshold_01/short_cord_progression_configuration.json, skipping\n",
      "sequecne tensor: torch.Size([1361, 24])\n",
      "sequence with start token tensor: torch.Size([1362, 24])\n",
      "context_seq tensor: torch.Size([1, 9, 24])\n",
      "continuing seq torch.Size([1, 1353, 24])\n",
      "Tokens to generate: 1353\n"
     ]
    },
    {
     "name": "stderr",
     "output_type": "stream",
     "text": [
      "\n",
      "\n",
      "Songs: 100%|██████████| 4/4 [00:01<00:00,  2.11it/s]\u001B[A\u001B[A\n",
      "\n",
      "                                                    \u001B[A\u001B[A\n",
      "Testing configurations:  25%|██▌       | 2/8 [00:03<00:11,  1.90s/it]\u001B[A"
     ]
    },
    {
     "name": "stdout",
     "output_type": "stream",
     "text": [
      "Elapsed time: 1.7606 seconds\n",
      "Binary Tensors after concatinating:  torch.Size([1353, 24])\n",
      "Binary Tensors after unsqueezing:  torch.Size([1, 1353, 24])\n",
      "Context sequence + Generated tokens:  torch.Size([1, 1362, 24])\n",
      "MIDI file saved to /home/falaxdb/Repos/minus1/transformer_decoder_training/saved_files/saved_models/transformer_0.4/tests/threshold_01/moritz_maria.mid\n"
     ]
    },
    {
     "name": "stderr",
     "output_type": "stream",
     "text": [
      "\n",
      "\n",
      "Songs:   0%|          | 0/4 [00:00<?, ?it/s]\u001B[A\u001B[A"
     ]
    },
    {
     "name": "stdout",
     "output_type": "stream",
     "text": [
      "The song midi-unprocessed_04_r1_2008_01-04_orig_mid--audio_04_r1_2008_wav--1-split does already exist for the configuration /home/falaxdb/Repos/minus1/transformer_decoder_training/saved_files/saved_models/transformer_0.4/tests/threshold_015/midi-unprocessed_04_r1_2008_01-04_orig_mid--audio_04_r1_2008_wav--1-split_configuration.json, skipping\n",
      "The song simple_test does already exist for the configuration /home/falaxdb/Repos/minus1/transformer_decoder_training/saved_files/saved_models/transformer_0.4/tests/threshold_015/simple_test_configuration.json, skipping\n",
      "The song short_cord_progression does already exist for the configuration /home/falaxdb/Repos/minus1/transformer_decoder_training/saved_files/saved_models/transformer_0.4/tests/threshold_015/short_cord_progression_configuration.json, skipping\n",
      "sequecne tensor: torch.Size([1361, 24])\n",
      "sequence with start token tensor: torch.Size([1362, 24])\n",
      "context_seq tensor: torch.Size([1, 9, 24])\n",
      "continuing seq torch.Size([1, 1353, 24])\n",
      "Tokens to generate: 1353\n"
     ]
    },
    {
     "name": "stderr",
     "output_type": "stream",
     "text": [
      "\n",
      "\n",
      "Songs: 100%|██████████| 4/4 [00:01<00:00,  2.08it/s]\u001B[A\u001B[A\n",
      "\n",
      "                                                    \u001B[A\u001B[A\n",
      "Testing configurations:  38%|███▊      | 3/8 [00:05<00:09,  1.91s/it]\u001B[A"
     ]
    },
    {
     "name": "stdout",
     "output_type": "stream",
     "text": [
      "Elapsed time: 1.7576 seconds\n",
      "Binary Tensors after concatinating:  torch.Size([1353, 24])\n",
      "Binary Tensors after unsqueezing:  torch.Size([1, 1353, 24])\n",
      "Context sequence + Generated tokens:  torch.Size([1, 1362, 24])\n",
      "MIDI file saved to /home/falaxdb/Repos/minus1/transformer_decoder_training/saved_files/saved_models/transformer_0.4/tests/threshold_015/moritz_maria.mid\n"
     ]
    },
    {
     "name": "stderr",
     "output_type": "stream",
     "text": [
      "\n",
      "\n",
      "Songs:   0%|          | 0/4 [00:00<?, ?it/s]\u001B[A\u001B[A"
     ]
    },
    {
     "name": "stdout",
     "output_type": "stream",
     "text": [
      "The song midi-unprocessed_04_r1_2008_01-04_orig_mid--audio_04_r1_2008_wav--1-split does already exist for the configuration /home/falaxdb/Repos/minus1/transformer_decoder_training/saved_files/saved_models/transformer_0.4/tests/threshold_02/midi-unprocessed_04_r1_2008_01-04_orig_mid--audio_04_r1_2008_wav--1-split_configuration.json, skipping\n",
      "The song simple_test does already exist for the configuration /home/falaxdb/Repos/minus1/transformer_decoder_training/saved_files/saved_models/transformer_0.4/tests/threshold_02/simple_test_configuration.json, skipping\n",
      "The song short_cord_progression does already exist for the configuration /home/falaxdb/Repos/minus1/transformer_decoder_training/saved_files/saved_models/transformer_0.4/tests/threshold_02/short_cord_progression_configuration.json, skipping\n",
      "sequecne tensor: torch.Size([1361, 24])\n",
      "sequence with start token tensor: torch.Size([1362, 24])\n",
      "context_seq tensor: torch.Size([1, 9, 24])\n",
      "continuing seq torch.Size([1, 1353, 24])\n",
      "Tokens to generate: 1353\n"
     ]
    },
    {
     "name": "stderr",
     "output_type": "stream",
     "text": [
      "\n",
      "\n",
      "Songs: 100%|██████████| 4/4 [00:01<00:00,  2.11it/s]\u001B[A\u001B[A\n",
      "\n",
      "                                                    \u001B[A\u001B[A\n",
      "Testing configurations:  50%|█████     | 4/8 [00:07<00:07,  1.91s/it]\u001B[A"
     ]
    },
    {
     "name": "stdout",
     "output_type": "stream",
     "text": [
      "Elapsed time: 1.7659 seconds\n",
      "Binary Tensors after concatinating:  torch.Size([1353, 24])\n",
      "Binary Tensors after unsqueezing:  torch.Size([1, 1353, 24])\n",
      "Context sequence + Generated tokens:  torch.Size([1, 1362, 24])\n",
      "MIDI file saved to /home/falaxdb/Repos/minus1/transformer_decoder_training/saved_files/saved_models/transformer_0.4/tests/threshold_02/moritz_maria.mid\n"
     ]
    },
    {
     "name": "stderr",
     "output_type": "stream",
     "text": [
      "\n",
      "\n",
      "Songs:   0%|          | 0/4 [00:00<?, ?it/s]\u001B[A\u001B[A"
     ]
    },
    {
     "name": "stdout",
     "output_type": "stream",
     "text": [
      "The song midi-unprocessed_04_r1_2008_01-04_orig_mid--audio_04_r1_2008_wav--1-split does already exist for the configuration /home/falaxdb/Repos/minus1/transformer_decoder_training/saved_files/saved_models/transformer_0.4/tests/threshold_025/midi-unprocessed_04_r1_2008_01-04_orig_mid--audio_04_r1_2008_wav--1-split_configuration.json, skipping\n",
      "The song simple_test does already exist for the configuration /home/falaxdb/Repos/minus1/transformer_decoder_training/saved_files/saved_models/transformer_0.4/tests/threshold_025/simple_test_configuration.json, skipping\n",
      "The song short_cord_progression does already exist for the configuration /home/falaxdb/Repos/minus1/transformer_decoder_training/saved_files/saved_models/transformer_0.4/tests/threshold_025/short_cord_progression_configuration.json, skipping\n",
      "sequecne tensor: torch.Size([1361, 24])\n",
      "sequence with start token tensor: torch.Size([1362, 24])\n",
      "context_seq tensor: torch.Size([1, 9, 24])\n",
      "continuing seq torch.Size([1, 1353, 24])\n",
      "Tokens to generate: 1353\n"
     ]
    },
    {
     "name": "stderr",
     "output_type": "stream",
     "text": [
      "\n",
      "\n",
      "Songs: 100%|██████████| 4/4 [00:01<00:00,  2.11it/s]\u001B[A\u001B[A\n",
      "\n",
      "                                                    \u001B[A\u001B[A\n",
      "Testing configurations:  62%|██████▎   | 5/8 [00:09<00:05,  1.90s/it]\u001B[A"
     ]
    },
    {
     "name": "stdout",
     "output_type": "stream",
     "text": [
      "Elapsed time: 1.7659 seconds\n",
      "Binary Tensors after concatinating:  torch.Size([1353, 24])\n",
      "Binary Tensors after unsqueezing:  torch.Size([1, 1353, 24])\n",
      "Context sequence + Generated tokens:  torch.Size([1, 1362, 24])\n",
      "MIDI file saved to /home/falaxdb/Repos/minus1/transformer_decoder_training/saved_files/saved_models/transformer_0.4/tests/threshold_025/moritz_maria.mid\n"
     ]
    },
    {
     "name": "stderr",
     "output_type": "stream",
     "text": [
      "\n",
      "\n",
      "Songs:   0%|          | 0/4 [00:00<?, ?it/s]\u001B[A\u001B[A"
     ]
    },
    {
     "name": "stdout",
     "output_type": "stream",
     "text": [
      "The song midi-unprocessed_04_r1_2008_01-04_orig_mid--audio_04_r1_2008_wav--1-split does already exist for the configuration /home/falaxdb/Repos/minus1/transformer_decoder_training/saved_files/saved_models/transformer_0.4/tests/threshold_05/midi-unprocessed_04_r1_2008_01-04_orig_mid--audio_04_r1_2008_wav--1-split_configuration.json, skipping\n",
      "The song simple_test does already exist for the configuration /home/falaxdb/Repos/minus1/transformer_decoder_training/saved_files/saved_models/transformer_0.4/tests/threshold_05/simple_test_configuration.json, skipping\n",
      "The song short_cord_progression does already exist for the configuration /home/falaxdb/Repos/minus1/transformer_decoder_training/saved_files/saved_models/transformer_0.4/tests/threshold_05/short_cord_progression_configuration.json, skipping\n",
      "sequecne tensor: torch.Size([1361, 24])\n",
      "sequence with start token tensor: torch.Size([1362, 24])\n",
      "context_seq tensor: torch.Size([1, 9, 24])\n",
      "continuing seq torch.Size([1, 1353, 24])\n",
      "Tokens to generate: 1353\n"
     ]
    },
    {
     "name": "stderr",
     "output_type": "stream",
     "text": [
      "\n",
      "\n",
      "Songs: 100%|██████████| 4/4 [00:01<00:00,  2.09it/s]\u001B[A\u001B[A\n",
      "\n",
      "                                                    \u001B[A\u001B[A\n",
      "Testing configurations:  75%|███████▌  | 6/8 [00:11<00:03,  1.91s/it]\u001B[A"
     ]
    },
    {
     "name": "stdout",
     "output_type": "stream",
     "text": [
      "Elapsed time: 1.7859 seconds\n",
      "Binary Tensors after concatinating:  torch.Size([1353, 24])\n",
      "Binary Tensors after unsqueezing:  torch.Size([1, 1353, 24])\n",
      "Context sequence + Generated tokens:  torch.Size([1, 1362, 24])\n",
      "MIDI file saved to /home/falaxdb/Repos/minus1/transformer_decoder_training/saved_files/saved_models/transformer_0.4/tests/threshold_05/moritz_maria.mid\n"
     ]
    },
    {
     "name": "stderr",
     "output_type": "stream",
     "text": [
      "\n",
      "\n",
      "Songs:   0%|          | 0/4 [00:00<?, ?it/s]\u001B[A\u001B[A"
     ]
    },
    {
     "name": "stdout",
     "output_type": "stream",
     "text": [
      "The song midi-unprocessed_04_r1_2008_01-04_orig_mid--audio_04_r1_2008_wav--1-split does already exist for the configuration /home/falaxdb/Repos/minus1/transformer_decoder_training/saved_files/saved_models/transformer_0.4/tests/threshold_03/midi-unprocessed_04_r1_2008_01-04_orig_mid--audio_04_r1_2008_wav--1-split_configuration.json, skipping\n",
      "The song simple_test does already exist for the configuration /home/falaxdb/Repos/minus1/transformer_decoder_training/saved_files/saved_models/transformer_0.4/tests/threshold_03/simple_test_configuration.json, skipping\n",
      "The song short_cord_progression does already exist for the configuration /home/falaxdb/Repos/minus1/transformer_decoder_training/saved_files/saved_models/transformer_0.4/tests/threshold_03/short_cord_progression_configuration.json, skipping\n",
      "sequecne tensor: torch.Size([1361, 24])\n",
      "sequence with start token tensor: torch.Size([1362, 24])\n",
      "context_seq tensor: torch.Size([1, 9, 24])\n",
      "continuing seq torch.Size([1, 1353, 24])\n",
      "Tokens to generate: 1353\n"
     ]
    },
    {
     "name": "stderr",
     "output_type": "stream",
     "text": [
      "\n",
      "\n",
      "Songs: 100%|██████████| 4/4 [00:01<00:00,  2.10it/s]\u001B[A\u001B[A\n",
      "\n",
      "                                                    \u001B[A\u001B[A\n",
      "Testing configurations:  88%|████████▊ | 7/8 [00:13<00:01,  1.91s/it]\u001B[A"
     ]
    },
    {
     "name": "stdout",
     "output_type": "stream",
     "text": [
      "Elapsed time: 1.7719 seconds\n",
      "Binary Tensors after concatinating:  torch.Size([1353, 24])\n",
      "Binary Tensors after unsqueezing:  torch.Size([1, 1353, 24])\n",
      "Context sequence + Generated tokens:  torch.Size([1, 1362, 24])\n",
      "MIDI file saved to /home/falaxdb/Repos/minus1/transformer_decoder_training/saved_files/saved_models/transformer_0.4/tests/threshold_03/moritz_maria.mid\n"
     ]
    },
    {
     "name": "stderr",
     "output_type": "stream",
     "text": [
      "\n",
      "\n",
      "Songs:   0%|          | 0/4 [00:00<?, ?it/s]\u001B[A\u001B[A"
     ]
    },
    {
     "name": "stdout",
     "output_type": "stream",
     "text": [
      "The song midi-unprocessed_04_r1_2008_01-04_orig_mid--audio_04_r1_2008_wav--1-split does already exist for the configuration /home/falaxdb/Repos/minus1/transformer_decoder_training/saved_files/saved_models/transformer_0.4/tests/top_k/midi-unprocessed_04_r1_2008_01-04_orig_mid--audio_04_r1_2008_wav--1-split_configuration.json, skipping\n",
      "The song simple_test does already exist for the configuration /home/falaxdb/Repos/minus1/transformer_decoder_training/saved_files/saved_models/transformer_0.4/tests/top_k/simple_test_configuration.json, skipping\n",
      "The song short_cord_progression does already exist for the configuration /home/falaxdb/Repos/minus1/transformer_decoder_training/saved_files/saved_models/transformer_0.4/tests/top_k/short_cord_progression_configuration.json, skipping\n",
      "sequecne tensor: torch.Size([1361, 24])\n",
      "sequence with start token tensor: torch.Size([1362, 24])\n",
      "context_seq tensor: torch.Size([1, 9, 24])\n",
      "continuing seq torch.Size([1, 1353, 24])\n",
      "Tokens to generate: 1353\n"
     ]
    },
    {
     "name": "stderr",
     "output_type": "stream",
     "text": [
      "\n",
      "\n",
      "Songs: 100%|██████████| 4/4 [00:01<00:00,  2.02it/s]\u001B[A\u001B[A\n",
      "\n",
      "                                                    \u001B[A\u001B[A\n",
      "Testing configurations: 100%|██████████| 8/8 [00:15<00:00,  1.93s/it]\u001B[A\n",
      "Projects:  21%|██        | 4/19 [01:20<05:09, 20.61s/it]             \u001B[A"
     ]
    },
    {
     "name": "stdout",
     "output_type": "stream",
     "text": [
      "Elapsed time: 1.8422 seconds\n",
      "Binary Tensors after concatinating:  torch.Size([1353, 24])\n",
      "Binary Tensors after unsqueezing:  torch.Size([1, 1353, 24])\n",
      "Context sequence + Generated tokens:  torch.Size([1, 1362, 24])\n",
      "MIDI file saved to /home/falaxdb/Repos/minus1/transformer_decoder_training/saved_files/saved_models/transformer_0.4/tests/top_k/moritz_maria.mid\n",
      "\n",
      "==============================\n",
      "Testing model transformer_0.5\n",
      "At location /home/falaxdb/Repos/minus1/transformer_decoder_training/saved_files/saved_models/transformer_0.5\n",
      "==============================\n",
      "\n",
      "Best epoch is epoch number 18\n"
     ]
    },
    {
     "name": "stderr",
     "output_type": "stream",
     "text": [
      "\n",
      "Testing configurations:   0%|          | 0/8 [00:00<?, ?it/s]\u001B[A\n",
      "\n",
      "Songs:   0%|          | 0/4 [00:00<?, ?it/s]\u001B[A\u001B[A"
     ]
    },
    {
     "name": "stdout",
     "output_type": "stream",
     "text": [
      "The song midi-unprocessed_04_r1_2008_01-04_orig_mid--audio_04_r1_2008_wav--1-split does already exist for the configuration /home/falaxdb/Repos/minus1/transformer_decoder_training/saved_files/saved_models/transformer_0.5/tests/threshold_005/midi-unprocessed_04_r1_2008_01-04_orig_mid--audio_04_r1_2008_wav--1-split_configuration.json, skipping\n",
      "The song simple_test does already exist for the configuration /home/falaxdb/Repos/minus1/transformer_decoder_training/saved_files/saved_models/transformer_0.5/tests/threshold_005/simple_test_configuration.json, skipping\n",
      "The song short_cord_progression does already exist for the configuration /home/falaxdb/Repos/minus1/transformer_decoder_training/saved_files/saved_models/transformer_0.5/tests/threshold_005/short_cord_progression_configuration.json, skipping\n",
      "sequecne tensor: torch.Size([1361, 24])\n",
      "sequence with start token tensor: torch.Size([1362, 24])\n",
      "context_seq tensor: torch.Size([1, 5, 24])\n",
      "continuing seq torch.Size([1, 1357, 24])\n",
      "Tokens to generate: 1357\n"
     ]
    },
    {
     "name": "stderr",
     "output_type": "stream",
     "text": [
      "\n",
      "\n",
      "Songs: 100%|██████████| 4/4 [00:01<00:00,  2.11it/s]\u001B[A\u001B[A\n",
      "\n",
      "                                                    \u001B[A\u001B[A\n",
      "Testing configurations:  12%|█▎        | 1/8 [00:01<00:13,  1.90s/it]\u001B[A"
     ]
    },
    {
     "name": "stdout",
     "output_type": "stream",
     "text": [
      "Elapsed time: 1.7677 seconds\n",
      "Binary Tensors after concatinating:  torch.Size([1357, 24])\n",
      "Binary Tensors after unsqueezing:  torch.Size([1, 1357, 24])\n",
      "Context sequence + Generated tokens:  torch.Size([1, 1362, 24])\n",
      "MIDI file saved to /home/falaxdb/Repos/minus1/transformer_decoder_training/saved_files/saved_models/transformer_0.5/tests/threshold_005/moritz_maria.mid\n"
     ]
    },
    {
     "name": "stderr",
     "output_type": "stream",
     "text": [
      "\n",
      "\n",
      "Songs:   0%|          | 0/4 [00:00<?, ?it/s]\u001B[A\u001B[A"
     ]
    },
    {
     "name": "stdout",
     "output_type": "stream",
     "text": [
      "The song midi-unprocessed_04_r1_2008_01-04_orig_mid--audio_04_r1_2008_wav--1-split does already exist for the configuration /home/falaxdb/Repos/minus1/transformer_decoder_training/saved_files/saved_models/transformer_0.5/tests/threshold_01/midi-unprocessed_04_r1_2008_01-04_orig_mid--audio_04_r1_2008_wav--1-split_configuration.json, skipping\n",
      "The song simple_test does already exist for the configuration /home/falaxdb/Repos/minus1/transformer_decoder_training/saved_files/saved_models/transformer_0.5/tests/threshold_01/simple_test_configuration.json, skipping\n",
      "The song short_cord_progression does already exist for the configuration /home/falaxdb/Repos/minus1/transformer_decoder_training/saved_files/saved_models/transformer_0.5/tests/threshold_01/short_cord_progression_configuration.json, skipping\n",
      "sequecne tensor: torch.Size([1361, 24])\n",
      "sequence with start token tensor: torch.Size([1362, 24])\n",
      "context_seq tensor: torch.Size([1, 5, 24])\n",
      "continuing seq torch.Size([1, 1357, 24])\n",
      "Tokens to generate: 1357\n"
     ]
    },
    {
     "name": "stderr",
     "output_type": "stream",
     "text": [
      "\n",
      "\n",
      "Songs: 100%|██████████| 4/4 [00:01<00:00,  2.10it/s]\u001B[A\u001B[A\n",
      "\n",
      "                                                    \u001B[A\u001B[A\n",
      "Testing configurations:  25%|██▌       | 2/8 [00:03<00:11,  1.90s/it]\u001B[A"
     ]
    },
    {
     "name": "stdout",
     "output_type": "stream",
     "text": [
      "Elapsed time: 1.7667 seconds\n",
      "Binary Tensors after concatinating:  torch.Size([1357, 24])\n",
      "Binary Tensors after unsqueezing:  torch.Size([1, 1357, 24])\n",
      "Context sequence + Generated tokens:  torch.Size([1, 1362, 24])\n",
      "MIDI file saved to /home/falaxdb/Repos/minus1/transformer_decoder_training/saved_files/saved_models/transformer_0.5/tests/threshold_01/moritz_maria.mid\n"
     ]
    },
    {
     "name": "stderr",
     "output_type": "stream",
     "text": [
      "\n",
      "\n",
      "Songs:   0%|          | 0/4 [00:00<?, ?it/s]\u001B[A\u001B[A"
     ]
    },
    {
     "name": "stdout",
     "output_type": "stream",
     "text": [
      "The song midi-unprocessed_04_r1_2008_01-04_orig_mid--audio_04_r1_2008_wav--1-split does already exist for the configuration /home/falaxdb/Repos/minus1/transformer_decoder_training/saved_files/saved_models/transformer_0.5/tests/threshold_015/midi-unprocessed_04_r1_2008_01-04_orig_mid--audio_04_r1_2008_wav--1-split_configuration.json, skipping\n",
      "The song simple_test does already exist for the configuration /home/falaxdb/Repos/minus1/transformer_decoder_training/saved_files/saved_models/transformer_0.5/tests/threshold_015/simple_test_configuration.json, skipping\n",
      "The song short_cord_progression does already exist for the configuration /home/falaxdb/Repos/minus1/transformer_decoder_training/saved_files/saved_models/transformer_0.5/tests/threshold_015/short_cord_progression_configuration.json, skipping\n",
      "sequecne tensor: torch.Size([1361, 24])\n",
      "sequence with start token tensor: torch.Size([1362, 24])\n",
      "context_seq tensor: torch.Size([1, 5, 24])\n",
      "continuing seq torch.Size([1, 1357, 24])\n",
      "Tokens to generate: 1357\n"
     ]
    },
    {
     "name": "stderr",
     "output_type": "stream",
     "text": [
      "\n",
      "\n",
      "Songs: 100%|██████████| 4/4 [00:01<00:00,  2.05it/s]\u001B[A\u001B[A\n",
      "\n",
      "                                                    \u001B[A\u001B[A\n",
      "Testing configurations:  38%|███▊      | 3/8 [00:05<00:09,  1.93s/it]\u001B[A"
     ]
    },
    {
     "name": "stdout",
     "output_type": "stream",
     "text": [
      "Elapsed time: 1.7780 seconds\n",
      "Binary Tensors after concatinating:  torch.Size([1357, 24])\n",
      "Binary Tensors after unsqueezing:  torch.Size([1, 1357, 24])\n",
      "Context sequence + Generated tokens:  torch.Size([1, 1362, 24])\n",
      "MIDI file saved to /home/falaxdb/Repos/minus1/transformer_decoder_training/saved_files/saved_models/transformer_0.5/tests/threshold_015/moritz_maria.mid\n"
     ]
    },
    {
     "name": "stderr",
     "output_type": "stream",
     "text": [
      "\n",
      "\n",
      "Songs:   0%|          | 0/4 [00:00<?, ?it/s]\u001B[A\u001B[A"
     ]
    },
    {
     "name": "stdout",
     "output_type": "stream",
     "text": [
      "The song midi-unprocessed_04_r1_2008_01-04_orig_mid--audio_04_r1_2008_wav--1-split does already exist for the configuration /home/falaxdb/Repos/minus1/transformer_decoder_training/saved_files/saved_models/transformer_0.5/tests/threshold_02/midi-unprocessed_04_r1_2008_01-04_orig_mid--audio_04_r1_2008_wav--1-split_configuration.json, skipping\n",
      "The song simple_test does already exist for the configuration /home/falaxdb/Repos/minus1/transformer_decoder_training/saved_files/saved_models/transformer_0.5/tests/threshold_02/simple_test_configuration.json, skipping\n",
      "The song short_cord_progression does already exist for the configuration /home/falaxdb/Repos/minus1/transformer_decoder_training/saved_files/saved_models/transformer_0.5/tests/threshold_02/short_cord_progression_configuration.json, skipping\n",
      "sequecne tensor: torch.Size([1361, 24])\n",
      "sequence with start token tensor: torch.Size([1362, 24])\n",
      "context_seq tensor: torch.Size([1, 5, 24])\n",
      "continuing seq torch.Size([1, 1357, 24])\n",
      "Tokens to generate: 1357\n"
     ]
    },
    {
     "name": "stderr",
     "output_type": "stream",
     "text": [
      "\n",
      "\n",
      "Songs: 100%|██████████| 4/4 [00:01<00:00,  2.10it/s]\u001B[A\u001B[A\n",
      "\n",
      "                                                    \u001B[A\u001B[A\n",
      "Testing configurations:  50%|█████     | 4/8 [00:07<00:07,  1.92s/it]\u001B[A"
     ]
    },
    {
     "name": "stdout",
     "output_type": "stream",
     "text": [
      "Elapsed time: 1.7724 seconds\n",
      "Binary Tensors after concatinating:  torch.Size([1357, 24])\n",
      "Binary Tensors after unsqueezing:  torch.Size([1, 1357, 24])\n",
      "Context sequence + Generated tokens:  torch.Size([1, 1362, 24])\n",
      "MIDI file saved to /home/falaxdb/Repos/minus1/transformer_decoder_training/saved_files/saved_models/transformer_0.5/tests/threshold_02/moritz_maria.mid\n"
     ]
    },
    {
     "name": "stderr",
     "output_type": "stream",
     "text": [
      "\n",
      "\n",
      "Songs:   0%|          | 0/4 [00:00<?, ?it/s]\u001B[A\u001B[A"
     ]
    },
    {
     "name": "stdout",
     "output_type": "stream",
     "text": [
      "The song midi-unprocessed_04_r1_2008_01-04_orig_mid--audio_04_r1_2008_wav--1-split does already exist for the configuration /home/falaxdb/Repos/minus1/transformer_decoder_training/saved_files/saved_models/transformer_0.5/tests/threshold_025/midi-unprocessed_04_r1_2008_01-04_orig_mid--audio_04_r1_2008_wav--1-split_configuration.json, skipping\n",
      "The song simple_test does already exist for the configuration /home/falaxdb/Repos/minus1/transformer_decoder_training/saved_files/saved_models/transformer_0.5/tests/threshold_025/simple_test_configuration.json, skipping\n",
      "The song short_cord_progression does already exist for the configuration /home/falaxdb/Repos/minus1/transformer_decoder_training/saved_files/saved_models/transformer_0.5/tests/threshold_025/short_cord_progression_configuration.json, skipping\n",
      "sequecne tensor: torch.Size([1361, 24])\n",
      "sequence with start token tensor: torch.Size([1362, 24])\n",
      "context_seq tensor: torch.Size([1, 5, 24])\n",
      "continuing seq torch.Size([1, 1357, 24])\n",
      "Tokens to generate: 1357\n"
     ]
    },
    {
     "name": "stderr",
     "output_type": "stream",
     "text": [
      "\n",
      "\n",
      "Songs: 100%|██████████| 4/4 [00:01<00:00,  2.10it/s]\u001B[A\u001B[A\n",
      "\n",
      "                                                    \u001B[A\u001B[A\n",
      "Testing configurations:  62%|██████▎   | 5/8 [00:09<00:05,  1.92s/it]\u001B[A"
     ]
    },
    {
     "name": "stdout",
     "output_type": "stream",
     "text": [
      "Elapsed time: 1.7755 seconds\n",
      "Binary Tensors after concatinating:  torch.Size([1357, 24])\n",
      "Binary Tensors after unsqueezing:  torch.Size([1, 1357, 24])\n",
      "Context sequence + Generated tokens:  torch.Size([1, 1362, 24])\n",
      "MIDI file saved to /home/falaxdb/Repos/minus1/transformer_decoder_training/saved_files/saved_models/transformer_0.5/tests/threshold_025/moritz_maria.mid\n"
     ]
    },
    {
     "name": "stderr",
     "output_type": "stream",
     "text": [
      "\n",
      "\n",
      "Songs:   0%|          | 0/4 [00:00<?, ?it/s]\u001B[A\u001B[A"
     ]
    },
    {
     "name": "stdout",
     "output_type": "stream",
     "text": [
      "The song midi-unprocessed_04_r1_2008_01-04_orig_mid--audio_04_r1_2008_wav--1-split does already exist for the configuration /home/falaxdb/Repos/minus1/transformer_decoder_training/saved_files/saved_models/transformer_0.5/tests/threshold_05/midi-unprocessed_04_r1_2008_01-04_orig_mid--audio_04_r1_2008_wav--1-split_configuration.json, skipping\n",
      "The song simple_test does already exist for the configuration /home/falaxdb/Repos/minus1/transformer_decoder_training/saved_files/saved_models/transformer_0.5/tests/threshold_05/simple_test_configuration.json, skipping\n",
      "The song short_cord_progression does already exist for the configuration /home/falaxdb/Repos/minus1/transformer_decoder_training/saved_files/saved_models/transformer_0.5/tests/threshold_05/short_cord_progression_configuration.json, skipping\n",
      "sequecne tensor: torch.Size([1361, 24])\n",
      "sequence with start token tensor: torch.Size([1362, 24])\n",
      "context_seq tensor: torch.Size([1, 5, 24])\n",
      "continuing seq torch.Size([1, 1357, 24])\n",
      "Tokens to generate: 1357\n"
     ]
    },
    {
     "name": "stderr",
     "output_type": "stream",
     "text": [
      "\n",
      "\n",
      "Songs: 100%|██████████| 4/4 [00:01<00:00,  2.09it/s]\u001B[A\u001B[A\n",
      "\n",
      "                                                    \u001B[A\u001B[A\n",
      "Testing configurations:  75%|███████▌  | 6/8 [00:11<00:03,  1.92s/it]\u001B[A"
     ]
    },
    {
     "name": "stdout",
     "output_type": "stream",
     "text": [
      "Elapsed time: 1.7830 seconds\n",
      "Binary Tensors after concatinating:  torch.Size([1357, 24])\n",
      "Binary Tensors after unsqueezing:  torch.Size([1, 1357, 24])\n",
      "Context sequence + Generated tokens:  torch.Size([1, 1362, 24])\n",
      "MIDI file saved to /home/falaxdb/Repos/minus1/transformer_decoder_training/saved_files/saved_models/transformer_0.5/tests/threshold_05/moritz_maria.mid\n"
     ]
    },
    {
     "name": "stderr",
     "output_type": "stream",
     "text": [
      "\n",
      "\n",
      "Songs:   0%|          | 0/4 [00:00<?, ?it/s]\u001B[A\u001B[A"
     ]
    },
    {
     "name": "stdout",
     "output_type": "stream",
     "text": [
      "The song midi-unprocessed_04_r1_2008_01-04_orig_mid--audio_04_r1_2008_wav--1-split does already exist for the configuration /home/falaxdb/Repos/minus1/transformer_decoder_training/saved_files/saved_models/transformer_0.5/tests/threshold_03/midi-unprocessed_04_r1_2008_01-04_orig_mid--audio_04_r1_2008_wav--1-split_configuration.json, skipping\n",
      "The song simple_test does already exist for the configuration /home/falaxdb/Repos/minus1/transformer_decoder_training/saved_files/saved_models/transformer_0.5/tests/threshold_03/simple_test_configuration.json, skipping\n",
      "The song short_cord_progression does already exist for the configuration /home/falaxdb/Repos/minus1/transformer_decoder_training/saved_files/saved_models/transformer_0.5/tests/threshold_03/short_cord_progression_configuration.json, skipping\n",
      "sequecne tensor: torch.Size([1361, 24])\n",
      "sequence with start token tensor: torch.Size([1362, 24])\n",
      "context_seq tensor: torch.Size([1, 5, 24])\n",
      "continuing seq torch.Size([1, 1357, 24])\n",
      "Tokens to generate: 1357\n"
     ]
    },
    {
     "name": "stderr",
     "output_type": "stream",
     "text": [
      "\n",
      "\n",
      "Songs: 100%|██████████| 4/4 [00:01<00:00,  2.10it/s]\u001B[A\u001B[A\n",
      "\n",
      "                                                    \u001B[A\u001B[A\n",
      "Testing configurations:  88%|████████▊ | 7/8 [00:13<00:01,  1.91s/it]\u001B[A"
     ]
    },
    {
     "name": "stdout",
     "output_type": "stream",
     "text": [
      "Elapsed time: 1.7709 seconds\n",
      "Binary Tensors after concatinating:  torch.Size([1357, 24])\n",
      "Binary Tensors after unsqueezing:  torch.Size([1, 1357, 24])\n",
      "Context sequence + Generated tokens:  torch.Size([1, 1362, 24])\n",
      "MIDI file saved to /home/falaxdb/Repos/minus1/transformer_decoder_training/saved_files/saved_models/transformer_0.5/tests/threshold_03/moritz_maria.mid\n"
     ]
    },
    {
     "name": "stderr",
     "output_type": "stream",
     "text": [
      "\n",
      "\n",
      "Songs:   0%|          | 0/4 [00:00<?, ?it/s]\u001B[A\u001B[A"
     ]
    },
    {
     "name": "stdout",
     "output_type": "stream",
     "text": [
      "The song midi-unprocessed_04_r1_2008_01-04_orig_mid--audio_04_r1_2008_wav--1-split does already exist for the configuration /home/falaxdb/Repos/minus1/transformer_decoder_training/saved_files/saved_models/transformer_0.5/tests/top_k/midi-unprocessed_04_r1_2008_01-04_orig_mid--audio_04_r1_2008_wav--1-split_configuration.json, skipping\n",
      "The song simple_test does already exist for the configuration /home/falaxdb/Repos/minus1/transformer_decoder_training/saved_files/saved_models/transformer_0.5/tests/top_k/simple_test_configuration.json, skipping\n",
      "The song short_cord_progression does already exist for the configuration /home/falaxdb/Repos/minus1/transformer_decoder_training/saved_files/saved_models/transformer_0.5/tests/top_k/short_cord_progression_configuration.json, skipping\n",
      "sequecne tensor: torch.Size([1361, 24])\n",
      "sequence with start token tensor: torch.Size([1362, 24])\n",
      "context_seq tensor: torch.Size([1, 5, 24])\n",
      "continuing seq torch.Size([1, 1357, 24])\n",
      "Tokens to generate: 1357\n"
     ]
    },
    {
     "name": "stderr",
     "output_type": "stream",
     "text": [
      "\n",
      "\n",
      "Songs: 100%|██████████| 4/4 [00:01<00:00,  2.01it/s]\u001B[A\u001B[A\n",
      "\n",
      "                                                    \u001B[A\u001B[A\n",
      "Testing configurations: 100%|██████████| 8/8 [00:15<00:00,  1.94s/it]\u001B[A\n",
      "Projects:  26%|██▋       | 5/19 [01:36<04:26, 19.03s/it]             \u001B[A"
     ]
    },
    {
     "name": "stdout",
     "output_type": "stream",
     "text": [
      "Elapsed time: 1.8499 seconds\n",
      "Binary Tensors after concatinating:  torch.Size([1357, 24])\n",
      "Binary Tensors after unsqueezing:  torch.Size([1, 1357, 24])\n",
      "Context sequence + Generated tokens:  torch.Size([1, 1362, 24])\n",
      "MIDI file saved to /home/falaxdb/Repos/minus1/transformer_decoder_training/saved_files/saved_models/transformer_0.5/tests/top_k/moritz_maria.mid\n",
      "\n",
      "==============================\n",
      "Testing model transformer_1.2\n",
      "At location /home/falaxdb/Repos/minus1/transformer_decoder_training/saved_files/saved_models/transformer_1.2\n",
      "==============================\n",
      "\n",
      "Best epoch is epoch number 17\n"
     ]
    },
    {
     "name": "stderr",
     "output_type": "stream",
     "text": [
      "\n",
      "Testing configurations:   0%|          | 0/8 [00:00<?, ?it/s]\u001B[A\n",
      "\n",
      "Songs:   0%|          | 0/4 [00:00<?, ?it/s]\u001B[A\u001B[A"
     ]
    },
    {
     "name": "stdout",
     "output_type": "stream",
     "text": [
      "The song midi-unprocessed_04_r1_2008_01-04_orig_mid--audio_04_r1_2008_wav--1-split does already exist for the configuration /home/falaxdb/Repos/minus1/transformer_decoder_training/saved_files/saved_models/transformer_1.2/tests/threshold_005/midi-unprocessed_04_r1_2008_01-04_orig_mid--audio_04_r1_2008_wav--1-split_configuration.json, skipping\n",
      "The song simple_test does already exist for the configuration /home/falaxdb/Repos/minus1/transformer_decoder_training/saved_files/saved_models/transformer_1.2/tests/threshold_005/simple_test_configuration.json, skipping\n",
      "The song short_cord_progression does already exist for the configuration /home/falaxdb/Repos/minus1/transformer_decoder_training/saved_files/saved_models/transformer_1.2/tests/threshold_005/short_cord_progression_configuration.json, skipping\n",
      "sequecne tensor: torch.Size([1361, 24])\n",
      "sequence with start token tensor: torch.Size([1362, 24])\n",
      "context_seq tensor: torch.Size([1, 5, 24])\n",
      "continuing seq torch.Size([1, 1357, 24])\n",
      "Tokens to generate: 1357\n"
     ]
    },
    {
     "name": "stderr",
     "output_type": "stream",
     "text": [
      "\n",
      "\n",
      "Songs: 100%|██████████| 4/4 [00:01<00:00,  2.12it/s]\u001B[A\u001B[A\n",
      "\n",
      "                                                    \u001B[A\u001B[A\n",
      "Testing configurations:  12%|█▎        | 1/8 [00:01<00:13,  1.89s/it]\u001B[A"
     ]
    },
    {
     "name": "stdout",
     "output_type": "stream",
     "text": [
      "Elapsed time: 1.7545 seconds\n",
      "Binary Tensors after concatinating:  torch.Size([1357, 24])\n",
      "Binary Tensors after unsqueezing:  torch.Size([1, 1357, 24])\n",
      "Context sequence + Generated tokens:  torch.Size([1, 1362, 24])\n",
      "MIDI file saved to /home/falaxdb/Repos/minus1/transformer_decoder_training/saved_files/saved_models/transformer_1.2/tests/threshold_005/moritz_maria.mid\n"
     ]
    },
    {
     "name": "stderr",
     "output_type": "stream",
     "text": [
      "\n",
      "\n",
      "Songs:   0%|          | 0/4 [00:00<?, ?it/s]\u001B[A\u001B[A"
     ]
    },
    {
     "name": "stdout",
     "output_type": "stream",
     "text": [
      "The song midi-unprocessed_04_r1_2008_01-04_orig_mid--audio_04_r1_2008_wav--1-split does already exist for the configuration /home/falaxdb/Repos/minus1/transformer_decoder_training/saved_files/saved_models/transformer_1.2/tests/threshold_01/midi-unprocessed_04_r1_2008_01-04_orig_mid--audio_04_r1_2008_wav--1-split_configuration.json, skipping\n",
      "The song simple_test does already exist for the configuration /home/falaxdb/Repos/minus1/transformer_decoder_training/saved_files/saved_models/transformer_1.2/tests/threshold_01/simple_test_configuration.json, skipping\n",
      "The song short_cord_progression does already exist for the configuration /home/falaxdb/Repos/minus1/transformer_decoder_training/saved_files/saved_models/transformer_1.2/tests/threshold_01/short_cord_progression_configuration.json, skipping\n",
      "sequecne tensor: torch.Size([1361, 24])\n",
      "sequence with start token tensor: torch.Size([1362, 24])\n",
      "context_seq tensor: torch.Size([1, 5, 24])\n",
      "continuing seq torch.Size([1, 1357, 24])\n",
      "Tokens to generate: 1357\n"
     ]
    },
    {
     "name": "stderr",
     "output_type": "stream",
     "text": [
      "\n",
      "\n",
      "Songs: 100%|██████████| 4/4 [00:01<00:00,  2.11it/s]\u001B[A\u001B[A\n",
      "\n",
      "                                                    \u001B[A\u001B[A\n",
      "Testing configurations:  25%|██▌       | 2/8 [00:03<00:11,  1.89s/it]\u001B[A"
     ]
    },
    {
     "name": "stdout",
     "output_type": "stream",
     "text": [
      "Elapsed time: 1.7645 seconds\n",
      "Binary Tensors after concatinating:  torch.Size([1357, 24])\n",
      "Binary Tensors after unsqueezing:  torch.Size([1, 1357, 24])\n",
      "Context sequence + Generated tokens:  torch.Size([1, 1362, 24])\n",
      "MIDI file saved to /home/falaxdb/Repos/minus1/transformer_decoder_training/saved_files/saved_models/transformer_1.2/tests/threshold_01/moritz_maria.mid\n"
     ]
    },
    {
     "name": "stderr",
     "output_type": "stream",
     "text": [
      "\n",
      "\n",
      "Songs:   0%|          | 0/4 [00:00<?, ?it/s]\u001B[A\u001B[A"
     ]
    },
    {
     "name": "stdout",
     "output_type": "stream",
     "text": [
      "The song midi-unprocessed_04_r1_2008_01-04_orig_mid--audio_04_r1_2008_wav--1-split does already exist for the configuration /home/falaxdb/Repos/minus1/transformer_decoder_training/saved_files/saved_models/transformer_1.2/tests/threshold_015/midi-unprocessed_04_r1_2008_01-04_orig_mid--audio_04_r1_2008_wav--1-split_configuration.json, skipping\n",
      "The song simple_test does already exist for the configuration /home/falaxdb/Repos/minus1/transformer_decoder_training/saved_files/saved_models/transformer_1.2/tests/threshold_015/simple_test_configuration.json, skipping\n",
      "The song short_cord_progression does already exist for the configuration /home/falaxdb/Repos/minus1/transformer_decoder_training/saved_files/saved_models/transformer_1.2/tests/threshold_015/short_cord_progression_configuration.json, skipping\n",
      "sequecne tensor: torch.Size([1361, 24])\n",
      "sequence with start token tensor: torch.Size([1362, 24])\n",
      "context_seq tensor: torch.Size([1, 5, 24])\n",
      "continuing seq torch.Size([1, 1357, 24])\n",
      "Tokens to generate: 1357\n"
     ]
    },
    {
     "name": "stderr",
     "output_type": "stream",
     "text": [
      "\n",
      "\n",
      "Songs: 100%|██████████| 4/4 [00:01<00:00,  2.10it/s]\u001B[A\u001B[A\n",
      "\n",
      "                                                    \u001B[A\u001B[A\n",
      "Testing configurations:  38%|███▊      | 3/8 [00:05<00:09,  1.90s/it]\u001B[A"
     ]
    },
    {
     "name": "stdout",
     "output_type": "stream",
     "text": [
      "Elapsed time: 1.7739 seconds\n",
      "Binary Tensors after concatinating:  torch.Size([1357, 24])\n",
      "Binary Tensors after unsqueezing:  torch.Size([1, 1357, 24])\n",
      "Context sequence + Generated tokens:  torch.Size([1, 1362, 24])\n",
      "MIDI file saved to /home/falaxdb/Repos/minus1/transformer_decoder_training/saved_files/saved_models/transformer_1.2/tests/threshold_015/moritz_maria.mid\n"
     ]
    },
    {
     "name": "stderr",
     "output_type": "stream",
     "text": [
      "\n",
      "\n",
      "Songs:   0%|          | 0/4 [00:00<?, ?it/s]\u001B[A\u001B[A"
     ]
    },
    {
     "name": "stdout",
     "output_type": "stream",
     "text": [
      "The song midi-unprocessed_04_r1_2008_01-04_orig_mid--audio_04_r1_2008_wav--1-split does already exist for the configuration /home/falaxdb/Repos/minus1/transformer_decoder_training/saved_files/saved_models/transformer_1.2/tests/threshold_02/midi-unprocessed_04_r1_2008_01-04_orig_mid--audio_04_r1_2008_wav--1-split_configuration.json, skipping\n",
      "The song simple_test does already exist for the configuration /home/falaxdb/Repos/minus1/transformer_decoder_training/saved_files/saved_models/transformer_1.2/tests/threshold_02/simple_test_configuration.json, skipping\n",
      "The song short_cord_progression does already exist for the configuration /home/falaxdb/Repos/minus1/transformer_decoder_training/saved_files/saved_models/transformer_1.2/tests/threshold_02/short_cord_progression_configuration.json, skipping\n",
      "sequecne tensor: torch.Size([1361, 24])\n",
      "sequence with start token tensor: torch.Size([1362, 24])\n",
      "context_seq tensor: torch.Size([1, 5, 24])\n",
      "continuing seq torch.Size([1, 1357, 24])\n",
      "Tokens to generate: 1357\n"
     ]
    },
    {
     "name": "stderr",
     "output_type": "stream",
     "text": [
      "\n",
      "\n",
      "Songs: 100%|██████████| 4/4 [00:01<00:00,  2.06it/s]\u001B[A\u001B[A\n",
      "\n",
      "                                                    \u001B[A\u001B[A\n",
      "Testing configurations:  50%|█████     | 4/8 [00:07<00:07,  1.92s/it]\u001B[A"
     ]
    },
    {
     "name": "stdout",
     "output_type": "stream",
     "text": [
      "Elapsed time: 1.7736 seconds\n",
      "Binary Tensors after concatinating:  torch.Size([1357, 24])\n",
      "Binary Tensors after unsqueezing:  torch.Size([1, 1357, 24])\n",
      "Context sequence + Generated tokens:  torch.Size([1, 1362, 24])\n",
      "MIDI file saved to /home/falaxdb/Repos/minus1/transformer_decoder_training/saved_files/saved_models/transformer_1.2/tests/threshold_02/moritz_maria.mid\n"
     ]
    },
    {
     "name": "stderr",
     "output_type": "stream",
     "text": [
      "\n",
      "\n",
      "Songs:   0%|          | 0/4 [00:00<?, ?it/s]\u001B[A\u001B[A"
     ]
    },
    {
     "name": "stdout",
     "output_type": "stream",
     "text": [
      "The song midi-unprocessed_04_r1_2008_01-04_orig_mid--audio_04_r1_2008_wav--1-split does already exist for the configuration /home/falaxdb/Repos/minus1/transformer_decoder_training/saved_files/saved_models/transformer_1.2/tests/threshold_025/midi-unprocessed_04_r1_2008_01-04_orig_mid--audio_04_r1_2008_wav--1-split_configuration.json, skipping\n",
      "The song simple_test does already exist for the configuration /home/falaxdb/Repos/minus1/transformer_decoder_training/saved_files/saved_models/transformer_1.2/tests/threshold_025/simple_test_configuration.json, skipping\n",
      "The song short_cord_progression does already exist for the configuration /home/falaxdb/Repos/minus1/transformer_decoder_training/saved_files/saved_models/transformer_1.2/tests/threshold_025/short_cord_progression_configuration.json, skipping\n",
      "sequecne tensor: torch.Size([1361, 24])\n",
      "sequence with start token tensor: torch.Size([1362, 24])\n",
      "context_seq tensor: torch.Size([1, 5, 24])\n",
      "continuing seq torch.Size([1, 1357, 24])\n",
      "Tokens to generate: 1357\n"
     ]
    },
    {
     "name": "stderr",
     "output_type": "stream",
     "text": [
      "\n",
      "\n",
      "Songs: 100%|██████████| 4/4 [00:01<00:00,  2.08it/s]\u001B[A\u001B[A\n",
      "\n",
      "                                                    \u001B[A\u001B[A\n",
      "Testing configurations:  62%|██████▎   | 5/8 [00:09<00:05,  1.92s/it]\u001B[A"
     ]
    },
    {
     "name": "stdout",
     "output_type": "stream",
     "text": [
      "Elapsed time: 1.7916 seconds\n",
      "Binary Tensors after concatinating:  torch.Size([1357, 24])\n",
      "Binary Tensors after unsqueezing:  torch.Size([1, 1357, 24])\n",
      "Context sequence + Generated tokens:  torch.Size([1, 1362, 24])\n",
      "MIDI file saved to /home/falaxdb/Repos/minus1/transformer_decoder_training/saved_files/saved_models/transformer_1.2/tests/threshold_025/moritz_maria.mid\n"
     ]
    },
    {
     "name": "stderr",
     "output_type": "stream",
     "text": [
      "\n",
      "\n",
      "Songs:   0%|          | 0/4 [00:00<?, ?it/s]\u001B[A\u001B[A"
     ]
    },
    {
     "name": "stdout",
     "output_type": "stream",
     "text": [
      "The song midi-unprocessed_04_r1_2008_01-04_orig_mid--audio_04_r1_2008_wav--1-split does already exist for the configuration /home/falaxdb/Repos/minus1/transformer_decoder_training/saved_files/saved_models/transformer_1.2/tests/threshold_05/midi-unprocessed_04_r1_2008_01-04_orig_mid--audio_04_r1_2008_wav--1-split_configuration.json, skipping\n",
      "The song simple_test does already exist for the configuration /home/falaxdb/Repos/minus1/transformer_decoder_training/saved_files/saved_models/transformer_1.2/tests/threshold_05/simple_test_configuration.json, skipping\n",
      "The song short_cord_progression does already exist for the configuration /home/falaxdb/Repos/minus1/transformer_decoder_training/saved_files/saved_models/transformer_1.2/tests/threshold_05/short_cord_progression_configuration.json, skipping\n",
      "sequecne tensor: torch.Size([1361, 24])\n",
      "sequence with start token tensor: torch.Size([1362, 24])\n",
      "context_seq tensor: torch.Size([1, 5, 24])\n",
      "continuing seq torch.Size([1, 1357, 24])\n",
      "Tokens to generate: 1357\n"
     ]
    },
    {
     "name": "stderr",
     "output_type": "stream",
     "text": [
      "\n",
      "\n",
      "Songs: 100%|██████████| 4/4 [00:01<00:00,  2.10it/s]\u001B[A\u001B[A\n",
      "\n",
      "                                                    \u001B[A\u001B[A\n",
      "Testing configurations:  75%|███████▌  | 6/8 [00:11<00:03,  1.92s/it]\u001B[A"
     ]
    },
    {
     "name": "stdout",
     "output_type": "stream",
     "text": [
      "Elapsed time: 1.7717 seconds\n",
      "Binary Tensors after concatinating:  torch.Size([1357, 24])\n",
      "Binary Tensors after unsqueezing:  torch.Size([1, 1357, 24])\n",
      "Context sequence + Generated tokens:  torch.Size([1, 1362, 24])\n",
      "MIDI file saved to /home/falaxdb/Repos/minus1/transformer_decoder_training/saved_files/saved_models/transformer_1.2/tests/threshold_05/moritz_maria.mid\n"
     ]
    },
    {
     "name": "stderr",
     "output_type": "stream",
     "text": [
      "\n",
      "\n",
      "Songs:   0%|          | 0/4 [00:00<?, ?it/s]\u001B[A\u001B[A"
     ]
    },
    {
     "name": "stdout",
     "output_type": "stream",
     "text": [
      "The song midi-unprocessed_04_r1_2008_01-04_orig_mid--audio_04_r1_2008_wav--1-split does already exist for the configuration /home/falaxdb/Repos/minus1/transformer_decoder_training/saved_files/saved_models/transformer_1.2/tests/threshold_03/midi-unprocessed_04_r1_2008_01-04_orig_mid--audio_04_r1_2008_wav--1-split_configuration.json, skipping\n",
      "The song simple_test does already exist for the configuration /home/falaxdb/Repos/minus1/transformer_decoder_training/saved_files/saved_models/transformer_1.2/tests/threshold_03/simple_test_configuration.json, skipping\n",
      "The song short_cord_progression does already exist for the configuration /home/falaxdb/Repos/minus1/transformer_decoder_training/saved_files/saved_models/transformer_1.2/tests/threshold_03/short_cord_progression_configuration.json, skipping\n",
      "sequecne tensor: torch.Size([1361, 24])\n",
      "sequence with start token tensor: torch.Size([1362, 24])\n",
      "context_seq tensor: torch.Size([1, 5, 24])\n",
      "continuing seq torch.Size([1, 1357, 24])\n",
      "Tokens to generate: 1357\n"
     ]
    },
    {
     "name": "stderr",
     "output_type": "stream",
     "text": [
      "\n",
      "\n",
      "Songs: 100%|██████████| 4/4 [00:01<00:00,  2.12it/s]\u001B[A\u001B[A\n",
      "\n",
      "                                                    \u001B[A\u001B[A\n",
      "Testing configurations:  88%|████████▊ | 7/8 [00:13<00:01,  1.91s/it]\u001B[A"
     ]
    },
    {
     "name": "stdout",
     "output_type": "stream",
     "text": [
      "Elapsed time: 1.7557 seconds\n",
      "Binary Tensors after concatinating:  torch.Size([1357, 24])\n",
      "Binary Tensors after unsqueezing:  torch.Size([1, 1357, 24])\n",
      "Context sequence + Generated tokens:  torch.Size([1, 1362, 24])\n",
      "MIDI file saved to /home/falaxdb/Repos/minus1/transformer_decoder_training/saved_files/saved_models/transformer_1.2/tests/threshold_03/moritz_maria.mid\n"
     ]
    },
    {
     "name": "stderr",
     "output_type": "stream",
     "text": [
      "\n",
      "\n",
      "Songs:   0%|          | 0/4 [00:00<?, ?it/s]\u001B[A\u001B[A"
     ]
    },
    {
     "name": "stdout",
     "output_type": "stream",
     "text": [
      "The song midi-unprocessed_04_r1_2008_01-04_orig_mid--audio_04_r1_2008_wav--1-split does already exist for the configuration /home/falaxdb/Repos/minus1/transformer_decoder_training/saved_files/saved_models/transformer_1.2/tests/top_k/midi-unprocessed_04_r1_2008_01-04_orig_mid--audio_04_r1_2008_wav--1-split_configuration.json, skipping\n",
      "The song simple_test does already exist for the configuration /home/falaxdb/Repos/minus1/transformer_decoder_training/saved_files/saved_models/transformer_1.2/tests/top_k/simple_test_configuration.json, skipping\n",
      "The song short_cord_progression does already exist for the configuration /home/falaxdb/Repos/minus1/transformer_decoder_training/saved_files/saved_models/transformer_1.2/tests/top_k/short_cord_progression_configuration.json, skipping\n",
      "sequecne tensor: torch.Size([1361, 24])\n",
      "sequence with start token tensor: torch.Size([1362, 24])\n",
      "context_seq tensor: torch.Size([1, 5, 24])\n",
      "continuing seq torch.Size([1, 1357, 24])\n",
      "Tokens to generate: 1357\n"
     ]
    },
    {
     "name": "stderr",
     "output_type": "stream",
     "text": [
      "\n",
      "\n",
      "Songs: 100%|██████████| 4/4 [00:01<00:00,  2.02it/s]\u001B[A\u001B[A\n",
      "\n",
      "                                                    \u001B[A\u001B[A\n",
      "Testing configurations: 100%|██████████| 8/8 [00:15<00:00,  1.93s/it]\u001B[A\n",
      "Projects:  32%|███▏      | 6/19 [01:52<03:54, 18.06s/it]             \u001B[A"
     ]
    },
    {
     "name": "stdout",
     "output_type": "stream",
     "text": [
      "Elapsed time: 1.8480 seconds\n",
      "Binary Tensors after concatinating:  torch.Size([1357, 24])\n",
      "Binary Tensors after unsqueezing:  torch.Size([1, 1357, 24])\n",
      "Context sequence + Generated tokens:  torch.Size([1, 1362, 24])\n",
      "MIDI file saved to /home/falaxdb/Repos/minus1/transformer_decoder_training/saved_files/saved_models/transformer_1.2/tests/top_k/moritz_maria.mid\n",
      "\n",
      "==============================\n",
      "Testing model transformer_1.0\n",
      "At location /home/falaxdb/Repos/minus1/transformer_decoder_training/saved_files/saved_models/transformer_1.0\n",
      "==============================\n",
      "\n",
      "Best epoch is epoch number 18\n"
     ]
    },
    {
     "name": "stderr",
     "output_type": "stream",
     "text": [
      "\n",
      "Testing configurations:   0%|          | 0/8 [00:00<?, ?it/s]\u001B[A\n",
      "\n",
      "Songs:   0%|          | 0/4 [00:00<?, ?it/s]\u001B[A\u001B[A"
     ]
    },
    {
     "name": "stdout",
     "output_type": "stream",
     "text": [
      "The song midi-unprocessed_04_r1_2008_01-04_orig_mid--audio_04_r1_2008_wav--1-split does already exist for the configuration /home/falaxdb/Repos/minus1/transformer_decoder_training/saved_files/saved_models/transformer_1.0/tests/threshold_005/midi-unprocessed_04_r1_2008_01-04_orig_mid--audio_04_r1_2008_wav--1-split_configuration.json, skipping\n",
      "The song simple_test does already exist for the configuration /home/falaxdb/Repos/minus1/transformer_decoder_training/saved_files/saved_models/transformer_1.0/tests/threshold_005/simple_test_configuration.json, skipping\n",
      "The song short_cord_progression does already exist for the configuration /home/falaxdb/Repos/minus1/transformer_decoder_training/saved_files/saved_models/transformer_1.0/tests/threshold_005/short_cord_progression_configuration.json, skipping\n",
      "sequecne tensor: torch.Size([1361, 24])\n",
      "sequence with start token tensor: torch.Size([1362, 24])\n",
      "context_seq tensor: torch.Size([1, 513, 24])\n",
      "continuing seq torch.Size([1, 849, 24])\n",
      "Tokens to generate: 849\n"
     ]
    },
    {
     "name": "stderr",
     "output_type": "stream",
     "text": [
      "\n",
      "\n",
      "Songs: 100%|██████████| 4/4 [00:04<00:00,  1.04s/it]\u001B[A\u001B[A\n",
      "\n",
      "                                                    \u001B[A\u001B[A\n",
      "Testing configurations:  12%|█▎        | 1/8 [00:04<00:29,  4.14s/it]\u001B[A"
     ]
    },
    {
     "name": "stdout",
     "output_type": "stream",
     "text": [
      "Elapsed time: 3.9750 seconds\n",
      "Binary Tensors after concatinating:  torch.Size([849, 24])\n",
      "Binary Tensors after unsqueezing:  torch.Size([1, 849, 24])\n",
      "Context sequence + Generated tokens:  torch.Size([1, 1362, 24])\n",
      "MIDI file saved to /home/falaxdb/Repos/minus1/transformer_decoder_training/saved_files/saved_models/transformer_1.0/tests/threshold_005/moritz_maria.mid\n"
     ]
    },
    {
     "name": "stderr",
     "output_type": "stream",
     "text": [
      "\n",
      "\n",
      "Songs:   0%|          | 0/4 [00:00<?, ?it/s]\u001B[A\u001B[A"
     ]
    },
    {
     "name": "stdout",
     "output_type": "stream",
     "text": [
      "The song midi-unprocessed_04_r1_2008_01-04_orig_mid--audio_04_r1_2008_wav--1-split does already exist for the configuration /home/falaxdb/Repos/minus1/transformer_decoder_training/saved_files/saved_models/transformer_1.0/tests/threshold_01/midi-unprocessed_04_r1_2008_01-04_orig_mid--audio_04_r1_2008_wav--1-split_configuration.json, skipping\n",
      "The song simple_test does already exist for the configuration /home/falaxdb/Repos/minus1/transformer_decoder_training/saved_files/saved_models/transformer_1.0/tests/threshold_01/simple_test_configuration.json, skipping\n",
      "The song short_cord_progression does already exist for the configuration /home/falaxdb/Repos/minus1/transformer_decoder_training/saved_files/saved_models/transformer_1.0/tests/threshold_01/short_cord_progression_configuration.json, skipping\n",
      "sequecne tensor: torch.Size([1361, 24])\n",
      "sequence with start token tensor: torch.Size([1362, 24])\n",
      "context_seq tensor: torch.Size([1, 513, 24])\n",
      "continuing seq torch.Size([1, 849, 24])\n",
      "Tokens to generate: 849\n"
     ]
    },
    {
     "name": "stderr",
     "output_type": "stream",
     "text": [
      "\n",
      "\n",
      "Songs: 100%|██████████| 4/4 [00:04<00:00,  1.04s/it]\u001B[A\u001B[A\n",
      "\n",
      "                                                    \u001B[A\u001B[A\n",
      "Testing configurations:  25%|██▌       | 2/8 [00:08<00:24,  4.14s/it]\u001B[A"
     ]
    },
    {
     "name": "stdout",
     "output_type": "stream",
     "text": [
      "Elapsed time: 3.9731 seconds\n",
      "Binary Tensors after concatinating:  torch.Size([849, 24])\n",
      "Binary Tensors after unsqueezing:  torch.Size([1, 849, 24])\n",
      "Context sequence + Generated tokens:  torch.Size([1, 1362, 24])\n",
      "MIDI file saved to /home/falaxdb/Repos/minus1/transformer_decoder_training/saved_files/saved_models/transformer_1.0/tests/threshold_01/moritz_maria.mid\n"
     ]
    },
    {
     "name": "stderr",
     "output_type": "stream",
     "text": [
      "\n",
      "\n",
      "Songs:   0%|          | 0/4 [00:00<?, ?it/s]\u001B[A\u001B[A"
     ]
    },
    {
     "name": "stdout",
     "output_type": "stream",
     "text": [
      "The song midi-unprocessed_04_r1_2008_01-04_orig_mid--audio_04_r1_2008_wav--1-split does already exist for the configuration /home/falaxdb/Repos/minus1/transformer_decoder_training/saved_files/saved_models/transformer_1.0/tests/threshold_015/midi-unprocessed_04_r1_2008_01-04_orig_mid--audio_04_r1_2008_wav--1-split_configuration.json, skipping\n",
      "The song simple_test does already exist for the configuration /home/falaxdb/Repos/minus1/transformer_decoder_training/saved_files/saved_models/transformer_1.0/tests/threshold_015/simple_test_configuration.json, skipping\n",
      "The song short_cord_progression does already exist for the configuration /home/falaxdb/Repos/minus1/transformer_decoder_training/saved_files/saved_models/transformer_1.0/tests/threshold_015/short_cord_progression_configuration.json, skipping\n",
      "sequecne tensor: torch.Size([1361, 24])\n",
      "sequence with start token tensor: torch.Size([1362, 24])\n",
      "context_seq tensor: torch.Size([1, 513, 24])\n",
      "continuing seq torch.Size([1, 849, 24])\n",
      "Tokens to generate: 849\n"
     ]
    },
    {
     "name": "stderr",
     "output_type": "stream",
     "text": [
      "\n",
      "\n",
      "Songs: 100%|██████████| 4/4 [00:04<00:00,  1.02s/it]\u001B[A\u001B[A\n",
      "\n",
      "                                                    \u001B[A\u001B[A\n",
      "Testing configurations:  38%|███▊      | 3/8 [00:12<00:20,  4.11s/it]\u001B[A"
     ]
    },
    {
     "name": "stdout",
     "output_type": "stream",
     "text": [
      "Elapsed time: 3.9052 seconds\n",
      "Binary Tensors after concatinating:  torch.Size([849, 24])\n",
      "Binary Tensors after unsqueezing:  torch.Size([1, 849, 24])\n",
      "Context sequence + Generated tokens:  torch.Size([1, 1362, 24])\n",
      "MIDI file saved to /home/falaxdb/Repos/minus1/transformer_decoder_training/saved_files/saved_models/transformer_1.0/tests/threshold_015/moritz_maria.mid\n"
     ]
    },
    {
     "name": "stderr",
     "output_type": "stream",
     "text": [
      "\n",
      "\n",
      "Songs:   0%|          | 0/4 [00:00<?, ?it/s]\u001B[A\u001B[A"
     ]
    },
    {
     "name": "stdout",
     "output_type": "stream",
     "text": [
      "The song midi-unprocessed_04_r1_2008_01-04_orig_mid--audio_04_r1_2008_wav--1-split does already exist for the configuration /home/falaxdb/Repos/minus1/transformer_decoder_training/saved_files/saved_models/transformer_1.0/tests/threshold_02/midi-unprocessed_04_r1_2008_01-04_orig_mid--audio_04_r1_2008_wav--1-split_configuration.json, skipping\n",
      "The song simple_test does already exist for the configuration /home/falaxdb/Repos/minus1/transformer_decoder_training/saved_files/saved_models/transformer_1.0/tests/threshold_02/simple_test_configuration.json, skipping\n",
      "The song short_cord_progression does already exist for the configuration /home/falaxdb/Repos/minus1/transformer_decoder_training/saved_files/saved_models/transformer_1.0/tests/threshold_02/short_cord_progression_configuration.json, skipping\n",
      "sequecne tensor: torch.Size([1361, 24])\n",
      "sequence with start token tensor: torch.Size([1362, 24])\n",
      "context_seq tensor: torch.Size([1, 513, 24])\n",
      "continuing seq torch.Size([1, 849, 24])\n",
      "Tokens to generate: 849\n"
     ]
    },
    {
     "name": "stderr",
     "output_type": "stream",
     "text": [
      "\n",
      "\n",
      "Songs: 100%|██████████| 4/4 [00:04<00:00,  1.00s/it]\u001B[A\u001B[A\n",
      "\n",
      "                                                    \u001B[A\u001B[A\n",
      "Testing configurations:  50%|█████     | 4/8 [00:16<00:16,  4.07s/it]\u001B[A"
     ]
    },
    {
     "name": "stdout",
     "output_type": "stream",
     "text": [
      "Elapsed time: 3.8444 seconds\n",
      "Binary Tensors after concatinating:  torch.Size([849, 24])\n",
      "Binary Tensors after unsqueezing:  torch.Size([1, 849, 24])\n",
      "Context sequence + Generated tokens:  torch.Size([1, 1362, 24])\n",
      "MIDI file saved to /home/falaxdb/Repos/minus1/transformer_decoder_training/saved_files/saved_models/transformer_1.0/tests/threshold_02/moritz_maria.mid\n"
     ]
    },
    {
     "name": "stderr",
     "output_type": "stream",
     "text": [
      "\n",
      "\n",
      "Songs:   0%|          | 0/4 [00:00<?, ?it/s]\u001B[A\u001B[A"
     ]
    },
    {
     "name": "stdout",
     "output_type": "stream",
     "text": [
      "The song midi-unprocessed_04_r1_2008_01-04_orig_mid--audio_04_r1_2008_wav--1-split does already exist for the configuration /home/falaxdb/Repos/minus1/transformer_decoder_training/saved_files/saved_models/transformer_1.0/tests/threshold_025/midi-unprocessed_04_r1_2008_01-04_orig_mid--audio_04_r1_2008_wav--1-split_configuration.json, skipping\n",
      "The song simple_test does already exist for the configuration /home/falaxdb/Repos/minus1/transformer_decoder_training/saved_files/saved_models/transformer_1.0/tests/threshold_025/simple_test_configuration.json, skipping\n",
      "The song short_cord_progression does already exist for the configuration /home/falaxdb/Repos/minus1/transformer_decoder_training/saved_files/saved_models/transformer_1.0/tests/threshold_025/short_cord_progression_configuration.json, skipping\n",
      "sequecne tensor: torch.Size([1361, 24])\n",
      "sequence with start token tensor: torch.Size([1362, 24])\n",
      "context_seq tensor: torch.Size([1, 513, 24])\n",
      "continuing seq torch.Size([1, 849, 24])\n",
      "Tokens to generate: 849\n"
     ]
    }
   ],
   "execution_count": null
  }
 ],
 "metadata": {
  "kernelspec": {
   "display_name": "Python 3",
   "language": "python",
   "name": "python3"
  },
  "language_info": {
   "codemirror_mode": {
    "name": "ipython",
    "version": 2
   },
   "file_extension": ".py",
   "mimetype": "text/x-python",
   "name": "python",
   "nbconvert_exporter": "python",
   "pygments_lexer": "ipython2",
   "version": "2.7.6"
  }
 },
 "nbformat": 4,
 "nbformat_minor": 5
}
