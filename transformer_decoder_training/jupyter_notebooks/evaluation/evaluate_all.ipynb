{
 "cells": [
  {
   "cell_type": "code",
   "id": "initial_id",
   "metadata": {
    "collapsed": true,
    "ExecuteTime": {
     "end_time": "2024-08-25T21:27:59.928558Z",
     "start_time": "2024-08-25T21:27:59.920016Z"
    }
   },
   "source": [
    "import torch\n",
    "import numpy as np\n",
    "import data_visualization.Visualization as visualization\n",
    "import json\n",
    "from pathlib import Path\n",
    "import transformer_decoder_training.testing_helper_functions as test_helpers\n",
    "\n",
    "# Check if GPU is available, set device accordingly\n",
    "device = torch.device(\"cuda\" if torch.cuda.is_available() else 'cpu')"
   ],
   "outputs": [],
   "execution_count": 2
  },
  {
   "metadata": {
    "ExecuteTime": {
     "end_time": "2024-08-25T21:33:25.179454Z",
     "start_time": "2024-08-25T21:33:25.177268Z"
    }
   },
   "cell_type": "code",
   "source": [
    "projects_dir = \"/home/falaxdb/Repos/minus1/transformer_decoder_training/saved_files/saved_models\"\n",
    "test_data_dir = \"/home/falaxdb/Repos/minus1/transformer_decoder_training/test_files_and_configs/split_into_midis\"\n",
    "test_configs_dir = \"/home/falaxdb/Repos/minus1/transformer_decoder_training/test_files_and_configs/test_configs\""
   ],
   "id": "db4b595478180a27",
   "outputs": [],
   "execution_count": 16
  },
  {
   "metadata": {
    "ExecuteTime": {
     "end_time": "2024-08-25T21:31:10.398254Z",
     "start_time": "2024-08-25T21:31:10.396130Z"
    }
   },
   "cell_type": "code",
   "source": [
    "# create test configurations\n",
    "config = test_helpers.create_json_testing_template()\n",
    "\n",
    "config[\"test_row_name\"] = \"top_k\"\n",
    "config[\"threshold\"] = None\n",
    "config[\"inference_method\"] = \"inference_top_k_truth_notes\"\n",
    "\n",
    "test_helpers.save_json_testing_configuration(config, test_configs_dir, overwrite=False)"
   ],
   "id": "305c0a45ac82150d",
   "outputs": [
    {
     "name": "stdout",
     "output_type": "stream",
     "text": [
      "configuration file already exist and overwrite set to False. Skipping\n"
     ]
    }
   ],
   "execution_count": 12
  },
  {
   "metadata": {
    "ExecuteTime": {
     "end_time": "2024-08-25T21:31:20.189187Z",
     "start_time": "2024-08-25T21:31:20.151181Z"
    }
   },
   "cell_type": "code",
   "source": "test_helpers.copy_testing_templates_to_all_models(projects_dir, test_configs_dir, override=False)",
   "id": "2279f8fc1cca1f4c",
   "outputs": [
    {
     "name": "stdout",
     "output_type": "stream",
     "text": [
      "Found 15 projects\n",
      "Found 8 config files\n",
      "Overriding existing test directory in /home/falaxdb/Repos/minus1/transformer_decoder_training/saved_files/saved_models/legacy\n",
      "Copied /home/falaxdb/Repos/minus1/transformer_decoder_training/test_files_and_configs/test_configs/threshold_005_configuration.json to /home/falaxdb/Repos/minus1/transformer_decoder_training/saved_files/saved_models/legacy/tests/threshold_005_configuration.json\n",
      "Copied /home/falaxdb/Repos/minus1/transformer_decoder_training/test_files_and_configs/test_configs/threshold_01_configuration.json to /home/falaxdb/Repos/minus1/transformer_decoder_training/saved_files/saved_models/legacy/tests/threshold_01_configuration.json\n",
      "Copied /home/falaxdb/Repos/minus1/transformer_decoder_training/test_files_and_configs/test_configs/threshold_015_configuration.json to /home/falaxdb/Repos/minus1/transformer_decoder_training/saved_files/saved_models/legacy/tests/threshold_015_configuration.json\n",
      "Copied /home/falaxdb/Repos/minus1/transformer_decoder_training/test_files_and_configs/test_configs/threshold_02_configuration.json to /home/falaxdb/Repos/minus1/transformer_decoder_training/saved_files/saved_models/legacy/tests/threshold_02_configuration.json\n",
      "Copied /home/falaxdb/Repos/minus1/transformer_decoder_training/test_files_and_configs/test_configs/threshold_025_configuration.json to /home/falaxdb/Repos/minus1/transformer_decoder_training/saved_files/saved_models/legacy/tests/threshold_025_configuration.json\n",
      "Copied /home/falaxdb/Repos/minus1/transformer_decoder_training/test_files_and_configs/test_configs/threshold_05_configuration.json to /home/falaxdb/Repos/minus1/transformer_decoder_training/saved_files/saved_models/legacy/tests/threshold_05_configuration.json\n",
      "Copied /home/falaxdb/Repos/minus1/transformer_decoder_training/test_files_and_configs/test_configs/threshold_03_configuration.json to /home/falaxdb/Repos/minus1/transformer_decoder_training/saved_files/saved_models/legacy/tests/threshold_03_configuration.json\n",
      "Copied /home/falaxdb/Repos/minus1/transformer_decoder_training/test_files_and_configs/test_configs/top_k_configuration.json to /home/falaxdb/Repos/minus1/transformer_decoder_training/saved_files/saved_models/legacy/tests/top_k_configuration.json\n",
      "Overriding existing test directory in /home/falaxdb/Repos/minus1/transformer_decoder_training/saved_files/saved_models/transformer_01\n",
      "Copied /home/falaxdb/Repos/minus1/transformer_decoder_training/test_files_and_configs/test_configs/threshold_005_configuration.json to /home/falaxdb/Repos/minus1/transformer_decoder_training/saved_files/saved_models/transformer_01/tests/threshold_005_configuration.json\n",
      "Copied /home/falaxdb/Repos/minus1/transformer_decoder_training/test_files_and_configs/test_configs/threshold_01_configuration.json to /home/falaxdb/Repos/minus1/transformer_decoder_training/saved_files/saved_models/transformer_01/tests/threshold_01_configuration.json\n",
      "Copied /home/falaxdb/Repos/minus1/transformer_decoder_training/test_files_and_configs/test_configs/threshold_015_configuration.json to /home/falaxdb/Repos/minus1/transformer_decoder_training/saved_files/saved_models/transformer_01/tests/threshold_015_configuration.json\n",
      "Copied /home/falaxdb/Repos/minus1/transformer_decoder_training/test_files_and_configs/test_configs/threshold_02_configuration.json to /home/falaxdb/Repos/minus1/transformer_decoder_training/saved_files/saved_models/transformer_01/tests/threshold_02_configuration.json\n",
      "Copied /home/falaxdb/Repos/minus1/transformer_decoder_training/test_files_and_configs/test_configs/threshold_025_configuration.json to /home/falaxdb/Repos/minus1/transformer_decoder_training/saved_files/saved_models/transformer_01/tests/threshold_025_configuration.json\n",
      "Copied /home/falaxdb/Repos/minus1/transformer_decoder_training/test_files_and_configs/test_configs/threshold_05_configuration.json to /home/falaxdb/Repos/minus1/transformer_decoder_training/saved_files/saved_models/transformer_01/tests/threshold_05_configuration.json\n",
      "Copied /home/falaxdb/Repos/minus1/transformer_decoder_training/test_files_and_configs/test_configs/threshold_03_configuration.json to /home/falaxdb/Repos/minus1/transformer_decoder_training/saved_files/saved_models/transformer_01/tests/threshold_03_configuration.json\n",
      "Copied /home/falaxdb/Repos/minus1/transformer_decoder_training/test_files_and_configs/test_configs/top_k_configuration.json to /home/falaxdb/Repos/minus1/transformer_decoder_training/saved_files/saved_models/transformer_01/tests/top_k_configuration.json\n",
      "Overriding existing test directory in /home/falaxdb/Repos/minus1/transformer_decoder_training/saved_files/saved_models/transformer_0.2\n",
      "Copied /home/falaxdb/Repos/minus1/transformer_decoder_training/test_files_and_configs/test_configs/threshold_005_configuration.json to /home/falaxdb/Repos/minus1/transformer_decoder_training/saved_files/saved_models/transformer_0.2/tests/threshold_005_configuration.json\n",
      "Copied /home/falaxdb/Repos/minus1/transformer_decoder_training/test_files_and_configs/test_configs/threshold_01_configuration.json to /home/falaxdb/Repos/minus1/transformer_decoder_training/saved_files/saved_models/transformer_0.2/tests/threshold_01_configuration.json\n",
      "Copied /home/falaxdb/Repos/minus1/transformer_decoder_training/test_files_and_configs/test_configs/threshold_015_configuration.json to /home/falaxdb/Repos/minus1/transformer_decoder_training/saved_files/saved_models/transformer_0.2/tests/threshold_015_configuration.json\n",
      "Copied /home/falaxdb/Repos/minus1/transformer_decoder_training/test_files_and_configs/test_configs/threshold_02_configuration.json to /home/falaxdb/Repos/minus1/transformer_decoder_training/saved_files/saved_models/transformer_0.2/tests/threshold_02_configuration.json\n",
      "Copied /home/falaxdb/Repos/minus1/transformer_decoder_training/test_files_and_configs/test_configs/threshold_025_configuration.json to /home/falaxdb/Repos/minus1/transformer_decoder_training/saved_files/saved_models/transformer_0.2/tests/threshold_025_configuration.json\n",
      "Copied /home/falaxdb/Repos/minus1/transformer_decoder_training/test_files_and_configs/test_configs/threshold_05_configuration.json to /home/falaxdb/Repos/minus1/transformer_decoder_training/saved_files/saved_models/transformer_0.2/tests/threshold_05_configuration.json\n",
      "Copied /home/falaxdb/Repos/minus1/transformer_decoder_training/test_files_and_configs/test_configs/threshold_03_configuration.json to /home/falaxdb/Repos/minus1/transformer_decoder_training/saved_files/saved_models/transformer_0.2/tests/threshold_03_configuration.json\n",
      "Copied /home/falaxdb/Repos/minus1/transformer_decoder_training/test_files_and_configs/test_configs/top_k_configuration.json to /home/falaxdb/Repos/minus1/transformer_decoder_training/saved_files/saved_models/transformer_0.2/tests/top_k_configuration.json\n",
      "Overriding existing test directory in /home/falaxdb/Repos/minus1/transformer_decoder_training/saved_files/saved_models/transformer_0.3\n",
      "Copied /home/falaxdb/Repos/minus1/transformer_decoder_training/test_files_and_configs/test_configs/threshold_005_configuration.json to /home/falaxdb/Repos/minus1/transformer_decoder_training/saved_files/saved_models/transformer_0.3/tests/threshold_005_configuration.json\n",
      "Copied /home/falaxdb/Repos/minus1/transformer_decoder_training/test_files_and_configs/test_configs/threshold_01_configuration.json to /home/falaxdb/Repos/minus1/transformer_decoder_training/saved_files/saved_models/transformer_0.3/tests/threshold_01_configuration.json\n",
      "Copied /home/falaxdb/Repos/minus1/transformer_decoder_training/test_files_and_configs/test_configs/threshold_015_configuration.json to /home/falaxdb/Repos/minus1/transformer_decoder_training/saved_files/saved_models/transformer_0.3/tests/threshold_015_configuration.json\n",
      "Copied /home/falaxdb/Repos/minus1/transformer_decoder_training/test_files_and_configs/test_configs/threshold_02_configuration.json to /home/falaxdb/Repos/minus1/transformer_decoder_training/saved_files/saved_models/transformer_0.3/tests/threshold_02_configuration.json\n",
      "Copied /home/falaxdb/Repos/minus1/transformer_decoder_training/test_files_and_configs/test_configs/threshold_025_configuration.json to /home/falaxdb/Repos/minus1/transformer_decoder_training/saved_files/saved_models/transformer_0.3/tests/threshold_025_configuration.json\n",
      "Copied /home/falaxdb/Repos/minus1/transformer_decoder_training/test_files_and_configs/test_configs/threshold_05_configuration.json to /home/falaxdb/Repos/minus1/transformer_decoder_training/saved_files/saved_models/transformer_0.3/tests/threshold_05_configuration.json\n",
      "Copied /home/falaxdb/Repos/minus1/transformer_decoder_training/test_files_and_configs/test_configs/threshold_03_configuration.json to /home/falaxdb/Repos/minus1/transformer_decoder_training/saved_files/saved_models/transformer_0.3/tests/threshold_03_configuration.json\n",
      "Copied /home/falaxdb/Repos/minus1/transformer_decoder_training/test_files_and_configs/test_configs/top_k_configuration.json to /home/falaxdb/Repos/minus1/transformer_decoder_training/saved_files/saved_models/transformer_0.3/tests/top_k_configuration.json\n",
      "Overriding existing test directory in /home/falaxdb/Repos/minus1/transformer_decoder_training/saved_files/saved_models/transformer_0.4\n",
      "Copied /home/falaxdb/Repos/minus1/transformer_decoder_training/test_files_and_configs/test_configs/threshold_005_configuration.json to /home/falaxdb/Repos/minus1/transformer_decoder_training/saved_files/saved_models/transformer_0.4/tests/threshold_005_configuration.json\n",
      "Copied /home/falaxdb/Repos/minus1/transformer_decoder_training/test_files_and_configs/test_configs/threshold_01_configuration.json to /home/falaxdb/Repos/minus1/transformer_decoder_training/saved_files/saved_models/transformer_0.4/tests/threshold_01_configuration.json\n",
      "Copied /home/falaxdb/Repos/minus1/transformer_decoder_training/test_files_and_configs/test_configs/threshold_015_configuration.json to /home/falaxdb/Repos/minus1/transformer_decoder_training/saved_files/saved_models/transformer_0.4/tests/threshold_015_configuration.json\n",
      "Copied /home/falaxdb/Repos/minus1/transformer_decoder_training/test_files_and_configs/test_configs/threshold_02_configuration.json to /home/falaxdb/Repos/minus1/transformer_decoder_training/saved_files/saved_models/transformer_0.4/tests/threshold_02_configuration.json\n",
      "Copied /home/falaxdb/Repos/minus1/transformer_decoder_training/test_files_and_configs/test_configs/threshold_025_configuration.json to /home/falaxdb/Repos/minus1/transformer_decoder_training/saved_files/saved_models/transformer_0.4/tests/threshold_025_configuration.json\n",
      "Copied /home/falaxdb/Repos/minus1/transformer_decoder_training/test_files_and_configs/test_configs/threshold_05_configuration.json to /home/falaxdb/Repos/minus1/transformer_decoder_training/saved_files/saved_models/transformer_0.4/tests/threshold_05_configuration.json\n",
      "Copied /home/falaxdb/Repos/minus1/transformer_decoder_training/test_files_and_configs/test_configs/threshold_03_configuration.json to /home/falaxdb/Repos/minus1/transformer_decoder_training/saved_files/saved_models/transformer_0.4/tests/threshold_03_configuration.json\n",
      "Copied /home/falaxdb/Repos/minus1/transformer_decoder_training/test_files_and_configs/test_configs/top_k_configuration.json to /home/falaxdb/Repos/minus1/transformer_decoder_training/saved_files/saved_models/transformer_0.4/tests/top_k_configuration.json\n",
      "Overriding existing test directory in /home/falaxdb/Repos/minus1/transformer_decoder_training/saved_files/saved_models/transformer_0.5\n",
      "Copied /home/falaxdb/Repos/minus1/transformer_decoder_training/test_files_and_configs/test_configs/threshold_005_configuration.json to /home/falaxdb/Repos/minus1/transformer_decoder_training/saved_files/saved_models/transformer_0.5/tests/threshold_005_configuration.json\n",
      "Copied /home/falaxdb/Repos/minus1/transformer_decoder_training/test_files_and_configs/test_configs/threshold_01_configuration.json to /home/falaxdb/Repos/minus1/transformer_decoder_training/saved_files/saved_models/transformer_0.5/tests/threshold_01_configuration.json\n",
      "Copied /home/falaxdb/Repos/minus1/transformer_decoder_training/test_files_and_configs/test_configs/threshold_015_configuration.json to /home/falaxdb/Repos/minus1/transformer_decoder_training/saved_files/saved_models/transformer_0.5/tests/threshold_015_configuration.json\n",
      "Copied /home/falaxdb/Repos/minus1/transformer_decoder_training/test_files_and_configs/test_configs/threshold_02_configuration.json to /home/falaxdb/Repos/minus1/transformer_decoder_training/saved_files/saved_models/transformer_0.5/tests/threshold_02_configuration.json\n",
      "Copied /home/falaxdb/Repos/minus1/transformer_decoder_training/test_files_and_configs/test_configs/threshold_025_configuration.json to /home/falaxdb/Repos/minus1/transformer_decoder_training/saved_files/saved_models/transformer_0.5/tests/threshold_025_configuration.json\n",
      "Copied /home/falaxdb/Repos/minus1/transformer_decoder_training/test_files_and_configs/test_configs/threshold_05_configuration.json to /home/falaxdb/Repos/minus1/transformer_decoder_training/saved_files/saved_models/transformer_0.5/tests/threshold_05_configuration.json\n",
      "Copied /home/falaxdb/Repos/minus1/transformer_decoder_training/test_files_and_configs/test_configs/threshold_03_configuration.json to /home/falaxdb/Repos/minus1/transformer_decoder_training/saved_files/saved_models/transformer_0.5/tests/threshold_03_configuration.json\n",
      "Copied /home/falaxdb/Repos/minus1/transformer_decoder_training/test_files_and_configs/test_configs/top_k_configuration.json to /home/falaxdb/Repos/minus1/transformer_decoder_training/saved_files/saved_models/transformer_0.5/tests/top_k_configuration.json\n",
      "Overriding existing test directory in /home/falaxdb/Repos/minus1/transformer_decoder_training/saved_files/saved_models/transformer_1.2\n",
      "Copied /home/falaxdb/Repos/minus1/transformer_decoder_training/test_files_and_configs/test_configs/threshold_005_configuration.json to /home/falaxdb/Repos/minus1/transformer_decoder_training/saved_files/saved_models/transformer_1.2/tests/threshold_005_configuration.json\n",
      "Copied /home/falaxdb/Repos/minus1/transformer_decoder_training/test_files_and_configs/test_configs/threshold_01_configuration.json to /home/falaxdb/Repos/minus1/transformer_decoder_training/saved_files/saved_models/transformer_1.2/tests/threshold_01_configuration.json\n",
      "Copied /home/falaxdb/Repos/minus1/transformer_decoder_training/test_files_and_configs/test_configs/threshold_015_configuration.json to /home/falaxdb/Repos/minus1/transformer_decoder_training/saved_files/saved_models/transformer_1.2/tests/threshold_015_configuration.json\n",
      "Copied /home/falaxdb/Repos/minus1/transformer_decoder_training/test_files_and_configs/test_configs/threshold_02_configuration.json to /home/falaxdb/Repos/minus1/transformer_decoder_training/saved_files/saved_models/transformer_1.2/tests/threshold_02_configuration.json\n",
      "Copied /home/falaxdb/Repos/minus1/transformer_decoder_training/test_files_and_configs/test_configs/threshold_025_configuration.json to /home/falaxdb/Repos/minus1/transformer_decoder_training/saved_files/saved_models/transformer_1.2/tests/threshold_025_configuration.json\n",
      "Copied /home/falaxdb/Repos/minus1/transformer_decoder_training/test_files_and_configs/test_configs/threshold_05_configuration.json to /home/falaxdb/Repos/minus1/transformer_decoder_training/saved_files/saved_models/transformer_1.2/tests/threshold_05_configuration.json\n",
      "Copied /home/falaxdb/Repos/minus1/transformer_decoder_training/test_files_and_configs/test_configs/threshold_03_configuration.json to /home/falaxdb/Repos/minus1/transformer_decoder_training/saved_files/saved_models/transformer_1.2/tests/threshold_03_configuration.json\n",
      "Copied /home/falaxdb/Repos/minus1/transformer_decoder_training/test_files_and_configs/test_configs/top_k_configuration.json to /home/falaxdb/Repos/minus1/transformer_decoder_training/saved_files/saved_models/transformer_1.2/tests/top_k_configuration.json\n",
      "Overriding existing test directory in /home/falaxdb/Repos/minus1/transformer_decoder_training/saved_files/saved_models/transformer_1.0\n",
      "Copied /home/falaxdb/Repos/minus1/transformer_decoder_training/test_files_and_configs/test_configs/threshold_005_configuration.json to /home/falaxdb/Repos/minus1/transformer_decoder_training/saved_files/saved_models/transformer_1.0/tests/threshold_005_configuration.json\n",
      "Copied /home/falaxdb/Repos/minus1/transformer_decoder_training/test_files_and_configs/test_configs/threshold_01_configuration.json to /home/falaxdb/Repos/minus1/transformer_decoder_training/saved_files/saved_models/transformer_1.0/tests/threshold_01_configuration.json\n",
      "Copied /home/falaxdb/Repos/minus1/transformer_decoder_training/test_files_and_configs/test_configs/threshold_015_configuration.json to /home/falaxdb/Repos/minus1/transformer_decoder_training/saved_files/saved_models/transformer_1.0/tests/threshold_015_configuration.json\n",
      "Copied /home/falaxdb/Repos/minus1/transformer_decoder_training/test_files_and_configs/test_configs/threshold_02_configuration.json to /home/falaxdb/Repos/minus1/transformer_decoder_training/saved_files/saved_models/transformer_1.0/tests/threshold_02_configuration.json\n",
      "Copied /home/falaxdb/Repos/minus1/transformer_decoder_training/test_files_and_configs/test_configs/threshold_025_configuration.json to /home/falaxdb/Repos/minus1/transformer_decoder_training/saved_files/saved_models/transformer_1.0/tests/threshold_025_configuration.json\n",
      "Copied /home/falaxdb/Repos/minus1/transformer_decoder_training/test_files_and_configs/test_configs/threshold_05_configuration.json to /home/falaxdb/Repos/minus1/transformer_decoder_training/saved_files/saved_models/transformer_1.0/tests/threshold_05_configuration.json\n",
      "Copied /home/falaxdb/Repos/minus1/transformer_decoder_training/test_files_and_configs/test_configs/threshold_03_configuration.json to /home/falaxdb/Repos/minus1/transformer_decoder_training/saved_files/saved_models/transformer_1.0/tests/threshold_03_configuration.json\n",
      "Copied /home/falaxdb/Repos/minus1/transformer_decoder_training/test_files_and_configs/test_configs/top_k_configuration.json to /home/falaxdb/Repos/minus1/transformer_decoder_training/saved_files/saved_models/transformer_1.0/tests/top_k_configuration.json\n",
      "Overriding existing test directory in /home/falaxdb/Repos/minus1/transformer_decoder_training/saved_files/saved_models/transformer_1.1\n",
      "Copied /home/falaxdb/Repos/minus1/transformer_decoder_training/test_files_and_configs/test_configs/threshold_005_configuration.json to /home/falaxdb/Repos/minus1/transformer_decoder_training/saved_files/saved_models/transformer_1.1/tests/threshold_005_configuration.json\n",
      "Copied /home/falaxdb/Repos/minus1/transformer_decoder_training/test_files_and_configs/test_configs/threshold_01_configuration.json to /home/falaxdb/Repos/minus1/transformer_decoder_training/saved_files/saved_models/transformer_1.1/tests/threshold_01_configuration.json\n",
      "Copied /home/falaxdb/Repos/minus1/transformer_decoder_training/test_files_and_configs/test_configs/threshold_015_configuration.json to /home/falaxdb/Repos/minus1/transformer_decoder_training/saved_files/saved_models/transformer_1.1/tests/threshold_015_configuration.json\n",
      "Copied /home/falaxdb/Repos/minus1/transformer_decoder_training/test_files_and_configs/test_configs/threshold_02_configuration.json to /home/falaxdb/Repos/minus1/transformer_decoder_training/saved_files/saved_models/transformer_1.1/tests/threshold_02_configuration.json\n",
      "Copied /home/falaxdb/Repos/minus1/transformer_decoder_training/test_files_and_configs/test_configs/threshold_025_configuration.json to /home/falaxdb/Repos/minus1/transformer_decoder_training/saved_files/saved_models/transformer_1.1/tests/threshold_025_configuration.json\n",
      "Copied /home/falaxdb/Repos/minus1/transformer_decoder_training/test_files_and_configs/test_configs/threshold_05_configuration.json to /home/falaxdb/Repos/minus1/transformer_decoder_training/saved_files/saved_models/transformer_1.1/tests/threshold_05_configuration.json\n",
      "Copied /home/falaxdb/Repos/minus1/transformer_decoder_training/test_files_and_configs/test_configs/threshold_03_configuration.json to /home/falaxdb/Repos/minus1/transformer_decoder_training/saved_files/saved_models/transformer_1.1/tests/threshold_03_configuration.json\n",
      "Copied /home/falaxdb/Repos/minus1/transformer_decoder_training/test_files_and_configs/test_configs/top_k_configuration.json to /home/falaxdb/Repos/minus1/transformer_decoder_training/saved_files/saved_models/transformer_1.1/tests/top_k_configuration.json\n",
      "Overriding existing test directory in /home/falaxdb/Repos/minus1/transformer_decoder_training/saved_files/saved_models/transformer_1.3\n",
      "Copied /home/falaxdb/Repos/minus1/transformer_decoder_training/test_files_and_configs/test_configs/threshold_005_configuration.json to /home/falaxdb/Repos/minus1/transformer_decoder_training/saved_files/saved_models/transformer_1.3/tests/threshold_005_configuration.json\n",
      "Copied /home/falaxdb/Repos/minus1/transformer_decoder_training/test_files_and_configs/test_configs/threshold_01_configuration.json to /home/falaxdb/Repos/minus1/transformer_decoder_training/saved_files/saved_models/transformer_1.3/tests/threshold_01_configuration.json\n",
      "Copied /home/falaxdb/Repos/minus1/transformer_decoder_training/test_files_and_configs/test_configs/threshold_015_configuration.json to /home/falaxdb/Repos/minus1/transformer_decoder_training/saved_files/saved_models/transformer_1.3/tests/threshold_015_configuration.json\n",
      "Copied /home/falaxdb/Repos/minus1/transformer_decoder_training/test_files_and_configs/test_configs/threshold_02_configuration.json to /home/falaxdb/Repos/minus1/transformer_decoder_training/saved_files/saved_models/transformer_1.3/tests/threshold_02_configuration.json\n",
      "Copied /home/falaxdb/Repos/minus1/transformer_decoder_training/test_files_and_configs/test_configs/threshold_025_configuration.json to /home/falaxdb/Repos/minus1/transformer_decoder_training/saved_files/saved_models/transformer_1.3/tests/threshold_025_configuration.json\n",
      "Copied /home/falaxdb/Repos/minus1/transformer_decoder_training/test_files_and_configs/test_configs/threshold_05_configuration.json to /home/falaxdb/Repos/minus1/transformer_decoder_training/saved_files/saved_models/transformer_1.3/tests/threshold_05_configuration.json\n",
      "Copied /home/falaxdb/Repos/minus1/transformer_decoder_training/test_files_and_configs/test_configs/threshold_03_configuration.json to /home/falaxdb/Repos/minus1/transformer_decoder_training/saved_files/saved_models/transformer_1.3/tests/threshold_03_configuration.json\n",
      "Copied /home/falaxdb/Repos/minus1/transformer_decoder_training/test_files_and_configs/test_configs/top_k_configuration.json to /home/falaxdb/Repos/minus1/transformer_decoder_training/saved_files/saved_models/transformer_1.3/tests/top_k_configuration.json\n",
      "Overriding existing test directory in /home/falaxdb/Repos/minus1/transformer_decoder_training/saved_files/saved_models/transformer_1.4\n",
      "Copied /home/falaxdb/Repos/minus1/transformer_decoder_training/test_files_and_configs/test_configs/threshold_005_configuration.json to /home/falaxdb/Repos/minus1/transformer_decoder_training/saved_files/saved_models/transformer_1.4/tests/threshold_005_configuration.json\n",
      "Copied /home/falaxdb/Repos/minus1/transformer_decoder_training/test_files_and_configs/test_configs/threshold_01_configuration.json to /home/falaxdb/Repos/minus1/transformer_decoder_training/saved_files/saved_models/transformer_1.4/tests/threshold_01_configuration.json\n",
      "Copied /home/falaxdb/Repos/minus1/transformer_decoder_training/test_files_and_configs/test_configs/threshold_015_configuration.json to /home/falaxdb/Repos/minus1/transformer_decoder_training/saved_files/saved_models/transformer_1.4/tests/threshold_015_configuration.json\n",
      "Copied /home/falaxdb/Repos/minus1/transformer_decoder_training/test_files_and_configs/test_configs/threshold_02_configuration.json to /home/falaxdb/Repos/minus1/transformer_decoder_training/saved_files/saved_models/transformer_1.4/tests/threshold_02_configuration.json\n",
      "Copied /home/falaxdb/Repos/minus1/transformer_decoder_training/test_files_and_configs/test_configs/threshold_025_configuration.json to /home/falaxdb/Repos/minus1/transformer_decoder_training/saved_files/saved_models/transformer_1.4/tests/threshold_025_configuration.json\n",
      "Copied /home/falaxdb/Repos/minus1/transformer_decoder_training/test_files_and_configs/test_configs/threshold_05_configuration.json to /home/falaxdb/Repos/minus1/transformer_decoder_training/saved_files/saved_models/transformer_1.4/tests/threshold_05_configuration.json\n",
      "Copied /home/falaxdb/Repos/minus1/transformer_decoder_training/test_files_and_configs/test_configs/threshold_03_configuration.json to /home/falaxdb/Repos/minus1/transformer_decoder_training/saved_files/saved_models/transformer_1.4/tests/threshold_03_configuration.json\n",
      "Copied /home/falaxdb/Repos/minus1/transformer_decoder_training/test_files_and_configs/test_configs/top_k_configuration.json to /home/falaxdb/Repos/minus1/transformer_decoder_training/saved_files/saved_models/transformer_1.4/tests/top_k_configuration.json\n",
      "Overriding existing test directory in /home/falaxdb/Repos/minus1/transformer_decoder_training/saved_files/saved_models/transformer_1.5\n",
      "Copied /home/falaxdb/Repos/minus1/transformer_decoder_training/test_files_and_configs/test_configs/threshold_005_configuration.json to /home/falaxdb/Repos/minus1/transformer_decoder_training/saved_files/saved_models/transformer_1.5/tests/threshold_005_configuration.json\n",
      "Copied /home/falaxdb/Repos/minus1/transformer_decoder_training/test_files_and_configs/test_configs/threshold_01_configuration.json to /home/falaxdb/Repos/minus1/transformer_decoder_training/saved_files/saved_models/transformer_1.5/tests/threshold_01_configuration.json\n",
      "Copied /home/falaxdb/Repos/minus1/transformer_decoder_training/test_files_and_configs/test_configs/threshold_015_configuration.json to /home/falaxdb/Repos/minus1/transformer_decoder_training/saved_files/saved_models/transformer_1.5/tests/threshold_015_configuration.json\n",
      "Copied /home/falaxdb/Repos/minus1/transformer_decoder_training/test_files_and_configs/test_configs/threshold_02_configuration.json to /home/falaxdb/Repos/minus1/transformer_decoder_training/saved_files/saved_models/transformer_1.5/tests/threshold_02_configuration.json\n",
      "Copied /home/falaxdb/Repos/minus1/transformer_decoder_training/test_files_and_configs/test_configs/threshold_025_configuration.json to /home/falaxdb/Repos/minus1/transformer_decoder_training/saved_files/saved_models/transformer_1.5/tests/threshold_025_configuration.json\n",
      "Copied /home/falaxdb/Repos/minus1/transformer_decoder_training/test_files_and_configs/test_configs/threshold_05_configuration.json to /home/falaxdb/Repos/minus1/transformer_decoder_training/saved_files/saved_models/transformer_1.5/tests/threshold_05_configuration.json\n",
      "Copied /home/falaxdb/Repos/minus1/transformer_decoder_training/test_files_and_configs/test_configs/threshold_03_configuration.json to /home/falaxdb/Repos/minus1/transformer_decoder_training/saved_files/saved_models/transformer_1.5/tests/threshold_03_configuration.json\n",
      "Copied /home/falaxdb/Repos/minus1/transformer_decoder_training/test_files_and_configs/test_configs/top_k_configuration.json to /home/falaxdb/Repos/minus1/transformer_decoder_training/saved_files/saved_models/transformer_1.5/tests/top_k_configuration.json\n",
      "Overriding existing test directory in /home/falaxdb/Repos/minus1/transformer_decoder_training/saved_files/saved_models/transformer_1.6\n",
      "Copied /home/falaxdb/Repos/minus1/transformer_decoder_training/test_files_and_configs/test_configs/threshold_005_configuration.json to /home/falaxdb/Repos/minus1/transformer_decoder_training/saved_files/saved_models/transformer_1.6/tests/threshold_005_configuration.json\n",
      "Copied /home/falaxdb/Repos/minus1/transformer_decoder_training/test_files_and_configs/test_configs/threshold_01_configuration.json to /home/falaxdb/Repos/minus1/transformer_decoder_training/saved_files/saved_models/transformer_1.6/tests/threshold_01_configuration.json\n",
      "Copied /home/falaxdb/Repos/minus1/transformer_decoder_training/test_files_and_configs/test_configs/threshold_015_configuration.json to /home/falaxdb/Repos/minus1/transformer_decoder_training/saved_files/saved_models/transformer_1.6/tests/threshold_015_configuration.json\n",
      "Copied /home/falaxdb/Repos/minus1/transformer_decoder_training/test_files_and_configs/test_configs/threshold_02_configuration.json to /home/falaxdb/Repos/minus1/transformer_decoder_training/saved_files/saved_models/transformer_1.6/tests/threshold_02_configuration.json\n",
      "Copied /home/falaxdb/Repos/minus1/transformer_decoder_training/test_files_and_configs/test_configs/threshold_025_configuration.json to /home/falaxdb/Repos/minus1/transformer_decoder_training/saved_files/saved_models/transformer_1.6/tests/threshold_025_configuration.json\n",
      "Copied /home/falaxdb/Repos/minus1/transformer_decoder_training/test_files_and_configs/test_configs/threshold_05_configuration.json to /home/falaxdb/Repos/minus1/transformer_decoder_training/saved_files/saved_models/transformer_1.6/tests/threshold_05_configuration.json\n",
      "Copied /home/falaxdb/Repos/minus1/transformer_decoder_training/test_files_and_configs/test_configs/threshold_03_configuration.json to /home/falaxdb/Repos/minus1/transformer_decoder_training/saved_files/saved_models/transformer_1.6/tests/threshold_03_configuration.json\n",
      "Copied /home/falaxdb/Repos/minus1/transformer_decoder_training/test_files_and_configs/test_configs/top_k_configuration.json to /home/falaxdb/Repos/minus1/transformer_decoder_training/saved_files/saved_models/transformer_1.6/tests/top_k_configuration.json\n",
      "Overriding existing test directory in /home/falaxdb/Repos/minus1/transformer_decoder_training/saved_files/saved_models/transformer_1.7\n",
      "Copied /home/falaxdb/Repos/minus1/transformer_decoder_training/test_files_and_configs/test_configs/threshold_005_configuration.json to /home/falaxdb/Repos/minus1/transformer_decoder_training/saved_files/saved_models/transformer_1.7/tests/threshold_005_configuration.json\n",
      "Copied /home/falaxdb/Repos/minus1/transformer_decoder_training/test_files_and_configs/test_configs/threshold_01_configuration.json to /home/falaxdb/Repos/minus1/transformer_decoder_training/saved_files/saved_models/transformer_1.7/tests/threshold_01_configuration.json\n",
      "Copied /home/falaxdb/Repos/minus1/transformer_decoder_training/test_files_and_configs/test_configs/threshold_015_configuration.json to /home/falaxdb/Repos/minus1/transformer_decoder_training/saved_files/saved_models/transformer_1.7/tests/threshold_015_configuration.json\n",
      "Copied /home/falaxdb/Repos/minus1/transformer_decoder_training/test_files_and_configs/test_configs/threshold_02_configuration.json to /home/falaxdb/Repos/minus1/transformer_decoder_training/saved_files/saved_models/transformer_1.7/tests/threshold_02_configuration.json\n",
      "Copied /home/falaxdb/Repos/minus1/transformer_decoder_training/test_files_and_configs/test_configs/threshold_025_configuration.json to /home/falaxdb/Repos/minus1/transformer_decoder_training/saved_files/saved_models/transformer_1.7/tests/threshold_025_configuration.json\n",
      "Copied /home/falaxdb/Repos/minus1/transformer_decoder_training/test_files_and_configs/test_configs/threshold_05_configuration.json to /home/falaxdb/Repos/minus1/transformer_decoder_training/saved_files/saved_models/transformer_1.7/tests/threshold_05_configuration.json\n",
      "Copied /home/falaxdb/Repos/minus1/transformer_decoder_training/test_files_and_configs/test_configs/threshold_03_configuration.json to /home/falaxdb/Repos/minus1/transformer_decoder_training/saved_files/saved_models/transformer_1.7/tests/threshold_03_configuration.json\n",
      "Copied /home/falaxdb/Repos/minus1/transformer_decoder_training/test_files_and_configs/test_configs/top_k_configuration.json to /home/falaxdb/Repos/minus1/transformer_decoder_training/saved_files/saved_models/transformer_1.7/tests/top_k_configuration.json\n",
      "Overriding existing test directory in /home/falaxdb/Repos/minus1/transformer_decoder_training/saved_files/saved_models/transformer_2.0\n",
      "Copied /home/falaxdb/Repos/minus1/transformer_decoder_training/test_files_and_configs/test_configs/threshold_005_configuration.json to /home/falaxdb/Repos/minus1/transformer_decoder_training/saved_files/saved_models/transformer_2.0/tests/threshold_005_configuration.json\n",
      "Copied /home/falaxdb/Repos/minus1/transformer_decoder_training/test_files_and_configs/test_configs/threshold_01_configuration.json to /home/falaxdb/Repos/minus1/transformer_decoder_training/saved_files/saved_models/transformer_2.0/tests/threshold_01_configuration.json\n",
      "Copied /home/falaxdb/Repos/minus1/transformer_decoder_training/test_files_and_configs/test_configs/threshold_015_configuration.json to /home/falaxdb/Repos/minus1/transformer_decoder_training/saved_files/saved_models/transformer_2.0/tests/threshold_015_configuration.json\n",
      "Copied /home/falaxdb/Repos/minus1/transformer_decoder_training/test_files_and_configs/test_configs/threshold_02_configuration.json to /home/falaxdb/Repos/minus1/transformer_decoder_training/saved_files/saved_models/transformer_2.0/tests/threshold_02_configuration.json\n",
      "Copied /home/falaxdb/Repos/minus1/transformer_decoder_training/test_files_and_configs/test_configs/threshold_025_configuration.json to /home/falaxdb/Repos/minus1/transformer_decoder_training/saved_files/saved_models/transformer_2.0/tests/threshold_025_configuration.json\n",
      "Copied /home/falaxdb/Repos/minus1/transformer_decoder_training/test_files_and_configs/test_configs/threshold_05_configuration.json to /home/falaxdb/Repos/minus1/transformer_decoder_training/saved_files/saved_models/transformer_2.0/tests/threshold_05_configuration.json\n",
      "Copied /home/falaxdb/Repos/minus1/transformer_decoder_training/test_files_and_configs/test_configs/threshold_03_configuration.json to /home/falaxdb/Repos/minus1/transformer_decoder_training/saved_files/saved_models/transformer_2.0/tests/threshold_03_configuration.json\n",
      "Copied /home/falaxdb/Repos/minus1/transformer_decoder_training/test_files_and_configs/test_configs/top_k_configuration.json to /home/falaxdb/Repos/minus1/transformer_decoder_training/saved_files/saved_models/transformer_2.0/tests/top_k_configuration.json\n"
     ]
    }
   ],
   "execution_count": 13
  },
  {
   "metadata": {
    "jupyter": {
     "is_executing": true
    },
    "ExecuteTime": {
     "start_time": "2024-08-25T21:33:27.180137Z"
    }
   },
   "cell_type": "code",
   "source": "test_helpers.testinference_for_all_models(projects_dir, test_data_dir, device)",
   "id": "43925c294eb457ee",
   "outputs": [
    {
     "name": "stdout",
     "output_type": "stream",
     "text": [
      "Found 15 projects\n"
     ]
    },
    {
     "name": "stderr",
     "output_type": "stream",
     "text": [
      "Projects:   0%|          | 0/15 [00:00<?, ?it/s]"
     ]
    },
    {
     "name": "stdout",
     "output_type": "stream",
     "text": [
      "Could not load model from project /home/falaxdb/Repos/minus1/transformer_decoder_training/saved_files/saved_models/legacy, skipping. Error: No JSON files found in the directory.\n",
      "Best epoch is epoch number 25\n"
     ]
    },
    {
     "name": "stderr",
     "output_type": "stream",
     "text": [
      "\n",
      "Testing configurations:   0%|          | 0/8 [00:00<?, ?it/s]\u001B[A\n",
      "\n",
      "Songs:   0%|          | 0/3 [00:00<?, ?it/s]\u001B[A\u001B[A"
     ]
    },
    {
     "name": "stdout",
     "output_type": "stream",
     "text": [
      "sequecne tensor: torch.Size([2803, 24])\n",
      "sequence with start token tensor: torch.Size([2804, 24])\n",
      "context_seq tensor: torch.Size([1, 17, 24])\n",
      "continuing seq torch.Size([1, 2787, 24])\n",
      "Tokens to generate: 2787\n",
      "Elapsed time: 3.5905 seconds\n",
      "Binary Tensors after concatinating:  torch.Size([2787, 24])\n",
      "Binary Tensors after unsqueezing:  torch.Size([1, 2787, 24])\n",
      "Context sequence + Generated tokens:  torch.Size([1, 2804, 24])\n"
     ]
    },
    {
     "name": "stderr",
     "output_type": "stream",
     "text": [
      "\n",
      "\n",
      "Songs:  33%|███▎      | 1/3 [00:03<00:07,  3.88s/it]\u001B[A\u001B[A"
     ]
    },
    {
     "name": "stdout",
     "output_type": "stream",
     "text": [
      "MIDI file saved to /home/falaxdb/Repos/minus1/transformer_decoder_training/saved_files/saved_models/transformer_01/tests/threshold_005/midi-unprocessed_04_r1_2008_01-04_orig_mid--audio_04_r1_2008_wav--1-split.mid\n",
      "sequecne tensor: torch.Size([14379, 24])\n",
      "sequence with start token tensor: torch.Size([14380, 24])\n",
      "context_seq tensor: torch.Size([1, 17, 24])\n",
      "continuing seq torch.Size([1, 14363, 24])\n",
      "Tokens to generate: 14363\n"
     ]
    }
   ],
   "execution_count": null
  }
 ],
 "metadata": {
  "kernelspec": {
   "display_name": "Python 3",
   "language": "python",
   "name": "python3"
  },
  "language_info": {
   "codemirror_mode": {
    "name": "ipython",
    "version": 2
   },
   "file_extension": ".py",
   "mimetype": "text/x-python",
   "name": "python",
   "nbconvert_exporter": "python",
   "pygments_lexer": "ipython2",
   "version": "2.7.6"
  }
 },
 "nbformat": 4,
 "nbformat_minor": 5
}
