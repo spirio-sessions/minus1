{
 "cells": [
  {
   "cell_type": "code",
   "id": "initial_id",
   "metadata": {
    "collapsed": true,
    "ExecuteTime": {
     "end_time": "2024-08-25T21:18:05.542603Z",
     "start_time": "2024-08-25T21:18:03.753718Z"
    }
   },
   "source": [
    "import torch\n",
    "import numpy as np\n",
    "import data_visualization.Visualization as visualization\n",
    "import json\n",
    "from pathlib import Path\n",
    "import transformer_decoder_training.testing_helper_functions as test_helpers\n",
    "\n",
    "# Check if GPU is available, set device accordingly\n",
    "device = torch.device(\"cuda\" if torch.cuda.is_available() else 'cpu')"
   ],
   "outputs": [],
   "execution_count": 1
  },
  {
   "metadata": {
    "ExecuteTime": {
     "end_time": "2024-08-25T21:18:07.586631Z",
     "start_time": "2024-08-25T21:18:07.579833Z"
    }
   },
   "cell_type": "code",
   "source": [
    "projects_dir = \"/home/falaxdb/Repos/minus1/transformer_decoder_training/saved_files/saved_models\"\n",
    "test_data_dir = \"/transformer_decoder_training/test_files_and_configs/split_into_midis\"\n",
    "test_configs_dir = \"/home/falaxdb/Repos/minus1/transformer_decoder_training/test_files_and_configs/test_configs\""
   ],
   "id": "db4b595478180a27",
   "outputs": [],
   "execution_count": 2
  },
  {
   "metadata": {},
   "cell_type": "code",
   "outputs": [],
   "execution_count": null,
   "source": "# create test configurations",
   "id": "305c0a45ac82150d"
  },
  {
   "metadata": {
    "ExecuteTime": {
     "end_time": "2024-08-25T21:18:14.661149Z",
     "start_time": "2024-08-25T21:18:14.656842Z"
    }
   },
   "cell_type": "code",
   "source": "test_helpers.copy_testing_templates_to_all_models(projects_dir, test_configs_dir, override=True)",
   "id": "2279f8fc1cca1f4c",
   "outputs": [
    {
     "name": "stdout",
     "output_type": "stream",
     "text": [
      "Found 15 projects\n",
      "Found 0 config files\n",
      "Overriding existing test directory in /home/falaxdb/Repos/minus1/transformer_decoder_training/saved_files/saved_models/transformer_1.2\n",
      "Overriding existing test directory in /home/falaxdb/Repos/minus1/transformer_decoder_training/saved_files/saved_models/transformer_1.1\n"
     ]
    }
   ],
   "execution_count": 3
  },
  {
   "metadata": {},
   "cell_type": "code",
   "outputs": [],
   "execution_count": null,
   "source": "test_helpers.testinference_for_all_models(projects_dir, test_data_dir, device)",
   "id": "43925c294eb457ee"
  }
 ],
 "metadata": {
  "kernelspec": {
   "display_name": "Python 3",
   "language": "python",
   "name": "python3"
  },
  "language_info": {
   "codemirror_mode": {
    "name": "ipython",
    "version": 2
   },
   "file_extension": ".py",
   "mimetype": "text/x-python",
   "name": "python",
   "nbconvert_exporter": "python",
   "pygments_lexer": "ipython2",
   "version": "2.7.6"
  }
 },
 "nbformat": 4,
 "nbformat_minor": 5
}
