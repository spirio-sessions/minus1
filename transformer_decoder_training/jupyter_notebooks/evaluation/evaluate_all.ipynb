{
 "cells": [
  {
   "cell_type": "code",
   "id": "initial_id",
   "metadata": {
    "collapsed": true,
    "ExecuteTime": {
     "end_time": "2024-08-29T16:54:39.853284Z",
     "start_time": "2024-08-29T16:54:38.084144Z"
    }
   },
   "source": [
    "import torch\n",
    "import numpy as np\n",
    "import data_visualization.Visualization as visualization\n",
    "import json\n",
    "from pathlib import Path\n",
    "import transformer_decoder_training.testing_helper_functions as test_helpers\n",
    "\n",
    "# Check if GPU is available, set device accordingly\n",
    "device = torch.device(\"cuda\" if torch.cuda.is_available() else 'cpu')"
   ],
   "outputs": [],
   "execution_count": 1
  },
  {
   "metadata": {
    "ExecuteTime": {
     "end_time": "2024-08-29T16:54:39.857277Z",
     "start_time": "2024-08-29T16:54:39.854799Z"
    }
   },
   "cell_type": "code",
   "source": [
    "projects_dir = \"/home/falaxdb/Repos/minus1/transformer_decoder_training/saved_files/saved_models\"\n",
    "test_data_dir = \"/home/falaxdb/Repos/minus1/transformer_decoder_training/test_files_and_configs/split_into_midis\"\n",
    "test_configs_dir = \"/home/falaxdb/Repos/minus1/transformer_decoder_training/test_files_and_configs/test_configs\""
   ],
   "id": "db4b595478180a27",
   "outputs": [],
   "execution_count": 2
  },
  {
   "metadata": {
    "ExecuteTime": {
     "end_time": "2024-08-29T16:54:39.866848Z",
     "start_time": "2024-08-29T16:54:39.858607Z"
    }
   },
   "cell_type": "code",
   "source": [
    "# create test configurations\n",
    "config = test_helpers.create_json_testing_template()\n",
    "\n",
    "config[\"test_row_name\"] = \"top_k\"\n",
    "config[\"threshold\"] = None\n",
    "config[\"inference_method\"] = \"inference_top_k_truth_notes\"\n",
    "\n",
    "test_helpers.save_json_testing_configuration(config, test_configs_dir, overwrite=False)"
   ],
   "id": "305c0a45ac82150d",
   "outputs": [
    {
     "name": "stdout",
     "output_type": "stream",
     "text": [
      "configuration file already exist and overwrite set to False. Skipping\n"
     ]
    }
   ],
   "execution_count": 3
  },
  {
   "metadata": {
    "ExecuteTime": {
     "end_time": "2024-08-29T16:54:39.877922Z",
     "start_time": "2024-08-29T16:54:39.868700Z"
    }
   },
   "cell_type": "code",
   "source": "test_helpers.copy_testing_templates_to_all_models(projects_dir, test_configs_dir, override=False)",
   "id": "2279f8fc1cca1f4c",
   "outputs": [
    {
     "name": "stdout",
     "output_type": "stream",
     "text": [
      "Found 19 projects\n",
      "Found 8 config files\n",
      "/home/falaxdb/Repos/minus1/transformer_decoder_training/saved_files/saved_models/transformer_01 already has a test directory and override is False, skipping\n",
      "/home/falaxdb/Repos/minus1/transformer_decoder_training/saved_files/saved_models/transformer_0.2 already has a test directory and override is False, skipping\n",
      "/home/falaxdb/Repos/minus1/transformer_decoder_training/saved_files/saved_models/transformer_0.3 already has a test directory and override is False, skipping\n",
      "/home/falaxdb/Repos/minus1/transformer_decoder_training/saved_files/saved_models/transformer_0.4 already has a test directory and override is False, skipping\n",
      "/home/falaxdb/Repos/minus1/transformer_decoder_training/saved_files/saved_models/transformer_0.5 already has a test directory and override is False, skipping\n",
      "/home/falaxdb/Repos/minus1/transformer_decoder_training/saved_files/saved_models/transformer_1.2 already has a test directory and override is False, skipping\n",
      "/home/falaxdb/Repos/minus1/transformer_decoder_training/saved_files/saved_models/transformer_1.0 already has a test directory and override is False, skipping\n",
      "/home/falaxdb/Repos/minus1/transformer_decoder_training/saved_files/saved_models/transformer_1.1 already has a test directory and override is False, skipping\n",
      "/home/falaxdb/Repos/minus1/transformer_decoder_training/saved_files/saved_models/transformer_1.3 already has a test directory and override is False, skipping\n",
      "/home/falaxdb/Repos/minus1/transformer_decoder_training/saved_files/saved_models/transformer_1.4 already has a test directory and override is False, skipping\n",
      "/home/falaxdb/Repos/minus1/transformer_decoder_training/saved_files/saved_models/transformer_1.5 already has a test directory and override is False, skipping\n",
      "/home/falaxdb/Repos/minus1/transformer_decoder_training/saved_files/saved_models/transformer_1.6 already has a test directory and override is False, skipping\n",
      "/home/falaxdb/Repos/minus1/transformer_decoder_training/saved_files/saved_models/transformer_1.7 already has a test directory and override is False, skipping\n",
      "/home/falaxdb/Repos/minus1/transformer_decoder_training/saved_files/saved_models/transformer_2.0 already has a test directory and override is False, skipping\n",
      "/home/falaxdb/Repos/minus1/transformer_decoder_training/saved_files/saved_models/transformer_1.8 already has a test directory and override is False, skipping\n",
      "/home/falaxdb/Repos/minus1/transformer_decoder_training/saved_files/saved_models/transformer_1.9 already has a test directory and override is False, skipping\n",
      "/home/falaxdb/Repos/minus1/transformer_decoder_training/saved_files/saved_models/transformer_1.10 already has a test directory and override is False, skipping\n",
      "/home/falaxdb/Repos/minus1/transformer_decoder_training/saved_files/saved_models/transformer_3.0 already has a test directory and override is False, skipping\n",
      "/home/falaxdb/Repos/minus1/transformer_decoder_training/saved_files/saved_models/transformer_3.1 already has a test directory and override is False, skipping\n"
     ]
    }
   ],
   "execution_count": 4
  },
  {
   "metadata": {
    "ExecuteTime": {
     "end_time": "2024-08-29T17:03:01.391757Z",
     "start_time": "2024-08-29T16:54:39.880398Z"
    }
   },
   "cell_type": "code",
   "source": "test_helpers.testinference_for_all_models(projects_dir, test_data_dir, device)",
   "id": "43925c294eb457ee",
   "outputs": [
    {
     "name": "stdout",
     "output_type": "stream",
     "text": [
      "Found 19 projects\n"
     ]
    },
    {
     "name": "stderr",
     "output_type": "stream",
     "text": [
      "Projects:   0%|          | 0/19 [00:00<?, ?it/s]"
     ]
    },
    {
     "name": "stdout",
     "output_type": "stream",
     "text": [
      "\n",
      "==============================\n",
      "Testing model transformer_01\n",
      "At location /home/falaxdb/Repos/minus1/transformer_decoder_training/saved_files/saved_models/transformer_01\n",
      "==============================\n",
      "\n",
      "Best epoch is epoch number 25\n"
     ]
    },
    {
     "name": "stderr",
     "output_type": "stream",
     "text": [
      "\n",
      "Testing configurations:   0%|          | 0/8 [00:00<?, ?it/s]\u001B[A\n",
      "\n",
      "Songs:   0%|          | 0/4 [00:00<?, ?it/s]\u001B[A\u001B[A"
     ]
    },
    {
     "name": "stdout",
     "output_type": "stream",
     "text": [
      "The song midi-unprocessed_04_r1_2008_01-04_orig_mid--audio_04_r1_2008_wav--1-split does already exist for the configuration /home/falaxdb/Repos/minus1/transformer_decoder_training/saved_files/saved_models/transformer_01/tests/threshold_005/midi-unprocessed_04_r1_2008_01-04_orig_mid--audio_04_r1_2008_wav--1-split_configuration.json, skipping\n",
      "The song simple_test does already exist for the configuration /home/falaxdb/Repos/minus1/transformer_decoder_training/saved_files/saved_models/transformer_01/tests/threshold_005/simple_test_configuration.json, skipping\n",
      "The song short_cord_progression does already exist for the configuration /home/falaxdb/Repos/minus1/transformer_decoder_training/saved_files/saved_models/transformer_01/tests/threshold_005/short_cord_progression_configuration.json, skipping\n",
      "sequecne tensor: torch.Size([1361, 24])\n",
      "sequence with start token tensor: torch.Size([1362, 24])\n",
      "context_seq tensor: torch.Size([1, 17, 24])\n",
      "continuing seq torch.Size([1, 1345, 24])\n",
      "Tokens to generate: 1345\n"
     ]
    },
    {
     "name": "stderr",
     "output_type": "stream",
     "text": [
      "\n",
      "\n",
      "Songs: 100%|██████████| 4/4 [00:02<00:00,  1.97it/s]\u001B[A\u001B[A\n",
      "\n",
      "                                                    \u001B[A\u001B[A\n",
      "Testing configurations:  12%|█▎        | 1/8 [00:02<00:14,  2.03s/it]\u001B[A"
     ]
    },
    {
     "name": "stdout",
     "output_type": "stream",
     "text": [
      "Elapsed time: 1.8906 seconds\n",
      "Binary Tensors after concatinating:  torch.Size([1345, 24])\n",
      "Binary Tensors after unsqueezing:  torch.Size([1, 1345, 24])\n",
      "Context sequence + Generated tokens:  torch.Size([1, 1362, 24])\n",
      "MIDI file saved to /home/falaxdb/Repos/minus1/transformer_decoder_training/saved_files/saved_models/transformer_01/tests/threshold_005/moritz_maria.mid\n"
     ]
    },
    {
     "name": "stderr",
     "output_type": "stream",
     "text": [
      "\n",
      "\n",
      "Songs:   0%|          | 0/4 [00:00<?, ?it/s]\u001B[A\u001B[A"
     ]
    },
    {
     "name": "stdout",
     "output_type": "stream",
     "text": [
      "The song midi-unprocessed_04_r1_2008_01-04_orig_mid--audio_04_r1_2008_wav--1-split does already exist for the configuration /home/falaxdb/Repos/minus1/transformer_decoder_training/saved_files/saved_models/transformer_01/tests/threshold_01/midi-unprocessed_04_r1_2008_01-04_orig_mid--audio_04_r1_2008_wav--1-split_configuration.json, skipping\n",
      "The song simple_test does already exist for the configuration /home/falaxdb/Repos/minus1/transformer_decoder_training/saved_files/saved_models/transformer_01/tests/threshold_01/simple_test_configuration.json, skipping\n",
      "The song short_cord_progression does already exist for the configuration /home/falaxdb/Repos/minus1/transformer_decoder_training/saved_files/saved_models/transformer_01/tests/threshold_01/short_cord_progression_configuration.json, skipping\n",
      "sequecne tensor: torch.Size([1361, 24])\n",
      "sequence with start token tensor: torch.Size([1362, 24])\n",
      "context_seq tensor: torch.Size([1, 17, 24])\n",
      "continuing seq torch.Size([1, 1345, 24])\n",
      "Tokens to generate: 1345\n"
     ]
    },
    {
     "name": "stderr",
     "output_type": "stream",
     "text": [
      "\n",
      "\n",
      "Songs: 100%|██████████| 4/4 [00:01<00:00,  2.06it/s]\u001B[A\u001B[A\n",
      "\n",
      "                                                    \u001B[A\u001B[A\n",
      "Testing configurations:  25%|██▌       | 2/8 [00:03<00:11,  1.98s/it]\u001B[A"
     ]
    },
    {
     "name": "stdout",
     "output_type": "stream",
     "text": [
      "Elapsed time: 1.8022 seconds\n",
      "Binary Tensors after concatinating:  torch.Size([1345, 24])\n",
      "Binary Tensors after unsqueezing:  torch.Size([1, 1345, 24])\n",
      "Context sequence + Generated tokens:  torch.Size([1, 1362, 24])\n",
      "MIDI file saved to /home/falaxdb/Repos/minus1/transformer_decoder_training/saved_files/saved_models/transformer_01/tests/threshold_01/moritz_maria.mid\n"
     ]
    },
    {
     "name": "stderr",
     "output_type": "stream",
     "text": [
      "\n",
      "\n",
      "Songs:   0%|          | 0/4 [00:00<?, ?it/s]\u001B[A\u001B[A"
     ]
    },
    {
     "name": "stdout",
     "output_type": "stream",
     "text": [
      "The song midi-unprocessed_04_r1_2008_01-04_orig_mid--audio_04_r1_2008_wav--1-split does already exist for the configuration /home/falaxdb/Repos/minus1/transformer_decoder_training/saved_files/saved_models/transformer_01/tests/threshold_015/midi-unprocessed_04_r1_2008_01-04_orig_mid--audio_04_r1_2008_wav--1-split_configuration.json, skipping\n",
      "The song simple_test does already exist for the configuration /home/falaxdb/Repos/minus1/transformer_decoder_training/saved_files/saved_models/transformer_01/tests/threshold_015/simple_test_configuration.json, skipping\n",
      "The song short_cord_progression does already exist for the configuration /home/falaxdb/Repos/minus1/transformer_decoder_training/saved_files/saved_models/transformer_01/tests/threshold_015/short_cord_progression_configuration.json, skipping\n",
      "sequecne tensor: torch.Size([1361, 24])\n",
      "sequence with start token tensor: torch.Size([1362, 24])\n",
      "context_seq tensor: torch.Size([1, 17, 24])\n",
      "continuing seq torch.Size([1, 1345, 24])\n",
      "Tokens to generate: 1345\n"
     ]
    },
    {
     "name": "stderr",
     "output_type": "stream",
     "text": [
      "\n",
      "\n",
      "Songs: 100%|██████████| 4/4 [00:01<00:00,  2.11it/s]\u001B[A\u001B[A\n",
      "\n",
      "                                                    \u001B[A\u001B[A\n",
      "Testing configurations:  38%|███▊      | 3/8 [00:05<00:09,  1.94s/it]\u001B[A"
     ]
    },
    {
     "name": "stdout",
     "output_type": "stream",
     "text": [
      "Elapsed time: 1.7619 seconds\n",
      "Binary Tensors after concatinating:  torch.Size([1345, 24])\n",
      "Binary Tensors after unsqueezing:  torch.Size([1, 1345, 24])\n",
      "Context sequence + Generated tokens:  torch.Size([1, 1362, 24])\n",
      "MIDI file saved to /home/falaxdb/Repos/minus1/transformer_decoder_training/saved_files/saved_models/transformer_01/tests/threshold_015/moritz_maria.mid\n"
     ]
    },
    {
     "name": "stderr",
     "output_type": "stream",
     "text": [
      "\n",
      "\n",
      "Songs:   0%|          | 0/4 [00:00<?, ?it/s]\u001B[A\u001B[A"
     ]
    },
    {
     "name": "stdout",
     "output_type": "stream",
     "text": [
      "The song midi-unprocessed_04_r1_2008_01-04_orig_mid--audio_04_r1_2008_wav--1-split does already exist for the configuration /home/falaxdb/Repos/minus1/transformer_decoder_training/saved_files/saved_models/transformer_01/tests/threshold_02/midi-unprocessed_04_r1_2008_01-04_orig_mid--audio_04_r1_2008_wav--1-split_configuration.json, skipping\n",
      "The song simple_test does already exist for the configuration /home/falaxdb/Repos/minus1/transformer_decoder_training/saved_files/saved_models/transformer_01/tests/threshold_02/simple_test_configuration.json, skipping\n",
      "The song short_cord_progression does already exist for the configuration /home/falaxdb/Repos/minus1/transformer_decoder_training/saved_files/saved_models/transformer_01/tests/threshold_02/short_cord_progression_configuration.json, skipping\n",
      "sequecne tensor: torch.Size([1361, 24])\n",
      "sequence with start token tensor: torch.Size([1362, 24])\n",
      "context_seq tensor: torch.Size([1, 17, 24])\n",
      "continuing seq torch.Size([1, 1345, 24])\n",
      "Tokens to generate: 1345\n"
     ]
    },
    {
     "name": "stderr",
     "output_type": "stream",
     "text": [
      "\n",
      "\n",
      "Songs: 100%|██████████| 4/4 [00:01<00:00,  2.08it/s]\u001B[A\u001B[A\n",
      "\n",
      "                                                    \u001B[A\u001B[A\n",
      "Testing configurations:  50%|█████     | 4/8 [00:07<00:07,  1.93s/it]\u001B[A"
     ]
    },
    {
     "name": "stdout",
     "output_type": "stream",
     "text": [
      "Elapsed time: 1.7901 seconds\n",
      "Binary Tensors after concatinating:  torch.Size([1345, 24])\n",
      "Binary Tensors after unsqueezing:  torch.Size([1, 1345, 24])\n",
      "Context sequence + Generated tokens:  torch.Size([1, 1362, 24])\n",
      "MIDI file saved to /home/falaxdb/Repos/minus1/transformer_decoder_training/saved_files/saved_models/transformer_01/tests/threshold_02/moritz_maria.mid\n"
     ]
    },
    {
     "name": "stderr",
     "output_type": "stream",
     "text": [
      "\n",
      "\n",
      "Songs:   0%|          | 0/4 [00:00<?, ?it/s]\u001B[A\u001B[A"
     ]
    },
    {
     "name": "stdout",
     "output_type": "stream",
     "text": [
      "The song midi-unprocessed_04_r1_2008_01-04_orig_mid--audio_04_r1_2008_wav--1-split does already exist for the configuration /home/falaxdb/Repos/minus1/transformer_decoder_training/saved_files/saved_models/transformer_01/tests/threshold_025/midi-unprocessed_04_r1_2008_01-04_orig_mid--audio_04_r1_2008_wav--1-split_configuration.json, skipping\n",
      "The song simple_test does already exist for the configuration /home/falaxdb/Repos/minus1/transformer_decoder_training/saved_files/saved_models/transformer_01/tests/threshold_025/simple_test_configuration.json, skipping\n",
      "The song short_cord_progression does already exist for the configuration /home/falaxdb/Repos/minus1/transformer_decoder_training/saved_files/saved_models/transformer_01/tests/threshold_025/short_cord_progression_configuration.json, skipping\n",
      "sequecne tensor: torch.Size([1361, 24])\n",
      "sequence with start token tensor: torch.Size([1362, 24])\n",
      "context_seq tensor: torch.Size([1, 17, 24])\n",
      "continuing seq torch.Size([1, 1345, 24])\n",
      "Tokens to generate: 1345\n"
     ]
    },
    {
     "name": "stderr",
     "output_type": "stream",
     "text": [
      "\n",
      "\n",
      "Songs: 100%|██████████| 4/4 [00:01<00:00,  2.08it/s]\u001B[A\u001B[A\n",
      "\n",
      "                                                    \u001B[A\u001B[A\n",
      "Testing configurations:  62%|██████▎   | 5/8 [00:09<00:05,  1.93s/it]\u001B[A"
     ]
    },
    {
     "name": "stdout",
     "output_type": "stream",
     "text": [
      "Elapsed time: 1.7881 seconds\n",
      "Binary Tensors after concatinating:  torch.Size([1345, 24])\n",
      "Binary Tensors after unsqueezing:  torch.Size([1, 1345, 24])\n",
      "Context sequence + Generated tokens:  torch.Size([1, 1362, 24])\n",
      "MIDI file saved to /home/falaxdb/Repos/minus1/transformer_decoder_training/saved_files/saved_models/transformer_01/tests/threshold_025/moritz_maria.mid\n"
     ]
    },
    {
     "name": "stderr",
     "output_type": "stream",
     "text": [
      "\n",
      "\n",
      "Songs:   0%|          | 0/4 [00:00<?, ?it/s]\u001B[A\u001B[A"
     ]
    },
    {
     "name": "stdout",
     "output_type": "stream",
     "text": [
      "The song midi-unprocessed_04_r1_2008_01-04_orig_mid--audio_04_r1_2008_wav--1-split does already exist for the configuration /home/falaxdb/Repos/minus1/transformer_decoder_training/saved_files/saved_models/transformer_01/tests/threshold_05/midi-unprocessed_04_r1_2008_01-04_orig_mid--audio_04_r1_2008_wav--1-split_configuration.json, skipping\n",
      "The song simple_test does already exist for the configuration /home/falaxdb/Repos/minus1/transformer_decoder_training/saved_files/saved_models/transformer_01/tests/threshold_05/simple_test_configuration.json, skipping\n",
      "The song short_cord_progression does already exist for the configuration /home/falaxdb/Repos/minus1/transformer_decoder_training/saved_files/saved_models/transformer_01/tests/threshold_05/short_cord_progression_configuration.json, skipping\n",
      "sequecne tensor: torch.Size([1361, 24])\n",
      "sequence with start token tensor: torch.Size([1362, 24])\n",
      "context_seq tensor: torch.Size([1, 17, 24])\n",
      "continuing seq torch.Size([1, 1345, 24])\n",
      "Tokens to generate: 1345\n"
     ]
    },
    {
     "name": "stderr",
     "output_type": "stream",
     "text": [
      "\n",
      "\n",
      "Songs: 100%|██████████| 4/4 [00:01<00:00,  2.04it/s]\u001B[A\u001B[A\n",
      "\n",
      "                                                    \u001B[A\u001B[A\n",
      "Testing configurations:  75%|███████▌  | 6/8 [00:11<00:03,  1.94s/it]\u001B[A"
     ]
    },
    {
     "name": "stdout",
     "output_type": "stream",
     "text": [
      "Elapsed time: 1.7922 seconds\n",
      "Binary Tensors after concatinating:  torch.Size([1345, 24])\n",
      "Binary Tensors after unsqueezing:  torch.Size([1, 1345, 24])\n",
      "Context sequence + Generated tokens:  torch.Size([1, 1362, 24])\n",
      "MIDI file saved to /home/falaxdb/Repos/minus1/transformer_decoder_training/saved_files/saved_models/transformer_01/tests/threshold_05/moritz_maria.mid\n"
     ]
    },
    {
     "name": "stderr",
     "output_type": "stream",
     "text": [
      "\n",
      "\n",
      "Songs:   0%|          | 0/4 [00:00<?, ?it/s]\u001B[A\u001B[A"
     ]
    },
    {
     "name": "stdout",
     "output_type": "stream",
     "text": [
      "The song midi-unprocessed_04_r1_2008_01-04_orig_mid--audio_04_r1_2008_wav--1-split does already exist for the configuration /home/falaxdb/Repos/minus1/transformer_decoder_training/saved_files/saved_models/transformer_01/tests/threshold_03/midi-unprocessed_04_r1_2008_01-04_orig_mid--audio_04_r1_2008_wav--1-split_configuration.json, skipping\n",
      "The song simple_test does already exist for the configuration /home/falaxdb/Repos/minus1/transformer_decoder_training/saved_files/saved_models/transformer_01/tests/threshold_03/simple_test_configuration.json, skipping\n",
      "The song short_cord_progression does already exist for the configuration /home/falaxdb/Repos/minus1/transformer_decoder_training/saved_files/saved_models/transformer_01/tests/threshold_03/short_cord_progression_configuration.json, skipping\n",
      "sequecne tensor: torch.Size([1361, 24])\n",
      "sequence with start token tensor: torch.Size([1362, 24])\n",
      "context_seq tensor: torch.Size([1, 17, 24])\n",
      "continuing seq torch.Size([1, 1345, 24])\n",
      "Tokens to generate: 1345\n"
     ]
    },
    {
     "name": "stderr",
     "output_type": "stream",
     "text": [
      "\n",
      "\n",
      "Songs: 100%|██████████| 4/4 [00:01<00:00,  2.13it/s]\u001B[A\u001B[A\n",
      "\n",
      "                                                    \u001B[A\u001B[A\n",
      "Testing configurations:  88%|████████▊ | 7/8 [00:13<00:01,  1.92s/it]\u001B[A"
     ]
    },
    {
     "name": "stdout",
     "output_type": "stream",
     "text": [
      "Elapsed time: 1.7458 seconds\n",
      "Binary Tensors after concatinating:  torch.Size([1345, 24])\n",
      "Binary Tensors after unsqueezing:  torch.Size([1, 1345, 24])\n",
      "Context sequence + Generated tokens:  torch.Size([1, 1362, 24])\n",
      "MIDI file saved to /home/falaxdb/Repos/minus1/transformer_decoder_training/saved_files/saved_models/transformer_01/tests/threshold_03/moritz_maria.mid\n"
     ]
    },
    {
     "name": "stderr",
     "output_type": "stream",
     "text": [
      "\n",
      "\n",
      "Songs:   0%|          | 0/4 [00:00<?, ?it/s]\u001B[A\u001B[A"
     ]
    },
    {
     "name": "stdout",
     "output_type": "stream",
     "text": [
      "The song midi-unprocessed_04_r1_2008_01-04_orig_mid--audio_04_r1_2008_wav--1-split does already exist for the configuration /home/falaxdb/Repos/minus1/transformer_decoder_training/saved_files/saved_models/transformer_01/tests/top_k/midi-unprocessed_04_r1_2008_01-04_orig_mid--audio_04_r1_2008_wav--1-split_configuration.json, skipping\n",
      "The song simple_test does already exist for the configuration /home/falaxdb/Repos/minus1/transformer_decoder_training/saved_files/saved_models/transformer_01/tests/top_k/simple_test_configuration.json, skipping\n",
      "The song short_cord_progression does already exist for the configuration /home/falaxdb/Repos/minus1/transformer_decoder_training/saved_files/saved_models/transformer_01/tests/top_k/short_cord_progression_configuration.json, skipping\n",
      "sequecne tensor: torch.Size([1361, 24])\n",
      "sequence with start token tensor: torch.Size([1362, 24])\n",
      "context_seq tensor: torch.Size([1, 17, 24])\n",
      "continuing seq torch.Size([1, 1345, 24])\n",
      "Tokens to generate: 1345\n"
     ]
    },
    {
     "name": "stderr",
     "output_type": "stream",
     "text": [
      "\n",
      "\n",
      "Songs: 100%|██████████| 4/4 [00:01<00:00,  2.01it/s]\u001B[A\u001B[A\n",
      "\n",
      "                                                    \u001B[A\u001B[A\n",
      "Testing configurations: 100%|██████████| 8/8 [00:15<00:00,  1.95s/it]\u001B[A\n",
      "Projects:   5%|▌         | 1/19 [00:16<04:49, 16.11s/it]             \u001B[A"
     ]
    },
    {
     "name": "stdout",
     "output_type": "stream",
     "text": [
      "Elapsed time: 1.8574 seconds\n",
      "Binary Tensors after concatinating:  torch.Size([1345, 24])\n",
      "Binary Tensors after unsqueezing:  torch.Size([1, 1345, 24])\n",
      "Context sequence + Generated tokens:  torch.Size([1, 1362, 24])\n",
      "MIDI file saved to /home/falaxdb/Repos/minus1/transformer_decoder_training/saved_files/saved_models/transformer_01/tests/top_k/moritz_maria.mid\n",
      "\n",
      "==============================\n",
      "Testing model transformer_0.2\n",
      "At location /home/falaxdb/Repos/minus1/transformer_decoder_training/saved_files/saved_models/transformer_0.2\n",
      "==============================\n",
      "\n",
      "Best epoch is epoch number 5\n"
     ]
    },
    {
     "name": "stderr",
     "output_type": "stream",
     "text": [
      "\n",
      "Testing configurations:   0%|          | 0/8 [00:00<?, ?it/s]\u001B[A\n",
      "\n",
      "Songs:   0%|          | 0/4 [00:00<?, ?it/s]\u001B[A\u001B[A"
     ]
    },
    {
     "name": "stdout",
     "output_type": "stream",
     "text": [
      "The song midi-unprocessed_04_r1_2008_01-04_orig_mid--audio_04_r1_2008_wav--1-split does already exist for the configuration /home/falaxdb/Repos/minus1/transformer_decoder_training/saved_files/saved_models/transformer_0.2/tests/threshold_005/midi-unprocessed_04_r1_2008_01-04_orig_mid--audio_04_r1_2008_wav--1-split_configuration.json, skipping\n",
      "The song simple_test does already exist for the configuration /home/falaxdb/Repos/minus1/transformer_decoder_training/saved_files/saved_models/transformer_0.2/tests/threshold_005/simple_test_configuration.json, skipping\n",
      "The song short_cord_progression does already exist for the configuration /home/falaxdb/Repos/minus1/transformer_decoder_training/saved_files/saved_models/transformer_0.2/tests/threshold_005/short_cord_progression_configuration.json, skipping\n",
      "sequecne tensor: torch.Size([1361, 24])\n",
      "sequence with start token tensor: torch.Size([1362, 24])\n",
      "context_seq tensor: torch.Size([1, 101, 24])\n",
      "continuing seq torch.Size([1, 1261, 24])\n",
      "Tokens to generate: 1261\n"
     ]
    },
    {
     "name": "stderr",
     "output_type": "stream",
     "text": [
      "\n",
      "\n",
      "Songs: 100%|██████████| 4/4 [00:01<00:00,  2.05it/s]\u001B[A\u001B[A\n",
      "\n",
      "                                                    \u001B[A\u001B[A\n",
      "Testing configurations:  12%|█▎        | 1/8 [00:01<00:13,  1.95s/it]\u001B[A"
     ]
    },
    {
     "name": "stdout",
     "output_type": "stream",
     "text": [
      "Elapsed time: 1.8196 seconds\n",
      "Binary Tensors after concatinating:  torch.Size([1261, 24])\n",
      "Binary Tensors after unsqueezing:  torch.Size([1, 1261, 24])\n",
      "Context sequence + Generated tokens:  torch.Size([1, 1362, 24])\n",
      "MIDI file saved to /home/falaxdb/Repos/minus1/transformer_decoder_training/saved_files/saved_models/transformer_0.2/tests/threshold_005/moritz_maria.mid\n"
     ]
    },
    {
     "name": "stderr",
     "output_type": "stream",
     "text": [
      "\n",
      "\n",
      "Songs:   0%|          | 0/4 [00:00<?, ?it/s]\u001B[A\u001B[A"
     ]
    },
    {
     "name": "stdout",
     "output_type": "stream",
     "text": [
      "The song midi-unprocessed_04_r1_2008_01-04_orig_mid--audio_04_r1_2008_wav--1-split does already exist for the configuration /home/falaxdb/Repos/minus1/transformer_decoder_training/saved_files/saved_models/transformer_0.2/tests/threshold_01/midi-unprocessed_04_r1_2008_01-04_orig_mid--audio_04_r1_2008_wav--1-split_configuration.json, skipping\n",
      "The song simple_test does already exist for the configuration /home/falaxdb/Repos/minus1/transformer_decoder_training/saved_files/saved_models/transformer_0.2/tests/threshold_01/simple_test_configuration.json, skipping\n",
      "The song short_cord_progression does already exist for the configuration /home/falaxdb/Repos/minus1/transformer_decoder_training/saved_files/saved_models/transformer_0.2/tests/threshold_01/short_cord_progression_configuration.json, skipping\n",
      "sequecne tensor: torch.Size([1361, 24])\n",
      "sequence with start token tensor: torch.Size([1362, 24])\n",
      "context_seq tensor: torch.Size([1, 101, 24])\n",
      "continuing seq torch.Size([1, 1261, 24])\n",
      "Tokens to generate: 1261\n"
     ]
    },
    {
     "name": "stderr",
     "output_type": "stream",
     "text": [
      "\n",
      "\n",
      "Songs: 100%|██████████| 4/4 [00:02<00:00,  2.00it/s]\u001B[A\u001B[A\n",
      "\n",
      "                                                    \u001B[A\u001B[A\n",
      "Testing configurations:  25%|██▌       | 2/8 [00:03<00:11,  1.98s/it]\u001B[A"
     ]
    },
    {
     "name": "stdout",
     "output_type": "stream",
     "text": [
      "Elapsed time: 1.8678 seconds\n",
      "Binary Tensors after concatinating:  torch.Size([1261, 24])\n",
      "Binary Tensors after unsqueezing:  torch.Size([1, 1261, 24])\n",
      "Context sequence + Generated tokens:  torch.Size([1, 1362, 24])\n",
      "MIDI file saved to /home/falaxdb/Repos/minus1/transformer_decoder_training/saved_files/saved_models/transformer_0.2/tests/threshold_01/moritz_maria.mid\n"
     ]
    },
    {
     "name": "stderr",
     "output_type": "stream",
     "text": [
      "\n",
      "\n",
      "Songs:   0%|          | 0/4 [00:00<?, ?it/s]\u001B[A\u001B[A"
     ]
    },
    {
     "name": "stdout",
     "output_type": "stream",
     "text": [
      "The song midi-unprocessed_04_r1_2008_01-04_orig_mid--audio_04_r1_2008_wav--1-split does already exist for the configuration /home/falaxdb/Repos/minus1/transformer_decoder_training/saved_files/saved_models/transformer_0.2/tests/threshold_015/midi-unprocessed_04_r1_2008_01-04_orig_mid--audio_04_r1_2008_wav--1-split_configuration.json, skipping\n",
      "The song simple_test does already exist for the configuration /home/falaxdb/Repos/minus1/transformer_decoder_training/saved_files/saved_models/transformer_0.2/tests/threshold_015/simple_test_configuration.json, skipping\n",
      "The song short_cord_progression does already exist for the configuration /home/falaxdb/Repos/minus1/transformer_decoder_training/saved_files/saved_models/transformer_0.2/tests/threshold_015/short_cord_progression_configuration.json, skipping\n",
      "sequecne tensor: torch.Size([1361, 24])\n",
      "sequence with start token tensor: torch.Size([1362, 24])\n",
      "context_seq tensor: torch.Size([1, 101, 24])\n",
      "continuing seq torch.Size([1, 1261, 24])\n",
      "Tokens to generate: 1261\n"
     ]
    },
    {
     "name": "stderr",
     "output_type": "stream",
     "text": [
      "\n",
      "\n",
      "Songs: 100%|██████████| 4/4 [00:01<00:00,  2.19it/s]\u001B[A\u001B[A\n",
      "\n",
      "                                                    \u001B[A\u001B[A\n",
      "Testing configurations:  38%|███▊      | 3/8 [00:05<00:09,  1.91s/it]\u001B[A"
     ]
    },
    {
     "name": "stdout",
     "output_type": "stream",
     "text": [
      "Elapsed time: 1.6900 seconds\n",
      "Binary Tensors after concatinating:  torch.Size([1261, 24])\n",
      "Binary Tensors after unsqueezing:  torch.Size([1, 1261, 24])\n",
      "Context sequence + Generated tokens:  torch.Size([1, 1362, 24])\n",
      "MIDI file saved to /home/falaxdb/Repos/minus1/transformer_decoder_training/saved_files/saved_models/transformer_0.2/tests/threshold_015/moritz_maria.mid\n"
     ]
    },
    {
     "name": "stderr",
     "output_type": "stream",
     "text": [
      "\n",
      "\n",
      "Songs:   0%|          | 0/4 [00:00<?, ?it/s]\u001B[A\u001B[A"
     ]
    },
    {
     "name": "stdout",
     "output_type": "stream",
     "text": [
      "The song midi-unprocessed_04_r1_2008_01-04_orig_mid--audio_04_r1_2008_wav--1-split does already exist for the configuration /home/falaxdb/Repos/minus1/transformer_decoder_training/saved_files/saved_models/transformer_0.2/tests/threshold_02/midi-unprocessed_04_r1_2008_01-04_orig_mid--audio_04_r1_2008_wav--1-split_configuration.json, skipping\n",
      "The song simple_test does already exist for the configuration /home/falaxdb/Repos/minus1/transformer_decoder_training/saved_files/saved_models/transformer_0.2/tests/threshold_02/simple_test_configuration.json, skipping\n",
      "The song short_cord_progression does already exist for the configuration /home/falaxdb/Repos/minus1/transformer_decoder_training/saved_files/saved_models/transformer_0.2/tests/threshold_02/short_cord_progression_configuration.json, skipping\n",
      "sequecne tensor: torch.Size([1361, 24])\n",
      "sequence with start token tensor: torch.Size([1362, 24])\n",
      "context_seq tensor: torch.Size([1, 101, 24])\n",
      "continuing seq torch.Size([1, 1261, 24])\n",
      "Tokens to generate: 1261\n"
     ]
    },
    {
     "name": "stderr",
     "output_type": "stream",
     "text": [
      "\n",
      "\n",
      "Songs: 100%|██████████| 4/4 [00:01<00:00,  2.21it/s]\u001B[A\u001B[A\n",
      "\n",
      "                                                    \u001B[A\u001B[A\n",
      "Testing configurations:  50%|█████     | 4/8 [00:07<00:07,  1.87s/it]\u001B[A"
     ]
    },
    {
     "name": "stdout",
     "output_type": "stream",
     "text": [
      "Elapsed time: 1.6703 seconds\n",
      "Binary Tensors after concatinating:  torch.Size([1261, 24])\n",
      "Binary Tensors after unsqueezing:  torch.Size([1, 1261, 24])\n",
      "Context sequence + Generated tokens:  torch.Size([1, 1362, 24])\n",
      "MIDI file saved to /home/falaxdb/Repos/minus1/transformer_decoder_training/saved_files/saved_models/transformer_0.2/tests/threshold_02/moritz_maria.mid\n"
     ]
    },
    {
     "name": "stderr",
     "output_type": "stream",
     "text": [
      "\n",
      "\n",
      "Songs:   0%|          | 0/4 [00:00<?, ?it/s]\u001B[A\u001B[A"
     ]
    },
    {
     "name": "stdout",
     "output_type": "stream",
     "text": [
      "The song midi-unprocessed_04_r1_2008_01-04_orig_mid--audio_04_r1_2008_wav--1-split does already exist for the configuration /home/falaxdb/Repos/minus1/transformer_decoder_training/saved_files/saved_models/transformer_0.2/tests/threshold_025/midi-unprocessed_04_r1_2008_01-04_orig_mid--audio_04_r1_2008_wav--1-split_configuration.json, skipping\n",
      "The song simple_test does already exist for the configuration /home/falaxdb/Repos/minus1/transformer_decoder_training/saved_files/saved_models/transformer_0.2/tests/threshold_025/simple_test_configuration.json, skipping\n",
      "The song short_cord_progression does already exist for the configuration /home/falaxdb/Repos/minus1/transformer_decoder_training/saved_files/saved_models/transformer_0.2/tests/threshold_025/short_cord_progression_configuration.json, skipping\n",
      "sequecne tensor: torch.Size([1361, 24])\n",
      "sequence with start token tensor: torch.Size([1362, 24])\n",
      "context_seq tensor: torch.Size([1, 101, 24])\n",
      "continuing seq torch.Size([1, 1261, 24])\n",
      "Tokens to generate: 1261\n"
     ]
    },
    {
     "name": "stderr",
     "output_type": "stream",
     "text": [
      "\n",
      "\n",
      "Songs: 100%|██████████| 4/4 [00:01<00:00,  2.23it/s]\u001B[A\u001B[A\n",
      "\n",
      "                                                    \u001B[A\u001B[A\n",
      "Testing configurations:  62%|██████▎   | 5/8 [00:09<00:05,  1.85s/it]\u001B[A"
     ]
    },
    {
     "name": "stdout",
     "output_type": "stream",
     "text": [
      "Elapsed time: 1.6588 seconds\n",
      "Binary Tensors after concatinating:  torch.Size([1261, 24])\n",
      "Binary Tensors after unsqueezing:  torch.Size([1, 1261, 24])\n",
      "Context sequence + Generated tokens:  torch.Size([1, 1362, 24])\n",
      "MIDI file saved to /home/falaxdb/Repos/minus1/transformer_decoder_training/saved_files/saved_models/transformer_0.2/tests/threshold_025/moritz_maria.mid\n"
     ]
    },
    {
     "name": "stderr",
     "output_type": "stream",
     "text": [
      "\n",
      "\n",
      "Songs:   0%|          | 0/4 [00:00<?, ?it/s]\u001B[A\u001B[A"
     ]
    },
    {
     "name": "stdout",
     "output_type": "stream",
     "text": [
      "The song midi-unprocessed_04_r1_2008_01-04_orig_mid--audio_04_r1_2008_wav--1-split does already exist for the configuration /home/falaxdb/Repos/minus1/transformer_decoder_training/saved_files/saved_models/transformer_0.2/tests/threshold_05/midi-unprocessed_04_r1_2008_01-04_orig_mid--audio_04_r1_2008_wav--1-split_configuration.json, skipping\n",
      "The song simple_test does already exist for the configuration /home/falaxdb/Repos/minus1/transformer_decoder_training/saved_files/saved_models/transformer_0.2/tests/threshold_05/simple_test_configuration.json, skipping\n",
      "The song short_cord_progression does already exist for the configuration /home/falaxdb/Repos/minus1/transformer_decoder_training/saved_files/saved_models/transformer_0.2/tests/threshold_05/short_cord_progression_configuration.json, skipping\n",
      "sequecne tensor: torch.Size([1361, 24])\n",
      "sequence with start token tensor: torch.Size([1362, 24])\n",
      "context_seq tensor: torch.Size([1, 101, 24])\n",
      "continuing seq torch.Size([1, 1261, 24])\n",
      "Tokens to generate: 1261\n"
     ]
    },
    {
     "name": "stderr",
     "output_type": "stream",
     "text": [
      "\n",
      "\n",
      "Songs: 100%|██████████| 4/4 [00:02<00:00,  1.98it/s]\u001B[A\u001B[A\n",
      "\n",
      "                                                    \u001B[A\u001B[A\n",
      "Testing configurations:  75%|███████▌  | 6/8 [00:11<00:03,  1.91s/it]\u001B[A"
     ]
    },
    {
     "name": "stdout",
     "output_type": "stream",
     "text": [
      "Elapsed time: 1.8918 seconds\n",
      "Binary Tensors after concatinating:  torch.Size([1261, 24])\n",
      "Binary Tensors after unsqueezing:  torch.Size([1, 1261, 24])\n",
      "Context sequence + Generated tokens:  torch.Size([1, 1362, 24])\n",
      "MIDI file saved to /home/falaxdb/Repos/minus1/transformer_decoder_training/saved_files/saved_models/transformer_0.2/tests/threshold_05/moritz_maria.mid\n"
     ]
    },
    {
     "name": "stderr",
     "output_type": "stream",
     "text": [
      "\n",
      "\n",
      "Songs:   0%|          | 0/4 [00:00<?, ?it/s]\u001B[A\u001B[A"
     ]
    },
    {
     "name": "stdout",
     "output_type": "stream",
     "text": [
      "The song midi-unprocessed_04_r1_2008_01-04_orig_mid--audio_04_r1_2008_wav--1-split does already exist for the configuration /home/falaxdb/Repos/minus1/transformer_decoder_training/saved_files/saved_models/transformer_0.2/tests/threshold_03/midi-unprocessed_04_r1_2008_01-04_orig_mid--audio_04_r1_2008_wav--1-split_configuration.json, skipping\n",
      "The song simple_test does already exist for the configuration /home/falaxdb/Repos/minus1/transformer_decoder_training/saved_files/saved_models/transformer_0.2/tests/threshold_03/simple_test_configuration.json, skipping\n",
      "The song short_cord_progression does already exist for the configuration /home/falaxdb/Repos/minus1/transformer_decoder_training/saved_files/saved_models/transformer_0.2/tests/threshold_03/short_cord_progression_configuration.json, skipping\n",
      "sequecne tensor: torch.Size([1361, 24])\n",
      "sequence with start token tensor: torch.Size([1362, 24])\n",
      "context_seq tensor: torch.Size([1, 101, 24])\n",
      "continuing seq torch.Size([1, 1261, 24])\n",
      "Tokens to generate: 1261\n"
     ]
    },
    {
     "name": "stderr",
     "output_type": "stream",
     "text": [
      "\n",
      "\n",
      "Songs: 100%|██████████| 4/4 [00:01<00:00,  2.17it/s]\u001B[A\u001B[A\n",
      "\n",
      "                                                    \u001B[A\u001B[A\n",
      "Testing configurations:  88%|████████▊ | 7/8 [00:13<00:01,  1.89s/it]\u001B[A"
     ]
    },
    {
     "name": "stdout",
     "output_type": "stream",
     "text": [
      "Elapsed time: 1.6522 seconds\n",
      "Binary Tensors after concatinating:  torch.Size([1261, 24])\n",
      "Binary Tensors after unsqueezing:  torch.Size([1, 1261, 24])\n",
      "Context sequence + Generated tokens:  torch.Size([1, 1362, 24])\n",
      "MIDI file saved to /home/falaxdb/Repos/minus1/transformer_decoder_training/saved_files/saved_models/transformer_0.2/tests/threshold_03/moritz_maria.mid\n"
     ]
    },
    {
     "name": "stderr",
     "output_type": "stream",
     "text": [
      "\n",
      "\n",
      "Songs:   0%|          | 0/4 [00:00<?, ?it/s]\u001B[A\u001B[A"
     ]
    },
    {
     "name": "stdout",
     "output_type": "stream",
     "text": [
      "The song midi-unprocessed_04_r1_2008_01-04_orig_mid--audio_04_r1_2008_wav--1-split does already exist for the configuration /home/falaxdb/Repos/minus1/transformer_decoder_training/saved_files/saved_models/transformer_0.2/tests/top_k/midi-unprocessed_04_r1_2008_01-04_orig_mid--audio_04_r1_2008_wav--1-split_configuration.json, skipping\n",
      "The song simple_test does already exist for the configuration /home/falaxdb/Repos/minus1/transformer_decoder_training/saved_files/saved_models/transformer_0.2/tests/top_k/simple_test_configuration.json, skipping\n",
      "The song short_cord_progression does already exist for the configuration /home/falaxdb/Repos/minus1/transformer_decoder_training/saved_files/saved_models/transformer_0.2/tests/top_k/short_cord_progression_configuration.json, skipping\n",
      "sequecne tensor: torch.Size([1361, 24])\n",
      "sequence with start token tensor: torch.Size([1362, 24])\n",
      "context_seq tensor: torch.Size([1, 101, 24])\n",
      "continuing seq torch.Size([1, 1261, 24])\n",
      "Tokens to generate: 1261\n"
     ]
    },
    {
     "name": "stderr",
     "output_type": "stream",
     "text": [
      "\n",
      "\n",
      "Songs: 100%|██████████| 4/4 [00:01<00:00,  2.15it/s]\u001B[A\u001B[A\n",
      "\n",
      "                                                    \u001B[A\u001B[A\n",
      "Testing configurations: 100%|██████████| 8/8 [00:15<00:00,  1.88s/it]\u001B[A\n",
      "Projects:  11%|█         | 2/19 [00:31<04:28, 15.78s/it]             \u001B[A"
     ]
    },
    {
     "name": "stdout",
     "output_type": "stream",
     "text": [
      "Elapsed time: 1.7298 seconds\n",
      "Binary Tensors after concatinating:  torch.Size([1261, 24])\n",
      "Binary Tensors after unsqueezing:  torch.Size([1, 1261, 24])\n",
      "Context sequence + Generated tokens:  torch.Size([1, 1362, 24])\n",
      "MIDI file saved to /home/falaxdb/Repos/minus1/transformer_decoder_training/saved_files/saved_models/transformer_0.2/tests/top_k/moritz_maria.mid\n",
      "\n",
      "==============================\n",
      "Testing model transformer_0.3\n",
      "At location /home/falaxdb/Repos/minus1/transformer_decoder_training/saved_files/saved_models/transformer_0.3\n",
      "==============================\n",
      "\n",
      "Best epoch is epoch number 1\n"
     ]
    },
    {
     "name": "stderr",
     "output_type": "stream",
     "text": [
      "\n",
      "Testing configurations:   0%|          | 0/8 [00:00<?, ?it/s]\u001B[A\n",
      "\n",
      "Songs:   0%|          | 0/4 [00:00<?, ?it/s]\u001B[A\u001B[A"
     ]
    },
    {
     "name": "stdout",
     "output_type": "stream",
     "text": [
      "The song midi-unprocessed_04_r1_2008_01-04_orig_mid--audio_04_r1_2008_wav--1-split does already exist for the configuration /home/falaxdb/Repos/minus1/transformer_decoder_training/saved_files/saved_models/transformer_0.3/tests/threshold_005/midi-unprocessed_04_r1_2008_01-04_orig_mid--audio_04_r1_2008_wav--1-split_configuration.json, skipping\n",
      "The song simple_test does already exist for the configuration /home/falaxdb/Repos/minus1/transformer_decoder_training/saved_files/saved_models/transformer_0.3/tests/threshold_005/simple_test_configuration.json, skipping\n",
      "The song short_cord_progression does already exist for the configuration /home/falaxdb/Repos/minus1/transformer_decoder_training/saved_files/saved_models/transformer_0.3/tests/threshold_005/short_cord_progression_configuration.json, skipping\n",
      "sequecne tensor: torch.Size([1361, 24])\n",
      "sequence with start token tensor: torch.Size([1362, 24])\n",
      "context_seq tensor: torch.Size([1, 513, 24])\n",
      "continuing seq torch.Size([1, 849, 24])\n",
      "Tokens to generate: 849\n"
     ]
    },
    {
     "name": "stderr",
     "output_type": "stream",
     "text": [
      "\n",
      "\n",
      "Songs: 100%|██████████| 4/4 [00:03<00:00,  1.00it/s]\u001B[A\u001B[A\n",
      "\n",
      "                                                    \u001B[A\u001B[A\n",
      "Testing configurations:  12%|█▎        | 1/8 [00:03<00:27,  3.99s/it]\u001B[A"
     ]
    },
    {
     "name": "stdout",
     "output_type": "stream",
     "text": [
      "Elapsed time: 3.7918 seconds\n",
      "Binary Tensors after concatinating:  torch.Size([849, 24])\n",
      "Binary Tensors after unsqueezing:  torch.Size([1, 849, 24])\n",
      "Context sequence + Generated tokens:  torch.Size([1, 1362, 24])\n",
      "MIDI file saved to /home/falaxdb/Repos/minus1/transformer_decoder_training/saved_files/saved_models/transformer_0.3/tests/threshold_005/moritz_maria.mid\n"
     ]
    },
    {
     "name": "stderr",
     "output_type": "stream",
     "text": [
      "\n",
      "\n",
      "Songs:   0%|          | 0/4 [00:00<?, ?it/s]\u001B[A\u001B[A"
     ]
    },
    {
     "name": "stdout",
     "output_type": "stream",
     "text": [
      "The song midi-unprocessed_04_r1_2008_01-04_orig_mid--audio_04_r1_2008_wav--1-split does already exist for the configuration /home/falaxdb/Repos/minus1/transformer_decoder_training/saved_files/saved_models/transformer_0.3/tests/threshold_01/midi-unprocessed_04_r1_2008_01-04_orig_mid--audio_04_r1_2008_wav--1-split_configuration.json, skipping\n",
      "The song simple_test does already exist for the configuration /home/falaxdb/Repos/minus1/transformer_decoder_training/saved_files/saved_models/transformer_0.3/tests/threshold_01/simple_test_configuration.json, skipping\n",
      "The song short_cord_progression does already exist for the configuration /home/falaxdb/Repos/minus1/transformer_decoder_training/saved_files/saved_models/transformer_0.3/tests/threshold_01/short_cord_progression_configuration.json, skipping\n",
      "sequecne tensor: torch.Size([1361, 24])\n",
      "sequence with start token tensor: torch.Size([1362, 24])\n",
      "context_seq tensor: torch.Size([1, 513, 24])\n",
      "continuing seq torch.Size([1, 849, 24])\n",
      "Tokens to generate: 849\n"
     ]
    },
    {
     "name": "stderr",
     "output_type": "stream",
     "text": [
      "\n",
      "\n",
      "Songs: 100%|██████████| 4/4 [00:03<00:00,  1.01it/s]\u001B[A\u001B[A\n",
      "\n",
      "                                                    \u001B[A\u001B[A\n",
      "Testing configurations:  25%|██▌       | 2/8 [00:07<00:23,  3.98s/it]\u001B[A"
     ]
    },
    {
     "name": "stdout",
     "output_type": "stream",
     "text": [
      "Elapsed time: 3.8095 seconds\n",
      "Binary Tensors after concatinating:  torch.Size([849, 24])\n",
      "Binary Tensors after unsqueezing:  torch.Size([1, 849, 24])\n",
      "Context sequence + Generated tokens:  torch.Size([1, 1362, 24])\n",
      "MIDI file saved to /home/falaxdb/Repos/minus1/transformer_decoder_training/saved_files/saved_models/transformer_0.3/tests/threshold_01/moritz_maria.mid\n"
     ]
    },
    {
     "name": "stderr",
     "output_type": "stream",
     "text": [
      "\n",
      "\n",
      "Songs:   0%|          | 0/4 [00:00<?, ?it/s]\u001B[A\u001B[A"
     ]
    },
    {
     "name": "stdout",
     "output_type": "stream",
     "text": [
      "The song midi-unprocessed_04_r1_2008_01-04_orig_mid--audio_04_r1_2008_wav--1-split does already exist for the configuration /home/falaxdb/Repos/minus1/transformer_decoder_training/saved_files/saved_models/transformer_0.3/tests/threshold_015/midi-unprocessed_04_r1_2008_01-04_orig_mid--audio_04_r1_2008_wav--1-split_configuration.json, skipping\n",
      "The song simple_test does already exist for the configuration /home/falaxdb/Repos/minus1/transformer_decoder_training/saved_files/saved_models/transformer_0.3/tests/threshold_015/simple_test_configuration.json, skipping\n",
      "The song short_cord_progression does already exist for the configuration /home/falaxdb/Repos/minus1/transformer_decoder_training/saved_files/saved_models/transformer_0.3/tests/threshold_015/short_cord_progression_configuration.json, skipping\n",
      "sequecne tensor: torch.Size([1361, 24])\n",
      "sequence with start token tensor: torch.Size([1362, 24])\n",
      "context_seq tensor: torch.Size([1, 513, 24])\n",
      "continuing seq torch.Size([1, 849, 24])\n",
      "Tokens to generate: 849\n"
     ]
    },
    {
     "name": "stderr",
     "output_type": "stream",
     "text": [
      "\n",
      "\n",
      "Songs: 100%|██████████| 4/4 [00:03<00:00,  1.00it/s]\u001B[A\u001B[A\n",
      "\n",
      "                                                    \u001B[A\u001B[A\n",
      "Testing configurations:  38%|███▊      | 3/8 [00:11<00:19,  3.98s/it]\u001B[A"
     ]
    },
    {
     "name": "stdout",
     "output_type": "stream",
     "text": [
      "Elapsed time: 3.8199 seconds\n",
      "Binary Tensors after concatinating:  torch.Size([849, 24])\n",
      "Binary Tensors after unsqueezing:  torch.Size([1, 849, 24])\n",
      "Context sequence + Generated tokens:  torch.Size([1, 1362, 24])\n",
      "MIDI file saved to /home/falaxdb/Repos/minus1/transformer_decoder_training/saved_files/saved_models/transformer_0.3/tests/threshold_015/moritz_maria.mid\n"
     ]
    },
    {
     "name": "stderr",
     "output_type": "stream",
     "text": [
      "\n",
      "\n",
      "Songs:   0%|          | 0/4 [00:00<?, ?it/s]\u001B[A\u001B[A"
     ]
    },
    {
     "name": "stdout",
     "output_type": "stream",
     "text": [
      "The song midi-unprocessed_04_r1_2008_01-04_orig_mid--audio_04_r1_2008_wav--1-split does already exist for the configuration /home/falaxdb/Repos/minus1/transformer_decoder_training/saved_files/saved_models/transformer_0.3/tests/threshold_02/midi-unprocessed_04_r1_2008_01-04_orig_mid--audio_04_r1_2008_wav--1-split_configuration.json, skipping\n",
      "The song simple_test does already exist for the configuration /home/falaxdb/Repos/minus1/transformer_decoder_training/saved_files/saved_models/transformer_0.3/tests/threshold_02/simple_test_configuration.json, skipping\n",
      "The song short_cord_progression does already exist for the configuration /home/falaxdb/Repos/minus1/transformer_decoder_training/saved_files/saved_models/transformer_0.3/tests/threshold_02/short_cord_progression_configuration.json, skipping\n",
      "sequecne tensor: torch.Size([1361, 24])\n",
      "sequence with start token tensor: torch.Size([1362, 24])\n",
      "context_seq tensor: torch.Size([1, 513, 24])\n",
      "continuing seq torch.Size([1, 849, 24])\n",
      "Tokens to generate: 849\n"
     ]
    },
    {
     "name": "stderr",
     "output_type": "stream",
     "text": [
      "\n",
      "\n",
      "Songs: 100%|██████████| 4/4 [00:03<00:00,  1.00it/s]\u001B[A\u001B[A\n",
      "\n",
      "                                                    \u001B[A\u001B[A\n",
      "Testing configurations:  50%|█████     | 4/8 [00:15<00:15,  3.98s/it]\u001B[A"
     ]
    },
    {
     "name": "stdout",
     "output_type": "stream",
     "text": [
      "Elapsed time: 3.8229 seconds\n",
      "Binary Tensors after concatinating:  torch.Size([849, 24])\n",
      "Binary Tensors after unsqueezing:  torch.Size([1, 849, 24])\n",
      "Context sequence + Generated tokens:  torch.Size([1, 1362, 24])\n",
      "MIDI file saved to /home/falaxdb/Repos/minus1/transformer_decoder_training/saved_files/saved_models/transformer_0.3/tests/threshold_02/moritz_maria.mid\n"
     ]
    },
    {
     "name": "stderr",
     "output_type": "stream",
     "text": [
      "\n",
      "\n",
      "Songs:   0%|          | 0/4 [00:00<?, ?it/s]\u001B[A\u001B[A"
     ]
    },
    {
     "name": "stdout",
     "output_type": "stream",
     "text": [
      "The song midi-unprocessed_04_r1_2008_01-04_orig_mid--audio_04_r1_2008_wav--1-split does already exist for the configuration /home/falaxdb/Repos/minus1/transformer_decoder_training/saved_files/saved_models/transformer_0.3/tests/threshold_025/midi-unprocessed_04_r1_2008_01-04_orig_mid--audio_04_r1_2008_wav--1-split_configuration.json, skipping\n",
      "The song simple_test does already exist for the configuration /home/falaxdb/Repos/minus1/transformer_decoder_training/saved_files/saved_models/transformer_0.3/tests/threshold_025/simple_test_configuration.json, skipping\n",
      "The song short_cord_progression does already exist for the configuration /home/falaxdb/Repos/minus1/transformer_decoder_training/saved_files/saved_models/transformer_0.3/tests/threshold_025/short_cord_progression_configuration.json, skipping\n",
      "sequecne tensor: torch.Size([1361, 24])\n",
      "sequence with start token tensor: torch.Size([1362, 24])\n",
      "context_seq tensor: torch.Size([1, 513, 24])\n",
      "continuing seq torch.Size([1, 849, 24])\n",
      "Tokens to generate: 849\n"
     ]
    },
    {
     "name": "stderr",
     "output_type": "stream",
     "text": [
      "\n",
      "\n",
      "Songs: 100%|██████████| 4/4 [00:03<00:00,  1.00it/s]\u001B[A\u001B[A\n",
      "\n",
      "                                                    \u001B[A\u001B[A\n",
      "Testing configurations:  62%|██████▎   | 5/8 [00:19<00:11,  3.99s/it]\u001B[A"
     ]
    },
    {
     "name": "stdout",
     "output_type": "stream",
     "text": [
      "Elapsed time: 3.8247 seconds\n",
      "Binary Tensors after concatinating:  torch.Size([849, 24])\n",
      "Binary Tensors after unsqueezing:  torch.Size([1, 849, 24])\n",
      "Context sequence + Generated tokens:  torch.Size([1, 1362, 24])\n",
      "MIDI file saved to /home/falaxdb/Repos/minus1/transformer_decoder_training/saved_files/saved_models/transformer_0.3/tests/threshold_025/moritz_maria.mid\n"
     ]
    },
    {
     "name": "stderr",
     "output_type": "stream",
     "text": [
      "\n",
      "\n",
      "Songs:   0%|          | 0/4 [00:00<?, ?it/s]\u001B[A\u001B[A"
     ]
    },
    {
     "name": "stdout",
     "output_type": "stream",
     "text": [
      "The song midi-unprocessed_04_r1_2008_01-04_orig_mid--audio_04_r1_2008_wav--1-split does already exist for the configuration /home/falaxdb/Repos/minus1/transformer_decoder_training/saved_files/saved_models/transformer_0.3/tests/threshold_05/midi-unprocessed_04_r1_2008_01-04_orig_mid--audio_04_r1_2008_wav--1-split_configuration.json, skipping\n",
      "The song simple_test does already exist for the configuration /home/falaxdb/Repos/minus1/transformer_decoder_training/saved_files/saved_models/transformer_0.3/tests/threshold_05/simple_test_configuration.json, skipping\n",
      "The song short_cord_progression does already exist for the configuration /home/falaxdb/Repos/minus1/transformer_decoder_training/saved_files/saved_models/transformer_0.3/tests/threshold_05/short_cord_progression_configuration.json, skipping\n",
      "sequecne tensor: torch.Size([1361, 24])\n",
      "sequence with start token tensor: torch.Size([1362, 24])\n",
      "context_seq tensor: torch.Size([1, 513, 24])\n",
      "continuing seq torch.Size([1, 849, 24])\n",
      "Tokens to generate: 849\n"
     ]
    },
    {
     "name": "stderr",
     "output_type": "stream",
     "text": [
      "\n",
      "\n",
      "Songs: 100%|██████████| 4/4 [00:03<00:00,  1.01it/s]\u001B[A\u001B[A\n",
      "\n",
      "                                                    \u001B[A\u001B[A\n",
      "Testing configurations:  75%|███████▌  | 6/8 [00:23<00:07,  3.98s/it]\u001B[A"
     ]
    },
    {
     "name": "stdout",
     "output_type": "stream",
     "text": [
      "Elapsed time: 3.8189 seconds\n",
      "Binary Tensors after concatinating:  torch.Size([849, 24])\n",
      "Binary Tensors after unsqueezing:  torch.Size([1, 849, 24])\n",
      "Context sequence + Generated tokens:  torch.Size([1, 1362, 24])\n",
      "MIDI file saved to /home/falaxdb/Repos/minus1/transformer_decoder_training/saved_files/saved_models/transformer_0.3/tests/threshold_05/moritz_maria.mid\n"
     ]
    },
    {
     "name": "stderr",
     "output_type": "stream",
     "text": [
      "\n",
      "\n",
      "Songs:   0%|          | 0/4 [00:00<?, ?it/s]\u001B[A\u001B[A"
     ]
    },
    {
     "name": "stdout",
     "output_type": "stream",
     "text": [
      "The song midi-unprocessed_04_r1_2008_01-04_orig_mid--audio_04_r1_2008_wav--1-split does already exist for the configuration /home/falaxdb/Repos/minus1/transformer_decoder_training/saved_files/saved_models/transformer_0.3/tests/threshold_03/midi-unprocessed_04_r1_2008_01-04_orig_mid--audio_04_r1_2008_wav--1-split_configuration.json, skipping\n",
      "The song simple_test does already exist for the configuration /home/falaxdb/Repos/minus1/transformer_decoder_training/saved_files/saved_models/transformer_0.3/tests/threshold_03/simple_test_configuration.json, skipping\n",
      "The song short_cord_progression does already exist for the configuration /home/falaxdb/Repos/minus1/transformer_decoder_training/saved_files/saved_models/transformer_0.3/tests/threshold_03/short_cord_progression_configuration.json, skipping\n",
      "sequecne tensor: torch.Size([1361, 24])\n",
      "sequence with start token tensor: torch.Size([1362, 24])\n",
      "context_seq tensor: torch.Size([1, 513, 24])\n",
      "continuing seq torch.Size([1, 849, 24])\n",
      "Tokens to generate: 849\n"
     ]
    },
    {
     "name": "stderr",
     "output_type": "stream",
     "text": [
      "\n",
      "\n",
      "Songs: 100%|██████████| 4/4 [00:03<00:00,  1.00it/s]\u001B[A\u001B[A\n",
      "\n",
      "                                                    \u001B[A\u001B[A\n",
      "Testing configurations:  88%|████████▊ | 7/8 [00:27<00:03,  3.99s/it]\u001B[A"
     ]
    },
    {
     "name": "stdout",
     "output_type": "stream",
     "text": [
      "Elapsed time: 3.8334 seconds\n",
      "Binary Tensors after concatinating:  torch.Size([849, 24])\n",
      "Binary Tensors after unsqueezing:  torch.Size([1, 849, 24])\n",
      "Context sequence + Generated tokens:  torch.Size([1, 1362, 24])\n",
      "MIDI file saved to /home/falaxdb/Repos/minus1/transformer_decoder_training/saved_files/saved_models/transformer_0.3/tests/threshold_03/moritz_maria.mid\n"
     ]
    },
    {
     "name": "stderr",
     "output_type": "stream",
     "text": [
      "\n",
      "\n",
      "Songs:   0%|          | 0/4 [00:00<?, ?it/s]\u001B[A\u001B[A"
     ]
    },
    {
     "name": "stdout",
     "output_type": "stream",
     "text": [
      "The song midi-unprocessed_04_r1_2008_01-04_orig_mid--audio_04_r1_2008_wav--1-split does already exist for the configuration /home/falaxdb/Repos/minus1/transformer_decoder_training/saved_files/saved_models/transformer_0.3/tests/top_k/midi-unprocessed_04_r1_2008_01-04_orig_mid--audio_04_r1_2008_wav--1-split_configuration.json, skipping\n",
      "The song simple_test does already exist for the configuration /home/falaxdb/Repos/minus1/transformer_decoder_training/saved_files/saved_models/transformer_0.3/tests/top_k/simple_test_configuration.json, skipping\n",
      "The song short_cord_progression does already exist for the configuration /home/falaxdb/Repos/minus1/transformer_decoder_training/saved_files/saved_models/transformer_0.3/tests/top_k/short_cord_progression_configuration.json, skipping\n",
      "sequecne tensor: torch.Size([1361, 24])\n",
      "sequence with start token tensor: torch.Size([1362, 24])\n",
      "context_seq tensor: torch.Size([1, 513, 24])\n",
      "continuing seq torch.Size([1, 849, 24])\n",
      "Tokens to generate: 849\n"
     ]
    },
    {
     "name": "stderr",
     "output_type": "stream",
     "text": [
      "\n",
      "\n",
      "Songs: 100%|██████████| 4/4 [00:04<00:00,  1.03s/it]\u001B[A\u001B[A\n",
      "\n",
      "                                                    \u001B[A\u001B[A\n",
      "Testing configurations: 100%|██████████| 8/8 [00:32<00:00,  4.04s/it]\u001B[A\n",
      "Projects:  16%|█▌        | 3/19 [01:04<06:17, 23.57s/it]             \u001B[A"
     ]
    },
    {
     "name": "stdout",
     "output_type": "stream",
     "text": [
      "Elapsed time: 3.9564 seconds\n",
      "Binary Tensors after concatinating:  torch.Size([849, 24])\n",
      "Binary Tensors after unsqueezing:  torch.Size([1, 849, 24])\n",
      "Context sequence + Generated tokens:  torch.Size([1, 1362, 24])\n",
      "MIDI file saved to /home/falaxdb/Repos/minus1/transformer_decoder_training/saved_files/saved_models/transformer_0.3/tests/top_k/moritz_maria.mid\n",
      "\n",
      "==============================\n",
      "Testing model transformer_0.4\n",
      "At location /home/falaxdb/Repos/minus1/transformer_decoder_training/saved_files/saved_models/transformer_0.4\n",
      "==============================\n",
      "\n",
      "Best epoch is epoch number 7\n"
     ]
    },
    {
     "name": "stderr",
     "output_type": "stream",
     "text": [
      "\n",
      "Testing configurations:   0%|          | 0/8 [00:00<?, ?it/s]\u001B[A\n",
      "\n",
      "Songs:   0%|          | 0/4 [00:00<?, ?it/s]\u001B[A\u001B[A"
     ]
    },
    {
     "name": "stdout",
     "output_type": "stream",
     "text": [
      "The song midi-unprocessed_04_r1_2008_01-04_orig_mid--audio_04_r1_2008_wav--1-split does already exist for the configuration /home/falaxdb/Repos/minus1/transformer_decoder_training/saved_files/saved_models/transformer_0.4/tests/threshold_005/midi-unprocessed_04_r1_2008_01-04_orig_mid--audio_04_r1_2008_wav--1-split_configuration.json, skipping\n",
      "The song simple_test does already exist for the configuration /home/falaxdb/Repos/minus1/transformer_decoder_training/saved_files/saved_models/transformer_0.4/tests/threshold_005/simple_test_configuration.json, skipping\n",
      "The song short_cord_progression does already exist for the configuration /home/falaxdb/Repos/minus1/transformer_decoder_training/saved_files/saved_models/transformer_0.4/tests/threshold_005/short_cord_progression_configuration.json, skipping\n",
      "sequecne tensor: torch.Size([1361, 24])\n",
      "sequence with start token tensor: torch.Size([1362, 24])\n",
      "context_seq tensor: torch.Size([1, 9, 24])\n",
      "continuing seq torch.Size([1, 1353, 24])\n",
      "Tokens to generate: 1353\n"
     ]
    },
    {
     "name": "stderr",
     "output_type": "stream",
     "text": [
      "\n",
      "\n",
      "Songs: 100%|██████████| 4/4 [00:01<00:00,  2.11it/s]\u001B[A\u001B[A\n",
      "\n",
      "                                                    \u001B[A\u001B[A\n",
      "Testing configurations:  12%|█▎        | 1/8 [00:01<00:13,  1.90s/it]\u001B[A"
     ]
    },
    {
     "name": "stdout",
     "output_type": "stream",
     "text": [
      "Elapsed time: 1.7600 seconds\n",
      "Binary Tensors after concatinating:  torch.Size([1353, 24])\n",
      "Binary Tensors after unsqueezing:  torch.Size([1, 1353, 24])\n",
      "Context sequence + Generated tokens:  torch.Size([1, 1362, 24])\n",
      "MIDI file saved to /home/falaxdb/Repos/minus1/transformer_decoder_training/saved_files/saved_models/transformer_0.4/tests/threshold_005/moritz_maria.mid\n"
     ]
    },
    {
     "name": "stderr",
     "output_type": "stream",
     "text": [
      "\n",
      "\n",
      "Songs:   0%|          | 0/4 [00:00<?, ?it/s]\u001B[A\u001B[A"
     ]
    },
    {
     "name": "stdout",
     "output_type": "stream",
     "text": [
      "The song midi-unprocessed_04_r1_2008_01-04_orig_mid--audio_04_r1_2008_wav--1-split does already exist for the configuration /home/falaxdb/Repos/minus1/transformer_decoder_training/saved_files/saved_models/transformer_0.4/tests/threshold_01/midi-unprocessed_04_r1_2008_01-04_orig_mid--audio_04_r1_2008_wav--1-split_configuration.json, skipping\n",
      "The song simple_test does already exist for the configuration /home/falaxdb/Repos/minus1/transformer_decoder_training/saved_files/saved_models/transformer_0.4/tests/threshold_01/simple_test_configuration.json, skipping\n",
      "The song short_cord_progression does already exist for the configuration /home/falaxdb/Repos/minus1/transformer_decoder_training/saved_files/saved_models/transformer_0.4/tests/threshold_01/short_cord_progression_configuration.json, skipping\n",
      "sequecne tensor: torch.Size([1361, 24])\n",
      "sequence with start token tensor: torch.Size([1362, 24])\n",
      "context_seq tensor: torch.Size([1, 9, 24])\n",
      "continuing seq torch.Size([1, 1353, 24])\n",
      "Tokens to generate: 1353\n"
     ]
    },
    {
     "name": "stderr",
     "output_type": "stream",
     "text": [
      "\n",
      "\n",
      "Songs: 100%|██████████| 4/4 [00:01<00:00,  2.11it/s]\u001B[A\u001B[A\n",
      "\n",
      "                                                    \u001B[A\u001B[A\n",
      "Testing configurations:  25%|██▌       | 2/8 [00:03<00:11,  1.90s/it]\u001B[A"
     ]
    },
    {
     "name": "stdout",
     "output_type": "stream",
     "text": [
      "Elapsed time: 1.7606 seconds\n",
      "Binary Tensors after concatinating:  torch.Size([1353, 24])\n",
      "Binary Tensors after unsqueezing:  torch.Size([1, 1353, 24])\n",
      "Context sequence + Generated tokens:  torch.Size([1, 1362, 24])\n",
      "MIDI file saved to /home/falaxdb/Repos/minus1/transformer_decoder_training/saved_files/saved_models/transformer_0.4/tests/threshold_01/moritz_maria.mid\n"
     ]
    },
    {
     "name": "stderr",
     "output_type": "stream",
     "text": [
      "\n",
      "\n",
      "Songs:   0%|          | 0/4 [00:00<?, ?it/s]\u001B[A\u001B[A"
     ]
    },
    {
     "name": "stdout",
     "output_type": "stream",
     "text": [
      "The song midi-unprocessed_04_r1_2008_01-04_orig_mid--audio_04_r1_2008_wav--1-split does already exist for the configuration /home/falaxdb/Repos/minus1/transformer_decoder_training/saved_files/saved_models/transformer_0.4/tests/threshold_015/midi-unprocessed_04_r1_2008_01-04_orig_mid--audio_04_r1_2008_wav--1-split_configuration.json, skipping\n",
      "The song simple_test does already exist for the configuration /home/falaxdb/Repos/minus1/transformer_decoder_training/saved_files/saved_models/transformer_0.4/tests/threshold_015/simple_test_configuration.json, skipping\n",
      "The song short_cord_progression does already exist for the configuration /home/falaxdb/Repos/minus1/transformer_decoder_training/saved_files/saved_models/transformer_0.4/tests/threshold_015/short_cord_progression_configuration.json, skipping\n",
      "sequecne tensor: torch.Size([1361, 24])\n",
      "sequence with start token tensor: torch.Size([1362, 24])\n",
      "context_seq tensor: torch.Size([1, 9, 24])\n",
      "continuing seq torch.Size([1, 1353, 24])\n",
      "Tokens to generate: 1353\n"
     ]
    },
    {
     "name": "stderr",
     "output_type": "stream",
     "text": [
      "\n",
      "\n",
      "Songs: 100%|██████████| 4/4 [00:01<00:00,  2.08it/s]\u001B[A\u001B[A\n",
      "\n",
      "                                                    \u001B[A\u001B[A\n",
      "Testing configurations:  38%|███▊      | 3/8 [00:05<00:09,  1.91s/it]\u001B[A"
     ]
    },
    {
     "name": "stdout",
     "output_type": "stream",
     "text": [
      "Elapsed time: 1.7576 seconds\n",
      "Binary Tensors after concatinating:  torch.Size([1353, 24])\n",
      "Binary Tensors after unsqueezing:  torch.Size([1, 1353, 24])\n",
      "Context sequence + Generated tokens:  torch.Size([1, 1362, 24])\n",
      "MIDI file saved to /home/falaxdb/Repos/minus1/transformer_decoder_training/saved_files/saved_models/transformer_0.4/tests/threshold_015/moritz_maria.mid\n"
     ]
    },
    {
     "name": "stderr",
     "output_type": "stream",
     "text": [
      "\n",
      "\n",
      "Songs:   0%|          | 0/4 [00:00<?, ?it/s]\u001B[A\u001B[A"
     ]
    },
    {
     "name": "stdout",
     "output_type": "stream",
     "text": [
      "The song midi-unprocessed_04_r1_2008_01-04_orig_mid--audio_04_r1_2008_wav--1-split does already exist for the configuration /home/falaxdb/Repos/minus1/transformer_decoder_training/saved_files/saved_models/transformer_0.4/tests/threshold_02/midi-unprocessed_04_r1_2008_01-04_orig_mid--audio_04_r1_2008_wav--1-split_configuration.json, skipping\n",
      "The song simple_test does already exist for the configuration /home/falaxdb/Repos/minus1/transformer_decoder_training/saved_files/saved_models/transformer_0.4/tests/threshold_02/simple_test_configuration.json, skipping\n",
      "The song short_cord_progression does already exist for the configuration /home/falaxdb/Repos/minus1/transformer_decoder_training/saved_files/saved_models/transformer_0.4/tests/threshold_02/short_cord_progression_configuration.json, skipping\n",
      "sequecne tensor: torch.Size([1361, 24])\n",
      "sequence with start token tensor: torch.Size([1362, 24])\n",
      "context_seq tensor: torch.Size([1, 9, 24])\n",
      "continuing seq torch.Size([1, 1353, 24])\n",
      "Tokens to generate: 1353\n"
     ]
    },
    {
     "name": "stderr",
     "output_type": "stream",
     "text": [
      "\n",
      "\n",
      "Songs: 100%|██████████| 4/4 [00:01<00:00,  2.11it/s]\u001B[A\u001B[A\n",
      "\n",
      "                                                    \u001B[A\u001B[A\n",
      "Testing configurations:  50%|█████     | 4/8 [00:07<00:07,  1.91s/it]\u001B[A"
     ]
    },
    {
     "name": "stdout",
     "output_type": "stream",
     "text": [
      "Elapsed time: 1.7659 seconds\n",
      "Binary Tensors after concatinating:  torch.Size([1353, 24])\n",
      "Binary Tensors after unsqueezing:  torch.Size([1, 1353, 24])\n",
      "Context sequence + Generated tokens:  torch.Size([1, 1362, 24])\n",
      "MIDI file saved to /home/falaxdb/Repos/minus1/transformer_decoder_training/saved_files/saved_models/transformer_0.4/tests/threshold_02/moritz_maria.mid\n"
     ]
    },
    {
     "name": "stderr",
     "output_type": "stream",
     "text": [
      "\n",
      "\n",
      "Songs:   0%|          | 0/4 [00:00<?, ?it/s]\u001B[A\u001B[A"
     ]
    },
    {
     "name": "stdout",
     "output_type": "stream",
     "text": [
      "The song midi-unprocessed_04_r1_2008_01-04_orig_mid--audio_04_r1_2008_wav--1-split does already exist for the configuration /home/falaxdb/Repos/minus1/transformer_decoder_training/saved_files/saved_models/transformer_0.4/tests/threshold_025/midi-unprocessed_04_r1_2008_01-04_orig_mid--audio_04_r1_2008_wav--1-split_configuration.json, skipping\n",
      "The song simple_test does already exist for the configuration /home/falaxdb/Repos/minus1/transformer_decoder_training/saved_files/saved_models/transformer_0.4/tests/threshold_025/simple_test_configuration.json, skipping\n",
      "The song short_cord_progression does already exist for the configuration /home/falaxdb/Repos/minus1/transformer_decoder_training/saved_files/saved_models/transformer_0.4/tests/threshold_025/short_cord_progression_configuration.json, skipping\n",
      "sequecne tensor: torch.Size([1361, 24])\n",
      "sequence with start token tensor: torch.Size([1362, 24])\n",
      "context_seq tensor: torch.Size([1, 9, 24])\n",
      "continuing seq torch.Size([1, 1353, 24])\n",
      "Tokens to generate: 1353\n"
     ]
    },
    {
     "name": "stderr",
     "output_type": "stream",
     "text": [
      "\n",
      "\n",
      "Songs: 100%|██████████| 4/4 [00:01<00:00,  2.11it/s]\u001B[A\u001B[A\n",
      "\n",
      "                                                    \u001B[A\u001B[A\n",
      "Testing configurations:  62%|██████▎   | 5/8 [00:09<00:05,  1.90s/it]\u001B[A"
     ]
    },
    {
     "name": "stdout",
     "output_type": "stream",
     "text": [
      "Elapsed time: 1.7659 seconds\n",
      "Binary Tensors after concatinating:  torch.Size([1353, 24])\n",
      "Binary Tensors after unsqueezing:  torch.Size([1, 1353, 24])\n",
      "Context sequence + Generated tokens:  torch.Size([1, 1362, 24])\n",
      "MIDI file saved to /home/falaxdb/Repos/minus1/transformer_decoder_training/saved_files/saved_models/transformer_0.4/tests/threshold_025/moritz_maria.mid\n"
     ]
    },
    {
     "name": "stderr",
     "output_type": "stream",
     "text": [
      "\n",
      "\n",
      "Songs:   0%|          | 0/4 [00:00<?, ?it/s]\u001B[A\u001B[A"
     ]
    },
    {
     "name": "stdout",
     "output_type": "stream",
     "text": [
      "The song midi-unprocessed_04_r1_2008_01-04_orig_mid--audio_04_r1_2008_wav--1-split does already exist for the configuration /home/falaxdb/Repos/minus1/transformer_decoder_training/saved_files/saved_models/transformer_0.4/tests/threshold_05/midi-unprocessed_04_r1_2008_01-04_orig_mid--audio_04_r1_2008_wav--1-split_configuration.json, skipping\n",
      "The song simple_test does already exist for the configuration /home/falaxdb/Repos/minus1/transformer_decoder_training/saved_files/saved_models/transformer_0.4/tests/threshold_05/simple_test_configuration.json, skipping\n",
      "The song short_cord_progression does already exist for the configuration /home/falaxdb/Repos/minus1/transformer_decoder_training/saved_files/saved_models/transformer_0.4/tests/threshold_05/short_cord_progression_configuration.json, skipping\n",
      "sequecne tensor: torch.Size([1361, 24])\n",
      "sequence with start token tensor: torch.Size([1362, 24])\n",
      "context_seq tensor: torch.Size([1, 9, 24])\n",
      "continuing seq torch.Size([1, 1353, 24])\n",
      "Tokens to generate: 1353\n"
     ]
    },
    {
     "name": "stderr",
     "output_type": "stream",
     "text": [
      "\n",
      "\n",
      "Songs: 100%|██████████| 4/4 [00:01<00:00,  2.09it/s]\u001B[A\u001B[A\n",
      "\n",
      "                                                    \u001B[A\u001B[A\n",
      "Testing configurations:  75%|███████▌  | 6/8 [00:11<00:03,  1.91s/it]\u001B[A"
     ]
    },
    {
     "name": "stdout",
     "output_type": "stream",
     "text": [
      "Elapsed time: 1.7859 seconds\n",
      "Binary Tensors after concatinating:  torch.Size([1353, 24])\n",
      "Binary Tensors after unsqueezing:  torch.Size([1, 1353, 24])\n",
      "Context sequence + Generated tokens:  torch.Size([1, 1362, 24])\n",
      "MIDI file saved to /home/falaxdb/Repos/minus1/transformer_decoder_training/saved_files/saved_models/transformer_0.4/tests/threshold_05/moritz_maria.mid\n"
     ]
    },
    {
     "name": "stderr",
     "output_type": "stream",
     "text": [
      "\n",
      "\n",
      "Songs:   0%|          | 0/4 [00:00<?, ?it/s]\u001B[A\u001B[A"
     ]
    },
    {
     "name": "stdout",
     "output_type": "stream",
     "text": [
      "The song midi-unprocessed_04_r1_2008_01-04_orig_mid--audio_04_r1_2008_wav--1-split does already exist for the configuration /home/falaxdb/Repos/minus1/transformer_decoder_training/saved_files/saved_models/transformer_0.4/tests/threshold_03/midi-unprocessed_04_r1_2008_01-04_orig_mid--audio_04_r1_2008_wav--1-split_configuration.json, skipping\n",
      "The song simple_test does already exist for the configuration /home/falaxdb/Repos/minus1/transformer_decoder_training/saved_files/saved_models/transformer_0.4/tests/threshold_03/simple_test_configuration.json, skipping\n",
      "The song short_cord_progression does already exist for the configuration /home/falaxdb/Repos/minus1/transformer_decoder_training/saved_files/saved_models/transformer_0.4/tests/threshold_03/short_cord_progression_configuration.json, skipping\n",
      "sequecne tensor: torch.Size([1361, 24])\n",
      "sequence with start token tensor: torch.Size([1362, 24])\n",
      "context_seq tensor: torch.Size([1, 9, 24])\n",
      "continuing seq torch.Size([1, 1353, 24])\n",
      "Tokens to generate: 1353\n"
     ]
    },
    {
     "name": "stderr",
     "output_type": "stream",
     "text": [
      "\n",
      "\n",
      "Songs: 100%|██████████| 4/4 [00:01<00:00,  2.10it/s]\u001B[A\u001B[A\n",
      "\n",
      "                                                    \u001B[A\u001B[A\n",
      "Testing configurations:  88%|████████▊ | 7/8 [00:13<00:01,  1.91s/it]\u001B[A"
     ]
    },
    {
     "name": "stdout",
     "output_type": "stream",
     "text": [
      "Elapsed time: 1.7719 seconds\n",
      "Binary Tensors after concatinating:  torch.Size([1353, 24])\n",
      "Binary Tensors after unsqueezing:  torch.Size([1, 1353, 24])\n",
      "Context sequence + Generated tokens:  torch.Size([1, 1362, 24])\n",
      "MIDI file saved to /home/falaxdb/Repos/minus1/transformer_decoder_training/saved_files/saved_models/transformer_0.4/tests/threshold_03/moritz_maria.mid\n"
     ]
    },
    {
     "name": "stderr",
     "output_type": "stream",
     "text": [
      "\n",
      "\n",
      "Songs:   0%|          | 0/4 [00:00<?, ?it/s]\u001B[A\u001B[A"
     ]
    },
    {
     "name": "stdout",
     "output_type": "stream",
     "text": [
      "The song midi-unprocessed_04_r1_2008_01-04_orig_mid--audio_04_r1_2008_wav--1-split does already exist for the configuration /home/falaxdb/Repos/minus1/transformer_decoder_training/saved_files/saved_models/transformer_0.4/tests/top_k/midi-unprocessed_04_r1_2008_01-04_orig_mid--audio_04_r1_2008_wav--1-split_configuration.json, skipping\n",
      "The song simple_test does already exist for the configuration /home/falaxdb/Repos/minus1/transformer_decoder_training/saved_files/saved_models/transformer_0.4/tests/top_k/simple_test_configuration.json, skipping\n",
      "The song short_cord_progression does already exist for the configuration /home/falaxdb/Repos/minus1/transformer_decoder_training/saved_files/saved_models/transformer_0.4/tests/top_k/short_cord_progression_configuration.json, skipping\n",
      "sequecne tensor: torch.Size([1361, 24])\n",
      "sequence with start token tensor: torch.Size([1362, 24])\n",
      "context_seq tensor: torch.Size([1, 9, 24])\n",
      "continuing seq torch.Size([1, 1353, 24])\n",
      "Tokens to generate: 1353\n"
     ]
    },
    {
     "name": "stderr",
     "output_type": "stream",
     "text": [
      "\n",
      "\n",
      "Songs: 100%|██████████| 4/4 [00:01<00:00,  2.02it/s]\u001B[A\u001B[A\n",
      "\n",
      "                                                    \u001B[A\u001B[A\n",
      "Testing configurations: 100%|██████████| 8/8 [00:15<00:00,  1.93s/it]\u001B[A\n",
      "Projects:  21%|██        | 4/19 [01:20<05:09, 20.61s/it]             \u001B[A"
     ]
    },
    {
     "name": "stdout",
     "output_type": "stream",
     "text": [
      "Elapsed time: 1.8422 seconds\n",
      "Binary Tensors after concatinating:  torch.Size([1353, 24])\n",
      "Binary Tensors after unsqueezing:  torch.Size([1, 1353, 24])\n",
      "Context sequence + Generated tokens:  torch.Size([1, 1362, 24])\n",
      "MIDI file saved to /home/falaxdb/Repos/minus1/transformer_decoder_training/saved_files/saved_models/transformer_0.4/tests/top_k/moritz_maria.mid\n",
      "\n",
      "==============================\n",
      "Testing model transformer_0.5\n",
      "At location /home/falaxdb/Repos/minus1/transformer_decoder_training/saved_files/saved_models/transformer_0.5\n",
      "==============================\n",
      "\n",
      "Best epoch is epoch number 18\n"
     ]
    },
    {
     "name": "stderr",
     "output_type": "stream",
     "text": [
      "\n",
      "Testing configurations:   0%|          | 0/8 [00:00<?, ?it/s]\u001B[A\n",
      "\n",
      "Songs:   0%|          | 0/4 [00:00<?, ?it/s]\u001B[A\u001B[A"
     ]
    },
    {
     "name": "stdout",
     "output_type": "stream",
     "text": [
      "The song midi-unprocessed_04_r1_2008_01-04_orig_mid--audio_04_r1_2008_wav--1-split does already exist for the configuration /home/falaxdb/Repos/minus1/transformer_decoder_training/saved_files/saved_models/transformer_0.5/tests/threshold_005/midi-unprocessed_04_r1_2008_01-04_orig_mid--audio_04_r1_2008_wav--1-split_configuration.json, skipping\n",
      "The song simple_test does already exist for the configuration /home/falaxdb/Repos/minus1/transformer_decoder_training/saved_files/saved_models/transformer_0.5/tests/threshold_005/simple_test_configuration.json, skipping\n",
      "The song short_cord_progression does already exist for the configuration /home/falaxdb/Repos/minus1/transformer_decoder_training/saved_files/saved_models/transformer_0.5/tests/threshold_005/short_cord_progression_configuration.json, skipping\n",
      "sequecne tensor: torch.Size([1361, 24])\n",
      "sequence with start token tensor: torch.Size([1362, 24])\n",
      "context_seq tensor: torch.Size([1, 5, 24])\n",
      "continuing seq torch.Size([1, 1357, 24])\n",
      "Tokens to generate: 1357\n"
     ]
    },
    {
     "name": "stderr",
     "output_type": "stream",
     "text": [
      "\n",
      "\n",
      "Songs: 100%|██████████| 4/4 [00:01<00:00,  2.11it/s]\u001B[A\u001B[A\n",
      "\n",
      "                                                    \u001B[A\u001B[A\n",
      "Testing configurations:  12%|█▎        | 1/8 [00:01<00:13,  1.90s/it]\u001B[A"
     ]
    },
    {
     "name": "stdout",
     "output_type": "stream",
     "text": [
      "Elapsed time: 1.7677 seconds\n",
      "Binary Tensors after concatinating:  torch.Size([1357, 24])\n",
      "Binary Tensors after unsqueezing:  torch.Size([1, 1357, 24])\n",
      "Context sequence + Generated tokens:  torch.Size([1, 1362, 24])\n",
      "MIDI file saved to /home/falaxdb/Repos/minus1/transformer_decoder_training/saved_files/saved_models/transformer_0.5/tests/threshold_005/moritz_maria.mid\n"
     ]
    },
    {
     "name": "stderr",
     "output_type": "stream",
     "text": [
      "\n",
      "\n",
      "Songs:   0%|          | 0/4 [00:00<?, ?it/s]\u001B[A\u001B[A"
     ]
    },
    {
     "name": "stdout",
     "output_type": "stream",
     "text": [
      "The song midi-unprocessed_04_r1_2008_01-04_orig_mid--audio_04_r1_2008_wav--1-split does already exist for the configuration /home/falaxdb/Repos/minus1/transformer_decoder_training/saved_files/saved_models/transformer_0.5/tests/threshold_01/midi-unprocessed_04_r1_2008_01-04_orig_mid--audio_04_r1_2008_wav--1-split_configuration.json, skipping\n",
      "The song simple_test does already exist for the configuration /home/falaxdb/Repos/minus1/transformer_decoder_training/saved_files/saved_models/transformer_0.5/tests/threshold_01/simple_test_configuration.json, skipping\n",
      "The song short_cord_progression does already exist for the configuration /home/falaxdb/Repos/minus1/transformer_decoder_training/saved_files/saved_models/transformer_0.5/tests/threshold_01/short_cord_progression_configuration.json, skipping\n",
      "sequecne tensor: torch.Size([1361, 24])\n",
      "sequence with start token tensor: torch.Size([1362, 24])\n",
      "context_seq tensor: torch.Size([1, 5, 24])\n",
      "continuing seq torch.Size([1, 1357, 24])\n",
      "Tokens to generate: 1357\n"
     ]
    },
    {
     "name": "stderr",
     "output_type": "stream",
     "text": [
      "\n",
      "\n",
      "Songs: 100%|██████████| 4/4 [00:01<00:00,  2.10it/s]\u001B[A\u001B[A\n",
      "\n",
      "                                                    \u001B[A\u001B[A\n",
      "Testing configurations:  25%|██▌       | 2/8 [00:03<00:11,  1.90s/it]\u001B[A"
     ]
    },
    {
     "name": "stdout",
     "output_type": "stream",
     "text": [
      "Elapsed time: 1.7667 seconds\n",
      "Binary Tensors after concatinating:  torch.Size([1357, 24])\n",
      "Binary Tensors after unsqueezing:  torch.Size([1, 1357, 24])\n",
      "Context sequence + Generated tokens:  torch.Size([1, 1362, 24])\n",
      "MIDI file saved to /home/falaxdb/Repos/minus1/transformer_decoder_training/saved_files/saved_models/transformer_0.5/tests/threshold_01/moritz_maria.mid\n"
     ]
    },
    {
     "name": "stderr",
     "output_type": "stream",
     "text": [
      "\n",
      "\n",
      "Songs:   0%|          | 0/4 [00:00<?, ?it/s]\u001B[A\u001B[A"
     ]
    },
    {
     "name": "stdout",
     "output_type": "stream",
     "text": [
      "The song midi-unprocessed_04_r1_2008_01-04_orig_mid--audio_04_r1_2008_wav--1-split does already exist for the configuration /home/falaxdb/Repos/minus1/transformer_decoder_training/saved_files/saved_models/transformer_0.5/tests/threshold_015/midi-unprocessed_04_r1_2008_01-04_orig_mid--audio_04_r1_2008_wav--1-split_configuration.json, skipping\n",
      "The song simple_test does already exist for the configuration /home/falaxdb/Repos/minus1/transformer_decoder_training/saved_files/saved_models/transformer_0.5/tests/threshold_015/simple_test_configuration.json, skipping\n",
      "The song short_cord_progression does already exist for the configuration /home/falaxdb/Repos/minus1/transformer_decoder_training/saved_files/saved_models/transformer_0.5/tests/threshold_015/short_cord_progression_configuration.json, skipping\n",
      "sequecne tensor: torch.Size([1361, 24])\n",
      "sequence with start token tensor: torch.Size([1362, 24])\n",
      "context_seq tensor: torch.Size([1, 5, 24])\n",
      "continuing seq torch.Size([1, 1357, 24])\n",
      "Tokens to generate: 1357\n"
     ]
    },
    {
     "name": "stderr",
     "output_type": "stream",
     "text": [
      "\n",
      "\n",
      "Songs: 100%|██████████| 4/4 [00:01<00:00,  2.05it/s]\u001B[A\u001B[A\n",
      "\n",
      "                                                    \u001B[A\u001B[A\n",
      "Testing configurations:  38%|███▊      | 3/8 [00:05<00:09,  1.93s/it]\u001B[A"
     ]
    },
    {
     "name": "stdout",
     "output_type": "stream",
     "text": [
      "Elapsed time: 1.7780 seconds\n",
      "Binary Tensors after concatinating:  torch.Size([1357, 24])\n",
      "Binary Tensors after unsqueezing:  torch.Size([1, 1357, 24])\n",
      "Context sequence + Generated tokens:  torch.Size([1, 1362, 24])\n",
      "MIDI file saved to /home/falaxdb/Repos/minus1/transformer_decoder_training/saved_files/saved_models/transformer_0.5/tests/threshold_015/moritz_maria.mid\n"
     ]
    },
    {
     "name": "stderr",
     "output_type": "stream",
     "text": [
      "\n",
      "\n",
      "Songs:   0%|          | 0/4 [00:00<?, ?it/s]\u001B[A\u001B[A"
     ]
    },
    {
     "name": "stdout",
     "output_type": "stream",
     "text": [
      "The song midi-unprocessed_04_r1_2008_01-04_orig_mid--audio_04_r1_2008_wav--1-split does already exist for the configuration /home/falaxdb/Repos/minus1/transformer_decoder_training/saved_files/saved_models/transformer_0.5/tests/threshold_02/midi-unprocessed_04_r1_2008_01-04_orig_mid--audio_04_r1_2008_wav--1-split_configuration.json, skipping\n",
      "The song simple_test does already exist for the configuration /home/falaxdb/Repos/minus1/transformer_decoder_training/saved_files/saved_models/transformer_0.5/tests/threshold_02/simple_test_configuration.json, skipping\n",
      "The song short_cord_progression does already exist for the configuration /home/falaxdb/Repos/minus1/transformer_decoder_training/saved_files/saved_models/transformer_0.5/tests/threshold_02/short_cord_progression_configuration.json, skipping\n",
      "sequecne tensor: torch.Size([1361, 24])\n",
      "sequence with start token tensor: torch.Size([1362, 24])\n",
      "context_seq tensor: torch.Size([1, 5, 24])\n",
      "continuing seq torch.Size([1, 1357, 24])\n",
      "Tokens to generate: 1357\n"
     ]
    },
    {
     "name": "stderr",
     "output_type": "stream",
     "text": [
      "\n",
      "\n",
      "Songs: 100%|██████████| 4/4 [00:01<00:00,  2.10it/s]\u001B[A\u001B[A\n",
      "\n",
      "                                                    \u001B[A\u001B[A\n",
      "Testing configurations:  50%|█████     | 4/8 [00:07<00:07,  1.92s/it]\u001B[A"
     ]
    },
    {
     "name": "stdout",
     "output_type": "stream",
     "text": [
      "Elapsed time: 1.7724 seconds\n",
      "Binary Tensors after concatinating:  torch.Size([1357, 24])\n",
      "Binary Tensors after unsqueezing:  torch.Size([1, 1357, 24])\n",
      "Context sequence + Generated tokens:  torch.Size([1, 1362, 24])\n",
      "MIDI file saved to /home/falaxdb/Repos/minus1/transformer_decoder_training/saved_files/saved_models/transformer_0.5/tests/threshold_02/moritz_maria.mid\n"
     ]
    },
    {
     "name": "stderr",
     "output_type": "stream",
     "text": [
      "\n",
      "\n",
      "Songs:   0%|          | 0/4 [00:00<?, ?it/s]\u001B[A\u001B[A"
     ]
    },
    {
     "name": "stdout",
     "output_type": "stream",
     "text": [
      "The song midi-unprocessed_04_r1_2008_01-04_orig_mid--audio_04_r1_2008_wav--1-split does already exist for the configuration /home/falaxdb/Repos/minus1/transformer_decoder_training/saved_files/saved_models/transformer_0.5/tests/threshold_025/midi-unprocessed_04_r1_2008_01-04_orig_mid--audio_04_r1_2008_wav--1-split_configuration.json, skipping\n",
      "The song simple_test does already exist for the configuration /home/falaxdb/Repos/minus1/transformer_decoder_training/saved_files/saved_models/transformer_0.5/tests/threshold_025/simple_test_configuration.json, skipping\n",
      "The song short_cord_progression does already exist for the configuration /home/falaxdb/Repos/minus1/transformer_decoder_training/saved_files/saved_models/transformer_0.5/tests/threshold_025/short_cord_progression_configuration.json, skipping\n",
      "sequecne tensor: torch.Size([1361, 24])\n",
      "sequence with start token tensor: torch.Size([1362, 24])\n",
      "context_seq tensor: torch.Size([1, 5, 24])\n",
      "continuing seq torch.Size([1, 1357, 24])\n",
      "Tokens to generate: 1357\n"
     ]
    },
    {
     "name": "stderr",
     "output_type": "stream",
     "text": [
      "\n",
      "\n",
      "Songs: 100%|██████████| 4/4 [00:01<00:00,  2.10it/s]\u001B[A\u001B[A\n",
      "\n",
      "                                                    \u001B[A\u001B[A\n",
      "Testing configurations:  62%|██████▎   | 5/8 [00:09<00:05,  1.92s/it]\u001B[A"
     ]
    },
    {
     "name": "stdout",
     "output_type": "stream",
     "text": [
      "Elapsed time: 1.7755 seconds\n",
      "Binary Tensors after concatinating:  torch.Size([1357, 24])\n",
      "Binary Tensors after unsqueezing:  torch.Size([1, 1357, 24])\n",
      "Context sequence + Generated tokens:  torch.Size([1, 1362, 24])\n",
      "MIDI file saved to /home/falaxdb/Repos/minus1/transformer_decoder_training/saved_files/saved_models/transformer_0.5/tests/threshold_025/moritz_maria.mid\n"
     ]
    },
    {
     "name": "stderr",
     "output_type": "stream",
     "text": [
      "\n",
      "\n",
      "Songs:   0%|          | 0/4 [00:00<?, ?it/s]\u001B[A\u001B[A"
     ]
    },
    {
     "name": "stdout",
     "output_type": "stream",
     "text": [
      "The song midi-unprocessed_04_r1_2008_01-04_orig_mid--audio_04_r1_2008_wav--1-split does already exist for the configuration /home/falaxdb/Repos/minus1/transformer_decoder_training/saved_files/saved_models/transformer_0.5/tests/threshold_05/midi-unprocessed_04_r1_2008_01-04_orig_mid--audio_04_r1_2008_wav--1-split_configuration.json, skipping\n",
      "The song simple_test does already exist for the configuration /home/falaxdb/Repos/minus1/transformer_decoder_training/saved_files/saved_models/transformer_0.5/tests/threshold_05/simple_test_configuration.json, skipping\n",
      "The song short_cord_progression does already exist for the configuration /home/falaxdb/Repos/minus1/transformer_decoder_training/saved_files/saved_models/transformer_0.5/tests/threshold_05/short_cord_progression_configuration.json, skipping\n",
      "sequecne tensor: torch.Size([1361, 24])\n",
      "sequence with start token tensor: torch.Size([1362, 24])\n",
      "context_seq tensor: torch.Size([1, 5, 24])\n",
      "continuing seq torch.Size([1, 1357, 24])\n",
      "Tokens to generate: 1357\n"
     ]
    },
    {
     "name": "stderr",
     "output_type": "stream",
     "text": [
      "\n",
      "\n",
      "Songs: 100%|██████████| 4/4 [00:01<00:00,  2.09it/s]\u001B[A\u001B[A\n",
      "\n",
      "                                                    \u001B[A\u001B[A\n",
      "Testing configurations:  75%|███████▌  | 6/8 [00:11<00:03,  1.92s/it]\u001B[A"
     ]
    },
    {
     "name": "stdout",
     "output_type": "stream",
     "text": [
      "Elapsed time: 1.7830 seconds\n",
      "Binary Tensors after concatinating:  torch.Size([1357, 24])\n",
      "Binary Tensors after unsqueezing:  torch.Size([1, 1357, 24])\n",
      "Context sequence + Generated tokens:  torch.Size([1, 1362, 24])\n",
      "MIDI file saved to /home/falaxdb/Repos/minus1/transformer_decoder_training/saved_files/saved_models/transformer_0.5/tests/threshold_05/moritz_maria.mid\n"
     ]
    },
    {
     "name": "stderr",
     "output_type": "stream",
     "text": [
      "\n",
      "\n",
      "Songs:   0%|          | 0/4 [00:00<?, ?it/s]\u001B[A\u001B[A"
     ]
    },
    {
     "name": "stdout",
     "output_type": "stream",
     "text": [
      "The song midi-unprocessed_04_r1_2008_01-04_orig_mid--audio_04_r1_2008_wav--1-split does already exist for the configuration /home/falaxdb/Repos/minus1/transformer_decoder_training/saved_files/saved_models/transformer_0.5/tests/threshold_03/midi-unprocessed_04_r1_2008_01-04_orig_mid--audio_04_r1_2008_wav--1-split_configuration.json, skipping\n",
      "The song simple_test does already exist for the configuration /home/falaxdb/Repos/minus1/transformer_decoder_training/saved_files/saved_models/transformer_0.5/tests/threshold_03/simple_test_configuration.json, skipping\n",
      "The song short_cord_progression does already exist for the configuration /home/falaxdb/Repos/minus1/transformer_decoder_training/saved_files/saved_models/transformer_0.5/tests/threshold_03/short_cord_progression_configuration.json, skipping\n",
      "sequecne tensor: torch.Size([1361, 24])\n",
      "sequence with start token tensor: torch.Size([1362, 24])\n",
      "context_seq tensor: torch.Size([1, 5, 24])\n",
      "continuing seq torch.Size([1, 1357, 24])\n",
      "Tokens to generate: 1357\n"
     ]
    },
    {
     "name": "stderr",
     "output_type": "stream",
     "text": [
      "\n",
      "\n",
      "Songs: 100%|██████████| 4/4 [00:01<00:00,  2.10it/s]\u001B[A\u001B[A\n",
      "\n",
      "                                                    \u001B[A\u001B[A\n",
      "Testing configurations:  88%|████████▊ | 7/8 [00:13<00:01,  1.91s/it]\u001B[A"
     ]
    },
    {
     "name": "stdout",
     "output_type": "stream",
     "text": [
      "Elapsed time: 1.7709 seconds\n",
      "Binary Tensors after concatinating:  torch.Size([1357, 24])\n",
      "Binary Tensors after unsqueezing:  torch.Size([1, 1357, 24])\n",
      "Context sequence + Generated tokens:  torch.Size([1, 1362, 24])\n",
      "MIDI file saved to /home/falaxdb/Repos/minus1/transformer_decoder_training/saved_files/saved_models/transformer_0.5/tests/threshold_03/moritz_maria.mid\n"
     ]
    },
    {
     "name": "stderr",
     "output_type": "stream",
     "text": [
      "\n",
      "\n",
      "Songs:   0%|          | 0/4 [00:00<?, ?it/s]\u001B[A\u001B[A"
     ]
    },
    {
     "name": "stdout",
     "output_type": "stream",
     "text": [
      "The song midi-unprocessed_04_r1_2008_01-04_orig_mid--audio_04_r1_2008_wav--1-split does already exist for the configuration /home/falaxdb/Repos/minus1/transformer_decoder_training/saved_files/saved_models/transformer_0.5/tests/top_k/midi-unprocessed_04_r1_2008_01-04_orig_mid--audio_04_r1_2008_wav--1-split_configuration.json, skipping\n",
      "The song simple_test does already exist for the configuration /home/falaxdb/Repos/minus1/transformer_decoder_training/saved_files/saved_models/transformer_0.5/tests/top_k/simple_test_configuration.json, skipping\n",
      "The song short_cord_progression does already exist for the configuration /home/falaxdb/Repos/minus1/transformer_decoder_training/saved_files/saved_models/transformer_0.5/tests/top_k/short_cord_progression_configuration.json, skipping\n",
      "sequecne tensor: torch.Size([1361, 24])\n",
      "sequence with start token tensor: torch.Size([1362, 24])\n",
      "context_seq tensor: torch.Size([1, 5, 24])\n",
      "continuing seq torch.Size([1, 1357, 24])\n",
      "Tokens to generate: 1357\n"
     ]
    },
    {
     "name": "stderr",
     "output_type": "stream",
     "text": [
      "\n",
      "\n",
      "Songs: 100%|██████████| 4/4 [00:01<00:00,  2.01it/s]\u001B[A\u001B[A\n",
      "\n",
      "                                                    \u001B[A\u001B[A\n",
      "Testing configurations: 100%|██████████| 8/8 [00:15<00:00,  1.94s/it]\u001B[A\n",
      "Projects:  26%|██▋       | 5/19 [01:36<04:26, 19.03s/it]             \u001B[A"
     ]
    },
    {
     "name": "stdout",
     "output_type": "stream",
     "text": [
      "Elapsed time: 1.8499 seconds\n",
      "Binary Tensors after concatinating:  torch.Size([1357, 24])\n",
      "Binary Tensors after unsqueezing:  torch.Size([1, 1357, 24])\n",
      "Context sequence + Generated tokens:  torch.Size([1, 1362, 24])\n",
      "MIDI file saved to /home/falaxdb/Repos/minus1/transformer_decoder_training/saved_files/saved_models/transformer_0.5/tests/top_k/moritz_maria.mid\n",
      "\n",
      "==============================\n",
      "Testing model transformer_1.2\n",
      "At location /home/falaxdb/Repos/minus1/transformer_decoder_training/saved_files/saved_models/transformer_1.2\n",
      "==============================\n",
      "\n",
      "Best epoch is epoch number 17\n"
     ]
    },
    {
     "name": "stderr",
     "output_type": "stream",
     "text": [
      "\n",
      "Testing configurations:   0%|          | 0/8 [00:00<?, ?it/s]\u001B[A\n",
      "\n",
      "Songs:   0%|          | 0/4 [00:00<?, ?it/s]\u001B[A\u001B[A"
     ]
    },
    {
     "name": "stdout",
     "output_type": "stream",
     "text": [
      "The song midi-unprocessed_04_r1_2008_01-04_orig_mid--audio_04_r1_2008_wav--1-split does already exist for the configuration /home/falaxdb/Repos/minus1/transformer_decoder_training/saved_files/saved_models/transformer_1.2/tests/threshold_005/midi-unprocessed_04_r1_2008_01-04_orig_mid--audio_04_r1_2008_wav--1-split_configuration.json, skipping\n",
      "The song simple_test does already exist for the configuration /home/falaxdb/Repos/minus1/transformer_decoder_training/saved_files/saved_models/transformer_1.2/tests/threshold_005/simple_test_configuration.json, skipping\n",
      "The song short_cord_progression does already exist for the configuration /home/falaxdb/Repos/minus1/transformer_decoder_training/saved_files/saved_models/transformer_1.2/tests/threshold_005/short_cord_progression_configuration.json, skipping\n",
      "sequecne tensor: torch.Size([1361, 24])\n",
      "sequence with start token tensor: torch.Size([1362, 24])\n",
      "context_seq tensor: torch.Size([1, 5, 24])\n",
      "continuing seq torch.Size([1, 1357, 24])\n",
      "Tokens to generate: 1357\n"
     ]
    },
    {
     "name": "stderr",
     "output_type": "stream",
     "text": [
      "\n",
      "\n",
      "Songs: 100%|██████████| 4/4 [00:01<00:00,  2.12it/s]\u001B[A\u001B[A\n",
      "\n",
      "                                                    \u001B[A\u001B[A\n",
      "Testing configurations:  12%|█▎        | 1/8 [00:01<00:13,  1.89s/it]\u001B[A"
     ]
    },
    {
     "name": "stdout",
     "output_type": "stream",
     "text": [
      "Elapsed time: 1.7545 seconds\n",
      "Binary Tensors after concatinating:  torch.Size([1357, 24])\n",
      "Binary Tensors after unsqueezing:  torch.Size([1, 1357, 24])\n",
      "Context sequence + Generated tokens:  torch.Size([1, 1362, 24])\n",
      "MIDI file saved to /home/falaxdb/Repos/minus1/transformer_decoder_training/saved_files/saved_models/transformer_1.2/tests/threshold_005/moritz_maria.mid\n"
     ]
    },
    {
     "name": "stderr",
     "output_type": "stream",
     "text": [
      "\n",
      "\n",
      "Songs:   0%|          | 0/4 [00:00<?, ?it/s]\u001B[A\u001B[A"
     ]
    },
    {
     "name": "stdout",
     "output_type": "stream",
     "text": [
      "The song midi-unprocessed_04_r1_2008_01-04_orig_mid--audio_04_r1_2008_wav--1-split does already exist for the configuration /home/falaxdb/Repos/minus1/transformer_decoder_training/saved_files/saved_models/transformer_1.2/tests/threshold_01/midi-unprocessed_04_r1_2008_01-04_orig_mid--audio_04_r1_2008_wav--1-split_configuration.json, skipping\n",
      "The song simple_test does already exist for the configuration /home/falaxdb/Repos/minus1/transformer_decoder_training/saved_files/saved_models/transformer_1.2/tests/threshold_01/simple_test_configuration.json, skipping\n",
      "The song short_cord_progression does already exist for the configuration /home/falaxdb/Repos/minus1/transformer_decoder_training/saved_files/saved_models/transformer_1.2/tests/threshold_01/short_cord_progression_configuration.json, skipping\n",
      "sequecne tensor: torch.Size([1361, 24])\n",
      "sequence with start token tensor: torch.Size([1362, 24])\n",
      "context_seq tensor: torch.Size([1, 5, 24])\n",
      "continuing seq torch.Size([1, 1357, 24])\n",
      "Tokens to generate: 1357\n"
     ]
    },
    {
     "name": "stderr",
     "output_type": "stream",
     "text": [
      "\n",
      "\n",
      "Songs: 100%|██████████| 4/4 [00:01<00:00,  2.11it/s]\u001B[A\u001B[A\n",
      "\n",
      "                                                    \u001B[A\u001B[A\n",
      "Testing configurations:  25%|██▌       | 2/8 [00:03<00:11,  1.89s/it]\u001B[A"
     ]
    },
    {
     "name": "stdout",
     "output_type": "stream",
     "text": [
      "Elapsed time: 1.7645 seconds\n",
      "Binary Tensors after concatinating:  torch.Size([1357, 24])\n",
      "Binary Tensors after unsqueezing:  torch.Size([1, 1357, 24])\n",
      "Context sequence + Generated tokens:  torch.Size([1, 1362, 24])\n",
      "MIDI file saved to /home/falaxdb/Repos/minus1/transformer_decoder_training/saved_files/saved_models/transformer_1.2/tests/threshold_01/moritz_maria.mid\n"
     ]
    },
    {
     "name": "stderr",
     "output_type": "stream",
     "text": [
      "\n",
      "\n",
      "Songs:   0%|          | 0/4 [00:00<?, ?it/s]\u001B[A\u001B[A"
     ]
    },
    {
     "name": "stdout",
     "output_type": "stream",
     "text": [
      "The song midi-unprocessed_04_r1_2008_01-04_orig_mid--audio_04_r1_2008_wav--1-split does already exist for the configuration /home/falaxdb/Repos/minus1/transformer_decoder_training/saved_files/saved_models/transformer_1.2/tests/threshold_015/midi-unprocessed_04_r1_2008_01-04_orig_mid--audio_04_r1_2008_wav--1-split_configuration.json, skipping\n",
      "The song simple_test does already exist for the configuration /home/falaxdb/Repos/minus1/transformer_decoder_training/saved_files/saved_models/transformer_1.2/tests/threshold_015/simple_test_configuration.json, skipping\n",
      "The song short_cord_progression does already exist for the configuration /home/falaxdb/Repos/minus1/transformer_decoder_training/saved_files/saved_models/transformer_1.2/tests/threshold_015/short_cord_progression_configuration.json, skipping\n",
      "sequecne tensor: torch.Size([1361, 24])\n",
      "sequence with start token tensor: torch.Size([1362, 24])\n",
      "context_seq tensor: torch.Size([1, 5, 24])\n",
      "continuing seq torch.Size([1, 1357, 24])\n",
      "Tokens to generate: 1357\n"
     ]
    },
    {
     "name": "stderr",
     "output_type": "stream",
     "text": [
      "\n",
      "\n",
      "Songs: 100%|██████████| 4/4 [00:01<00:00,  2.10it/s]\u001B[A\u001B[A\n",
      "\n",
      "                                                    \u001B[A\u001B[A\n",
      "Testing configurations:  38%|███▊      | 3/8 [00:05<00:09,  1.90s/it]\u001B[A"
     ]
    },
    {
     "name": "stdout",
     "output_type": "stream",
     "text": [
      "Elapsed time: 1.7739 seconds\n",
      "Binary Tensors after concatinating:  torch.Size([1357, 24])\n",
      "Binary Tensors after unsqueezing:  torch.Size([1, 1357, 24])\n",
      "Context sequence + Generated tokens:  torch.Size([1, 1362, 24])\n",
      "MIDI file saved to /home/falaxdb/Repos/minus1/transformer_decoder_training/saved_files/saved_models/transformer_1.2/tests/threshold_015/moritz_maria.mid\n"
     ]
    },
    {
     "name": "stderr",
     "output_type": "stream",
     "text": [
      "\n",
      "\n",
      "Songs:   0%|          | 0/4 [00:00<?, ?it/s]\u001B[A\u001B[A"
     ]
    },
    {
     "name": "stdout",
     "output_type": "stream",
     "text": [
      "The song midi-unprocessed_04_r1_2008_01-04_orig_mid--audio_04_r1_2008_wav--1-split does already exist for the configuration /home/falaxdb/Repos/minus1/transformer_decoder_training/saved_files/saved_models/transformer_1.2/tests/threshold_02/midi-unprocessed_04_r1_2008_01-04_orig_mid--audio_04_r1_2008_wav--1-split_configuration.json, skipping\n",
      "The song simple_test does already exist for the configuration /home/falaxdb/Repos/minus1/transformer_decoder_training/saved_files/saved_models/transformer_1.2/tests/threshold_02/simple_test_configuration.json, skipping\n",
      "The song short_cord_progression does already exist for the configuration /home/falaxdb/Repos/minus1/transformer_decoder_training/saved_files/saved_models/transformer_1.2/tests/threshold_02/short_cord_progression_configuration.json, skipping\n",
      "sequecne tensor: torch.Size([1361, 24])\n",
      "sequence with start token tensor: torch.Size([1362, 24])\n",
      "context_seq tensor: torch.Size([1, 5, 24])\n",
      "continuing seq torch.Size([1, 1357, 24])\n",
      "Tokens to generate: 1357\n"
     ]
    },
    {
     "name": "stderr",
     "output_type": "stream",
     "text": [
      "\n",
      "\n",
      "Songs: 100%|██████████| 4/4 [00:01<00:00,  2.06it/s]\u001B[A\u001B[A\n",
      "\n",
      "                                                    \u001B[A\u001B[A\n",
      "Testing configurations:  50%|█████     | 4/8 [00:07<00:07,  1.92s/it]\u001B[A"
     ]
    },
    {
     "name": "stdout",
     "output_type": "stream",
     "text": [
      "Elapsed time: 1.7736 seconds\n",
      "Binary Tensors after concatinating:  torch.Size([1357, 24])\n",
      "Binary Tensors after unsqueezing:  torch.Size([1, 1357, 24])\n",
      "Context sequence + Generated tokens:  torch.Size([1, 1362, 24])\n",
      "MIDI file saved to /home/falaxdb/Repos/minus1/transformer_decoder_training/saved_files/saved_models/transformer_1.2/tests/threshold_02/moritz_maria.mid\n"
     ]
    },
    {
     "name": "stderr",
     "output_type": "stream",
     "text": [
      "\n",
      "\n",
      "Songs:   0%|          | 0/4 [00:00<?, ?it/s]\u001B[A\u001B[A"
     ]
    },
    {
     "name": "stdout",
     "output_type": "stream",
     "text": [
      "The song midi-unprocessed_04_r1_2008_01-04_orig_mid--audio_04_r1_2008_wav--1-split does already exist for the configuration /home/falaxdb/Repos/minus1/transformer_decoder_training/saved_files/saved_models/transformer_1.2/tests/threshold_025/midi-unprocessed_04_r1_2008_01-04_orig_mid--audio_04_r1_2008_wav--1-split_configuration.json, skipping\n",
      "The song simple_test does already exist for the configuration /home/falaxdb/Repos/minus1/transformer_decoder_training/saved_files/saved_models/transformer_1.2/tests/threshold_025/simple_test_configuration.json, skipping\n",
      "The song short_cord_progression does already exist for the configuration /home/falaxdb/Repos/minus1/transformer_decoder_training/saved_files/saved_models/transformer_1.2/tests/threshold_025/short_cord_progression_configuration.json, skipping\n",
      "sequecne tensor: torch.Size([1361, 24])\n",
      "sequence with start token tensor: torch.Size([1362, 24])\n",
      "context_seq tensor: torch.Size([1, 5, 24])\n",
      "continuing seq torch.Size([1, 1357, 24])\n",
      "Tokens to generate: 1357\n"
     ]
    },
    {
     "name": "stderr",
     "output_type": "stream",
     "text": [
      "\n",
      "\n",
      "Songs: 100%|██████████| 4/4 [00:01<00:00,  2.08it/s]\u001B[A\u001B[A\n",
      "\n",
      "                                                    \u001B[A\u001B[A\n",
      "Testing configurations:  62%|██████▎   | 5/8 [00:09<00:05,  1.92s/it]\u001B[A"
     ]
    },
    {
     "name": "stdout",
     "output_type": "stream",
     "text": [
      "Elapsed time: 1.7916 seconds\n",
      "Binary Tensors after concatinating:  torch.Size([1357, 24])\n",
      "Binary Tensors after unsqueezing:  torch.Size([1, 1357, 24])\n",
      "Context sequence + Generated tokens:  torch.Size([1, 1362, 24])\n",
      "MIDI file saved to /home/falaxdb/Repos/minus1/transformer_decoder_training/saved_files/saved_models/transformer_1.2/tests/threshold_025/moritz_maria.mid\n"
     ]
    },
    {
     "name": "stderr",
     "output_type": "stream",
     "text": [
      "\n",
      "\n",
      "Songs:   0%|          | 0/4 [00:00<?, ?it/s]\u001B[A\u001B[A"
     ]
    },
    {
     "name": "stdout",
     "output_type": "stream",
     "text": [
      "The song midi-unprocessed_04_r1_2008_01-04_orig_mid--audio_04_r1_2008_wav--1-split does already exist for the configuration /home/falaxdb/Repos/minus1/transformer_decoder_training/saved_files/saved_models/transformer_1.2/tests/threshold_05/midi-unprocessed_04_r1_2008_01-04_orig_mid--audio_04_r1_2008_wav--1-split_configuration.json, skipping\n",
      "The song simple_test does already exist for the configuration /home/falaxdb/Repos/minus1/transformer_decoder_training/saved_files/saved_models/transformer_1.2/tests/threshold_05/simple_test_configuration.json, skipping\n",
      "The song short_cord_progression does already exist for the configuration /home/falaxdb/Repos/minus1/transformer_decoder_training/saved_files/saved_models/transformer_1.2/tests/threshold_05/short_cord_progression_configuration.json, skipping\n",
      "sequecne tensor: torch.Size([1361, 24])\n",
      "sequence with start token tensor: torch.Size([1362, 24])\n",
      "context_seq tensor: torch.Size([1, 5, 24])\n",
      "continuing seq torch.Size([1, 1357, 24])\n",
      "Tokens to generate: 1357\n"
     ]
    },
    {
     "name": "stderr",
     "output_type": "stream",
     "text": [
      "\n",
      "\n",
      "Songs: 100%|██████████| 4/4 [00:01<00:00,  2.10it/s]\u001B[A\u001B[A\n",
      "\n",
      "                                                    \u001B[A\u001B[A\n",
      "Testing configurations:  75%|███████▌  | 6/8 [00:11<00:03,  1.92s/it]\u001B[A"
     ]
    },
    {
     "name": "stdout",
     "output_type": "stream",
     "text": [
      "Elapsed time: 1.7717 seconds\n",
      "Binary Tensors after concatinating:  torch.Size([1357, 24])\n",
      "Binary Tensors after unsqueezing:  torch.Size([1, 1357, 24])\n",
      "Context sequence + Generated tokens:  torch.Size([1, 1362, 24])\n",
      "MIDI file saved to /home/falaxdb/Repos/minus1/transformer_decoder_training/saved_files/saved_models/transformer_1.2/tests/threshold_05/moritz_maria.mid\n"
     ]
    },
    {
     "name": "stderr",
     "output_type": "stream",
     "text": [
      "\n",
      "\n",
      "Songs:   0%|          | 0/4 [00:00<?, ?it/s]\u001B[A\u001B[A"
     ]
    },
    {
     "name": "stdout",
     "output_type": "stream",
     "text": [
      "The song midi-unprocessed_04_r1_2008_01-04_orig_mid--audio_04_r1_2008_wav--1-split does already exist for the configuration /home/falaxdb/Repos/minus1/transformer_decoder_training/saved_files/saved_models/transformer_1.2/tests/threshold_03/midi-unprocessed_04_r1_2008_01-04_orig_mid--audio_04_r1_2008_wav--1-split_configuration.json, skipping\n",
      "The song simple_test does already exist for the configuration /home/falaxdb/Repos/minus1/transformer_decoder_training/saved_files/saved_models/transformer_1.2/tests/threshold_03/simple_test_configuration.json, skipping\n",
      "The song short_cord_progression does already exist for the configuration /home/falaxdb/Repos/minus1/transformer_decoder_training/saved_files/saved_models/transformer_1.2/tests/threshold_03/short_cord_progression_configuration.json, skipping\n",
      "sequecne tensor: torch.Size([1361, 24])\n",
      "sequence with start token tensor: torch.Size([1362, 24])\n",
      "context_seq tensor: torch.Size([1, 5, 24])\n",
      "continuing seq torch.Size([1, 1357, 24])\n",
      "Tokens to generate: 1357\n"
     ]
    },
    {
     "name": "stderr",
     "output_type": "stream",
     "text": [
      "\n",
      "\n",
      "Songs: 100%|██████████| 4/4 [00:01<00:00,  2.12it/s]\u001B[A\u001B[A\n",
      "\n",
      "                                                    \u001B[A\u001B[A\n",
      "Testing configurations:  88%|████████▊ | 7/8 [00:13<00:01,  1.91s/it]\u001B[A"
     ]
    },
    {
     "name": "stdout",
     "output_type": "stream",
     "text": [
      "Elapsed time: 1.7557 seconds\n",
      "Binary Tensors after concatinating:  torch.Size([1357, 24])\n",
      "Binary Tensors after unsqueezing:  torch.Size([1, 1357, 24])\n",
      "Context sequence + Generated tokens:  torch.Size([1, 1362, 24])\n",
      "MIDI file saved to /home/falaxdb/Repos/minus1/transformer_decoder_training/saved_files/saved_models/transformer_1.2/tests/threshold_03/moritz_maria.mid\n"
     ]
    },
    {
     "name": "stderr",
     "output_type": "stream",
     "text": [
      "\n",
      "\n",
      "Songs:   0%|          | 0/4 [00:00<?, ?it/s]\u001B[A\u001B[A"
     ]
    },
    {
     "name": "stdout",
     "output_type": "stream",
     "text": [
      "The song midi-unprocessed_04_r1_2008_01-04_orig_mid--audio_04_r1_2008_wav--1-split does already exist for the configuration /home/falaxdb/Repos/minus1/transformer_decoder_training/saved_files/saved_models/transformer_1.2/tests/top_k/midi-unprocessed_04_r1_2008_01-04_orig_mid--audio_04_r1_2008_wav--1-split_configuration.json, skipping\n",
      "The song simple_test does already exist for the configuration /home/falaxdb/Repos/minus1/transformer_decoder_training/saved_files/saved_models/transformer_1.2/tests/top_k/simple_test_configuration.json, skipping\n",
      "The song short_cord_progression does already exist for the configuration /home/falaxdb/Repos/minus1/transformer_decoder_training/saved_files/saved_models/transformer_1.2/tests/top_k/short_cord_progression_configuration.json, skipping\n",
      "sequecne tensor: torch.Size([1361, 24])\n",
      "sequence with start token tensor: torch.Size([1362, 24])\n",
      "context_seq tensor: torch.Size([1, 5, 24])\n",
      "continuing seq torch.Size([1, 1357, 24])\n",
      "Tokens to generate: 1357\n"
     ]
    },
    {
     "name": "stderr",
     "output_type": "stream",
     "text": [
      "\n",
      "\n",
      "Songs: 100%|██████████| 4/4 [00:01<00:00,  2.02it/s]\u001B[A\u001B[A\n",
      "\n",
      "                                                    \u001B[A\u001B[A\n",
      "Testing configurations: 100%|██████████| 8/8 [00:15<00:00,  1.93s/it]\u001B[A\n",
      "Projects:  32%|███▏      | 6/19 [01:52<03:54, 18.06s/it]             \u001B[A"
     ]
    },
    {
     "name": "stdout",
     "output_type": "stream",
     "text": [
      "Elapsed time: 1.8480 seconds\n",
      "Binary Tensors after concatinating:  torch.Size([1357, 24])\n",
      "Binary Tensors after unsqueezing:  torch.Size([1, 1357, 24])\n",
      "Context sequence + Generated tokens:  torch.Size([1, 1362, 24])\n",
      "MIDI file saved to /home/falaxdb/Repos/minus1/transformer_decoder_training/saved_files/saved_models/transformer_1.2/tests/top_k/moritz_maria.mid\n",
      "\n",
      "==============================\n",
      "Testing model transformer_1.0\n",
      "At location /home/falaxdb/Repos/minus1/transformer_decoder_training/saved_files/saved_models/transformer_1.0\n",
      "==============================\n",
      "\n",
      "Best epoch is epoch number 18\n"
     ]
    },
    {
     "name": "stderr",
     "output_type": "stream",
     "text": [
      "\n",
      "Testing configurations:   0%|          | 0/8 [00:00<?, ?it/s]\u001B[A\n",
      "\n",
      "Songs:   0%|          | 0/4 [00:00<?, ?it/s]\u001B[A\u001B[A"
     ]
    },
    {
     "name": "stdout",
     "output_type": "stream",
     "text": [
      "The song midi-unprocessed_04_r1_2008_01-04_orig_mid--audio_04_r1_2008_wav--1-split does already exist for the configuration /home/falaxdb/Repos/minus1/transformer_decoder_training/saved_files/saved_models/transformer_1.0/tests/threshold_005/midi-unprocessed_04_r1_2008_01-04_orig_mid--audio_04_r1_2008_wav--1-split_configuration.json, skipping\n",
      "The song simple_test does already exist for the configuration /home/falaxdb/Repos/minus1/transformer_decoder_training/saved_files/saved_models/transformer_1.0/tests/threshold_005/simple_test_configuration.json, skipping\n",
      "The song short_cord_progression does already exist for the configuration /home/falaxdb/Repos/minus1/transformer_decoder_training/saved_files/saved_models/transformer_1.0/tests/threshold_005/short_cord_progression_configuration.json, skipping\n",
      "sequecne tensor: torch.Size([1361, 24])\n",
      "sequence with start token tensor: torch.Size([1362, 24])\n",
      "context_seq tensor: torch.Size([1, 513, 24])\n",
      "continuing seq torch.Size([1, 849, 24])\n",
      "Tokens to generate: 849\n"
     ]
    },
    {
     "name": "stderr",
     "output_type": "stream",
     "text": [
      "\n",
      "\n",
      "Songs: 100%|██████████| 4/4 [00:04<00:00,  1.04s/it]\u001B[A\u001B[A\n",
      "\n",
      "                                                    \u001B[A\u001B[A\n",
      "Testing configurations:  12%|█▎        | 1/8 [00:04<00:29,  4.14s/it]\u001B[A"
     ]
    },
    {
     "name": "stdout",
     "output_type": "stream",
     "text": [
      "Elapsed time: 3.9750 seconds\n",
      "Binary Tensors after concatinating:  torch.Size([849, 24])\n",
      "Binary Tensors after unsqueezing:  torch.Size([1, 849, 24])\n",
      "Context sequence + Generated tokens:  torch.Size([1, 1362, 24])\n",
      "MIDI file saved to /home/falaxdb/Repos/minus1/transformer_decoder_training/saved_files/saved_models/transformer_1.0/tests/threshold_005/moritz_maria.mid\n"
     ]
    },
    {
     "name": "stderr",
     "output_type": "stream",
     "text": [
      "\n",
      "\n",
      "Songs:   0%|          | 0/4 [00:00<?, ?it/s]\u001B[A\u001B[A"
     ]
    },
    {
     "name": "stdout",
     "output_type": "stream",
     "text": [
      "The song midi-unprocessed_04_r1_2008_01-04_orig_mid--audio_04_r1_2008_wav--1-split does already exist for the configuration /home/falaxdb/Repos/minus1/transformer_decoder_training/saved_files/saved_models/transformer_1.0/tests/threshold_01/midi-unprocessed_04_r1_2008_01-04_orig_mid--audio_04_r1_2008_wav--1-split_configuration.json, skipping\n",
      "The song simple_test does already exist for the configuration /home/falaxdb/Repos/minus1/transformer_decoder_training/saved_files/saved_models/transformer_1.0/tests/threshold_01/simple_test_configuration.json, skipping\n",
      "The song short_cord_progression does already exist for the configuration /home/falaxdb/Repos/minus1/transformer_decoder_training/saved_files/saved_models/transformer_1.0/tests/threshold_01/short_cord_progression_configuration.json, skipping\n",
      "sequecne tensor: torch.Size([1361, 24])\n",
      "sequence with start token tensor: torch.Size([1362, 24])\n",
      "context_seq tensor: torch.Size([1, 513, 24])\n",
      "continuing seq torch.Size([1, 849, 24])\n",
      "Tokens to generate: 849\n"
     ]
    },
    {
     "name": "stderr",
     "output_type": "stream",
     "text": [
      "\n",
      "\n",
      "Songs: 100%|██████████| 4/4 [00:04<00:00,  1.04s/it]\u001B[A\u001B[A\n",
      "\n",
      "                                                    \u001B[A\u001B[A\n",
      "Testing configurations:  25%|██▌       | 2/8 [00:08<00:24,  4.14s/it]\u001B[A"
     ]
    },
    {
     "name": "stdout",
     "output_type": "stream",
     "text": [
      "Elapsed time: 3.9731 seconds\n",
      "Binary Tensors after concatinating:  torch.Size([849, 24])\n",
      "Binary Tensors after unsqueezing:  torch.Size([1, 849, 24])\n",
      "Context sequence + Generated tokens:  torch.Size([1, 1362, 24])\n",
      "MIDI file saved to /home/falaxdb/Repos/minus1/transformer_decoder_training/saved_files/saved_models/transformer_1.0/tests/threshold_01/moritz_maria.mid\n"
     ]
    },
    {
     "name": "stderr",
     "output_type": "stream",
     "text": [
      "\n",
      "\n",
      "Songs:   0%|          | 0/4 [00:00<?, ?it/s]\u001B[A\u001B[A"
     ]
    },
    {
     "name": "stdout",
     "output_type": "stream",
     "text": [
      "The song midi-unprocessed_04_r1_2008_01-04_orig_mid--audio_04_r1_2008_wav--1-split does already exist for the configuration /home/falaxdb/Repos/minus1/transformer_decoder_training/saved_files/saved_models/transformer_1.0/tests/threshold_015/midi-unprocessed_04_r1_2008_01-04_orig_mid--audio_04_r1_2008_wav--1-split_configuration.json, skipping\n",
      "The song simple_test does already exist for the configuration /home/falaxdb/Repos/minus1/transformer_decoder_training/saved_files/saved_models/transformer_1.0/tests/threshold_015/simple_test_configuration.json, skipping\n",
      "The song short_cord_progression does already exist for the configuration /home/falaxdb/Repos/minus1/transformer_decoder_training/saved_files/saved_models/transformer_1.0/tests/threshold_015/short_cord_progression_configuration.json, skipping\n",
      "sequecne tensor: torch.Size([1361, 24])\n",
      "sequence with start token tensor: torch.Size([1362, 24])\n",
      "context_seq tensor: torch.Size([1, 513, 24])\n",
      "continuing seq torch.Size([1, 849, 24])\n",
      "Tokens to generate: 849\n"
     ]
    },
    {
     "name": "stderr",
     "output_type": "stream",
     "text": [
      "\n",
      "\n",
      "Songs: 100%|██████████| 4/4 [00:04<00:00,  1.02s/it]\u001B[A\u001B[A\n",
      "\n",
      "                                                    \u001B[A\u001B[A\n",
      "Testing configurations:  38%|███▊      | 3/8 [00:12<00:20,  4.11s/it]\u001B[A"
     ]
    },
    {
     "name": "stdout",
     "output_type": "stream",
     "text": [
      "Elapsed time: 3.9052 seconds\n",
      "Binary Tensors after concatinating:  torch.Size([849, 24])\n",
      "Binary Tensors after unsqueezing:  torch.Size([1, 849, 24])\n",
      "Context sequence + Generated tokens:  torch.Size([1, 1362, 24])\n",
      "MIDI file saved to /home/falaxdb/Repos/minus1/transformer_decoder_training/saved_files/saved_models/transformer_1.0/tests/threshold_015/moritz_maria.mid\n"
     ]
    },
    {
     "name": "stderr",
     "output_type": "stream",
     "text": [
      "\n",
      "\n",
      "Songs:   0%|          | 0/4 [00:00<?, ?it/s]\u001B[A\u001B[A"
     ]
    },
    {
     "name": "stdout",
     "output_type": "stream",
     "text": [
      "The song midi-unprocessed_04_r1_2008_01-04_orig_mid--audio_04_r1_2008_wav--1-split does already exist for the configuration /home/falaxdb/Repos/minus1/transformer_decoder_training/saved_files/saved_models/transformer_1.0/tests/threshold_02/midi-unprocessed_04_r1_2008_01-04_orig_mid--audio_04_r1_2008_wav--1-split_configuration.json, skipping\n",
      "The song simple_test does already exist for the configuration /home/falaxdb/Repos/minus1/transformer_decoder_training/saved_files/saved_models/transformer_1.0/tests/threshold_02/simple_test_configuration.json, skipping\n",
      "The song short_cord_progression does already exist for the configuration /home/falaxdb/Repos/minus1/transformer_decoder_training/saved_files/saved_models/transformer_1.0/tests/threshold_02/short_cord_progression_configuration.json, skipping\n",
      "sequecne tensor: torch.Size([1361, 24])\n",
      "sequence with start token tensor: torch.Size([1362, 24])\n",
      "context_seq tensor: torch.Size([1, 513, 24])\n",
      "continuing seq torch.Size([1, 849, 24])\n",
      "Tokens to generate: 849\n"
     ]
    },
    {
     "name": "stderr",
     "output_type": "stream",
     "text": [
      "\n",
      "\n",
      "Songs: 100%|██████████| 4/4 [00:04<00:00,  1.00s/it]\u001B[A\u001B[A\n",
      "\n",
      "                                                    \u001B[A\u001B[A\n",
      "Testing configurations:  50%|█████     | 4/8 [00:16<00:16,  4.07s/it]\u001B[A"
     ]
    },
    {
     "name": "stdout",
     "output_type": "stream",
     "text": [
      "Elapsed time: 3.8444 seconds\n",
      "Binary Tensors after concatinating:  torch.Size([849, 24])\n",
      "Binary Tensors after unsqueezing:  torch.Size([1, 849, 24])\n",
      "Context sequence + Generated tokens:  torch.Size([1, 1362, 24])\n",
      "MIDI file saved to /home/falaxdb/Repos/minus1/transformer_decoder_training/saved_files/saved_models/transformer_1.0/tests/threshold_02/moritz_maria.mid\n"
     ]
    },
    {
     "name": "stderr",
     "output_type": "stream",
     "text": [
      "\n",
      "\n",
      "Songs:   0%|          | 0/4 [00:00<?, ?it/s]\u001B[A\u001B[A"
     ]
    },
    {
     "name": "stdout",
     "output_type": "stream",
     "text": [
      "The song midi-unprocessed_04_r1_2008_01-04_orig_mid--audio_04_r1_2008_wav--1-split does already exist for the configuration /home/falaxdb/Repos/minus1/transformer_decoder_training/saved_files/saved_models/transformer_1.0/tests/threshold_025/midi-unprocessed_04_r1_2008_01-04_orig_mid--audio_04_r1_2008_wav--1-split_configuration.json, skipping\n",
      "The song simple_test does already exist for the configuration /home/falaxdb/Repos/minus1/transformer_decoder_training/saved_files/saved_models/transformer_1.0/tests/threshold_025/simple_test_configuration.json, skipping\n",
      "The song short_cord_progression does already exist for the configuration /home/falaxdb/Repos/minus1/transformer_decoder_training/saved_files/saved_models/transformer_1.0/tests/threshold_025/short_cord_progression_configuration.json, skipping\n",
      "sequecne tensor: torch.Size([1361, 24])\n",
      "sequence with start token tensor: torch.Size([1362, 24])\n",
      "context_seq tensor: torch.Size([1, 513, 24])\n",
      "continuing seq torch.Size([1, 849, 24])\n",
      "Tokens to generate: 849\n",
      "Elapsed time: 4.1924 seconds\n",
      "Binary Tensors after concatinating:  torch.Size([849, 24])\n",
      "Binary Tensors after unsqueezing:  torch.Size([1, 849, 24])\n",
      "Context sequence + Generated tokens:  torch.Size([1, 1362, 24])\n"
     ]
    },
    {
     "name": "stderr",
     "output_type": "stream",
     "text": [
      "\n",
      "\n",
      "Songs: 100%|██████████| 4/4 [00:04<00:00,  1.11s/it]\u001B[A\u001B[A\n",
      "\n",
      "                                                    \u001B[A\u001B[A\n",
      "Testing configurations:  62%|██████▎   | 5/8 [00:20<00:12,  4.21s/it]\u001B[A"
     ]
    },
    {
     "name": "stdout",
     "output_type": "stream",
     "text": [
      "MIDI file saved to /home/falaxdb/Repos/minus1/transformer_decoder_training/saved_files/saved_models/transformer_1.0/tests/threshold_025/moritz_maria.mid\n"
     ]
    },
    {
     "name": "stderr",
     "output_type": "stream",
     "text": [
      "\n",
      "\n",
      "Songs:   0%|          | 0/4 [00:00<?, ?it/s]\u001B[A\u001B[A"
     ]
    },
    {
     "name": "stdout",
     "output_type": "stream",
     "text": [
      "The song midi-unprocessed_04_r1_2008_01-04_orig_mid--audio_04_r1_2008_wav--1-split does already exist for the configuration /home/falaxdb/Repos/minus1/transformer_decoder_training/saved_files/saved_models/transformer_1.0/tests/threshold_05/midi-unprocessed_04_r1_2008_01-04_orig_mid--audio_04_r1_2008_wav--1-split_configuration.json, skipping\n",
      "The song simple_test does already exist for the configuration /home/falaxdb/Repos/minus1/transformer_decoder_training/saved_files/saved_models/transformer_1.0/tests/threshold_05/simple_test_configuration.json, skipping\n",
      "The song short_cord_progression does already exist for the configuration /home/falaxdb/Repos/minus1/transformer_decoder_training/saved_files/saved_models/transformer_1.0/tests/threshold_05/short_cord_progression_configuration.json, skipping\n",
      "sequecne tensor: torch.Size([1361, 24])\n",
      "sequence with start token tensor: torch.Size([1362, 24])\n",
      "context_seq tensor: torch.Size([1, 513, 24])\n",
      "continuing seq torch.Size([1, 849, 24])\n",
      "Tokens to generate: 849\n"
     ]
    },
    {
     "name": "stderr",
     "output_type": "stream",
     "text": [
      "\n",
      "\n",
      "Songs: 100%|██████████| 4/4 [00:04<00:00,  1.02s/it]\u001B[A\u001B[A\n",
      "\n",
      "                                                    \u001B[A\u001B[A\n",
      "Testing configurations:  75%|███████▌  | 6/8 [00:24<00:08,  4.17s/it]\u001B[A"
     ]
    },
    {
     "name": "stdout",
     "output_type": "stream",
     "text": [
      "Elapsed time: 3.9107 seconds\n",
      "Binary Tensors after concatinating:  torch.Size([849, 24])\n",
      "Binary Tensors after unsqueezing:  torch.Size([1, 849, 24])\n",
      "Context sequence + Generated tokens:  torch.Size([1, 1362, 24])\n",
      "MIDI file saved to /home/falaxdb/Repos/minus1/transformer_decoder_training/saved_files/saved_models/transformer_1.0/tests/threshold_05/moritz_maria.mid\n"
     ]
    },
    {
     "name": "stderr",
     "output_type": "stream",
     "text": [
      "\n",
      "\n",
      "Songs:   0%|          | 0/4 [00:00<?, ?it/s]\u001B[A\u001B[A"
     ]
    },
    {
     "name": "stdout",
     "output_type": "stream",
     "text": [
      "The song midi-unprocessed_04_r1_2008_01-04_orig_mid--audio_04_r1_2008_wav--1-split does already exist for the configuration /home/falaxdb/Repos/minus1/transformer_decoder_training/saved_files/saved_models/transformer_1.0/tests/threshold_03/midi-unprocessed_04_r1_2008_01-04_orig_mid--audio_04_r1_2008_wav--1-split_configuration.json, skipping\n",
      "The song simple_test does already exist for the configuration /home/falaxdb/Repos/minus1/transformer_decoder_training/saved_files/saved_models/transformer_1.0/tests/threshold_03/simple_test_configuration.json, skipping\n",
      "The song short_cord_progression does already exist for the configuration /home/falaxdb/Repos/minus1/transformer_decoder_training/saved_files/saved_models/transformer_1.0/tests/threshold_03/short_cord_progression_configuration.json, skipping\n",
      "sequecne tensor: torch.Size([1361, 24])\n",
      "sequence with start token tensor: torch.Size([1362, 24])\n",
      "context_seq tensor: torch.Size([1, 513, 24])\n",
      "continuing seq torch.Size([1, 849, 24])\n",
      "Tokens to generate: 849\n"
     ]
    },
    {
     "name": "stderr",
     "output_type": "stream",
     "text": [
      "\n",
      "\n",
      "Songs: 100%|██████████| 4/4 [00:04<00:00,  1.25s/it]\u001B[A\u001B[A\n",
      "\n",
      "                                                    \u001B[A\u001B[A\n",
      "Testing configurations:  88%|████████▊ | 7/8 [00:29<00:04,  4.44s/it]\u001B[A"
     ]
    },
    {
     "name": "stdout",
     "output_type": "stream",
     "text": [
      "Elapsed time: 4.8266 seconds\n",
      "Binary Tensors after concatinating:  torch.Size([849, 24])\n",
      "Binary Tensors after unsqueezing:  torch.Size([1, 849, 24])\n",
      "Context sequence + Generated tokens:  torch.Size([1, 1362, 24])\n",
      "MIDI file saved to /home/falaxdb/Repos/minus1/transformer_decoder_training/saved_files/saved_models/transformer_1.0/tests/threshold_03/moritz_maria.mid\n"
     ]
    },
    {
     "name": "stderr",
     "output_type": "stream",
     "text": [
      "\n",
      "\n",
      "Songs:   0%|          | 0/4 [00:00<?, ?it/s]\u001B[A\u001B[A"
     ]
    },
    {
     "name": "stdout",
     "output_type": "stream",
     "text": [
      "The song midi-unprocessed_04_r1_2008_01-04_orig_mid--audio_04_r1_2008_wav--1-split does already exist for the configuration /home/falaxdb/Repos/minus1/transformer_decoder_training/saved_files/saved_models/transformer_1.0/tests/top_k/midi-unprocessed_04_r1_2008_01-04_orig_mid--audio_04_r1_2008_wav--1-split_configuration.json, skipping\n",
      "The song simple_test does already exist for the configuration /home/falaxdb/Repos/minus1/transformer_decoder_training/saved_files/saved_models/transformer_1.0/tests/top_k/simple_test_configuration.json, skipping\n",
      "The song short_cord_progression does already exist for the configuration /home/falaxdb/Repos/minus1/transformer_decoder_training/saved_files/saved_models/transformer_1.0/tests/top_k/short_cord_progression_configuration.json, skipping\n",
      "sequecne tensor: torch.Size([1361, 24])\n",
      "sequence with start token tensor: torch.Size([1362, 24])\n",
      "context_seq tensor: torch.Size([1, 513, 24])\n",
      "continuing seq torch.Size([1, 849, 24])\n",
      "Tokens to generate: 849\n"
     ]
    },
    {
     "name": "stderr",
     "output_type": "stream",
     "text": [
      "\n",
      "\n",
      "Songs: 100%|██████████| 4/4 [00:05<00:00,  1.28s/it]\u001B[A\u001B[A\n",
      "\n",
      "                                                    \u001B[A\u001B[A\n",
      "Testing configurations: 100%|██████████| 8/8 [00:35<00:00,  4.66s/it]\u001B[A\n",
      "Projects:  37%|███▋      | 7/19 [02:28<04:46, 23.87s/it]             \u001B[A"
     ]
    },
    {
     "name": "stdout",
     "output_type": "stream",
     "text": [
      "Elapsed time: 4.9927 seconds\n",
      "Binary Tensors after concatinating:  torch.Size([849, 24])\n",
      "Binary Tensors after unsqueezing:  torch.Size([1, 849, 24])\n",
      "Context sequence + Generated tokens:  torch.Size([1, 1362, 24])\n",
      "MIDI file saved to /home/falaxdb/Repos/minus1/transformer_decoder_training/saved_files/saved_models/transformer_1.0/tests/top_k/moritz_maria.mid\n",
      "\n",
      "==============================\n",
      "Testing model transformer_1.1\n",
      "At location /home/falaxdb/Repos/minus1/transformer_decoder_training/saved_files/saved_models/transformer_1.1\n",
      "==============================\n",
      "\n",
      "Best epoch is epoch number 12\n"
     ]
    },
    {
     "name": "stderr",
     "output_type": "stream",
     "text": [
      "\n",
      "Testing configurations:   0%|          | 0/8 [00:00<?, ?it/s]\u001B[A\n",
      "\n",
      "Songs:   0%|          | 0/4 [00:00<?, ?it/s]\u001B[A\u001B[A"
     ]
    },
    {
     "name": "stdout",
     "output_type": "stream",
     "text": [
      "The song midi-unprocessed_04_r1_2008_01-04_orig_mid--audio_04_r1_2008_wav--1-split does already exist for the configuration /home/falaxdb/Repos/minus1/transformer_decoder_training/saved_files/saved_models/transformer_1.1/tests/threshold_005/midi-unprocessed_04_r1_2008_01-04_orig_mid--audio_04_r1_2008_wav--1-split_configuration.json, skipping\n",
      "The song simple_test does already exist for the configuration /home/falaxdb/Repos/minus1/transformer_decoder_training/saved_files/saved_models/transformer_1.1/tests/threshold_005/simple_test_configuration.json, skipping\n",
      "The song short_cord_progression does already exist for the configuration /home/falaxdb/Repos/minus1/transformer_decoder_training/saved_files/saved_models/transformer_1.1/tests/threshold_005/short_cord_progression_configuration.json, skipping\n",
      "sequecne tensor: torch.Size([1361, 24])\n",
      "sequence with start token tensor: torch.Size([1362, 24])\n",
      "context_seq tensor: torch.Size([1, 1025, 24])\n",
      "continuing seq torch.Size([1, 337, 24])\n",
      "Tokens to generate: 337\n"
     ]
    },
    {
     "name": "stderr",
     "output_type": "stream",
     "text": [
      "\n",
      "\n",
      "Songs: 100%|██████████| 4/4 [00:03<00:00,  1.15it/s]\u001B[A\u001B[A\n",
      "\n",
      "                                                    \u001B[A\u001B[A\n",
      "Testing configurations:  12%|█▎        | 1/8 [00:03<00:24,  3.49s/it]\u001B[A"
     ]
    },
    {
     "name": "stdout",
     "output_type": "stream",
     "text": [
      "Elapsed time: 3.2991 seconds\n",
      "Binary Tensors after concatinating:  torch.Size([337, 24])\n",
      "Binary Tensors after unsqueezing:  torch.Size([1, 337, 24])\n",
      "Context sequence + Generated tokens:  torch.Size([1, 1362, 24])\n",
      "MIDI file saved to /home/falaxdb/Repos/minus1/transformer_decoder_training/saved_files/saved_models/transformer_1.1/tests/threshold_005/moritz_maria.mid\n"
     ]
    },
    {
     "name": "stderr",
     "output_type": "stream",
     "text": [
      "\n",
      "\n",
      "Songs:   0%|          | 0/4 [00:00<?, ?it/s]\u001B[A\u001B[A"
     ]
    },
    {
     "name": "stdout",
     "output_type": "stream",
     "text": [
      "The song midi-unprocessed_04_r1_2008_01-04_orig_mid--audio_04_r1_2008_wav--1-split does already exist for the configuration /home/falaxdb/Repos/minus1/transformer_decoder_training/saved_files/saved_models/transformer_1.1/tests/threshold_01/midi-unprocessed_04_r1_2008_01-04_orig_mid--audio_04_r1_2008_wav--1-split_configuration.json, skipping\n",
      "The song simple_test does already exist for the configuration /home/falaxdb/Repos/minus1/transformer_decoder_training/saved_files/saved_models/transformer_1.1/tests/threshold_01/simple_test_configuration.json, skipping\n",
      "The song short_cord_progression does already exist for the configuration /home/falaxdb/Repos/minus1/transformer_decoder_training/saved_files/saved_models/transformer_1.1/tests/threshold_01/short_cord_progression_configuration.json, skipping\n",
      "sequecne tensor: torch.Size([1361, 24])\n",
      "sequence with start token tensor: torch.Size([1362, 24])\n",
      "context_seq tensor: torch.Size([1, 1025, 24])\n",
      "continuing seq torch.Size([1, 337, 24])\n",
      "Tokens to generate: 337\n"
     ]
    },
    {
     "name": "stderr",
     "output_type": "stream",
     "text": [
      "\n",
      "\n",
      "Songs: 100%|██████████| 4/4 [00:03<00:00,  1.11it/s]\u001B[A\u001B[A\n",
      "\n",
      "                                                    \u001B[A\u001B[A\n",
      "Testing configurations:  25%|██▌       | 2/8 [00:07<00:21,  3.56s/it]\u001B[A"
     ]
    },
    {
     "name": "stdout",
     "output_type": "stream",
     "text": [
      "Elapsed time: 3.4173 seconds\n",
      "Binary Tensors after concatinating:  torch.Size([337, 24])\n",
      "Binary Tensors after unsqueezing:  torch.Size([1, 337, 24])\n",
      "Context sequence + Generated tokens:  torch.Size([1, 1362, 24])\n",
      "MIDI file saved to /home/falaxdb/Repos/minus1/transformer_decoder_training/saved_files/saved_models/transformer_1.1/tests/threshold_01/moritz_maria.mid\n"
     ]
    },
    {
     "name": "stderr",
     "output_type": "stream",
     "text": [
      "\n",
      "\n",
      "Songs:   0%|          | 0/4 [00:00<?, ?it/s]\u001B[A\u001B[A"
     ]
    },
    {
     "name": "stdout",
     "output_type": "stream",
     "text": [
      "The song midi-unprocessed_04_r1_2008_01-04_orig_mid--audio_04_r1_2008_wav--1-split does already exist for the configuration /home/falaxdb/Repos/minus1/transformer_decoder_training/saved_files/saved_models/transformer_1.1/tests/threshold_015/midi-unprocessed_04_r1_2008_01-04_orig_mid--audio_04_r1_2008_wav--1-split_configuration.json, skipping\n",
      "The song simple_test does already exist for the configuration /home/falaxdb/Repos/minus1/transformer_decoder_training/saved_files/saved_models/transformer_1.1/tests/threshold_015/simple_test_configuration.json, skipping\n",
      "The song short_cord_progression does already exist for the configuration /home/falaxdb/Repos/minus1/transformer_decoder_training/saved_files/saved_models/transformer_1.1/tests/threshold_015/short_cord_progression_configuration.json, skipping\n",
      "sequecne tensor: torch.Size([1361, 24])\n",
      "sequence with start token tensor: torch.Size([1362, 24])\n",
      "context_seq tensor: torch.Size([1, 1025, 24])\n",
      "continuing seq torch.Size([1, 337, 24])\n",
      "Tokens to generate: 337\n"
     ]
    },
    {
     "name": "stderr",
     "output_type": "stream",
     "text": [
      "\n",
      "\n",
      "Songs: 100%|██████████| 4/4 [00:03<00:00,  1.05it/s]\u001B[A\u001B[A\n",
      "\n",
      "                                                    \u001B[A\u001B[A\n",
      "Testing configurations:  38%|███▊      | 3/8 [00:10<00:18,  3.68s/it]\u001B[A"
     ]
    },
    {
     "name": "stdout",
     "output_type": "stream",
     "text": [
      "Elapsed time: 3.6132 seconds\n",
      "Binary Tensors after concatinating:  torch.Size([337, 24])\n",
      "Binary Tensors after unsqueezing:  torch.Size([1, 337, 24])\n",
      "Context sequence + Generated tokens:  torch.Size([1, 1362, 24])\n",
      "MIDI file saved to /home/falaxdb/Repos/minus1/transformer_decoder_training/saved_files/saved_models/transformer_1.1/tests/threshold_015/moritz_maria.mid\n"
     ]
    },
    {
     "name": "stderr",
     "output_type": "stream",
     "text": [
      "\n",
      "\n",
      "Songs:   0%|          | 0/4 [00:00<?, ?it/s]\u001B[A\u001B[A"
     ]
    },
    {
     "name": "stdout",
     "output_type": "stream",
     "text": [
      "The song midi-unprocessed_04_r1_2008_01-04_orig_mid--audio_04_r1_2008_wav--1-split does already exist for the configuration /home/falaxdb/Repos/minus1/transformer_decoder_training/saved_files/saved_models/transformer_1.1/tests/threshold_02/midi-unprocessed_04_r1_2008_01-04_orig_mid--audio_04_r1_2008_wav--1-split_configuration.json, skipping\n",
      "The song simple_test does already exist for the configuration /home/falaxdb/Repos/minus1/transformer_decoder_training/saved_files/saved_models/transformer_1.1/tests/threshold_02/simple_test_configuration.json, skipping\n",
      "The song short_cord_progression does already exist for the configuration /home/falaxdb/Repos/minus1/transformer_decoder_training/saved_files/saved_models/transformer_1.1/tests/threshold_02/short_cord_progression_configuration.json, skipping\n",
      "sequecne tensor: torch.Size([1361, 24])\n",
      "sequence with start token tensor: torch.Size([1362, 24])\n",
      "context_seq tensor: torch.Size([1, 1025, 24])\n",
      "continuing seq torch.Size([1, 337, 24])\n",
      "Tokens to generate: 337\n"
     ]
    },
    {
     "name": "stderr",
     "output_type": "stream",
     "text": [
      "\n",
      "\n",
      "Songs: 100%|██████████| 4/4 [00:03<00:00,  1.16it/s]\u001B[A\u001B[A\n",
      "\n",
      "                                                    \u001B[A\u001B[A\n",
      "Testing configurations:  50%|█████     | 4/8 [00:14<00:14,  3.58s/it]\u001B[A"
     ]
    },
    {
     "name": "stdout",
     "output_type": "stream",
     "text": [
      "Elapsed time: 3.2474 seconds\n",
      "Binary Tensors after concatinating:  torch.Size([337, 24])\n",
      "Binary Tensors after unsqueezing:  torch.Size([1, 337, 24])\n",
      "Context sequence + Generated tokens:  torch.Size([1, 1362, 24])\n",
      "MIDI file saved to /home/falaxdb/Repos/minus1/transformer_decoder_training/saved_files/saved_models/transformer_1.1/tests/threshold_02/moritz_maria.mid\n"
     ]
    },
    {
     "name": "stderr",
     "output_type": "stream",
     "text": [
      "\n",
      "\n",
      "Songs:   0%|          | 0/4 [00:00<?, ?it/s]\u001B[A\u001B[A"
     ]
    },
    {
     "name": "stdout",
     "output_type": "stream",
     "text": [
      "The song midi-unprocessed_04_r1_2008_01-04_orig_mid--audio_04_r1_2008_wav--1-split does already exist for the configuration /home/falaxdb/Repos/minus1/transformer_decoder_training/saved_files/saved_models/transformer_1.1/tests/threshold_025/midi-unprocessed_04_r1_2008_01-04_orig_mid--audio_04_r1_2008_wav--1-split_configuration.json, skipping\n",
      "The song simple_test does already exist for the configuration /home/falaxdb/Repos/minus1/transformer_decoder_training/saved_files/saved_models/transformer_1.1/tests/threshold_025/simple_test_configuration.json, skipping\n",
      "The song short_cord_progression does already exist for the configuration /home/falaxdb/Repos/minus1/transformer_decoder_training/saved_files/saved_models/transformer_1.1/tests/threshold_025/short_cord_progression_configuration.json, skipping\n",
      "sequecne tensor: torch.Size([1361, 24])\n",
      "sequence with start token tensor: torch.Size([1362, 24])\n",
      "context_seq tensor: torch.Size([1, 1025, 24])\n",
      "continuing seq torch.Size([1, 337, 24])\n",
      "Tokens to generate: 337\n"
     ]
    },
    {
     "name": "stderr",
     "output_type": "stream",
     "text": [
      "\n",
      "\n",
      "Songs: 100%|██████████| 4/4 [00:03<00:00,  1.16it/s]\u001B[A\u001B[A\n",
      "\n",
      "                                                    \u001B[A\u001B[A\n",
      "Testing configurations:  62%|██████▎   | 5/8 [00:17<00:10,  3.53s/it]\u001B[A"
     ]
    },
    {
     "name": "stdout",
     "output_type": "stream",
     "text": [
      "Elapsed time: 3.2466 seconds\n",
      "Binary Tensors after concatinating:  torch.Size([337, 24])\n",
      "Binary Tensors after unsqueezing:  torch.Size([1, 337, 24])\n",
      "Context sequence + Generated tokens:  torch.Size([1, 1362, 24])\n",
      "MIDI file saved to /home/falaxdb/Repos/minus1/transformer_decoder_training/saved_files/saved_models/transformer_1.1/tests/threshold_025/moritz_maria.mid\n"
     ]
    },
    {
     "name": "stderr",
     "output_type": "stream",
     "text": [
      "\n",
      "\n",
      "Songs:   0%|          | 0/4 [00:00<?, ?it/s]\u001B[A\u001B[A"
     ]
    },
    {
     "name": "stdout",
     "output_type": "stream",
     "text": [
      "The song midi-unprocessed_04_r1_2008_01-04_orig_mid--audio_04_r1_2008_wav--1-split does already exist for the configuration /home/falaxdb/Repos/minus1/transformer_decoder_training/saved_files/saved_models/transformer_1.1/tests/threshold_05/midi-unprocessed_04_r1_2008_01-04_orig_mid--audio_04_r1_2008_wav--1-split_configuration.json, skipping\n",
      "The song simple_test does already exist for the configuration /home/falaxdb/Repos/minus1/transformer_decoder_training/saved_files/saved_models/transformer_1.1/tests/threshold_05/simple_test_configuration.json, skipping\n",
      "The song short_cord_progression does already exist for the configuration /home/falaxdb/Repos/minus1/transformer_decoder_training/saved_files/saved_models/transformer_1.1/tests/threshold_05/short_cord_progression_configuration.json, skipping\n",
      "sequecne tensor: torch.Size([1361, 24])\n",
      "sequence with start token tensor: torch.Size([1362, 24])\n",
      "context_seq tensor: torch.Size([1, 1025, 24])\n",
      "continuing seq torch.Size([1, 337, 24])\n",
      "Tokens to generate: 337\n"
     ]
    },
    {
     "name": "stderr",
     "output_type": "stream",
     "text": [
      "\n",
      "\n",
      "Songs: 100%|██████████| 4/4 [00:03<00:00,  1.17it/s]\u001B[A\u001B[A\n",
      "\n",
      "                                                    \u001B[A\u001B[A\n",
      "Testing configurations:  75%|███████▌  | 6/8 [00:21<00:06,  3.50s/it]\u001B[A"
     ]
    },
    {
     "name": "stdout",
     "output_type": "stream",
     "text": [
      "Elapsed time: 3.2277 seconds\n",
      "Binary Tensors after concatinating:  torch.Size([337, 24])\n",
      "Binary Tensors after unsqueezing:  torch.Size([1, 337, 24])\n",
      "Context sequence + Generated tokens:  torch.Size([1, 1362, 24])\n",
      "MIDI file saved to /home/falaxdb/Repos/minus1/transformer_decoder_training/saved_files/saved_models/transformer_1.1/tests/threshold_05/moritz_maria.mid\n"
     ]
    },
    {
     "name": "stderr",
     "output_type": "stream",
     "text": [
      "\n",
      "\n",
      "Songs:   0%|          | 0/4 [00:00<?, ?it/s]\u001B[A\u001B[A"
     ]
    },
    {
     "name": "stdout",
     "output_type": "stream",
     "text": [
      "The song midi-unprocessed_04_r1_2008_01-04_orig_mid--audio_04_r1_2008_wav--1-split does already exist for the configuration /home/falaxdb/Repos/minus1/transformer_decoder_training/saved_files/saved_models/transformer_1.1/tests/threshold_03/midi-unprocessed_04_r1_2008_01-04_orig_mid--audio_04_r1_2008_wav--1-split_configuration.json, skipping\n",
      "The song simple_test does already exist for the configuration /home/falaxdb/Repos/minus1/transformer_decoder_training/saved_files/saved_models/transformer_1.1/tests/threshold_03/simple_test_configuration.json, skipping\n",
      "The song short_cord_progression does already exist for the configuration /home/falaxdb/Repos/minus1/transformer_decoder_training/saved_files/saved_models/transformer_1.1/tests/threshold_03/short_cord_progression_configuration.json, skipping\n",
      "sequecne tensor: torch.Size([1361, 24])\n",
      "sequence with start token tensor: torch.Size([1362, 24])\n",
      "context_seq tensor: torch.Size([1, 1025, 24])\n",
      "continuing seq torch.Size([1, 337, 24])\n",
      "Tokens to generate: 337\n",
      "Elapsed time: 3.2430 seconds\n",
      "Binary Tensors after concatinating:  torch.Size([337, 24])\n",
      "Binary Tensors after unsqueezing:  torch.Size([1, 337, 24])\n",
      "Context sequence + Generated tokens:  torch.Size([1, 1362, 24])\n",
      "MIDI file saved to /home/falaxdb/Repos/minus1/transformer_decoder_training/saved_files/saved_models/transformer_1.1/tests/threshold_03/moritz_maria.mid\n"
     ]
    },
    {
     "name": "stderr",
     "output_type": "stream",
     "text": [
      "\n",
      "\n",
      "Songs: 100%|██████████| 4/4 [00:03<00:00,  1.15it/s]\u001B[A\u001B[A\n",
      "\n",
      "                                                    \u001B[A\u001B[A\n",
      "Testing configurations:  88%|████████▊ | 7/8 [00:24<00:03,  3.49s/it]\u001B[A\n",
      "\n",
      "Songs:   0%|          | 0/4 [00:00<?, ?it/s]\u001B[A\u001B[A"
     ]
    },
    {
     "name": "stdout",
     "output_type": "stream",
     "text": [
      "The song midi-unprocessed_04_r1_2008_01-04_orig_mid--audio_04_r1_2008_wav--1-split does already exist for the configuration /home/falaxdb/Repos/minus1/transformer_decoder_training/saved_files/saved_models/transformer_1.1/tests/top_k/midi-unprocessed_04_r1_2008_01-04_orig_mid--audio_04_r1_2008_wav--1-split_configuration.json, skipping\n",
      "The song simple_test does already exist for the configuration /home/falaxdb/Repos/minus1/transformer_decoder_training/saved_files/saved_models/transformer_1.1/tests/top_k/simple_test_configuration.json, skipping\n",
      "The song short_cord_progression does already exist for the configuration /home/falaxdb/Repos/minus1/transformer_decoder_training/saved_files/saved_models/transformer_1.1/tests/top_k/short_cord_progression_configuration.json, skipping\n",
      "sequecne tensor: torch.Size([1361, 24])\n",
      "sequence with start token tensor: torch.Size([1362, 24])\n",
      "context_seq tensor: torch.Size([1, 1025, 24])\n",
      "continuing seq torch.Size([1, 337, 24])\n",
      "Tokens to generate: 337\n"
     ]
    },
    {
     "name": "stderr",
     "output_type": "stream",
     "text": [
      "\n",
      "\n",
      "Songs: 100%|██████████| 4/4 [00:03<00:00,  1.14it/s]\u001B[A\u001B[A\n",
      "\n",
      "                                                    \u001B[A\u001B[A\n",
      "Testing configurations: 100%|██████████| 8/8 [00:28<00:00,  3.49s/it]\u001B[A\n",
      "Projects:  42%|████▏     | 8/19 [02:57<04:40, 25.51s/it]             \u001B[A"
     ]
    },
    {
     "name": "stdout",
     "output_type": "stream",
     "text": [
      "Elapsed time: 3.3368 seconds\n",
      "Binary Tensors after concatinating:  torch.Size([337, 24])\n",
      "Binary Tensors after unsqueezing:  torch.Size([1, 337, 24])\n",
      "Context sequence + Generated tokens:  torch.Size([1, 1362, 24])\n",
      "MIDI file saved to /home/falaxdb/Repos/minus1/transformer_decoder_training/saved_files/saved_models/transformer_1.1/tests/top_k/moritz_maria.mid\n",
      "\n",
      "==============================\n",
      "Testing model transformer_1.3\n",
      "At location /home/falaxdb/Repos/minus1/transformer_decoder_training/saved_files/saved_models/transformer_1.3\n",
      "==============================\n",
      "\n",
      "Best epoch is epoch number 10\n"
     ]
    },
    {
     "name": "stderr",
     "output_type": "stream",
     "text": [
      "\n",
      "Testing configurations:   0%|          | 0/8 [00:00<?, ?it/s]\u001B[A\n",
      "\n",
      "Songs:   0%|          | 0/4 [00:00<?, ?it/s]\u001B[A\u001B[A"
     ]
    },
    {
     "name": "stdout",
     "output_type": "stream",
     "text": [
      "The song midi-unprocessed_04_r1_2008_01-04_orig_mid--audio_04_r1_2008_wav--1-split does already exist for the configuration /home/falaxdb/Repos/minus1/transformer_decoder_training/saved_files/saved_models/transformer_1.3/tests/threshold_005/midi-unprocessed_04_r1_2008_01-04_orig_mid--audio_04_r1_2008_wav--1-split_configuration.json, skipping\n",
      "The song simple_test does already exist for the configuration /home/falaxdb/Repos/minus1/transformer_decoder_training/saved_files/saved_models/transformer_1.3/tests/threshold_005/simple_test_configuration.json, skipping\n",
      "The song short_cord_progression does already exist for the configuration /home/falaxdb/Repos/minus1/transformer_decoder_training/saved_files/saved_models/transformer_1.3/tests/threshold_005/short_cord_progression_configuration.json, skipping\n",
      "sequecne tensor: torch.Size([1361, 24])\n",
      "sequence with start token tensor: torch.Size([1362, 24])\n",
      "context_seq tensor: torch.Size([1, 101, 24])\n",
      "continuing seq torch.Size([1, 1261, 24])\n",
      "Tokens to generate: 1261\n"
     ]
    },
    {
     "name": "stderr",
     "output_type": "stream",
     "text": [
      "\n",
      "\n",
      "Songs: 100%|██████████| 4/4 [00:02<00:00,  1.80it/s]\u001B[A\u001B[A\n",
      "\n",
      "                                                    \u001B[A\u001B[A\n",
      "Testing configurations:  12%|█▎        | 1/8 [00:02<00:15,  2.23s/it]\u001B[A"
     ]
    },
    {
     "name": "stdout",
     "output_type": "stream",
     "text": [
      "Elapsed time: 2.0493 seconds\n",
      "Binary Tensors after concatinating:  torch.Size([1261, 24])\n",
      "Binary Tensors after unsqueezing:  torch.Size([1, 1261, 24])\n",
      "Context sequence + Generated tokens:  torch.Size([1, 1362, 24])\n",
      "MIDI file saved to /home/falaxdb/Repos/minus1/transformer_decoder_training/saved_files/saved_models/transformer_1.3/tests/threshold_005/moritz_maria.mid\n"
     ]
    },
    {
     "name": "stderr",
     "output_type": "stream",
     "text": [
      "\n",
      "\n",
      "Songs:   0%|          | 0/4 [00:00<?, ?it/s]\u001B[A\u001B[A"
     ]
    },
    {
     "name": "stdout",
     "output_type": "stream",
     "text": [
      "The song midi-unprocessed_04_r1_2008_01-04_orig_mid--audio_04_r1_2008_wav--1-split does already exist for the configuration /home/falaxdb/Repos/minus1/transformer_decoder_training/saved_files/saved_models/transformer_1.3/tests/threshold_01/midi-unprocessed_04_r1_2008_01-04_orig_mid--audio_04_r1_2008_wav--1-split_configuration.json, skipping\n",
      "The song simple_test does already exist for the configuration /home/falaxdb/Repos/minus1/transformer_decoder_training/saved_files/saved_models/transformer_1.3/tests/threshold_01/simple_test_configuration.json, skipping\n",
      "The song short_cord_progression does already exist for the configuration /home/falaxdb/Repos/minus1/transformer_decoder_training/saved_files/saved_models/transformer_1.3/tests/threshold_01/short_cord_progression_configuration.json, skipping\n",
      "sequecne tensor: torch.Size([1361, 24])\n",
      "sequence with start token tensor: torch.Size([1362, 24])\n",
      "context_seq tensor: torch.Size([1, 101, 24])\n",
      "continuing seq torch.Size([1, 1261, 24])\n",
      "Tokens to generate: 1261\n"
     ]
    },
    {
     "name": "stderr",
     "output_type": "stream",
     "text": [
      "\n",
      "\n",
      "Songs: 100%|██████████| 4/4 [00:02<00:00,  1.80it/s]\u001B[A\u001B[A\n",
      "\n",
      "                                                    \u001B[A\u001B[A\n",
      "Testing configurations:  25%|██▌       | 2/8 [00:04<00:13,  2.23s/it]\u001B[A"
     ]
    },
    {
     "name": "stdout",
     "output_type": "stream",
     "text": [
      "Elapsed time: 2.0562 seconds\n",
      "Binary Tensors after concatinating:  torch.Size([1261, 24])\n",
      "Binary Tensors after unsqueezing:  torch.Size([1, 1261, 24])\n",
      "Context sequence + Generated tokens:  torch.Size([1, 1362, 24])\n",
      "MIDI file saved to /home/falaxdb/Repos/minus1/transformer_decoder_training/saved_files/saved_models/transformer_1.3/tests/threshold_01/moritz_maria.mid\n"
     ]
    },
    {
     "name": "stderr",
     "output_type": "stream",
     "text": [
      "\n",
      "\n",
      "Songs:   0%|          | 0/4 [00:00<?, ?it/s]\u001B[A\u001B[A"
     ]
    },
    {
     "name": "stdout",
     "output_type": "stream",
     "text": [
      "The song midi-unprocessed_04_r1_2008_01-04_orig_mid--audio_04_r1_2008_wav--1-split does already exist for the configuration /home/falaxdb/Repos/minus1/transformer_decoder_training/saved_files/saved_models/transformer_1.3/tests/threshold_015/midi-unprocessed_04_r1_2008_01-04_orig_mid--audio_04_r1_2008_wav--1-split_configuration.json, skipping\n",
      "The song simple_test does already exist for the configuration /home/falaxdb/Repos/minus1/transformer_decoder_training/saved_files/saved_models/transformer_1.3/tests/threshold_015/simple_test_configuration.json, skipping\n",
      "The song short_cord_progression does already exist for the configuration /home/falaxdb/Repos/minus1/transformer_decoder_training/saved_files/saved_models/transformer_1.3/tests/threshold_015/short_cord_progression_configuration.json, skipping\n",
      "sequecne tensor: torch.Size([1361, 24])\n",
      "sequence with start token tensor: torch.Size([1362, 24])\n",
      "context_seq tensor: torch.Size([1, 101, 24])\n",
      "continuing seq torch.Size([1, 1261, 24])\n",
      "Tokens to generate: 1261\n"
     ]
    },
    {
     "name": "stderr",
     "output_type": "stream",
     "text": [
      "\n",
      "\n",
      "Songs: 100%|██████████| 4/4 [00:02<00:00,  1.83it/s]\u001B[A\u001B[A\n",
      "\n",
      "                                                    \u001B[A\u001B[A\n",
      "Testing configurations:  38%|███▊      | 3/8 [00:06<00:11,  2.21s/it]\u001B[A"
     ]
    },
    {
     "name": "stdout",
     "output_type": "stream",
     "text": [
      "Elapsed time: 2.0362 seconds\n",
      "Binary Tensors after concatinating:  torch.Size([1261, 24])\n",
      "Binary Tensors after unsqueezing:  torch.Size([1, 1261, 24])\n",
      "Context sequence + Generated tokens:  torch.Size([1, 1362, 24])\n",
      "MIDI file saved to /home/falaxdb/Repos/minus1/transformer_decoder_training/saved_files/saved_models/transformer_1.3/tests/threshold_015/moritz_maria.mid\n"
     ]
    },
    {
     "name": "stderr",
     "output_type": "stream",
     "text": [
      "\n",
      "\n",
      "Songs:   0%|          | 0/4 [00:00<?, ?it/s]\u001B[A\u001B[A"
     ]
    },
    {
     "name": "stdout",
     "output_type": "stream",
     "text": [
      "The song midi-unprocessed_04_r1_2008_01-04_orig_mid--audio_04_r1_2008_wav--1-split does already exist for the configuration /home/falaxdb/Repos/minus1/transformer_decoder_training/saved_files/saved_models/transformer_1.3/tests/threshold_02/midi-unprocessed_04_r1_2008_01-04_orig_mid--audio_04_r1_2008_wav--1-split_configuration.json, skipping\n",
      "The song simple_test does already exist for the configuration /home/falaxdb/Repos/minus1/transformer_decoder_training/saved_files/saved_models/transformer_1.3/tests/threshold_02/simple_test_configuration.json, skipping\n",
      "The song short_cord_progression does already exist for the configuration /home/falaxdb/Repos/minus1/transformer_decoder_training/saved_files/saved_models/transformer_1.3/tests/threshold_02/short_cord_progression_configuration.json, skipping\n",
      "sequecne tensor: torch.Size([1361, 24])\n",
      "sequence with start token tensor: torch.Size([1362, 24])\n",
      "context_seq tensor: torch.Size([1, 101, 24])\n",
      "continuing seq torch.Size([1, 1261, 24])\n",
      "Tokens to generate: 1261\n"
     ]
    },
    {
     "name": "stderr",
     "output_type": "stream",
     "text": [
      "\n",
      "\n",
      "Songs: 100%|██████████| 4/4 [00:02<00:00,  1.82it/s]\u001B[A\u001B[A\n",
      "\n",
      "                                                    \u001B[A\u001B[A\n",
      "Testing configurations:  50%|█████     | 4/8 [00:08<00:08,  2.21s/it]\u001B[A"
     ]
    },
    {
     "name": "stdout",
     "output_type": "stream",
     "text": [
      "Elapsed time: 2.0625 seconds\n",
      "Binary Tensors after concatinating:  torch.Size([1261, 24])\n",
      "Binary Tensors after unsqueezing:  torch.Size([1, 1261, 24])\n",
      "Context sequence + Generated tokens:  torch.Size([1, 1362, 24])\n",
      "MIDI file saved to /home/falaxdb/Repos/minus1/transformer_decoder_training/saved_files/saved_models/transformer_1.3/tests/threshold_02/moritz_maria.mid\n"
     ]
    },
    {
     "name": "stderr",
     "output_type": "stream",
     "text": [
      "\n",
      "\n",
      "Songs:   0%|          | 0/4 [00:00<?, ?it/s]\u001B[A\u001B[A"
     ]
    },
    {
     "name": "stdout",
     "output_type": "stream",
     "text": [
      "The song midi-unprocessed_04_r1_2008_01-04_orig_mid--audio_04_r1_2008_wav--1-split does already exist for the configuration /home/falaxdb/Repos/minus1/transformer_decoder_training/saved_files/saved_models/transformer_1.3/tests/threshold_025/midi-unprocessed_04_r1_2008_01-04_orig_mid--audio_04_r1_2008_wav--1-split_configuration.json, skipping\n",
      "The song simple_test does already exist for the configuration /home/falaxdb/Repos/minus1/transformer_decoder_training/saved_files/saved_models/transformer_1.3/tests/threshold_025/simple_test_configuration.json, skipping\n",
      "The song short_cord_progression does already exist for the configuration /home/falaxdb/Repos/minus1/transformer_decoder_training/saved_files/saved_models/transformer_1.3/tests/threshold_025/short_cord_progression_configuration.json, skipping\n",
      "sequecne tensor: torch.Size([1361, 24])\n",
      "sequence with start token tensor: torch.Size([1362, 24])\n",
      "context_seq tensor: torch.Size([1, 101, 24])\n",
      "continuing seq torch.Size([1, 1261, 24])\n",
      "Tokens to generate: 1261\n"
     ]
    },
    {
     "name": "stderr",
     "output_type": "stream",
     "text": [
      "\n",
      "\n",
      "Songs: 100%|██████████| 4/4 [00:02<00:00,  1.84it/s]\u001B[A\u001B[A\n",
      "\n",
      "                                                    \u001B[A\u001B[A\n",
      "Testing configurations:  62%|██████▎   | 5/8 [00:11<00:06,  2.20s/it]\u001B[A"
     ]
    },
    {
     "name": "stdout",
     "output_type": "stream",
     "text": [
      "Elapsed time: 2.0374 seconds\n",
      "Binary Tensors after concatinating:  torch.Size([1261, 24])\n",
      "Binary Tensors after unsqueezing:  torch.Size([1, 1261, 24])\n",
      "Context sequence + Generated tokens:  torch.Size([1, 1362, 24])\n",
      "MIDI file saved to /home/falaxdb/Repos/minus1/transformer_decoder_training/saved_files/saved_models/transformer_1.3/tests/threshold_025/moritz_maria.mid\n"
     ]
    },
    {
     "name": "stderr",
     "output_type": "stream",
     "text": [
      "\n",
      "\n",
      "Songs:   0%|          | 0/4 [00:00<?, ?it/s]\u001B[A\u001B[A"
     ]
    },
    {
     "name": "stdout",
     "output_type": "stream",
     "text": [
      "The song midi-unprocessed_04_r1_2008_01-04_orig_mid--audio_04_r1_2008_wav--1-split does already exist for the configuration /home/falaxdb/Repos/minus1/transformer_decoder_training/saved_files/saved_models/transformer_1.3/tests/threshold_05/midi-unprocessed_04_r1_2008_01-04_orig_mid--audio_04_r1_2008_wav--1-split_configuration.json, skipping\n",
      "The song simple_test does already exist for the configuration /home/falaxdb/Repos/minus1/transformer_decoder_training/saved_files/saved_models/transformer_1.3/tests/threshold_05/simple_test_configuration.json, skipping\n",
      "The song short_cord_progression does already exist for the configuration /home/falaxdb/Repos/minus1/transformer_decoder_training/saved_files/saved_models/transformer_1.3/tests/threshold_05/short_cord_progression_configuration.json, skipping\n",
      "sequecne tensor: torch.Size([1361, 24])\n",
      "sequence with start token tensor: torch.Size([1362, 24])\n",
      "context_seq tensor: torch.Size([1, 101, 24])\n",
      "continuing seq torch.Size([1, 1261, 24])\n",
      "Tokens to generate: 1261\n"
     ]
    },
    {
     "name": "stderr",
     "output_type": "stream",
     "text": [
      "\n",
      "\n",
      "Songs: 100%|██████████| 4/4 [00:02<00:00,  1.84it/s]\u001B[A\u001B[A\n",
      "\n",
      "                                                    \u001B[A\u001B[A\n",
      "Testing configurations:  75%|███████▌  | 6/8 [00:13<00:04,  2.19s/it]\u001B[A"
     ]
    },
    {
     "name": "stdout",
     "output_type": "stream",
     "text": [
      "Elapsed time: 2.0370 seconds\n",
      "Binary Tensors after concatinating:  torch.Size([1261, 24])\n",
      "Binary Tensors after unsqueezing:  torch.Size([1, 1261, 24])\n",
      "Context sequence + Generated tokens:  torch.Size([1, 1362, 24])\n",
      "MIDI file saved to /home/falaxdb/Repos/minus1/transformer_decoder_training/saved_files/saved_models/transformer_1.3/tests/threshold_05/moritz_maria.mid\n"
     ]
    },
    {
     "name": "stderr",
     "output_type": "stream",
     "text": [
      "\n",
      "\n",
      "Songs:   0%|          | 0/4 [00:00<?, ?it/s]\u001B[A\u001B[A"
     ]
    },
    {
     "name": "stdout",
     "output_type": "stream",
     "text": [
      "The song midi-unprocessed_04_r1_2008_01-04_orig_mid--audio_04_r1_2008_wav--1-split does already exist for the configuration /home/falaxdb/Repos/minus1/transformer_decoder_training/saved_files/saved_models/transformer_1.3/tests/threshold_03/midi-unprocessed_04_r1_2008_01-04_orig_mid--audio_04_r1_2008_wav--1-split_configuration.json, skipping\n",
      "The song simple_test does already exist for the configuration /home/falaxdb/Repos/minus1/transformer_decoder_training/saved_files/saved_models/transformer_1.3/tests/threshold_03/simple_test_configuration.json, skipping\n",
      "The song short_cord_progression does already exist for the configuration /home/falaxdb/Repos/minus1/transformer_decoder_training/saved_files/saved_models/transformer_1.3/tests/threshold_03/short_cord_progression_configuration.json, skipping\n",
      "sequecne tensor: torch.Size([1361, 24])\n",
      "sequence with start token tensor: torch.Size([1362, 24])\n",
      "context_seq tensor: torch.Size([1, 101, 24])\n",
      "continuing seq torch.Size([1, 1261, 24])\n",
      "Tokens to generate: 1261\n"
     ]
    },
    {
     "name": "stderr",
     "output_type": "stream",
     "text": [
      "\n",
      "\n",
      "Songs: 100%|██████████| 4/4 [00:02<00:00,  1.83it/s]\u001B[A\u001B[A\n",
      "\n",
      "                                                    \u001B[A\u001B[A\n",
      "Testing configurations:  88%|████████▊ | 7/8 [00:15<00:02,  2.19s/it]\u001B[A"
     ]
    },
    {
     "name": "stdout",
     "output_type": "stream",
     "text": [
      "Elapsed time: 2.0450 seconds\n",
      "Binary Tensors after concatinating:  torch.Size([1261, 24])\n",
      "Binary Tensors after unsqueezing:  torch.Size([1, 1261, 24])\n",
      "Context sequence + Generated tokens:  torch.Size([1, 1362, 24])\n",
      "MIDI file saved to /home/falaxdb/Repos/minus1/transformer_decoder_training/saved_files/saved_models/transformer_1.3/tests/threshold_03/moritz_maria.mid\n"
     ]
    },
    {
     "name": "stderr",
     "output_type": "stream",
     "text": [
      "\n",
      "\n",
      "Songs:   0%|          | 0/4 [00:00<?, ?it/s]\u001B[A\u001B[A"
     ]
    },
    {
     "name": "stdout",
     "output_type": "stream",
     "text": [
      "The song midi-unprocessed_04_r1_2008_01-04_orig_mid--audio_04_r1_2008_wav--1-split does already exist for the configuration /home/falaxdb/Repos/minus1/transformer_decoder_training/saved_files/saved_models/transformer_1.3/tests/top_k/midi-unprocessed_04_r1_2008_01-04_orig_mid--audio_04_r1_2008_wav--1-split_configuration.json, skipping\n",
      "The song simple_test does already exist for the configuration /home/falaxdb/Repos/minus1/transformer_decoder_training/saved_files/saved_models/transformer_1.3/tests/top_k/simple_test_configuration.json, skipping\n",
      "The song short_cord_progression does already exist for the configuration /home/falaxdb/Repos/minus1/transformer_decoder_training/saved_files/saved_models/transformer_1.3/tests/top_k/short_cord_progression_configuration.json, skipping\n",
      "sequecne tensor: torch.Size([1361, 24])\n",
      "sequence with start token tensor: torch.Size([1362, 24])\n",
      "context_seq tensor: torch.Size([1, 101, 24])\n",
      "continuing seq torch.Size([1, 1261, 24])\n",
      "Tokens to generate: 1261\n"
     ]
    },
    {
     "name": "stderr",
     "output_type": "stream",
     "text": [
      "\n",
      "\n",
      "Songs: 100%|██████████| 4/4 [00:02<00:00,  1.68it/s]\u001B[A\u001B[A\n",
      "\n",
      "                                                    \u001B[A\u001B[A\n",
      "Testing configurations: 100%|██████████| 8/8 [00:17<00:00,  2.25s/it]\u001B[A\n",
      "Projects:  47%|████▋     | 9/19 [03:16<03:53, 23.35s/it]             \u001B[A"
     ]
    },
    {
     "name": "stdout",
     "output_type": "stream",
     "text": [
      "Elapsed time: 2.2366 seconds\n",
      "Binary Tensors after concatinating:  torch.Size([1261, 24])\n",
      "Binary Tensors after unsqueezing:  torch.Size([1, 1261, 24])\n",
      "Context sequence + Generated tokens:  torch.Size([1, 1362, 24])\n",
      "MIDI file saved to /home/falaxdb/Repos/minus1/transformer_decoder_training/saved_files/saved_models/transformer_1.3/tests/top_k/moritz_maria.mid\n",
      "\n",
      "==============================\n",
      "Testing model transformer_1.4\n",
      "At location /home/falaxdb/Repos/minus1/transformer_decoder_training/saved_files/saved_models/transformer_1.4\n",
      "==============================\n",
      "\n",
      "Best epoch is epoch number 17\n"
     ]
    },
    {
     "name": "stderr",
     "output_type": "stream",
     "text": [
      "\n",
      "Testing configurations:   0%|          | 0/8 [00:00<?, ?it/s]\u001B[A\n",
      "\n",
      "Songs:   0%|          | 0/4 [00:00<?, ?it/s]\u001B[A\u001B[A"
     ]
    },
    {
     "name": "stdout",
     "output_type": "stream",
     "text": [
      "The song midi-unprocessed_04_r1_2008_01-04_orig_mid--audio_04_r1_2008_wav--1-split does already exist for the configuration /home/falaxdb/Repos/minus1/transformer_decoder_training/saved_files/saved_models/transformer_1.4/tests/threshold_005/midi-unprocessed_04_r1_2008_01-04_orig_mid--audio_04_r1_2008_wav--1-split_configuration.json, skipping\n",
      "The song simple_test does already exist for the configuration /home/falaxdb/Repos/minus1/transformer_decoder_training/saved_files/saved_models/transformer_1.4/tests/threshold_005/simple_test_configuration.json, skipping\n",
      "The song short_cord_progression does already exist for the configuration /home/falaxdb/Repos/minus1/transformer_decoder_training/saved_files/saved_models/transformer_1.4/tests/threshold_005/short_cord_progression_configuration.json, skipping\n",
      "sequecne tensor: torch.Size([1361, 24])\n",
      "sequence with start token tensor: torch.Size([1362, 24])\n",
      "context_seq tensor: torch.Size([1, 51, 24])\n",
      "continuing seq torch.Size([1, 1311, 24])\n",
      "Tokens to generate: 1311\n"
     ]
    },
    {
     "name": "stderr",
     "output_type": "stream",
     "text": [
      "\n",
      "\n",
      "Songs: 100%|██████████| 4/4 [00:01<00:00,  2.05it/s]\u001B[A\u001B[A\n",
      "\n",
      "                                                    \u001B[A\u001B[A\n",
      "Testing configurations:  12%|█▎        | 1/8 [00:01<00:13,  1.95s/it]\u001B[A"
     ]
    },
    {
     "name": "stdout",
     "output_type": "stream",
     "text": [
      "Elapsed time: 1.8128 seconds\n",
      "Binary Tensors after concatinating:  torch.Size([1311, 24])\n",
      "Binary Tensors after unsqueezing:  torch.Size([1, 1311, 24])\n",
      "Context sequence + Generated tokens:  torch.Size([1, 1362, 24])\n",
      "MIDI file saved to /home/falaxdb/Repos/minus1/transformer_decoder_training/saved_files/saved_models/transformer_1.4/tests/threshold_005/moritz_maria.mid\n"
     ]
    },
    {
     "name": "stderr",
     "output_type": "stream",
     "text": [
      "\n",
      "\n",
      "Songs:   0%|          | 0/4 [00:00<?, ?it/s]\u001B[A\u001B[A"
     ]
    },
    {
     "name": "stdout",
     "output_type": "stream",
     "text": [
      "The song midi-unprocessed_04_r1_2008_01-04_orig_mid--audio_04_r1_2008_wav--1-split does already exist for the configuration /home/falaxdb/Repos/minus1/transformer_decoder_training/saved_files/saved_models/transformer_1.4/tests/threshold_01/midi-unprocessed_04_r1_2008_01-04_orig_mid--audio_04_r1_2008_wav--1-split_configuration.json, skipping\n",
      "The song simple_test does already exist for the configuration /home/falaxdb/Repos/minus1/transformer_decoder_training/saved_files/saved_models/transformer_1.4/tests/threshold_01/simple_test_configuration.json, skipping\n",
      "The song short_cord_progression does already exist for the configuration /home/falaxdb/Repos/minus1/transformer_decoder_training/saved_files/saved_models/transformer_1.4/tests/threshold_01/short_cord_progression_configuration.json, skipping\n",
      "sequecne tensor: torch.Size([1361, 24])\n",
      "sequence with start token tensor: torch.Size([1362, 24])\n",
      "context_seq tensor: torch.Size([1, 51, 24])\n",
      "continuing seq torch.Size([1, 1311, 24])\n",
      "Tokens to generate: 1311\n"
     ]
    },
    {
     "name": "stderr",
     "output_type": "stream",
     "text": [
      "\n",
      "\n",
      "Songs: 100%|██████████| 4/4 [00:01<00:00,  2.06it/s]\u001B[A\u001B[A\n",
      "\n",
      "                                                    \u001B[A\u001B[A\n",
      "Testing configurations:  25%|██▌       | 2/8 [00:03<00:11,  1.95s/it]\u001B[A"
     ]
    },
    {
     "name": "stdout",
     "output_type": "stream",
     "text": [
      "Elapsed time: 1.8060 seconds\n",
      "Binary Tensors after concatinating:  torch.Size([1311, 24])\n",
      "Binary Tensors after unsqueezing:  torch.Size([1, 1311, 24])\n",
      "Context sequence + Generated tokens:  torch.Size([1, 1362, 24])\n",
      "MIDI file saved to /home/falaxdb/Repos/minus1/transformer_decoder_training/saved_files/saved_models/transformer_1.4/tests/threshold_01/moritz_maria.mid\n"
     ]
    },
    {
     "name": "stderr",
     "output_type": "stream",
     "text": [
      "\n",
      "\n",
      "Songs:   0%|          | 0/4 [00:00<?, ?it/s]\u001B[A\u001B[A"
     ]
    },
    {
     "name": "stdout",
     "output_type": "stream",
     "text": [
      "The song midi-unprocessed_04_r1_2008_01-04_orig_mid--audio_04_r1_2008_wav--1-split does already exist for the configuration /home/falaxdb/Repos/minus1/transformer_decoder_training/saved_files/saved_models/transformer_1.4/tests/threshold_015/midi-unprocessed_04_r1_2008_01-04_orig_mid--audio_04_r1_2008_wav--1-split_configuration.json, skipping\n",
      "The song simple_test does already exist for the configuration /home/falaxdb/Repos/minus1/transformer_decoder_training/saved_files/saved_models/transformer_1.4/tests/threshold_015/simple_test_configuration.json, skipping\n",
      "The song short_cord_progression does already exist for the configuration /home/falaxdb/Repos/minus1/transformer_decoder_training/saved_files/saved_models/transformer_1.4/tests/threshold_015/short_cord_progression_configuration.json, skipping\n",
      "sequecne tensor: torch.Size([1361, 24])\n",
      "sequence with start token tensor: torch.Size([1362, 24])\n",
      "context_seq tensor: torch.Size([1, 51, 24])\n",
      "continuing seq torch.Size([1, 1311, 24])\n",
      "Tokens to generate: 1311\n"
     ]
    },
    {
     "name": "stderr",
     "output_type": "stream",
     "text": [
      "\n",
      "\n",
      "Songs: 100%|██████████| 4/4 [00:02<00:00,  2.00it/s]\u001B[A\u001B[A\n",
      "\n",
      "                                                    \u001B[A\u001B[A\n",
      "Testing configurations:  38%|███▊      | 3/8 [00:05<00:09,  1.97s/it]\u001B[A"
     ]
    },
    {
     "name": "stdout",
     "output_type": "stream",
     "text": [
      "Elapsed time: 1.8257 seconds\n",
      "Binary Tensors after concatinating:  torch.Size([1311, 24])\n",
      "Binary Tensors after unsqueezing:  torch.Size([1, 1311, 24])\n",
      "Context sequence + Generated tokens:  torch.Size([1, 1362, 24])\n",
      "MIDI file saved to /home/falaxdb/Repos/minus1/transformer_decoder_training/saved_files/saved_models/transformer_1.4/tests/threshold_015/moritz_maria.mid\n"
     ]
    },
    {
     "name": "stderr",
     "output_type": "stream",
     "text": [
      "\n",
      "\n",
      "Songs:   0%|          | 0/4 [00:00<?, ?it/s]\u001B[A\u001B[A"
     ]
    },
    {
     "name": "stdout",
     "output_type": "stream",
     "text": [
      "The song midi-unprocessed_04_r1_2008_01-04_orig_mid--audio_04_r1_2008_wav--1-split does already exist for the configuration /home/falaxdb/Repos/minus1/transformer_decoder_training/saved_files/saved_models/transformer_1.4/tests/threshold_02/midi-unprocessed_04_r1_2008_01-04_orig_mid--audio_04_r1_2008_wav--1-split_configuration.json, skipping\n",
      "The song simple_test does already exist for the configuration /home/falaxdb/Repos/minus1/transformer_decoder_training/saved_files/saved_models/transformer_1.4/tests/threshold_02/simple_test_configuration.json, skipping\n",
      "The song short_cord_progression does already exist for the configuration /home/falaxdb/Repos/minus1/transformer_decoder_training/saved_files/saved_models/transformer_1.4/tests/threshold_02/short_cord_progression_configuration.json, skipping\n",
      "sequecne tensor: torch.Size([1361, 24])\n",
      "sequence with start token tensor: torch.Size([1362, 24])\n",
      "context_seq tensor: torch.Size([1, 51, 24])\n",
      "continuing seq torch.Size([1, 1311, 24])\n",
      "Tokens to generate: 1311\n"
     ]
    },
    {
     "name": "stderr",
     "output_type": "stream",
     "text": [
      "\n",
      "\n",
      "Songs: 100%|██████████| 4/4 [00:01<00:00,  2.05it/s]\u001B[A\u001B[A\n",
      "\n",
      "                                                    \u001B[A\u001B[A\n",
      "Testing configurations:  50%|█████     | 4/8 [00:07<00:07,  1.97s/it]\u001B[A"
     ]
    },
    {
     "name": "stdout",
     "output_type": "stream",
     "text": [
      "Elapsed time: 1.8086 seconds\n",
      "Binary Tensors after concatinating:  torch.Size([1311, 24])\n",
      "Binary Tensors after unsqueezing:  torch.Size([1, 1311, 24])\n",
      "Context sequence + Generated tokens:  torch.Size([1, 1362, 24])\n",
      "MIDI file saved to /home/falaxdb/Repos/minus1/transformer_decoder_training/saved_files/saved_models/transformer_1.4/tests/threshold_02/moritz_maria.mid\n"
     ]
    },
    {
     "name": "stderr",
     "output_type": "stream",
     "text": [
      "\n",
      "\n",
      "Songs:   0%|          | 0/4 [00:00<?, ?it/s]\u001B[A\u001B[A"
     ]
    },
    {
     "name": "stdout",
     "output_type": "stream",
     "text": [
      "The song midi-unprocessed_04_r1_2008_01-04_orig_mid--audio_04_r1_2008_wav--1-split does already exist for the configuration /home/falaxdb/Repos/minus1/transformer_decoder_training/saved_files/saved_models/transformer_1.4/tests/threshold_025/midi-unprocessed_04_r1_2008_01-04_orig_mid--audio_04_r1_2008_wav--1-split_configuration.json, skipping\n",
      "The song simple_test does already exist for the configuration /home/falaxdb/Repos/minus1/transformer_decoder_training/saved_files/saved_models/transformer_1.4/tests/threshold_025/simple_test_configuration.json, skipping\n",
      "The song short_cord_progression does already exist for the configuration /home/falaxdb/Repos/minus1/transformer_decoder_training/saved_files/saved_models/transformer_1.4/tests/threshold_025/short_cord_progression_configuration.json, skipping\n",
      "sequecne tensor: torch.Size([1361, 24])\n",
      "sequence with start token tensor: torch.Size([1362, 24])\n",
      "context_seq tensor: torch.Size([1, 51, 24])\n",
      "continuing seq torch.Size([1, 1311, 24])\n",
      "Tokens to generate: 1311\n"
     ]
    },
    {
     "name": "stderr",
     "output_type": "stream",
     "text": [
      "\n",
      "\n",
      "Songs: 100%|██████████| 4/4 [00:01<00:00,  2.04it/s]\u001B[A\u001B[A\n",
      "\n",
      "                                                    \u001B[A\u001B[A\n",
      "Testing configurations:  62%|██████▎   | 5/8 [00:09<00:05,  1.97s/it]\u001B[A"
     ]
    },
    {
     "name": "stdout",
     "output_type": "stream",
     "text": [
      "Elapsed time: 1.8221 seconds\n",
      "Binary Tensors after concatinating:  torch.Size([1311, 24])\n",
      "Binary Tensors after unsqueezing:  torch.Size([1, 1311, 24])\n",
      "Context sequence + Generated tokens:  torch.Size([1, 1362, 24])\n",
      "MIDI file saved to /home/falaxdb/Repos/minus1/transformer_decoder_training/saved_files/saved_models/transformer_1.4/tests/threshold_025/moritz_maria.mid\n"
     ]
    },
    {
     "name": "stderr",
     "output_type": "stream",
     "text": [
      "\n",
      "\n",
      "Songs:   0%|          | 0/4 [00:00<?, ?it/s]\u001B[A\u001B[A"
     ]
    },
    {
     "name": "stdout",
     "output_type": "stream",
     "text": [
      "The song midi-unprocessed_04_r1_2008_01-04_orig_mid--audio_04_r1_2008_wav--1-split does already exist for the configuration /home/falaxdb/Repos/minus1/transformer_decoder_training/saved_files/saved_models/transformer_1.4/tests/threshold_05/midi-unprocessed_04_r1_2008_01-04_orig_mid--audio_04_r1_2008_wav--1-split_configuration.json, skipping\n",
      "The song simple_test does already exist for the configuration /home/falaxdb/Repos/minus1/transformer_decoder_training/saved_files/saved_models/transformer_1.4/tests/threshold_05/simple_test_configuration.json, skipping\n",
      "The song short_cord_progression does already exist for the configuration /home/falaxdb/Repos/minus1/transformer_decoder_training/saved_files/saved_models/transformer_1.4/tests/threshold_05/short_cord_progression_configuration.json, skipping\n",
      "sequecne tensor: torch.Size([1361, 24])\n",
      "sequence with start token tensor: torch.Size([1362, 24])\n",
      "context_seq tensor: torch.Size([1, 51, 24])\n",
      "continuing seq torch.Size([1, 1311, 24])\n",
      "Tokens to generate: 1311\n"
     ]
    },
    {
     "name": "stderr",
     "output_type": "stream",
     "text": [
      "\n",
      "\n",
      "Songs: 100%|██████████| 4/4 [00:01<00:00,  2.02it/s]\u001B[A\u001B[A\n",
      "\n",
      "                                                    \u001B[A\u001B[A\n",
      "Testing configurations:  75%|███████▌  | 6/8 [00:11<00:03,  1.97s/it]\u001B[A"
     ]
    },
    {
     "name": "stdout",
     "output_type": "stream",
     "text": [
      "Elapsed time: 1.8403 seconds\n",
      "Binary Tensors after concatinating:  torch.Size([1311, 24])\n",
      "Binary Tensors after unsqueezing:  torch.Size([1, 1311, 24])\n",
      "Context sequence + Generated tokens:  torch.Size([1, 1362, 24])\n",
      "MIDI file saved to /home/falaxdb/Repos/minus1/transformer_decoder_training/saved_files/saved_models/transformer_1.4/tests/threshold_05/moritz_maria.mid\n"
     ]
    },
    {
     "name": "stderr",
     "output_type": "stream",
     "text": [
      "\n",
      "\n",
      "Songs:   0%|          | 0/4 [00:00<?, ?it/s]\u001B[A\u001B[A"
     ]
    },
    {
     "name": "stdout",
     "output_type": "stream",
     "text": [
      "The song midi-unprocessed_04_r1_2008_01-04_orig_mid--audio_04_r1_2008_wav--1-split does already exist for the configuration /home/falaxdb/Repos/minus1/transformer_decoder_training/saved_files/saved_models/transformer_1.4/tests/threshold_03/midi-unprocessed_04_r1_2008_01-04_orig_mid--audio_04_r1_2008_wav--1-split_configuration.json, skipping\n",
      "The song simple_test does already exist for the configuration /home/falaxdb/Repos/minus1/transformer_decoder_training/saved_files/saved_models/transformer_1.4/tests/threshold_03/simple_test_configuration.json, skipping\n",
      "The song short_cord_progression does already exist for the configuration /home/falaxdb/Repos/minus1/transformer_decoder_training/saved_files/saved_models/transformer_1.4/tests/threshold_03/short_cord_progression_configuration.json, skipping\n",
      "sequecne tensor: torch.Size([1361, 24])\n",
      "sequence with start token tensor: torch.Size([1362, 24])\n",
      "context_seq tensor: torch.Size([1, 51, 24])\n",
      "continuing seq torch.Size([1, 1311, 24])\n",
      "Tokens to generate: 1311\n"
     ]
    },
    {
     "name": "stderr",
     "output_type": "stream",
     "text": [
      "\n",
      "\n",
      "Songs: 100%|██████████| 4/4 [00:01<00:00,  2.05it/s]\u001B[A\u001B[A\n",
      "\n",
      "                                                    \u001B[A\u001B[A\n",
      "Testing configurations:  88%|████████▊ | 7/8 [00:13<00:01,  1.96s/it]\u001B[A"
     ]
    },
    {
     "name": "stdout",
     "output_type": "stream",
     "text": [
      "Elapsed time: 1.8102 seconds\n",
      "Binary Tensors after concatinating:  torch.Size([1311, 24])\n",
      "Binary Tensors after unsqueezing:  torch.Size([1, 1311, 24])\n",
      "Context sequence + Generated tokens:  torch.Size([1, 1362, 24])\n",
      "MIDI file saved to /home/falaxdb/Repos/minus1/transformer_decoder_training/saved_files/saved_models/transformer_1.4/tests/threshold_03/moritz_maria.mid\n"
     ]
    },
    {
     "name": "stderr",
     "output_type": "stream",
     "text": [
      "\n",
      "\n",
      "Songs:   0%|          | 0/4 [00:00<?, ?it/s]\u001B[A\u001B[A"
     ]
    },
    {
     "name": "stdout",
     "output_type": "stream",
     "text": [
      "The song midi-unprocessed_04_r1_2008_01-04_orig_mid--audio_04_r1_2008_wav--1-split does already exist for the configuration /home/falaxdb/Repos/minus1/transformer_decoder_training/saved_files/saved_models/transformer_1.4/tests/top_k/midi-unprocessed_04_r1_2008_01-04_orig_mid--audio_04_r1_2008_wav--1-split_configuration.json, skipping\n",
      "The song simple_test does already exist for the configuration /home/falaxdb/Repos/minus1/transformer_decoder_training/saved_files/saved_models/transformer_1.4/tests/top_k/simple_test_configuration.json, skipping\n",
      "The song short_cord_progression does already exist for the configuration /home/falaxdb/Repos/minus1/transformer_decoder_training/saved_files/saved_models/transformer_1.4/tests/top_k/short_cord_progression_configuration.json, skipping\n",
      "sequecne tensor: torch.Size([1361, 24])\n",
      "sequence with start token tensor: torch.Size([1362, 24])\n",
      "context_seq tensor: torch.Size([1, 51, 24])\n",
      "continuing seq torch.Size([1, 1311, 24])\n",
      "Tokens to generate: 1311\n"
     ]
    },
    {
     "name": "stderr",
     "output_type": "stream",
     "text": [
      "\n",
      "\n",
      "Songs: 100%|██████████| 4/4 [00:02<00:00,  1.85it/s]\u001B[A\u001B[A\n",
      "\n",
      "                                                    \u001B[A\u001B[A\n",
      "Testing configurations: 100%|██████████| 8/8 [00:15<00:00,  2.03s/it]\u001B[A\n",
      "Projects:  53%|█████▎    | 10/19 [03:33<03:11, 21.31s/it]            \u001B[A"
     ]
    },
    {
     "name": "stdout",
     "output_type": "stream",
     "text": [
      "Elapsed time: 2.0249 seconds\n",
      "Binary Tensors after concatinating:  torch.Size([1311, 24])\n",
      "Binary Tensors after unsqueezing:  torch.Size([1, 1311, 24])\n",
      "Context sequence + Generated tokens:  torch.Size([1, 1362, 24])\n",
      "MIDI file saved to /home/falaxdb/Repos/minus1/transformer_decoder_training/saved_files/saved_models/transformer_1.4/tests/top_k/moritz_maria.mid\n",
      "\n",
      "==============================\n",
      "Testing model transformer_1.5\n",
      "At location /home/falaxdb/Repos/minus1/transformer_decoder_training/saved_files/saved_models/transformer_1.5\n",
      "==============================\n",
      "\n",
      "Best epoch is epoch number 5\n"
     ]
    },
    {
     "name": "stderr",
     "output_type": "stream",
     "text": [
      "\n",
      "Testing configurations:   0%|          | 0/8 [00:00<?, ?it/s]\u001B[A\n",
      "\n",
      "Songs:   0%|          | 0/4 [00:00<?, ?it/s]\u001B[A\u001B[A"
     ]
    },
    {
     "name": "stdout",
     "output_type": "stream",
     "text": [
      "The song midi-unprocessed_04_r1_2008_01-04_orig_mid--audio_04_r1_2008_wav--1-split does already exist for the configuration /home/falaxdb/Repos/minus1/transformer_decoder_training/saved_files/saved_models/transformer_1.5/tests/threshold_005/midi-unprocessed_04_r1_2008_01-04_orig_mid--audio_04_r1_2008_wav--1-split_configuration.json, skipping\n",
      "The song simple_test does already exist for the configuration /home/falaxdb/Repos/minus1/transformer_decoder_training/saved_files/saved_models/transformer_1.5/tests/threshold_005/simple_test_configuration.json, skipping\n",
      "The song short_cord_progression does already exist for the configuration /home/falaxdb/Repos/minus1/transformer_decoder_training/saved_files/saved_models/transformer_1.5/tests/threshold_005/short_cord_progression_configuration.json, skipping\n",
      "sequecne tensor: torch.Size([1361, 24])\n",
      "sequence with start token tensor: torch.Size([1362, 24])\n",
      "context_seq tensor: torch.Size([1, 201, 24])\n",
      "continuing seq torch.Size([1, 1161, 24])\n",
      "Tokens to generate: 1161\n"
     ]
    },
    {
     "name": "stderr",
     "output_type": "stream",
     "text": [
      "\n",
      "\n",
      "Songs: 100%|██████████| 4/4 [00:02<00:00,  1.35it/s]\u001B[A\u001B[A\n",
      "\n",
      "                                                    \u001B[A\u001B[A\n",
      "Testing configurations:  12%|█▎        | 1/8 [00:02<00:20,  2.97s/it]\u001B[A"
     ]
    },
    {
     "name": "stdout",
     "output_type": "stream",
     "text": [
      "Elapsed time: 2.8162 seconds\n",
      "Binary Tensors after concatinating:  torch.Size([1161, 24])\n",
      "Binary Tensors after unsqueezing:  torch.Size([1, 1161, 24])\n",
      "Context sequence + Generated tokens:  torch.Size([1, 1362, 24])\n",
      "MIDI file saved to /home/falaxdb/Repos/minus1/transformer_decoder_training/saved_files/saved_models/transformer_1.5/tests/threshold_005/moritz_maria.mid\n"
     ]
    },
    {
     "name": "stderr",
     "output_type": "stream",
     "text": [
      "\n",
      "\n",
      "Songs:   0%|          | 0/4 [00:00<?, ?it/s]\u001B[A\u001B[A"
     ]
    },
    {
     "name": "stdout",
     "output_type": "stream",
     "text": [
      "The song midi-unprocessed_04_r1_2008_01-04_orig_mid--audio_04_r1_2008_wav--1-split does already exist for the configuration /home/falaxdb/Repos/minus1/transformer_decoder_training/saved_files/saved_models/transformer_1.5/tests/threshold_01/midi-unprocessed_04_r1_2008_01-04_orig_mid--audio_04_r1_2008_wav--1-split_configuration.json, skipping\n",
      "The song simple_test does already exist for the configuration /home/falaxdb/Repos/minus1/transformer_decoder_training/saved_files/saved_models/transformer_1.5/tests/threshold_01/simple_test_configuration.json, skipping\n",
      "The song short_cord_progression does already exist for the configuration /home/falaxdb/Repos/minus1/transformer_decoder_training/saved_files/saved_models/transformer_1.5/tests/threshold_01/short_cord_progression_configuration.json, skipping\n",
      "sequecne tensor: torch.Size([1361, 24])\n",
      "sequence with start token tensor: torch.Size([1362, 24])\n",
      "context_seq tensor: torch.Size([1, 201, 24])\n",
      "continuing seq torch.Size([1, 1161, 24])\n",
      "Tokens to generate: 1161\n"
     ]
    },
    {
     "name": "stderr",
     "output_type": "stream",
     "text": [
      "\n",
      "\n",
      "Songs: 100%|██████████| 4/4 [00:02<00:00,  1.35it/s]\u001B[A\u001B[A\n",
      "\n",
      "                                                    \u001B[A\u001B[A\n",
      "Testing configurations:  25%|██▌       | 2/8 [00:05<00:17,  2.97s/it]\u001B[A"
     ]
    },
    {
     "name": "stdout",
     "output_type": "stream",
     "text": [
      "Elapsed time: 2.8237 seconds\n",
      "Binary Tensors after concatinating:  torch.Size([1161, 24])\n",
      "Binary Tensors after unsqueezing:  torch.Size([1, 1161, 24])\n",
      "Context sequence + Generated tokens:  torch.Size([1, 1362, 24])\n",
      "MIDI file saved to /home/falaxdb/Repos/minus1/transformer_decoder_training/saved_files/saved_models/transformer_1.5/tests/threshold_01/moritz_maria.mid\n"
     ]
    },
    {
     "name": "stderr",
     "output_type": "stream",
     "text": [
      "\n",
      "\n",
      "Songs:   0%|          | 0/4 [00:00<?, ?it/s]\u001B[A\u001B[A"
     ]
    },
    {
     "name": "stdout",
     "output_type": "stream",
     "text": [
      "The song midi-unprocessed_04_r1_2008_01-04_orig_mid--audio_04_r1_2008_wav--1-split does already exist for the configuration /home/falaxdb/Repos/minus1/transformer_decoder_training/saved_files/saved_models/transformer_1.5/tests/threshold_015/midi-unprocessed_04_r1_2008_01-04_orig_mid--audio_04_r1_2008_wav--1-split_configuration.json, skipping\n",
      "The song simple_test does already exist for the configuration /home/falaxdb/Repos/minus1/transformer_decoder_training/saved_files/saved_models/transformer_1.5/tests/threshold_015/simple_test_configuration.json, skipping\n",
      "The song short_cord_progression does already exist for the configuration /home/falaxdb/Repos/minus1/transformer_decoder_training/saved_files/saved_models/transformer_1.5/tests/threshold_015/short_cord_progression_configuration.json, skipping\n",
      "sequecne tensor: torch.Size([1361, 24])\n",
      "sequence with start token tensor: torch.Size([1362, 24])\n",
      "context_seq tensor: torch.Size([1, 201, 24])\n",
      "continuing seq torch.Size([1, 1161, 24])\n",
      "Tokens to generate: 1161\n"
     ]
    },
    {
     "name": "stderr",
     "output_type": "stream",
     "text": [
      "\n",
      "\n",
      "Songs: 100%|██████████| 4/4 [00:02<00:00,  1.35it/s]\u001B[A\u001B[A\n",
      "\n",
      "                                                    \u001B[A\u001B[A\n",
      "Testing configurations:  38%|███▊      | 3/8 [00:08<00:14,  2.97s/it]\u001B[A"
     ]
    },
    {
     "name": "stdout",
     "output_type": "stream",
     "text": [
      "Elapsed time: 2.8174 seconds\n",
      "Binary Tensors after concatinating:  torch.Size([1161, 24])\n",
      "Binary Tensors after unsqueezing:  torch.Size([1, 1161, 24])\n",
      "Context sequence + Generated tokens:  torch.Size([1, 1362, 24])\n",
      "MIDI file saved to /home/falaxdb/Repos/minus1/transformer_decoder_training/saved_files/saved_models/transformer_1.5/tests/threshold_015/moritz_maria.mid\n"
     ]
    },
    {
     "name": "stderr",
     "output_type": "stream",
     "text": [
      "\n",
      "\n",
      "Songs:   0%|          | 0/4 [00:00<?, ?it/s]\u001B[A\u001B[A"
     ]
    },
    {
     "name": "stdout",
     "output_type": "stream",
     "text": [
      "The song midi-unprocessed_04_r1_2008_01-04_orig_mid--audio_04_r1_2008_wav--1-split does already exist for the configuration /home/falaxdb/Repos/minus1/transformer_decoder_training/saved_files/saved_models/transformer_1.5/tests/threshold_02/midi-unprocessed_04_r1_2008_01-04_orig_mid--audio_04_r1_2008_wav--1-split_configuration.json, skipping\n",
      "The song simple_test does already exist for the configuration /home/falaxdb/Repos/minus1/transformer_decoder_training/saved_files/saved_models/transformer_1.5/tests/threshold_02/simple_test_configuration.json, skipping\n",
      "The song short_cord_progression does already exist for the configuration /home/falaxdb/Repos/minus1/transformer_decoder_training/saved_files/saved_models/transformer_1.5/tests/threshold_02/short_cord_progression_configuration.json, skipping\n",
      "sequecne tensor: torch.Size([1361, 24])\n",
      "sequence with start token tensor: torch.Size([1362, 24])\n",
      "context_seq tensor: torch.Size([1, 201, 24])\n",
      "continuing seq torch.Size([1, 1161, 24])\n",
      "Tokens to generate: 1161\n"
     ]
    },
    {
     "name": "stderr",
     "output_type": "stream",
     "text": [
      "\n",
      "\n",
      "Songs: 100%|██████████| 4/4 [00:02<00:00,  1.35it/s]\u001B[A\u001B[A\n",
      "\n",
      "                                                    \u001B[A\u001B[A\n",
      "Testing configurations:  50%|█████     | 4/8 [00:11<00:11,  2.97s/it]\u001B[A"
     ]
    },
    {
     "name": "stdout",
     "output_type": "stream",
     "text": [
      "Elapsed time: 2.8137 seconds\n",
      "Binary Tensors after concatinating:  torch.Size([1161, 24])\n",
      "Binary Tensors after unsqueezing:  torch.Size([1, 1161, 24])\n",
      "Context sequence + Generated tokens:  torch.Size([1, 1362, 24])\n",
      "MIDI file saved to /home/falaxdb/Repos/minus1/transformer_decoder_training/saved_files/saved_models/transformer_1.5/tests/threshold_02/moritz_maria.mid\n"
     ]
    },
    {
     "name": "stderr",
     "output_type": "stream",
     "text": [
      "\n",
      "\n",
      "Songs:   0%|          | 0/4 [00:00<?, ?it/s]\u001B[A\u001B[A"
     ]
    },
    {
     "name": "stdout",
     "output_type": "stream",
     "text": [
      "The song midi-unprocessed_04_r1_2008_01-04_orig_mid--audio_04_r1_2008_wav--1-split does already exist for the configuration /home/falaxdb/Repos/minus1/transformer_decoder_training/saved_files/saved_models/transformer_1.5/tests/threshold_025/midi-unprocessed_04_r1_2008_01-04_orig_mid--audio_04_r1_2008_wav--1-split_configuration.json, skipping\n",
      "The song simple_test does already exist for the configuration /home/falaxdb/Repos/minus1/transformer_decoder_training/saved_files/saved_models/transformer_1.5/tests/threshold_025/simple_test_configuration.json, skipping\n",
      "The song short_cord_progression does already exist for the configuration /home/falaxdb/Repos/minus1/transformer_decoder_training/saved_files/saved_models/transformer_1.5/tests/threshold_025/short_cord_progression_configuration.json, skipping\n",
      "sequecne tensor: torch.Size([1361, 24])\n",
      "sequence with start token tensor: torch.Size([1362, 24])\n",
      "context_seq tensor: torch.Size([1, 201, 24])\n",
      "continuing seq torch.Size([1, 1161, 24])\n",
      "Tokens to generate: 1161\n"
     ]
    },
    {
     "name": "stderr",
     "output_type": "stream",
     "text": [
      "\n",
      "\n",
      "Songs: 100%|██████████| 4/4 [00:02<00:00,  1.34it/s]\u001B[A\u001B[A\n",
      "\n",
      "                                                    \u001B[A\u001B[A\n",
      "Testing configurations:  62%|██████▎   | 5/8 [00:14<00:08,  2.98s/it]\u001B[A"
     ]
    },
    {
     "name": "stdout",
     "output_type": "stream",
     "text": [
      "Elapsed time: 2.8067 seconds\n",
      "Binary Tensors after concatinating:  torch.Size([1161, 24])\n",
      "Binary Tensors after unsqueezing:  torch.Size([1, 1161, 24])\n",
      "Context sequence + Generated tokens:  torch.Size([1, 1362, 24])\n",
      "MIDI file saved to /home/falaxdb/Repos/minus1/transformer_decoder_training/saved_files/saved_models/transformer_1.5/tests/threshold_025/moritz_maria.mid\n"
     ]
    },
    {
     "name": "stderr",
     "output_type": "stream",
     "text": [
      "\n",
      "\n",
      "Songs:   0%|          | 0/4 [00:00<?, ?it/s]\u001B[A\u001B[A"
     ]
    },
    {
     "name": "stdout",
     "output_type": "stream",
     "text": [
      "The song midi-unprocessed_04_r1_2008_01-04_orig_mid--audio_04_r1_2008_wav--1-split does already exist for the configuration /home/falaxdb/Repos/minus1/transformer_decoder_training/saved_files/saved_models/transformer_1.5/tests/threshold_05/midi-unprocessed_04_r1_2008_01-04_orig_mid--audio_04_r1_2008_wav--1-split_configuration.json, skipping\n",
      "The song simple_test does already exist for the configuration /home/falaxdb/Repos/minus1/transformer_decoder_training/saved_files/saved_models/transformer_1.5/tests/threshold_05/simple_test_configuration.json, skipping\n",
      "The song short_cord_progression does already exist for the configuration /home/falaxdb/Repos/minus1/transformer_decoder_training/saved_files/saved_models/transformer_1.5/tests/threshold_05/short_cord_progression_configuration.json, skipping\n",
      "sequecne tensor: torch.Size([1361, 24])\n",
      "sequence with start token tensor: torch.Size([1362, 24])\n",
      "context_seq tensor: torch.Size([1, 201, 24])\n",
      "continuing seq torch.Size([1, 1161, 24])\n",
      "Tokens to generate: 1161\n"
     ]
    },
    {
     "name": "stderr",
     "output_type": "stream",
     "text": [
      "\n",
      "\n",
      "Songs: 100%|██████████| 4/4 [00:02<00:00,  1.35it/s]\u001B[A\u001B[A\n",
      "\n",
      "                                                    \u001B[A\u001B[A\n",
      "Testing configurations:  75%|███████▌  | 6/8 [00:17<00:05,  2.97s/it]\u001B[A"
     ]
    },
    {
     "name": "stdout",
     "output_type": "stream",
     "text": [
      "Elapsed time: 2.8158 seconds\n",
      "Binary Tensors after concatinating:  torch.Size([1161, 24])\n",
      "Binary Tensors after unsqueezing:  torch.Size([1, 1161, 24])\n",
      "Context sequence + Generated tokens:  torch.Size([1, 1362, 24])\n",
      "MIDI file saved to /home/falaxdb/Repos/minus1/transformer_decoder_training/saved_files/saved_models/transformer_1.5/tests/threshold_05/moritz_maria.mid\n"
     ]
    },
    {
     "name": "stderr",
     "output_type": "stream",
     "text": [
      "\n",
      "\n",
      "Songs:   0%|          | 0/4 [00:00<?, ?it/s]\u001B[A\u001B[A"
     ]
    },
    {
     "name": "stdout",
     "output_type": "stream",
     "text": [
      "The song midi-unprocessed_04_r1_2008_01-04_orig_mid--audio_04_r1_2008_wav--1-split does already exist for the configuration /home/falaxdb/Repos/minus1/transformer_decoder_training/saved_files/saved_models/transformer_1.5/tests/threshold_03/midi-unprocessed_04_r1_2008_01-04_orig_mid--audio_04_r1_2008_wav--1-split_configuration.json, skipping\n",
      "The song simple_test does already exist for the configuration /home/falaxdb/Repos/minus1/transformer_decoder_training/saved_files/saved_models/transformer_1.5/tests/threshold_03/simple_test_configuration.json, skipping\n",
      "The song short_cord_progression does already exist for the configuration /home/falaxdb/Repos/minus1/transformer_decoder_training/saved_files/saved_models/transformer_1.5/tests/threshold_03/short_cord_progression_configuration.json, skipping\n",
      "sequecne tensor: torch.Size([1361, 24])\n",
      "sequence with start token tensor: torch.Size([1362, 24])\n",
      "context_seq tensor: torch.Size([1, 201, 24])\n",
      "continuing seq torch.Size([1, 1161, 24])\n",
      "Tokens to generate: 1161\n"
     ]
    },
    {
     "name": "stderr",
     "output_type": "stream",
     "text": [
      "\n",
      "\n",
      "Songs: 100%|██████████| 4/4 [00:02<00:00,  1.35it/s]\u001B[A\u001B[A\n",
      "\n",
      "                                                    \u001B[A\u001B[A\n",
      "Testing configurations:  88%|████████▊ | 7/8 [00:20<00:02,  2.97s/it]\u001B[A"
     ]
    },
    {
     "name": "stdout",
     "output_type": "stream",
     "text": [
      "Elapsed time: 2.8222 seconds\n",
      "Binary Tensors after concatinating:  torch.Size([1161, 24])\n",
      "Binary Tensors after unsqueezing:  torch.Size([1, 1161, 24])\n",
      "Context sequence + Generated tokens:  torch.Size([1, 1362, 24])\n",
      "MIDI file saved to /home/falaxdb/Repos/minus1/transformer_decoder_training/saved_files/saved_models/transformer_1.5/tests/threshold_03/moritz_maria.mid\n"
     ]
    },
    {
     "name": "stderr",
     "output_type": "stream",
     "text": [
      "\n",
      "\n",
      "Songs:   0%|          | 0/4 [00:00<?, ?it/s]\u001B[A\u001B[A"
     ]
    },
    {
     "name": "stdout",
     "output_type": "stream",
     "text": [
      "The song midi-unprocessed_04_r1_2008_01-04_orig_mid--audio_04_r1_2008_wav--1-split does already exist for the configuration /home/falaxdb/Repos/minus1/transformer_decoder_training/saved_files/saved_models/transformer_1.5/tests/top_k/midi-unprocessed_04_r1_2008_01-04_orig_mid--audio_04_r1_2008_wav--1-split_configuration.json, skipping\n",
      "The song simple_test does already exist for the configuration /home/falaxdb/Repos/minus1/transformer_decoder_training/saved_files/saved_models/transformer_1.5/tests/top_k/simple_test_configuration.json, skipping\n",
      "The song short_cord_progression does already exist for the configuration /home/falaxdb/Repos/minus1/transformer_decoder_training/saved_files/saved_models/transformer_1.5/tests/top_k/short_cord_progression_configuration.json, skipping\n",
      "sequecne tensor: torch.Size([1361, 24])\n",
      "sequence with start token tensor: torch.Size([1362, 24])\n",
      "context_seq tensor: torch.Size([1, 201, 24])\n",
      "continuing seq torch.Size([1, 1161, 24])\n",
      "Tokens to generate: 1161\n"
     ]
    },
    {
     "name": "stderr",
     "output_type": "stream",
     "text": [
      "\n",
      "\n",
      "Songs: 100%|██████████| 4/4 [00:03<00:00,  1.26it/s]\u001B[A\u001B[A\n",
      "\n",
      "                                                    \u001B[A\u001B[A\n",
      "Testing configurations: 100%|██████████| 8/8 [00:23<00:00,  3.04s/it]\u001B[A\n",
      "Projects:  58%|█████▊    | 11/19 [03:57<02:59, 22.38s/it]            \u001B[A"
     ]
    },
    {
     "name": "stdout",
     "output_type": "stream",
     "text": [
      "Elapsed time: 3.0343 seconds\n",
      "Binary Tensors after concatinating:  torch.Size([1161, 24])\n",
      "Binary Tensors after unsqueezing:  torch.Size([1, 1161, 24])\n",
      "Context sequence + Generated tokens:  torch.Size([1, 1362, 24])\n",
      "MIDI file saved to /home/falaxdb/Repos/minus1/transformer_decoder_training/saved_files/saved_models/transformer_1.5/tests/top_k/moritz_maria.mid\n",
      "\n",
      "==============================\n",
      "Testing model transformer_1.6\n",
      "At location /home/falaxdb/Repos/minus1/transformer_decoder_training/saved_files/saved_models/transformer_1.6\n",
      "==============================\n",
      "\n",
      "Best epoch is epoch number 11\n"
     ]
    },
    {
     "name": "stderr",
     "output_type": "stream",
     "text": [
      "\n",
      "Testing configurations:   0%|          | 0/8 [00:00<?, ?it/s]\u001B[A\n",
      "\n",
      "Songs:   0%|          | 0/4 [00:00<?, ?it/s]\u001B[A\u001B[A"
     ]
    },
    {
     "name": "stdout",
     "output_type": "stream",
     "text": [
      "The song midi-unprocessed_04_r1_2008_01-04_orig_mid--audio_04_r1_2008_wav--1-split does already exist for the configuration /home/falaxdb/Repos/minus1/transformer_decoder_training/saved_files/saved_models/transformer_1.6/tests/threshold_005/midi-unprocessed_04_r1_2008_01-04_orig_mid--audio_04_r1_2008_wav--1-split_configuration.json, skipping\n",
      "The song simple_test does already exist for the configuration /home/falaxdb/Repos/minus1/transformer_decoder_training/saved_files/saved_models/transformer_1.6/tests/threshold_005/simple_test_configuration.json, skipping\n",
      "The song short_cord_progression does already exist for the configuration /home/falaxdb/Repos/minus1/transformer_decoder_training/saved_files/saved_models/transformer_1.6/tests/threshold_005/short_cord_progression_configuration.json, skipping\n",
      "sequecne tensor: torch.Size([1361, 24])\n",
      "sequence with start token tensor: torch.Size([1362, 24])\n",
      "context_seq tensor: torch.Size([1, 513, 24])\n",
      "continuing seq torch.Size([1, 849, 24])\n",
      "Tokens to generate: 849\n",
      "Elapsed time: 12.4640 seconds\n",
      "Binary Tensors after concatinating:  torch.Size([849, 24])\n",
      "Binary Tensors after unsqueezing:  torch.Size([1, 849, 24])\n",
      "Context sequence + Generated tokens:  torch.Size([1, 1362, 24])\n",
      "MIDI file saved to /home/falaxdb/Repos/minus1/transformer_decoder_training/saved_files/saved_models/transformer_1.6/tests/threshold_005/moritz_maria.mid\n"
     ]
    },
    {
     "name": "stderr",
     "output_type": "stream",
     "text": [
      "\n",
      "\n",
      "Songs: 100%|██████████| 4/4 [00:12<00:00,  3.17s/it]\u001B[A\u001B[A\n",
      "\n",
      "                                                    \u001B[A\u001B[A\n",
      "Testing configurations:  12%|█▎        | 1/8 [00:12<01:28, 12.67s/it]\u001B[A\n",
      "\n",
      "Songs:   0%|          | 0/4 [00:00<?, ?it/s]\u001B[A\u001B[A"
     ]
    },
    {
     "name": "stdout",
     "output_type": "stream",
     "text": [
      "The song midi-unprocessed_04_r1_2008_01-04_orig_mid--audio_04_r1_2008_wav--1-split does already exist for the configuration /home/falaxdb/Repos/minus1/transformer_decoder_training/saved_files/saved_models/transformer_1.6/tests/threshold_01/midi-unprocessed_04_r1_2008_01-04_orig_mid--audio_04_r1_2008_wav--1-split_configuration.json, skipping\n",
      "The song simple_test does already exist for the configuration /home/falaxdb/Repos/minus1/transformer_decoder_training/saved_files/saved_models/transformer_1.6/tests/threshold_01/simple_test_configuration.json, skipping\n",
      "The song short_cord_progression does already exist for the configuration /home/falaxdb/Repos/minus1/transformer_decoder_training/saved_files/saved_models/transformer_1.6/tests/threshold_01/short_cord_progression_configuration.json, skipping\n",
      "sequecne tensor: torch.Size([1361, 24])\n",
      "sequence with start token tensor: torch.Size([1362, 24])\n",
      "context_seq tensor: torch.Size([1, 513, 24])\n",
      "continuing seq torch.Size([1, 849, 24])\n",
      "Tokens to generate: 849\n",
      "Elapsed time: 12.4921 seconds\n",
      "Binary Tensors after concatinating:  torch.Size([849, 24])\n",
      "Binary Tensors after unsqueezing:  torch.Size([1, 849, 24])\n",
      "Context sequence + Generated tokens:  torch.Size([1, 1362, 24])\n",
      "MIDI file saved to /home/falaxdb/Repos/minus1/transformer_decoder_training/saved_files/saved_models/transformer_1.6/tests/threshold_01/moritz_maria.mid\n"
     ]
    },
    {
     "name": "stderr",
     "output_type": "stream",
     "text": [
      "\n",
      "\n",
      "Songs: 100%|██████████| 4/4 [00:12<00:00,  3.17s/it]\u001B[A\u001B[A\n",
      "\n",
      "                                                    \u001B[A\u001B[A\n",
      "Testing configurations:  25%|██▌       | 2/8 [00:25<01:16, 12.69s/it]\u001B[A\n",
      "\n",
      "Songs:   0%|          | 0/4 [00:00<?, ?it/s]\u001B[A\u001B[A"
     ]
    },
    {
     "name": "stdout",
     "output_type": "stream",
     "text": [
      "The song midi-unprocessed_04_r1_2008_01-04_orig_mid--audio_04_r1_2008_wav--1-split does already exist for the configuration /home/falaxdb/Repos/minus1/transformer_decoder_training/saved_files/saved_models/transformer_1.6/tests/threshold_015/midi-unprocessed_04_r1_2008_01-04_orig_mid--audio_04_r1_2008_wav--1-split_configuration.json, skipping\n",
      "The song simple_test does already exist for the configuration /home/falaxdb/Repos/minus1/transformer_decoder_training/saved_files/saved_models/transformer_1.6/tests/threshold_015/simple_test_configuration.json, skipping\n",
      "The song short_cord_progression does already exist for the configuration /home/falaxdb/Repos/minus1/transformer_decoder_training/saved_files/saved_models/transformer_1.6/tests/threshold_015/short_cord_progression_configuration.json, skipping\n",
      "sequecne tensor: torch.Size([1361, 24])\n",
      "sequence with start token tensor: torch.Size([1362, 24])\n",
      "context_seq tensor: torch.Size([1, 513, 24])\n",
      "continuing seq torch.Size([1, 849, 24])\n",
      "Tokens to generate: 849\n",
      "Elapsed time: 12.5143 seconds\n",
      "Binary Tensors after concatinating:  torch.Size([849, 24])\n",
      "Binary Tensors after unsqueezing:  torch.Size([1, 849, 24])\n",
      "Context sequence + Generated tokens:  torch.Size([1, 1362, 24])\n",
      "MIDI file saved to /home/falaxdb/Repos/minus1/transformer_decoder_training/saved_files/saved_models/transformer_1.6/tests/threshold_015/moritz_maria.mid\n"
     ]
    },
    {
     "name": "stderr",
     "output_type": "stream",
     "text": [
      "\n",
      "\n",
      "Songs: 100%|██████████| 4/4 [00:12<00:00,  3.18s/it]\u001B[A\u001B[A\n",
      "\n",
      "                                                    \u001B[A\u001B[A\n",
      "Testing configurations:  38%|███▊      | 3/8 [00:38<01:03, 12.70s/it]\u001B[A\n",
      "\n",
      "Songs:   0%|          | 0/4 [00:00<?, ?it/s]\u001B[A\u001B[A"
     ]
    },
    {
     "name": "stdout",
     "output_type": "stream",
     "text": [
      "The song midi-unprocessed_04_r1_2008_01-04_orig_mid--audio_04_r1_2008_wav--1-split does already exist for the configuration /home/falaxdb/Repos/minus1/transformer_decoder_training/saved_files/saved_models/transformer_1.6/tests/threshold_02/midi-unprocessed_04_r1_2008_01-04_orig_mid--audio_04_r1_2008_wav--1-split_configuration.json, skipping\n",
      "The song simple_test does already exist for the configuration /home/falaxdb/Repos/minus1/transformer_decoder_training/saved_files/saved_models/transformer_1.6/tests/threshold_02/simple_test_configuration.json, skipping\n",
      "The song short_cord_progression does already exist for the configuration /home/falaxdb/Repos/minus1/transformer_decoder_training/saved_files/saved_models/transformer_1.6/tests/threshold_02/short_cord_progression_configuration.json, skipping\n",
      "sequecne tensor: torch.Size([1361, 24])\n",
      "sequence with start token tensor: torch.Size([1362, 24])\n",
      "context_seq tensor: torch.Size([1, 513, 24])\n",
      "continuing seq torch.Size([1, 849, 24])\n",
      "Tokens to generate: 849\n",
      "Elapsed time: 12.5541 seconds\n",
      "Binary Tensors after concatinating:  torch.Size([849, 24])\n",
      "Binary Tensors after unsqueezing:  torch.Size([1, 849, 24])\n",
      "Context sequence + Generated tokens:  torch.Size([1, 1362, 24])\n",
      "MIDI file saved to /home/falaxdb/Repos/minus1/transformer_decoder_training/saved_files/saved_models/transformer_1.6/tests/threshold_02/moritz_maria.mid\n"
     ]
    },
    {
     "name": "stderr",
     "output_type": "stream",
     "text": [
      "\n",
      "\n",
      "Songs: 100%|██████████| 4/4 [00:12<00:00,  3.19s/it]\u001B[A\u001B[A\n",
      "\n",
      "                                                    \u001B[A\u001B[A\n",
      "Testing configurations:  50%|█████     | 4/8 [00:50<00:50, 12.73s/it]\u001B[A\n",
      "\n",
      "Songs:   0%|          | 0/4 [00:00<?, ?it/s]\u001B[A\u001B[A"
     ]
    },
    {
     "name": "stdout",
     "output_type": "stream",
     "text": [
      "The song midi-unprocessed_04_r1_2008_01-04_orig_mid--audio_04_r1_2008_wav--1-split does already exist for the configuration /home/falaxdb/Repos/minus1/transformer_decoder_training/saved_files/saved_models/transformer_1.6/tests/threshold_025/midi-unprocessed_04_r1_2008_01-04_orig_mid--audio_04_r1_2008_wav--1-split_configuration.json, skipping\n",
      "The song simple_test does already exist for the configuration /home/falaxdb/Repos/minus1/transformer_decoder_training/saved_files/saved_models/transformer_1.6/tests/threshold_025/simple_test_configuration.json, skipping\n",
      "The song short_cord_progression does already exist for the configuration /home/falaxdb/Repos/minus1/transformer_decoder_training/saved_files/saved_models/transformer_1.6/tests/threshold_025/short_cord_progression_configuration.json, skipping\n",
      "sequecne tensor: torch.Size([1361, 24])\n",
      "sequence with start token tensor: torch.Size([1362, 24])\n",
      "context_seq tensor: torch.Size([1, 513, 24])\n",
      "continuing seq torch.Size([1, 849, 24])\n",
      "Tokens to generate: 849\n",
      "Elapsed time: 12.5233 seconds\n",
      "Binary Tensors after concatinating:  torch.Size([849, 24])\n",
      "Binary Tensors after unsqueezing:  torch.Size([1, 849, 24])\n",
      "Context sequence + Generated tokens:  torch.Size([1, 1362, 24])\n",
      "MIDI file saved to /home/falaxdb/Repos/minus1/transformer_decoder_training/saved_files/saved_models/transformer_1.6/tests/threshold_025/moritz_maria.mid\n"
     ]
    },
    {
     "name": "stderr",
     "output_type": "stream",
     "text": [
      "\n",
      "\n",
      "Songs: 100%|██████████| 4/4 [00:12<00:00,  3.18s/it]\u001B[A\u001B[A\n",
      "\n",
      "                                                    \u001B[A\u001B[A\n",
      "Testing configurations:  62%|██████▎   | 5/8 [01:03<00:38, 12.73s/it]\u001B[A\n",
      "\n",
      "Songs:   0%|          | 0/4 [00:00<?, ?it/s]\u001B[A\u001B[A"
     ]
    },
    {
     "name": "stdout",
     "output_type": "stream",
     "text": [
      "The song midi-unprocessed_04_r1_2008_01-04_orig_mid--audio_04_r1_2008_wav--1-split does already exist for the configuration /home/falaxdb/Repos/minus1/transformer_decoder_training/saved_files/saved_models/transformer_1.6/tests/threshold_05/midi-unprocessed_04_r1_2008_01-04_orig_mid--audio_04_r1_2008_wav--1-split_configuration.json, skipping\n",
      "The song simple_test does already exist for the configuration /home/falaxdb/Repos/minus1/transformer_decoder_training/saved_files/saved_models/transformer_1.6/tests/threshold_05/simple_test_configuration.json, skipping\n",
      "The song short_cord_progression does already exist for the configuration /home/falaxdb/Repos/minus1/transformer_decoder_training/saved_files/saved_models/transformer_1.6/tests/threshold_05/short_cord_progression_configuration.json, skipping\n",
      "sequecne tensor: torch.Size([1361, 24])\n",
      "sequence with start token tensor: torch.Size([1362, 24])\n",
      "context_seq tensor: torch.Size([1, 513, 24])\n",
      "continuing seq torch.Size([1, 849, 24])\n",
      "Tokens to generate: 849\n"
     ]
    },
    {
     "name": "stderr",
     "output_type": "stream",
     "text": [
      "\n",
      "\n",
      "Songs: 100%|██████████| 4/4 [00:12<00:00,  3.18s/it]"
     ]
    },
    {
     "name": "stdout",
     "output_type": "stream",
     "text": [
      "Elapsed time: 12.5320 seconds\n",
      "Binary Tensors after concatinating:  torch.Size([849, 24])\n",
      "Binary Tensors after unsqueezing:  torch.Size([1, 849, 24])\n",
      "Context sequence + Generated tokens:  torch.Size([1, 1362, 24])\n",
      "MIDI file saved to /home/falaxdb/Repos/minus1/transformer_decoder_training/saved_files/saved_models/transformer_1.6/tests/threshold_05/moritz_maria.mid\n"
     ]
    },
    {
     "name": "stderr",
     "output_type": "stream",
     "text": [
      "\u001B[A\u001B[A\n",
      "\n",
      "                                                    \u001B[A\u001B[A\n",
      "Testing configurations:  75%|███████▌  | 6/8 [01:16<00:25, 12.73s/it]\u001B[A\n",
      "\n",
      "Songs:   0%|          | 0/4 [00:00<?, ?it/s]\u001B[A\u001B[A"
     ]
    },
    {
     "name": "stdout",
     "output_type": "stream",
     "text": [
      "The song midi-unprocessed_04_r1_2008_01-04_orig_mid--audio_04_r1_2008_wav--1-split does already exist for the configuration /home/falaxdb/Repos/minus1/transformer_decoder_training/saved_files/saved_models/transformer_1.6/tests/threshold_03/midi-unprocessed_04_r1_2008_01-04_orig_mid--audio_04_r1_2008_wav--1-split_configuration.json, skipping\n",
      "The song simple_test does already exist for the configuration /home/falaxdb/Repos/minus1/transformer_decoder_training/saved_files/saved_models/transformer_1.6/tests/threshold_03/simple_test_configuration.json, skipping\n",
      "The song short_cord_progression does already exist for the configuration /home/falaxdb/Repos/minus1/transformer_decoder_training/saved_files/saved_models/transformer_1.6/tests/threshold_03/short_cord_progression_configuration.json, skipping\n",
      "sequecne tensor: torch.Size([1361, 24])\n",
      "sequence with start token tensor: torch.Size([1362, 24])\n",
      "context_seq tensor: torch.Size([1, 513, 24])\n",
      "continuing seq torch.Size([1, 849, 24])\n",
      "Tokens to generate: 849\n",
      "Elapsed time: 12.5720 seconds\n",
      "Binary Tensors after concatinating:  torch.Size([849, 24])\n",
      "Binary Tensors after unsqueezing:  torch.Size([1, 849, 24])\n",
      "Context sequence + Generated tokens:  torch.Size([1, 1362, 24])\n"
     ]
    },
    {
     "name": "stderr",
     "output_type": "stream",
     "text": [
      "\n",
      "\n",
      "Songs: 100%|██████████| 4/4 [00:12<00:00,  3.20s/it]\u001B[A\u001B[A\n",
      "\n",
      "                                                    \u001B[A\u001B[A\n",
      "Testing configurations:  88%|████████▊ | 7/8 [01:29<00:12, 12.76s/it]\u001B[A"
     ]
    },
    {
     "name": "stdout",
     "output_type": "stream",
     "text": [
      "MIDI file saved to /home/falaxdb/Repos/minus1/transformer_decoder_training/saved_files/saved_models/transformer_1.6/tests/threshold_03/moritz_maria.mid\n"
     ]
    },
    {
     "name": "stderr",
     "output_type": "stream",
     "text": [
      "\n",
      "\n",
      "Songs:   0%|          | 0/4 [00:00<?, ?it/s]\u001B[A\u001B[A"
     ]
    },
    {
     "name": "stdout",
     "output_type": "stream",
     "text": [
      "The song midi-unprocessed_04_r1_2008_01-04_orig_mid--audio_04_r1_2008_wav--1-split does already exist for the configuration /home/falaxdb/Repos/minus1/transformer_decoder_training/saved_files/saved_models/transformer_1.6/tests/top_k/midi-unprocessed_04_r1_2008_01-04_orig_mid--audio_04_r1_2008_wav--1-split_configuration.json, skipping\n",
      "The song simple_test does already exist for the configuration /home/falaxdb/Repos/minus1/transformer_decoder_training/saved_files/saved_models/transformer_1.6/tests/top_k/simple_test_configuration.json, skipping\n",
      "The song short_cord_progression does already exist for the configuration /home/falaxdb/Repos/minus1/transformer_decoder_training/saved_files/saved_models/transformer_1.6/tests/top_k/short_cord_progression_configuration.json, skipping\n",
      "sequecne tensor: torch.Size([1361, 24])\n",
      "sequence with start token tensor: torch.Size([1362, 24])\n",
      "context_seq tensor: torch.Size([1, 513, 24])\n",
      "continuing seq torch.Size([1, 849, 24])\n",
      "Tokens to generate: 849\n"
     ]
    },
    {
     "name": "stderr",
     "output_type": "stream",
     "text": [
      "\n",
      "\n",
      "Songs: 100%|██████████| 4/4 [00:12<00:00,  3.22s/it]\u001B[A\u001B[A\n",
      "\n",
      "                                                    \u001B[A\u001B[A\n",
      "Testing configurations: 100%|██████████| 8/8 [01:42<00:00, 12.80s/it]\u001B[A\n",
      "Projects:  63%|██████▎   | 12/19 [05:42<05:31, 47.34s/it]            \u001B[A"
     ]
    },
    {
     "name": "stdout",
     "output_type": "stream",
     "text": [
      "Elapsed time: 12.7309 seconds\n",
      "Binary Tensors after concatinating:  torch.Size([849, 24])\n",
      "Binary Tensors after unsqueezing:  torch.Size([1, 849, 24])\n",
      "Context sequence + Generated tokens:  torch.Size([1, 1362, 24])\n",
      "MIDI file saved to /home/falaxdb/Repos/minus1/transformer_decoder_training/saved_files/saved_models/transformer_1.6/tests/top_k/moritz_maria.mid\n",
      "\n",
      "==============================\n",
      "Testing model transformer_1.7\n",
      "At location /home/falaxdb/Repos/minus1/transformer_decoder_training/saved_files/saved_models/transformer_1.7\n",
      "==============================\n",
      "\n",
      "Best epoch is epoch number 84\n"
     ]
    },
    {
     "name": "stderr",
     "output_type": "stream",
     "text": [
      "\n",
      "Testing configurations:   0%|          | 0/8 [00:00<?, ?it/s]\u001B[A\n",
      "\n",
      "Songs:   0%|          | 0/4 [00:00<?, ?it/s]\u001B[A\u001B[A"
     ]
    },
    {
     "name": "stdout",
     "output_type": "stream",
     "text": [
      "The song midi-unprocessed_04_r1_2008_01-04_orig_mid--audio_04_r1_2008_wav--1-split does already exist for the configuration /home/falaxdb/Repos/minus1/transformer_decoder_training/saved_files/saved_models/transformer_1.7/tests/threshold_005/midi-unprocessed_04_r1_2008_01-04_orig_mid--audio_04_r1_2008_wav--1-split_configuration.json, skipping\n",
      "The song simple_test does already exist for the configuration /home/falaxdb/Repos/minus1/transformer_decoder_training/saved_files/saved_models/transformer_1.7/tests/threshold_005/simple_test_configuration.json, skipping\n",
      "The song short_cord_progression does already exist for the configuration /home/falaxdb/Repos/minus1/transformer_decoder_training/saved_files/saved_models/transformer_1.7/tests/threshold_005/short_cord_progression_configuration.json, skipping\n",
      "sequecne tensor: torch.Size([1361, 24])\n",
      "sequence with start token tensor: torch.Size([1362, 24])\n",
      "context_seq tensor: torch.Size([1, 513, 24])\n",
      "continuing seq torch.Size([1, 849, 24])\n",
      "Tokens to generate: 849\n"
     ]
    },
    {
     "name": "stderr",
     "output_type": "stream",
     "text": [
      "\n",
      "\n",
      "Songs: 100%|██████████| 4/4 [00:00<00:00,  4.64it/s]\u001B[A\u001B[A\n",
      "\n",
      "                                                    \u001B[A\u001B[A\n",
      "Testing configurations:  12%|█▎        | 1/8 [00:00<00:06,  1.16it/s]\u001B[A"
     ]
    },
    {
     "name": "stdout",
     "output_type": "stream",
     "text": [
      "Elapsed time: 0.7180 seconds\n",
      "Binary Tensors after concatinating:  torch.Size([849, 24])\n",
      "Binary Tensors after unsqueezing:  torch.Size([1, 849, 24])\n",
      "Context sequence + Generated tokens:  torch.Size([1, 1362, 24])\n",
      "MIDI file saved to /home/falaxdb/Repos/minus1/transformer_decoder_training/saved_files/saved_models/transformer_1.7/tests/threshold_005/moritz_maria.mid\n"
     ]
    },
    {
     "name": "stderr",
     "output_type": "stream",
     "text": [
      "\n",
      "\n",
      "Songs:   0%|          | 0/4 [00:00<?, ?it/s]\u001B[A\u001B[A"
     ]
    },
    {
     "name": "stdout",
     "output_type": "stream",
     "text": [
      "The song midi-unprocessed_04_r1_2008_01-04_orig_mid--audio_04_r1_2008_wav--1-split does already exist for the configuration /home/falaxdb/Repos/minus1/transformer_decoder_training/saved_files/saved_models/transformer_1.7/tests/threshold_01/midi-unprocessed_04_r1_2008_01-04_orig_mid--audio_04_r1_2008_wav--1-split_configuration.json, skipping\n",
      "The song simple_test does already exist for the configuration /home/falaxdb/Repos/minus1/transformer_decoder_training/saved_files/saved_models/transformer_1.7/tests/threshold_01/simple_test_configuration.json, skipping\n",
      "The song short_cord_progression does already exist for the configuration /home/falaxdb/Repos/minus1/transformer_decoder_training/saved_files/saved_models/transformer_1.7/tests/threshold_01/short_cord_progression_configuration.json, skipping\n",
      "sequecne tensor: torch.Size([1361, 24])\n",
      "sequence with start token tensor: torch.Size([1362, 24])\n",
      "context_seq tensor: torch.Size([1, 513, 24])\n",
      "continuing seq torch.Size([1, 849, 24])\n",
      "Tokens to generate: 849\n"
     ]
    },
    {
     "name": "stderr",
     "output_type": "stream",
     "text": [
      "\n",
      "\n",
      "Songs: 100%|██████████| 4/4 [00:00<00:00,  4.93it/s]\u001B[A\u001B[A\n",
      "\n",
      "                                                    \u001B[A\u001B[A\n",
      "Testing configurations:  25%|██▌       | 2/8 [00:01<00:05,  1.20it/s]\u001B[A"
     ]
    },
    {
     "name": "stdout",
     "output_type": "stream",
     "text": [
      "Elapsed time: 0.6312 seconds\n",
      "Binary Tensors after concatinating:  torch.Size([849, 24])\n",
      "Binary Tensors after unsqueezing:  torch.Size([1, 849, 24])\n",
      "Context sequence + Generated tokens:  torch.Size([1, 1362, 24])\n",
      "MIDI file saved to /home/falaxdb/Repos/minus1/transformer_decoder_training/saved_files/saved_models/transformer_1.7/tests/threshold_01/moritz_maria.mid\n"
     ]
    },
    {
     "name": "stderr",
     "output_type": "stream",
     "text": [
      "\n",
      "\n",
      "Songs:   0%|          | 0/4 [00:00<?, ?it/s]\u001B[A\u001B[A"
     ]
    },
    {
     "name": "stdout",
     "output_type": "stream",
     "text": [
      "The song midi-unprocessed_04_r1_2008_01-04_orig_mid--audio_04_r1_2008_wav--1-split does already exist for the configuration /home/falaxdb/Repos/minus1/transformer_decoder_training/saved_files/saved_models/transformer_1.7/tests/threshold_015/midi-unprocessed_04_r1_2008_01-04_orig_mid--audio_04_r1_2008_wav--1-split_configuration.json, skipping\n",
      "The song simple_test does already exist for the configuration /home/falaxdb/Repos/minus1/transformer_decoder_training/saved_files/saved_models/transformer_1.7/tests/threshold_015/simple_test_configuration.json, skipping\n",
      "The song short_cord_progression does already exist for the configuration /home/falaxdb/Repos/minus1/transformer_decoder_training/saved_files/saved_models/transformer_1.7/tests/threshold_015/short_cord_progression_configuration.json, skipping\n",
      "sequecne tensor: torch.Size([1361, 24])\n",
      "sequence with start token tensor: torch.Size([1362, 24])\n",
      "context_seq tensor: torch.Size([1, 513, 24])\n",
      "continuing seq torch.Size([1, 849, 24])\n",
      "Tokens to generate: 849\n"
     ]
    },
    {
     "name": "stderr",
     "output_type": "stream",
     "text": [
      "\n",
      "\n",
      "Songs: 100%|██████████| 4/4 [00:00<00:00,  5.22it/s]\u001B[A\u001B[A\n",
      "\n",
      "                                                    \u001B[A\u001B[A\n",
      "Testing configurations:  38%|███▊      | 3/8 [00:02<00:04,  1.24it/s]\u001B[A"
     ]
    },
    {
     "name": "stdout",
     "output_type": "stream",
     "text": [
      "Elapsed time: 0.6182 seconds\n",
      "Binary Tensors after concatinating:  torch.Size([849, 24])\n",
      "Binary Tensors after unsqueezing:  torch.Size([1, 849, 24])\n",
      "Context sequence + Generated tokens:  torch.Size([1, 1362, 24])\n",
      "MIDI file saved to /home/falaxdb/Repos/minus1/transformer_decoder_training/saved_files/saved_models/transformer_1.7/tests/threshold_015/moritz_maria.mid\n"
     ]
    },
    {
     "name": "stderr",
     "output_type": "stream",
     "text": [
      "\n",
      "\n",
      "Songs:   0%|          | 0/4 [00:00<?, ?it/s]\u001B[A\u001B[A"
     ]
    },
    {
     "name": "stdout",
     "output_type": "stream",
     "text": [
      "The song midi-unprocessed_04_r1_2008_01-04_orig_mid--audio_04_r1_2008_wav--1-split does already exist for the configuration /home/falaxdb/Repos/minus1/transformer_decoder_training/saved_files/saved_models/transformer_1.7/tests/threshold_02/midi-unprocessed_04_r1_2008_01-04_orig_mid--audio_04_r1_2008_wav--1-split_configuration.json, skipping\n",
      "The song simple_test does already exist for the configuration /home/falaxdb/Repos/minus1/transformer_decoder_training/saved_files/saved_models/transformer_1.7/tests/threshold_02/simple_test_configuration.json, skipping\n",
      "The song short_cord_progression does already exist for the configuration /home/falaxdb/Repos/minus1/transformer_decoder_training/saved_files/saved_models/transformer_1.7/tests/threshold_02/short_cord_progression_configuration.json, skipping\n",
      "sequecne tensor: torch.Size([1361, 24])\n",
      "sequence with start token tensor: torch.Size([1362, 24])\n",
      "context_seq tensor: torch.Size([1, 513, 24])\n",
      "continuing seq torch.Size([1, 849, 24])\n",
      "Tokens to generate: 849\n"
     ]
    },
    {
     "name": "stderr",
     "output_type": "stream",
     "text": [
      "\n",
      "\n",
      "Songs: 100%|██████████| 4/4 [00:00<00:00,  5.22it/s]\u001B[A\u001B[A\n",
      "\n",
      "                                                    \u001B[A\u001B[A\n",
      "Testing configurations:  50%|█████     | 4/8 [00:03<00:03,  1.26it/s]\u001B[A"
     ]
    },
    {
     "name": "stdout",
     "output_type": "stream",
     "text": [
      "Elapsed time: 0.6197 seconds\n",
      "Binary Tensors after concatinating:  torch.Size([849, 24])\n",
      "Binary Tensors after unsqueezing:  torch.Size([1, 849, 24])\n",
      "Context sequence + Generated tokens:  torch.Size([1, 1362, 24])\n",
      "MIDI file saved to /home/falaxdb/Repos/minus1/transformer_decoder_training/saved_files/saved_models/transformer_1.7/tests/threshold_02/moritz_maria.mid\n"
     ]
    },
    {
     "name": "stderr",
     "output_type": "stream",
     "text": [
      "\n",
      "\n",
      "Songs:   0%|          | 0/4 [00:00<?, ?it/s]\u001B[A\u001B[A"
     ]
    },
    {
     "name": "stdout",
     "output_type": "stream",
     "text": [
      "The song midi-unprocessed_04_r1_2008_01-04_orig_mid--audio_04_r1_2008_wav--1-split does already exist for the configuration /home/falaxdb/Repos/minus1/transformer_decoder_training/saved_files/saved_models/transformer_1.7/tests/threshold_025/midi-unprocessed_04_r1_2008_01-04_orig_mid--audio_04_r1_2008_wav--1-split_configuration.json, skipping\n",
      "The song simple_test does already exist for the configuration /home/falaxdb/Repos/minus1/transformer_decoder_training/saved_files/saved_models/transformer_1.7/tests/threshold_025/simple_test_configuration.json, skipping\n",
      "The song short_cord_progression does already exist for the configuration /home/falaxdb/Repos/minus1/transformer_decoder_training/saved_files/saved_models/transformer_1.7/tests/threshold_025/short_cord_progression_configuration.json, skipping\n",
      "sequecne tensor: torch.Size([1361, 24])\n",
      "sequence with start token tensor: torch.Size([1362, 24])\n",
      "context_seq tensor: torch.Size([1, 513, 24])\n",
      "continuing seq torch.Size([1, 849, 24])\n",
      "Tokens to generate: 849\n"
     ]
    },
    {
     "name": "stderr",
     "output_type": "stream",
     "text": [
      "\n",
      "\n",
      "Songs: 100%|██████████| 4/4 [00:00<00:00,  5.19it/s]\u001B[A\u001B[A\n",
      "\n",
      "                                                    \u001B[A\u001B[A\n",
      "Testing configurations:  62%|██████▎   | 5/8 [00:03<00:02,  1.27it/s]\u001B[A"
     ]
    },
    {
     "name": "stdout",
     "output_type": "stream",
     "text": [
      "Elapsed time: 0.6238 seconds\n",
      "Binary Tensors after concatinating:  torch.Size([849, 24])\n",
      "Binary Tensors after unsqueezing:  torch.Size([1, 849, 24])\n",
      "Context sequence + Generated tokens:  torch.Size([1, 1362, 24])\n",
      "MIDI file saved to /home/falaxdb/Repos/minus1/transformer_decoder_training/saved_files/saved_models/transformer_1.7/tests/threshold_025/moritz_maria.mid\n"
     ]
    },
    {
     "name": "stderr",
     "output_type": "stream",
     "text": [
      "\n",
      "\n",
      "Songs:   0%|          | 0/4 [00:00<?, ?it/s]\u001B[A\u001B[A"
     ]
    },
    {
     "name": "stdout",
     "output_type": "stream",
     "text": [
      "The song midi-unprocessed_04_r1_2008_01-04_orig_mid--audio_04_r1_2008_wav--1-split does already exist for the configuration /home/falaxdb/Repos/minus1/transformer_decoder_training/saved_files/saved_models/transformer_1.7/tests/threshold_05/midi-unprocessed_04_r1_2008_01-04_orig_mid--audio_04_r1_2008_wav--1-split_configuration.json, skipping\n",
      "The song simple_test does already exist for the configuration /home/falaxdb/Repos/minus1/transformer_decoder_training/saved_files/saved_models/transformer_1.7/tests/threshold_05/simple_test_configuration.json, skipping\n",
      "The song short_cord_progression does already exist for the configuration /home/falaxdb/Repos/minus1/transformer_decoder_training/saved_files/saved_models/transformer_1.7/tests/threshold_05/short_cord_progression_configuration.json, skipping\n",
      "sequecne tensor: torch.Size([1361, 24])\n",
      "sequence with start token tensor: torch.Size([1362, 24])\n",
      "context_seq tensor: torch.Size([1, 513, 24])\n",
      "continuing seq torch.Size([1, 849, 24])\n",
      "Tokens to generate: 849\n"
     ]
    },
    {
     "name": "stderr",
     "output_type": "stream",
     "text": [
      "\n",
      "\n",
      "Songs: 100%|██████████| 4/4 [00:00<00:00,  5.21it/s]\u001B[A\u001B[A\n",
      "\n",
      "                                                    \u001B[A\u001B[A\n",
      "Testing configurations:  75%|███████▌  | 6/8 [00:04<00:01,  1.28it/s]\u001B[A"
     ]
    },
    {
     "name": "stdout",
     "output_type": "stream",
     "text": [
      "Elapsed time: 0.6239 seconds\n",
      "Binary Tensors after concatinating:  torch.Size([849, 24])\n",
      "Binary Tensors after unsqueezing:  torch.Size([1, 849, 24])\n",
      "Context sequence + Generated tokens:  torch.Size([1, 1362, 24])\n",
      "MIDI file saved to /home/falaxdb/Repos/minus1/transformer_decoder_training/saved_files/saved_models/transformer_1.7/tests/threshold_05/moritz_maria.mid\n"
     ]
    },
    {
     "name": "stderr",
     "output_type": "stream",
     "text": [
      "\n",
      "\n",
      "Songs:   0%|          | 0/4 [00:00<?, ?it/s]\u001B[A\u001B[A"
     ]
    },
    {
     "name": "stdout",
     "output_type": "stream",
     "text": [
      "The song midi-unprocessed_04_r1_2008_01-04_orig_mid--audio_04_r1_2008_wav--1-split does already exist for the configuration /home/falaxdb/Repos/minus1/transformer_decoder_training/saved_files/saved_models/transformer_1.7/tests/threshold_03/midi-unprocessed_04_r1_2008_01-04_orig_mid--audio_04_r1_2008_wav--1-split_configuration.json, skipping\n",
      "The song simple_test does already exist for the configuration /home/falaxdb/Repos/minus1/transformer_decoder_training/saved_files/saved_models/transformer_1.7/tests/threshold_03/simple_test_configuration.json, skipping\n",
      "The song short_cord_progression does already exist for the configuration /home/falaxdb/Repos/minus1/transformer_decoder_training/saved_files/saved_models/transformer_1.7/tests/threshold_03/short_cord_progression_configuration.json, skipping\n",
      "sequecne tensor: torch.Size([1361, 24])\n",
      "sequence with start token tensor: torch.Size([1362, 24])\n",
      "context_seq tensor: torch.Size([1, 513, 24])\n",
      "continuing seq torch.Size([1, 849, 24])\n",
      "Tokens to generate: 849\n"
     ]
    },
    {
     "name": "stderr",
     "output_type": "stream",
     "text": [
      "\n",
      "\n",
      "Songs: 100%|██████████| 4/4 [00:00<00:00,  5.17it/s]\u001B[A\u001B[A\n",
      "\n",
      "                                                    \u001B[A\u001B[A\n",
      "Testing configurations:  88%|████████▊ | 7/8 [00:05<00:00,  1.28it/s]\u001B[A"
     ]
    },
    {
     "name": "stdout",
     "output_type": "stream",
     "text": [
      "Elapsed time: 0.6241 seconds\n",
      "Binary Tensors after concatinating:  torch.Size([849, 24])\n",
      "Binary Tensors after unsqueezing:  torch.Size([1, 849, 24])\n",
      "Context sequence + Generated tokens:  torch.Size([1, 1362, 24])\n",
      "MIDI file saved to /home/falaxdb/Repos/minus1/transformer_decoder_training/saved_files/saved_models/transformer_1.7/tests/threshold_03/moritz_maria.mid\n"
     ]
    },
    {
     "name": "stderr",
     "output_type": "stream",
     "text": [
      "\n",
      "\n",
      "Songs:   0%|          | 0/4 [00:00<?, ?it/s]\u001B[A\u001B[A"
     ]
    },
    {
     "name": "stdout",
     "output_type": "stream",
     "text": [
      "The song midi-unprocessed_04_r1_2008_01-04_orig_mid--audio_04_r1_2008_wav--1-split does already exist for the configuration /home/falaxdb/Repos/minus1/transformer_decoder_training/saved_files/saved_models/transformer_1.7/tests/top_k/midi-unprocessed_04_r1_2008_01-04_orig_mid--audio_04_r1_2008_wav--1-split_configuration.json, skipping\n",
      "The song simple_test does already exist for the configuration /home/falaxdb/Repos/minus1/transformer_decoder_training/saved_files/saved_models/transformer_1.7/tests/top_k/simple_test_configuration.json, skipping\n",
      "The song short_cord_progression does already exist for the configuration /home/falaxdb/Repos/minus1/transformer_decoder_training/saved_files/saved_models/transformer_1.7/tests/top_k/short_cord_progression_configuration.json, skipping\n",
      "sequecne tensor: torch.Size([1361, 24])\n",
      "sequence with start token tensor: torch.Size([1362, 24])\n",
      "context_seq tensor: torch.Size([1, 513, 24])\n",
      "continuing seq torch.Size([1, 849, 24])\n",
      "Tokens to generate: 849\n"
     ]
    },
    {
     "name": "stderr",
     "output_type": "stream",
     "text": [
      "\n",
      "\n",
      "Songs: 100%|██████████| 4/4 [00:00<00:00,  4.58it/s]\u001B[A\u001B[A\n",
      "\n",
      "                                                    \u001B[A\u001B[A\n",
      "Testing configurations: 100%|██████████| 8/8 [00:06<00:00,  1.23it/s]\u001B[A\n",
      "Projects:  68%|██████▊   | 13/19 [05:49<03:30, 35.02s/it]            \u001B[A"
     ]
    },
    {
     "name": "stdout",
     "output_type": "stream",
     "text": [
      "Elapsed time: 0.7265 seconds\n",
      "Binary Tensors after concatinating:  torch.Size([849, 24])\n",
      "Binary Tensors after unsqueezing:  torch.Size([1, 849, 24])\n",
      "Context sequence + Generated tokens:  torch.Size([1, 1362, 24])\n",
      "MIDI file saved to /home/falaxdb/Repos/minus1/transformer_decoder_training/saved_files/saved_models/transformer_1.7/tests/top_k/moritz_maria.mid\n",
      "\n",
      "==============================\n",
      "Testing model transformer_2.0\n",
      "At location /home/falaxdb/Repos/minus1/transformer_decoder_training/saved_files/saved_models/transformer_2.0\n",
      "==============================\n",
      "\n",
      "Best epoch is epoch number 14\n"
     ]
    },
    {
     "name": "stderr",
     "output_type": "stream",
     "text": [
      "\n",
      "Testing configurations:   0%|          | 0/8 [00:00<?, ?it/s]\u001B[A\n",
      "\n",
      "Songs:   0%|          | 0/4 [00:00<?, ?it/s]\u001B[A\u001B[A"
     ]
    },
    {
     "name": "stdout",
     "output_type": "stream",
     "text": [
      "The song midi-unprocessed_04_r1_2008_01-04_orig_mid--audio_04_r1_2008_wav--1-split does already exist for the configuration /home/falaxdb/Repos/minus1/transformer_decoder_training/saved_files/saved_models/transformer_2.0/tests/threshold_005/midi-unprocessed_04_r1_2008_01-04_orig_mid--audio_04_r1_2008_wav--1-split_configuration.json, skipping\n",
      "The song simple_test does already exist for the configuration /home/falaxdb/Repos/minus1/transformer_decoder_training/saved_files/saved_models/transformer_2.0/tests/threshold_005/simple_test_configuration.json, skipping\n",
      "The song short_cord_progression does already exist for the configuration /home/falaxdb/Repos/minus1/transformer_decoder_training/saved_files/saved_models/transformer_2.0/tests/threshold_005/short_cord_progression_configuration.json, skipping\n",
      "sequecne tensor: torch.Size([1361, 24])\n",
      "sequence with start token tensor: torch.Size([1362, 24])\n",
      "context_seq tensor: torch.Size([1, 1025, 24])\n",
      "continuing seq torch.Size([1, 337, 24])\n",
      "Tokens to generate: 337\n"
     ]
    },
    {
     "name": "stderr",
     "output_type": "stream",
     "text": [
      "\n",
      "\n",
      "Songs: 100%|██████████| 4/4 [00:03<00:00,  1.16it/s]\u001B[A\u001B[A\n",
      "\n",
      "                                                    \u001B[A\u001B[A\n",
      "Testing configurations:  12%|█▎        | 1/8 [00:03<00:24,  3.45s/it]\u001B[A"
     ]
    },
    {
     "name": "stdout",
     "output_type": "stream",
     "text": [
      "Elapsed time: 3.2571 seconds\n",
      "Binary Tensors after concatinating:  torch.Size([337, 24])\n",
      "Binary Tensors after unsqueezing:  torch.Size([1, 337, 24])\n",
      "Context sequence + Generated tokens:  torch.Size([1, 1362, 24])\n",
      "MIDI file saved to /home/falaxdb/Repos/minus1/transformer_decoder_training/saved_files/saved_models/transformer_2.0/tests/threshold_005/moritz_maria.mid\n"
     ]
    },
    {
     "name": "stderr",
     "output_type": "stream",
     "text": [
      "\n",
      "\n",
      "Songs:   0%|          | 0/4 [00:00<?, ?it/s]\u001B[A\u001B[A"
     ]
    },
    {
     "name": "stdout",
     "output_type": "stream",
     "text": [
      "The song midi-unprocessed_04_r1_2008_01-04_orig_mid--audio_04_r1_2008_wav--1-split does already exist for the configuration /home/falaxdb/Repos/minus1/transformer_decoder_training/saved_files/saved_models/transformer_2.0/tests/threshold_01/midi-unprocessed_04_r1_2008_01-04_orig_mid--audio_04_r1_2008_wav--1-split_configuration.json, skipping\n",
      "The song simple_test does already exist for the configuration /home/falaxdb/Repos/minus1/transformer_decoder_training/saved_files/saved_models/transformer_2.0/tests/threshold_01/simple_test_configuration.json, skipping\n",
      "The song short_cord_progression does already exist for the configuration /home/falaxdb/Repos/minus1/transformer_decoder_training/saved_files/saved_models/transformer_2.0/tests/threshold_01/short_cord_progression_configuration.json, skipping\n",
      "sequecne tensor: torch.Size([1361, 24])\n",
      "sequence with start token tensor: torch.Size([1362, 24])\n",
      "context_seq tensor: torch.Size([1, 1025, 24])\n",
      "continuing seq torch.Size([1, 337, 24])\n",
      "Tokens to generate: 337\n"
     ]
    },
    {
     "name": "stderr",
     "output_type": "stream",
     "text": [
      "\n",
      "\n",
      "Songs: 100%|██████████| 4/4 [00:03<00:00,  1.16it/s]\u001B[A\u001B[A\n",
      "\n",
      "                                                    \u001B[A\u001B[A\n",
      "Testing configurations:  25%|██▌       | 2/8 [00:06<00:20,  3.44s/it]\u001B[A"
     ]
    },
    {
     "name": "stdout",
     "output_type": "stream",
     "text": [
      "Elapsed time: 3.2421 seconds\n",
      "Binary Tensors after concatinating:  torch.Size([337, 24])\n",
      "Binary Tensors after unsqueezing:  torch.Size([1, 337, 24])\n",
      "Context sequence + Generated tokens:  torch.Size([1, 1362, 24])\n",
      "MIDI file saved to /home/falaxdb/Repos/minus1/transformer_decoder_training/saved_files/saved_models/transformer_2.0/tests/threshold_01/moritz_maria.mid\n"
     ]
    },
    {
     "name": "stderr",
     "output_type": "stream",
     "text": [
      "\n",
      "\n",
      "Songs:   0%|          | 0/4 [00:00<?, ?it/s]\u001B[A\u001B[A"
     ]
    },
    {
     "name": "stdout",
     "output_type": "stream",
     "text": [
      "The song midi-unprocessed_04_r1_2008_01-04_orig_mid--audio_04_r1_2008_wav--1-split does already exist for the configuration /home/falaxdb/Repos/minus1/transformer_decoder_training/saved_files/saved_models/transformer_2.0/tests/threshold_015/midi-unprocessed_04_r1_2008_01-04_orig_mid--audio_04_r1_2008_wav--1-split_configuration.json, skipping\n",
      "The song simple_test does already exist for the configuration /home/falaxdb/Repos/minus1/transformer_decoder_training/saved_files/saved_models/transformer_2.0/tests/threshold_015/simple_test_configuration.json, skipping\n",
      "The song short_cord_progression does already exist for the configuration /home/falaxdb/Repos/minus1/transformer_decoder_training/saved_files/saved_models/transformer_2.0/tests/threshold_015/short_cord_progression_configuration.json, skipping\n",
      "sequecne tensor: torch.Size([1361, 24])\n",
      "sequence with start token tensor: torch.Size([1362, 24])\n",
      "context_seq tensor: torch.Size([1, 1025, 24])\n",
      "continuing seq torch.Size([1, 337, 24])\n",
      "Tokens to generate: 337\n"
     ]
    },
    {
     "name": "stderr",
     "output_type": "stream",
     "text": [
      "\n",
      "\n",
      "Songs: 100%|██████████| 4/4 [00:03<00:00,  1.16it/s]\u001B[A\u001B[A\n",
      "\n",
      "                                                    \u001B[A\u001B[A\n",
      "Testing configurations:  38%|███▊      | 3/8 [00:10<00:17,  3.44s/it]\u001B[A"
     ]
    },
    {
     "name": "stdout",
     "output_type": "stream",
     "text": [
      "Elapsed time: 3.2474 seconds\n",
      "Binary Tensors after concatinating:  torch.Size([337, 24])\n",
      "Binary Tensors after unsqueezing:  torch.Size([1, 337, 24])\n",
      "Context sequence + Generated tokens:  torch.Size([1, 1362, 24])\n",
      "MIDI file saved to /home/falaxdb/Repos/minus1/transformer_decoder_training/saved_files/saved_models/transformer_2.0/tests/threshold_015/moritz_maria.mid\n"
     ]
    },
    {
     "name": "stderr",
     "output_type": "stream",
     "text": [
      "\n",
      "\n",
      "Songs:   0%|          | 0/4 [00:00<?, ?it/s]\u001B[A\u001B[A"
     ]
    },
    {
     "name": "stdout",
     "output_type": "stream",
     "text": [
      "The song midi-unprocessed_04_r1_2008_01-04_orig_mid--audio_04_r1_2008_wav--1-split does already exist for the configuration /home/falaxdb/Repos/minus1/transformer_decoder_training/saved_files/saved_models/transformer_2.0/tests/threshold_02/midi-unprocessed_04_r1_2008_01-04_orig_mid--audio_04_r1_2008_wav--1-split_configuration.json, skipping\n",
      "The song simple_test does already exist for the configuration /home/falaxdb/Repos/minus1/transformer_decoder_training/saved_files/saved_models/transformer_2.0/tests/threshold_02/simple_test_configuration.json, skipping\n",
      "The song short_cord_progression does already exist for the configuration /home/falaxdb/Repos/minus1/transformer_decoder_training/saved_files/saved_models/transformer_2.0/tests/threshold_02/short_cord_progression_configuration.json, skipping\n",
      "sequecne tensor: torch.Size([1361, 24])\n",
      "sequence with start token tensor: torch.Size([1362, 24])\n",
      "context_seq tensor: torch.Size([1, 1025, 24])\n",
      "continuing seq torch.Size([1, 337, 24])\n",
      "Tokens to generate: 337\n"
     ]
    },
    {
     "name": "stderr",
     "output_type": "stream",
     "text": [
      "\n",
      "\n",
      "Songs: 100%|██████████| 4/4 [00:03<00:00,  1.16it/s]\u001B[A\u001B[A\n",
      "\n",
      "                                                    \u001B[A\u001B[A\n",
      "Testing configurations:  50%|█████     | 4/8 [00:13<00:13,  3.44s/it]\u001B[A"
     ]
    },
    {
     "name": "stdout",
     "output_type": "stream",
     "text": [
      "Elapsed time: 3.2507 seconds\n",
      "Binary Tensors after concatinating:  torch.Size([337, 24])\n",
      "Binary Tensors after unsqueezing:  torch.Size([1, 337, 24])\n",
      "Context sequence + Generated tokens:  torch.Size([1, 1362, 24])\n",
      "MIDI file saved to /home/falaxdb/Repos/minus1/transformer_decoder_training/saved_files/saved_models/transformer_2.0/tests/threshold_02/moritz_maria.mid\n"
     ]
    },
    {
     "name": "stderr",
     "output_type": "stream",
     "text": [
      "\n",
      "\n",
      "Songs:   0%|          | 0/4 [00:00<?, ?it/s]\u001B[A\u001B[A"
     ]
    },
    {
     "name": "stdout",
     "output_type": "stream",
     "text": [
      "The song midi-unprocessed_04_r1_2008_01-04_orig_mid--audio_04_r1_2008_wav--1-split does already exist for the configuration /home/falaxdb/Repos/minus1/transformer_decoder_training/saved_files/saved_models/transformer_2.0/tests/threshold_025/midi-unprocessed_04_r1_2008_01-04_orig_mid--audio_04_r1_2008_wav--1-split_configuration.json, skipping\n",
      "The song simple_test does already exist for the configuration /home/falaxdb/Repos/minus1/transformer_decoder_training/saved_files/saved_models/transformer_2.0/tests/threshold_025/simple_test_configuration.json, skipping\n",
      "The song short_cord_progression does already exist for the configuration /home/falaxdb/Repos/minus1/transformer_decoder_training/saved_files/saved_models/transformer_2.0/tests/threshold_025/short_cord_progression_configuration.json, skipping\n",
      "sequecne tensor: torch.Size([1361, 24])\n",
      "sequence with start token tensor: torch.Size([1362, 24])\n",
      "context_seq tensor: torch.Size([1, 1025, 24])\n",
      "continuing seq torch.Size([1, 337, 24])\n",
      "Tokens to generate: 337\n"
     ]
    },
    {
     "name": "stderr",
     "output_type": "stream",
     "text": [
      "\n",
      "\n",
      "Songs: 100%|██████████| 4/4 [00:03<00:00,  1.16it/s]\u001B[A\u001B[A\n",
      "\n",
      "                                                    \u001B[A\u001B[A\n",
      "Testing configurations:  62%|██████▎   | 5/8 [00:17<00:10,  3.44s/it]\u001B[A"
     ]
    },
    {
     "name": "stdout",
     "output_type": "stream",
     "text": [
      "Elapsed time: 3.2385 seconds\n",
      "Binary Tensors after concatinating:  torch.Size([337, 24])\n",
      "Binary Tensors after unsqueezing:  torch.Size([1, 337, 24])\n",
      "Context sequence + Generated tokens:  torch.Size([1, 1362, 24])\n",
      "MIDI file saved to /home/falaxdb/Repos/minus1/transformer_decoder_training/saved_files/saved_models/transformer_2.0/tests/threshold_025/moritz_maria.mid\n"
     ]
    },
    {
     "name": "stderr",
     "output_type": "stream",
     "text": [
      "\n",
      "\n",
      "Songs:   0%|          | 0/4 [00:00<?, ?it/s]\u001B[A\u001B[A"
     ]
    },
    {
     "name": "stdout",
     "output_type": "stream",
     "text": [
      "The song midi-unprocessed_04_r1_2008_01-04_orig_mid--audio_04_r1_2008_wav--1-split does already exist for the configuration /home/falaxdb/Repos/minus1/transformer_decoder_training/saved_files/saved_models/transformer_2.0/tests/threshold_05/midi-unprocessed_04_r1_2008_01-04_orig_mid--audio_04_r1_2008_wav--1-split_configuration.json, skipping\n",
      "The song simple_test does already exist for the configuration /home/falaxdb/Repos/minus1/transformer_decoder_training/saved_files/saved_models/transformer_2.0/tests/threshold_05/simple_test_configuration.json, skipping\n",
      "The song short_cord_progression does already exist for the configuration /home/falaxdb/Repos/minus1/transformer_decoder_training/saved_files/saved_models/transformer_2.0/tests/threshold_05/short_cord_progression_configuration.json, skipping\n",
      "sequecne tensor: torch.Size([1361, 24])\n",
      "sequence with start token tensor: torch.Size([1362, 24])\n",
      "context_seq tensor: torch.Size([1, 1025, 24])\n",
      "continuing seq torch.Size([1, 337, 24])\n",
      "Tokens to generate: 337\n"
     ]
    },
    {
     "name": "stderr",
     "output_type": "stream",
     "text": [
      "\n",
      "\n",
      "Songs: 100%|██████████| 4/4 [00:03<00:00,  1.16it/s]\u001B[A\u001B[A\n",
      "\n",
      "                                                    \u001B[A\u001B[A\n",
      "Testing configurations:  75%|███████▌  | 6/8 [00:20<00:06,  3.45s/it]\u001B[A"
     ]
    },
    {
     "name": "stdout",
     "output_type": "stream",
     "text": [
      "Elapsed time: 3.2600 seconds\n",
      "Binary Tensors after concatinating:  torch.Size([337, 24])\n",
      "Binary Tensors after unsqueezing:  torch.Size([1, 337, 24])\n",
      "Context sequence + Generated tokens:  torch.Size([1, 1362, 24])\n",
      "MIDI file saved to /home/falaxdb/Repos/minus1/transformer_decoder_training/saved_files/saved_models/transformer_2.0/tests/threshold_05/moritz_maria.mid\n"
     ]
    },
    {
     "name": "stderr",
     "output_type": "stream",
     "text": [
      "\n",
      "\n",
      "Songs:   0%|          | 0/4 [00:00<?, ?it/s]\u001B[A\u001B[A"
     ]
    },
    {
     "name": "stdout",
     "output_type": "stream",
     "text": [
      "The song midi-unprocessed_04_r1_2008_01-04_orig_mid--audio_04_r1_2008_wav--1-split does already exist for the configuration /home/falaxdb/Repos/minus1/transformer_decoder_training/saved_files/saved_models/transformer_2.0/tests/threshold_03/midi-unprocessed_04_r1_2008_01-04_orig_mid--audio_04_r1_2008_wav--1-split_configuration.json, skipping\n",
      "The song simple_test does already exist for the configuration /home/falaxdb/Repos/minus1/transformer_decoder_training/saved_files/saved_models/transformer_2.0/tests/threshold_03/simple_test_configuration.json, skipping\n",
      "The song short_cord_progression does already exist for the configuration /home/falaxdb/Repos/minus1/transformer_decoder_training/saved_files/saved_models/transformer_2.0/tests/threshold_03/short_cord_progression_configuration.json, skipping\n",
      "sequecne tensor: torch.Size([1361, 24])\n",
      "sequence with start token tensor: torch.Size([1362, 24])\n",
      "context_seq tensor: torch.Size([1, 1025, 24])\n",
      "continuing seq torch.Size([1, 337, 24])\n",
      "Tokens to generate: 337\n"
     ]
    },
    {
     "name": "stderr",
     "output_type": "stream",
     "text": [
      "\n",
      "\n",
      "Songs: 100%|██████████| 4/4 [00:03<00:00,  1.16it/s]\u001B[A\u001B[A\n",
      "\n",
      "                                                    \u001B[A\u001B[A\n",
      "Testing configurations:  88%|████████▊ | 7/8 [00:24<00:03,  3.45s/it]\u001B[A"
     ]
    },
    {
     "name": "stdout",
     "output_type": "stream",
     "text": [
      "Elapsed time: 3.2528 seconds\n",
      "Binary Tensors after concatinating:  torch.Size([337, 24])\n",
      "Binary Tensors after unsqueezing:  torch.Size([1, 337, 24])\n",
      "Context sequence + Generated tokens:  torch.Size([1, 1362, 24])\n",
      "MIDI file saved to /home/falaxdb/Repos/minus1/transformer_decoder_training/saved_files/saved_models/transformer_2.0/tests/threshold_03/moritz_maria.mid\n"
     ]
    },
    {
     "name": "stderr",
     "output_type": "stream",
     "text": [
      "\n",
      "\n",
      "Songs:   0%|          | 0/4 [00:00<?, ?it/s]\u001B[A\u001B[A"
     ]
    },
    {
     "name": "stdout",
     "output_type": "stream",
     "text": [
      "The song midi-unprocessed_04_r1_2008_01-04_orig_mid--audio_04_r1_2008_wav--1-split does already exist for the configuration /home/falaxdb/Repos/minus1/transformer_decoder_training/saved_files/saved_models/transformer_2.0/tests/top_k/midi-unprocessed_04_r1_2008_01-04_orig_mid--audio_04_r1_2008_wav--1-split_configuration.json, skipping\n",
      "The song simple_test does already exist for the configuration /home/falaxdb/Repos/minus1/transformer_decoder_training/saved_files/saved_models/transformer_2.0/tests/top_k/simple_test_configuration.json, skipping\n",
      "The song short_cord_progression does already exist for the configuration /home/falaxdb/Repos/minus1/transformer_decoder_training/saved_files/saved_models/transformer_2.0/tests/top_k/short_cord_progression_configuration.json, skipping\n",
      "sequecne tensor: torch.Size([1361, 24])\n",
      "sequence with start token tensor: torch.Size([1362, 24])\n",
      "context_seq tensor: torch.Size([1, 1025, 24])\n",
      "continuing seq torch.Size([1, 337, 24])\n",
      "Tokens to generate: 337\n"
     ]
    },
    {
     "name": "stderr",
     "output_type": "stream",
     "text": [
      "\n",
      "\n",
      "Songs: 100%|██████████| 4/4 [00:03<00:00,  1.15it/s]\u001B[A\u001B[A\n",
      "\n",
      "                                                    \u001B[A\u001B[A\n",
      "Testing configurations: 100%|██████████| 8/8 [00:27<00:00,  3.46s/it]\u001B[A\n",
      "Projects:  74%|███████▎  | 14/19 [06:17<02:45, 33.04s/it]            \u001B[A"
     ]
    },
    {
     "name": "stdout",
     "output_type": "stream",
     "text": [
      "Elapsed time: 3.3168 seconds\n",
      "Binary Tensors after concatinating:  torch.Size([337, 24])\n",
      "Binary Tensors after unsqueezing:  torch.Size([1, 337, 24])\n",
      "Context sequence + Generated tokens:  torch.Size([1, 1362, 24])\n",
      "MIDI file saved to /home/falaxdb/Repos/minus1/transformer_decoder_training/saved_files/saved_models/transformer_2.0/tests/top_k/moritz_maria.mid\n",
      "\n",
      "==============================\n",
      "Testing model transformer_1.8\n",
      "At location /home/falaxdb/Repos/minus1/transformer_decoder_training/saved_files/saved_models/transformer_1.8\n",
      "==============================\n",
      "\n",
      "Best epoch is epoch number 2\n"
     ]
    },
    {
     "name": "stderr",
     "output_type": "stream",
     "text": [
      "\n",
      "Testing configurations:   0%|          | 0/8 [00:00<?, ?it/s]\u001B[A\n",
      "\n",
      "Songs:   0%|          | 0/4 [00:00<?, ?it/s]\u001B[A\u001B[A\n",
      "                                                             \u001B[A\n",
      "\n",
      "Projects:  79%|███████▉  | 15/19 [06:18<01:33, 23.31s/it]"
     ]
    },
    {
     "name": "stdout",
     "output_type": "stream",
     "text": [
      "The song midi-unprocessed_04_r1_2008_01-04_orig_mid--audio_04_r1_2008_wav--1-split does already exist for the configuration /home/falaxdb/Repos/minus1/transformer_decoder_training/saved_files/saved_models/transformer_1.8/tests/threshold_005/midi-unprocessed_04_r1_2008_01-04_orig_mid--audio_04_r1_2008_wav--1-split_configuration.json, skipping\n",
      "sequecne tensor: torch.Size([512, 24])\n",
      "sequence with start token tensor: torch.Size([513, 24])\n",
      "Could not test model from project /home/falaxdb/Repos/minus1/transformer_decoder_training/saved_files/saved_models/transformer_1.8, skipping. Error: Context needs to be shorter than whole sequence\n",
      "\n",
      "==============================\n",
      "Testing model transformer_1.9\n",
      "At location /home/falaxdb/Repos/minus1/transformer_decoder_training/saved_files/saved_models/transformer_1.9\n",
      "==============================\n",
      "\n",
      "Best epoch is epoch number 179\n"
     ]
    },
    {
     "name": "stderr",
     "output_type": "stream",
     "text": [
      "\n",
      "Testing configurations:   0%|          | 0/8 [00:00<?, ?it/s]\u001B[A\n",
      "\n",
      "Songs:   0%|          | 0/4 [00:00<?, ?it/s]\u001B[A\u001B[A"
     ]
    },
    {
     "name": "stdout",
     "output_type": "stream",
     "text": [
      "The song midi-unprocessed_04_r1_2008_01-04_orig_mid--audio_04_r1_2008_wav--1-split does already exist for the configuration /home/falaxdb/Repos/minus1/transformer_decoder_training/saved_files/saved_models/transformer_1.9/tests/threshold_005/midi-unprocessed_04_r1_2008_01-04_orig_mid--audio_04_r1_2008_wav--1-split_configuration.json, skipping\n",
      "The song simple_test does already exist for the configuration /home/falaxdb/Repos/minus1/transformer_decoder_training/saved_files/saved_models/transformer_1.9/tests/threshold_005/simple_test_configuration.json, skipping\n",
      "The song short_cord_progression does already exist for the configuration /home/falaxdb/Repos/minus1/transformer_decoder_training/saved_files/saved_models/transformer_1.9/tests/threshold_005/short_cord_progression_configuration.json, skipping\n",
      "sequecne tensor: torch.Size([2722, 24])\n",
      "sequence with start token tensor: torch.Size([2723, 24])\n",
      "context_seq tensor: torch.Size([1, 513, 24])\n",
      "continuing seq torch.Size([1, 2210, 24])\n",
      "Tokens to generate: 2210\n",
      "Elapsed time: 0.6948 seconds\n",
      "Binary Tensors after concatinating:  torch.Size([2210, 24])\n",
      "Binary Tensors after unsqueezing:  torch.Size([1, 2210, 24])\n",
      "Context sequence + Generated tokens:  torch.Size([1, 2723, 24])\n"
     ]
    },
    {
     "name": "stderr",
     "output_type": "stream",
     "text": [
      "\n",
      "\n",
      "Songs: 100%|██████████| 4/4 [00:00<00:00,  4.09it/s]\u001B[A\u001B[A\n",
      "\n",
      "                                                    \u001B[A\u001B[A\n",
      "Testing configurations:  12%|█▎        | 1/8 [00:00<00:06,  1.02it/s]\u001B[A"
     ]
    },
    {
     "name": "stdout",
     "output_type": "stream",
     "text": [
      "MIDI file saved to /home/falaxdb/Repos/minus1/transformer_decoder_training/saved_files/saved_models/transformer_1.9/tests/threshold_005/moritz_maria.mid\n"
     ]
    },
    {
     "name": "stderr",
     "output_type": "stream",
     "text": [
      "\n",
      "\n",
      "Songs:   0%|          | 0/4 [00:00<?, ?it/s]\u001B[A\u001B[A"
     ]
    },
    {
     "name": "stdout",
     "output_type": "stream",
     "text": [
      "The song midi-unprocessed_04_r1_2008_01-04_orig_mid--audio_04_r1_2008_wav--1-split does already exist for the configuration /home/falaxdb/Repos/minus1/transformer_decoder_training/saved_files/saved_models/transformer_1.9/tests/threshold_01/midi-unprocessed_04_r1_2008_01-04_orig_mid--audio_04_r1_2008_wav--1-split_configuration.json, skipping\n",
      "The song simple_test does already exist for the configuration /home/falaxdb/Repos/minus1/transformer_decoder_training/saved_files/saved_models/transformer_1.9/tests/threshold_01/simple_test_configuration.json, skipping\n",
      "The song short_cord_progression does already exist for the configuration /home/falaxdb/Repos/minus1/transformer_decoder_training/saved_files/saved_models/transformer_1.9/tests/threshold_01/short_cord_progression_configuration.json, skipping\n",
      "sequecne tensor: torch.Size([2722, 24])\n",
      "sequence with start token tensor: torch.Size([2723, 24])\n",
      "context_seq tensor: torch.Size([1, 513, 24])\n",
      "continuing seq torch.Size([1, 2210, 24])\n",
      "Tokens to generate: 2210\n",
      "Elapsed time: 0.7773 seconds\n",
      "Binary Tensors after concatinating:  torch.Size([2210, 24])\n",
      "Binary Tensors after unsqueezing:  torch.Size([1, 2210, 24])\n",
      "Context sequence + Generated tokens:  torch.Size([1, 2723, 24])\n"
     ]
    },
    {
     "name": "stderr",
     "output_type": "stream",
     "text": [
      "\n",
      "\n",
      "Songs: 100%|██████████| 4/4 [00:01<00:00,  3.65it/s]\u001B[A\u001B[A\n",
      "\n",
      "                                                    \u001B[A\u001B[A\n",
      "Testing configurations:  25%|██▌       | 2/8 [00:02<00:06,  1.05s/it]\u001B[A"
     ]
    },
    {
     "name": "stdout",
     "output_type": "stream",
     "text": [
      "MIDI file saved to /home/falaxdb/Repos/minus1/transformer_decoder_training/saved_files/saved_models/transformer_1.9/tests/threshold_01/moritz_maria.mid\n"
     ]
    },
    {
     "name": "stderr",
     "output_type": "stream",
     "text": [
      "\n",
      "\n",
      "Songs:   0%|          | 0/4 [00:00<?, ?it/s]\u001B[A\u001B[A"
     ]
    },
    {
     "name": "stdout",
     "output_type": "stream",
     "text": [
      "The song midi-unprocessed_04_r1_2008_01-04_orig_mid--audio_04_r1_2008_wav--1-split does already exist for the configuration /home/falaxdb/Repos/minus1/transformer_decoder_training/saved_files/saved_models/transformer_1.9/tests/threshold_015/midi-unprocessed_04_r1_2008_01-04_orig_mid--audio_04_r1_2008_wav--1-split_configuration.json, skipping\n",
      "The song simple_test does already exist for the configuration /home/falaxdb/Repos/minus1/transformer_decoder_training/saved_files/saved_models/transformer_1.9/tests/threshold_015/simple_test_configuration.json, skipping\n",
      "The song short_cord_progression does already exist for the configuration /home/falaxdb/Repos/minus1/transformer_decoder_training/saved_files/saved_models/transformer_1.9/tests/threshold_015/short_cord_progression_configuration.json, skipping\n",
      "sequecne tensor: torch.Size([2722, 24])\n",
      "sequence with start token tensor: torch.Size([2723, 24])\n",
      "context_seq tensor: torch.Size([1, 513, 24])\n",
      "continuing seq torch.Size([1, 2210, 24])\n",
      "Tokens to generate: 2210\n",
      "Elapsed time: 0.7443 seconds\n",
      "Binary Tensors after concatinating:  torch.Size([2210, 24])\n",
      "Binary Tensors after unsqueezing:  torch.Size([1, 2210, 24])\n",
      "Context sequence + Generated tokens:  torch.Size([1, 2723, 24])\n"
     ]
    },
    {
     "name": "stderr",
     "output_type": "stream",
     "text": [
      "\n",
      "\n",
      "Songs: 100%|██████████| 4/4 [00:01<00:00,  3.65it/s]\u001B[A\u001B[A\n",
      "\n",
      "                                                    \u001B[A\u001B[A\n",
      "Testing configurations:  38%|███▊      | 3/8 [00:03<00:05,  1.07s/it]\u001B[A"
     ]
    },
    {
     "name": "stdout",
     "output_type": "stream",
     "text": [
      "MIDI file saved to /home/falaxdb/Repos/minus1/transformer_decoder_training/saved_files/saved_models/transformer_1.9/tests/threshold_015/moritz_maria.mid\n"
     ]
    },
    {
     "name": "stderr",
     "output_type": "stream",
     "text": [
      "\n",
      "\n",
      "Songs:   0%|          | 0/4 [00:00<?, ?it/s]\u001B[A\u001B[A"
     ]
    },
    {
     "name": "stdout",
     "output_type": "stream",
     "text": [
      "The song midi-unprocessed_04_r1_2008_01-04_orig_mid--audio_04_r1_2008_wav--1-split does already exist for the configuration /home/falaxdb/Repos/minus1/transformer_decoder_training/saved_files/saved_models/transformer_1.9/tests/threshold_02/midi-unprocessed_04_r1_2008_01-04_orig_mid--audio_04_r1_2008_wav--1-split_configuration.json, skipping\n",
      "The song simple_test does already exist for the configuration /home/falaxdb/Repos/minus1/transformer_decoder_training/saved_files/saved_models/transformer_1.9/tests/threshold_02/simple_test_configuration.json, skipping\n",
      "The song short_cord_progression does already exist for the configuration /home/falaxdb/Repos/minus1/transformer_decoder_training/saved_files/saved_models/transformer_1.9/tests/threshold_02/short_cord_progression_configuration.json, skipping\n",
      "sequecne tensor: torch.Size([2722, 24])\n",
      "sequence with start token tensor: torch.Size([2723, 24])\n",
      "context_seq tensor: torch.Size([1, 513, 24])\n",
      "continuing seq torch.Size([1, 2210, 24])\n",
      "Tokens to generate: 2210\n",
      "Elapsed time: 0.6955 seconds\n",
      "Binary Tensors after concatinating:  torch.Size([2210, 24])\n",
      "Binary Tensors after unsqueezing:  torch.Size([1, 2210, 24])\n",
      "Context sequence + Generated tokens:  torch.Size([1, 2723, 24])\n"
     ]
    },
    {
     "name": "stderr",
     "output_type": "stream",
     "text": [
      "\n",
      "\n",
      "Songs: 100%|██████████| 4/4 [00:01<00:00,  3.92it/s]\u001B[A\u001B[A\n",
      "\n",
      "                                                    \u001B[A\u001B[A\n",
      "Testing configurations:  50%|█████     | 4/8 [00:04<00:04,  1.05s/it]\u001B[A"
     ]
    },
    {
     "name": "stdout",
     "output_type": "stream",
     "text": [
      "MIDI file saved to /home/falaxdb/Repos/minus1/transformer_decoder_training/saved_files/saved_models/transformer_1.9/tests/threshold_02/moritz_maria.mid\n"
     ]
    },
    {
     "name": "stderr",
     "output_type": "stream",
     "text": [
      "\n",
      "\n",
      "Songs:   0%|          | 0/4 [00:00<?, ?it/s]\u001B[A\u001B[A"
     ]
    },
    {
     "name": "stdout",
     "output_type": "stream",
     "text": [
      "The song midi-unprocessed_04_r1_2008_01-04_orig_mid--audio_04_r1_2008_wav--1-split does already exist for the configuration /home/falaxdb/Repos/minus1/transformer_decoder_training/saved_files/saved_models/transformer_1.9/tests/threshold_025/midi-unprocessed_04_r1_2008_01-04_orig_mid--audio_04_r1_2008_wav--1-split_configuration.json, skipping\n",
      "The song simple_test does already exist for the configuration /home/falaxdb/Repos/minus1/transformer_decoder_training/saved_files/saved_models/transformer_1.9/tests/threshold_025/simple_test_configuration.json, skipping\n",
      "The song short_cord_progression does already exist for the configuration /home/falaxdb/Repos/minus1/transformer_decoder_training/saved_files/saved_models/transformer_1.9/tests/threshold_025/short_cord_progression_configuration.json, skipping\n",
      "sequecne tensor: torch.Size([2722, 24])\n",
      "sequence with start token tensor: torch.Size([2723, 24])\n",
      "context_seq tensor: torch.Size([1, 513, 24])\n",
      "continuing seq torch.Size([1, 2210, 24])\n",
      "Tokens to generate: 2210\n",
      "Elapsed time: 0.7005 seconds\n",
      "Binary Tensors after concatinating:  torch.Size([2210, 24])\n",
      "Binary Tensors after unsqueezing:  torch.Size([1, 2210, 24])\n",
      "Context sequence + Generated tokens:  torch.Size([1, 2723, 24])\n"
     ]
    },
    {
     "name": "stderr",
     "output_type": "stream",
     "text": [
      "\n",
      "\n",
      "Songs: 100%|██████████| 4/4 [00:00<00:00,  4.10it/s]\u001B[A\u001B[A\n",
      "\n",
      "                                                    \u001B[A\u001B[A\n",
      "Testing configurations:  62%|██████▎   | 5/8 [00:05<00:03,  1.03s/it]\u001B[A"
     ]
    },
    {
     "name": "stdout",
     "output_type": "stream",
     "text": [
      "MIDI file saved to /home/falaxdb/Repos/minus1/transformer_decoder_training/saved_files/saved_models/transformer_1.9/tests/threshold_025/moritz_maria.mid\n"
     ]
    },
    {
     "name": "stderr",
     "output_type": "stream",
     "text": [
      "\n",
      "\n",
      "Songs:   0%|          | 0/4 [00:00<?, ?it/s]\u001B[A\u001B[A"
     ]
    },
    {
     "name": "stdout",
     "output_type": "stream",
     "text": [
      "The song midi-unprocessed_04_r1_2008_01-04_orig_mid--audio_04_r1_2008_wav--1-split does already exist for the configuration /home/falaxdb/Repos/minus1/transformer_decoder_training/saved_files/saved_models/transformer_1.9/tests/threshold_05/midi-unprocessed_04_r1_2008_01-04_orig_mid--audio_04_r1_2008_wav--1-split_configuration.json, skipping\n",
      "The song simple_test does already exist for the configuration /home/falaxdb/Repos/minus1/transformer_decoder_training/saved_files/saved_models/transformer_1.9/tests/threshold_05/simple_test_configuration.json, skipping\n",
      "The song short_cord_progression does already exist for the configuration /home/falaxdb/Repos/minus1/transformer_decoder_training/saved_files/saved_models/transformer_1.9/tests/threshold_05/short_cord_progression_configuration.json, skipping\n",
      "sequecne tensor: torch.Size([2722, 24])\n",
      "sequence with start token tensor: torch.Size([2723, 24])\n",
      "context_seq tensor: torch.Size([1, 513, 24])\n",
      "continuing seq torch.Size([1, 2210, 24])\n",
      "Tokens to generate: 2210\n",
      "Elapsed time: 0.6777 seconds\n",
      "Binary Tensors after concatinating:  torch.Size([2210, 24])\n",
      "Binary Tensors after unsqueezing:  torch.Size([1, 2210, 24])\n",
      "Context sequence + Generated tokens:  torch.Size([1, 2723, 24])\n"
     ]
    },
    {
     "name": "stderr",
     "output_type": "stream",
     "text": [
      "\n",
      "\n",
      "Songs: 100%|██████████| 4/4 [00:00<00:00,  4.20it/s]\u001B[A\u001B[A\n",
      "\n",
      "                                                    \u001B[A\u001B[A\n",
      "Testing configurations:  75%|███████▌  | 6/8 [00:06<00:02,  1.00s/it]\u001B[A"
     ]
    },
    {
     "name": "stdout",
     "output_type": "stream",
     "text": [
      "MIDI file saved to /home/falaxdb/Repos/minus1/transformer_decoder_training/saved_files/saved_models/transformer_1.9/tests/threshold_05/moritz_maria.mid\n"
     ]
    },
    {
     "name": "stderr",
     "output_type": "stream",
     "text": [
      "\n",
      "\n",
      "Songs:   0%|          | 0/4 [00:00<?, ?it/s]\u001B[A\u001B[A"
     ]
    },
    {
     "name": "stdout",
     "output_type": "stream",
     "text": [
      "The song midi-unprocessed_04_r1_2008_01-04_orig_mid--audio_04_r1_2008_wav--1-split does already exist for the configuration /home/falaxdb/Repos/minus1/transformer_decoder_training/saved_files/saved_models/transformer_1.9/tests/threshold_03/midi-unprocessed_04_r1_2008_01-04_orig_mid--audio_04_r1_2008_wav--1-split_configuration.json, skipping\n",
      "The song simple_test does already exist for the configuration /home/falaxdb/Repos/minus1/transformer_decoder_training/saved_files/saved_models/transformer_1.9/tests/threshold_03/simple_test_configuration.json, skipping\n",
      "The song short_cord_progression does already exist for the configuration /home/falaxdb/Repos/minus1/transformer_decoder_training/saved_files/saved_models/transformer_1.9/tests/threshold_03/short_cord_progression_configuration.json, skipping\n",
      "sequecne tensor: torch.Size([2722, 24])\n",
      "sequence with start token tensor: torch.Size([2723, 24])\n",
      "context_seq tensor: torch.Size([1, 513, 24])\n",
      "continuing seq torch.Size([1, 2210, 24])\n",
      "Tokens to generate: 2210\n",
      "Elapsed time: 0.6766 seconds\n",
      "Binary Tensors after concatinating:  torch.Size([2210, 24])\n",
      "Binary Tensors after unsqueezing:  torch.Size([1, 2210, 24])\n",
      "Context sequence + Generated tokens:  torch.Size([1, 2723, 24])\n"
     ]
    },
    {
     "name": "stderr",
     "output_type": "stream",
     "text": [
      "\n",
      "\n",
      "Songs: 100%|██████████| 4/4 [00:00<00:00,  4.04it/s]\u001B[A\u001B[A\n",
      "\n",
      "                                                    \u001B[A\u001B[A\n",
      "Testing configurations:  88%|████████▊ | 7/8 [00:07<00:00,  1.00it/s]\u001B[A"
     ]
    },
    {
     "name": "stdout",
     "output_type": "stream",
     "text": [
      "MIDI file saved to /home/falaxdb/Repos/minus1/transformer_decoder_training/saved_files/saved_models/transformer_1.9/tests/threshold_03/moritz_maria.mid\n"
     ]
    },
    {
     "name": "stderr",
     "output_type": "stream",
     "text": [
      "\n",
      "\n",
      "Songs:   0%|          | 0/4 [00:00<?, ?it/s]\u001B[A\u001B[A"
     ]
    },
    {
     "name": "stdout",
     "output_type": "stream",
     "text": [
      "The song midi-unprocessed_04_r1_2008_01-04_orig_mid--audio_04_r1_2008_wav--1-split does already exist for the configuration /home/falaxdb/Repos/minus1/transformer_decoder_training/saved_files/saved_models/transformer_1.9/tests/top_k/midi-unprocessed_04_r1_2008_01-04_orig_mid--audio_04_r1_2008_wav--1-split_configuration.json, skipping\n",
      "The song simple_test does already exist for the configuration /home/falaxdb/Repos/minus1/transformer_decoder_training/saved_files/saved_models/transformer_1.9/tests/top_k/simple_test_configuration.json, skipping\n",
      "The song short_cord_progression does already exist for the configuration /home/falaxdb/Repos/minus1/transformer_decoder_training/saved_files/saved_models/transformer_1.9/tests/top_k/short_cord_progression_configuration.json, skipping\n",
      "sequecne tensor: torch.Size([2722, 24])\n",
      "sequence with start token tensor: torch.Size([2723, 24])\n",
      "context_seq tensor: torch.Size([1, 513, 24])\n",
      "continuing seq torch.Size([1, 2210, 24])\n",
      "Tokens to generate: 2210\n",
      "Elapsed time: 0.8164 seconds\n",
      "Binary Tensors after concatinating:  torch.Size([2210, 24])\n",
      "Binary Tensors after unsqueezing:  torch.Size([1, 2210, 24])\n",
      "Context sequence + Generated tokens:  torch.Size([1, 2723, 24])\n"
     ]
    },
    {
     "name": "stderr",
     "output_type": "stream",
     "text": [
      "\n",
      "\n",
      "Songs: 100%|██████████| 4/4 [00:01<00:00,  3.64it/s]\u001B[A\u001B[A\n",
      "\n",
      "                                                    \u001B[A\u001B[A\n",
      "Testing configurations: 100%|██████████| 8/8 [00:08<00:00,  1.03s/it]\u001B[A\n",
      "Projects:  84%|████████▍ | 16/19 [06:26<00:56, 18.89s/it]            \u001B[A"
     ]
    },
    {
     "name": "stdout",
     "output_type": "stream",
     "text": [
      "MIDI file saved to /home/falaxdb/Repos/minus1/transformer_decoder_training/saved_files/saved_models/transformer_1.9/tests/top_k/moritz_maria.mid\n",
      "\n",
      "==============================\n",
      "Testing model transformer_1.10\n",
      "At location /home/falaxdb/Repos/minus1/transformer_decoder_training/saved_files/saved_models/transformer_1.10\n",
      "==============================\n",
      "\n",
      "Best epoch is epoch number 127\n"
     ]
    },
    {
     "name": "stderr",
     "output_type": "stream",
     "text": [
      "\n",
      "Testing configurations:   0%|          | 0/8 [00:00<?, ?it/s]\u001B[A\n",
      "\n",
      "Songs:   0%|          | 0/4 [00:00<?, ?it/s]\u001B[A\u001B[A"
     ]
    },
    {
     "name": "stdout",
     "output_type": "stream",
     "text": [
      "The song midi-unprocessed_04_r1_2008_01-04_orig_mid--audio_04_r1_2008_wav--1-split does already exist for the configuration /home/falaxdb/Repos/minus1/transformer_decoder_training/saved_files/saved_models/transformer_1.10/tests/threshold_005/midi-unprocessed_04_r1_2008_01-04_orig_mid--audio_04_r1_2008_wav--1-split_configuration.json, skipping\n",
      "The song simple_test does already exist for the configuration /home/falaxdb/Repos/minus1/transformer_decoder_training/saved_files/saved_models/transformer_1.10/tests/threshold_005/simple_test_configuration.json, skipping\n",
      "The song short_cord_progression does already exist for the configuration /home/falaxdb/Repos/minus1/transformer_decoder_training/saved_files/saved_models/transformer_1.10/tests/threshold_005/short_cord_progression_configuration.json, skipping\n",
      "sequecne tensor: torch.Size([2722, 24])\n",
      "sequence with start token tensor: torch.Size([2723, 24])\n",
      "context_seq tensor: torch.Size([1, 513, 24])\n",
      "continuing seq torch.Size([1, 2210, 24])\n",
      "Tokens to generate: 2210\n",
      "Elapsed time: 0.6828 seconds\n",
      "Binary Tensors after concatinating:  torch.Size([2210, 24])\n",
      "Binary Tensors after unsqueezing:  torch.Size([1, 2210, 24])\n",
      "Context sequence + Generated tokens:  torch.Size([1, 2723, 24])\n"
     ]
    },
    {
     "name": "stderr",
     "output_type": "stream",
     "text": [
      "\n",
      "\n",
      "Songs: 100%|██████████| 4/4 [00:00<00:00,  4.18it/s]\u001B[A\u001B[A\n",
      "\n",
      "                                                    \u001B[A\u001B[A\n",
      "Testing configurations:  12%|█▎        | 1/8 [00:00<00:06,  1.04it/s]\u001B[A"
     ]
    },
    {
     "name": "stdout",
     "output_type": "stream",
     "text": [
      "MIDI file saved to /home/falaxdb/Repos/minus1/transformer_decoder_training/saved_files/saved_models/transformer_1.10/tests/threshold_005/moritz_maria.mid\n"
     ]
    },
    {
     "name": "stderr",
     "output_type": "stream",
     "text": [
      "\n",
      "\n",
      "Songs:   0%|          | 0/4 [00:00<?, ?it/s]\u001B[A\u001B[A"
     ]
    },
    {
     "name": "stdout",
     "output_type": "stream",
     "text": [
      "The song midi-unprocessed_04_r1_2008_01-04_orig_mid--audio_04_r1_2008_wav--1-split does already exist for the configuration /home/falaxdb/Repos/minus1/transformer_decoder_training/saved_files/saved_models/transformer_1.10/tests/threshold_01/midi-unprocessed_04_r1_2008_01-04_orig_mid--audio_04_r1_2008_wav--1-split_configuration.json, skipping\n",
      "The song simple_test does already exist for the configuration /home/falaxdb/Repos/minus1/transformer_decoder_training/saved_files/saved_models/transformer_1.10/tests/threshold_01/simple_test_configuration.json, skipping\n",
      "The song short_cord_progression does already exist for the configuration /home/falaxdb/Repos/minus1/transformer_decoder_training/saved_files/saved_models/transformer_1.10/tests/threshold_01/short_cord_progression_configuration.json, skipping\n",
      "sequecne tensor: torch.Size([2722, 24])\n",
      "sequence with start token tensor: torch.Size([2723, 24])\n",
      "context_seq tensor: torch.Size([1, 513, 24])\n",
      "continuing seq torch.Size([1, 2210, 24])\n",
      "Tokens to generate: 2210\n",
      "Elapsed time: 0.6815 seconds\n",
      "Binary Tensors after concatinating:  torch.Size([2210, 24])\n",
      "Binary Tensors after unsqueezing:  torch.Size([1, 2210, 24])\n",
      "Context sequence + Generated tokens:  torch.Size([1, 2723, 24])\n"
     ]
    },
    {
     "name": "stderr",
     "output_type": "stream",
     "text": [
      "\n",
      "\n",
      "Songs: 100%|██████████| 4/4 [00:00<00:00,  4.16it/s]\u001B[A\u001B[A\n",
      "\n",
      "                                                    \u001B[A\u001B[A\n",
      "Testing configurations:  25%|██▌       | 2/8 [00:01<00:05,  1.04it/s]\u001B[A"
     ]
    },
    {
     "name": "stdout",
     "output_type": "stream",
     "text": [
      "MIDI file saved to /home/falaxdb/Repos/minus1/transformer_decoder_training/saved_files/saved_models/transformer_1.10/tests/threshold_01/moritz_maria.mid\n"
     ]
    },
    {
     "name": "stderr",
     "output_type": "stream",
     "text": [
      "\n",
      "\n",
      "Songs:   0%|          | 0/4 [00:00<?, ?it/s]\u001B[A\u001B[A"
     ]
    },
    {
     "name": "stdout",
     "output_type": "stream",
     "text": [
      "The song midi-unprocessed_04_r1_2008_01-04_orig_mid--audio_04_r1_2008_wav--1-split does already exist for the configuration /home/falaxdb/Repos/minus1/transformer_decoder_training/saved_files/saved_models/transformer_1.10/tests/threshold_015/midi-unprocessed_04_r1_2008_01-04_orig_mid--audio_04_r1_2008_wav--1-split_configuration.json, skipping\n",
      "The song simple_test does already exist for the configuration /home/falaxdb/Repos/minus1/transformer_decoder_training/saved_files/saved_models/transformer_1.10/tests/threshold_015/simple_test_configuration.json, skipping\n",
      "The song short_cord_progression does already exist for the configuration /home/falaxdb/Repos/minus1/transformer_decoder_training/saved_files/saved_models/transformer_1.10/tests/threshold_015/short_cord_progression_configuration.json, skipping\n",
      "sequecne tensor: torch.Size([2722, 24])\n",
      "sequence with start token tensor: torch.Size([2723, 24])\n",
      "context_seq tensor: torch.Size([1, 513, 24])\n",
      "continuing seq torch.Size([1, 2210, 24])\n",
      "Tokens to generate: 2210\n",
      "Elapsed time: 0.6806 seconds\n",
      "Binary Tensors after concatinating:  torch.Size([2210, 24])\n",
      "Binary Tensors after unsqueezing:  torch.Size([1, 2210, 24])\n",
      "Context sequence + Generated tokens:  torch.Size([1, 2723, 24])\n"
     ]
    },
    {
     "name": "stderr",
     "output_type": "stream",
     "text": [
      "\n",
      "\n",
      "Songs: 100%|██████████| 4/4 [00:00<00:00,  4.18it/s]\u001B[A\u001B[A\n",
      "\n",
      "                                                    \u001B[A\u001B[A\n",
      "Testing configurations:  38%|███▊      | 3/8 [00:02<00:04,  1.04it/s]\u001B[A"
     ]
    },
    {
     "name": "stdout",
     "output_type": "stream",
     "text": [
      "MIDI file saved to /home/falaxdb/Repos/minus1/transformer_decoder_training/saved_files/saved_models/transformer_1.10/tests/threshold_015/moritz_maria.mid\n"
     ]
    },
    {
     "name": "stderr",
     "output_type": "stream",
     "text": [
      "\n",
      "\n",
      "Songs:   0%|          | 0/4 [00:00<?, ?it/s]\u001B[A\u001B[A"
     ]
    },
    {
     "name": "stdout",
     "output_type": "stream",
     "text": [
      "The song midi-unprocessed_04_r1_2008_01-04_orig_mid--audio_04_r1_2008_wav--1-split does already exist for the configuration /home/falaxdb/Repos/minus1/transformer_decoder_training/saved_files/saved_models/transformer_1.10/tests/threshold_02/midi-unprocessed_04_r1_2008_01-04_orig_mid--audio_04_r1_2008_wav--1-split_configuration.json, skipping\n",
      "The song simple_test does already exist for the configuration /home/falaxdb/Repos/minus1/transformer_decoder_training/saved_files/saved_models/transformer_1.10/tests/threshold_02/simple_test_configuration.json, skipping\n",
      "The song short_cord_progression does already exist for the configuration /home/falaxdb/Repos/minus1/transformer_decoder_training/saved_files/saved_models/transformer_1.10/tests/threshold_02/short_cord_progression_configuration.json, skipping\n",
      "sequecne tensor: torch.Size([2722, 24])\n",
      "sequence with start token tensor: torch.Size([2723, 24])\n",
      "context_seq tensor: torch.Size([1, 513, 24])\n",
      "continuing seq torch.Size([1, 2210, 24])\n",
      "Tokens to generate: 2210\n",
      "Elapsed time: 0.7003 seconds\n",
      "Binary Tensors after concatinating:  torch.Size([2210, 24])\n",
      "Binary Tensors after unsqueezing:  torch.Size([1, 2210, 24])\n",
      "Context sequence + Generated tokens:  torch.Size([1, 2723, 24])\n"
     ]
    },
    {
     "name": "stderr",
     "output_type": "stream",
     "text": [
      "\n",
      "\n",
      "Songs: 100%|██████████| 4/4 [00:01<00:00,  3.94it/s]\u001B[A\u001B[A\n",
      "\n",
      "                                                    \u001B[A\u001B[A\n",
      "Testing configurations:  50%|█████     | 4/8 [00:03<00:03,  1.02it/s]\u001B[A"
     ]
    },
    {
     "name": "stdout",
     "output_type": "stream",
     "text": [
      "MIDI file saved to /home/falaxdb/Repos/minus1/transformer_decoder_training/saved_files/saved_models/transformer_1.10/tests/threshold_02/moritz_maria.mid\n"
     ]
    },
    {
     "name": "stderr",
     "output_type": "stream",
     "text": [
      "\n",
      "\n",
      "Songs:   0%|          | 0/4 [00:00<?, ?it/s]\u001B[A\u001B[A"
     ]
    },
    {
     "name": "stdout",
     "output_type": "stream",
     "text": [
      "The song midi-unprocessed_04_r1_2008_01-04_orig_mid--audio_04_r1_2008_wav--1-split does already exist for the configuration /home/falaxdb/Repos/minus1/transformer_decoder_training/saved_files/saved_models/transformer_1.10/tests/threshold_025/midi-unprocessed_04_r1_2008_01-04_orig_mid--audio_04_r1_2008_wav--1-split_configuration.json, skipping\n",
      "The song simple_test does already exist for the configuration /home/falaxdb/Repos/minus1/transformer_decoder_training/saved_files/saved_models/transformer_1.10/tests/threshold_025/simple_test_configuration.json, skipping\n",
      "The song short_cord_progression does already exist for the configuration /home/falaxdb/Repos/minus1/transformer_decoder_training/saved_files/saved_models/transformer_1.10/tests/threshold_025/short_cord_progression_configuration.json, skipping\n",
      "sequecne tensor: torch.Size([2722, 24])\n",
      "sequence with start token tensor: torch.Size([2723, 24])\n",
      "context_seq tensor: torch.Size([1, 513, 24])\n",
      "continuing seq torch.Size([1, 2210, 24])\n",
      "Tokens to generate: 2210\n",
      "Elapsed time: 0.7002 seconds\n",
      "Binary Tensors after concatinating:  torch.Size([2210, 24])\n",
      "Binary Tensors after unsqueezing:  torch.Size([1, 2210, 24])\n",
      "Context sequence + Generated tokens:  torch.Size([1, 2723, 24])\n"
     ]
    },
    {
     "name": "stderr",
     "output_type": "stream",
     "text": [
      "\n",
      "\n",
      "Songs: 100%|██████████| 4/4 [00:00<00:00,  4.02it/s]\u001B[A\u001B[A\n",
      "\n",
      "                                                    \u001B[A\u001B[A\n",
      "Testing configurations:  62%|██████▎   | 5/8 [00:04<00:02,  1.01it/s]\u001B[A"
     ]
    },
    {
     "name": "stdout",
     "output_type": "stream",
     "text": [
      "MIDI file saved to /home/falaxdb/Repos/minus1/transformer_decoder_training/saved_files/saved_models/transformer_1.10/tests/threshold_025/moritz_maria.mid\n"
     ]
    },
    {
     "name": "stderr",
     "output_type": "stream",
     "text": [
      "\n",
      "\n",
      "Songs:   0%|          | 0/4 [00:00<?, ?it/s]\u001B[A\u001B[A"
     ]
    },
    {
     "name": "stdout",
     "output_type": "stream",
     "text": [
      "The song midi-unprocessed_04_r1_2008_01-04_orig_mid--audio_04_r1_2008_wav--1-split does already exist for the configuration /home/falaxdb/Repos/minus1/transformer_decoder_training/saved_files/saved_models/transformer_1.10/tests/threshold_05/midi-unprocessed_04_r1_2008_01-04_orig_mid--audio_04_r1_2008_wav--1-split_configuration.json, skipping\n",
      "The song simple_test does already exist for the configuration /home/falaxdb/Repos/minus1/transformer_decoder_training/saved_files/saved_models/transformer_1.10/tests/threshold_05/simple_test_configuration.json, skipping\n",
      "The song short_cord_progression does already exist for the configuration /home/falaxdb/Repos/minus1/transformer_decoder_training/saved_files/saved_models/transformer_1.10/tests/threshold_05/short_cord_progression_configuration.json, skipping\n",
      "sequecne tensor: torch.Size([2722, 24])\n",
      "sequence with start token tensor: torch.Size([2723, 24])\n",
      "context_seq tensor: torch.Size([1, 513, 24])\n",
      "continuing seq torch.Size([1, 2210, 24])\n",
      "Tokens to generate: 2210\n",
      "Elapsed time: 0.6864 seconds\n",
      "Binary Tensors after concatinating:  torch.Size([2210, 24])\n",
      "Binary Tensors after unsqueezing:  torch.Size([1, 2210, 24])\n",
      "Context sequence + Generated tokens:  torch.Size([1, 2723, 24])\n"
     ]
    },
    {
     "name": "stderr",
     "output_type": "stream",
     "text": [
      "\n",
      "\n",
      "Songs: 100%|██████████| 4/4 [00:00<00:00,  4.15it/s]\u001B[A\u001B[A\n",
      "\n",
      "                                                    \u001B[A\u001B[A\n",
      "Testing configurations:  75%|███████▌  | 6/8 [00:05<00:01,  1.02it/s]\u001B[A"
     ]
    },
    {
     "name": "stdout",
     "output_type": "stream",
     "text": [
      "MIDI file saved to /home/falaxdb/Repos/minus1/transformer_decoder_training/saved_files/saved_models/transformer_1.10/tests/threshold_05/moritz_maria.mid\n"
     ]
    },
    {
     "name": "stderr",
     "output_type": "stream",
     "text": [
      "\n",
      "\n",
      "Songs:   0%|          | 0/4 [00:00<?, ?it/s]\u001B[A\u001B[A"
     ]
    },
    {
     "name": "stdout",
     "output_type": "stream",
     "text": [
      "The song midi-unprocessed_04_r1_2008_01-04_orig_mid--audio_04_r1_2008_wav--1-split does already exist for the configuration /home/falaxdb/Repos/minus1/transformer_decoder_training/saved_files/saved_models/transformer_1.10/tests/threshold_03/midi-unprocessed_04_r1_2008_01-04_orig_mid--audio_04_r1_2008_wav--1-split_configuration.json, skipping\n",
      "The song simple_test does already exist for the configuration /home/falaxdb/Repos/minus1/transformer_decoder_training/saved_files/saved_models/transformer_1.10/tests/threshold_03/simple_test_configuration.json, skipping\n",
      "The song short_cord_progression does already exist for the configuration /home/falaxdb/Repos/minus1/transformer_decoder_training/saved_files/saved_models/transformer_1.10/tests/threshold_03/short_cord_progression_configuration.json, skipping\n",
      "sequecne tensor: torch.Size([2722, 24])\n",
      "sequence with start token tensor: torch.Size([2723, 24])\n",
      "context_seq tensor: torch.Size([1, 513, 24])\n",
      "continuing seq torch.Size([1, 2210, 24])\n",
      "Tokens to generate: 2210\n",
      "Elapsed time: 0.6832 seconds\n",
      "Binary Tensors after concatinating:  torch.Size([2210, 24])\n",
      "Binary Tensors after unsqueezing:  torch.Size([1, 2210, 24])\n",
      "Context sequence + Generated tokens:  torch.Size([1, 2723, 24])\n"
     ]
    },
    {
     "name": "stderr",
     "output_type": "stream",
     "text": [
      "\n",
      "\n",
      "Songs: 100%|██████████| 4/4 [00:00<00:00,  4.01it/s]\u001B[A\u001B[A\n",
      "\n",
      "                                                    \u001B[A\u001B[A\n",
      "Testing configurations:  88%|████████▊ | 7/8 [00:06<00:00,  1.01it/s]\u001B[A"
     ]
    },
    {
     "name": "stdout",
     "output_type": "stream",
     "text": [
      "MIDI file saved to /home/falaxdb/Repos/minus1/transformer_decoder_training/saved_files/saved_models/transformer_1.10/tests/threshold_03/moritz_maria.mid\n"
     ]
    },
    {
     "name": "stderr",
     "output_type": "stream",
     "text": [
      "\n",
      "\n",
      "Songs:   0%|          | 0/4 [00:00<?, ?it/s]\u001B[A\u001B[A"
     ]
    },
    {
     "name": "stdout",
     "output_type": "stream",
     "text": [
      "The song midi-unprocessed_04_r1_2008_01-04_orig_mid--audio_04_r1_2008_wav--1-split does already exist for the configuration /home/falaxdb/Repos/minus1/transformer_decoder_training/saved_files/saved_models/transformer_1.10/tests/top_k/midi-unprocessed_04_r1_2008_01-04_orig_mid--audio_04_r1_2008_wav--1-split_configuration.json, skipping\n",
      "The song simple_test does already exist for the configuration /home/falaxdb/Repos/minus1/transformer_decoder_training/saved_files/saved_models/transformer_1.10/tests/top_k/simple_test_configuration.json, skipping\n",
      "The song short_cord_progression does already exist for the configuration /home/falaxdb/Repos/minus1/transformer_decoder_training/saved_files/saved_models/transformer_1.10/tests/top_k/short_cord_progression_configuration.json, skipping\n",
      "sequecne tensor: torch.Size([2722, 24])\n",
      "sequence with start token tensor: torch.Size([2723, 24])\n",
      "context_seq tensor: torch.Size([1, 513, 24])\n",
      "continuing seq torch.Size([1, 2210, 24])\n",
      "Tokens to generate: 2210\n",
      "Elapsed time: 0.8075 seconds\n",
      "Binary Tensors after concatinating:  torch.Size([2210, 24])\n",
      "Binary Tensors after unsqueezing:  torch.Size([1, 2210, 24])\n",
      "Context sequence + Generated tokens:  torch.Size([1, 2723, 24])\n"
     ]
    },
    {
     "name": "stderr",
     "output_type": "stream",
     "text": [
      "\n",
      "\n",
      "Songs: 100%|██████████| 4/4 [00:01<00:00,  3.69it/s]\u001B[A\u001B[A\n",
      "\n",
      "                                                    \u001B[A\u001B[A\n",
      "Testing configurations: 100%|██████████| 8/8 [00:07<00:00,  1.02s/it]\u001B[A\n",
      "Projects:  89%|████████▉ | 17/19 [06:35<00:31, 15.72s/it]            \u001B[A"
     ]
    },
    {
     "name": "stdout",
     "output_type": "stream",
     "text": [
      "MIDI file saved to /home/falaxdb/Repos/minus1/transformer_decoder_training/saved_files/saved_models/transformer_1.10/tests/top_k/moritz_maria.mid\n",
      "\n",
      "==============================\n",
      "Testing model transformer_3.0\n",
      "At location /home/falaxdb/Repos/minus1/transformer_decoder_training/saved_files/saved_models/transformer_3.0\n",
      "==============================\n",
      "\n",
      "Best epoch is epoch number 9\n"
     ]
    },
    {
     "name": "stderr",
     "output_type": "stream",
     "text": [
      "\n",
      "Testing configurations:   0%|          | 0/8 [00:00<?, ?it/s]\u001B[A\n",
      "\n",
      "Songs:   0%|          | 0/4 [00:00<?, ?it/s]\u001B[A\u001B[A"
     ]
    },
    {
     "name": "stdout",
     "output_type": "stream",
     "text": [
      "The song midi-unprocessed_04_r1_2008_01-04_orig_mid--audio_04_r1_2008_wav--1-split does already exist for the configuration /home/falaxdb/Repos/minus1/transformer_decoder_training/saved_files/saved_models/transformer_3.0/tests/threshold_005/midi-unprocessed_04_r1_2008_01-04_orig_mid--audio_04_r1_2008_wav--1-split_configuration.json, skipping\n",
      "The song simple_test does already exist for the configuration /home/falaxdb/Repos/minus1/transformer_decoder_training/saved_files/saved_models/transformer_3.0/tests/threshold_005/simple_test_configuration.json, skipping\n",
      "The song short_cord_progression does already exist for the configuration /home/falaxdb/Repos/minus1/transformer_decoder_training/saved_files/saved_models/transformer_3.0/tests/threshold_005/short_cord_progression_configuration.json, skipping\n",
      "sequecne tensor: torch.Size([2722, 24])\n",
      "sequence with start token tensor: torch.Size([2723, 24])\n",
      "context_seq tensor: torch.Size([1, 513, 24])\n",
      "continuing seq torch.Size([1, 2210, 24])\n",
      "Tokens to generate: 2210\n",
      "Elapsed time: 12.4510 seconds\n",
      "Binary Tensors after concatinating:  torch.Size([2210, 24])\n",
      "Binary Tensors after unsqueezing:  torch.Size([1, 2210, 24])\n",
      "Context sequence + Generated tokens:  torch.Size([1, 2723, 24])\n"
     ]
    },
    {
     "name": "stderr",
     "output_type": "stream",
     "text": [
      "\n",
      "\n",
      "Songs: 100%|██████████| 4/4 [00:12<00:00,  3.19s/it]\u001B[A\u001B[A\n",
      "\n",
      "                                                    \u001B[A\u001B[A\n",
      "Testing configurations:  12%|█▎        | 1/8 [00:12<01:29, 12.77s/it]\u001B[A"
     ]
    },
    {
     "name": "stdout",
     "output_type": "stream",
     "text": [
      "MIDI file saved to /home/falaxdb/Repos/minus1/transformer_decoder_training/saved_files/saved_models/transformer_3.0/tests/threshold_005/moritz_maria.mid\n"
     ]
    },
    {
     "name": "stderr",
     "output_type": "stream",
     "text": [
      "\n",
      "\n",
      "Songs:   0%|          | 0/4 [00:00<?, ?it/s]\u001B[A\u001B[A"
     ]
    },
    {
     "name": "stdout",
     "output_type": "stream",
     "text": [
      "The song midi-unprocessed_04_r1_2008_01-04_orig_mid--audio_04_r1_2008_wav--1-split does already exist for the configuration /home/falaxdb/Repos/minus1/transformer_decoder_training/saved_files/saved_models/transformer_3.0/tests/threshold_01/midi-unprocessed_04_r1_2008_01-04_orig_mid--audio_04_r1_2008_wav--1-split_configuration.json, skipping\n",
      "The song simple_test does already exist for the configuration /home/falaxdb/Repos/minus1/transformer_decoder_training/saved_files/saved_models/transformer_3.0/tests/threshold_01/simple_test_configuration.json, skipping\n",
      "The song short_cord_progression does already exist for the configuration /home/falaxdb/Repos/minus1/transformer_decoder_training/saved_files/saved_models/transformer_3.0/tests/threshold_01/short_cord_progression_configuration.json, skipping\n",
      "sequecne tensor: torch.Size([2722, 24])\n",
      "sequence with start token tensor: torch.Size([2723, 24])\n",
      "context_seq tensor: torch.Size([1, 513, 24])\n",
      "continuing seq torch.Size([1, 2210, 24])\n",
      "Tokens to generate: 2210\n",
      "Elapsed time: 11.8743 seconds\n",
      "Binary Tensors after concatinating:  torch.Size([2210, 24])\n",
      "Binary Tensors after unsqueezing:  torch.Size([1, 2210, 24])\n",
      "Context sequence + Generated tokens:  torch.Size([1, 2723, 24])\n"
     ]
    },
    {
     "name": "stderr",
     "output_type": "stream",
     "text": [
      "\n",
      "\n",
      "Songs: 100%|██████████| 4/4 [00:12<00:00,  3.04s/it]\u001B[A\u001B[A\n",
      "\n",
      "                                                    \u001B[A\u001B[A\n",
      "Testing configurations:  25%|██▌       | 2/8 [00:24<01:14, 12.42s/it]\u001B[A"
     ]
    },
    {
     "name": "stdout",
     "output_type": "stream",
     "text": [
      "MIDI file saved to /home/falaxdb/Repos/minus1/transformer_decoder_training/saved_files/saved_models/transformer_3.0/tests/threshold_01/moritz_maria.mid\n"
     ]
    },
    {
     "name": "stderr",
     "output_type": "stream",
     "text": [
      "\n",
      "\n",
      "Songs:   0%|          | 0/4 [00:00<?, ?it/s]\u001B[A\u001B[A"
     ]
    },
    {
     "name": "stdout",
     "output_type": "stream",
     "text": [
      "The song midi-unprocessed_04_r1_2008_01-04_orig_mid--audio_04_r1_2008_wav--1-split does already exist for the configuration /home/falaxdb/Repos/minus1/transformer_decoder_training/saved_files/saved_models/transformer_3.0/tests/threshold_015/midi-unprocessed_04_r1_2008_01-04_orig_mid--audio_04_r1_2008_wav--1-split_configuration.json, skipping\n",
      "The song simple_test does already exist for the configuration /home/falaxdb/Repos/minus1/transformer_decoder_training/saved_files/saved_models/transformer_3.0/tests/threshold_015/simple_test_configuration.json, skipping\n",
      "The song short_cord_progression does already exist for the configuration /home/falaxdb/Repos/minus1/transformer_decoder_training/saved_files/saved_models/transformer_3.0/tests/threshold_015/short_cord_progression_configuration.json, skipping\n",
      "sequecne tensor: torch.Size([2722, 24])\n",
      "sequence with start token tensor: torch.Size([2723, 24])\n",
      "context_seq tensor: torch.Size([1, 513, 24])\n",
      "continuing seq torch.Size([1, 2210, 24])\n",
      "Tokens to generate: 2210\n",
      "Elapsed time: 10.7825 seconds\n",
      "Binary Tensors after concatinating:  torch.Size([2210, 24])\n",
      "Binary Tensors after unsqueezing:  torch.Size([1, 2210, 24])\n",
      "Context sequence + Generated tokens:  torch.Size([1, 2723, 24])\n"
     ]
    },
    {
     "name": "stderr",
     "output_type": "stream",
     "text": [
      "\n",
      "\n",
      "Songs: 100%|██████████| 4/4 [00:11<00:00,  2.77s/it]\u001B[A\u001B[A\n",
      "\n",
      "                                                    \u001B[A\u001B[A\n",
      "Testing configurations:  38%|███▊      | 3/8 [00:36<00:59, 11.81s/it]\u001B[A"
     ]
    },
    {
     "name": "stdout",
     "output_type": "stream",
     "text": [
      "MIDI file saved to /home/falaxdb/Repos/minus1/transformer_decoder_training/saved_files/saved_models/transformer_3.0/tests/threshold_015/moritz_maria.mid\n"
     ]
    },
    {
     "name": "stderr",
     "output_type": "stream",
     "text": [
      "\n",
      "\n",
      "Songs:   0%|          | 0/4 [00:00<?, ?it/s]\u001B[A\u001B[A"
     ]
    },
    {
     "name": "stdout",
     "output_type": "stream",
     "text": [
      "The song midi-unprocessed_04_r1_2008_01-04_orig_mid--audio_04_r1_2008_wav--1-split does already exist for the configuration /home/falaxdb/Repos/minus1/transformer_decoder_training/saved_files/saved_models/transformer_3.0/tests/threshold_02/midi-unprocessed_04_r1_2008_01-04_orig_mid--audio_04_r1_2008_wav--1-split_configuration.json, skipping\n",
      "The song simple_test does already exist for the configuration /home/falaxdb/Repos/minus1/transformer_decoder_training/saved_files/saved_models/transformer_3.0/tests/threshold_02/simple_test_configuration.json, skipping\n",
      "The song short_cord_progression does already exist for the configuration /home/falaxdb/Repos/minus1/transformer_decoder_training/saved_files/saved_models/transformer_3.0/tests/threshold_02/short_cord_progression_configuration.json, skipping\n",
      "sequecne tensor: torch.Size([2722, 24])\n",
      "sequence with start token tensor: torch.Size([2723, 24])\n",
      "context_seq tensor: torch.Size([1, 513, 24])\n",
      "continuing seq torch.Size([1, 2210, 24])\n",
      "Tokens to generate: 2210\n",
      "Elapsed time: 10.0645 seconds\n",
      "Binary Tensors after concatinating:  torch.Size([2210, 24])\n",
      "Binary Tensors after unsqueezing:  torch.Size([1, 2210, 24])\n",
      "Context sequence + Generated tokens:  torch.Size([1, 2723, 24])\n"
     ]
    },
    {
     "name": "stderr",
     "output_type": "stream",
     "text": [
      "\n",
      "\n",
      "Songs: 100%|██████████| 4/4 [00:10<00:00,  2.59s/it]\u001B[A\u001B[A\n",
      "\n",
      "                                                    \u001B[A\u001B[A\n",
      "Testing configurations:  50%|█████     | 4/8 [00:46<00:44, 11.23s/it]\u001B[A"
     ]
    },
    {
     "name": "stdout",
     "output_type": "stream",
     "text": [
      "MIDI file saved to /home/falaxdb/Repos/minus1/transformer_decoder_training/saved_files/saved_models/transformer_3.0/tests/threshold_02/moritz_maria.mid\n"
     ]
    },
    {
     "name": "stderr",
     "output_type": "stream",
     "text": [
      "\n",
      "\n",
      "Songs:   0%|          | 0/4 [00:00<?, ?it/s]\u001B[A\u001B[A"
     ]
    },
    {
     "name": "stdout",
     "output_type": "stream",
     "text": [
      "The song midi-unprocessed_04_r1_2008_01-04_orig_mid--audio_04_r1_2008_wav--1-split does already exist for the configuration /home/falaxdb/Repos/minus1/transformer_decoder_training/saved_files/saved_models/transformer_3.0/tests/threshold_025/midi-unprocessed_04_r1_2008_01-04_orig_mid--audio_04_r1_2008_wav--1-split_configuration.json, skipping\n",
      "The song simple_test does already exist for the configuration /home/falaxdb/Repos/minus1/transformer_decoder_training/saved_files/saved_models/transformer_3.0/tests/threshold_025/simple_test_configuration.json, skipping\n",
      "The song short_cord_progression does already exist for the configuration /home/falaxdb/Repos/minus1/transformer_decoder_training/saved_files/saved_models/transformer_3.0/tests/threshold_025/short_cord_progression_configuration.json, skipping\n",
      "sequecne tensor: torch.Size([2722, 24])\n",
      "sequence with start token tensor: torch.Size([2723, 24])\n",
      "context_seq tensor: torch.Size([1, 513, 24])\n",
      "continuing seq torch.Size([1, 2210, 24])\n",
      "Tokens to generate: 2210\n",
      "Elapsed time: 10.0565 seconds\n",
      "Binary Tensors after concatinating:  torch.Size([2210, 24])\n",
      "Binary Tensors after unsqueezing:  torch.Size([1, 2210, 24])\n",
      "Context sequence + Generated tokens:  torch.Size([1, 2723, 24])\n"
     ]
    },
    {
     "name": "stderr",
     "output_type": "stream",
     "text": [
      "\n",
      "\n",
      "Songs: 100%|██████████| 4/4 [00:10<00:00,  2.59s/it]\u001B[A\u001B[A\n",
      "\n",
      "                                                    \u001B[A\u001B[A\n",
      "Testing configurations:  62%|██████▎   | 5/8 [00:56<00:32, 10.91s/it]\u001B[A"
     ]
    },
    {
     "name": "stdout",
     "output_type": "stream",
     "text": [
      "MIDI file saved to /home/falaxdb/Repos/minus1/transformer_decoder_training/saved_files/saved_models/transformer_3.0/tests/threshold_025/moritz_maria.mid\n"
     ]
    },
    {
     "name": "stderr",
     "output_type": "stream",
     "text": [
      "\n",
      "\n",
      "Songs:   0%|          | 0/4 [00:00<?, ?it/s]\u001B[A\u001B[A"
     ]
    },
    {
     "name": "stdout",
     "output_type": "stream",
     "text": [
      "The song midi-unprocessed_04_r1_2008_01-04_orig_mid--audio_04_r1_2008_wav--1-split does already exist for the configuration /home/falaxdb/Repos/minus1/transformer_decoder_training/saved_files/saved_models/transformer_3.0/tests/threshold_05/midi-unprocessed_04_r1_2008_01-04_orig_mid--audio_04_r1_2008_wav--1-split_configuration.json, skipping\n",
      "The song simple_test does already exist for the configuration /home/falaxdb/Repos/minus1/transformer_decoder_training/saved_files/saved_models/transformer_3.0/tests/threshold_05/simple_test_configuration.json, skipping\n",
      "The song short_cord_progression does already exist for the configuration /home/falaxdb/Repos/minus1/transformer_decoder_training/saved_files/saved_models/transformer_3.0/tests/threshold_05/short_cord_progression_configuration.json, skipping\n",
      "sequecne tensor: torch.Size([2722, 24])\n",
      "sequence with start token tensor: torch.Size([2723, 24])\n",
      "context_seq tensor: torch.Size([1, 513, 24])\n",
      "continuing seq torch.Size([1, 2210, 24])\n",
      "Tokens to generate: 2210\n",
      "Elapsed time: 10.0467 seconds\n",
      "Binary Tensors after concatinating:  torch.Size([2210, 24])\n",
      "Binary Tensors after unsqueezing:  torch.Size([1, 2210, 24])\n",
      "Context sequence + Generated tokens:  torch.Size([1, 2723, 24])\n"
     ]
    },
    {
     "name": "stderr",
     "output_type": "stream",
     "text": [
      "\n",
      "\n",
      "Songs: 100%|██████████| 4/4 [00:10<00:00,  2.58s/it]\u001B[A\u001B[A\n",
      "\n",
      "                                                    \u001B[A\u001B[A\n",
      "Testing configurations:  75%|███████▌  | 6/8 [01:07<00:21, 10.72s/it]\u001B[A"
     ]
    },
    {
     "name": "stdout",
     "output_type": "stream",
     "text": [
      "MIDI file saved to /home/falaxdb/Repos/minus1/transformer_decoder_training/saved_files/saved_models/transformer_3.0/tests/threshold_05/moritz_maria.mid\n"
     ]
    },
    {
     "name": "stderr",
     "output_type": "stream",
     "text": [
      "\n",
      "\n",
      "Songs:   0%|          | 0/4 [00:00<?, ?it/s]\u001B[A\u001B[A"
     ]
    },
    {
     "name": "stdout",
     "output_type": "stream",
     "text": [
      "The song midi-unprocessed_04_r1_2008_01-04_orig_mid--audio_04_r1_2008_wav--1-split does already exist for the configuration /home/falaxdb/Repos/minus1/transformer_decoder_training/saved_files/saved_models/transformer_3.0/tests/threshold_03/midi-unprocessed_04_r1_2008_01-04_orig_mid--audio_04_r1_2008_wav--1-split_configuration.json, skipping\n",
      "The song simple_test does already exist for the configuration /home/falaxdb/Repos/minus1/transformer_decoder_training/saved_files/saved_models/transformer_3.0/tests/threshold_03/simple_test_configuration.json, skipping\n",
      "The song short_cord_progression does already exist for the configuration /home/falaxdb/Repos/minus1/transformer_decoder_training/saved_files/saved_models/transformer_3.0/tests/threshold_03/short_cord_progression_configuration.json, skipping\n",
      "sequecne tensor: torch.Size([2722, 24])\n",
      "sequence with start token tensor: torch.Size([2723, 24])\n",
      "context_seq tensor: torch.Size([1, 513, 24])\n",
      "continuing seq torch.Size([1, 2210, 24])\n",
      "Tokens to generate: 2210\n",
      "Elapsed time: 10.0568 seconds\n",
      "Binary Tensors after concatinating:  torch.Size([2210, 24])\n",
      "Binary Tensors after unsqueezing:  torch.Size([1, 2210, 24])\n",
      "Context sequence + Generated tokens:  torch.Size([1, 2723, 24])\n"
     ]
    },
    {
     "name": "stderr",
     "output_type": "stream",
     "text": [
      "\n",
      "\n",
      "Songs: 100%|██████████| 4/4 [00:10<00:00,  2.59s/it]\u001B[A\u001B[A\n",
      "\n",
      "                                                    \u001B[A\u001B[A\n",
      "Testing configurations:  88%|████████▊ | 7/8 [01:17<00:10, 10.61s/it]\u001B[A"
     ]
    },
    {
     "name": "stdout",
     "output_type": "stream",
     "text": [
      "MIDI file saved to /home/falaxdb/Repos/minus1/transformer_decoder_training/saved_files/saved_models/transformer_3.0/tests/threshold_03/moritz_maria.mid\n"
     ]
    },
    {
     "name": "stderr",
     "output_type": "stream",
     "text": [
      "\n",
      "\n",
      "Songs:   0%|          | 0/4 [00:00<?, ?it/s]\u001B[A\u001B[A"
     ]
    },
    {
     "name": "stdout",
     "output_type": "stream",
     "text": [
      "The song midi-unprocessed_04_r1_2008_01-04_orig_mid--audio_04_r1_2008_wav--1-split does already exist for the configuration /home/falaxdb/Repos/minus1/transformer_decoder_training/saved_files/saved_models/transformer_3.0/tests/top_k/midi-unprocessed_04_r1_2008_01-04_orig_mid--audio_04_r1_2008_wav--1-split_configuration.json, skipping\n",
      "The song simple_test does already exist for the configuration /home/falaxdb/Repos/minus1/transformer_decoder_training/saved_files/saved_models/transformer_3.0/tests/top_k/simple_test_configuration.json, skipping\n",
      "The song short_cord_progression does already exist for the configuration /home/falaxdb/Repos/minus1/transformer_decoder_training/saved_files/saved_models/transformer_3.0/tests/top_k/short_cord_progression_configuration.json, skipping\n",
      "sequecne tensor: torch.Size([2722, 24])\n",
      "sequence with start token tensor: torch.Size([2723, 24])\n",
      "context_seq tensor: torch.Size([1, 513, 24])\n",
      "continuing seq torch.Size([1, 2210, 24])\n",
      "Tokens to generate: 2210\n",
      "Elapsed time: 10.3488 seconds\n",
      "Binary Tensors after concatinating:  torch.Size([2210, 24])\n",
      "Binary Tensors after unsqueezing:  torch.Size([1, 2210, 24])\n",
      "Context sequence + Generated tokens:  torch.Size([1, 2723, 24])\n"
     ]
    },
    {
     "name": "stderr",
     "output_type": "stream",
     "text": [
      "\n",
      "\n",
      "Songs: 100%|██████████| 4/4 [00:10<00:00,  2.66s/it]\u001B[A\u001B[A\n",
      "\n",
      "                                                    \u001B[A\u001B[A\n",
      "Testing configurations: 100%|██████████| 8/8 [01:28<00:00, 10.61s/it]\u001B[A\n",
      "Projects:  95%|█████████▍| 18/19 [08:04<00:37, 37.73s/it]            \u001B[A"
     ]
    },
    {
     "name": "stdout",
     "output_type": "stream",
     "text": [
      "MIDI file saved to /home/falaxdb/Repos/minus1/transformer_decoder_training/saved_files/saved_models/transformer_3.0/tests/top_k/moritz_maria.mid\n",
      "\n",
      "==============================\n",
      "Testing model transformer_3.1\n",
      "At location /home/falaxdb/Repos/minus1/transformer_decoder_training/saved_files/saved_models/transformer_3.1\n",
      "==============================\n",
      "\n",
      "Best epoch is epoch number 63\n"
     ]
    },
    {
     "name": "stderr",
     "output_type": "stream",
     "text": [
      "\n",
      "Testing configurations:   0%|          | 0/8 [00:00<?, ?it/s]\u001B[A\n",
      "\n",
      "Songs:   0%|          | 0/4 [00:00<?, ?it/s]\u001B[A\u001B[A"
     ]
    },
    {
     "name": "stdout",
     "output_type": "stream",
     "text": [
      "The song midi-unprocessed_04_r1_2008_01-04_orig_mid--audio_04_r1_2008_wav--1-split does already exist for the configuration /home/falaxdb/Repos/minus1/transformer_decoder_training/saved_files/saved_models/transformer_3.1/tests/threshold_005/midi-unprocessed_04_r1_2008_01-04_orig_mid--audio_04_r1_2008_wav--1-split_configuration.json, skipping\n",
      "The song simple_test does already exist for the configuration /home/falaxdb/Repos/minus1/transformer_decoder_training/saved_files/saved_models/transformer_3.1/tests/threshold_005/simple_test_configuration.json, skipping\n",
      "The song short_cord_progression does already exist for the configuration /home/falaxdb/Repos/minus1/transformer_decoder_training/saved_files/saved_models/transformer_3.1/tests/threshold_005/short_cord_progression_configuration.json, skipping\n",
      "sequecne tensor: torch.Size([2722, 24])\n",
      "sequence with start token tensor: torch.Size([2723, 24])\n",
      "context_seq tensor: torch.Size([1, 513, 24])\n",
      "continuing seq torch.Size([1, 2210, 24])\n",
      "Tokens to generate: 2210\n",
      "Elapsed time: 1.6117 seconds\n",
      "Binary Tensors after concatinating:  torch.Size([2210, 24])\n",
      "Binary Tensors after unsqueezing:  torch.Size([1, 2210, 24])\n",
      "Context sequence + Generated tokens:  torch.Size([1, 2723, 24])\n",
      "MIDI file saved to /home/falaxdb/Repos/minus1/transformer_decoder_training/saved_files/saved_models/transformer_3.1/tests/threshold_005/moritz_maria.mid\n"
     ]
    },
    {
     "name": "stderr",
     "output_type": "stream",
     "text": [
      "\n",
      "\n",
      "Songs: 100%|██████████| 4/4 [00:01<00:00,  2.13it/s]\u001B[A\u001B[A\n",
      "\n",
      "                                                    \u001B[A\u001B[A\n",
      "Testing configurations:  12%|█▎        | 1/8 [00:01<00:13,  1.88s/it]\u001B[A\n",
      "\n",
      "Songs:   0%|          | 0/4 [00:00<?, ?it/s]\u001B[A\u001B[A"
     ]
    },
    {
     "name": "stdout",
     "output_type": "stream",
     "text": [
      "The song midi-unprocessed_04_r1_2008_01-04_orig_mid--audio_04_r1_2008_wav--1-split does already exist for the configuration /home/falaxdb/Repos/minus1/transformer_decoder_training/saved_files/saved_models/transformer_3.1/tests/threshold_01/midi-unprocessed_04_r1_2008_01-04_orig_mid--audio_04_r1_2008_wav--1-split_configuration.json, skipping\n",
      "The song simple_test does already exist for the configuration /home/falaxdb/Repos/minus1/transformer_decoder_training/saved_files/saved_models/transformer_3.1/tests/threshold_01/simple_test_configuration.json, skipping\n",
      "The song short_cord_progression does already exist for the configuration /home/falaxdb/Repos/minus1/transformer_decoder_training/saved_files/saved_models/transformer_3.1/tests/threshold_01/short_cord_progression_configuration.json, skipping\n",
      "sequecne tensor: torch.Size([2722, 24])\n",
      "sequence with start token tensor: torch.Size([2723, 24])\n",
      "context_seq tensor: torch.Size([1, 513, 24])\n",
      "continuing seq torch.Size([1, 2210, 24])\n",
      "Tokens to generate: 2210\n",
      "Elapsed time: 1.6149 seconds\n",
      "Binary Tensors after concatinating:  torch.Size([2210, 24])\n",
      "Binary Tensors after unsqueezing:  torch.Size([1, 2210, 24])\n",
      "Context sequence + Generated tokens:  torch.Size([1, 2723, 24])\n"
     ]
    },
    {
     "name": "stderr",
     "output_type": "stream",
     "text": [
      "\n",
      "\n",
      "Songs: 100%|██████████| 4/4 [00:01<00:00,  2.12it/s]\u001B[A\u001B[A\n",
      "\n",
      "                                                    \u001B[A\u001B[A\n",
      "Testing configurations:  25%|██▌       | 2/8 [00:03<00:11,  1.89s/it]\u001B[A"
     ]
    },
    {
     "name": "stdout",
     "output_type": "stream",
     "text": [
      "MIDI file saved to /home/falaxdb/Repos/minus1/transformer_decoder_training/saved_files/saved_models/transformer_3.1/tests/threshold_01/moritz_maria.mid\n"
     ]
    },
    {
     "name": "stderr",
     "output_type": "stream",
     "text": [
      "\n",
      "\n",
      "Songs:   0%|          | 0/4 [00:00<?, ?it/s]\u001B[A\u001B[A"
     ]
    },
    {
     "name": "stdout",
     "output_type": "stream",
     "text": [
      "The song midi-unprocessed_04_r1_2008_01-04_orig_mid--audio_04_r1_2008_wav--1-split does already exist for the configuration /home/falaxdb/Repos/minus1/transformer_decoder_training/saved_files/saved_models/transformer_3.1/tests/threshold_015/midi-unprocessed_04_r1_2008_01-04_orig_mid--audio_04_r1_2008_wav--1-split_configuration.json, skipping\n",
      "The song simple_test does already exist for the configuration /home/falaxdb/Repos/minus1/transformer_decoder_training/saved_files/saved_models/transformer_3.1/tests/threshold_015/simple_test_configuration.json, skipping\n",
      "The song short_cord_progression does already exist for the configuration /home/falaxdb/Repos/minus1/transformer_decoder_training/saved_files/saved_models/transformer_3.1/tests/threshold_015/short_cord_progression_configuration.json, skipping\n",
      "sequecne tensor: torch.Size([2722, 24])\n",
      "sequence with start token tensor: torch.Size([2723, 24])\n",
      "context_seq tensor: torch.Size([1, 513, 24])\n",
      "continuing seq torch.Size([1, 2210, 24])\n",
      "Tokens to generate: 2210\n",
      "Elapsed time: 1.6388 seconds\n",
      "Binary Tensors after concatinating:  torch.Size([2210, 24])\n",
      "Binary Tensors after unsqueezing:  torch.Size([1, 2210, 24])\n",
      "Context sequence + Generated tokens:  torch.Size([1, 2723, 24])\n"
     ]
    },
    {
     "name": "stderr",
     "output_type": "stream",
     "text": [
      "\n",
      "\n",
      "Songs: 100%|██████████| 4/4 [00:01<00:00,  2.05it/s]\u001B[A\u001B[A\n",
      "\n",
      "                                                    \u001B[A\u001B[A\n",
      "Testing configurations:  38%|███▊      | 3/8 [00:05<00:09,  1.92s/it]\u001B[A"
     ]
    },
    {
     "name": "stdout",
     "output_type": "stream",
     "text": [
      "MIDI file saved to /home/falaxdb/Repos/minus1/transformer_decoder_training/saved_files/saved_models/transformer_3.1/tests/threshold_015/moritz_maria.mid\n"
     ]
    },
    {
     "name": "stderr",
     "output_type": "stream",
     "text": [
      "\n",
      "\n",
      "Songs:   0%|          | 0/4 [00:00<?, ?it/s]\u001B[A\u001B[A"
     ]
    },
    {
     "name": "stdout",
     "output_type": "stream",
     "text": [
      "The song midi-unprocessed_04_r1_2008_01-04_orig_mid--audio_04_r1_2008_wav--1-split does already exist for the configuration /home/falaxdb/Repos/minus1/transformer_decoder_training/saved_files/saved_models/transformer_3.1/tests/threshold_02/midi-unprocessed_04_r1_2008_01-04_orig_mid--audio_04_r1_2008_wav--1-split_configuration.json, skipping\n",
      "The song simple_test does already exist for the configuration /home/falaxdb/Repos/minus1/transformer_decoder_training/saved_files/saved_models/transformer_3.1/tests/threshold_02/simple_test_configuration.json, skipping\n",
      "The song short_cord_progression does already exist for the configuration /home/falaxdb/Repos/minus1/transformer_decoder_training/saved_files/saved_models/transformer_3.1/tests/threshold_02/short_cord_progression_configuration.json, skipping\n",
      "sequecne tensor: torch.Size([2722, 24])\n",
      "sequence with start token tensor: torch.Size([2723, 24])\n",
      "context_seq tensor: torch.Size([1, 513, 24])\n",
      "continuing seq torch.Size([1, 2210, 24])\n",
      "Tokens to generate: 2210\n",
      "Elapsed time: 1.6133 seconds\n",
      "Binary Tensors after concatinating:  torch.Size([2210, 24])\n",
      "Binary Tensors after unsqueezing:  torch.Size([1, 2210, 24])\n",
      "Context sequence + Generated tokens:  torch.Size([1, 2723, 24])\n"
     ]
    },
    {
     "name": "stderr",
     "output_type": "stream",
     "text": [
      "\n",
      "\n",
      "Songs: 100%|██████████| 4/4 [00:01<00:00,  2.11it/s]\u001B[A\u001B[A\n",
      "\n",
      "                                                    \u001B[A\u001B[A\n",
      "Testing configurations:  50%|█████     | 4/8 [00:07<00:07,  1.91s/it]\u001B[A"
     ]
    },
    {
     "name": "stdout",
     "output_type": "stream",
     "text": [
      "MIDI file saved to /home/falaxdb/Repos/minus1/transformer_decoder_training/saved_files/saved_models/transformer_3.1/tests/threshold_02/moritz_maria.mid\n"
     ]
    },
    {
     "name": "stderr",
     "output_type": "stream",
     "text": [
      "\n",
      "\n",
      "Songs:   0%|          | 0/4 [00:00<?, ?it/s]\u001B[A\u001B[A"
     ]
    },
    {
     "name": "stdout",
     "output_type": "stream",
     "text": [
      "The song midi-unprocessed_04_r1_2008_01-04_orig_mid--audio_04_r1_2008_wav--1-split does already exist for the configuration /home/falaxdb/Repos/minus1/transformer_decoder_training/saved_files/saved_models/transformer_3.1/tests/threshold_025/midi-unprocessed_04_r1_2008_01-04_orig_mid--audio_04_r1_2008_wav--1-split_configuration.json, skipping\n",
      "The song simple_test does already exist for the configuration /home/falaxdb/Repos/minus1/transformer_decoder_training/saved_files/saved_models/transformer_3.1/tests/threshold_025/simple_test_configuration.json, skipping\n",
      "The song short_cord_progression does already exist for the configuration /home/falaxdb/Repos/minus1/transformer_decoder_training/saved_files/saved_models/transformer_3.1/tests/threshold_025/short_cord_progression_configuration.json, skipping\n",
      "sequecne tensor: torch.Size([2722, 24])\n",
      "sequence with start token tensor: torch.Size([2723, 24])\n",
      "context_seq tensor: torch.Size([1, 513, 24])\n",
      "continuing seq torch.Size([1, 2210, 24])\n",
      "Tokens to generate: 2210\n",
      "Elapsed time: 1.6155 seconds\n",
      "Binary Tensors after concatinating:  torch.Size([2210, 24])\n",
      "Binary Tensors after unsqueezing:  torch.Size([1, 2210, 24])\n",
      "Context sequence + Generated tokens:  torch.Size([1, 2723, 24])\n"
     ]
    },
    {
     "name": "stderr",
     "output_type": "stream",
     "text": [
      "\n",
      "\n",
      "Songs: 100%|██████████| 4/4 [00:01<00:00,  2.12it/s]\u001B[A\u001B[A\n",
      "\n",
      "                                                    \u001B[A\u001B[A\n",
      "Testing configurations:  62%|██████▎   | 5/8 [00:09<00:05,  1.90s/it]\u001B[A"
     ]
    },
    {
     "name": "stdout",
     "output_type": "stream",
     "text": [
      "MIDI file saved to /home/falaxdb/Repos/minus1/transformer_decoder_training/saved_files/saved_models/transformer_3.1/tests/threshold_025/moritz_maria.mid\n"
     ]
    },
    {
     "name": "stderr",
     "output_type": "stream",
     "text": [
      "\n",
      "\n",
      "Songs:   0%|          | 0/4 [00:00<?, ?it/s]\u001B[A\u001B[A"
     ]
    },
    {
     "name": "stdout",
     "output_type": "stream",
     "text": [
      "The song midi-unprocessed_04_r1_2008_01-04_orig_mid--audio_04_r1_2008_wav--1-split does already exist for the configuration /home/falaxdb/Repos/minus1/transformer_decoder_training/saved_files/saved_models/transformer_3.1/tests/threshold_05/midi-unprocessed_04_r1_2008_01-04_orig_mid--audio_04_r1_2008_wav--1-split_configuration.json, skipping\n",
      "The song simple_test does already exist for the configuration /home/falaxdb/Repos/minus1/transformer_decoder_training/saved_files/saved_models/transformer_3.1/tests/threshold_05/simple_test_configuration.json, skipping\n",
      "The song short_cord_progression does already exist for the configuration /home/falaxdb/Repos/minus1/transformer_decoder_training/saved_files/saved_models/transformer_3.1/tests/threshold_05/short_cord_progression_configuration.json, skipping\n",
      "sequecne tensor: torch.Size([2722, 24])\n",
      "sequence with start token tensor: torch.Size([2723, 24])\n",
      "context_seq tensor: torch.Size([1, 513, 24])\n",
      "continuing seq torch.Size([1, 2210, 24])\n",
      "Tokens to generate: 2210\n",
      "Elapsed time: 1.6157 seconds\n",
      "Binary Tensors after concatinating:  torch.Size([2210, 24])\n",
      "Binary Tensors after unsqueezing:  torch.Size([1, 2210, 24])\n",
      "Context sequence + Generated tokens:  torch.Size([1, 2723, 24])\n"
     ]
    },
    {
     "name": "stderr",
     "output_type": "stream",
     "text": [
      "\n",
      "\n",
      "Songs: 100%|██████████| 4/4 [00:01<00:00,  2.12it/s]\u001B[A\u001B[A\n",
      "\n",
      "                                                    \u001B[A\u001B[A\n",
      "Testing configurations:  75%|███████▌  | 6/8 [00:11<00:03,  1.90s/it]\u001B[A"
     ]
    },
    {
     "name": "stdout",
     "output_type": "stream",
     "text": [
      "MIDI file saved to /home/falaxdb/Repos/minus1/transformer_decoder_training/saved_files/saved_models/transformer_3.1/tests/threshold_05/moritz_maria.mid\n"
     ]
    },
    {
     "name": "stderr",
     "output_type": "stream",
     "text": [
      "\n",
      "\n",
      "Songs:   0%|          | 0/4 [00:00<?, ?it/s]\u001B[A\u001B[A"
     ]
    },
    {
     "name": "stdout",
     "output_type": "stream",
     "text": [
      "The song midi-unprocessed_04_r1_2008_01-04_orig_mid--audio_04_r1_2008_wav--1-split does already exist for the configuration /home/falaxdb/Repos/minus1/transformer_decoder_training/saved_files/saved_models/transformer_3.1/tests/threshold_03/midi-unprocessed_04_r1_2008_01-04_orig_mid--audio_04_r1_2008_wav--1-split_configuration.json, skipping\n",
      "The song simple_test does already exist for the configuration /home/falaxdb/Repos/minus1/transformer_decoder_training/saved_files/saved_models/transformer_3.1/tests/threshold_03/simple_test_configuration.json, skipping\n",
      "The song short_cord_progression does already exist for the configuration /home/falaxdb/Repos/minus1/transformer_decoder_training/saved_files/saved_models/transformer_3.1/tests/threshold_03/short_cord_progression_configuration.json, skipping\n",
      "sequecne tensor: torch.Size([2722, 24])\n",
      "sequence with start token tensor: torch.Size([2723, 24])\n",
      "context_seq tensor: torch.Size([1, 513, 24])\n",
      "continuing seq torch.Size([1, 2210, 24])\n",
      "Tokens to generate: 2210\n",
      "Elapsed time: 2.0741 seconds\n",
      "Binary Tensors after concatinating:  torch.Size([2210, 24])\n",
      "Binary Tensors after unsqueezing:  torch.Size([1, 2210, 24])\n",
      "Context sequence + Generated tokens:  torch.Size([1, 2723, 24])\n"
     ]
    },
    {
     "name": "stderr",
     "output_type": "stream",
     "text": [
      "\n",
      "\n",
      "Songs: 100%|██████████| 4/4 [00:02<00:00,  1.66it/s]\u001B[A\u001B[A\n",
      "\n",
      "                                                    \u001B[A\u001B[A\n",
      "Testing configurations:  88%|████████▊ | 7/8 [00:13<00:02,  2.06s/it]\u001B[A"
     ]
    },
    {
     "name": "stdout",
     "output_type": "stream",
     "text": [
      "MIDI file saved to /home/falaxdb/Repos/minus1/transformer_decoder_training/saved_files/saved_models/transformer_3.1/tests/threshold_03/moritz_maria.mid\n"
     ]
    },
    {
     "name": "stderr",
     "output_type": "stream",
     "text": [
      "\n",
      "\n",
      "Songs:   0%|          | 0/4 [00:00<?, ?it/s]\u001B[A\u001B[A"
     ]
    },
    {
     "name": "stdout",
     "output_type": "stream",
     "text": [
      "The song midi-unprocessed_04_r1_2008_01-04_orig_mid--audio_04_r1_2008_wav--1-split does already exist for the configuration /home/falaxdb/Repos/minus1/transformer_decoder_training/saved_files/saved_models/transformer_3.1/tests/top_k/midi-unprocessed_04_r1_2008_01-04_orig_mid--audio_04_r1_2008_wav--1-split_configuration.json, skipping\n",
      "The song simple_test does already exist for the configuration /home/falaxdb/Repos/minus1/transformer_decoder_training/saved_files/saved_models/transformer_3.1/tests/top_k/simple_test_configuration.json, skipping\n",
      "The song short_cord_progression does already exist for the configuration /home/falaxdb/Repos/minus1/transformer_decoder_training/saved_files/saved_models/transformer_3.1/tests/top_k/short_cord_progression_configuration.json, skipping\n",
      "sequecne tensor: torch.Size([2722, 24])\n",
      "sequence with start token tensor: torch.Size([2723, 24])\n",
      "context_seq tensor: torch.Size([1, 513, 24])\n",
      "continuing seq torch.Size([1, 2210, 24])\n",
      "Tokens to generate: 2210\n",
      "Elapsed time: 2.7491 seconds\n",
      "Binary Tensors after concatinating:  torch.Size([2210, 24])\n",
      "Binary Tensors after unsqueezing:  torch.Size([1, 2210, 24])\n",
      "Context sequence + Generated tokens:  torch.Size([1, 2723, 24])\n"
     ]
    },
    {
     "name": "stderr",
     "output_type": "stream",
     "text": [
      "\n",
      "\n",
      "Songs: 100%|██████████| 4/4 [00:03<00:00,  1.32it/s]\u001B[A\u001B[A\n",
      "\n",
      "                                                    \u001B[A\u001B[A\n",
      "Testing configurations: 100%|██████████| 8/8 [00:16<00:00,  2.37s/it]\u001B[A\n",
      "                                                                     \u001B[A"
     ]
    },
    {
     "name": "stdout",
     "output_type": "stream",
     "text": [
      "MIDI file saved to /home/falaxdb/Repos/minus1/transformer_decoder_training/saved_files/saved_models/transformer_3.1/tests/top_k/moritz_maria.mid\n"
     ]
    },
    {
     "name": "stderr",
     "output_type": "stream",
     "text": [
      "\r"
     ]
    }
   ],
   "execution_count": 5
  }
 ],
 "metadata": {
  "kernelspec": {
   "display_name": "Python 3",
   "language": "python",
   "name": "python3"
  },
  "language_info": {
   "codemirror_mode": {
    "name": "ipython",
    "version": 2
   },
   "file_extension": ".py",
   "mimetype": "text/x-python",
   "name": "python",
   "nbconvert_exporter": "python",
   "pygments_lexer": "ipython2",
   "version": "2.7.6"
  }
 },
 "nbformat": 4,
 "nbformat_minor": 5
}
