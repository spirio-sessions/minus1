{
 "cells": [
  {
   "cell_type": "code",
   "id": "initial_id",
   "metadata": {
    "collapsed": true,
    "ExecuteTime": {
     "end_time": "2024-08-25T23:59:08.518562Z",
     "start_time": "2024-08-25T23:59:07.347792Z"
    }
   },
   "source": [
    "import torch\n",
    "import numpy as np\n",
    "import data_visualization.Visualization as visualization\n",
    "import json\n",
    "from pathlib import Path\n",
    "import transformer_decoder_training.testing_helper_functions as test_helpers\n",
    "\n",
    "# Check if GPU is available, set device accordingly\n",
    "device = torch.device(\"cuda\" if torch.cuda.is_available() else 'cpu')"
   ],
   "outputs": [],
   "execution_count": 1
  },
  {
   "metadata": {
    "ExecuteTime": {
     "end_time": "2024-08-25T23:59:14.078792Z",
     "start_time": "2024-08-25T23:59:14.076854Z"
    }
   },
   "cell_type": "code",
   "source": [
    "projects_dir = \"/home/falaxdb/Repos/minus1/transformer_decoder_training/saved_files/saved_models\"\n",
    "test_data_dir = \"/home/falaxdb/Repos/minus1/transformer_decoder_training/test_files_and_configs/split_into_midis\"\n",
    "test_configs_dir = \"/home/falaxdb/Repos/minus1/transformer_decoder_training/test_files_and_configs/test_configs\""
   ],
   "id": "db4b595478180a27",
   "outputs": [],
   "execution_count": 3
  },
  {
   "metadata": {
    "ExecuteTime": {
     "end_time": "2024-08-25T23:59:15.727764Z",
     "start_time": "2024-08-25T23:59:15.720083Z"
    }
   },
   "cell_type": "code",
   "source": [
    "# create test configurations\n",
    "config = test_helpers.create_json_testing_template()\n",
    "\n",
    "config[\"test_row_name\"] = \"top_k\"\n",
    "config[\"threshold\"] = None\n",
    "config[\"inference_method\"] = \"inference_top_k_truth_notes\"\n",
    "\n",
    "test_helpers.save_json_testing_configuration(config, test_configs_dir, overwrite=False)"
   ],
   "id": "305c0a45ac82150d",
   "outputs": [
    {
     "name": "stdout",
     "output_type": "stream",
     "text": [
      "configuration file already exist and overwrite set to False. Skipping\n"
     ]
    }
   ],
   "execution_count": 4
  },
  {
   "metadata": {
    "ExecuteTime": {
     "end_time": "2024-08-25T23:59:29.559961Z",
     "start_time": "2024-08-25T23:59:29.556121Z"
    }
   },
   "cell_type": "code",
   "source": "test_helpers.copy_testing_templates_to_all_models(projects_dir, test_configs_dir, override=False)",
   "id": "2279f8fc1cca1f4c",
   "outputs": [
    {
     "name": "stdout",
     "output_type": "stream",
     "text": [
      "Found 15 projects\n",
      "Found 8 config files\n",
      "/home/falaxdb/Repos/minus1/transformer_decoder_training/saved_files/saved_models/legacy already has a test directory and override is False, skipping\n",
      "/home/falaxdb/Repos/minus1/transformer_decoder_training/saved_files/saved_models/transformer_01 already has a test directory and override is False, skipping\n",
      "/home/falaxdb/Repos/minus1/transformer_decoder_training/saved_files/saved_models/transformer_0.2 already has a test directory and override is False, skipping\n",
      "/home/falaxdb/Repos/minus1/transformer_decoder_training/saved_files/saved_models/transformer_0.3 already has a test directory and override is False, skipping\n",
      "/home/falaxdb/Repos/minus1/transformer_decoder_training/saved_files/saved_models/transformer_0.4 already has a test directory and override is False, skipping\n",
      "/home/falaxdb/Repos/minus1/transformer_decoder_training/saved_files/saved_models/transformer_0.5 already has a test directory and override is False, skipping\n",
      "/home/falaxdb/Repos/minus1/transformer_decoder_training/saved_files/saved_models/transformer_1.2 already has a test directory and override is False, skipping\n",
      "/home/falaxdb/Repos/minus1/transformer_decoder_training/saved_files/saved_models/transformer_1.0 already has a test directory and override is False, skipping\n",
      "/home/falaxdb/Repos/minus1/transformer_decoder_training/saved_files/saved_models/transformer_1.1 already has a test directory and override is False, skipping\n",
      "/home/falaxdb/Repos/minus1/transformer_decoder_training/saved_files/saved_models/transformer_1.3 already has a test directory and override is False, skipping\n",
      "/home/falaxdb/Repos/minus1/transformer_decoder_training/saved_files/saved_models/transformer_1.4 already has a test directory and override is False, skipping\n",
      "/home/falaxdb/Repos/minus1/transformer_decoder_training/saved_files/saved_models/transformer_1.5 already has a test directory and override is False, skipping\n",
      "/home/falaxdb/Repos/minus1/transformer_decoder_training/saved_files/saved_models/transformer_1.6 already has a test directory and override is False, skipping\n",
      "/home/falaxdb/Repos/minus1/transformer_decoder_training/saved_files/saved_models/transformer_1.7 already has a test directory and override is False, skipping\n",
      "/home/falaxdb/Repos/minus1/transformer_decoder_training/saved_files/saved_models/transformer_2.0 already has a test directory and override is False, skipping\n"
     ]
    }
   ],
   "execution_count": 5
  },
  {
   "metadata": {
    "ExecuteTime": {
     "end_time": "2024-08-26T00:00:01.580015Z",
     "start_time": "2024-08-25T23:59:38.695897Z"
    }
   },
   "cell_type": "code",
   "source": "test_helpers.testinference_for_all_models(projects_dir, test_data_dir, device)",
   "id": "43925c294eb457ee",
   "outputs": [
    {
     "name": "stdout",
     "output_type": "stream",
     "text": [
      "Found 15 projects\n"
     ]
    },
    {
     "name": "stderr",
     "output_type": "stream",
     "text": [
      "Projects:   0%|          | 0/15 [00:00<?, ?it/s]"
     ]
    },
    {
     "name": "stdout",
     "output_type": "stream",
     "text": [
      "Testing model legacy\n",
      "At location /home/falaxdb/Repos/minus1/transformer_decoder_training/saved_files/saved_models/legacy\n",
      "Could not load model from project /home/falaxdb/Repos/minus1/transformer_decoder_training/saved_files/saved_models/legacy, skipping. Error: No JSON files found in the directory.\n",
      "Testing model transformer_01\n",
      "At location /home/falaxdb/Repos/minus1/transformer_decoder_training/saved_files/saved_models/transformer_01\n",
      "Best epoch is epoch number 25\n"
     ]
    },
    {
     "name": "stderr",
     "output_type": "stream",
     "text": [
      "\n",
      "Testing configurations:   0%|          | 0/8 [00:00<?, ?it/s]\u001B[A\n",
      "\n",
      "Songs:   0%|          | 0/3 [00:00<?, ?it/s]\u001B[A\u001B[A\n",
      "\n",
      "                                            \u001B[A\u001B[A"
     ]
    },
    {
     "name": "stdout",
     "output_type": "stream",
     "text": [
      "The song midi-unprocessed_04_r1_2008_01-04_orig_mid--audio_04_r1_2008_wav--1-split does already exist for the configuration /home/falaxdb/Repos/minus1/transformer_decoder_training/saved_files/saved_models/transformer_01/tests/threshold_005/midi-unprocessed_04_r1_2008_01-04_orig_mid--audio_04_r1_2008_wav--1-split_configuration.json, skipping\n",
      "The song midi-unprocessed_01_r1_2006_01-09_orig_mid--audio_01_r1_2006_01_track01_wav-split does already exist for the configuration /home/falaxdb/Repos/minus1/transformer_decoder_training/saved_files/saved_models/transformer_01/tests/threshold_005/midi-unprocessed_01_r1_2006_01-09_orig_mid--audio_01_r1_2006_01_track01_wav-split_configuration.json, skipping\n",
      "The song simple_test does already exist for the configuration /home/falaxdb/Repos/minus1/transformer_decoder_training/saved_files/saved_models/transformer_01/tests/threshold_005/simple_test_configuration.json, skipping\n"
     ]
    },
    {
     "name": "stderr",
     "output_type": "stream",
     "text": [
      "\n",
      "\n",
      "Songs:   0%|          | 0/3 [00:00<?, ?it/s]\u001B[A\u001B[A\n",
      "\n",
      "                                            \u001B[A\u001B[A"
     ]
    },
    {
     "name": "stdout",
     "output_type": "stream",
     "text": [
      "The song midi-unprocessed_04_r1_2008_01-04_orig_mid--audio_04_r1_2008_wav--1-split does already exist for the configuration /home/falaxdb/Repos/minus1/transformer_decoder_training/saved_files/saved_models/transformer_01/tests/threshold_01/midi-unprocessed_04_r1_2008_01-04_orig_mid--audio_04_r1_2008_wav--1-split_configuration.json, skipping\n",
      "The song midi-unprocessed_01_r1_2006_01-09_orig_mid--audio_01_r1_2006_01_track01_wav-split does already exist for the configuration /home/falaxdb/Repos/minus1/transformer_decoder_training/saved_files/saved_models/transformer_01/tests/threshold_01/midi-unprocessed_01_r1_2006_01-09_orig_mid--audio_01_r1_2006_01_track01_wav-split_configuration.json, skipping\n",
      "The song simple_test does already exist for the configuration /home/falaxdb/Repos/minus1/transformer_decoder_training/saved_files/saved_models/transformer_01/tests/threshold_01/simple_test_configuration.json, skipping\n"
     ]
    },
    {
     "name": "stderr",
     "output_type": "stream",
     "text": [
      "\n",
      "\n",
      "Songs:   0%|          | 0/3 [00:00<?, ?it/s]\u001B[A\u001B[A\n",
      "\n",
      "                                            \u001B[A\u001B[A"
     ]
    },
    {
     "name": "stdout",
     "output_type": "stream",
     "text": [
      "The song midi-unprocessed_04_r1_2008_01-04_orig_mid--audio_04_r1_2008_wav--1-split does already exist for the configuration /home/falaxdb/Repos/minus1/transformer_decoder_training/saved_files/saved_models/transformer_01/tests/threshold_015/midi-unprocessed_04_r1_2008_01-04_orig_mid--audio_04_r1_2008_wav--1-split_configuration.json, skipping\n",
      "The song midi-unprocessed_01_r1_2006_01-09_orig_mid--audio_01_r1_2006_01_track01_wav-split does already exist for the configuration /home/falaxdb/Repos/minus1/transformer_decoder_training/saved_files/saved_models/transformer_01/tests/threshold_015/midi-unprocessed_01_r1_2006_01-09_orig_mid--audio_01_r1_2006_01_track01_wav-split_configuration.json, skipping\n",
      "The song simple_test does already exist for the configuration /home/falaxdb/Repos/minus1/transformer_decoder_training/saved_files/saved_models/transformer_01/tests/threshold_015/simple_test_configuration.json, skipping\n"
     ]
    },
    {
     "name": "stderr",
     "output_type": "stream",
     "text": [
      "\n",
      "\n",
      "Songs:   0%|          | 0/3 [00:00<?, ?it/s]\u001B[A\u001B[A\n",
      "\n",
      "                                            \u001B[A\u001B[A"
     ]
    },
    {
     "name": "stdout",
     "output_type": "stream",
     "text": [
      "The song midi-unprocessed_04_r1_2008_01-04_orig_mid--audio_04_r1_2008_wav--1-split does already exist for the configuration /home/falaxdb/Repos/minus1/transformer_decoder_training/saved_files/saved_models/transformer_01/tests/threshold_02/midi-unprocessed_04_r1_2008_01-04_orig_mid--audio_04_r1_2008_wav--1-split_configuration.json, skipping\n",
      "The song midi-unprocessed_01_r1_2006_01-09_orig_mid--audio_01_r1_2006_01_track01_wav-split does already exist for the configuration /home/falaxdb/Repos/minus1/transformer_decoder_training/saved_files/saved_models/transformer_01/tests/threshold_02/midi-unprocessed_01_r1_2006_01-09_orig_mid--audio_01_r1_2006_01_track01_wav-split_configuration.json, skipping\n",
      "The song simple_test does already exist for the configuration /home/falaxdb/Repos/minus1/transformer_decoder_training/saved_files/saved_models/transformer_01/tests/threshold_02/simple_test_configuration.json, skipping\n"
     ]
    },
    {
     "name": "stderr",
     "output_type": "stream",
     "text": [
      "\n",
      "\n",
      "Songs:   0%|          | 0/3 [00:00<?, ?it/s]\u001B[A\u001B[A\n",
      "\n",
      "                                            \u001B[A\u001B[A"
     ]
    },
    {
     "name": "stdout",
     "output_type": "stream",
     "text": [
      "The song midi-unprocessed_04_r1_2008_01-04_orig_mid--audio_04_r1_2008_wav--1-split does already exist for the configuration /home/falaxdb/Repos/minus1/transformer_decoder_training/saved_files/saved_models/transformer_01/tests/threshold_025/midi-unprocessed_04_r1_2008_01-04_orig_mid--audio_04_r1_2008_wav--1-split_configuration.json, skipping\n",
      "The song midi-unprocessed_01_r1_2006_01-09_orig_mid--audio_01_r1_2006_01_track01_wav-split does already exist for the configuration /home/falaxdb/Repos/minus1/transformer_decoder_training/saved_files/saved_models/transformer_01/tests/threshold_025/midi-unprocessed_01_r1_2006_01-09_orig_mid--audio_01_r1_2006_01_track01_wav-split_configuration.json, skipping\n",
      "The song simple_test does already exist for the configuration /home/falaxdb/Repos/minus1/transformer_decoder_training/saved_files/saved_models/transformer_01/tests/threshold_025/simple_test_configuration.json, skipping\n"
     ]
    },
    {
     "name": "stderr",
     "output_type": "stream",
     "text": [
      "\n",
      "\n",
      "Songs:   0%|          | 0/3 [00:00<?, ?it/s]\u001B[A\u001B[A\n",
      "\n",
      "                                            \u001B[A\u001B[A"
     ]
    },
    {
     "name": "stdout",
     "output_type": "stream",
     "text": [
      "The song midi-unprocessed_04_r1_2008_01-04_orig_mid--audio_04_r1_2008_wav--1-split does already exist for the configuration /home/falaxdb/Repos/minus1/transformer_decoder_training/saved_files/saved_models/transformer_01/tests/threshold_05/midi-unprocessed_04_r1_2008_01-04_orig_mid--audio_04_r1_2008_wav--1-split_configuration.json, skipping\n",
      "The song midi-unprocessed_01_r1_2006_01-09_orig_mid--audio_01_r1_2006_01_track01_wav-split does already exist for the configuration /home/falaxdb/Repos/minus1/transformer_decoder_training/saved_files/saved_models/transformer_01/tests/threshold_05/midi-unprocessed_01_r1_2006_01-09_orig_mid--audio_01_r1_2006_01_track01_wav-split_configuration.json, skipping\n",
      "The song simple_test does already exist for the configuration /home/falaxdb/Repos/minus1/transformer_decoder_training/saved_files/saved_models/transformer_01/tests/threshold_05/simple_test_configuration.json, skipping\n"
     ]
    },
    {
     "name": "stderr",
     "output_type": "stream",
     "text": [
      "\n",
      "\n",
      "Songs:   0%|          | 0/3 [00:00<?, ?it/s]\u001B[A\u001B[A\n",
      "\n",
      "                                            \u001B[A\u001B[A"
     ]
    },
    {
     "name": "stdout",
     "output_type": "stream",
     "text": [
      "The song midi-unprocessed_04_r1_2008_01-04_orig_mid--audio_04_r1_2008_wav--1-split does already exist for the configuration /home/falaxdb/Repos/minus1/transformer_decoder_training/saved_files/saved_models/transformer_01/tests/threshold_03/midi-unprocessed_04_r1_2008_01-04_orig_mid--audio_04_r1_2008_wav--1-split_configuration.json, skipping\n",
      "The song midi-unprocessed_01_r1_2006_01-09_orig_mid--audio_01_r1_2006_01_track01_wav-split does already exist for the configuration /home/falaxdb/Repos/minus1/transformer_decoder_training/saved_files/saved_models/transformer_01/tests/threshold_03/midi-unprocessed_01_r1_2006_01-09_orig_mid--audio_01_r1_2006_01_track01_wav-split_configuration.json, skipping\n",
      "The song simple_test does already exist for the configuration /home/falaxdb/Repos/minus1/transformer_decoder_training/saved_files/saved_models/transformer_01/tests/threshold_03/simple_test_configuration.json, skipping\n"
     ]
    },
    {
     "name": "stderr",
     "output_type": "stream",
     "text": [
      "\n",
      "\n",
      "Songs:   0%|          | 0/3 [00:00<?, ?it/s]\u001B[A\u001B[A\n",
      "\n",
      "                                            \u001B[A\u001B[A\n",
      "Projects:  13%|█▎        | 2/15 [00:01<00:09,  1.37it/s]     \u001B[A"
     ]
    },
    {
     "name": "stdout",
     "output_type": "stream",
     "text": [
      "The song midi-unprocessed_04_r1_2008_01-04_orig_mid--audio_04_r1_2008_wav--1-split does already exist for the configuration /home/falaxdb/Repos/minus1/transformer_decoder_training/saved_files/saved_models/transformer_01/tests/top_k/midi-unprocessed_04_r1_2008_01-04_orig_mid--audio_04_r1_2008_wav--1-split_configuration.json, skipping\n",
      "The song midi-unprocessed_01_r1_2006_01-09_orig_mid--audio_01_r1_2006_01_track01_wav-split does already exist for the configuration /home/falaxdb/Repos/minus1/transformer_decoder_training/saved_files/saved_models/transformer_01/tests/top_k/midi-unprocessed_01_r1_2006_01-09_orig_mid--audio_01_r1_2006_01_track01_wav-split_configuration.json, skipping\n",
      "The song simple_test does already exist for the configuration /home/falaxdb/Repos/minus1/transformer_decoder_training/saved_files/saved_models/transformer_01/tests/top_k/simple_test_configuration.json, skipping\n",
      "Testing model transformer_0.2\n",
      "At location /home/falaxdb/Repos/minus1/transformer_decoder_training/saved_files/saved_models/transformer_0.2\n",
      "Best epoch is epoch number 5\n"
     ]
    },
    {
     "name": "stderr",
     "output_type": "stream",
     "text": [
      "\n",
      "Testing configurations:   0%|          | 0/8 [00:00<?, ?it/s]\u001B[A\n",
      "\n",
      "Songs:   0%|          | 0/3 [00:00<?, ?it/s]\u001B[A\u001B[A\n",
      "\n",
      "                                            \u001B[A\u001B[A"
     ]
    },
    {
     "name": "stdout",
     "output_type": "stream",
     "text": [
      "The song midi-unprocessed_04_r1_2008_01-04_orig_mid--audio_04_r1_2008_wav--1-split does already exist for the configuration /home/falaxdb/Repos/minus1/transformer_decoder_training/saved_files/saved_models/transformer_0.2/tests/threshold_005/midi-unprocessed_04_r1_2008_01-04_orig_mid--audio_04_r1_2008_wav--1-split_configuration.json, skipping\n",
      "The song midi-unprocessed_01_r1_2006_01-09_orig_mid--audio_01_r1_2006_01_track01_wav-split does already exist for the configuration /home/falaxdb/Repos/minus1/transformer_decoder_training/saved_files/saved_models/transformer_0.2/tests/threshold_005/midi-unprocessed_01_r1_2006_01-09_orig_mid--audio_01_r1_2006_01_track01_wav-split_configuration.json, skipping\n",
      "The song simple_test does already exist for the configuration /home/falaxdb/Repos/minus1/transformer_decoder_training/saved_files/saved_models/transformer_0.2/tests/threshold_005/simple_test_configuration.json, skipping\n"
     ]
    },
    {
     "name": "stderr",
     "output_type": "stream",
     "text": [
      "\n",
      "\n",
      "Songs:   0%|          | 0/3 [00:00<?, ?it/s]\u001B[A\u001B[A\n",
      "\n",
      "                                            \u001B[A\u001B[A"
     ]
    },
    {
     "name": "stdout",
     "output_type": "stream",
     "text": [
      "The song midi-unprocessed_04_r1_2008_01-04_orig_mid--audio_04_r1_2008_wav--1-split does already exist for the configuration /home/falaxdb/Repos/minus1/transformer_decoder_training/saved_files/saved_models/transformer_0.2/tests/threshold_01/midi-unprocessed_04_r1_2008_01-04_orig_mid--audio_04_r1_2008_wav--1-split_configuration.json, skipping\n",
      "The song midi-unprocessed_01_r1_2006_01-09_orig_mid--audio_01_r1_2006_01_track01_wav-split does already exist for the configuration /home/falaxdb/Repos/minus1/transformer_decoder_training/saved_files/saved_models/transformer_0.2/tests/threshold_01/midi-unprocessed_01_r1_2006_01-09_orig_mid--audio_01_r1_2006_01_track01_wav-split_configuration.json, skipping\n",
      "The song simple_test does already exist for the configuration /home/falaxdb/Repos/minus1/transformer_decoder_training/saved_files/saved_models/transformer_0.2/tests/threshold_01/simple_test_configuration.json, skipping\n"
     ]
    },
    {
     "name": "stderr",
     "output_type": "stream",
     "text": [
      "\n",
      "\n",
      "Songs:   0%|          | 0/3 [00:00<?, ?it/s]\u001B[A\u001B[A\n",
      "\n",
      "                                            \u001B[A\u001B[A"
     ]
    },
    {
     "name": "stdout",
     "output_type": "stream",
     "text": [
      "The song midi-unprocessed_04_r1_2008_01-04_orig_mid--audio_04_r1_2008_wav--1-split does already exist for the configuration /home/falaxdb/Repos/minus1/transformer_decoder_training/saved_files/saved_models/transformer_0.2/tests/threshold_015/midi-unprocessed_04_r1_2008_01-04_orig_mid--audio_04_r1_2008_wav--1-split_configuration.json, skipping\n",
      "The song midi-unprocessed_01_r1_2006_01-09_orig_mid--audio_01_r1_2006_01_track01_wav-split does already exist for the configuration /home/falaxdb/Repos/minus1/transformer_decoder_training/saved_files/saved_models/transformer_0.2/tests/threshold_015/midi-unprocessed_01_r1_2006_01-09_orig_mid--audio_01_r1_2006_01_track01_wav-split_configuration.json, skipping\n",
      "The song simple_test does already exist for the configuration /home/falaxdb/Repos/minus1/transformer_decoder_training/saved_files/saved_models/transformer_0.2/tests/threshold_015/simple_test_configuration.json, skipping\n"
     ]
    },
    {
     "name": "stderr",
     "output_type": "stream",
     "text": [
      "\n",
      "\n",
      "Songs:   0%|          | 0/3 [00:00<?, ?it/s]\u001B[A\u001B[A\n",
      "\n",
      "                                            \u001B[A\u001B[A"
     ]
    },
    {
     "name": "stdout",
     "output_type": "stream",
     "text": [
      "The song midi-unprocessed_04_r1_2008_01-04_orig_mid--audio_04_r1_2008_wav--1-split does already exist for the configuration /home/falaxdb/Repos/minus1/transformer_decoder_training/saved_files/saved_models/transformer_0.2/tests/threshold_02/midi-unprocessed_04_r1_2008_01-04_orig_mid--audio_04_r1_2008_wav--1-split_configuration.json, skipping\n",
      "The song midi-unprocessed_01_r1_2006_01-09_orig_mid--audio_01_r1_2006_01_track01_wav-split does already exist for the configuration /home/falaxdb/Repos/minus1/transformer_decoder_training/saved_files/saved_models/transformer_0.2/tests/threshold_02/midi-unprocessed_01_r1_2006_01-09_orig_mid--audio_01_r1_2006_01_track01_wav-split_configuration.json, skipping\n",
      "The song simple_test does already exist for the configuration /home/falaxdb/Repos/minus1/transformer_decoder_training/saved_files/saved_models/transformer_0.2/tests/threshold_02/simple_test_configuration.json, skipping\n"
     ]
    },
    {
     "name": "stderr",
     "output_type": "stream",
     "text": [
      "\n",
      "\n",
      "Songs:   0%|          | 0/3 [00:00<?, ?it/s]\u001B[A\u001B[A\n",
      "\n",
      "                                            \u001B[A\u001B[A"
     ]
    },
    {
     "name": "stdout",
     "output_type": "stream",
     "text": [
      "The song midi-unprocessed_04_r1_2008_01-04_orig_mid--audio_04_r1_2008_wav--1-split does already exist for the configuration /home/falaxdb/Repos/minus1/transformer_decoder_training/saved_files/saved_models/transformer_0.2/tests/threshold_025/midi-unprocessed_04_r1_2008_01-04_orig_mid--audio_04_r1_2008_wav--1-split_configuration.json, skipping\n",
      "The song midi-unprocessed_01_r1_2006_01-09_orig_mid--audio_01_r1_2006_01_track01_wav-split does already exist for the configuration /home/falaxdb/Repos/minus1/transformer_decoder_training/saved_files/saved_models/transformer_0.2/tests/threshold_025/midi-unprocessed_01_r1_2006_01-09_orig_mid--audio_01_r1_2006_01_track01_wav-split_configuration.json, skipping\n",
      "The song simple_test does already exist for the configuration /home/falaxdb/Repos/minus1/transformer_decoder_training/saved_files/saved_models/transformer_0.2/tests/threshold_025/simple_test_configuration.json, skipping\n"
     ]
    },
    {
     "name": "stderr",
     "output_type": "stream",
     "text": [
      "\n",
      "\n",
      "Songs:   0%|          | 0/3 [00:00<?, ?it/s]\u001B[A\u001B[A\n",
      "\n",
      "                                            \u001B[A\u001B[A"
     ]
    },
    {
     "name": "stdout",
     "output_type": "stream",
     "text": [
      "The song midi-unprocessed_04_r1_2008_01-04_orig_mid--audio_04_r1_2008_wav--1-split does already exist for the configuration /home/falaxdb/Repos/minus1/transformer_decoder_training/saved_files/saved_models/transformer_0.2/tests/threshold_05/midi-unprocessed_04_r1_2008_01-04_orig_mid--audio_04_r1_2008_wav--1-split_configuration.json, skipping\n",
      "The song midi-unprocessed_01_r1_2006_01-09_orig_mid--audio_01_r1_2006_01_track01_wav-split does already exist for the configuration /home/falaxdb/Repos/minus1/transformer_decoder_training/saved_files/saved_models/transformer_0.2/tests/threshold_05/midi-unprocessed_01_r1_2006_01-09_orig_mid--audio_01_r1_2006_01_track01_wav-split_configuration.json, skipping\n",
      "The song simple_test does already exist for the configuration /home/falaxdb/Repos/minus1/transformer_decoder_training/saved_files/saved_models/transformer_0.2/tests/threshold_05/simple_test_configuration.json, skipping\n"
     ]
    },
    {
     "name": "stderr",
     "output_type": "stream",
     "text": [
      "\n",
      "\n",
      "Songs:   0%|          | 0/3 [00:00<?, ?it/s]\u001B[A\u001B[A\n",
      "\n",
      "                                            \u001B[A\u001B[A"
     ]
    },
    {
     "name": "stdout",
     "output_type": "stream",
     "text": [
      "The song midi-unprocessed_04_r1_2008_01-04_orig_mid--audio_04_r1_2008_wav--1-split does already exist for the configuration /home/falaxdb/Repos/minus1/transformer_decoder_training/saved_files/saved_models/transformer_0.2/tests/threshold_03/midi-unprocessed_04_r1_2008_01-04_orig_mid--audio_04_r1_2008_wav--1-split_configuration.json, skipping\n",
      "The song midi-unprocessed_01_r1_2006_01-09_orig_mid--audio_01_r1_2006_01_track01_wav-split does already exist for the configuration /home/falaxdb/Repos/minus1/transformer_decoder_training/saved_files/saved_models/transformer_0.2/tests/threshold_03/midi-unprocessed_01_r1_2006_01-09_orig_mid--audio_01_r1_2006_01_track01_wav-split_configuration.json, skipping\n",
      "The song simple_test does already exist for the configuration /home/falaxdb/Repos/minus1/transformer_decoder_training/saved_files/saved_models/transformer_0.2/tests/threshold_03/simple_test_configuration.json, skipping\n"
     ]
    },
    {
     "name": "stderr",
     "output_type": "stream",
     "text": [
      "\n",
      "\n",
      "Songs:   0%|          | 0/3 [00:00<?, ?it/s]\u001B[A\u001B[A\n",
      "\n",
      "                                            \u001B[A\u001B[A\n",
      "Projects:  20%|██        | 3/15 [00:02<00:11,  1.04it/s]     \u001B[A"
     ]
    },
    {
     "name": "stdout",
     "output_type": "stream",
     "text": [
      "The song midi-unprocessed_04_r1_2008_01-04_orig_mid--audio_04_r1_2008_wav--1-split does already exist for the configuration /home/falaxdb/Repos/minus1/transformer_decoder_training/saved_files/saved_models/transformer_0.2/tests/top_k/midi-unprocessed_04_r1_2008_01-04_orig_mid--audio_04_r1_2008_wav--1-split_configuration.json, skipping\n",
      "The song midi-unprocessed_01_r1_2006_01-09_orig_mid--audio_01_r1_2006_01_track01_wav-split does already exist for the configuration /home/falaxdb/Repos/minus1/transformer_decoder_training/saved_files/saved_models/transformer_0.2/tests/top_k/midi-unprocessed_01_r1_2006_01-09_orig_mid--audio_01_r1_2006_01_track01_wav-split_configuration.json, skipping\n",
      "The song simple_test does already exist for the configuration /home/falaxdb/Repos/minus1/transformer_decoder_training/saved_files/saved_models/transformer_0.2/tests/top_k/simple_test_configuration.json, skipping\n",
      "Testing model transformer_0.3\n",
      "At location /home/falaxdb/Repos/minus1/transformer_decoder_training/saved_files/saved_models/transformer_0.3\n",
      "Best epoch is epoch number 1\n"
     ]
    },
    {
     "name": "stderr",
     "output_type": "stream",
     "text": [
      "\n",
      "Testing configurations:   0%|          | 0/8 [00:00<?, ?it/s]\u001B[A\n",
      "\n",
      "Songs:   0%|          | 0/3 [00:00<?, ?it/s]\u001B[A\u001B[A\n",
      "\n",
      "                                            \u001B[A\u001B[A"
     ]
    },
    {
     "name": "stdout",
     "output_type": "stream",
     "text": [
      "The song midi-unprocessed_04_r1_2008_01-04_orig_mid--audio_04_r1_2008_wav--1-split does already exist for the configuration /home/falaxdb/Repos/minus1/transformer_decoder_training/saved_files/saved_models/transformer_0.3/tests/threshold_005/midi-unprocessed_04_r1_2008_01-04_orig_mid--audio_04_r1_2008_wav--1-split_configuration.json, skipping\n",
      "The song midi-unprocessed_01_r1_2006_01-09_orig_mid--audio_01_r1_2006_01_track01_wav-split does already exist for the configuration /home/falaxdb/Repos/minus1/transformer_decoder_training/saved_files/saved_models/transformer_0.3/tests/threshold_005/midi-unprocessed_01_r1_2006_01-09_orig_mid--audio_01_r1_2006_01_track01_wav-split_configuration.json, skipping\n",
      "The song simple_test does already exist for the configuration /home/falaxdb/Repos/minus1/transformer_decoder_training/saved_files/saved_models/transformer_0.3/tests/threshold_005/simple_test_configuration.json, skipping\n"
     ]
    },
    {
     "name": "stderr",
     "output_type": "stream",
     "text": [
      "\n",
      "\n",
      "Songs:   0%|          | 0/3 [00:00<?, ?it/s]\u001B[A\u001B[A\n",
      "\n",
      "                                            \u001B[A\u001B[A"
     ]
    },
    {
     "name": "stdout",
     "output_type": "stream",
     "text": [
      "The song midi-unprocessed_04_r1_2008_01-04_orig_mid--audio_04_r1_2008_wav--1-split does already exist for the configuration /home/falaxdb/Repos/minus1/transformer_decoder_training/saved_files/saved_models/transformer_0.3/tests/threshold_01/midi-unprocessed_04_r1_2008_01-04_orig_mid--audio_04_r1_2008_wav--1-split_configuration.json, skipping\n",
      "The song midi-unprocessed_01_r1_2006_01-09_orig_mid--audio_01_r1_2006_01_track01_wav-split does already exist for the configuration /home/falaxdb/Repos/minus1/transformer_decoder_training/saved_files/saved_models/transformer_0.3/tests/threshold_01/midi-unprocessed_01_r1_2006_01-09_orig_mid--audio_01_r1_2006_01_track01_wav-split_configuration.json, skipping\n",
      "The song simple_test does already exist for the configuration /home/falaxdb/Repos/minus1/transformer_decoder_training/saved_files/saved_models/transformer_0.3/tests/threshold_01/simple_test_configuration.json, skipping\n"
     ]
    },
    {
     "name": "stderr",
     "output_type": "stream",
     "text": [
      "\n",
      "\n",
      "Songs:   0%|          | 0/3 [00:00<?, ?it/s]\u001B[A\u001B[A\n",
      "\n",
      "                                            \u001B[A\u001B[A"
     ]
    },
    {
     "name": "stdout",
     "output_type": "stream",
     "text": [
      "The song midi-unprocessed_04_r1_2008_01-04_orig_mid--audio_04_r1_2008_wav--1-split does already exist for the configuration /home/falaxdb/Repos/minus1/transformer_decoder_training/saved_files/saved_models/transformer_0.3/tests/threshold_015/midi-unprocessed_04_r1_2008_01-04_orig_mid--audio_04_r1_2008_wav--1-split_configuration.json, skipping\n",
      "The song midi-unprocessed_01_r1_2006_01-09_orig_mid--audio_01_r1_2006_01_track01_wav-split does already exist for the configuration /home/falaxdb/Repos/minus1/transformer_decoder_training/saved_files/saved_models/transformer_0.3/tests/threshold_015/midi-unprocessed_01_r1_2006_01-09_orig_mid--audio_01_r1_2006_01_track01_wav-split_configuration.json, skipping\n",
      "The song simple_test does already exist for the configuration /home/falaxdb/Repos/minus1/transformer_decoder_training/saved_files/saved_models/transformer_0.3/tests/threshold_015/simple_test_configuration.json, skipping\n"
     ]
    },
    {
     "name": "stderr",
     "output_type": "stream",
     "text": [
      "\n",
      "\n",
      "Songs:   0%|          | 0/3 [00:00<?, ?it/s]\u001B[A\u001B[A\n",
      "\n",
      "                                            \u001B[A\u001B[A"
     ]
    },
    {
     "name": "stdout",
     "output_type": "stream",
     "text": [
      "The song midi-unprocessed_04_r1_2008_01-04_orig_mid--audio_04_r1_2008_wav--1-split does already exist for the configuration /home/falaxdb/Repos/minus1/transformer_decoder_training/saved_files/saved_models/transformer_0.3/tests/threshold_02/midi-unprocessed_04_r1_2008_01-04_orig_mid--audio_04_r1_2008_wav--1-split_configuration.json, skipping\n",
      "The song midi-unprocessed_01_r1_2006_01-09_orig_mid--audio_01_r1_2006_01_track01_wav-split does already exist for the configuration /home/falaxdb/Repos/minus1/transformer_decoder_training/saved_files/saved_models/transformer_0.3/tests/threshold_02/midi-unprocessed_01_r1_2006_01-09_orig_mid--audio_01_r1_2006_01_track01_wav-split_configuration.json, skipping\n",
      "The song simple_test does already exist for the configuration /home/falaxdb/Repos/minus1/transformer_decoder_training/saved_files/saved_models/transformer_0.3/tests/threshold_02/simple_test_configuration.json, skipping\n"
     ]
    },
    {
     "name": "stderr",
     "output_type": "stream",
     "text": [
      "\n",
      "\n",
      "Songs:   0%|          | 0/3 [00:00<?, ?it/s]\u001B[A\u001B[A\n",
      "\n",
      "                                            \u001B[A\u001B[A"
     ]
    },
    {
     "name": "stdout",
     "output_type": "stream",
     "text": [
      "The song midi-unprocessed_04_r1_2008_01-04_orig_mid--audio_04_r1_2008_wav--1-split does already exist for the configuration /home/falaxdb/Repos/minus1/transformer_decoder_training/saved_files/saved_models/transformer_0.3/tests/threshold_025/midi-unprocessed_04_r1_2008_01-04_orig_mid--audio_04_r1_2008_wav--1-split_configuration.json, skipping\n",
      "The song midi-unprocessed_01_r1_2006_01-09_orig_mid--audio_01_r1_2006_01_track01_wav-split does already exist for the configuration /home/falaxdb/Repos/minus1/transformer_decoder_training/saved_files/saved_models/transformer_0.3/tests/threshold_025/midi-unprocessed_01_r1_2006_01-09_orig_mid--audio_01_r1_2006_01_track01_wav-split_configuration.json, skipping\n",
      "The song simple_test does already exist for the configuration /home/falaxdb/Repos/minus1/transformer_decoder_training/saved_files/saved_models/transformer_0.3/tests/threshold_025/simple_test_configuration.json, skipping\n"
     ]
    },
    {
     "name": "stderr",
     "output_type": "stream",
     "text": [
      "\n",
      "\n",
      "Songs:   0%|          | 0/3 [00:00<?, ?it/s]\u001B[A\u001B[A\n",
      "\n",
      "                                            \u001B[A\u001B[A"
     ]
    },
    {
     "name": "stdout",
     "output_type": "stream",
     "text": [
      "The song midi-unprocessed_04_r1_2008_01-04_orig_mid--audio_04_r1_2008_wav--1-split does already exist for the configuration /home/falaxdb/Repos/minus1/transformer_decoder_training/saved_files/saved_models/transformer_0.3/tests/threshold_05/midi-unprocessed_04_r1_2008_01-04_orig_mid--audio_04_r1_2008_wav--1-split_configuration.json, skipping\n",
      "The song midi-unprocessed_01_r1_2006_01-09_orig_mid--audio_01_r1_2006_01_track01_wav-split does already exist for the configuration /home/falaxdb/Repos/minus1/transformer_decoder_training/saved_files/saved_models/transformer_0.3/tests/threshold_05/midi-unprocessed_01_r1_2006_01-09_orig_mid--audio_01_r1_2006_01_track01_wav-split_configuration.json, skipping\n",
      "The song simple_test does already exist for the configuration /home/falaxdb/Repos/minus1/transformer_decoder_training/saved_files/saved_models/transformer_0.3/tests/threshold_05/simple_test_configuration.json, skipping\n"
     ]
    },
    {
     "name": "stderr",
     "output_type": "stream",
     "text": [
      "\n",
      "\n",
      "Songs:   0%|          | 0/3 [00:00<?, ?it/s]\u001B[A\u001B[A\n",
      "\n",
      "                                            \u001B[A\u001B[A"
     ]
    },
    {
     "name": "stdout",
     "output_type": "stream",
     "text": [
      "The song midi-unprocessed_04_r1_2008_01-04_orig_mid--audio_04_r1_2008_wav--1-split does already exist for the configuration /home/falaxdb/Repos/minus1/transformer_decoder_training/saved_files/saved_models/transformer_0.3/tests/threshold_03/midi-unprocessed_04_r1_2008_01-04_orig_mid--audio_04_r1_2008_wav--1-split_configuration.json, skipping\n",
      "The song midi-unprocessed_01_r1_2006_01-09_orig_mid--audio_01_r1_2006_01_track01_wav-split does already exist for the configuration /home/falaxdb/Repos/minus1/transformer_decoder_training/saved_files/saved_models/transformer_0.3/tests/threshold_03/midi-unprocessed_01_r1_2006_01-09_orig_mid--audio_01_r1_2006_01_track01_wav-split_configuration.json, skipping\n",
      "The song simple_test does already exist for the configuration /home/falaxdb/Repos/minus1/transformer_decoder_training/saved_files/saved_models/transformer_0.3/tests/threshold_03/simple_test_configuration.json, skipping\n"
     ]
    },
    {
     "name": "stderr",
     "output_type": "stream",
     "text": [
      "\n",
      "\n",
      "Songs:   0%|          | 0/3 [00:00<?, ?it/s]\u001B[A\u001B[A\n",
      "\n",
      "                                            \u001B[A\u001B[A\n",
      "Projects:  27%|██▋       | 4/15 [00:04<00:13,  1.19s/it]     \u001B[A"
     ]
    },
    {
     "name": "stdout",
     "output_type": "stream",
     "text": [
      "The song midi-unprocessed_04_r1_2008_01-04_orig_mid--audio_04_r1_2008_wav--1-split does already exist for the configuration /home/falaxdb/Repos/minus1/transformer_decoder_training/saved_files/saved_models/transformer_0.3/tests/top_k/midi-unprocessed_04_r1_2008_01-04_orig_mid--audio_04_r1_2008_wav--1-split_configuration.json, skipping\n",
      "The song midi-unprocessed_01_r1_2006_01-09_orig_mid--audio_01_r1_2006_01_track01_wav-split does already exist for the configuration /home/falaxdb/Repos/minus1/transformer_decoder_training/saved_files/saved_models/transformer_0.3/tests/top_k/midi-unprocessed_01_r1_2006_01-09_orig_mid--audio_01_r1_2006_01_track01_wav-split_configuration.json, skipping\n",
      "The song simple_test does already exist for the configuration /home/falaxdb/Repos/minus1/transformer_decoder_training/saved_files/saved_models/transformer_0.3/tests/top_k/simple_test_configuration.json, skipping\n",
      "Testing model transformer_0.4\n",
      "At location /home/falaxdb/Repos/minus1/transformer_decoder_training/saved_files/saved_models/transformer_0.4\n",
      "Best epoch is epoch number 7\n"
     ]
    },
    {
     "name": "stderr",
     "output_type": "stream",
     "text": [
      "\n",
      "Testing configurations:   0%|          | 0/8 [00:00<?, ?it/s]\u001B[A\n",
      "\n",
      "Songs:   0%|          | 0/3 [00:00<?, ?it/s]\u001B[A\u001B[A\n",
      "\n",
      "                                            \u001B[A\u001B[A"
     ]
    },
    {
     "name": "stdout",
     "output_type": "stream",
     "text": [
      "The song midi-unprocessed_04_r1_2008_01-04_orig_mid--audio_04_r1_2008_wav--1-split does already exist for the configuration /home/falaxdb/Repos/minus1/transformer_decoder_training/saved_files/saved_models/transformer_0.4/tests/threshold_005/midi-unprocessed_04_r1_2008_01-04_orig_mid--audio_04_r1_2008_wav--1-split_configuration.json, skipping\n",
      "The song midi-unprocessed_01_r1_2006_01-09_orig_mid--audio_01_r1_2006_01_track01_wav-split does already exist for the configuration /home/falaxdb/Repos/minus1/transformer_decoder_training/saved_files/saved_models/transformer_0.4/tests/threshold_005/midi-unprocessed_01_r1_2006_01-09_orig_mid--audio_01_r1_2006_01_track01_wav-split_configuration.json, skipping\n",
      "The song simple_test does already exist for the configuration /home/falaxdb/Repos/minus1/transformer_decoder_training/saved_files/saved_models/transformer_0.4/tests/threshold_005/simple_test_configuration.json, skipping\n"
     ]
    },
    {
     "name": "stderr",
     "output_type": "stream",
     "text": [
      "\n",
      "\n",
      "Songs:   0%|          | 0/3 [00:00<?, ?it/s]\u001B[A\u001B[A\n",
      "\n",
      "                                            \u001B[A\u001B[A"
     ]
    },
    {
     "name": "stdout",
     "output_type": "stream",
     "text": [
      "The song midi-unprocessed_04_r1_2008_01-04_orig_mid--audio_04_r1_2008_wav--1-split does already exist for the configuration /home/falaxdb/Repos/minus1/transformer_decoder_training/saved_files/saved_models/transformer_0.4/tests/threshold_01/midi-unprocessed_04_r1_2008_01-04_orig_mid--audio_04_r1_2008_wav--1-split_configuration.json, skipping\n",
      "The song midi-unprocessed_01_r1_2006_01-09_orig_mid--audio_01_r1_2006_01_track01_wav-split does already exist for the configuration /home/falaxdb/Repos/minus1/transformer_decoder_training/saved_files/saved_models/transformer_0.4/tests/threshold_01/midi-unprocessed_01_r1_2006_01-09_orig_mid--audio_01_r1_2006_01_track01_wav-split_configuration.json, skipping\n",
      "The song simple_test does already exist for the configuration /home/falaxdb/Repos/minus1/transformer_decoder_training/saved_files/saved_models/transformer_0.4/tests/threshold_01/simple_test_configuration.json, skipping\n"
     ]
    },
    {
     "name": "stderr",
     "output_type": "stream",
     "text": [
      "\n",
      "\n",
      "Songs:   0%|          | 0/3 [00:00<?, ?it/s]\u001B[A\u001B[A\n",
      "\n",
      "                                            \u001B[A\u001B[A"
     ]
    },
    {
     "name": "stdout",
     "output_type": "stream",
     "text": [
      "The song midi-unprocessed_04_r1_2008_01-04_orig_mid--audio_04_r1_2008_wav--1-split does already exist for the configuration /home/falaxdb/Repos/minus1/transformer_decoder_training/saved_files/saved_models/transformer_0.4/tests/threshold_015/midi-unprocessed_04_r1_2008_01-04_orig_mid--audio_04_r1_2008_wav--1-split_configuration.json, skipping\n",
      "The song midi-unprocessed_01_r1_2006_01-09_orig_mid--audio_01_r1_2006_01_track01_wav-split does already exist for the configuration /home/falaxdb/Repos/minus1/transformer_decoder_training/saved_files/saved_models/transformer_0.4/tests/threshold_015/midi-unprocessed_01_r1_2006_01-09_orig_mid--audio_01_r1_2006_01_track01_wav-split_configuration.json, skipping\n",
      "The song simple_test does already exist for the configuration /home/falaxdb/Repos/minus1/transformer_decoder_training/saved_files/saved_models/transformer_0.4/tests/threshold_015/simple_test_configuration.json, skipping\n"
     ]
    },
    {
     "name": "stderr",
     "output_type": "stream",
     "text": [
      "\n",
      "\n",
      "Songs:   0%|          | 0/3 [00:00<?, ?it/s]\u001B[A\u001B[A\n",
      "\n",
      "                                            \u001B[A\u001B[A"
     ]
    },
    {
     "name": "stdout",
     "output_type": "stream",
     "text": [
      "The song midi-unprocessed_04_r1_2008_01-04_orig_mid--audio_04_r1_2008_wav--1-split does already exist for the configuration /home/falaxdb/Repos/minus1/transformer_decoder_training/saved_files/saved_models/transformer_0.4/tests/threshold_02/midi-unprocessed_04_r1_2008_01-04_orig_mid--audio_04_r1_2008_wav--1-split_configuration.json, skipping\n",
      "The song midi-unprocessed_01_r1_2006_01-09_orig_mid--audio_01_r1_2006_01_track01_wav-split does already exist for the configuration /home/falaxdb/Repos/minus1/transformer_decoder_training/saved_files/saved_models/transformer_0.4/tests/threshold_02/midi-unprocessed_01_r1_2006_01-09_orig_mid--audio_01_r1_2006_01_track01_wav-split_configuration.json, skipping\n",
      "The song simple_test does already exist for the configuration /home/falaxdb/Repos/minus1/transformer_decoder_training/saved_files/saved_models/transformer_0.4/tests/threshold_02/simple_test_configuration.json, skipping\n"
     ]
    },
    {
     "name": "stderr",
     "output_type": "stream",
     "text": [
      "\n",
      "\n",
      "Songs:   0%|          | 0/3 [00:00<?, ?it/s]\u001B[A\u001B[A\n",
      "\n",
      "                                            \u001B[A\u001B[A"
     ]
    },
    {
     "name": "stdout",
     "output_type": "stream",
     "text": [
      "The song midi-unprocessed_04_r1_2008_01-04_orig_mid--audio_04_r1_2008_wav--1-split does already exist for the configuration /home/falaxdb/Repos/minus1/transformer_decoder_training/saved_files/saved_models/transformer_0.4/tests/threshold_025/midi-unprocessed_04_r1_2008_01-04_orig_mid--audio_04_r1_2008_wav--1-split_configuration.json, skipping\n",
      "The song midi-unprocessed_01_r1_2006_01-09_orig_mid--audio_01_r1_2006_01_track01_wav-split does already exist for the configuration /home/falaxdb/Repos/minus1/transformer_decoder_training/saved_files/saved_models/transformer_0.4/tests/threshold_025/midi-unprocessed_01_r1_2006_01-09_orig_mid--audio_01_r1_2006_01_track01_wav-split_configuration.json, skipping\n",
      "The song simple_test does already exist for the configuration /home/falaxdb/Repos/minus1/transformer_decoder_training/saved_files/saved_models/transformer_0.4/tests/threshold_025/simple_test_configuration.json, skipping\n"
     ]
    },
    {
     "name": "stderr",
     "output_type": "stream",
     "text": [
      "\n",
      "\n",
      "Songs:   0%|          | 0/3 [00:00<?, ?it/s]\u001B[A\u001B[A\n",
      "\n",
      "                                            \u001B[A\u001B[A"
     ]
    },
    {
     "name": "stdout",
     "output_type": "stream",
     "text": [
      "The song midi-unprocessed_04_r1_2008_01-04_orig_mid--audio_04_r1_2008_wav--1-split does already exist for the configuration /home/falaxdb/Repos/minus1/transformer_decoder_training/saved_files/saved_models/transformer_0.4/tests/threshold_05/midi-unprocessed_04_r1_2008_01-04_orig_mid--audio_04_r1_2008_wav--1-split_configuration.json, skipping\n",
      "The song midi-unprocessed_01_r1_2006_01-09_orig_mid--audio_01_r1_2006_01_track01_wav-split does already exist for the configuration /home/falaxdb/Repos/minus1/transformer_decoder_training/saved_files/saved_models/transformer_0.4/tests/threshold_05/midi-unprocessed_01_r1_2006_01-09_orig_mid--audio_01_r1_2006_01_track01_wav-split_configuration.json, skipping\n",
      "The song simple_test does already exist for the configuration /home/falaxdb/Repos/minus1/transformer_decoder_training/saved_files/saved_models/transformer_0.4/tests/threshold_05/simple_test_configuration.json, skipping\n"
     ]
    },
    {
     "name": "stderr",
     "output_type": "stream",
     "text": [
      "\n",
      "\n",
      "Songs:   0%|          | 0/3 [00:00<?, ?it/s]\u001B[A\u001B[A\n",
      "\n",
      "                                            \u001B[A\u001B[A"
     ]
    },
    {
     "name": "stdout",
     "output_type": "stream",
     "text": [
      "The song midi-unprocessed_04_r1_2008_01-04_orig_mid--audio_04_r1_2008_wav--1-split does already exist for the configuration /home/falaxdb/Repos/minus1/transformer_decoder_training/saved_files/saved_models/transformer_0.4/tests/threshold_03/midi-unprocessed_04_r1_2008_01-04_orig_mid--audio_04_r1_2008_wav--1-split_configuration.json, skipping\n",
      "The song midi-unprocessed_01_r1_2006_01-09_orig_mid--audio_01_r1_2006_01_track01_wav-split does already exist for the configuration /home/falaxdb/Repos/minus1/transformer_decoder_training/saved_files/saved_models/transformer_0.4/tests/threshold_03/midi-unprocessed_01_r1_2006_01-09_orig_mid--audio_01_r1_2006_01_track01_wav-split_configuration.json, skipping\n",
      "The song simple_test does already exist for the configuration /home/falaxdb/Repos/minus1/transformer_decoder_training/saved_files/saved_models/transformer_0.4/tests/threshold_03/simple_test_configuration.json, skipping\n"
     ]
    },
    {
     "name": "stderr",
     "output_type": "stream",
     "text": [
      "\n",
      "\n",
      "Songs:   0%|          | 0/3 [00:00<?, ?it/s]\u001B[A\u001B[A\n",
      "\n",
      "                                            \u001B[A\u001B[A\n",
      "Projects:  33%|███▎      | 5/15 [00:05<00:13,  1.34s/it]     \u001B[A"
     ]
    },
    {
     "name": "stdout",
     "output_type": "stream",
     "text": [
      "The song midi-unprocessed_04_r1_2008_01-04_orig_mid--audio_04_r1_2008_wav--1-split does already exist for the configuration /home/falaxdb/Repos/minus1/transformer_decoder_training/saved_files/saved_models/transformer_0.4/tests/top_k/midi-unprocessed_04_r1_2008_01-04_orig_mid--audio_04_r1_2008_wav--1-split_configuration.json, skipping\n",
      "The song midi-unprocessed_01_r1_2006_01-09_orig_mid--audio_01_r1_2006_01_track01_wav-split does already exist for the configuration /home/falaxdb/Repos/minus1/transformer_decoder_training/saved_files/saved_models/transformer_0.4/tests/top_k/midi-unprocessed_01_r1_2006_01-09_orig_mid--audio_01_r1_2006_01_track01_wav-split_configuration.json, skipping\n",
      "The song simple_test does already exist for the configuration /home/falaxdb/Repos/minus1/transformer_decoder_training/saved_files/saved_models/transformer_0.4/tests/top_k/simple_test_configuration.json, skipping\n",
      "Testing model transformer_0.5\n",
      "At location /home/falaxdb/Repos/minus1/transformer_decoder_training/saved_files/saved_models/transformer_0.5\n",
      "Best epoch is epoch number 18\n"
     ]
    },
    {
     "name": "stderr",
     "output_type": "stream",
     "text": [
      "\n",
      "Testing configurations:   0%|          | 0/8 [00:00<?, ?it/s]\u001B[A\n",
      "\n",
      "Songs:   0%|          | 0/3 [00:00<?, ?it/s]\u001B[A\u001B[A\n",
      "\n",
      "                                            \u001B[A\u001B[A"
     ]
    },
    {
     "name": "stdout",
     "output_type": "stream",
     "text": [
      "The song midi-unprocessed_04_r1_2008_01-04_orig_mid--audio_04_r1_2008_wav--1-split does already exist for the configuration /home/falaxdb/Repos/minus1/transformer_decoder_training/saved_files/saved_models/transformer_0.5/tests/threshold_005/midi-unprocessed_04_r1_2008_01-04_orig_mid--audio_04_r1_2008_wav--1-split_configuration.json, skipping\n",
      "The song midi-unprocessed_01_r1_2006_01-09_orig_mid--audio_01_r1_2006_01_track01_wav-split does already exist for the configuration /home/falaxdb/Repos/minus1/transformer_decoder_training/saved_files/saved_models/transformer_0.5/tests/threshold_005/midi-unprocessed_01_r1_2006_01-09_orig_mid--audio_01_r1_2006_01_track01_wav-split_configuration.json, skipping\n",
      "The song simple_test does already exist for the configuration /home/falaxdb/Repos/minus1/transformer_decoder_training/saved_files/saved_models/transformer_0.5/tests/threshold_005/simple_test_configuration.json, skipping\n"
     ]
    },
    {
     "name": "stderr",
     "output_type": "stream",
     "text": [
      "\n",
      "\n",
      "Songs:   0%|          | 0/3 [00:00<?, ?it/s]\u001B[A\u001B[A\n",
      "\n",
      "                                            \u001B[A\u001B[A"
     ]
    },
    {
     "name": "stdout",
     "output_type": "stream",
     "text": [
      "The song midi-unprocessed_04_r1_2008_01-04_orig_mid--audio_04_r1_2008_wav--1-split does already exist for the configuration /home/falaxdb/Repos/minus1/transformer_decoder_training/saved_files/saved_models/transformer_0.5/tests/threshold_01/midi-unprocessed_04_r1_2008_01-04_orig_mid--audio_04_r1_2008_wav--1-split_configuration.json, skipping\n",
      "The song midi-unprocessed_01_r1_2006_01-09_orig_mid--audio_01_r1_2006_01_track01_wav-split does already exist for the configuration /home/falaxdb/Repos/minus1/transformer_decoder_training/saved_files/saved_models/transformer_0.5/tests/threshold_01/midi-unprocessed_01_r1_2006_01-09_orig_mid--audio_01_r1_2006_01_track01_wav-split_configuration.json, skipping\n",
      "The song simple_test does already exist for the configuration /home/falaxdb/Repos/minus1/transformer_decoder_training/saved_files/saved_models/transformer_0.5/tests/threshold_01/simple_test_configuration.json, skipping\n"
     ]
    },
    {
     "name": "stderr",
     "output_type": "stream",
     "text": [
      "\n",
      "\n",
      "Songs:   0%|          | 0/3 [00:00<?, ?it/s]\u001B[A\u001B[A\n",
      "\n",
      "                                            \u001B[A\u001B[A"
     ]
    },
    {
     "name": "stdout",
     "output_type": "stream",
     "text": [
      "The song midi-unprocessed_04_r1_2008_01-04_orig_mid--audio_04_r1_2008_wav--1-split does already exist for the configuration /home/falaxdb/Repos/minus1/transformer_decoder_training/saved_files/saved_models/transformer_0.5/tests/threshold_015/midi-unprocessed_04_r1_2008_01-04_orig_mid--audio_04_r1_2008_wav--1-split_configuration.json, skipping\n",
      "The song midi-unprocessed_01_r1_2006_01-09_orig_mid--audio_01_r1_2006_01_track01_wav-split does already exist for the configuration /home/falaxdb/Repos/minus1/transformer_decoder_training/saved_files/saved_models/transformer_0.5/tests/threshold_015/midi-unprocessed_01_r1_2006_01-09_orig_mid--audio_01_r1_2006_01_track01_wav-split_configuration.json, skipping\n",
      "The song simple_test does already exist for the configuration /home/falaxdb/Repos/minus1/transformer_decoder_training/saved_files/saved_models/transformer_0.5/tests/threshold_015/simple_test_configuration.json, skipping\n"
     ]
    },
    {
     "name": "stderr",
     "output_type": "stream",
     "text": [
      "\n",
      "\n",
      "Songs:   0%|          | 0/3 [00:00<?, ?it/s]\u001B[A\u001B[A\n",
      "\n",
      "                                            \u001B[A\u001B[A"
     ]
    },
    {
     "name": "stdout",
     "output_type": "stream",
     "text": [
      "The song midi-unprocessed_04_r1_2008_01-04_orig_mid--audio_04_r1_2008_wav--1-split does already exist for the configuration /home/falaxdb/Repos/minus1/transformer_decoder_training/saved_files/saved_models/transformer_0.5/tests/threshold_02/midi-unprocessed_04_r1_2008_01-04_orig_mid--audio_04_r1_2008_wav--1-split_configuration.json, skipping\n",
      "The song midi-unprocessed_01_r1_2006_01-09_orig_mid--audio_01_r1_2006_01_track01_wav-split does already exist for the configuration /home/falaxdb/Repos/minus1/transformer_decoder_training/saved_files/saved_models/transformer_0.5/tests/threshold_02/midi-unprocessed_01_r1_2006_01-09_orig_mid--audio_01_r1_2006_01_track01_wav-split_configuration.json, skipping\n",
      "The song simple_test does already exist for the configuration /home/falaxdb/Repos/minus1/transformer_decoder_training/saved_files/saved_models/transformer_0.5/tests/threshold_02/simple_test_configuration.json, skipping\n"
     ]
    },
    {
     "name": "stderr",
     "output_type": "stream",
     "text": [
      "\n",
      "\n",
      "Songs:   0%|          | 0/3 [00:00<?, ?it/s]\u001B[A\u001B[A\n",
      "\n",
      "                                            \u001B[A\u001B[A"
     ]
    },
    {
     "name": "stdout",
     "output_type": "stream",
     "text": [
      "The song midi-unprocessed_04_r1_2008_01-04_orig_mid--audio_04_r1_2008_wav--1-split does already exist for the configuration /home/falaxdb/Repos/minus1/transformer_decoder_training/saved_files/saved_models/transformer_0.5/tests/threshold_025/midi-unprocessed_04_r1_2008_01-04_orig_mid--audio_04_r1_2008_wav--1-split_configuration.json, skipping\n",
      "The song midi-unprocessed_01_r1_2006_01-09_orig_mid--audio_01_r1_2006_01_track01_wav-split does already exist for the configuration /home/falaxdb/Repos/minus1/transformer_decoder_training/saved_files/saved_models/transformer_0.5/tests/threshold_025/midi-unprocessed_01_r1_2006_01-09_orig_mid--audio_01_r1_2006_01_track01_wav-split_configuration.json, skipping\n",
      "The song simple_test does already exist for the configuration /home/falaxdb/Repos/minus1/transformer_decoder_training/saved_files/saved_models/transformer_0.5/tests/threshold_025/simple_test_configuration.json, skipping\n"
     ]
    },
    {
     "name": "stderr",
     "output_type": "stream",
     "text": [
      "\n",
      "\n",
      "Songs:   0%|          | 0/3 [00:00<?, ?it/s]\u001B[A\u001B[A\n",
      "\n",
      "                                            \u001B[A\u001B[A"
     ]
    },
    {
     "name": "stdout",
     "output_type": "stream",
     "text": [
      "The song midi-unprocessed_04_r1_2008_01-04_orig_mid--audio_04_r1_2008_wav--1-split does already exist for the configuration /home/falaxdb/Repos/minus1/transformer_decoder_training/saved_files/saved_models/transformer_0.5/tests/threshold_05/midi-unprocessed_04_r1_2008_01-04_orig_mid--audio_04_r1_2008_wav--1-split_configuration.json, skipping\n",
      "The song midi-unprocessed_01_r1_2006_01-09_orig_mid--audio_01_r1_2006_01_track01_wav-split does already exist for the configuration /home/falaxdb/Repos/minus1/transformer_decoder_training/saved_files/saved_models/transformer_0.5/tests/threshold_05/midi-unprocessed_01_r1_2006_01-09_orig_mid--audio_01_r1_2006_01_track01_wav-split_configuration.json, skipping\n",
      "The song simple_test does already exist for the configuration /home/falaxdb/Repos/minus1/transformer_decoder_training/saved_files/saved_models/transformer_0.5/tests/threshold_05/simple_test_configuration.json, skipping\n"
     ]
    },
    {
     "name": "stderr",
     "output_type": "stream",
     "text": [
      "\n",
      "\n",
      "Songs:   0%|          | 0/3 [00:00<?, ?it/s]\u001B[A\u001B[A\n",
      "\n",
      "                                            \u001B[A\u001B[A"
     ]
    },
    {
     "name": "stdout",
     "output_type": "stream",
     "text": [
      "The song midi-unprocessed_04_r1_2008_01-04_orig_mid--audio_04_r1_2008_wav--1-split does already exist for the configuration /home/falaxdb/Repos/minus1/transformer_decoder_training/saved_files/saved_models/transformer_0.5/tests/threshold_03/midi-unprocessed_04_r1_2008_01-04_orig_mid--audio_04_r1_2008_wav--1-split_configuration.json, skipping\n",
      "The song midi-unprocessed_01_r1_2006_01-09_orig_mid--audio_01_r1_2006_01_track01_wav-split does already exist for the configuration /home/falaxdb/Repos/minus1/transformer_decoder_training/saved_files/saved_models/transformer_0.5/tests/threshold_03/midi-unprocessed_01_r1_2006_01-09_orig_mid--audio_01_r1_2006_01_track01_wav-split_configuration.json, skipping\n",
      "The song simple_test does already exist for the configuration /home/falaxdb/Repos/minus1/transformer_decoder_training/saved_files/saved_models/transformer_0.5/tests/threshold_03/simple_test_configuration.json, skipping\n"
     ]
    },
    {
     "name": "stderr",
     "output_type": "stream",
     "text": [
      "\n",
      "\n",
      "Songs:   0%|          | 0/3 [00:00<?, ?it/s]\u001B[A\u001B[A\n",
      "\n",
      "                                            \u001B[A\u001B[A\n",
      "Projects:  40%|████      | 6/15 [00:07<00:12,  1.41s/it]     \u001B[A"
     ]
    },
    {
     "name": "stdout",
     "output_type": "stream",
     "text": [
      "The song midi-unprocessed_04_r1_2008_01-04_orig_mid--audio_04_r1_2008_wav--1-split does already exist for the configuration /home/falaxdb/Repos/minus1/transformer_decoder_training/saved_files/saved_models/transformer_0.5/tests/top_k/midi-unprocessed_04_r1_2008_01-04_orig_mid--audio_04_r1_2008_wav--1-split_configuration.json, skipping\n",
      "The song midi-unprocessed_01_r1_2006_01-09_orig_mid--audio_01_r1_2006_01_track01_wav-split does already exist for the configuration /home/falaxdb/Repos/minus1/transformer_decoder_training/saved_files/saved_models/transformer_0.5/tests/top_k/midi-unprocessed_01_r1_2006_01-09_orig_mid--audio_01_r1_2006_01_track01_wav-split_configuration.json, skipping\n",
      "The song simple_test does already exist for the configuration /home/falaxdb/Repos/minus1/transformer_decoder_training/saved_files/saved_models/transformer_0.5/tests/top_k/simple_test_configuration.json, skipping\n",
      "Testing model transformer_1.2\n",
      "At location /home/falaxdb/Repos/minus1/transformer_decoder_training/saved_files/saved_models/transformer_1.2\n",
      "Best epoch is epoch number 17\n"
     ]
    },
    {
     "name": "stderr",
     "output_type": "stream",
     "text": [
      "\n",
      "Testing configurations:   0%|          | 0/8 [00:00<?, ?it/s]\u001B[A\n",
      "\n",
      "Songs:   0%|          | 0/3 [00:00<?, ?it/s]\u001B[A\u001B[A\n",
      "\n",
      "                                            \u001B[A\u001B[A"
     ]
    },
    {
     "name": "stdout",
     "output_type": "stream",
     "text": [
      "The song midi-unprocessed_04_r1_2008_01-04_orig_mid--audio_04_r1_2008_wav--1-split does already exist for the configuration /home/falaxdb/Repos/minus1/transformer_decoder_training/saved_files/saved_models/transformer_1.2/tests/threshold_005/midi-unprocessed_04_r1_2008_01-04_orig_mid--audio_04_r1_2008_wav--1-split_configuration.json, skipping\n",
      "The song midi-unprocessed_01_r1_2006_01-09_orig_mid--audio_01_r1_2006_01_track01_wav-split does already exist for the configuration /home/falaxdb/Repos/minus1/transformer_decoder_training/saved_files/saved_models/transformer_1.2/tests/threshold_005/midi-unprocessed_01_r1_2006_01-09_orig_mid--audio_01_r1_2006_01_track01_wav-split_configuration.json, skipping\n",
      "The song simple_test does already exist for the configuration /home/falaxdb/Repos/minus1/transformer_decoder_training/saved_files/saved_models/transformer_1.2/tests/threshold_005/simple_test_configuration.json, skipping\n"
     ]
    },
    {
     "name": "stderr",
     "output_type": "stream",
     "text": [
      "\n",
      "\n",
      "Songs:   0%|          | 0/3 [00:00<?, ?it/s]\u001B[A\u001B[A\n",
      "\n",
      "                                            \u001B[A\u001B[A"
     ]
    },
    {
     "name": "stdout",
     "output_type": "stream",
     "text": [
      "The song midi-unprocessed_04_r1_2008_01-04_orig_mid--audio_04_r1_2008_wav--1-split does already exist for the configuration /home/falaxdb/Repos/minus1/transformer_decoder_training/saved_files/saved_models/transformer_1.2/tests/threshold_01/midi-unprocessed_04_r1_2008_01-04_orig_mid--audio_04_r1_2008_wav--1-split_configuration.json, skipping\n",
      "The song midi-unprocessed_01_r1_2006_01-09_orig_mid--audio_01_r1_2006_01_track01_wav-split does already exist for the configuration /home/falaxdb/Repos/minus1/transformer_decoder_training/saved_files/saved_models/transformer_1.2/tests/threshold_01/midi-unprocessed_01_r1_2006_01-09_orig_mid--audio_01_r1_2006_01_track01_wav-split_configuration.json, skipping\n",
      "The song simple_test does already exist for the configuration /home/falaxdb/Repos/minus1/transformer_decoder_training/saved_files/saved_models/transformer_1.2/tests/threshold_01/simple_test_configuration.json, skipping\n"
     ]
    },
    {
     "name": "stderr",
     "output_type": "stream",
     "text": [
      "\n",
      "\n",
      "Songs:   0%|          | 0/3 [00:00<?, ?it/s]\u001B[A\u001B[A\n",
      "\n",
      "                                            \u001B[A\u001B[A"
     ]
    },
    {
     "name": "stdout",
     "output_type": "stream",
     "text": [
      "The song midi-unprocessed_04_r1_2008_01-04_orig_mid--audio_04_r1_2008_wav--1-split does already exist for the configuration /home/falaxdb/Repos/minus1/transformer_decoder_training/saved_files/saved_models/transformer_1.2/tests/threshold_015/midi-unprocessed_04_r1_2008_01-04_orig_mid--audio_04_r1_2008_wav--1-split_configuration.json, skipping\n",
      "The song midi-unprocessed_01_r1_2006_01-09_orig_mid--audio_01_r1_2006_01_track01_wav-split does already exist for the configuration /home/falaxdb/Repos/minus1/transformer_decoder_training/saved_files/saved_models/transformer_1.2/tests/threshold_015/midi-unprocessed_01_r1_2006_01-09_orig_mid--audio_01_r1_2006_01_track01_wav-split_configuration.json, skipping\n",
      "The song simple_test does already exist for the configuration /home/falaxdb/Repos/minus1/transformer_decoder_training/saved_files/saved_models/transformer_1.2/tests/threshold_015/simple_test_configuration.json, skipping\n"
     ]
    },
    {
     "name": "stderr",
     "output_type": "stream",
     "text": [
      "\n",
      "\n",
      "Songs:   0%|          | 0/3 [00:00<?, ?it/s]\u001B[A\u001B[A\n",
      "\n",
      "                                            \u001B[A\u001B[A"
     ]
    },
    {
     "name": "stdout",
     "output_type": "stream",
     "text": [
      "The song midi-unprocessed_04_r1_2008_01-04_orig_mid--audio_04_r1_2008_wav--1-split does already exist for the configuration /home/falaxdb/Repos/minus1/transformer_decoder_training/saved_files/saved_models/transformer_1.2/tests/threshold_02/midi-unprocessed_04_r1_2008_01-04_orig_mid--audio_04_r1_2008_wav--1-split_configuration.json, skipping\n",
      "The song midi-unprocessed_01_r1_2006_01-09_orig_mid--audio_01_r1_2006_01_track01_wav-split does already exist for the configuration /home/falaxdb/Repos/minus1/transformer_decoder_training/saved_files/saved_models/transformer_1.2/tests/threshold_02/midi-unprocessed_01_r1_2006_01-09_orig_mid--audio_01_r1_2006_01_track01_wav-split_configuration.json, skipping\n",
      "The song simple_test does already exist for the configuration /home/falaxdb/Repos/minus1/transformer_decoder_training/saved_files/saved_models/transformer_1.2/tests/threshold_02/simple_test_configuration.json, skipping\n"
     ]
    },
    {
     "name": "stderr",
     "output_type": "stream",
     "text": [
      "\n",
      "\n",
      "Songs:   0%|          | 0/3 [00:00<?, ?it/s]\u001B[A\u001B[A\n",
      "\n",
      "                                            \u001B[A\u001B[A"
     ]
    },
    {
     "name": "stdout",
     "output_type": "stream",
     "text": [
      "The song midi-unprocessed_04_r1_2008_01-04_orig_mid--audio_04_r1_2008_wav--1-split does already exist for the configuration /home/falaxdb/Repos/minus1/transformer_decoder_training/saved_files/saved_models/transformer_1.2/tests/threshold_025/midi-unprocessed_04_r1_2008_01-04_orig_mid--audio_04_r1_2008_wav--1-split_configuration.json, skipping\n",
      "The song midi-unprocessed_01_r1_2006_01-09_orig_mid--audio_01_r1_2006_01_track01_wav-split does already exist for the configuration /home/falaxdb/Repos/minus1/transformer_decoder_training/saved_files/saved_models/transformer_1.2/tests/threshold_025/midi-unprocessed_01_r1_2006_01-09_orig_mid--audio_01_r1_2006_01_track01_wav-split_configuration.json, skipping\n",
      "The song simple_test does already exist for the configuration /home/falaxdb/Repos/minus1/transformer_decoder_training/saved_files/saved_models/transformer_1.2/tests/threshold_025/simple_test_configuration.json, skipping\n"
     ]
    },
    {
     "name": "stderr",
     "output_type": "stream",
     "text": [
      "\n",
      "\n",
      "Songs:   0%|          | 0/3 [00:00<?, ?it/s]\u001B[A\u001B[A\n",
      "\n",
      "                                            \u001B[A\u001B[A"
     ]
    },
    {
     "name": "stdout",
     "output_type": "stream",
     "text": [
      "The song midi-unprocessed_04_r1_2008_01-04_orig_mid--audio_04_r1_2008_wav--1-split does already exist for the configuration /home/falaxdb/Repos/minus1/transformer_decoder_training/saved_files/saved_models/transformer_1.2/tests/threshold_05/midi-unprocessed_04_r1_2008_01-04_orig_mid--audio_04_r1_2008_wav--1-split_configuration.json, skipping\n",
      "The song midi-unprocessed_01_r1_2006_01-09_orig_mid--audio_01_r1_2006_01_track01_wav-split does already exist for the configuration /home/falaxdb/Repos/minus1/transformer_decoder_training/saved_files/saved_models/transformer_1.2/tests/threshold_05/midi-unprocessed_01_r1_2006_01-09_orig_mid--audio_01_r1_2006_01_track01_wav-split_configuration.json, skipping\n",
      "The song simple_test does already exist for the configuration /home/falaxdb/Repos/minus1/transformer_decoder_training/saved_files/saved_models/transformer_1.2/tests/threshold_05/simple_test_configuration.json, skipping\n"
     ]
    },
    {
     "name": "stderr",
     "output_type": "stream",
     "text": [
      "\n",
      "\n",
      "Songs:   0%|          | 0/3 [00:00<?, ?it/s]\u001B[A\u001B[A\n",
      "\n",
      "                                            \u001B[A\u001B[A"
     ]
    },
    {
     "name": "stdout",
     "output_type": "stream",
     "text": [
      "The song midi-unprocessed_04_r1_2008_01-04_orig_mid--audio_04_r1_2008_wav--1-split does already exist for the configuration /home/falaxdb/Repos/minus1/transformer_decoder_training/saved_files/saved_models/transformer_1.2/tests/threshold_03/midi-unprocessed_04_r1_2008_01-04_orig_mid--audio_04_r1_2008_wav--1-split_configuration.json, skipping\n",
      "The song midi-unprocessed_01_r1_2006_01-09_orig_mid--audio_01_r1_2006_01_track01_wav-split does already exist for the configuration /home/falaxdb/Repos/minus1/transformer_decoder_training/saved_files/saved_models/transformer_1.2/tests/threshold_03/midi-unprocessed_01_r1_2006_01-09_orig_mid--audio_01_r1_2006_01_track01_wav-split_configuration.json, skipping\n",
      "The song simple_test does already exist for the configuration /home/falaxdb/Repos/minus1/transformer_decoder_training/saved_files/saved_models/transformer_1.2/tests/threshold_03/simple_test_configuration.json, skipping\n"
     ]
    },
    {
     "name": "stderr",
     "output_type": "stream",
     "text": [
      "\n",
      "\n",
      "Songs:   0%|          | 0/3 [00:00<?, ?it/s]\u001B[A\u001B[A\n",
      "\n",
      "                                            \u001B[A\u001B[A\n",
      "Projects:  47%|████▋     | 7/15 [00:09<00:11,  1.45s/it]     \u001B[A"
     ]
    },
    {
     "name": "stdout",
     "output_type": "stream",
     "text": [
      "The song midi-unprocessed_04_r1_2008_01-04_orig_mid--audio_04_r1_2008_wav--1-split does already exist for the configuration /home/falaxdb/Repos/minus1/transformer_decoder_training/saved_files/saved_models/transformer_1.2/tests/top_k/midi-unprocessed_04_r1_2008_01-04_orig_mid--audio_04_r1_2008_wav--1-split_configuration.json, skipping\n",
      "The song midi-unprocessed_01_r1_2006_01-09_orig_mid--audio_01_r1_2006_01_track01_wav-split does already exist for the configuration /home/falaxdb/Repos/minus1/transformer_decoder_training/saved_files/saved_models/transformer_1.2/tests/top_k/midi-unprocessed_01_r1_2006_01-09_orig_mid--audio_01_r1_2006_01_track01_wav-split_configuration.json, skipping\n",
      "The song simple_test does already exist for the configuration /home/falaxdb/Repos/minus1/transformer_decoder_training/saved_files/saved_models/transformer_1.2/tests/top_k/simple_test_configuration.json, skipping\n",
      "Testing model transformer_1.0\n",
      "At location /home/falaxdb/Repos/minus1/transformer_decoder_training/saved_files/saved_models/transformer_1.0\n",
      "Best epoch is epoch number 18\n"
     ]
    },
    {
     "name": "stderr",
     "output_type": "stream",
     "text": [
      "\n",
      "Testing configurations:   0%|          | 0/8 [00:00<?, ?it/s]\u001B[A\n",
      "\n",
      "Songs:   0%|          | 0/3 [00:00<?, ?it/s]\u001B[A\u001B[A\n",
      "\n",
      "                                            \u001B[A\u001B[A"
     ]
    },
    {
     "name": "stdout",
     "output_type": "stream",
     "text": [
      "The song midi-unprocessed_04_r1_2008_01-04_orig_mid--audio_04_r1_2008_wav--1-split does already exist for the configuration /home/falaxdb/Repos/minus1/transformer_decoder_training/saved_files/saved_models/transformer_1.0/tests/threshold_005/midi-unprocessed_04_r1_2008_01-04_orig_mid--audio_04_r1_2008_wav--1-split_configuration.json, skipping\n",
      "The song midi-unprocessed_01_r1_2006_01-09_orig_mid--audio_01_r1_2006_01_track01_wav-split does already exist for the configuration /home/falaxdb/Repos/minus1/transformer_decoder_training/saved_files/saved_models/transformer_1.0/tests/threshold_005/midi-unprocessed_01_r1_2006_01-09_orig_mid--audio_01_r1_2006_01_track01_wav-split_configuration.json, skipping\n",
      "The song simple_test does already exist for the configuration /home/falaxdb/Repos/minus1/transformer_decoder_training/saved_files/saved_models/transformer_1.0/tests/threshold_005/simple_test_configuration.json, skipping\n"
     ]
    },
    {
     "name": "stderr",
     "output_type": "stream",
     "text": [
      "\n",
      "\n",
      "Songs:   0%|          | 0/3 [00:00<?, ?it/s]\u001B[A\u001B[A\n",
      "\n",
      "                                            \u001B[A\u001B[A"
     ]
    },
    {
     "name": "stdout",
     "output_type": "stream",
     "text": [
      "The song midi-unprocessed_04_r1_2008_01-04_orig_mid--audio_04_r1_2008_wav--1-split does already exist for the configuration /home/falaxdb/Repos/minus1/transformer_decoder_training/saved_files/saved_models/transformer_1.0/tests/threshold_01/midi-unprocessed_04_r1_2008_01-04_orig_mid--audio_04_r1_2008_wav--1-split_configuration.json, skipping\n",
      "The song midi-unprocessed_01_r1_2006_01-09_orig_mid--audio_01_r1_2006_01_track01_wav-split does already exist for the configuration /home/falaxdb/Repos/minus1/transformer_decoder_training/saved_files/saved_models/transformer_1.0/tests/threshold_01/midi-unprocessed_01_r1_2006_01-09_orig_mid--audio_01_r1_2006_01_track01_wav-split_configuration.json, skipping\n",
      "The song simple_test does already exist for the configuration /home/falaxdb/Repos/minus1/transformer_decoder_training/saved_files/saved_models/transformer_1.0/tests/threshold_01/simple_test_configuration.json, skipping\n"
     ]
    },
    {
     "name": "stderr",
     "output_type": "stream",
     "text": [
      "\n",
      "\n",
      "Songs:   0%|          | 0/3 [00:00<?, ?it/s]\u001B[A\u001B[A\n",
      "\n",
      "                                            \u001B[A\u001B[A"
     ]
    },
    {
     "name": "stdout",
     "output_type": "stream",
     "text": [
      "The song midi-unprocessed_04_r1_2008_01-04_orig_mid--audio_04_r1_2008_wav--1-split does already exist for the configuration /home/falaxdb/Repos/minus1/transformer_decoder_training/saved_files/saved_models/transformer_1.0/tests/threshold_015/midi-unprocessed_04_r1_2008_01-04_orig_mid--audio_04_r1_2008_wav--1-split_configuration.json, skipping\n",
      "The song midi-unprocessed_01_r1_2006_01-09_orig_mid--audio_01_r1_2006_01_track01_wav-split does already exist for the configuration /home/falaxdb/Repos/minus1/transformer_decoder_training/saved_files/saved_models/transformer_1.0/tests/threshold_015/midi-unprocessed_01_r1_2006_01-09_orig_mid--audio_01_r1_2006_01_track01_wav-split_configuration.json, skipping\n",
      "The song simple_test does already exist for the configuration /home/falaxdb/Repos/minus1/transformer_decoder_training/saved_files/saved_models/transformer_1.0/tests/threshold_015/simple_test_configuration.json, skipping\n"
     ]
    },
    {
     "name": "stderr",
     "output_type": "stream",
     "text": [
      "\n",
      "\n",
      "Songs:   0%|          | 0/3 [00:00<?, ?it/s]\u001B[A\u001B[A\n",
      "\n",
      "                                            \u001B[A\u001B[A"
     ]
    },
    {
     "name": "stdout",
     "output_type": "stream",
     "text": [
      "The song midi-unprocessed_04_r1_2008_01-04_orig_mid--audio_04_r1_2008_wav--1-split does already exist for the configuration /home/falaxdb/Repos/minus1/transformer_decoder_training/saved_files/saved_models/transformer_1.0/tests/threshold_02/midi-unprocessed_04_r1_2008_01-04_orig_mid--audio_04_r1_2008_wav--1-split_configuration.json, skipping\n",
      "The song midi-unprocessed_01_r1_2006_01-09_orig_mid--audio_01_r1_2006_01_track01_wav-split does already exist for the configuration /home/falaxdb/Repos/minus1/transformer_decoder_training/saved_files/saved_models/transformer_1.0/tests/threshold_02/midi-unprocessed_01_r1_2006_01-09_orig_mid--audio_01_r1_2006_01_track01_wav-split_configuration.json, skipping\n",
      "The song simple_test does already exist for the configuration /home/falaxdb/Repos/minus1/transformer_decoder_training/saved_files/saved_models/transformer_1.0/tests/threshold_02/simple_test_configuration.json, skipping\n"
     ]
    },
    {
     "name": "stderr",
     "output_type": "stream",
     "text": [
      "\n",
      "\n",
      "Songs:   0%|          | 0/3 [00:00<?, ?it/s]\u001B[A\u001B[A\n",
      "\n",
      "                                            \u001B[A\u001B[A"
     ]
    },
    {
     "name": "stdout",
     "output_type": "stream",
     "text": [
      "The song midi-unprocessed_04_r1_2008_01-04_orig_mid--audio_04_r1_2008_wav--1-split does already exist for the configuration /home/falaxdb/Repos/minus1/transformer_decoder_training/saved_files/saved_models/transformer_1.0/tests/threshold_025/midi-unprocessed_04_r1_2008_01-04_orig_mid--audio_04_r1_2008_wav--1-split_configuration.json, skipping\n",
      "The song midi-unprocessed_01_r1_2006_01-09_orig_mid--audio_01_r1_2006_01_track01_wav-split does already exist for the configuration /home/falaxdb/Repos/minus1/transformer_decoder_training/saved_files/saved_models/transformer_1.0/tests/threshold_025/midi-unprocessed_01_r1_2006_01-09_orig_mid--audio_01_r1_2006_01_track01_wav-split_configuration.json, skipping\n",
      "The song simple_test does already exist for the configuration /home/falaxdb/Repos/minus1/transformer_decoder_training/saved_files/saved_models/transformer_1.0/tests/threshold_025/simple_test_configuration.json, skipping\n"
     ]
    },
    {
     "name": "stderr",
     "output_type": "stream",
     "text": [
      "\n",
      "\n",
      "Songs:   0%|          | 0/3 [00:00<?, ?it/s]\u001B[A\u001B[A\n",
      "\n",
      "                                            \u001B[A\u001B[A"
     ]
    },
    {
     "name": "stdout",
     "output_type": "stream",
     "text": [
      "The song midi-unprocessed_04_r1_2008_01-04_orig_mid--audio_04_r1_2008_wav--1-split does already exist for the configuration /home/falaxdb/Repos/minus1/transformer_decoder_training/saved_files/saved_models/transformer_1.0/tests/threshold_05/midi-unprocessed_04_r1_2008_01-04_orig_mid--audio_04_r1_2008_wav--1-split_configuration.json, skipping\n",
      "The song midi-unprocessed_01_r1_2006_01-09_orig_mid--audio_01_r1_2006_01_track01_wav-split does already exist for the configuration /home/falaxdb/Repos/minus1/transformer_decoder_training/saved_files/saved_models/transformer_1.0/tests/threshold_05/midi-unprocessed_01_r1_2006_01-09_orig_mid--audio_01_r1_2006_01_track01_wav-split_configuration.json, skipping\n",
      "The song simple_test does already exist for the configuration /home/falaxdb/Repos/minus1/transformer_decoder_training/saved_files/saved_models/transformer_1.0/tests/threshold_05/simple_test_configuration.json, skipping\n"
     ]
    },
    {
     "name": "stderr",
     "output_type": "stream",
     "text": [
      "\n",
      "\n",
      "Songs:   0%|          | 0/3 [00:00<?, ?it/s]\u001B[A\u001B[A\n",
      "\n",
      "                                            \u001B[A\u001B[A"
     ]
    },
    {
     "name": "stdout",
     "output_type": "stream",
     "text": [
      "The song midi-unprocessed_04_r1_2008_01-04_orig_mid--audio_04_r1_2008_wav--1-split does already exist for the configuration /home/falaxdb/Repos/minus1/transformer_decoder_training/saved_files/saved_models/transformer_1.0/tests/threshold_03/midi-unprocessed_04_r1_2008_01-04_orig_mid--audio_04_r1_2008_wav--1-split_configuration.json, skipping\n",
      "The song midi-unprocessed_01_r1_2006_01-09_orig_mid--audio_01_r1_2006_01_track01_wav-split does already exist for the configuration /home/falaxdb/Repos/minus1/transformer_decoder_training/saved_files/saved_models/transformer_1.0/tests/threshold_03/midi-unprocessed_01_r1_2006_01-09_orig_mid--audio_01_r1_2006_01_track01_wav-split_configuration.json, skipping\n",
      "The song simple_test does already exist for the configuration /home/falaxdb/Repos/minus1/transformer_decoder_training/saved_files/saved_models/transformer_1.0/tests/threshold_03/simple_test_configuration.json, skipping\n"
     ]
    },
    {
     "name": "stderr",
     "output_type": "stream",
     "text": [
      "\n",
      "\n",
      "Songs:   0%|          | 0/3 [00:00<?, ?it/s]\u001B[A\u001B[A\n",
      "\n",
      "                                            \u001B[A\u001B[A\n",
      "Projects:  53%|█████▎    | 8/15 [00:10<00:10,  1.48s/it]     \u001B[A"
     ]
    },
    {
     "name": "stdout",
     "output_type": "stream",
     "text": [
      "The song midi-unprocessed_04_r1_2008_01-04_orig_mid--audio_04_r1_2008_wav--1-split does already exist for the configuration /home/falaxdb/Repos/minus1/transformer_decoder_training/saved_files/saved_models/transformer_1.0/tests/top_k/midi-unprocessed_04_r1_2008_01-04_orig_mid--audio_04_r1_2008_wav--1-split_configuration.json, skipping\n",
      "The song midi-unprocessed_01_r1_2006_01-09_orig_mid--audio_01_r1_2006_01_track01_wav-split does already exist for the configuration /home/falaxdb/Repos/minus1/transformer_decoder_training/saved_files/saved_models/transformer_1.0/tests/top_k/midi-unprocessed_01_r1_2006_01-09_orig_mid--audio_01_r1_2006_01_track01_wav-split_configuration.json, skipping\n",
      "The song simple_test does already exist for the configuration /home/falaxdb/Repos/minus1/transformer_decoder_training/saved_files/saved_models/transformer_1.0/tests/top_k/simple_test_configuration.json, skipping\n",
      "Testing model transformer_1.1\n",
      "At location /home/falaxdb/Repos/minus1/transformer_decoder_training/saved_files/saved_models/transformer_1.1\n",
      "Best epoch is epoch number 12\n"
     ]
    },
    {
     "name": "stderr",
     "output_type": "stream",
     "text": [
      "\n",
      "Testing configurations:   0%|          | 0/8 [00:00<?, ?it/s]\u001B[A\n",
      "\n",
      "Songs:   0%|          | 0/3 [00:00<?, ?it/s]\u001B[A\u001B[A\n",
      "\n",
      "                                            \u001B[A\u001B[A"
     ]
    },
    {
     "name": "stdout",
     "output_type": "stream",
     "text": [
      "The song midi-unprocessed_04_r1_2008_01-04_orig_mid--audio_04_r1_2008_wav--1-split does already exist for the configuration /home/falaxdb/Repos/minus1/transformer_decoder_training/saved_files/saved_models/transformer_1.1/tests/threshold_005/midi-unprocessed_04_r1_2008_01-04_orig_mid--audio_04_r1_2008_wav--1-split_configuration.json, skipping\n",
      "The song midi-unprocessed_01_r1_2006_01-09_orig_mid--audio_01_r1_2006_01_track01_wav-split does already exist for the configuration /home/falaxdb/Repos/minus1/transformer_decoder_training/saved_files/saved_models/transformer_1.1/tests/threshold_005/midi-unprocessed_01_r1_2006_01-09_orig_mid--audio_01_r1_2006_01_track01_wav-split_configuration.json, skipping\n",
      "The song simple_test does already exist for the configuration /home/falaxdb/Repos/minus1/transformer_decoder_training/saved_files/saved_models/transformer_1.1/tests/threshold_005/simple_test_configuration.json, skipping\n"
     ]
    },
    {
     "name": "stderr",
     "output_type": "stream",
     "text": [
      "\n",
      "\n",
      "Songs:   0%|          | 0/3 [00:00<?, ?it/s]\u001B[A\u001B[A\n",
      "\n",
      "                                            \u001B[A\u001B[A"
     ]
    },
    {
     "name": "stdout",
     "output_type": "stream",
     "text": [
      "The song midi-unprocessed_04_r1_2008_01-04_orig_mid--audio_04_r1_2008_wav--1-split does already exist for the configuration /home/falaxdb/Repos/minus1/transformer_decoder_training/saved_files/saved_models/transformer_1.1/tests/threshold_01/midi-unprocessed_04_r1_2008_01-04_orig_mid--audio_04_r1_2008_wav--1-split_configuration.json, skipping\n",
      "The song midi-unprocessed_01_r1_2006_01-09_orig_mid--audio_01_r1_2006_01_track01_wav-split does already exist for the configuration /home/falaxdb/Repos/minus1/transformer_decoder_training/saved_files/saved_models/transformer_1.1/tests/threshold_01/midi-unprocessed_01_r1_2006_01-09_orig_mid--audio_01_r1_2006_01_track01_wav-split_configuration.json, skipping\n",
      "The song simple_test does already exist for the configuration /home/falaxdb/Repos/minus1/transformer_decoder_training/saved_files/saved_models/transformer_1.1/tests/threshold_01/simple_test_configuration.json, skipping\n"
     ]
    },
    {
     "name": "stderr",
     "output_type": "stream",
     "text": [
      "\n",
      "\n",
      "Songs:   0%|          | 0/3 [00:00<?, ?it/s]\u001B[A\u001B[A\n",
      "\n",
      "                                            \u001B[A\u001B[A"
     ]
    },
    {
     "name": "stdout",
     "output_type": "stream",
     "text": [
      "The song midi-unprocessed_04_r1_2008_01-04_orig_mid--audio_04_r1_2008_wav--1-split does already exist for the configuration /home/falaxdb/Repos/minus1/transformer_decoder_training/saved_files/saved_models/transformer_1.1/tests/threshold_015/midi-unprocessed_04_r1_2008_01-04_orig_mid--audio_04_r1_2008_wav--1-split_configuration.json, skipping\n",
      "The song midi-unprocessed_01_r1_2006_01-09_orig_mid--audio_01_r1_2006_01_track01_wav-split does already exist for the configuration /home/falaxdb/Repos/minus1/transformer_decoder_training/saved_files/saved_models/transformer_1.1/tests/threshold_015/midi-unprocessed_01_r1_2006_01-09_orig_mid--audio_01_r1_2006_01_track01_wav-split_configuration.json, skipping\n",
      "The song simple_test does already exist for the configuration /home/falaxdb/Repos/minus1/transformer_decoder_training/saved_files/saved_models/transformer_1.1/tests/threshold_015/simple_test_configuration.json, skipping\n"
     ]
    },
    {
     "name": "stderr",
     "output_type": "stream",
     "text": [
      "\n",
      "\n",
      "Songs:   0%|          | 0/3 [00:00<?, ?it/s]\u001B[A\u001B[A\n",
      "\n",
      "                                            \u001B[A\u001B[A"
     ]
    },
    {
     "name": "stdout",
     "output_type": "stream",
     "text": [
      "The song midi-unprocessed_04_r1_2008_01-04_orig_mid--audio_04_r1_2008_wav--1-split does already exist for the configuration /home/falaxdb/Repos/minus1/transformer_decoder_training/saved_files/saved_models/transformer_1.1/tests/threshold_02/midi-unprocessed_04_r1_2008_01-04_orig_mid--audio_04_r1_2008_wav--1-split_configuration.json, skipping\n",
      "The song midi-unprocessed_01_r1_2006_01-09_orig_mid--audio_01_r1_2006_01_track01_wav-split does already exist for the configuration /home/falaxdb/Repos/minus1/transformer_decoder_training/saved_files/saved_models/transformer_1.1/tests/threshold_02/midi-unprocessed_01_r1_2006_01-09_orig_mid--audio_01_r1_2006_01_track01_wav-split_configuration.json, skipping\n",
      "The song simple_test does already exist for the configuration /home/falaxdb/Repos/minus1/transformer_decoder_training/saved_files/saved_models/transformer_1.1/tests/threshold_02/simple_test_configuration.json, skipping\n"
     ]
    },
    {
     "name": "stderr",
     "output_type": "stream",
     "text": [
      "\n",
      "\n",
      "Songs:   0%|          | 0/3 [00:00<?, ?it/s]\u001B[A\u001B[A\n",
      "\n",
      "                                            \u001B[A\u001B[A"
     ]
    },
    {
     "name": "stdout",
     "output_type": "stream",
     "text": [
      "The song midi-unprocessed_04_r1_2008_01-04_orig_mid--audio_04_r1_2008_wav--1-split does already exist for the configuration /home/falaxdb/Repos/minus1/transformer_decoder_training/saved_files/saved_models/transformer_1.1/tests/threshold_025/midi-unprocessed_04_r1_2008_01-04_orig_mid--audio_04_r1_2008_wav--1-split_configuration.json, skipping\n",
      "The song midi-unprocessed_01_r1_2006_01-09_orig_mid--audio_01_r1_2006_01_track01_wav-split does already exist for the configuration /home/falaxdb/Repos/minus1/transformer_decoder_training/saved_files/saved_models/transformer_1.1/tests/threshold_025/midi-unprocessed_01_r1_2006_01-09_orig_mid--audio_01_r1_2006_01_track01_wav-split_configuration.json, skipping\n",
      "The song simple_test does already exist for the configuration /home/falaxdb/Repos/minus1/transformer_decoder_training/saved_files/saved_models/transformer_1.1/tests/threshold_025/simple_test_configuration.json, skipping\n"
     ]
    },
    {
     "name": "stderr",
     "output_type": "stream",
     "text": [
      "\n",
      "\n",
      "Songs:   0%|          | 0/3 [00:00<?, ?it/s]\u001B[A\u001B[A\n",
      "\n",
      "                                            \u001B[A\u001B[A"
     ]
    },
    {
     "name": "stdout",
     "output_type": "stream",
     "text": [
      "The song midi-unprocessed_04_r1_2008_01-04_orig_mid--audio_04_r1_2008_wav--1-split does already exist for the configuration /home/falaxdb/Repos/minus1/transformer_decoder_training/saved_files/saved_models/transformer_1.1/tests/threshold_05/midi-unprocessed_04_r1_2008_01-04_orig_mid--audio_04_r1_2008_wav--1-split_configuration.json, skipping\n",
      "The song midi-unprocessed_01_r1_2006_01-09_orig_mid--audio_01_r1_2006_01_track01_wav-split does already exist for the configuration /home/falaxdb/Repos/minus1/transformer_decoder_training/saved_files/saved_models/transformer_1.1/tests/threshold_05/midi-unprocessed_01_r1_2006_01-09_orig_mid--audio_01_r1_2006_01_track01_wav-split_configuration.json, skipping\n",
      "The song simple_test does already exist for the configuration /home/falaxdb/Repos/minus1/transformer_decoder_training/saved_files/saved_models/transformer_1.1/tests/threshold_05/simple_test_configuration.json, skipping\n"
     ]
    },
    {
     "name": "stderr",
     "output_type": "stream",
     "text": [
      "\n",
      "\n",
      "Songs:   0%|          | 0/3 [00:00<?, ?it/s]\u001B[A\u001B[A\n",
      "\n",
      "                                            \u001B[A\u001B[A"
     ]
    },
    {
     "name": "stdout",
     "output_type": "stream",
     "text": [
      "The song midi-unprocessed_04_r1_2008_01-04_orig_mid--audio_04_r1_2008_wav--1-split does already exist for the configuration /home/falaxdb/Repos/minus1/transformer_decoder_training/saved_files/saved_models/transformer_1.1/tests/threshold_03/midi-unprocessed_04_r1_2008_01-04_orig_mid--audio_04_r1_2008_wav--1-split_configuration.json, skipping\n",
      "The song midi-unprocessed_01_r1_2006_01-09_orig_mid--audio_01_r1_2006_01_track01_wav-split does already exist for the configuration /home/falaxdb/Repos/minus1/transformer_decoder_training/saved_files/saved_models/transformer_1.1/tests/threshold_03/midi-unprocessed_01_r1_2006_01-09_orig_mid--audio_01_r1_2006_01_track01_wav-split_configuration.json, skipping\n",
      "The song simple_test does already exist for the configuration /home/falaxdb/Repos/minus1/transformer_decoder_training/saved_files/saved_models/transformer_1.1/tests/threshold_03/simple_test_configuration.json, skipping\n"
     ]
    },
    {
     "name": "stderr",
     "output_type": "stream",
     "text": [
      "\n",
      "\n",
      "Songs:   0%|          | 0/3 [00:00<?, ?it/s]\u001B[A\u001B[A\n",
      "\n",
      "                                            \u001B[A\u001B[A\n",
      "Projects:  60%|██████    | 9/15 [00:12<00:08,  1.49s/it]     \u001B[A"
     ]
    },
    {
     "name": "stdout",
     "output_type": "stream",
     "text": [
      "The song midi-unprocessed_04_r1_2008_01-04_orig_mid--audio_04_r1_2008_wav--1-split does already exist for the configuration /home/falaxdb/Repos/minus1/transformer_decoder_training/saved_files/saved_models/transformer_1.1/tests/top_k/midi-unprocessed_04_r1_2008_01-04_orig_mid--audio_04_r1_2008_wav--1-split_configuration.json, skipping\n",
      "The song midi-unprocessed_01_r1_2006_01-09_orig_mid--audio_01_r1_2006_01_track01_wav-split does already exist for the configuration /home/falaxdb/Repos/minus1/transformer_decoder_training/saved_files/saved_models/transformer_1.1/tests/top_k/midi-unprocessed_01_r1_2006_01-09_orig_mid--audio_01_r1_2006_01_track01_wav-split_configuration.json, skipping\n",
      "The song simple_test does already exist for the configuration /home/falaxdb/Repos/minus1/transformer_decoder_training/saved_files/saved_models/transformer_1.1/tests/top_k/simple_test_configuration.json, skipping\n",
      "Testing model transformer_1.3\n",
      "At location /home/falaxdb/Repos/minus1/transformer_decoder_training/saved_files/saved_models/transformer_1.3\n",
      "Best epoch is epoch number 10\n"
     ]
    },
    {
     "name": "stderr",
     "output_type": "stream",
     "text": [
      "\n",
      "Testing configurations:   0%|          | 0/8 [00:00<?, ?it/s]\u001B[A\n",
      "\n",
      "Songs:   0%|          | 0/3 [00:00<?, ?it/s]\u001B[A\u001B[A\n",
      "\n",
      "                                            \u001B[A\u001B[A"
     ]
    },
    {
     "name": "stdout",
     "output_type": "stream",
     "text": [
      "The song midi-unprocessed_04_r1_2008_01-04_orig_mid--audio_04_r1_2008_wav--1-split does already exist for the configuration /home/falaxdb/Repos/minus1/transformer_decoder_training/saved_files/saved_models/transformer_1.3/tests/threshold_005/midi-unprocessed_04_r1_2008_01-04_orig_mid--audio_04_r1_2008_wav--1-split_configuration.json, skipping\n",
      "The song midi-unprocessed_01_r1_2006_01-09_orig_mid--audio_01_r1_2006_01_track01_wav-split does already exist for the configuration /home/falaxdb/Repos/minus1/transformer_decoder_training/saved_files/saved_models/transformer_1.3/tests/threshold_005/midi-unprocessed_01_r1_2006_01-09_orig_mid--audio_01_r1_2006_01_track01_wav-split_configuration.json, skipping\n",
      "The song simple_test does already exist for the configuration /home/falaxdb/Repos/minus1/transformer_decoder_training/saved_files/saved_models/transformer_1.3/tests/threshold_005/simple_test_configuration.json, skipping\n"
     ]
    },
    {
     "name": "stderr",
     "output_type": "stream",
     "text": [
      "\n",
      "\n",
      "Songs:   0%|          | 0/3 [00:00<?, ?it/s]\u001B[A\u001B[A\n",
      "\n",
      "                                            \u001B[A\u001B[A"
     ]
    },
    {
     "name": "stdout",
     "output_type": "stream",
     "text": [
      "The song midi-unprocessed_04_r1_2008_01-04_orig_mid--audio_04_r1_2008_wav--1-split does already exist for the configuration /home/falaxdb/Repos/minus1/transformer_decoder_training/saved_files/saved_models/transformer_1.3/tests/threshold_01/midi-unprocessed_04_r1_2008_01-04_orig_mid--audio_04_r1_2008_wav--1-split_configuration.json, skipping\n",
      "The song midi-unprocessed_01_r1_2006_01-09_orig_mid--audio_01_r1_2006_01_track01_wav-split does already exist for the configuration /home/falaxdb/Repos/minus1/transformer_decoder_training/saved_files/saved_models/transformer_1.3/tests/threshold_01/midi-unprocessed_01_r1_2006_01-09_orig_mid--audio_01_r1_2006_01_track01_wav-split_configuration.json, skipping\n",
      "The song simple_test does already exist for the configuration /home/falaxdb/Repos/minus1/transformer_decoder_training/saved_files/saved_models/transformer_1.3/tests/threshold_01/simple_test_configuration.json, skipping\n"
     ]
    },
    {
     "name": "stderr",
     "output_type": "stream",
     "text": [
      "\n",
      "\n",
      "Songs:   0%|          | 0/3 [00:00<?, ?it/s]\u001B[A\u001B[A\n",
      "\n",
      "                                            \u001B[A\u001B[A"
     ]
    },
    {
     "name": "stdout",
     "output_type": "stream",
     "text": [
      "The song midi-unprocessed_04_r1_2008_01-04_orig_mid--audio_04_r1_2008_wav--1-split does already exist for the configuration /home/falaxdb/Repos/minus1/transformer_decoder_training/saved_files/saved_models/transformer_1.3/tests/threshold_015/midi-unprocessed_04_r1_2008_01-04_orig_mid--audio_04_r1_2008_wav--1-split_configuration.json, skipping\n",
      "The song midi-unprocessed_01_r1_2006_01-09_orig_mid--audio_01_r1_2006_01_track01_wav-split does already exist for the configuration /home/falaxdb/Repos/minus1/transformer_decoder_training/saved_files/saved_models/transformer_1.3/tests/threshold_015/midi-unprocessed_01_r1_2006_01-09_orig_mid--audio_01_r1_2006_01_track01_wav-split_configuration.json, skipping\n",
      "The song simple_test does already exist for the configuration /home/falaxdb/Repos/minus1/transformer_decoder_training/saved_files/saved_models/transformer_1.3/tests/threshold_015/simple_test_configuration.json, skipping\n"
     ]
    },
    {
     "name": "stderr",
     "output_type": "stream",
     "text": [
      "\n",
      "\n",
      "Songs:   0%|          | 0/3 [00:00<?, ?it/s]\u001B[A\u001B[A\n",
      "\n",
      "                                            \u001B[A\u001B[A"
     ]
    },
    {
     "name": "stdout",
     "output_type": "stream",
     "text": [
      "The song midi-unprocessed_04_r1_2008_01-04_orig_mid--audio_04_r1_2008_wav--1-split does already exist for the configuration /home/falaxdb/Repos/minus1/transformer_decoder_training/saved_files/saved_models/transformer_1.3/tests/threshold_02/midi-unprocessed_04_r1_2008_01-04_orig_mid--audio_04_r1_2008_wav--1-split_configuration.json, skipping\n",
      "The song midi-unprocessed_01_r1_2006_01-09_orig_mid--audio_01_r1_2006_01_track01_wav-split does already exist for the configuration /home/falaxdb/Repos/minus1/transformer_decoder_training/saved_files/saved_models/transformer_1.3/tests/threshold_02/midi-unprocessed_01_r1_2006_01-09_orig_mid--audio_01_r1_2006_01_track01_wav-split_configuration.json, skipping\n",
      "The song simple_test does already exist for the configuration /home/falaxdb/Repos/minus1/transformer_decoder_training/saved_files/saved_models/transformer_1.3/tests/threshold_02/simple_test_configuration.json, skipping\n"
     ]
    },
    {
     "name": "stderr",
     "output_type": "stream",
     "text": [
      "\n",
      "\n",
      "Songs:   0%|          | 0/3 [00:00<?, ?it/s]\u001B[A\u001B[A\n",
      "\n",
      "                                            \u001B[A\u001B[A"
     ]
    },
    {
     "name": "stdout",
     "output_type": "stream",
     "text": [
      "The song midi-unprocessed_04_r1_2008_01-04_orig_mid--audio_04_r1_2008_wav--1-split does already exist for the configuration /home/falaxdb/Repos/minus1/transformer_decoder_training/saved_files/saved_models/transformer_1.3/tests/threshold_025/midi-unprocessed_04_r1_2008_01-04_orig_mid--audio_04_r1_2008_wav--1-split_configuration.json, skipping\n",
      "The song midi-unprocessed_01_r1_2006_01-09_orig_mid--audio_01_r1_2006_01_track01_wav-split does already exist for the configuration /home/falaxdb/Repos/minus1/transformer_decoder_training/saved_files/saved_models/transformer_1.3/tests/threshold_025/midi-unprocessed_01_r1_2006_01-09_orig_mid--audio_01_r1_2006_01_track01_wav-split_configuration.json, skipping\n",
      "The song simple_test does already exist for the configuration /home/falaxdb/Repos/minus1/transformer_decoder_training/saved_files/saved_models/transformer_1.3/tests/threshold_025/simple_test_configuration.json, skipping\n"
     ]
    },
    {
     "name": "stderr",
     "output_type": "stream",
     "text": [
      "\n",
      "\n",
      "Songs:   0%|          | 0/3 [00:00<?, ?it/s]\u001B[A\u001B[A\n",
      "\n",
      "                                            \u001B[A\u001B[A"
     ]
    },
    {
     "name": "stdout",
     "output_type": "stream",
     "text": [
      "The song midi-unprocessed_04_r1_2008_01-04_orig_mid--audio_04_r1_2008_wav--1-split does already exist for the configuration /home/falaxdb/Repos/minus1/transformer_decoder_training/saved_files/saved_models/transformer_1.3/tests/threshold_05/midi-unprocessed_04_r1_2008_01-04_orig_mid--audio_04_r1_2008_wav--1-split_configuration.json, skipping\n",
      "The song midi-unprocessed_01_r1_2006_01-09_orig_mid--audio_01_r1_2006_01_track01_wav-split does already exist for the configuration /home/falaxdb/Repos/minus1/transformer_decoder_training/saved_files/saved_models/transformer_1.3/tests/threshold_05/midi-unprocessed_01_r1_2006_01-09_orig_mid--audio_01_r1_2006_01_track01_wav-split_configuration.json, skipping\n",
      "The song simple_test does already exist for the configuration /home/falaxdb/Repos/minus1/transformer_decoder_training/saved_files/saved_models/transformer_1.3/tests/threshold_05/simple_test_configuration.json, skipping\n"
     ]
    },
    {
     "name": "stderr",
     "output_type": "stream",
     "text": [
      "\n",
      "\n",
      "Songs:   0%|          | 0/3 [00:00<?, ?it/s]\u001B[A\u001B[A\n",
      "\n",
      "                                            \u001B[A\u001B[A"
     ]
    },
    {
     "name": "stdout",
     "output_type": "stream",
     "text": [
      "The song midi-unprocessed_04_r1_2008_01-04_orig_mid--audio_04_r1_2008_wav--1-split does already exist for the configuration /home/falaxdb/Repos/minus1/transformer_decoder_training/saved_files/saved_models/transformer_1.3/tests/threshold_03/midi-unprocessed_04_r1_2008_01-04_orig_mid--audio_04_r1_2008_wav--1-split_configuration.json, skipping\n",
      "The song midi-unprocessed_01_r1_2006_01-09_orig_mid--audio_01_r1_2006_01_track01_wav-split does already exist for the configuration /home/falaxdb/Repos/minus1/transformer_decoder_training/saved_files/saved_models/transformer_1.3/tests/threshold_03/midi-unprocessed_01_r1_2006_01-09_orig_mid--audio_01_r1_2006_01_track01_wav-split_configuration.json, skipping\n",
      "The song simple_test does already exist for the configuration /home/falaxdb/Repos/minus1/transformer_decoder_training/saved_files/saved_models/transformer_1.3/tests/threshold_03/simple_test_configuration.json, skipping\n"
     ]
    },
    {
     "name": "stderr",
     "output_type": "stream",
     "text": [
      "\n",
      "\n",
      "Songs:   0%|          | 0/3 [00:00<?, ?it/s]\u001B[A\u001B[A\n",
      "\n",
      "                                            \u001B[A\u001B[A\n",
      "Projects:  67%|██████▋   | 10/15 [00:13<00:07,  1.52s/it]    \u001B[A"
     ]
    },
    {
     "name": "stdout",
     "output_type": "stream",
     "text": [
      "The song midi-unprocessed_04_r1_2008_01-04_orig_mid--audio_04_r1_2008_wav--1-split does already exist for the configuration /home/falaxdb/Repos/minus1/transformer_decoder_training/saved_files/saved_models/transformer_1.3/tests/top_k/midi-unprocessed_04_r1_2008_01-04_orig_mid--audio_04_r1_2008_wav--1-split_configuration.json, skipping\n",
      "The song midi-unprocessed_01_r1_2006_01-09_orig_mid--audio_01_r1_2006_01_track01_wav-split does already exist for the configuration /home/falaxdb/Repos/minus1/transformer_decoder_training/saved_files/saved_models/transformer_1.3/tests/top_k/midi-unprocessed_01_r1_2006_01-09_orig_mid--audio_01_r1_2006_01_track01_wav-split_configuration.json, skipping\n",
      "The song simple_test does already exist for the configuration /home/falaxdb/Repos/minus1/transformer_decoder_training/saved_files/saved_models/transformer_1.3/tests/top_k/simple_test_configuration.json, skipping\n",
      "Testing model transformer_1.4\n",
      "At location /home/falaxdb/Repos/minus1/transformer_decoder_training/saved_files/saved_models/transformer_1.4\n",
      "Best epoch is epoch number 17\n"
     ]
    },
    {
     "name": "stderr",
     "output_type": "stream",
     "text": [
      "\n",
      "Testing configurations:   0%|          | 0/8 [00:00<?, ?it/s]\u001B[A\n",
      "\n",
      "Songs:   0%|          | 0/3 [00:00<?, ?it/s]\u001B[A\u001B[A\n",
      "\n",
      "                                            \u001B[A\u001B[A"
     ]
    },
    {
     "name": "stdout",
     "output_type": "stream",
     "text": [
      "The song midi-unprocessed_04_r1_2008_01-04_orig_mid--audio_04_r1_2008_wav--1-split does already exist for the configuration /home/falaxdb/Repos/minus1/transformer_decoder_training/saved_files/saved_models/transformer_1.4/tests/threshold_005/midi-unprocessed_04_r1_2008_01-04_orig_mid--audio_04_r1_2008_wav--1-split_configuration.json, skipping\n",
      "The song midi-unprocessed_01_r1_2006_01-09_orig_mid--audio_01_r1_2006_01_track01_wav-split does already exist for the configuration /home/falaxdb/Repos/minus1/transformer_decoder_training/saved_files/saved_models/transformer_1.4/tests/threshold_005/midi-unprocessed_01_r1_2006_01-09_orig_mid--audio_01_r1_2006_01_track01_wav-split_configuration.json, skipping\n",
      "The song simple_test does already exist for the configuration /home/falaxdb/Repos/minus1/transformer_decoder_training/saved_files/saved_models/transformer_1.4/tests/threshold_005/simple_test_configuration.json, skipping\n"
     ]
    },
    {
     "name": "stderr",
     "output_type": "stream",
     "text": [
      "\n",
      "\n",
      "Songs:   0%|          | 0/3 [00:00<?, ?it/s]\u001B[A\u001B[A\n",
      "\n",
      "                                            \u001B[A\u001B[A"
     ]
    },
    {
     "name": "stdout",
     "output_type": "stream",
     "text": [
      "The song midi-unprocessed_04_r1_2008_01-04_orig_mid--audio_04_r1_2008_wav--1-split does already exist for the configuration /home/falaxdb/Repos/minus1/transformer_decoder_training/saved_files/saved_models/transformer_1.4/tests/threshold_01/midi-unprocessed_04_r1_2008_01-04_orig_mid--audio_04_r1_2008_wav--1-split_configuration.json, skipping\n",
      "The song midi-unprocessed_01_r1_2006_01-09_orig_mid--audio_01_r1_2006_01_track01_wav-split does already exist for the configuration /home/falaxdb/Repos/minus1/transformer_decoder_training/saved_files/saved_models/transformer_1.4/tests/threshold_01/midi-unprocessed_01_r1_2006_01-09_orig_mid--audio_01_r1_2006_01_track01_wav-split_configuration.json, skipping\n",
      "The song simple_test does already exist for the configuration /home/falaxdb/Repos/minus1/transformer_decoder_training/saved_files/saved_models/transformer_1.4/tests/threshold_01/simple_test_configuration.json, skipping\n"
     ]
    },
    {
     "name": "stderr",
     "output_type": "stream",
     "text": [
      "\n",
      "\n",
      "Songs:   0%|          | 0/3 [00:00<?, ?it/s]\u001B[A\u001B[A\n",
      "\n",
      "                                            \u001B[A\u001B[A"
     ]
    },
    {
     "name": "stdout",
     "output_type": "stream",
     "text": [
      "The song midi-unprocessed_04_r1_2008_01-04_orig_mid--audio_04_r1_2008_wav--1-split does already exist for the configuration /home/falaxdb/Repos/minus1/transformer_decoder_training/saved_files/saved_models/transformer_1.4/tests/threshold_015/midi-unprocessed_04_r1_2008_01-04_orig_mid--audio_04_r1_2008_wav--1-split_configuration.json, skipping\n",
      "The song midi-unprocessed_01_r1_2006_01-09_orig_mid--audio_01_r1_2006_01_track01_wav-split does already exist for the configuration /home/falaxdb/Repos/minus1/transformer_decoder_training/saved_files/saved_models/transformer_1.4/tests/threshold_015/midi-unprocessed_01_r1_2006_01-09_orig_mid--audio_01_r1_2006_01_track01_wav-split_configuration.json, skipping\n",
      "The song simple_test does already exist for the configuration /home/falaxdb/Repos/minus1/transformer_decoder_training/saved_files/saved_models/transformer_1.4/tests/threshold_015/simple_test_configuration.json, skipping\n"
     ]
    },
    {
     "name": "stderr",
     "output_type": "stream",
     "text": [
      "\n",
      "\n",
      "Songs:   0%|          | 0/3 [00:00<?, ?it/s]\u001B[A\u001B[A\n",
      "\n",
      "                                            \u001B[A\u001B[A"
     ]
    },
    {
     "name": "stdout",
     "output_type": "stream",
     "text": [
      "The song midi-unprocessed_04_r1_2008_01-04_orig_mid--audio_04_r1_2008_wav--1-split does already exist for the configuration /home/falaxdb/Repos/minus1/transformer_decoder_training/saved_files/saved_models/transformer_1.4/tests/threshold_02/midi-unprocessed_04_r1_2008_01-04_orig_mid--audio_04_r1_2008_wav--1-split_configuration.json, skipping\n",
      "The song midi-unprocessed_01_r1_2006_01-09_orig_mid--audio_01_r1_2006_01_track01_wav-split does already exist for the configuration /home/falaxdb/Repos/minus1/transformer_decoder_training/saved_files/saved_models/transformer_1.4/tests/threshold_02/midi-unprocessed_01_r1_2006_01-09_orig_mid--audio_01_r1_2006_01_track01_wav-split_configuration.json, skipping\n",
      "The song simple_test does already exist for the configuration /home/falaxdb/Repos/minus1/transformer_decoder_training/saved_files/saved_models/transformer_1.4/tests/threshold_02/simple_test_configuration.json, skipping\n"
     ]
    },
    {
     "name": "stderr",
     "output_type": "stream",
     "text": [
      "\n",
      "\n",
      "Songs:   0%|          | 0/3 [00:00<?, ?it/s]\u001B[A\u001B[A\n",
      "\n",
      "                                            \u001B[A\u001B[A"
     ]
    },
    {
     "name": "stdout",
     "output_type": "stream",
     "text": [
      "The song midi-unprocessed_04_r1_2008_01-04_orig_mid--audio_04_r1_2008_wav--1-split does already exist for the configuration /home/falaxdb/Repos/minus1/transformer_decoder_training/saved_files/saved_models/transformer_1.4/tests/threshold_025/midi-unprocessed_04_r1_2008_01-04_orig_mid--audio_04_r1_2008_wav--1-split_configuration.json, skipping\n",
      "The song midi-unprocessed_01_r1_2006_01-09_orig_mid--audio_01_r1_2006_01_track01_wav-split does already exist for the configuration /home/falaxdb/Repos/minus1/transformer_decoder_training/saved_files/saved_models/transformer_1.4/tests/threshold_025/midi-unprocessed_01_r1_2006_01-09_orig_mid--audio_01_r1_2006_01_track01_wav-split_configuration.json, skipping\n",
      "The song simple_test does already exist for the configuration /home/falaxdb/Repos/minus1/transformer_decoder_training/saved_files/saved_models/transformer_1.4/tests/threshold_025/simple_test_configuration.json, skipping\n"
     ]
    },
    {
     "name": "stderr",
     "output_type": "stream",
     "text": [
      "\n",
      "\n",
      "Songs:   0%|          | 0/3 [00:00<?, ?it/s]\u001B[A\u001B[A\n",
      "\n",
      "                                            \u001B[A\u001B[A"
     ]
    },
    {
     "name": "stdout",
     "output_type": "stream",
     "text": [
      "The song midi-unprocessed_04_r1_2008_01-04_orig_mid--audio_04_r1_2008_wav--1-split does already exist for the configuration /home/falaxdb/Repos/minus1/transformer_decoder_training/saved_files/saved_models/transformer_1.4/tests/threshold_05/midi-unprocessed_04_r1_2008_01-04_orig_mid--audio_04_r1_2008_wav--1-split_configuration.json, skipping\n",
      "The song midi-unprocessed_01_r1_2006_01-09_orig_mid--audio_01_r1_2006_01_track01_wav-split does already exist for the configuration /home/falaxdb/Repos/minus1/transformer_decoder_training/saved_files/saved_models/transformer_1.4/tests/threshold_05/midi-unprocessed_01_r1_2006_01-09_orig_mid--audio_01_r1_2006_01_track01_wav-split_configuration.json, skipping\n",
      "The song simple_test does already exist for the configuration /home/falaxdb/Repos/minus1/transformer_decoder_training/saved_files/saved_models/transformer_1.4/tests/threshold_05/simple_test_configuration.json, skipping\n"
     ]
    },
    {
     "name": "stderr",
     "output_type": "stream",
     "text": [
      "\n",
      "\n",
      "Songs:   0%|          | 0/3 [00:00<?, ?it/s]\u001B[A\u001B[A\n",
      "\n",
      "                                            \u001B[A\u001B[A"
     ]
    },
    {
     "name": "stdout",
     "output_type": "stream",
     "text": [
      "The song midi-unprocessed_04_r1_2008_01-04_orig_mid--audio_04_r1_2008_wav--1-split does already exist for the configuration /home/falaxdb/Repos/minus1/transformer_decoder_training/saved_files/saved_models/transformer_1.4/tests/threshold_03/midi-unprocessed_04_r1_2008_01-04_orig_mid--audio_04_r1_2008_wav--1-split_configuration.json, skipping\n",
      "The song midi-unprocessed_01_r1_2006_01-09_orig_mid--audio_01_r1_2006_01_track01_wav-split does already exist for the configuration /home/falaxdb/Repos/minus1/transformer_decoder_training/saved_files/saved_models/transformer_1.4/tests/threshold_03/midi-unprocessed_01_r1_2006_01-09_orig_mid--audio_01_r1_2006_01_track01_wav-split_configuration.json, skipping\n",
      "The song simple_test does already exist for the configuration /home/falaxdb/Repos/minus1/transformer_decoder_training/saved_files/saved_models/transformer_1.4/tests/threshold_03/simple_test_configuration.json, skipping\n"
     ]
    },
    {
     "name": "stderr",
     "output_type": "stream",
     "text": [
      "\n",
      "\n",
      "Songs:   0%|          | 0/3 [00:00<?, ?it/s]\u001B[A\u001B[A\n",
      "\n",
      "                                            \u001B[A\u001B[A\n",
      "Projects:  73%|███████▎  | 11/15 [00:15<00:06,  1.57s/it]    \u001B[A"
     ]
    },
    {
     "name": "stdout",
     "output_type": "stream",
     "text": [
      "The song midi-unprocessed_04_r1_2008_01-04_orig_mid--audio_04_r1_2008_wav--1-split does already exist for the configuration /home/falaxdb/Repos/minus1/transformer_decoder_training/saved_files/saved_models/transformer_1.4/tests/top_k/midi-unprocessed_04_r1_2008_01-04_orig_mid--audio_04_r1_2008_wav--1-split_configuration.json, skipping\n",
      "The song midi-unprocessed_01_r1_2006_01-09_orig_mid--audio_01_r1_2006_01_track01_wav-split does already exist for the configuration /home/falaxdb/Repos/minus1/transformer_decoder_training/saved_files/saved_models/transformer_1.4/tests/top_k/midi-unprocessed_01_r1_2006_01-09_orig_mid--audio_01_r1_2006_01_track01_wav-split_configuration.json, skipping\n",
      "The song simple_test does already exist for the configuration /home/falaxdb/Repos/minus1/transformer_decoder_training/saved_files/saved_models/transformer_1.4/tests/top_k/simple_test_configuration.json, skipping\n",
      "Testing model transformer_1.5\n",
      "At location /home/falaxdb/Repos/minus1/transformer_decoder_training/saved_files/saved_models/transformer_1.5\n",
      "Best epoch is epoch number 5\n"
     ]
    },
    {
     "name": "stderr",
     "output_type": "stream",
     "text": [
      "\n",
      "Testing configurations:   0%|          | 0/8 [00:00<?, ?it/s]\u001B[A\n",
      "\n",
      "Songs:   0%|          | 0/3 [00:00<?, ?it/s]\u001B[A\u001B[A\n",
      "\n",
      "                                            \u001B[A\u001B[A"
     ]
    },
    {
     "name": "stdout",
     "output_type": "stream",
     "text": [
      "The song midi-unprocessed_04_r1_2008_01-04_orig_mid--audio_04_r1_2008_wav--1-split does already exist for the configuration /home/falaxdb/Repos/minus1/transformer_decoder_training/saved_files/saved_models/transformer_1.5/tests/threshold_005/midi-unprocessed_04_r1_2008_01-04_orig_mid--audio_04_r1_2008_wav--1-split_configuration.json, skipping\n",
      "The song midi-unprocessed_01_r1_2006_01-09_orig_mid--audio_01_r1_2006_01_track01_wav-split does already exist for the configuration /home/falaxdb/Repos/minus1/transformer_decoder_training/saved_files/saved_models/transformer_1.5/tests/threshold_005/midi-unprocessed_01_r1_2006_01-09_orig_mid--audio_01_r1_2006_01_track01_wav-split_configuration.json, skipping\n",
      "The song simple_test does already exist for the configuration /home/falaxdb/Repos/minus1/transformer_decoder_training/saved_files/saved_models/transformer_1.5/tests/threshold_005/simple_test_configuration.json, skipping\n"
     ]
    },
    {
     "name": "stderr",
     "output_type": "stream",
     "text": [
      "\n",
      "\n",
      "Songs:   0%|          | 0/3 [00:00<?, ?it/s]\u001B[A\u001B[A\n",
      "\n",
      "                                            \u001B[A\u001B[A"
     ]
    },
    {
     "name": "stdout",
     "output_type": "stream",
     "text": [
      "The song midi-unprocessed_04_r1_2008_01-04_orig_mid--audio_04_r1_2008_wav--1-split does already exist for the configuration /home/falaxdb/Repos/minus1/transformer_decoder_training/saved_files/saved_models/transformer_1.5/tests/threshold_01/midi-unprocessed_04_r1_2008_01-04_orig_mid--audio_04_r1_2008_wav--1-split_configuration.json, skipping\n",
      "The song midi-unprocessed_01_r1_2006_01-09_orig_mid--audio_01_r1_2006_01_track01_wav-split does already exist for the configuration /home/falaxdb/Repos/minus1/transformer_decoder_training/saved_files/saved_models/transformer_1.5/tests/threshold_01/midi-unprocessed_01_r1_2006_01-09_orig_mid--audio_01_r1_2006_01_track01_wav-split_configuration.json, skipping\n",
      "The song simple_test does already exist for the configuration /home/falaxdb/Repos/minus1/transformer_decoder_training/saved_files/saved_models/transformer_1.5/tests/threshold_01/simple_test_configuration.json, skipping\n"
     ]
    },
    {
     "name": "stderr",
     "output_type": "stream",
     "text": [
      "\n",
      "\n",
      "Songs:   0%|          | 0/3 [00:00<?, ?it/s]\u001B[A\u001B[A\n",
      "\n",
      "                                            \u001B[A\u001B[A"
     ]
    },
    {
     "name": "stdout",
     "output_type": "stream",
     "text": [
      "The song midi-unprocessed_04_r1_2008_01-04_orig_mid--audio_04_r1_2008_wav--1-split does already exist for the configuration /home/falaxdb/Repos/minus1/transformer_decoder_training/saved_files/saved_models/transformer_1.5/tests/threshold_015/midi-unprocessed_04_r1_2008_01-04_orig_mid--audio_04_r1_2008_wav--1-split_configuration.json, skipping\n",
      "The song midi-unprocessed_01_r1_2006_01-09_orig_mid--audio_01_r1_2006_01_track01_wav-split does already exist for the configuration /home/falaxdb/Repos/minus1/transformer_decoder_training/saved_files/saved_models/transformer_1.5/tests/threshold_015/midi-unprocessed_01_r1_2006_01-09_orig_mid--audio_01_r1_2006_01_track01_wav-split_configuration.json, skipping\n",
      "The song simple_test does already exist for the configuration /home/falaxdb/Repos/minus1/transformer_decoder_training/saved_files/saved_models/transformer_1.5/tests/threshold_015/simple_test_configuration.json, skipping\n"
     ]
    },
    {
     "name": "stderr",
     "output_type": "stream",
     "text": [
      "\n",
      "\n",
      "Songs:   0%|          | 0/3 [00:00<?, ?it/s]\u001B[A\u001B[A\n",
      "\n",
      "                                            \u001B[A\u001B[A"
     ]
    },
    {
     "name": "stdout",
     "output_type": "stream",
     "text": [
      "The song midi-unprocessed_04_r1_2008_01-04_orig_mid--audio_04_r1_2008_wav--1-split does already exist for the configuration /home/falaxdb/Repos/minus1/transformer_decoder_training/saved_files/saved_models/transformer_1.5/tests/threshold_02/midi-unprocessed_04_r1_2008_01-04_orig_mid--audio_04_r1_2008_wav--1-split_configuration.json, skipping\n",
      "The song midi-unprocessed_01_r1_2006_01-09_orig_mid--audio_01_r1_2006_01_track01_wav-split does already exist for the configuration /home/falaxdb/Repos/minus1/transformer_decoder_training/saved_files/saved_models/transformer_1.5/tests/threshold_02/midi-unprocessed_01_r1_2006_01-09_orig_mid--audio_01_r1_2006_01_track01_wav-split_configuration.json, skipping\n",
      "The song simple_test does already exist for the configuration /home/falaxdb/Repos/minus1/transformer_decoder_training/saved_files/saved_models/transformer_1.5/tests/threshold_02/simple_test_configuration.json, skipping\n"
     ]
    },
    {
     "name": "stderr",
     "output_type": "stream",
     "text": [
      "\n",
      "\n",
      "Songs:   0%|          | 0/3 [00:00<?, ?it/s]\u001B[A\u001B[A\n",
      "\n",
      "                                            \u001B[A\u001B[A"
     ]
    },
    {
     "name": "stdout",
     "output_type": "stream",
     "text": [
      "The song midi-unprocessed_04_r1_2008_01-04_orig_mid--audio_04_r1_2008_wav--1-split does already exist for the configuration /home/falaxdb/Repos/minus1/transformer_decoder_training/saved_files/saved_models/transformer_1.5/tests/threshold_025/midi-unprocessed_04_r1_2008_01-04_orig_mid--audio_04_r1_2008_wav--1-split_configuration.json, skipping\n",
      "The song midi-unprocessed_01_r1_2006_01-09_orig_mid--audio_01_r1_2006_01_track01_wav-split does already exist for the configuration /home/falaxdb/Repos/minus1/transformer_decoder_training/saved_files/saved_models/transformer_1.5/tests/threshold_025/midi-unprocessed_01_r1_2006_01-09_orig_mid--audio_01_r1_2006_01_track01_wav-split_configuration.json, skipping\n",
      "The song simple_test does already exist for the configuration /home/falaxdb/Repos/minus1/transformer_decoder_training/saved_files/saved_models/transformer_1.5/tests/threshold_025/simple_test_configuration.json, skipping\n"
     ]
    },
    {
     "name": "stderr",
     "output_type": "stream",
     "text": [
      "\n",
      "\n",
      "Songs:   0%|          | 0/3 [00:00<?, ?it/s]\u001B[A\u001B[A\n",
      "\n",
      "                                            \u001B[A\u001B[A"
     ]
    },
    {
     "name": "stdout",
     "output_type": "stream",
     "text": [
      "The song midi-unprocessed_04_r1_2008_01-04_orig_mid--audio_04_r1_2008_wav--1-split does already exist for the configuration /home/falaxdb/Repos/minus1/transformer_decoder_training/saved_files/saved_models/transformer_1.5/tests/threshold_05/midi-unprocessed_04_r1_2008_01-04_orig_mid--audio_04_r1_2008_wav--1-split_configuration.json, skipping\n",
      "The song midi-unprocessed_01_r1_2006_01-09_orig_mid--audio_01_r1_2006_01_track01_wav-split does already exist for the configuration /home/falaxdb/Repos/minus1/transformer_decoder_training/saved_files/saved_models/transformer_1.5/tests/threshold_05/midi-unprocessed_01_r1_2006_01-09_orig_mid--audio_01_r1_2006_01_track01_wav-split_configuration.json, skipping\n",
      "The song simple_test does already exist for the configuration /home/falaxdb/Repos/minus1/transformer_decoder_training/saved_files/saved_models/transformer_1.5/tests/threshold_05/simple_test_configuration.json, skipping\n"
     ]
    },
    {
     "name": "stderr",
     "output_type": "stream",
     "text": [
      "\n",
      "\n",
      "Songs:   0%|          | 0/3 [00:00<?, ?it/s]\u001B[A\u001B[A\n",
      "\n",
      "                                            \u001B[A\u001B[A"
     ]
    },
    {
     "name": "stdout",
     "output_type": "stream",
     "text": [
      "The song midi-unprocessed_04_r1_2008_01-04_orig_mid--audio_04_r1_2008_wav--1-split does already exist for the configuration /home/falaxdb/Repos/minus1/transformer_decoder_training/saved_files/saved_models/transformer_1.5/tests/threshold_03/midi-unprocessed_04_r1_2008_01-04_orig_mid--audio_04_r1_2008_wav--1-split_configuration.json, skipping\n",
      "The song midi-unprocessed_01_r1_2006_01-09_orig_mid--audio_01_r1_2006_01_track01_wav-split does already exist for the configuration /home/falaxdb/Repos/minus1/transformer_decoder_training/saved_files/saved_models/transformer_1.5/tests/threshold_03/midi-unprocessed_01_r1_2006_01-09_orig_mid--audio_01_r1_2006_01_track01_wav-split_configuration.json, skipping\n",
      "The song simple_test does already exist for the configuration /home/falaxdb/Repos/minus1/transformer_decoder_training/saved_files/saved_models/transformer_1.5/tests/threshold_03/simple_test_configuration.json, skipping\n"
     ]
    },
    {
     "name": "stderr",
     "output_type": "stream",
     "text": [
      "\n",
      "\n",
      "Songs:   0%|          | 0/3 [00:00<?, ?it/s]\u001B[A\u001B[A\n",
      "\n",
      "                                            \u001B[A\u001B[A\n",
      "Projects:  80%|████████  | 12/15 [00:17<00:04,  1.60s/it]    \u001B[A"
     ]
    },
    {
     "name": "stdout",
     "output_type": "stream",
     "text": [
      "The song midi-unprocessed_04_r1_2008_01-04_orig_mid--audio_04_r1_2008_wav--1-split does already exist for the configuration /home/falaxdb/Repos/minus1/transformer_decoder_training/saved_files/saved_models/transformer_1.5/tests/top_k/midi-unprocessed_04_r1_2008_01-04_orig_mid--audio_04_r1_2008_wav--1-split_configuration.json, skipping\n",
      "The song midi-unprocessed_01_r1_2006_01-09_orig_mid--audio_01_r1_2006_01_track01_wav-split does already exist for the configuration /home/falaxdb/Repos/minus1/transformer_decoder_training/saved_files/saved_models/transformer_1.5/tests/top_k/midi-unprocessed_01_r1_2006_01-09_orig_mid--audio_01_r1_2006_01_track01_wav-split_configuration.json, skipping\n",
      "The song simple_test does already exist for the configuration /home/falaxdb/Repos/minus1/transformer_decoder_training/saved_files/saved_models/transformer_1.5/tests/top_k/simple_test_configuration.json, skipping\n",
      "Testing model transformer_1.6\n",
      "At location /home/falaxdb/Repos/minus1/transformer_decoder_training/saved_files/saved_models/transformer_1.6\n",
      "Best epoch is epoch number 11\n"
     ]
    },
    {
     "name": "stderr",
     "output_type": "stream",
     "text": [
      "\n",
      "Testing configurations:   0%|          | 0/8 [00:00<?, ?it/s]\u001B[A\n",
      "\n",
      "Songs:   0%|          | 0/3 [00:00<?, ?it/s]\u001B[A\u001B[A\n",
      "\n",
      "                                            \u001B[A\u001B[A"
     ]
    },
    {
     "name": "stdout",
     "output_type": "stream",
     "text": [
      "The song midi-unprocessed_04_r1_2008_01-04_orig_mid--audio_04_r1_2008_wav--1-split does already exist for the configuration /home/falaxdb/Repos/minus1/transformer_decoder_training/saved_files/saved_models/transformer_1.6/tests/threshold_005/midi-unprocessed_04_r1_2008_01-04_orig_mid--audio_04_r1_2008_wav--1-split_configuration.json, skipping\n",
      "The song midi-unprocessed_01_r1_2006_01-09_orig_mid--audio_01_r1_2006_01_track01_wav-split does already exist for the configuration /home/falaxdb/Repos/minus1/transformer_decoder_training/saved_files/saved_models/transformer_1.6/tests/threshold_005/midi-unprocessed_01_r1_2006_01-09_orig_mid--audio_01_r1_2006_01_track01_wav-split_configuration.json, skipping\n",
      "The song simple_test does already exist for the configuration /home/falaxdb/Repos/minus1/transformer_decoder_training/saved_files/saved_models/transformer_1.6/tests/threshold_005/simple_test_configuration.json, skipping\n"
     ]
    },
    {
     "name": "stderr",
     "output_type": "stream",
     "text": [
      "\n",
      "\n",
      "Songs:   0%|          | 0/3 [00:00<?, ?it/s]\u001B[A\u001B[A\n",
      "\n",
      "                                            \u001B[A\u001B[A"
     ]
    },
    {
     "name": "stdout",
     "output_type": "stream",
     "text": [
      "The song midi-unprocessed_04_r1_2008_01-04_orig_mid--audio_04_r1_2008_wav--1-split does already exist for the configuration /home/falaxdb/Repos/minus1/transformer_decoder_training/saved_files/saved_models/transformer_1.6/tests/threshold_01/midi-unprocessed_04_r1_2008_01-04_orig_mid--audio_04_r1_2008_wav--1-split_configuration.json, skipping\n",
      "The song midi-unprocessed_01_r1_2006_01-09_orig_mid--audio_01_r1_2006_01_track01_wav-split does already exist for the configuration /home/falaxdb/Repos/minus1/transformer_decoder_training/saved_files/saved_models/transformer_1.6/tests/threshold_01/midi-unprocessed_01_r1_2006_01-09_orig_mid--audio_01_r1_2006_01_track01_wav-split_configuration.json, skipping\n",
      "The song simple_test does already exist for the configuration /home/falaxdb/Repos/minus1/transformer_decoder_training/saved_files/saved_models/transformer_1.6/tests/threshold_01/simple_test_configuration.json, skipping\n"
     ]
    },
    {
     "name": "stderr",
     "output_type": "stream",
     "text": [
      "\n",
      "\n",
      "Songs:   0%|          | 0/3 [00:00<?, ?it/s]\u001B[A\u001B[A\n",
      "\n",
      "                                            \u001B[A\u001B[A"
     ]
    },
    {
     "name": "stdout",
     "output_type": "stream",
     "text": [
      "The song midi-unprocessed_04_r1_2008_01-04_orig_mid--audio_04_r1_2008_wav--1-split does already exist for the configuration /home/falaxdb/Repos/minus1/transformer_decoder_training/saved_files/saved_models/transformer_1.6/tests/threshold_015/midi-unprocessed_04_r1_2008_01-04_orig_mid--audio_04_r1_2008_wav--1-split_configuration.json, skipping\n",
      "The song midi-unprocessed_01_r1_2006_01-09_orig_mid--audio_01_r1_2006_01_track01_wav-split does already exist for the configuration /home/falaxdb/Repos/minus1/transformer_decoder_training/saved_files/saved_models/transformer_1.6/tests/threshold_015/midi-unprocessed_01_r1_2006_01-09_orig_mid--audio_01_r1_2006_01_track01_wav-split_configuration.json, skipping\n",
      "The song simple_test does already exist for the configuration /home/falaxdb/Repos/minus1/transformer_decoder_training/saved_files/saved_models/transformer_1.6/tests/threshold_015/simple_test_configuration.json, skipping\n"
     ]
    },
    {
     "name": "stderr",
     "output_type": "stream",
     "text": [
      "\n",
      "\n",
      "Songs:   0%|          | 0/3 [00:00<?, ?it/s]\u001B[A\u001B[A\n",
      "\n",
      "                                            \u001B[A\u001B[A"
     ]
    },
    {
     "name": "stdout",
     "output_type": "stream",
     "text": [
      "The song midi-unprocessed_04_r1_2008_01-04_orig_mid--audio_04_r1_2008_wav--1-split does already exist for the configuration /home/falaxdb/Repos/minus1/transformer_decoder_training/saved_files/saved_models/transformer_1.6/tests/threshold_02/midi-unprocessed_04_r1_2008_01-04_orig_mid--audio_04_r1_2008_wav--1-split_configuration.json, skipping\n",
      "The song midi-unprocessed_01_r1_2006_01-09_orig_mid--audio_01_r1_2006_01_track01_wav-split does already exist for the configuration /home/falaxdb/Repos/minus1/transformer_decoder_training/saved_files/saved_models/transformer_1.6/tests/threshold_02/midi-unprocessed_01_r1_2006_01-09_orig_mid--audio_01_r1_2006_01_track01_wav-split_configuration.json, skipping\n",
      "The song simple_test does already exist for the configuration /home/falaxdb/Repos/minus1/transformer_decoder_training/saved_files/saved_models/transformer_1.6/tests/threshold_02/simple_test_configuration.json, skipping\n"
     ]
    },
    {
     "name": "stderr",
     "output_type": "stream",
     "text": [
      "\n",
      "\n",
      "Songs:   0%|          | 0/3 [00:00<?, ?it/s]\u001B[A\u001B[A\n",
      "\n",
      "                                            \u001B[A\u001B[A"
     ]
    },
    {
     "name": "stdout",
     "output_type": "stream",
     "text": [
      "The song midi-unprocessed_04_r1_2008_01-04_orig_mid--audio_04_r1_2008_wav--1-split does already exist for the configuration /home/falaxdb/Repos/minus1/transformer_decoder_training/saved_files/saved_models/transformer_1.6/tests/threshold_025/midi-unprocessed_04_r1_2008_01-04_orig_mid--audio_04_r1_2008_wav--1-split_configuration.json, skipping\n",
      "The song midi-unprocessed_01_r1_2006_01-09_orig_mid--audio_01_r1_2006_01_track01_wav-split does already exist for the configuration /home/falaxdb/Repos/minus1/transformer_decoder_training/saved_files/saved_models/transformer_1.6/tests/threshold_025/midi-unprocessed_01_r1_2006_01-09_orig_mid--audio_01_r1_2006_01_track01_wav-split_configuration.json, skipping\n",
      "The song simple_test does already exist for the configuration /home/falaxdb/Repos/minus1/transformer_decoder_training/saved_files/saved_models/transformer_1.6/tests/threshold_025/simple_test_configuration.json, skipping\n"
     ]
    },
    {
     "name": "stderr",
     "output_type": "stream",
     "text": [
      "\n",
      "\n",
      "Songs:   0%|          | 0/3 [00:00<?, ?it/s]\u001B[A\u001B[A\n",
      "\n",
      "                                            \u001B[A\u001B[A"
     ]
    },
    {
     "name": "stdout",
     "output_type": "stream",
     "text": [
      "The song midi-unprocessed_04_r1_2008_01-04_orig_mid--audio_04_r1_2008_wav--1-split does already exist for the configuration /home/falaxdb/Repos/minus1/transformer_decoder_training/saved_files/saved_models/transformer_1.6/tests/threshold_05/midi-unprocessed_04_r1_2008_01-04_orig_mid--audio_04_r1_2008_wav--1-split_configuration.json, skipping\n",
      "The song midi-unprocessed_01_r1_2006_01-09_orig_mid--audio_01_r1_2006_01_track01_wav-split does already exist for the configuration /home/falaxdb/Repos/minus1/transformer_decoder_training/saved_files/saved_models/transformer_1.6/tests/threshold_05/midi-unprocessed_01_r1_2006_01-09_orig_mid--audio_01_r1_2006_01_track01_wav-split_configuration.json, skipping\n",
      "The song simple_test does already exist for the configuration /home/falaxdb/Repos/minus1/transformer_decoder_training/saved_files/saved_models/transformer_1.6/tests/threshold_05/simple_test_configuration.json, skipping\n"
     ]
    },
    {
     "name": "stderr",
     "output_type": "stream",
     "text": [
      "\n",
      "\n",
      "Songs:   0%|          | 0/3 [00:00<?, ?it/s]\u001B[A\u001B[A\n",
      "\n",
      "                                            \u001B[A\u001B[A"
     ]
    },
    {
     "name": "stdout",
     "output_type": "stream",
     "text": [
      "The song midi-unprocessed_04_r1_2008_01-04_orig_mid--audio_04_r1_2008_wav--1-split does already exist for the configuration /home/falaxdb/Repos/minus1/transformer_decoder_training/saved_files/saved_models/transformer_1.6/tests/threshold_03/midi-unprocessed_04_r1_2008_01-04_orig_mid--audio_04_r1_2008_wav--1-split_configuration.json, skipping\n",
      "The song midi-unprocessed_01_r1_2006_01-09_orig_mid--audio_01_r1_2006_01_track01_wav-split does already exist for the configuration /home/falaxdb/Repos/minus1/transformer_decoder_training/saved_files/saved_models/transformer_1.6/tests/threshold_03/midi-unprocessed_01_r1_2006_01-09_orig_mid--audio_01_r1_2006_01_track01_wav-split_configuration.json, skipping\n",
      "The song simple_test does already exist for the configuration /home/falaxdb/Repos/minus1/transformer_decoder_training/saved_files/saved_models/transformer_1.6/tests/threshold_03/simple_test_configuration.json, skipping\n"
     ]
    },
    {
     "name": "stderr",
     "output_type": "stream",
     "text": [
      "\n",
      "\n",
      "Songs:   0%|          | 0/3 [00:00<?, ?it/s]\u001B[A\u001B[A\n",
      "\n",
      "                                            \u001B[A\u001B[A\n",
      "Projects:  87%|████████▋ | 13/15 [00:20<00:04,  2.03s/it]    \u001B[A"
     ]
    },
    {
     "name": "stdout",
     "output_type": "stream",
     "text": [
      "The song midi-unprocessed_04_r1_2008_01-04_orig_mid--audio_04_r1_2008_wav--1-split does already exist for the configuration /home/falaxdb/Repos/minus1/transformer_decoder_training/saved_files/saved_models/transformer_1.6/tests/top_k/midi-unprocessed_04_r1_2008_01-04_orig_mid--audio_04_r1_2008_wav--1-split_configuration.json, skipping\n",
      "The song midi-unprocessed_01_r1_2006_01-09_orig_mid--audio_01_r1_2006_01_track01_wav-split does already exist for the configuration /home/falaxdb/Repos/minus1/transformer_decoder_training/saved_files/saved_models/transformer_1.6/tests/top_k/midi-unprocessed_01_r1_2006_01-09_orig_mid--audio_01_r1_2006_01_track01_wav-split_configuration.json, skipping\n",
      "The song simple_test does already exist for the configuration /home/falaxdb/Repos/minus1/transformer_decoder_training/saved_files/saved_models/transformer_1.6/tests/top_k/simple_test_configuration.json, skipping\n",
      "Testing model transformer_1.7\n",
      "At location /home/falaxdb/Repos/minus1/transformer_decoder_training/saved_files/saved_models/transformer_1.7\n",
      "Best epoch is epoch number 84\n"
     ]
    },
    {
     "name": "stderr",
     "output_type": "stream",
     "text": [
      "\n",
      "Testing configurations:   0%|          | 0/8 [00:00<?, ?it/s]\u001B[A\n",
      "\n",
      "Songs:   0%|          | 0/3 [00:00<?, ?it/s]\u001B[A\u001B[A\n",
      "\n",
      "                                            \u001B[A\u001B[A"
     ]
    },
    {
     "name": "stdout",
     "output_type": "stream",
     "text": [
      "The song midi-unprocessed_04_r1_2008_01-04_orig_mid--audio_04_r1_2008_wav--1-split does already exist for the configuration /home/falaxdb/Repos/minus1/transformer_decoder_training/saved_files/saved_models/transformer_1.7/tests/threshold_005/midi-unprocessed_04_r1_2008_01-04_orig_mid--audio_04_r1_2008_wav--1-split_configuration.json, skipping\n",
      "The song midi-unprocessed_01_r1_2006_01-09_orig_mid--audio_01_r1_2006_01_track01_wav-split does already exist for the configuration /home/falaxdb/Repos/minus1/transformer_decoder_training/saved_files/saved_models/transformer_1.7/tests/threshold_005/midi-unprocessed_01_r1_2006_01-09_orig_mid--audio_01_r1_2006_01_track01_wav-split_configuration.json, skipping\n",
      "The song simple_test does already exist for the configuration /home/falaxdb/Repos/minus1/transformer_decoder_training/saved_files/saved_models/transformer_1.7/tests/threshold_005/simple_test_configuration.json, skipping\n"
     ]
    },
    {
     "name": "stderr",
     "output_type": "stream",
     "text": [
      "\n",
      "\n",
      "Songs:   0%|          | 0/3 [00:00<?, ?it/s]\u001B[A\u001B[A\n",
      "\n",
      "                                            \u001B[A\u001B[A"
     ]
    },
    {
     "name": "stdout",
     "output_type": "stream",
     "text": [
      "The song midi-unprocessed_04_r1_2008_01-04_orig_mid--audio_04_r1_2008_wav--1-split does already exist for the configuration /home/falaxdb/Repos/minus1/transformer_decoder_training/saved_files/saved_models/transformer_1.7/tests/threshold_01/midi-unprocessed_04_r1_2008_01-04_orig_mid--audio_04_r1_2008_wav--1-split_configuration.json, skipping\n",
      "The song midi-unprocessed_01_r1_2006_01-09_orig_mid--audio_01_r1_2006_01_track01_wav-split does already exist for the configuration /home/falaxdb/Repos/minus1/transformer_decoder_training/saved_files/saved_models/transformer_1.7/tests/threshold_01/midi-unprocessed_01_r1_2006_01-09_orig_mid--audio_01_r1_2006_01_track01_wav-split_configuration.json, skipping\n",
      "The song simple_test does already exist for the configuration /home/falaxdb/Repos/minus1/transformer_decoder_training/saved_files/saved_models/transformer_1.7/tests/threshold_01/simple_test_configuration.json, skipping\n"
     ]
    },
    {
     "name": "stderr",
     "output_type": "stream",
     "text": [
      "\n",
      "\n",
      "Songs:   0%|          | 0/3 [00:00<?, ?it/s]\u001B[A\u001B[A\n",
      "\n",
      "                                            \u001B[A\u001B[A"
     ]
    },
    {
     "name": "stdout",
     "output_type": "stream",
     "text": [
      "The song midi-unprocessed_04_r1_2008_01-04_orig_mid--audio_04_r1_2008_wav--1-split does already exist for the configuration /home/falaxdb/Repos/minus1/transformer_decoder_training/saved_files/saved_models/transformer_1.7/tests/threshold_015/midi-unprocessed_04_r1_2008_01-04_orig_mid--audio_04_r1_2008_wav--1-split_configuration.json, skipping\n",
      "The song midi-unprocessed_01_r1_2006_01-09_orig_mid--audio_01_r1_2006_01_track01_wav-split does already exist for the configuration /home/falaxdb/Repos/minus1/transformer_decoder_training/saved_files/saved_models/transformer_1.7/tests/threshold_015/midi-unprocessed_01_r1_2006_01-09_orig_mid--audio_01_r1_2006_01_track01_wav-split_configuration.json, skipping\n",
      "The song simple_test does already exist for the configuration /home/falaxdb/Repos/minus1/transformer_decoder_training/saved_files/saved_models/transformer_1.7/tests/threshold_015/simple_test_configuration.json, skipping\n"
     ]
    },
    {
     "name": "stderr",
     "output_type": "stream",
     "text": [
      "\n",
      "\n",
      "Songs:   0%|          | 0/3 [00:00<?, ?it/s]\u001B[A\u001B[A\n",
      "\n",
      "                                            \u001B[A\u001B[A"
     ]
    },
    {
     "name": "stdout",
     "output_type": "stream",
     "text": [
      "The song midi-unprocessed_04_r1_2008_01-04_orig_mid--audio_04_r1_2008_wav--1-split does already exist for the configuration /home/falaxdb/Repos/minus1/transformer_decoder_training/saved_files/saved_models/transformer_1.7/tests/threshold_02/midi-unprocessed_04_r1_2008_01-04_orig_mid--audio_04_r1_2008_wav--1-split_configuration.json, skipping\n",
      "The song midi-unprocessed_01_r1_2006_01-09_orig_mid--audio_01_r1_2006_01_track01_wav-split does already exist for the configuration /home/falaxdb/Repos/minus1/transformer_decoder_training/saved_files/saved_models/transformer_1.7/tests/threshold_02/midi-unprocessed_01_r1_2006_01-09_orig_mid--audio_01_r1_2006_01_track01_wav-split_configuration.json, skipping\n",
      "The song simple_test does already exist for the configuration /home/falaxdb/Repos/minus1/transformer_decoder_training/saved_files/saved_models/transformer_1.7/tests/threshold_02/simple_test_configuration.json, skipping\n"
     ]
    },
    {
     "name": "stderr",
     "output_type": "stream",
     "text": [
      "\n",
      "\n",
      "Songs:   0%|          | 0/3 [00:00<?, ?it/s]\u001B[A\u001B[A\n",
      "\n",
      "                                            \u001B[A\u001B[A"
     ]
    },
    {
     "name": "stdout",
     "output_type": "stream",
     "text": [
      "The song midi-unprocessed_04_r1_2008_01-04_orig_mid--audio_04_r1_2008_wav--1-split does already exist for the configuration /home/falaxdb/Repos/minus1/transformer_decoder_training/saved_files/saved_models/transformer_1.7/tests/threshold_025/midi-unprocessed_04_r1_2008_01-04_orig_mid--audio_04_r1_2008_wav--1-split_configuration.json, skipping\n",
      "The song midi-unprocessed_01_r1_2006_01-09_orig_mid--audio_01_r1_2006_01_track01_wav-split does already exist for the configuration /home/falaxdb/Repos/minus1/transformer_decoder_training/saved_files/saved_models/transformer_1.7/tests/threshold_025/midi-unprocessed_01_r1_2006_01-09_orig_mid--audio_01_r1_2006_01_track01_wav-split_configuration.json, skipping\n",
      "The song simple_test does already exist for the configuration /home/falaxdb/Repos/minus1/transformer_decoder_training/saved_files/saved_models/transformer_1.7/tests/threshold_025/simple_test_configuration.json, skipping\n"
     ]
    },
    {
     "name": "stderr",
     "output_type": "stream",
     "text": [
      "\n",
      "\n",
      "Songs:   0%|          | 0/3 [00:00<?, ?it/s]\u001B[A\u001B[A\n",
      "\n",
      "                                            \u001B[A\u001B[A"
     ]
    },
    {
     "name": "stdout",
     "output_type": "stream",
     "text": [
      "The song midi-unprocessed_04_r1_2008_01-04_orig_mid--audio_04_r1_2008_wav--1-split does already exist for the configuration /home/falaxdb/Repos/minus1/transformer_decoder_training/saved_files/saved_models/transformer_1.7/tests/threshold_05/midi-unprocessed_04_r1_2008_01-04_orig_mid--audio_04_r1_2008_wav--1-split_configuration.json, skipping\n",
      "The song midi-unprocessed_01_r1_2006_01-09_orig_mid--audio_01_r1_2006_01_track01_wav-split does already exist for the configuration /home/falaxdb/Repos/minus1/transformer_decoder_training/saved_files/saved_models/transformer_1.7/tests/threshold_05/midi-unprocessed_01_r1_2006_01-09_orig_mid--audio_01_r1_2006_01_track01_wav-split_configuration.json, skipping\n",
      "The song simple_test does already exist for the configuration /home/falaxdb/Repos/minus1/transformer_decoder_training/saved_files/saved_models/transformer_1.7/tests/threshold_05/simple_test_configuration.json, skipping\n"
     ]
    },
    {
     "name": "stderr",
     "output_type": "stream",
     "text": [
      "\n",
      "\n",
      "Songs:   0%|          | 0/3 [00:00<?, ?it/s]\u001B[A\u001B[A\n",
      "\n",
      "                                            \u001B[A\u001B[A"
     ]
    },
    {
     "name": "stdout",
     "output_type": "stream",
     "text": [
      "The song midi-unprocessed_04_r1_2008_01-04_orig_mid--audio_04_r1_2008_wav--1-split does already exist for the configuration /home/falaxdb/Repos/minus1/transformer_decoder_training/saved_files/saved_models/transformer_1.7/tests/threshold_03/midi-unprocessed_04_r1_2008_01-04_orig_mid--audio_04_r1_2008_wav--1-split_configuration.json, skipping\n",
      "The song midi-unprocessed_01_r1_2006_01-09_orig_mid--audio_01_r1_2006_01_track01_wav-split does already exist for the configuration /home/falaxdb/Repos/minus1/transformer_decoder_training/saved_files/saved_models/transformer_1.7/tests/threshold_03/midi-unprocessed_01_r1_2006_01-09_orig_mid--audio_01_r1_2006_01_track01_wav-split_configuration.json, skipping\n",
      "The song simple_test does already exist for the configuration /home/falaxdb/Repos/minus1/transformer_decoder_training/saved_files/saved_models/transformer_1.7/tests/threshold_03/simple_test_configuration.json, skipping\n"
     ]
    },
    {
     "name": "stderr",
     "output_type": "stream",
     "text": [
      "\n",
      "\n",
      "Songs:   0%|          | 0/3 [00:00<?, ?it/s]\u001B[A\u001B[A\n",
      "\n",
      "                                            \u001B[A\u001B[A\n",
      "Projects:  93%|█████████▎| 14/15 [00:21<00:01,  1.77s/it]    \u001B[A"
     ]
    },
    {
     "name": "stdout",
     "output_type": "stream",
     "text": [
      "The song midi-unprocessed_04_r1_2008_01-04_orig_mid--audio_04_r1_2008_wav--1-split does already exist for the configuration /home/falaxdb/Repos/minus1/transformer_decoder_training/saved_files/saved_models/transformer_1.7/tests/top_k/midi-unprocessed_04_r1_2008_01-04_orig_mid--audio_04_r1_2008_wav--1-split_configuration.json, skipping\n",
      "The song midi-unprocessed_01_r1_2006_01-09_orig_mid--audio_01_r1_2006_01_track01_wav-split does already exist for the configuration /home/falaxdb/Repos/minus1/transformer_decoder_training/saved_files/saved_models/transformer_1.7/tests/top_k/midi-unprocessed_01_r1_2006_01-09_orig_mid--audio_01_r1_2006_01_track01_wav-split_configuration.json, skipping\n",
      "The song simple_test does already exist for the configuration /home/falaxdb/Repos/minus1/transformer_decoder_training/saved_files/saved_models/transformer_1.7/tests/top_k/simple_test_configuration.json, skipping\n",
      "Testing model transformer_2.0\n",
      "At location /home/falaxdb/Repos/minus1/transformer_decoder_training/saved_files/saved_models/transformer_2.0\n",
      "Best epoch is epoch number 14\n"
     ]
    },
    {
     "name": "stderr",
     "output_type": "stream",
     "text": [
      "\n",
      "Testing configurations:   0%|          | 0/8 [00:00<?, ?it/s]\u001B[A\n",
      "\n",
      "Songs:   0%|          | 0/3 [00:00<?, ?it/s]\u001B[A\u001B[A\n",
      "\n",
      "                                            \u001B[A\u001B[A"
     ]
    },
    {
     "name": "stdout",
     "output_type": "stream",
     "text": [
      "The song midi-unprocessed_04_r1_2008_01-04_orig_mid--audio_04_r1_2008_wav--1-split does already exist for the configuration /home/falaxdb/Repos/minus1/transformer_decoder_training/saved_files/saved_models/transformer_2.0/tests/threshold_005/midi-unprocessed_04_r1_2008_01-04_orig_mid--audio_04_r1_2008_wav--1-split_configuration.json, skipping\n",
      "The song midi-unprocessed_01_r1_2006_01-09_orig_mid--audio_01_r1_2006_01_track01_wav-split does already exist for the configuration /home/falaxdb/Repos/minus1/transformer_decoder_training/saved_files/saved_models/transformer_2.0/tests/threshold_005/midi-unprocessed_01_r1_2006_01-09_orig_mid--audio_01_r1_2006_01_track01_wav-split_configuration.json, skipping\n",
      "The song simple_test does already exist for the configuration /home/falaxdb/Repos/minus1/transformer_decoder_training/saved_files/saved_models/transformer_2.0/tests/threshold_005/simple_test_configuration.json, skipping\n"
     ]
    },
    {
     "name": "stderr",
     "output_type": "stream",
     "text": [
      "\n",
      "\n",
      "Songs:   0%|          | 0/3 [00:00<?, ?it/s]\u001B[A\u001B[A\n",
      "\n",
      "                                            \u001B[A\u001B[A"
     ]
    },
    {
     "name": "stdout",
     "output_type": "stream",
     "text": [
      "The song midi-unprocessed_04_r1_2008_01-04_orig_mid--audio_04_r1_2008_wav--1-split does already exist for the configuration /home/falaxdb/Repos/minus1/transformer_decoder_training/saved_files/saved_models/transformer_2.0/tests/threshold_01/midi-unprocessed_04_r1_2008_01-04_orig_mid--audio_04_r1_2008_wav--1-split_configuration.json, skipping\n",
      "The song midi-unprocessed_01_r1_2006_01-09_orig_mid--audio_01_r1_2006_01_track01_wav-split does already exist for the configuration /home/falaxdb/Repos/minus1/transformer_decoder_training/saved_files/saved_models/transformer_2.0/tests/threshold_01/midi-unprocessed_01_r1_2006_01-09_orig_mid--audio_01_r1_2006_01_track01_wav-split_configuration.json, skipping\n",
      "The song simple_test does already exist for the configuration /home/falaxdb/Repos/minus1/transformer_decoder_training/saved_files/saved_models/transformer_2.0/tests/threshold_01/simple_test_configuration.json, skipping\n"
     ]
    },
    {
     "name": "stderr",
     "output_type": "stream",
     "text": [
      "\n",
      "\n",
      "Songs:   0%|          | 0/3 [00:00<?, ?it/s]\u001B[A\u001B[A\n",
      "\n",
      "                                            \u001B[A\u001B[A"
     ]
    },
    {
     "name": "stdout",
     "output_type": "stream",
     "text": [
      "The song midi-unprocessed_04_r1_2008_01-04_orig_mid--audio_04_r1_2008_wav--1-split does already exist for the configuration /home/falaxdb/Repos/minus1/transformer_decoder_training/saved_files/saved_models/transformer_2.0/tests/threshold_015/midi-unprocessed_04_r1_2008_01-04_orig_mid--audio_04_r1_2008_wav--1-split_configuration.json, skipping\n",
      "The song midi-unprocessed_01_r1_2006_01-09_orig_mid--audio_01_r1_2006_01_track01_wav-split does already exist for the configuration /home/falaxdb/Repos/minus1/transformer_decoder_training/saved_files/saved_models/transformer_2.0/tests/threshold_015/midi-unprocessed_01_r1_2006_01-09_orig_mid--audio_01_r1_2006_01_track01_wav-split_configuration.json, skipping\n",
      "The song simple_test does already exist for the configuration /home/falaxdb/Repos/minus1/transformer_decoder_training/saved_files/saved_models/transformer_2.0/tests/threshold_015/simple_test_configuration.json, skipping\n"
     ]
    },
    {
     "name": "stderr",
     "output_type": "stream",
     "text": [
      "\n",
      "\n",
      "Songs:   0%|          | 0/3 [00:00<?, ?it/s]\u001B[A\u001B[A\n",
      "\n",
      "                                            \u001B[A\u001B[A"
     ]
    },
    {
     "name": "stdout",
     "output_type": "stream",
     "text": [
      "The song midi-unprocessed_04_r1_2008_01-04_orig_mid--audio_04_r1_2008_wav--1-split does already exist for the configuration /home/falaxdb/Repos/minus1/transformer_decoder_training/saved_files/saved_models/transformer_2.0/tests/threshold_02/midi-unprocessed_04_r1_2008_01-04_orig_mid--audio_04_r1_2008_wav--1-split_configuration.json, skipping\n",
      "The song midi-unprocessed_01_r1_2006_01-09_orig_mid--audio_01_r1_2006_01_track01_wav-split does already exist for the configuration /home/falaxdb/Repos/minus1/transformer_decoder_training/saved_files/saved_models/transformer_2.0/tests/threshold_02/midi-unprocessed_01_r1_2006_01-09_orig_mid--audio_01_r1_2006_01_track01_wav-split_configuration.json, skipping\n",
      "The song simple_test does already exist for the configuration /home/falaxdb/Repos/minus1/transformer_decoder_training/saved_files/saved_models/transformer_2.0/tests/threshold_02/simple_test_configuration.json, skipping\n"
     ]
    },
    {
     "name": "stderr",
     "output_type": "stream",
     "text": [
      "\n",
      "\n",
      "Songs:   0%|          | 0/3 [00:00<?, ?it/s]\u001B[A\u001B[A\n",
      "\n",
      "                                            \u001B[A\u001B[A"
     ]
    },
    {
     "name": "stdout",
     "output_type": "stream",
     "text": [
      "The song midi-unprocessed_04_r1_2008_01-04_orig_mid--audio_04_r1_2008_wav--1-split does already exist for the configuration /home/falaxdb/Repos/minus1/transformer_decoder_training/saved_files/saved_models/transformer_2.0/tests/threshold_025/midi-unprocessed_04_r1_2008_01-04_orig_mid--audio_04_r1_2008_wav--1-split_configuration.json, skipping\n",
      "The song midi-unprocessed_01_r1_2006_01-09_orig_mid--audio_01_r1_2006_01_track01_wav-split does already exist for the configuration /home/falaxdb/Repos/minus1/transformer_decoder_training/saved_files/saved_models/transformer_2.0/tests/threshold_025/midi-unprocessed_01_r1_2006_01-09_orig_mid--audio_01_r1_2006_01_track01_wav-split_configuration.json, skipping\n",
      "The song simple_test does already exist for the configuration /home/falaxdb/Repos/minus1/transformer_decoder_training/saved_files/saved_models/transformer_2.0/tests/threshold_025/simple_test_configuration.json, skipping\n"
     ]
    },
    {
     "name": "stderr",
     "output_type": "stream",
     "text": [
      "\n",
      "\n",
      "Songs:   0%|          | 0/3 [00:00<?, ?it/s]\u001B[A\u001B[A\n",
      "\n",
      "                                            \u001B[A\u001B[A"
     ]
    },
    {
     "name": "stdout",
     "output_type": "stream",
     "text": [
      "The song midi-unprocessed_04_r1_2008_01-04_orig_mid--audio_04_r1_2008_wav--1-split does already exist for the configuration /home/falaxdb/Repos/minus1/transformer_decoder_training/saved_files/saved_models/transformer_2.0/tests/threshold_05/midi-unprocessed_04_r1_2008_01-04_orig_mid--audio_04_r1_2008_wav--1-split_configuration.json, skipping\n",
      "The song midi-unprocessed_01_r1_2006_01-09_orig_mid--audio_01_r1_2006_01_track01_wav-split does already exist for the configuration /home/falaxdb/Repos/minus1/transformer_decoder_training/saved_files/saved_models/transformer_2.0/tests/threshold_05/midi-unprocessed_01_r1_2006_01-09_orig_mid--audio_01_r1_2006_01_track01_wav-split_configuration.json, skipping\n",
      "The song simple_test does already exist for the configuration /home/falaxdb/Repos/minus1/transformer_decoder_training/saved_files/saved_models/transformer_2.0/tests/threshold_05/simple_test_configuration.json, skipping\n"
     ]
    },
    {
     "name": "stderr",
     "output_type": "stream",
     "text": [
      "\n",
      "\n",
      "Songs:   0%|          | 0/3 [00:00<?, ?it/s]\u001B[A\u001B[A\n",
      "\n",
      "                                            \u001B[A\u001B[A"
     ]
    },
    {
     "name": "stdout",
     "output_type": "stream",
     "text": [
      "The song midi-unprocessed_04_r1_2008_01-04_orig_mid--audio_04_r1_2008_wav--1-split does already exist for the configuration /home/falaxdb/Repos/minus1/transformer_decoder_training/saved_files/saved_models/transformer_2.0/tests/threshold_03/midi-unprocessed_04_r1_2008_01-04_orig_mid--audio_04_r1_2008_wav--1-split_configuration.json, skipping\n",
      "The song midi-unprocessed_01_r1_2006_01-09_orig_mid--audio_01_r1_2006_01_track01_wav-split does already exist for the configuration /home/falaxdb/Repos/minus1/transformer_decoder_training/saved_files/saved_models/transformer_2.0/tests/threshold_03/midi-unprocessed_01_r1_2006_01-09_orig_mid--audio_01_r1_2006_01_track01_wav-split_configuration.json, skipping\n",
      "The song simple_test does already exist for the configuration /home/falaxdb/Repos/minus1/transformer_decoder_training/saved_files/saved_models/transformer_2.0/tests/threshold_03/simple_test_configuration.json, skipping\n"
     ]
    },
    {
     "name": "stderr",
     "output_type": "stream",
     "text": [
      "\n",
      "\n",
      "Songs:   0%|          | 0/3 [00:00<?, ?it/s]\u001B[A\u001B[A\n",
      "\n",
      "                                            \u001B[A\u001B[A\n",
      "                                                             \u001B[A"
     ]
    },
    {
     "name": "stdout",
     "output_type": "stream",
     "text": [
      "The song midi-unprocessed_04_r1_2008_01-04_orig_mid--audio_04_r1_2008_wav--1-split does already exist for the configuration /home/falaxdb/Repos/minus1/transformer_decoder_training/saved_files/saved_models/transformer_2.0/tests/top_k/midi-unprocessed_04_r1_2008_01-04_orig_mid--audio_04_r1_2008_wav--1-split_configuration.json, skipping\n",
      "The song midi-unprocessed_01_r1_2006_01-09_orig_mid--audio_01_r1_2006_01_track01_wav-split does already exist for the configuration /home/falaxdb/Repos/minus1/transformer_decoder_training/saved_files/saved_models/transformer_2.0/tests/top_k/midi-unprocessed_01_r1_2006_01-09_orig_mid--audio_01_r1_2006_01_track01_wav-split_configuration.json, skipping\n",
      "The song simple_test does already exist for the configuration /home/falaxdb/Repos/minus1/transformer_decoder_training/saved_files/saved_models/transformer_2.0/tests/top_k/simple_test_configuration.json, skipping\n"
     ]
    },
    {
     "name": "stderr",
     "output_type": "stream",
     "text": [
      "\r"
     ]
    }
   ],
   "execution_count": 6
  }
 ],
 "metadata": {
  "kernelspec": {
   "display_name": "Python 3",
   "language": "python",
   "name": "python3"
  },
  "language_info": {
   "codemirror_mode": {
    "name": "ipython",
    "version": 2
   },
   "file_extension": ".py",
   "mimetype": "text/x-python",
   "name": "python",
   "nbconvert_exporter": "python",
   "pygments_lexer": "ipython2",
   "version": "2.7.6"
  }
 },
 "nbformat": 4,
 "nbformat_minor": 5
}
