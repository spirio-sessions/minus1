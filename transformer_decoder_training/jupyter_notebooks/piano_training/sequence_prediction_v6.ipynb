{
 "cells": [
  {
   "metadata": {},
   "cell_type": "markdown",
   "source": [
    "# now with new dataset preparation\n",
    "\n",
    "I now want to do correct sequence prediction and not just Right hand to left hand\n",
    "\n",
    "## for training\n",
    "\n",
    "I just use one Sequence with sos token as input and the same sequence shifted 1 to the right as prediction target.\n",
    "\n",
    "For this i use the new dataset"
   ],
   "id": "411f36fa549f937d"
  },
  {
   "metadata": {
    "ExecuteTime": {
     "end_time": "2024-07-11T22:43:19.699941Z",
     "start_time": "2024-07-11T22:43:18.662937Z"
    }
   },
   "cell_type": "code",
   "source": [
    "# imports\n",
    "import torch\n",
    "import torch.nn as nn\n",
    "import torch.optim as optim\n",
    "import torch.nn.functional as F\n",
    "from torch import Tensor\n",
    "\n",
    "import math\n",
    "import numpy as np\n",
    "\n",
    "from tqdm.notebook import trange, tqdm\n",
    "import matplotlib.pyplot as plt\n",
    "import random"
   ],
   "id": "c46b14c4f7c68393",
   "outputs": [],
   "execution_count": 1
  },
  {
   "metadata": {
    "ExecuteTime": {
     "end_time": "2024-07-11T22:43:19.789095Z",
     "start_time": "2024-07-11T22:43:19.700675Z"
    }
   },
   "cell_type": "code",
   "source": [
    "# Check if GPU is available, set device accordingly\n",
    "device = torch.device(\"cuda\" if torch.cuda.is_available() else 'cpu')"
   ],
   "id": "a7798988d4673283",
   "outputs": [],
   "execution_count": 2
  },
  {
   "metadata": {},
   "cell_type": "markdown",
   "source": "# Load Data",
   "id": "42c602882b26f0bb"
  },
  {
   "metadata": {
    "ExecuteTime": {
     "end_time": "2024-07-11T22:44:10.093415Z",
     "start_time": "2024-07-11T22:43:19.789685Z"
    }
   },
   "cell_type": "code",
   "source": [
    "from data_preperation import dataset_snapshot\n",
    "from transformer_decoder_training.dataprep_transformer import dataprep_1\n",
    "from sklearn.model_selection import train_test_split\n",
    "\n",
    "#load data\n",
    "dataset_as_snapshots = dataset_snapshot.process_dataset_multithreaded(\"/home/falaxdb/Repos/minus1/datasets/maestro_v3_split/hands_split_into_seperate_midis\", 0.05)\n",
    "# filter snapshots to 88 piano notes\n",
    "dataset_as_snapshots = dataset_snapshot.filter_piano_range(dataset_as_snapshots)\n",
    "\n",
    "dataset_as_snapshots = dataset_snapshot.compress_existing_dataset_to_12keys(dataset_as_snapshots)"
   ],
   "id": "a08e73d4cf433d23",
   "outputs": [
    {
     "name": "stderr",
     "output_type": "stream",
     "text": [
      "Processed dataset (1038/1038): 100%|██████████| 1038/1038 [00:14<00:00, 72.08it/s]\n"
     ]
    },
    {
     "name": "stdout",
     "output_type": "stream",
     "text": [
      "Processed 1038 of 1038 files\n"
     ]
    }
   ],
   "execution_count": 3
  },
  {
   "metadata": {
    "ExecuteTime": {
     "end_time": "2024-07-11T22:44:10.097841Z",
     "start_time": "2024-07-11T22:44:10.094435Z"
    }
   },
   "cell_type": "code",
   "source": [
    "# split songs into train, test and val\n",
    "train_data, temp_data = train_test_split(dataset_as_snapshots, test_size=0.3, random_state=42, shuffle=True)\n",
    "val_data, test_data = train_test_split(temp_data, test_size=0.5, random_state=42, shuffle=True)\n",
    "\n",
    "# see if split is correct\n",
    "print(\"Train data:\", len(train_data))\n",
    "print(\"test data:\", len(test_data))\n",
    "print(\"val data:\", len(val_data))\n",
    "\n",
    "for song in train_data:\n",
    "    for track in song:\n",
    "        print(track.shape)\n",
    "    break"
   ],
   "id": "d45c18af7cf1fdd",
   "outputs": [
    {
     "name": "stdout",
     "output_type": "stream",
     "text": [
      "Train data: 363\n",
      "test data: 78\n",
      "val data: 78\n",
      "(8312, 12)\n",
      "(8312, 12)\n"
     ]
    }
   ],
   "execution_count": 4
  },
  {
   "metadata": {},
   "cell_type": "markdown",
   "source": "## Create Dataset",
   "id": "bdb5da987313b461"
  },
  {
   "metadata": {
    "ExecuteTime": {
     "end_time": "2024-07-11T22:44:10.291935Z",
     "start_time": "2024-07-11T22:44:10.098235Z"
    }
   },
   "cell_type": "code",
   "source": [
    "# Define special Tokens\n",
    "# Token dimension needs to fit Data\n",
    "sos_token = np.full((1, 24), 1)\n",
    "pad_token = np.full((1, 24), 2)\n",
    "pad_token = torch.tensor(pad_token, device=device)\n",
    "\n",
    "# Define other parameters\n",
    "batch_size = 64\n",
    "seq_length = 512\n",
    "stride = 256"
   ],
   "id": "4590f1961ea7b2e7",
   "outputs": [],
   "execution_count": 5
  },
  {
   "metadata": {
    "ExecuteTime": {
     "end_time": "2024-07-11T22:44:10.605473Z",
     "start_time": "2024-07-11T22:44:10.292473Z"
    }
   },
   "cell_type": "code",
   "source": [
    "# create dataset + dataloader\n",
    "from torch.utils.data import DataLoader\n",
    "from transformer_decoder_training.dataset_transformer.dataset_2 import AdvancedPianoDataset\n",
    "\n",
    "train_dataset = AdvancedPianoDataset(train_data, seq_length, stride, sos_token)\n",
    "val_dataset = AdvancedPianoDataset(val_data, seq_length, stride, sos_token)\n",
    "test_dataset = AdvancedPianoDataset(test_data, seq_length, stride, sos_token)\n",
    "\n",
    "print(\"Check length of datasets. should roughly match split ratio\")\n",
    "print(\"train dataset:\", len(train_dataset))\n",
    "print(\"val dataset:\", len(val_dataset))\n",
    "print(\"test dataset:\", len(test_dataset))\n",
    "print(\"\")\n",
    "\n",
    "# Create DataLoaders for each subset with drop_last=True\n",
    "train_loader = DataLoader(train_dataset, batch_size=batch_size, shuffle=True, drop_last=True)\n",
    "val_loader = DataLoader(val_dataset, batch_size=batch_size, shuffle=False, drop_last=True)\n",
    "test_loader = DataLoader(test_dataset, batch_size=batch_size, shuffle=False, drop_last=True)\n",
    "\n",
    "# Test if data looks correct\n",
    "# sos token should be at beginning of every sequence\n",
    "# sequence should be 2 times the size of a track snapshot\n",
    "for batch in train_loader:\n",
    "    print(\"Visualize shape of batch:\")\n",
    "    print(\"shape of one batch:\", batch.shape)\n",
    "    print(\"==============\")\n",
    "    \n",
    "    print(\"Test for sos token as first token in sequence\")\n",
    "    print(\"First token in seq:\", batch[0][0])\n",
    "    print(\"=============\")\n",
    "    \n",
    "    print(\"Test print one snapshot:\")\n",
    "    print(\"First half of values should be left hand, second half should be right hand\")\n",
    "    print(batch[0][1])\n",
    "    break\n"
   ],
   "id": "367d0a2cbef1f12a",
   "outputs": [
    {
     "name": "stdout",
     "output_type": "stream",
     "text": [
      "Check length of datasets. should roughly match split ratio\n",
      "train dataset: 13440\n",
      "val dataset: 3237\n",
      "test dataset: 3179\n",
      "\n",
      "Visualize shape of batch:\n",
      "shape of one batch: torch.Size([64, 513, 24])\n",
      "==============\n",
      "Test for sos token as first token in sequence\n",
      "First token in seq: tensor([1., 1., 1., 1., 1., 1., 1., 1., 1., 1., 1., 1., 1., 1., 1., 1., 1., 1.,\n",
      "        1., 1., 1., 1., 1., 1.])\n",
      "=============\n",
      "Test print one snapshot:\n",
      "First half of values should be left hand, second half should be right hand\n",
      "tensor([0., 0., 0., 1., 0., 0., 1., 0., 0., 0., 0., 0., 0., 1., 0., 0., 0., 0.,\n",
      "        0., 0., 0., 1., 0., 0.])\n"
     ]
    }
   ],
   "execution_count": 6
  },
  {
   "metadata": {},
   "cell_type": "markdown",
   "source": "# Initialize Model",
   "id": "5704fd4de9b558bb"
  },
  {
   "metadata": {
    "ExecuteTime": {
     "end_time": "2024-07-11T22:44:10.607934Z",
     "start_time": "2024-07-11T22:44:10.606222Z"
    }
   },
   "cell_type": "code",
   "source": [
    "# set parameters\n",
    "# Learning rate for the optimizer\n",
    "learning_rate = 1e-3\n",
    "# Number of epochs for training\n",
    "nepochs = 20\n",
    "# Embedding Size\n",
    "hidden_size = 256\n",
    "# Number of transformer blocks\n",
    "num_layers = 8\n",
    "# MultiheadAttention Heads\n",
    "num_heads = 8"
   ],
   "id": "de9627712b370dd8",
   "outputs": [],
   "execution_count": 7
  },
  {
   "metadata": {
    "ExecuteTime": {
     "end_time": "2024-07-11T22:44:11.179956Z",
     "start_time": "2024-07-11T22:44:10.608505Z"
    }
   },
   "cell_type": "code",
   "source": [
    "from transformer_decoder_training.models.transformer_decoder_1 import Transformer\n",
    "\n",
    "model = Transformer(num_emb=24, num_layers=num_layers, hidden_size=hidden_size, num_heads=num_heads).to(device)\n",
    "\n",
    "# Initialize the optimizer with above parameters\n",
    "optimizer = optim.Adam(model.parameters(), lr=learning_rate)\n",
    "\n",
    "# Define the loss function\n",
    "# loss function should be one that can handle multi one hot encoded vectors\n",
    "# Klammern nicht vergessen\n",
    "loss_fn = nn.BCELoss()"
   ],
   "id": "28b992c114f19f58",
   "outputs": [],
   "execution_count": 8
  },
  {
   "metadata": {
    "ExecuteTime": {
     "end_time": "2024-07-11T22:44:11.182994Z",
     "start_time": "2024-07-11T22:44:11.180451Z"
    }
   },
   "cell_type": "code",
   "source": [
    "# check number of model parameters\n",
    "num_model_params = 0\n",
    "for param in model.parameters():\n",
    "    num_model_params += param.flatten().shape[0]\n",
    "\n",
    "print(\"-This Model Has %d (Approximately %d Million) Parameters!\" % (num_model_params, num_model_params//1e6))"
   ],
   "id": "a61d396ea6a203e5",
   "outputs": [
    {
     "name": "stdout",
     "output_type": "stream",
     "text": [
      "-This Model Has 6330648 (Approximately 6 Million) Parameters!\n"
     ]
    }
   ],
   "execution_count": 9
  },
  {
   "metadata": {},
   "cell_type": "markdown",
   "source": "# Training",
   "id": "51c6bd13ca69ffcf"
  },
  {
   "metadata": {
    "ExecuteTime": {
     "end_time": "2024-07-11T22:44:11.192054Z",
     "start_time": "2024-07-11T22:44:11.183969Z"
    }
   },
   "cell_type": "code",
   "source": [
    "def train_loop(model, opt, loss_fn, dataloader, pad_token, device):\n",
    "    model.train()\n",
    "    total_loss = 0\n",
    "    \n",
    "    for batch in dataloader:\n",
    "        # Move data to GPU\n",
    "        src_sequence = batch.to(device)\n",
    "        \n",
    "        # create input and expected sequence -> move expected sequence one to the right\n",
    "        input_sequences = src_sequence[:, :-1]\n",
    "        expected_sequence = src_sequence[:, 1:]\n",
    "        \n",
    "        # Generate predictions\n",
    "        pred = model(input_sequences, pad_token)\n",
    "        \n",
    "        #print(\"Prediction shape:\", pred.shape)\n",
    "        #print(pred)\n",
    "        #print(\"expected harmony_shape:\", expected_harmony.shape)\n",
    "        #print(expected_harmony)\n",
    "        \n",
    "        # Calculate loss with masked cross-entropy\n",
    "        # ich glaube 0 steht in vorlage für padding token index -> habe ich hier anders\n",
    "        #mask = (expected_harmony != pad_token).float() Maske verwenden, um Padding positions im output zu canceln\n",
    "        # masked_pred = pred * mask\n",
    "        loss = loss_fn(pred, expected_sequence)\n",
    "        \n",
    "        # Backpropagation\n",
    "        opt.zero_grad()\n",
    "        loss.backward()\n",
    "        opt.step()\n",
    "    \n",
    "        total_loss += loss.detach().item()\n",
    "        \n",
    "    return total_loss / len(dataloader)\n",
    "\n",
    "def validation_loop(model, loss_fn, dataloader,pad_token, device):\n",
    "    model.eval()\n",
    "    total_loss = 0\n",
    "    \n",
    "    with torch.no_grad():\n",
    "        for batch in dataloader:\n",
    "            # Move data to GPU\n",
    "            src_sequence = batch.to(device)\n",
    "            \n",
    "            # Create input and expected sequences\n",
    "            input_sequences = src_sequence[:, :-1, :]\n",
    "            expected_sequence = src_sequence[:, 1:, :]\n",
    "            \n",
    "            # Generate predictions\n",
    "            pred = model(input_sequences, pad_token)\n",
    "            \n",
    "            # Calculate loss without flattening\n",
    "            loss = loss_fn(pred, expected_sequence)\n",
    "            \n",
    "            total_loss += loss.detach().item()\n",
    "    \n",
    "    return total_loss / len(dataloader)"
   ],
   "id": "57b52fad83974ad2",
   "outputs": [],
   "execution_count": 10
  },
  {
   "metadata": {
    "ExecuteTime": {
     "end_time": "2024-07-11T23:00:01.479708Z",
     "start_time": "2024-07-11T22:44:11.192950Z"
    }
   },
   "cell_type": "code",
   "source": [
    "from timeit import default_timer as timer\n",
    "NUM_EPOCHS = 21\n",
    "\n",
    "for epoch in range(1, NUM_EPOCHS+1):\n",
    "    start_time = timer()\n",
    "    train_loss = train_loop(model, optimizer, loss_fn, train_loader, pad_token, device)\n",
    "    end_time = timer()\n",
    "    val_loss = validation_loop(model, loss_fn, val_loader, pad_token, device)\n",
    "    print((f\"Epoch: {epoch}, Train loss: {train_loss:.3f}, Val loss: {val_loss:.3f}, \"f\"Epoch time = {(end_time - start_time):.3f}s\"))"
   ],
   "id": "c930c228bd38cd58",
   "outputs": [
    {
     "name": "stdout",
     "output_type": "stream",
     "text": [
      "Epoch: 1, Train loss: 0.183, Val loss: 0.128, Epoch time = 41.395s\n",
      "Epoch: 2, Train loss: 0.127, Val loss: 0.125, Epoch time = 42.138s\n",
      "Epoch: 3, Train loss: 0.123, Val loss: 0.122, Epoch time = 42.126s\n",
      "Epoch: 4, Train loss: 0.120, Val loss: 0.119, Epoch time = 42.132s\n",
      "Epoch: 5, Train loss: 0.119, Val loss: 0.118, Epoch time = 42.125s\n",
      "Epoch: 6, Train loss: 0.117, Val loss: 0.117, Epoch time = 42.103s\n",
      "Epoch: 7, Train loss: 0.116, Val loss: 0.115, Epoch time = 42.102s\n",
      "Epoch: 8, Train loss: 0.114, Val loss: 0.114, Epoch time = 42.102s\n",
      "Epoch: 9, Train loss: 0.113, Val loss: 0.112, Epoch time = 42.090s\n",
      "Epoch: 10, Train loss: 0.111, Val loss: 0.110, Epoch time = 42.103s\n",
      "Epoch: 11, Train loss: 0.109, Val loss: 0.109, Epoch time = 42.109s\n",
      "Epoch: 12, Train loss: 0.108, Val loss: 0.107, Epoch time = 42.099s\n",
      "Epoch: 13, Train loss: 0.106, Val loss: 0.107, Epoch time = 42.101s\n",
      "Epoch: 14, Train loss: 0.105, Val loss: 0.105, Epoch time = 42.096s\n",
      "Epoch: 15, Train loss: 0.104, Val loss: 0.105, Epoch time = 42.093s\n",
      "Epoch: 16, Train loss: 0.103, Val loss: 0.104, Epoch time = 42.092s\n",
      "Epoch: 17, Train loss: 0.102, Val loss: 0.103, Epoch time = 42.089s\n",
      "Epoch: 18, Train loss: 0.101, Val loss: 0.103, Epoch time = 42.076s\n",
      "Epoch: 19, Train loss: 0.100, Val loss: 0.103, Epoch time = 42.089s\n",
      "Epoch: 20, Train loss: 0.099, Val loss: 0.102, Epoch time = 42.094s\n",
      "Epoch: 21, Train loss: 0.098, Val loss: 0.102, Epoch time = 41.929s\n"
     ]
    }
   ],
   "execution_count": 11
  },
  {
   "metadata": {},
   "cell_type": "markdown",
   "source": [
    "### Last training output:\n",
    "Learning rate: 1e-4\n",
    "\n",
    "Epoch: 1, Train loss: 0.126, Val loss: 0.133, Epoch time = 44.974s  \n",
    "Epoch: 2, Train loss: 0.124, Val loss: 0.132, Epoch time = 44.998s  \n",
    "Epoch: 3, Train loss: 0.123, Val loss: 0.130, Epoch time = 44.866s  \n",
    "Epoch: 4, Train loss: 0.121, Val loss: 0.129, Epoch time = 44.857s  \n",
    "Epoch: 5, Train loss: 0.120, Val loss: 0.127, Epoch time = 44.856s  \n",
    "Epoch: 6, Train loss: 0.118, Val loss: 0.126, Epoch time = 44.866s  \n",
    "Epoch: 7, Train loss: 0.118, Val loss: 0.125, Epoch time = 44.853s  \n",
    "Epoch: 8, Train loss: 0.117, Val loss: 0.125, Epoch time = 44.867s  \n",
    "Epoch: 9, Train loss: 0.116, Val loss: 0.124, Epoch time = 44.860s  \n",
    "Epoch: 10, Train loss: 0.115, Val loss: 0.123, Epoch time = 44.859s \n",
    "\n",
    "learning rate: 1e-3\n",
    "## Training and Validation Losses over 200 Epochs\n",
    "\n",
    "| Epoch | Train Loss | Val Loss | Epoch Time (s) |\n",
    "|-------|------------|----------|----------------|\n",
    "| 1     | 0.197      | 0.127    | 43.844         |\n",
    "| 2     | 0.128      | 0.123    | 43.571         |\n",
    "| 3     | 0.125      | 0.120    | 43.708         |\n",
    "| 4     | 0.122      | 0.118    | 43.733         |\n",
    "| 5     | 0.120      | 0.116    | 43.740         |\n",
    "| 6     | 0.119      | 0.115    | 43.730         |\n",
    "| 7     | 0.117      | 0.113    | 43.722         |\n",
    "| 8     | 0.116      | 0.113    | 43.719         |\n",
    "| 9     | 0.114      | 0.111    | 43.728         |\n",
    "| 10    | 0.113      | 0.109    | 43.719         |\n",
    "| 11    | 0.111      | 0.108    | 43.738         |\n",
    "| 12    | 0.110      | 0.107    | 43.723         |\n",
    "| 13    | 0.109      | 0.106    | 43.586         |\n",
    "| 14    | 0.107      | 0.105    | 43.714         |\n",
    "| 15    | 0.106      | 0.104    | 43.714         |\n",
    "| 16    | 0.105      | 0.104    | 43.703         |\n",
    "| 17    | 0.104      | 0.103    | 43.713         |\n",
    "| 18    | 0.103      | 0.103    | 43.705         |\n",
    "| 19    | 0.102      | 0.103    | 43.701         |\n",
    "| 20    | 0.102      | 0.102    | 43.698         |\n",
    "| 21    | 0.101      | 0.101    | 43.714         |\n",
    "| 22    | 0.100      | 0.101    | 43.695         |\n",
    "| 23    | 0.099      | 0.101    | 43.698         |\n",
    "| 24    | 0.098      | 0.101    | 43.684         |\n",
    "| 25    | 0.097      | 0.101    | 43.685         |\n",
    "| 26    | 0.096      | 0.101    | 43.688         |\n",
    "| 27    | 0.096      | 0.101    | 43.689         |\n",
    "| 28    | 0.095      | 0.101    | 43.659         |\n",
    "| 29    | 0.094      | 0.101    | 43.661         |\n",
    "| 30    | 0.093      | 0.101    | 43.662         |\n",
    "| 31    | 0.092      | 0.102    | 43.668         |\n",
    "| 32    | 0.091      | 0.101    | 43.658         |\n",
    "| 33    | 0.090      | 0.102    | 43.659         |\n",
    "| 34    | 0.089      | 0.102    | 43.665         |\n",
    "| 35    | 0.088      | 0.103    | 43.664         |\n",
    "| 36    | 0.087      | 0.103    | 43.660         |\n",
    "| 37    | 0.086      | 0.104    | 43.665         |\n",
    "| 38    | 0.085      | 0.104    | 43.661         |\n",
    "| 39    | 0.084      | 0.105    | 43.701         |\n",
    "| 40    | 0.083      | 0.106    | 43.710         |\n",
    "| 41    | 0.082      | 0.107    | 43.714         |\n",
    "| 42    | 0.081      | 0.107    | 43.705         |\n",
    "| 43    | 0.080      | 0.108    | 43.702         |\n",
    "| 44    | 0.079      | 0.109    | 43.697         |\n",
    "| 45    | 0.078      | 0.109    | 43.692         |\n",
    "| 46    | 0.076      | 0.111    | 43.698         |\n",
    "| 47    | 0.075      | 0.111    | 43.700         |\n",
    "| 48    | 0.074      | 0.113    | 43.697         |\n",
    "| 49    | 0.073      | 0.114    | 43.711         |\n",
    "| 50    | 0.072      | 0.116    | 43.702         |\n",
    "| 51    | 0.071      | 0.116    | 43.701         |\n",
    "| 52    | 0.070      | 0.118    | 43.712         |\n",
    "| 53    | 0.069      | 0.119    | 43.704         |\n",
    "| 54    | 0.069      | 0.119    | 43.711         |\n",
    "| 55    | 0.068      | 0.121    | 43.694         |\n",
    "| 56    | 0.067      | 0.122    | 43.701         |\n",
    "| 57    | 0.066      | 0.124    | 43.705         |\n",
    "| 58    | 0.065      | 0.125    | 43.698         |\n",
    "| 59    | 0.064      | 0.126    | 43.710         |\n",
    "| 60    | 0.063      | 0.127    | 43.712         |\n",
    "| 61    | 0.063      | 0.128    | 43.720         |\n",
    "| 62    | 0.062      | 0.129    | 43.714         |\n",
    "| 63    | 0.061      | 0.129    | 43.710         |\n",
    "| 64    | 0.061      | 0.132    | 43.722         |\n",
    "| 65    | 0.060      | 0.134    | 43.725         |\n",
    "| 66    | 0.059      | 0.135    | 43.719         |\n",
    "| 67    | 0.059      | 0.136    | 43.728         |\n",
    "| 68    | 0.058      | 0.137    | 43.718         |\n",
    "| 69    | 0.058      | 0.138    | 43.716         |\n",
    "| 70    | 0.057      | 0.139    | 43.728         |\n",
    "| 71    | 0.057      | 0.141    | 43.725         |\n",
    "| 72    | 0.056      | 0.142    | 43.707         |\n",
    "| 73    | 0.056      | 0.142    | 43.722         |\n",
    "| 74    | 0.055      | 0.145    | 43.727         |\n",
    "| 75    | 0.055      | 0.144    | 43.729         |\n",
    "| 76    | 0.054      | 0.147    | 43.723         |\n",
    "| 77    | 0.054      | 0.146    | 43.727         |\n",
    "| 78    | 0.053      | 0.148    | 43.729         |\n",
    "| 79    | 0.053      | 0.149    | 43.730         |\n",
    "| 80    | 0.052      | 0.150    | 43.729         |\n",
    "| 81    | 0.052      | 0.151    | 43.725         |\n",
    "| 82    | 0.052      | 0.153    | 43.724         |\n",
    "| 83    | 0.051      | 0.153    | 43.731         |\n",
    "| 84    | 0.051      | 0.155    | 43.727         |\n",
    "| 85    | 0.051      | 0.155    | 43.730         |\n",
    "| 86    | 0.050      | 0.155    | 43.722         |\n",
    "| 87    | 0.050      | 0.157    | 43.727         |\n",
    "| 88    | 0.049      | 0.158    | 43.724         |\n",
    "| 89    | 0.049      | 0.160    | 43.727         |\n",
    "| 90    | 0.049      | 0.160    | 43.720         |\n",
    "| 91    | 0.049      | 0.161    | 43.727         |\n",
    "| 92    | 0.048      | 0.162    | 43.728         |\n",
    "| 93    | 0.048      | 0.163    | 43.687         |\n",
    "| 94    | 0.048      | 0.164    | 43.690         |\n",
    "| 95    | 0.047      | 0.165    | 43.691         |\n",
    "| 96    | 0.047      | 0.168    | 43.693         |\n",
    "| 97    | 0.047      | 0.167    | 43.686         |\n",
    "| 98    | 0.047      | 0.164    | 43.693         |\n",
    "| 99    | 0.046      | 0.169    | 43.690         |\n",
    "| 100   | 0.046      | 0.169    | 43.700         |\n",
    "| 101   | 0.046      | 0.170    | 43.717         |\n",
    "| 102   | 0.046      | 0.170    | 43.726         |\n",
    "| 103   | 0.045      | 0.172    | 43.721         |\n",
    "| 104   | 0.045      | 0.172    | 43.730         |\n",
    "| 105   | 0.045      | 0.173    | 43.723         |\n",
    "| 106   | 0.045      | 0.174    | 43.718         |\n",
    "| 107   | 0.044      | 0.175    | 43.730         |\n",
    "| 108   | 0.044      | 0.175    | 43.725         |\n",
    "| 109   | 0.044      | 0.177    | 43.726         |\n",
    "| 110   | 0.044      | 0.178    | 43.720         |\n",
    "| 111   | 0.044      | 0.178    | 43.729         |\n",
    "| 112   | 0.043      | 0.179    | 43.727         |\n",
    "| 113   | 0.043      | 0.179    | 43.735         |\n",
    "| 114   | 0.043      | 0.180    | 43.736         |\n",
    "| 115   | 0.043      | 0.181    | 43.726         |\n",
    "| 116   | 0.043      | 0.182    | 43.731         |\n",
    "| 117   | 0.043      | 0.182    | 43.733         |\n",
    "| 118   | 0.042      | 0.183    | 43.731         |\n",
    "| 119   | 0.042      | 0.183    | 43.724         |\n",
    "| 120   | 0.042      | 0.185    | 43.733         |\n",
    "| 121   | 0.042      | 0.185    | 43.728         |\n",
    "| 122   | 0.042      | 0.186    | 43.735         |\n",
    "| 123   | 0.041      | 0.186    | 43.724         |\n",
    "| 124   | 0.041      | 0.188    | 43.726         |\n",
    "| 125   | 0.041      | 0.187    | 43.722         |\n",
    "| 126   | 0.041      | 0.189    | 43.721         |\n",
    "| 127   | 0.041      | 0.188    | 43.729         |\n",
    "| 128   | 0.041      | 0.190    | 43.725         |\n",
    "| 129   | 0.041      | 0.191    | 43.736         |\n",
    "| 130   | 0.040      | 0.190    | 43.726         |\n",
    "| 131   | 0.040      | 0.191    | 43.721         |\n",
    "| 132   | 0.040      | 0.191    | 43.736         |\n",
    "| 133   | 0.040      | 0.191    | 43.728         |\n",
    "| 134   | 0.040      | 0.193    | 43.728         |\n",
    "| 135   | 0.040      | 0.194    | 43.717         |\n",
    "| 136   | 0.040      | 0.194    | 43.731         |\n",
    "| 137   | 0.039      | 0.196    | 43.730         |\n",
    "| 138   | 0.039      | 0.197    | 43.733         |\n",
    "| 139   | 0.039      | 0.197    | 43.722         |\n",
    "| 140   | 0.039      | 0.198    | 43.736         |\n",
    "| 141   | 0.039      | 0.198    | 43.733         |\n",
    "| 142   | 0.039      | 0.198    | 43.721         |\n",
    "| 143   | 0.039      | 0.199    | 43.727         |\n",
    "| 144   | 0.039      | 0.200    | 43.724         |\n",
    "| 145   | 0.038      | 0.199    | 43.731         |\n",
    "| 146   | 0.038      | 0.202    | 43.731         |\n",
    "| 147   | 0.038      | 0.201    | 43.739         |\n",
    "| 148   | 0.038      | 0.200    | 43.738         |\n",
    "| 149   | 0.038      | 0.204    | 43.725         |\n",
    "| 150   | 0.038      | 0.204    | 43.725         |\n",
    "| 151   | 0.038      | 0.202    | 43.725         |\n",
    "| 152   | 0.038      | 0.204    | 43.704         |\n",
    "| 153   | 0.038      | 0.206    | 43.699         |\n",
    "| 154   | 0.037      | 0.206    | 43.706         |\n",
    "| 155   | 0.037      | 0.207    | 43.701         |\n",
    "| 156   | 0.037      | 0.206    | 43.692         |\n",
    "| 157   | 0.037      | 0.206    | 43.700         |\n",
    "| 158   | 0.037      | 0.206    | 43.694         |\n",
    "| 159   | 0.037      | 0.209    | 43.710         |\n",
    "| 160   | 0.037      | 0.208    | 43.707         |\n",
    "| 161   | 0.037      | 0.209    | 43.707         |\n",
    "| 162   | 0.037      | 0.209    | 43.701         |\n",
    "| 163   | 0.037      | 0.209    | 43.693         |\n",
    "| 164   | 0.036      | 0.212    | 43.704         |\n",
    "| 165   | 0.036      | 0.212    | 43.691         |\n",
    "| 166   | 0.036      | 0.211    | 43.708         |\n",
    "| 167   | 0.036      | 0.212    | 43.707         |\n",
    "| 168   | 0.036      | 0.211    | 43.700         |\n",
    "| 169   | 0.036      | 0.211    | 43.699         |\n",
    "| 170   | 0.036      | 0.212    | 43.721         |\n",
    "| 171   | 0.036      | 0.213    | 43.730         |\n",
    "| 172   | 0.036      | 0.215    | 43.720         |\n",
    "| 173   | 0.036      | 0.214    | 43.717         |\n",
    "| 174   | 0.036      | 0.217    | 43.716         |\n",
    "| 175   | 0.035      | 0.215    | 43.727         |\n",
    "| 176   | 0.035      | 0.215    | 43.711         |\n",
    "| 177   | 0.035      | 0.218    | 43.713         |\n",
    "| 178   | 0.035      | 0.218    | 43.722         |\n",
    "| 179   | 0.035      | 0.217    | 43.714         |\n",
    "| 180   | 0.035      | 0.217    | 43.716         |\n",
    "| 181   | 0.035      | 0.219    | 43.707         |\n",
    "| 182   | 0.035      | 0.216    | 43.717         |\n",
    "| 183   | 0.035      | 0.219    | 43.601         |\n",
    "| 184   | 0.035      | 0.219    | 43.601         |\n",
    "| 185   | 0.035      | 0.221    | 43.604         |\n",
    "| 186   | 0.035      | 0.220    | 43.604         |\n",
    "| 187   | 0.035      | 0.222    | 43.602         |\n",
    "| 188   | 0.034      | 0.222    | 43.599         |\n",
    "| 189   | 0.034      | 0.223    | 43.598         |\n",
    "| 190   | 0.034      | 0.224    | 43.608         |\n",
    "| 191   | 0.034      | 0.223    | 43.606         |\n",
    "| 192   | 0.034      | 0.223    | 43.593         |\n",
    "| 193   | 0.034      | 0.225    | 43.609         |\n",
    "| 194   | 0.034      | 0.223    | 43.607         |\n",
    "| 195   | 0.034      | 0.224    | 43.604         |\n",
    "| 196   | 0.034      | 0.225    | 43.609         |\n",
    "| 197   | 0.034      | 0.224    | 43.605         |\n",
    "| 198   | 0.034      | 0.226    | 43.607         |\n",
    "| 199   | 0.034      | 0.225    | 43.600         |\n",
    "| 200   | 0.034      | 0.225    | 43.609         |\n",
    "\n",
    "-> 21 Epochs wahrscheinlich optimal\n",
    "\n"
   ],
   "id": "b7ec398714dd8912"
  },
  {
   "metadata": {
    "ExecuteTime": {
     "end_time": "2024-07-11T23:00:01.504190Z",
     "start_time": "2024-07-11T23:00:01.480331Z"
    }
   },
   "cell_type": "code",
   "source": [
    "# see: https://pytorch.org/tutorials/beginner/basics/saveloadrun_tutorial.html#save-and-load-the-model\n",
    "\n",
    "torch.save(model.state_dict(), \"/home/falaxdb/Repos/minus1/transformer_decoder_training/saved_files/saved_models/model_1_notebook_v6.pth\")"
   ],
   "id": "25be820f644f6aa0",
   "outputs": [],
   "execution_count": 12
  },
  {
   "metadata": {},
   "cell_type": "markdown",
   "source": [
    "# Now training without sigmoid output function but BCEWithLogitsLoss\n",
    "\n",
    "And apply sigmoid function only during training"
   ],
   "id": "918f7b209c812e2e"
  },
  {
   "metadata": {
    "ExecuteTime": {
     "end_time": "2024-07-11T23:00:01.530846Z",
     "start_time": "2024-07-11T23:00:01.504633Z"
    }
   },
   "cell_type": "code",
   "source": [
    "from transformer_decoder_training.models.transformer_decoder_2 import Transformer as Transformer_2\n",
    "# Use Transformer without sigmoid\n",
    "model = Transformer_2(num_emb=24, num_layers=num_layers, hidden_size=hidden_size, num_heads=num_heads).to(device)\n",
    "\n",
    "# Initialize the optimizer with above parameters\n",
    "optimizer = optim.Adam(model.parameters(), lr=learning_rate)\n",
    "\n",
    "# Define the loss function\n",
    "# loss function should be one that can handle multi one hot encoded vectors\n",
    "# Klammern nicht vergessen\n",
    "loss_fn = nn.BCEWithLogitsLoss()"
   ],
   "id": "f054f693dd2075e9",
   "outputs": [],
   "execution_count": 13
  },
  {
   "metadata": {
    "ExecuteTime": {
     "end_time": "2024-07-11T23:15:48.731857Z",
     "start_time": "2024-07-11T23:00:01.531298Z"
    }
   },
   "cell_type": "code",
   "source": [
    "for epoch in range(1, NUM_EPOCHS+1):\n",
    "    start_time = timer()\n",
    "    train_loss = train_loop(model, optimizer, loss_fn, train_loader, pad_token, device)\n",
    "    end_time = timer()\n",
    "    val_loss = validation_loop(model, loss_fn, val_loader, pad_token, device)\n",
    "    print((f\"Epoch: {epoch}, Train loss: {train_loss:.3f}, Val loss: {val_loss:.3f}, \"f\"Epoch time = {(end_time - start_time):.3f}s\"))"
   ],
   "id": "84e84a2cd37231c1",
   "outputs": [
    {
     "name": "stdout",
     "output_type": "stream",
     "text": [
      "Epoch: 1, Train loss: 0.196, Val loss: 0.129, Epoch time = 41.117s\n",
      "Epoch: 2, Train loss: 0.127, Val loss: 0.126, Epoch time = 41.439s\n",
      "Epoch: 3, Train loss: 0.124, Val loss: 0.122, Epoch time = 42.159s\n",
      "Epoch: 4, Train loss: 0.121, Val loss: 0.120, Epoch time = 42.133s\n",
      "Epoch: 5, Train loss: 0.119, Val loss: 0.119, Epoch time = 42.143s\n",
      "Epoch: 6, Train loss: 0.118, Val loss: 0.118, Epoch time = 42.134s\n",
      "Epoch: 7, Train loss: 0.117, Val loss: 0.116, Epoch time = 42.145s\n",
      "Epoch: 8, Train loss: 0.115, Val loss: 0.115, Epoch time = 42.127s\n",
      "Epoch: 9, Train loss: 0.114, Val loss: 0.114, Epoch time = 42.123s\n",
      "Epoch: 10, Train loss: 0.113, Val loss: 0.112, Epoch time = 41.722s\n",
      "Epoch: 11, Train loss: 0.111, Val loss: 0.111, Epoch time = 39.951s\n",
      "Epoch: 12, Train loss: 0.110, Val loss: 0.110, Epoch time = 42.101s\n",
      "Epoch: 13, Train loss: 0.109, Val loss: 0.109, Epoch time = 42.108s\n",
      "Epoch: 14, Train loss: 0.107, Val loss: 0.108, Epoch time = 42.119s\n",
      "Epoch: 15, Train loss: 0.106, Val loss: 0.107, Epoch time = 42.126s\n",
      "Epoch: 16, Train loss: 0.105, Val loss: 0.106, Epoch time = 42.116s\n",
      "Epoch: 17, Train loss: 0.104, Val loss: 0.105, Epoch time = 42.104s\n",
      "Epoch: 18, Train loss: 0.103, Val loss: 0.105, Epoch time = 42.111s\n",
      "Epoch: 19, Train loss: 0.102, Val loss: 0.104, Epoch time = 42.111s\n",
      "Epoch: 20, Train loss: 0.101, Val loss: 0.104, Epoch time = 42.113s\n",
      "Epoch: 21, Train loss: 0.100, Val loss: 0.103, Epoch time = 42.102s\n"
     ]
    }
   ],
   "execution_count": 14
  },
  {
   "metadata": {},
   "cell_type": "code",
   "outputs": [],
   "execution_count": null,
   "source": [
    "#Output:\n",
    "\"\"\"\n",
    "Epoch: 1, Train loss: 0.196, Val loss: 0.129, Epoch time = 41.117s\n",
    "Epoch: 2, Train loss: 0.127, Val loss: 0.126, Epoch time = 41.439s\n",
    "Epoch: 3, Train loss: 0.124, Val loss: 0.122, Epoch time = 42.159s\n",
    "Epoch: 4, Train loss: 0.121, Val loss: 0.120, Epoch time = 42.133s\n",
    "Epoch: 5, Train loss: 0.119, Val loss: 0.119, Epoch time = 42.143s\n",
    "Epoch: 6, Train loss: 0.118, Val loss: 0.118, Epoch time = 42.134s\n",
    "Epoch: 7, Train loss: 0.117, Val loss: 0.116, Epoch time = 42.145s\n",
    "Epoch: 8, Train loss: 0.115, Val loss: 0.115, Epoch time = 42.127s\n",
    "Epoch: 9, Train loss: 0.114, Val loss: 0.114, Epoch time = 42.123s\n",
    "Epoch: 10, Train loss: 0.113, Val loss: 0.112, Epoch time = 41.722s\n",
    "Epoch: 11, Train loss: 0.111, Val loss: 0.111, Epoch time = 39.951s\n",
    "Epoch: 12, Train loss: 0.110, Val loss: 0.110, Epoch time = 42.101s\n",
    "Epoch: 13, Train loss: 0.109, Val loss: 0.109, Epoch time = 42.108s\n",
    "Epoch: 14, Train loss: 0.107, Val loss: 0.108, Epoch time = 42.119s\n",
    "Epoch: 15, Train loss: 0.106, Val loss: 0.107, Epoch time = 42.126s\n",
    "Epoch: 16, Train loss: 0.105, Val loss: 0.106, Epoch time = 42.116s\n",
    "Epoch: 17, Train loss: 0.104, Val loss: 0.105, Epoch time = 42.104s\n",
    "Epoch: 18, Train loss: 0.103, Val loss: 0.105, Epoch time = 42.111s\n",
    "Epoch: 19, Train loss: 0.102, Val loss: 0.104, Epoch time = 42.111s\n",
    "Epoch: 20, Train loss: 0.101, Val loss: 0.104, Epoch time = 42.113s\n",
    "Epoch: 21, Train loss: 0.100, Val loss: 0.103, Epoch time = 42.102s\n",
    "\"\"\""
   ],
   "id": "d2d1fc549770619"
  },
  {
   "metadata": {},
   "cell_type": "markdown",
   "source": [
    "Modell scheint sich im Training nicht signifikant anders zu verhalten -> inferenz muss noch getestet werden\n",
    "\n"
   ],
   "id": "2e98e3d16322d741"
  },
  {
   "metadata": {
    "ExecuteTime": {
     "end_time": "2024-07-11T23:19:05.562941Z",
     "start_time": "2024-07-11T23:19:05.490136Z"
    }
   },
   "cell_type": "code",
   "source": "torch.save(model.state_dict(), \"/home/falaxdb/Repos/minus1/transformer_decoder_training/saved_files/saved_models/model_1_notebook_v6_no_sigmoid.pth\")",
   "id": "38c62a96a2e76ef7",
   "outputs": [],
   "execution_count": 15
  }
 ],
 "metadata": {
  "kernelspec": {
   "display_name": "Python 3",
   "language": "python",
   "name": "python3"
  },
  "language_info": {
   "codemirror_mode": {
    "name": "ipython",
    "version": 2
   },
   "file_extension": ".py",
   "mimetype": "text/x-python",
   "name": "python",
   "nbconvert_exporter": "python",
   "pygments_lexer": "ipython2",
   "version": "2.7.6"
  }
 },
 "nbformat": 4,
 "nbformat_minor": 5
}
