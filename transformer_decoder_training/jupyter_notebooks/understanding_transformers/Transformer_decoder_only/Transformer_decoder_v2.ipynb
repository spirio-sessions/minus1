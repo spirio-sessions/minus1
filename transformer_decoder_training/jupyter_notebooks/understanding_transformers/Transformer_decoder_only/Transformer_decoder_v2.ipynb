{
 "cells": [
  {
   "metadata": {},
   "cell_type": "markdown",
   "source": [
    "# Versuch 2\n",
    "\n",
    "Ich versuche jetzt ein Transformer-decoder only zu Trainieren, darauf trainiert wird immer nur ein Token basierend auf einer vorhergehenden sequenz vorherzusagen"
   ],
   "id": "ce1fbb5b86acc10f"
  },
  {
   "metadata": {},
   "cell_type": "markdown",
   "source": "# 0 import",
   "id": "e9e57105a14e8a9f"
  },
  {
   "metadata": {
    "ExecuteTime": {
     "end_time": "2024-06-20T18:57:57.029112Z",
     "start_time": "2024-06-20T18:57:56.355829Z"
    }
   },
   "cell_type": "code",
   "source": [
    "import torch\n",
    "import torch.nn as nn\n",
    "import torch.optim as optim\n",
    "import torch.nn.functional as F\n",
    "from torch import Tensor\n",
    "\n",
    "from data_preperation import dataset_snapshot\n",
    "\n",
    "import math\n",
    "import numpy as np\n",
    "\n",
    "import random\n",
    "\n",
    "import numpy as np\n",
    "import torch\n",
    "from torch.utils.data import DataLoader, Dataset\n",
    "from sklearn.model_selection import train_test_split"
   ],
   "id": "99cf62d8e008400",
   "outputs": [],
   "execution_count": 1
  },
  {
   "metadata": {
    "ExecuteTime": {
     "end_time": "2024-06-20T18:57:57.064650Z",
     "start_time": "2024-06-20T18:57:57.029870Z"
    }
   },
   "cell_type": "code",
   "source": "DEVICE = torch.device('cuda' if torch.cuda.is_available() else 'cpu')",
   "id": "2317db75e37cd359",
   "outputs": [],
   "execution_count": 2
  },
  {
   "metadata": {},
   "cell_type": "markdown",
   "source": "# 1 Data preperation",
   "id": "afbb21b47435d60e"
  },
  {
   "metadata": {},
   "cell_type": "markdown",
   "source": "special start token",
   "id": "4676a9e23968b885"
  },
  {
   "metadata": {
    "ExecuteTime": {
     "end_time": "2024-06-20T18:57:57.073540Z",
     "start_time": "2024-06-20T18:57:57.065166Z"
    }
   },
   "cell_type": "code",
   "source": [
    "# Define SOS token as global variables\n",
    "SOS_TOKEN = np.full((1, 88), 1)  # SOS token representation with ones (adjust for feature dimension)"
   ],
   "id": "7e81532050a9e19e",
   "outputs": [],
   "execution_count": 3
  },
  {
   "metadata": {},
   "cell_type": "markdown",
   "source": "load datatset",
   "id": "950c726056a96621"
  },
  {
   "metadata": {
    "ExecuteTime": {
     "end_time": "2024-06-20T18:57:57.860034Z",
     "start_time": "2024-06-20T18:57:57.074250Z"
    }
   },
   "cell_type": "code",
   "source": [
    "# Create snapshots\n",
    "dataset_as_snapshots = dataset_snapshot.process_dataset_multithreaded(\"/home/falaxdb/Repos/minus1/datasets/maestro_v3_split/hands_split_into_seperate_midis\", 0.1, amount=10)\n",
    "# filter snapshots to 88 piano notes\n",
    "dataset_as_snapshots = dataset_snapshot.filter_piano_range(dataset_as_snapshots)\n",
    "# compress data into one octave\n",
    "# dataset_as_snapshots =  dataset_snapshot.compress_existing_dataset_to_12keys(dataset_as_snapshots)\n",
    "\n",
    "for song in dataset_as_snapshots:\n",
    "    print(\"song:\")\n",
    "    for track in song:\n",
    "        print(track.shape)"
   ],
   "id": "d0b04d2bdf0a3420",
   "outputs": [
    {
     "name": "stderr",
     "output_type": "stream",
     "text": [
      "Processed dataset (20/20): 100%|██████████| 20/20 [00:00<00:00, 27.81it/s]"
     ]
    },
    {
     "name": "stdout",
     "output_type": "stream",
     "text": [
      "Processed 20 of 20 files\n",
      "song:\n",
      "(752, 88)\n",
      "(752, 88)\n",
      "song:\n",
      "(1083, 88)\n",
      "(1083, 88)\n",
      "song:\n",
      "(2220, 88)\n",
      "(2220, 88)\n",
      "song:\n",
      "(3707, 88)\n",
      "(3707, 88)\n",
      "song:\n",
      "(2730, 88)\n",
      "(2730, 88)\n",
      "song:\n",
      "(3464, 88)\n",
      "(3464, 88)\n",
      "song:\n",
      "(2981, 88)\n",
      "(2981, 88)\n",
      "song:\n",
      "(3805, 88)\n",
      "(3805, 88)\n",
      "song:\n",
      "(7862, 88)\n",
      "(7862, 88)\n",
      "song:\n",
      "(14334, 88)\n",
      "(14334, 88)\n"
     ]
    },
    {
     "name": "stderr",
     "output_type": "stream",
     "text": [
      "\n"
     ]
    }
   ],
   "execution_count": 4
  },
  {
   "metadata": {},
   "cell_type": "markdown",
   "source": "batchen, splitten, etc",
   "id": "8a6ec102fb37623c"
  },
  {
   "metadata": {
    "ExecuteTime": {
     "end_time": "2024-06-20T18:57:57.864288Z",
     "start_time": "2024-06-20T18:57:57.860623Z"
    }
   },
   "cell_type": "code",
   "source": [
    "import numpy as np\n",
    "import torch\n",
    "from torch.utils.data import Dataset, DataLoader\n",
    "from torch.nn.utils.rnn import pad_sequence\n",
    "import torch.nn as nn\n",
    "from torch.optim import Adam\n",
    "\n",
    "\n",
    "\n",
    "# Function to add SOS token at the start of each song and create sequences\n",
    "# inputs are right and left hand combined, target is the one snapshot of the left hand\n",
    "def create_sequences_with_sos(data, seq_length):\n",
    "    inputs = []\n",
    "    targets = []\n",
    "    for song in data: \n",
    "        right_h = song[0]\n",
    "        left_h = song[1]\n",
    "        \n",
    "        assert right_h.shape == left_h.shape, \"Tracks must have same dimensions\"\n",
    "        \n",
    "        combined_tracks = np.bitwise_xor(right_h, left_h)\n",
    "        \n",
    "        combined_tracks = np.vstack((sos_token, combined_tracks))\n",
    "        \n",
    "        for i in range(len(right_h) - seq_length):\n",
    "            inputs.append(combined_tracks[i:i + seq_length])\n",
    "            targets.append(left_h[i + seq_length])\n",
    "    return np.array(inputs), np.array(targets)\n",
    "\n",
    "\n",
    "\n",
    "# Dataset class\n",
    "class PianoDataset(Dataset):\n",
    "    def __init__(self, inputs, targets):\n",
    "        self.inputs = inputs\n",
    "        self.targets = targets\n",
    "\n",
    "    def __len__(self):\n",
    "        return len(self.inputs)\n",
    "\n",
    "    def __getitem__(self, idx):\n",
    "        input_seq = self.inputs[idx]\n",
    "        target_seq = self.targets[idx]\n",
    "        return {\n",
    "            'input_seq': torch.tensor(input_seq, dtype=torch.float32),\n",
    "            'target_seq': torch.tensor(target_seq, dtype=torch.float32)\n",
    "        }\n",
    "\n",
    "\n",
    "\n",
    "# Collate function to handle padding and creating attention masks\n",
    "def collate_fn(batch):\n",
    "    inputs = [item['input_seq'] for item in batch]\n",
    "    targets = [item['target_seq'] for item in batch]\n",
    "    \n",
    "    inputs_padded = pad_sequence(inputs, batch_first=True, padding_value=padding_value)\n",
    "    targets_padded = pad_sequence(targets, batch_first=True, padding_value=padding_value)\n",
    "    \n",
    "    attention_mask = (inputs_padded != padding_value).float()\n",
    "    \n",
    "    return {\n",
    "        'input_seq': inputs_padded,\n",
    "        'target_seq': targets_padded,\n",
    "        'attention_mask': attention_mask\n",
    "    }\n",
    "\n",
    "\n",
    "    "
   ],
   "id": "a0d2cb9166f3fa3d",
   "outputs": [],
   "execution_count": 5
  },
  {
   "metadata": {
    "ExecuteTime": {
     "end_time": "2024-06-20T18:57:58.069728Z",
     "start_time": "2024-06-20T18:57:57.864674Z"
    }
   },
   "cell_type": "code",
   "source": [
    "sos_token = SOS_TOKEN\n",
    "padding_value = -1  # Use -1 for padding\n",
    "\n",
    "# Parameters\n",
    "seq_length = 50  # Example sequence length\n",
    "\n",
    "# Split the dataset using sklearn while maintaining pairs\n",
    "train_data, temp_data = train_test_split(dataset_as_snapshots, test_size=0.3, random_state=42, shuffle=True)\n",
    "val_data, test_data = train_test_split(temp_data, test_size=0.5, random_state=42, shuffle=True)\n",
    "\n",
    "# Create sequences for right and left hand data with SOS token\n",
    "train_inputs, train_targets = create_sequences_with_sos(train_data, seq_length)\n",
    "val_inputs, val_targets = create_sequences_with_sos(val_data, seq_length)\n",
    "test_inputs, test_targets = create_sequences_with_sos(test_data, seq_length)\n",
    "\n",
    "# Create the dataset\n",
    "train_dataset = PianoDataset(train_inputs, train_targets)\n",
    "val_dataset = PianoDataset(val_inputs, val_targets)\n",
    "test_dataset = PianoDataset(test_inputs, test_targets)\n",
    "\n",
    "# Create DataLoader with collate_fn\n",
    "batch_size = 32\n",
    "\n",
    "\n",
    "train_loader = DataLoader(train_dataset, batch_size=batch_size, shuffle=True, collate_fn=collate_fn)\n",
    "val_loader = DataLoader(val_dataset, batch_size=batch_size, shuffle=True, collate_fn=collate_fn)\n",
    "test_loader = DataLoader(test_dataset, batch_size=batch_size, shuffle=True, collate_fn=collate_fn)"
   ],
   "id": "48bd6798964b7b35",
   "outputs": [],
   "execution_count": 6
  },
  {
   "metadata": {
    "ExecuteTime": {
     "end_time": "2024-06-20T18:57:58.525057Z",
     "start_time": "2024-06-20T18:57:58.070270Z"
    }
   },
   "cell_type": "code",
   "source": [
    "import matplotlib.pyplot as plt\n",
    "\n",
    "def visualize_tensors(input_tensor, target_tensor, attention_mask):\n",
    "    \"\"\"\n",
    "    Visualizes the input tensor, target tensor, and attention mask.\n",
    "    \n",
    "    Parameters:\n",
    "    - input_tensor: torch.Tensor of shape (seq_length, feature_dim)\n",
    "    - target_tensor: torch.Tensor of shape (feature_dim)\n",
    "    - attention_mask: torch.Tensor of shape (seq_length)\n",
    "    \"\"\"\n",
    "    input_np = input_tensor.numpy().T  # Transpose to get features on the y-axis\n",
    "    target_np = target_tensor.numpy()\n",
    "    attention_mask_np = attention_mask.numpy()\n",
    "    \n",
    "    fig, axes = plt.subplots(3, 1, figsize=(15, 12))\n",
    "\n",
    "    axes[0].imshow(input_np, cmap='binary', aspect='auto')\n",
    "    axes[0].set_title('Input Tensor')\n",
    "    axes[0].set_xlabel('Snapshots')\n",
    "    axes[0].set_ylabel('Features')\n",
    "    \n",
    "    axes[1].imshow(target_np.reshape(-1, 1), cmap='binary', aspect='auto')\n",
    "    axes[1].set_title('Target Tensor')\n",
    "    axes[1].set_xlabel('Target Snapshot')\n",
    "    axes[1].set_yticks(np.arange(target_np.shape[0]))\n",
    "    axes[1].set_yticklabels(np.arange(target_np.shape[0]))\n",
    "    axes[1].set_ylabel('Features')\n",
    "    \n",
    "    axes[2].imshow(attention_mask_np.reshape(1, -1), cmap='binary', aspect='auto')\n",
    "    axes[2].set_title('Attention Mask')\n",
    "    axes[2].set_xlabel('Snapshots')\n",
    "    axes[2].set_yticks([])  # Hide y-axis\n",
    "\n",
    "    plt.tight_layout(pad=4.0)\n",
    "    plt.show()\n",
    "\n",
    "# Get a batch of data\n",
    "batch = next(iter(train_loader))\n",
    "\n",
    "# Extract the first example from the batch\n",
    "input_tensor = batch['input_seq'][0]\n",
    "target_tensor = batch['target_seq'][0]\n",
    "attention_mask = batch['attention_mask'][0]\n",
    "\n",
    "print(input_tensor)\n",
    "print(target_tensor)\n",
    "print(attention_mask)\n",
    "\n",
    "# Visualize the example\n",
    "visualize_tensors(input_tensor, target_tensor, attention_mask)"
   ],
   "id": "9909c472efe3e8ee",
   "outputs": [
    {
     "name": "stdout",
     "output_type": "stream",
     "text": [
      "tensor([[0., 0., 0.,  ..., 0., 0., 0.],\n",
      "        [0., 0., 0.,  ..., 0., 0., 0.],\n",
      "        [0., 0., 0.,  ..., 0., 0., 0.],\n",
      "        ...,\n",
      "        [0., 0., 0.,  ..., 0., 0., 0.],\n",
      "        [0., 0., 0.,  ..., 0., 0., 0.],\n",
      "        [0., 0., 0.,  ..., 0., 0., 0.]])\n",
      "tensor([0., 0., 0., 0., 0., 0., 0., 0., 0., 0., 0., 0., 0., 0., 0., 0., 0., 0.,\n",
      "        0., 0., 0., 0., 0., 0., 1., 0., 0., 0., 0., 0., 0., 0., 0., 0., 0., 0.,\n",
      "        0., 0., 0., 0., 0., 0., 0., 1., 0., 0., 0., 0., 0., 0., 0., 0., 0., 0.,\n",
      "        0., 0., 0., 0., 0., 0., 0., 0., 0., 0., 0., 0., 0., 0., 0., 0., 0., 0.,\n",
      "        0., 0., 0., 0., 0., 0., 0., 0., 0., 0., 0., 0., 0., 0., 0., 0.])\n",
      "tensor([[1., 1., 1.,  ..., 1., 1., 1.],\n",
      "        [1., 1., 1.,  ..., 1., 1., 1.],\n",
      "        [1., 1., 1.,  ..., 1., 1., 1.],\n",
      "        ...,\n",
      "        [1., 1., 1.,  ..., 1., 1., 1.],\n",
      "        [1., 1., 1.,  ..., 1., 1., 1.],\n",
      "        [1., 1., 1.,  ..., 1., 1., 1.]])\n"
     ]
    },
    {
     "data": {
      "text/plain": [
       "<Figure size 1500x1200 with 3 Axes>"
      ],
      "image/png": "[encoded data removed]"
     },
     "metadata": {},
     "output_type": "display_data"
    }
   ],
   "execution_count": 7
  },
  {
   "metadata": {},
   "cell_type": "markdown",
   "source": "# 2 Define model",
   "id": "cfc1b24301156835"
  },
  {
   "metadata": {},
   "cell_type": "markdown",
   "source": "positional and mask",
   "id": "4988f0422572a37a"
  },
  {
   "metadata": {
    "ExecuteTime": {
     "end_time": "2024-06-20T18:57:58.529328Z",
     "start_time": "2024-06-20T18:57:58.525758Z"
    }
   },
   "cell_type": "code",
   "source": [
    "class PositionalEncoding(nn.Module):\n",
    "    r\"\"\"Inject some information about the relative or absolute position of the tokens in the sequence.\n",
    "        The positional encodings have the same dimension as the embeddings, so that the two can be summed.\n",
    "        Here, we use sine and cosine functions of different frequencies.\n",
    "    .. math:\n",
    "        \\text{PosEncoder}(pos, 2i) = sin(pos/10000^(2i/d_model))\n",
    "        \\text{PosEncoder}(pos, 2i+1) = cos(pos/10000^(2i/d_model))\n",
    "        \\text{where pos is the word position and i is the embed idx)\n",
    "    Args:\n",
    "        d_model: the embed dim (required).\n",
    "        dropout: the dropout value (default=0.1).\n",
    "        max_len: the max. length of the incoming sequence (default=5000).\n",
    "    Examples:\n",
    "        >>> pos_encoder = PositionalEncoding(d_model)\n",
    "    \"\"\"\n",
    "\n",
    "    def __init__(self, d_model, dropout=0.1, max_len=5000):\n",
    "        super(PositionalEncoding, self).__init__()\n",
    "        \n",
    "        # Info\n",
    "        self.dropout = nn.Dropout(p=dropout)\n",
    "        \n",
    "        # Encoding - From formula -> This is basically applying the formula for Positional encoding (The one with Sinus and Cosinus)\n",
    "        pe = torch.zeros(max_len, d_model)\n",
    "        position = torch.arange(0, max_len, dtype=torch.float).unsqueeze(1) # Baically a positions list 0, 1, 2, 3, 4, 5, ...\n",
    "        div_term = torch.exp(torch.arange(0, d_model, 2).float() * (-math.log(10000.0) / d_model)) # 1000^(2i/dim_model)\n",
    "        \n",
    "        # # PE(pos, 2i) = sin(pos/1000^(2i/dim_model))\n",
    "        pe[:, 0::2] = torch.sin(position * div_term)\n",
    "        \n",
    "        #  # PE(pos, 2i + 1) = cos(pos/1000^(2i/dim_model))\n",
    "        pe[:, 1::2] = torch.cos(position * div_term)\n",
    "        \n",
    "         # Saving buffer (same as parameter without gradients needed)\n",
    "        # pe = pe.unsqueeze(0).transpose(0, 1)\n",
    "        pe = pe.unsqueeze(0).transpose(0, 1) # Shape: (1, max_len, d_model) Änderung evtl. wegen batch first = True\n",
    "        self.register_buffer('pe', pe)\n",
    "\n",
    "    def forward(self, x):\n",
    "        r\"\"\"Inputs of forward function\n",
    "        Args:\n",
    "            x: the sequence fed to the positional encoder model (required).\n",
    "        Shape:\n",
    "            x: [sequence length, batch size, embed dim]\n",
    "            output: [sequence length, batch size, embed dim]\n",
    "        Examples:\n",
    "            >>> output = pos_encoder(x)\n",
    "        \"\"\"\n",
    "        \n",
    "        # Residual connection + pos encoding\n",
    "        x = x + self.pe[:x.size(0), :]\n",
    "        return self.dropout(x)\n",
    "\n",
    "def generate_square_subsequent_mask(sz):\n",
    "    mask = (torch.triu(torch.ones((sz, sz), device=DEVICE)) == 1).transpose(0, 1)\n",
    "    mask = mask.float().masked_fill(mask == 0, float('-inf')).masked_fill(mask == 1, float(0.0))\n",
    "    \n",
    "    # EX for size=5:\n",
    "    # [[0., -inf, -inf, -inf, -inf],\n",
    "    #  [0.,   0., -inf, -inf, -inf],\n",
    "    #  [0.,   0.,   0., -inf, -inf],\n",
    "    #  [0.,   0.,   0.,   0., -inf],\n",
    "    #  [0.,   0.,   0.,   0.,   0.]]\n",
    "    \n",
    "    return mask\n",
    "\n",
    "# Die Funktion create_mask erstellt sowohl Quell- als auch Ziel-Pad-Masken, indem sie prüft, ob Elemente in der Quell- und Zielsequenz gleich dem Pad-Token sind. Diese Masken werden transponiert, um die richtige Dimension zu erhalten.\n",
    "def create_mask(tgt):\n",
    "    tgt_seq_len = tgt.shape[1]\n",
    "    tgt_mask = generate_square_subsequent_mask(tgt_seq_len)\n",
    "    return tgt_mask"
   ],
   "id": "22ea5d0aae74c848",
   "outputs": [],
   "execution_count": 8
  },
  {
   "metadata": {},
   "cell_type": "markdown",
   "source": "Transformer",
   "id": "bc3bf095b843aafd"
  },
  {
   "metadata": {
    "ExecuteTime": {
     "end_time": "2024-06-20T18:57:58.544703Z",
     "start_time": "2024-06-20T18:57:58.529821Z"
    }
   },
   "cell_type": "code",
   "source": [
    "class TransformerDecoderModel(nn.Module):\n",
    "    def __init__(self, input_dim, embed_dim, nhead, num_decoder_layers, dim_feedforward, dropout=0.1, max_len=5000):\n",
    "        super(TransformerDecoderModel, self).__init__()\n",
    "        self.model_type = 'Transformer'\n",
    "        \n",
    "        # Hier werden die Layers des modells definiert\n",
    "        \n",
    "        # Input token werden zu embedding vektoren umgewandelt -> hier einfach mit linearer schicht\n",
    "        # input dimension wird zu embed_dim transformiert. embed dim ist die dimension meiner embeddings\n",
    "        self.embedding = nn.Linear(input_dim, embed_dim)\n",
    "        \n",
    "        # Positional encoding schicht für infos zu reihenfolge\n",
    "        self.pos_encoder = PositionalEncoding(embed_dim, dropout)\n",
    "        \n",
    "        # hier werden die Decoder layers und der stack an layers (der transformer definiert)\n",
    "        decoder_layers = nn.TransformerDecoderLayer(embed_dim, nhead, dim_feedforward, dropout, batch_first=True)\n",
    "        self.transformer_decoder = nn.TransformerDecoder(decoder_layers, num_decoder_layers)\n",
    "        \n",
    "        # output schicht, um die wahrscheinlichkeit für die features\n",
    "        self.generator = nn.Linear(embed_dim, input_dim)\n",
    "        \n",
    "        # Sigmoid für zwischen 0 und 1 \n",
    "        self.sigmoid = nn.Sigmoid()\n",
    "\n",
    "    def forward(self, src, attention_mask, tgt_mask=None):\n",
    "        tgt = self.embedding(src)\n",
    "        tgt = self.pos_encoder(src)  # Apply positional encoding\n",
    "        \n",
    "        src_key_padding_mask = attention_mask == 0\n",
    "        \n",
    "        output = self.transformer_decoder(src, src, tgt_mask=tgt_mask, src_key_padding_mask=src_key_padding_mask)\n",
    "        output = self.generator(output)\n",
    "        \n",
    "        output = self.sigmoid(output[:, -1, :])\n",
    "        return output"
   ],
   "id": "949244b84627249c",
   "outputs": [],
   "execution_count": 9
  },
  {
   "metadata": {},
   "cell_type": "markdown",
   "source": "# 3 train model",
   "id": "89c3112119d87a09"
  },
  {
   "metadata": {
    "ExecuteTime": {
     "end_time": "2024-06-20T18:57:58.553361Z",
     "start_time": "2024-06-20T18:57:58.545620Z"
    }
   },
   "cell_type": "code",
   "source": [
    "# Hyperparameters\n",
    "input_dim = 88 # Dimension der eingehenden tokens\n",
    "embed_dim = 128  # Embedding dimension\n",
    "nhead = 4 # anzahl der attention heads\n",
    "num_decoder_layers = 3 # anzahl der decoder layer (die Blöcke übereinander)\n",
    "dim_feedforward = 128 # dimension des feedforward neural nets\n",
    "dropout = 0.1\n",
    "# batch_size = 32 oben festgelegt\n",
    "num_epochs = 10\n",
    "learning_rate = 0.001\n",
    "max_len = 200  # Maximum length of the sequences -> abbruch ohne end token"
   ],
   "id": "b664156695f9eba8",
   "outputs": [],
   "execution_count": 10
  },
  {
   "metadata": {
    "ExecuteTime": {
     "end_time": "2024-06-20T18:57:58.909460Z",
     "start_time": "2024-06-20T18:57:58.554200Z"
    }
   },
   "cell_type": "code",
   "source": [
    "# Modell initialisieren\n",
    "model = TransformerDecoderModel(input_dim, embed_dim, nhead, num_decoder_layers, dim_feedforward, dropout, max_len)\n",
    "# auf GPU laden\n",
    "model = model.to(DEVICE)\n",
    "\n",
    "# Kostenfunktion festlegen \n",
    "loss_fn = nn.BCELoss()\n",
    "\n",
    "# optimizer festlegen\n",
    "optimizer = optim.Adam(model.parameters(), lr=learning_rate)"
   ],
   "id": "fed46f28c7fc3386",
   "outputs": [],
   "execution_count": 11
  },
  {
   "metadata": {},
   "cell_type": "markdown",
   "source": "training",
   "id": "72028798fd75d059"
  },
  {
   "metadata": {
    "ExecuteTime": {
     "end_time": "2024-06-20T18:57:58.914030Z",
     "start_time": "2024-06-20T18:57:58.910204Z"
    }
   },
   "cell_type": "code",
   "source": [
    "def debug_shapes_and_ranges(X, y, output):\n",
    "    print(\"X shape:\", X.shape)\n",
    "    print(\"y shape:\", y.shape)\n",
    "    print(\"Output shape:\", output.shape)\n",
    "    print(\"Output range:\", torch.min(output).item(), torch.max(output).item())\n",
    "    print(\"y range:\", torch.min(y).item(), torch.max(y).item())\n",
    "\n",
    "def train_loop(model, opt, loss_fn, dataloader):\n",
    "    model.train()\n",
    "    total_loss = 0\n",
    "    \n",
    "    for batch in dataloader:\n",
    "        # Move data to GPU\n",
    "        input_seq = batch['input_seq'].to(DEVICE)\n",
    "        target_seq = batch['target_seq'].to(DEVICE)\n",
    "        attention_mask = batch['attention_mask'].to(DEVICE)\n",
    "\n",
    "        \n",
    "        # Get mask to mask out the next words\n",
    "        tgt_mask = create_mask(input_seq).to(DEVICE)\n",
    "\n",
    "        # Standard training except we pass in y_input and tgt_mask\n",
    "        # X ist unser Memory\n",
    "        logits = model(input_seq, attention_mask, tgt_mask=tgt_mask)\n",
    "        \n",
    "        #print(\"Training: prediction (model output) shape:\", logits.shape)\n",
    "        # Debug shapes and ranges\n",
    "        # debug_shapes_and_ranges(X, y, logits)\n",
    "        \n",
    "        # Calculate the loss\n",
    "        loss = loss_fn(logits, target_seq)\n",
    "        \n",
    "        opt.zero_grad()\n",
    "        loss.backward()\n",
    "        opt.step()\n",
    "    \n",
    "        total_loss += loss.detach().item()\n",
    "        \n",
    "    return total_loss / len(dataloader)\n",
    "\n",
    "def validation_loop(model, loss_fn, dataloader):\n",
    "    total_loss = 0\n",
    "    \n",
    "    for batch in dataloader:\n",
    "        # Move data to GPU\n",
    "        input_seq = batch['input_seq'].to(DEVICE)\n",
    "        target_seq = batch['target_seq'].to(DEVICE)\n",
    "        attention_mask = batch['attention_mask'].to(DEVICE)\n",
    "\n",
    "        \n",
    "        # Get mask to mask out the next words\n",
    "        tgt_mask = create_mask(input_seq).to(DEVICE)\n",
    "\n",
    "        # Standard training except we pass in y_input and tgt_mask\n",
    "        # X ist unser Memory\n",
    "        logits = model(input_seq, attention_mask, tgt_mask=tgt_mask)\n",
    "        \n",
    "        #print(\"Training: prediction (model output) shape:\", logits.shape)\n",
    "        # Debug shapes and ranges\n",
    "        # debug_shapes_and_ranges(X, y, logits)\n",
    "        \n",
    "        # Calculate the loss\n",
    "        loss = loss_fn(logits, target_seq)\n",
    "        \n",
    "        total_loss += loss.detach().item()\n",
    "        \n",
    "    return total_loss / len(dataloader)"
   ],
   "id": "b6e86bd9cad471f0",
   "outputs": [],
   "execution_count": 12
  },
  {
   "metadata": {
    "ExecuteTime": {
     "end_time": "2024-06-20T18:59:49.607046Z",
     "start_time": "2024-06-20T18:59:49.527368Z"
    }
   },
   "cell_type": "code",
   "source": [
    "from timeit import default_timer as timer\n",
    "NUM_EPOCHS = 10\n",
    "\n",
    "for epoch in range(1, NUM_EPOCHS+1):\n",
    "    start_time = timer()\n",
    "    train_loss = train_loop(model, optimizer, loss_fn, train_loader)\n",
    "    end_time = timer()\n",
    "    val_loss = validation_loop(model, loss_fn, val_loader)\n",
    "    print((f\"Epoch: {epoch}, Train loss: {train_loss:.3f}, Val loss: {val_loss:.3f}, \"f\"Epoch time = {(end_time - start_time):.3f}s\"))"
   ],
   "id": "adff4c6704dfc3b9",
   "outputs": [
    {
     "ename": "RuntimeError",
     "evalue": "The size of tensor a (88) must match the size of tensor b (128) at non-singleton dimension 2",
     "output_type": "error",
     "traceback": [
      "\u001B[0;31m---------------------------------------------------------------------------\u001B[0m",
      "\u001B[0;31mRuntimeError\u001B[0m                              Traceback (most recent call last)",
      "Cell \u001B[0;32mIn[14], line 6\u001B[0m\n\u001B[1;32m      4\u001B[0m \u001B[38;5;28;01mfor\u001B[39;00m epoch \u001B[38;5;129;01min\u001B[39;00m \u001B[38;5;28mrange\u001B[39m(\u001B[38;5;241m1\u001B[39m, NUM_EPOCHS\u001B[38;5;241m+\u001B[39m\u001B[38;5;241m1\u001B[39m):\n\u001B[1;32m      5\u001B[0m     start_time \u001B[38;5;241m=\u001B[39m timer()\n\u001B[0;32m----> 6\u001B[0m     train_loss \u001B[38;5;241m=\u001B[39m \u001B[43mtrain_loop\u001B[49m\u001B[43m(\u001B[49m\u001B[43mmodel\u001B[49m\u001B[43m,\u001B[49m\u001B[43m \u001B[49m\u001B[43moptimizer\u001B[49m\u001B[43m,\u001B[49m\u001B[43m \u001B[49m\u001B[43mloss_fn\u001B[49m\u001B[43m,\u001B[49m\u001B[43m \u001B[49m\u001B[43mtrain_loader\u001B[49m\u001B[43m)\u001B[49m\n\u001B[1;32m      7\u001B[0m     end_time \u001B[38;5;241m=\u001B[39m timer()\n\u001B[1;32m      8\u001B[0m     val_loss \u001B[38;5;241m=\u001B[39m validation_loop(model, loss_fn, val_loader)\n",
      "Cell \u001B[0;32mIn[12], line 24\u001B[0m, in \u001B[0;36mtrain_loop\u001B[0;34m(model, opt, loss_fn, dataloader)\u001B[0m\n\u001B[1;32m     20\u001B[0m tgt_mask \u001B[38;5;241m=\u001B[39m create_mask(input_seq)\u001B[38;5;241m.\u001B[39mto(DEVICE)\n\u001B[1;32m     22\u001B[0m \u001B[38;5;66;03m# Standard training except we pass in y_input and tgt_mask\u001B[39;00m\n\u001B[1;32m     23\u001B[0m \u001B[38;5;66;03m# X ist unser Memory\u001B[39;00m\n\u001B[0;32m---> 24\u001B[0m logits \u001B[38;5;241m=\u001B[39m \u001B[43mmodel\u001B[49m\u001B[43m(\u001B[49m\u001B[43minput_seq\u001B[49m\u001B[43m,\u001B[49m\u001B[43m \u001B[49m\u001B[43mattention_mask\u001B[49m\u001B[43m,\u001B[49m\u001B[43m \u001B[49m\u001B[43mtgt_mask\u001B[49m\u001B[38;5;241;43m=\u001B[39;49m\u001B[43mtgt_mask\u001B[49m\u001B[43m)\u001B[49m\n\u001B[1;32m     26\u001B[0m \u001B[38;5;66;03m#print(\"Training: prediction (model output) shape:\", logits.shape)\u001B[39;00m\n\u001B[1;32m     27\u001B[0m \u001B[38;5;66;03m# Debug shapes and ranges\u001B[39;00m\n\u001B[1;32m     28\u001B[0m \u001B[38;5;66;03m# debug_shapes_and_ranges(X, y, logits)\u001B[39;00m\n\u001B[1;32m     29\u001B[0m \n\u001B[1;32m     30\u001B[0m \u001B[38;5;66;03m# Calculate the loss\u001B[39;00m\n\u001B[1;32m     31\u001B[0m loss \u001B[38;5;241m=\u001B[39m loss_fn(logits, target_seq)\n",
      "File \u001B[0;32m~/Repos/minus1/venv/lib64/python3.12/site-packages/torch/nn/modules/module.py:1532\u001B[0m, in \u001B[0;36mModule._wrapped_call_impl\u001B[0;34m(self, *args, **kwargs)\u001B[0m\n\u001B[1;32m   1530\u001B[0m     \u001B[38;5;28;01mreturn\u001B[39;00m \u001B[38;5;28mself\u001B[39m\u001B[38;5;241m.\u001B[39m_compiled_call_impl(\u001B[38;5;241m*\u001B[39margs, \u001B[38;5;241m*\u001B[39m\u001B[38;5;241m*\u001B[39mkwargs)  \u001B[38;5;66;03m# type: ignore[misc]\u001B[39;00m\n\u001B[1;32m   1531\u001B[0m \u001B[38;5;28;01melse\u001B[39;00m:\n\u001B[0;32m-> 1532\u001B[0m     \u001B[38;5;28;01mreturn\u001B[39;00m \u001B[38;5;28;43mself\u001B[39;49m\u001B[38;5;241;43m.\u001B[39;49m\u001B[43m_call_impl\u001B[49m\u001B[43m(\u001B[49m\u001B[38;5;241;43m*\u001B[39;49m\u001B[43margs\u001B[49m\u001B[43m,\u001B[49m\u001B[43m \u001B[49m\u001B[38;5;241;43m*\u001B[39;49m\u001B[38;5;241;43m*\u001B[39;49m\u001B[43mkwargs\u001B[49m\u001B[43m)\u001B[49m\n",
      "File \u001B[0;32m~/Repos/minus1/venv/lib64/python3.12/site-packages/torch/nn/modules/module.py:1541\u001B[0m, in \u001B[0;36mModule._call_impl\u001B[0;34m(self, *args, **kwargs)\u001B[0m\n\u001B[1;32m   1536\u001B[0m \u001B[38;5;66;03m# If we don't have any hooks, we want to skip the rest of the logic in\u001B[39;00m\n\u001B[1;32m   1537\u001B[0m \u001B[38;5;66;03m# this function, and just call forward.\u001B[39;00m\n\u001B[1;32m   1538\u001B[0m \u001B[38;5;28;01mif\u001B[39;00m \u001B[38;5;129;01mnot\u001B[39;00m (\u001B[38;5;28mself\u001B[39m\u001B[38;5;241m.\u001B[39m_backward_hooks \u001B[38;5;129;01mor\u001B[39;00m \u001B[38;5;28mself\u001B[39m\u001B[38;5;241m.\u001B[39m_backward_pre_hooks \u001B[38;5;129;01mor\u001B[39;00m \u001B[38;5;28mself\u001B[39m\u001B[38;5;241m.\u001B[39m_forward_hooks \u001B[38;5;129;01mor\u001B[39;00m \u001B[38;5;28mself\u001B[39m\u001B[38;5;241m.\u001B[39m_forward_pre_hooks\n\u001B[1;32m   1539\u001B[0m         \u001B[38;5;129;01mor\u001B[39;00m _global_backward_pre_hooks \u001B[38;5;129;01mor\u001B[39;00m _global_backward_hooks\n\u001B[1;32m   1540\u001B[0m         \u001B[38;5;129;01mor\u001B[39;00m _global_forward_hooks \u001B[38;5;129;01mor\u001B[39;00m _global_forward_pre_hooks):\n\u001B[0;32m-> 1541\u001B[0m     \u001B[38;5;28;01mreturn\u001B[39;00m \u001B[43mforward_call\u001B[49m\u001B[43m(\u001B[49m\u001B[38;5;241;43m*\u001B[39;49m\u001B[43margs\u001B[49m\u001B[43m,\u001B[49m\u001B[43m \u001B[49m\u001B[38;5;241;43m*\u001B[39;49m\u001B[38;5;241;43m*\u001B[39;49m\u001B[43mkwargs\u001B[49m\u001B[43m)\u001B[49m\n\u001B[1;32m   1543\u001B[0m \u001B[38;5;28;01mtry\u001B[39;00m:\n\u001B[1;32m   1544\u001B[0m     result \u001B[38;5;241m=\u001B[39m \u001B[38;5;28;01mNone\u001B[39;00m\n",
      "Cell \u001B[0;32mIn[9], line 27\u001B[0m, in \u001B[0;36mTransformerDecoderModel.forward\u001B[0;34m(self, src, attention_mask, tgt_mask)\u001B[0m\n\u001B[1;32m     25\u001B[0m \u001B[38;5;28;01mdef\u001B[39;00m \u001B[38;5;21mforward\u001B[39m(\u001B[38;5;28mself\u001B[39m, src, attention_mask, tgt_mask\u001B[38;5;241m=\u001B[39m\u001B[38;5;28;01mNone\u001B[39;00m):\n\u001B[1;32m     26\u001B[0m     tgt \u001B[38;5;241m=\u001B[39m \u001B[38;5;28mself\u001B[39m\u001B[38;5;241m.\u001B[39membedding(src)\n\u001B[0;32m---> 27\u001B[0m     tgt \u001B[38;5;241m=\u001B[39m \u001B[38;5;28;43mself\u001B[39;49m\u001B[38;5;241;43m.\u001B[39;49m\u001B[43mpos_encoder\u001B[49m\u001B[43m(\u001B[49m\u001B[43msrc\u001B[49m\u001B[43m)\u001B[49m  \u001B[38;5;66;03m# Apply positional encoding\u001B[39;00m\n\u001B[1;32m     29\u001B[0m     src_key_padding_mask \u001B[38;5;241m=\u001B[39m attention_mask \u001B[38;5;241m==\u001B[39m \u001B[38;5;241m0\u001B[39m\n\u001B[1;32m     31\u001B[0m     output \u001B[38;5;241m=\u001B[39m \u001B[38;5;28mself\u001B[39m\u001B[38;5;241m.\u001B[39mtransformer_decoder(src, src, tgt_mask\u001B[38;5;241m=\u001B[39mtgt_mask, src_key_padding_mask\u001B[38;5;241m=\u001B[39msrc_key_padding_mask)\n",
      "File \u001B[0;32m~/Repos/minus1/venv/lib64/python3.12/site-packages/torch/nn/modules/module.py:1532\u001B[0m, in \u001B[0;36mModule._wrapped_call_impl\u001B[0;34m(self, *args, **kwargs)\u001B[0m\n\u001B[1;32m   1530\u001B[0m     \u001B[38;5;28;01mreturn\u001B[39;00m \u001B[38;5;28mself\u001B[39m\u001B[38;5;241m.\u001B[39m_compiled_call_impl(\u001B[38;5;241m*\u001B[39margs, \u001B[38;5;241m*\u001B[39m\u001B[38;5;241m*\u001B[39mkwargs)  \u001B[38;5;66;03m# type: ignore[misc]\u001B[39;00m\n\u001B[1;32m   1531\u001B[0m \u001B[38;5;28;01melse\u001B[39;00m:\n\u001B[0;32m-> 1532\u001B[0m     \u001B[38;5;28;01mreturn\u001B[39;00m \u001B[38;5;28;43mself\u001B[39;49m\u001B[38;5;241;43m.\u001B[39;49m\u001B[43m_call_impl\u001B[49m\u001B[43m(\u001B[49m\u001B[38;5;241;43m*\u001B[39;49m\u001B[43margs\u001B[49m\u001B[43m,\u001B[49m\u001B[43m \u001B[49m\u001B[38;5;241;43m*\u001B[39;49m\u001B[38;5;241;43m*\u001B[39;49m\u001B[43mkwargs\u001B[49m\u001B[43m)\u001B[49m\n",
      "File \u001B[0;32m~/Repos/minus1/venv/lib64/python3.12/site-packages/torch/nn/modules/module.py:1541\u001B[0m, in \u001B[0;36mModule._call_impl\u001B[0;34m(self, *args, **kwargs)\u001B[0m\n\u001B[1;32m   1536\u001B[0m \u001B[38;5;66;03m# If we don't have any hooks, we want to skip the rest of the logic in\u001B[39;00m\n\u001B[1;32m   1537\u001B[0m \u001B[38;5;66;03m# this function, and just call forward.\u001B[39;00m\n\u001B[1;32m   1538\u001B[0m \u001B[38;5;28;01mif\u001B[39;00m \u001B[38;5;129;01mnot\u001B[39;00m (\u001B[38;5;28mself\u001B[39m\u001B[38;5;241m.\u001B[39m_backward_hooks \u001B[38;5;129;01mor\u001B[39;00m \u001B[38;5;28mself\u001B[39m\u001B[38;5;241m.\u001B[39m_backward_pre_hooks \u001B[38;5;129;01mor\u001B[39;00m \u001B[38;5;28mself\u001B[39m\u001B[38;5;241m.\u001B[39m_forward_hooks \u001B[38;5;129;01mor\u001B[39;00m \u001B[38;5;28mself\u001B[39m\u001B[38;5;241m.\u001B[39m_forward_pre_hooks\n\u001B[1;32m   1539\u001B[0m         \u001B[38;5;129;01mor\u001B[39;00m _global_backward_pre_hooks \u001B[38;5;129;01mor\u001B[39;00m _global_backward_hooks\n\u001B[1;32m   1540\u001B[0m         \u001B[38;5;129;01mor\u001B[39;00m _global_forward_hooks \u001B[38;5;129;01mor\u001B[39;00m _global_forward_pre_hooks):\n\u001B[0;32m-> 1541\u001B[0m     \u001B[38;5;28;01mreturn\u001B[39;00m \u001B[43mforward_call\u001B[49m\u001B[43m(\u001B[49m\u001B[38;5;241;43m*\u001B[39;49m\u001B[43margs\u001B[49m\u001B[43m,\u001B[49m\u001B[43m \u001B[49m\u001B[38;5;241;43m*\u001B[39;49m\u001B[38;5;241;43m*\u001B[39;49m\u001B[43mkwargs\u001B[49m\u001B[43m)\u001B[49m\n\u001B[1;32m   1543\u001B[0m \u001B[38;5;28;01mtry\u001B[39;00m:\n\u001B[1;32m   1544\u001B[0m     result \u001B[38;5;241m=\u001B[39m \u001B[38;5;28;01mNone\u001B[39;00m\n",
      "Cell \u001B[0;32mIn[8], line 51\u001B[0m, in \u001B[0;36mPositionalEncoding.forward\u001B[0;34m(self, x)\u001B[0m\n\u001B[1;32m     40\u001B[0m \u001B[38;5;250m\u001B[39m\u001B[38;5;124mr\u001B[39m\u001B[38;5;124;03m\"\"\"Inputs of forward function\u001B[39;00m\n\u001B[1;32m     41\u001B[0m \u001B[38;5;124;03mArgs:\u001B[39;00m\n\u001B[1;32m     42\u001B[0m \u001B[38;5;124;03m    x: the sequence fed to the positional encoder model (required).\u001B[39;00m\n\u001B[0;32m   (...)\u001B[0m\n\u001B[1;32m     47\u001B[0m \u001B[38;5;124;03m    >>> output = pos_encoder(x)\u001B[39;00m\n\u001B[1;32m     48\u001B[0m \u001B[38;5;124;03m\"\"\"\u001B[39;00m\n\u001B[1;32m     50\u001B[0m \u001B[38;5;66;03m# Residual connection + pos encoding\u001B[39;00m\n\u001B[0;32m---> 51\u001B[0m x \u001B[38;5;241m=\u001B[39m \u001B[43mx\u001B[49m\u001B[43m \u001B[49m\u001B[38;5;241;43m+\u001B[39;49m\u001B[43m \u001B[49m\u001B[38;5;28;43mself\u001B[39;49m\u001B[38;5;241;43m.\u001B[39;49m\u001B[43mpe\u001B[49m\u001B[43m[\u001B[49m\u001B[43m:\u001B[49m\u001B[43mx\u001B[49m\u001B[38;5;241;43m.\u001B[39;49m\u001B[43msize\u001B[49m\u001B[43m(\u001B[49m\u001B[38;5;241;43m0\u001B[39;49m\u001B[43m)\u001B[49m\u001B[43m,\u001B[49m\u001B[43m \u001B[49m\u001B[43m:\u001B[49m\u001B[43m]\u001B[49m\n\u001B[1;32m     52\u001B[0m \u001B[38;5;28;01mreturn\u001B[39;00m \u001B[38;5;28mself\u001B[39m\u001B[38;5;241m.\u001B[39mdropout(x)\n",
      "\u001B[0;31mRuntimeError\u001B[0m: The size of tensor a (88) must match the size of tensor b (128) at non-singleton dimension 2"
     ]
    }
   ],
   "execution_count": 14
  },
  {
   "metadata": {},
   "cell_type": "markdown",
   "source": "# 4 Inferenz",
   "id": "671241f10b774392"
  },
  {
   "metadata": {},
   "cell_type": "markdown",
   "source": "# 5 output analysieren",
   "id": "2fccf7f71b16f64e"
  }
 ],
 "metadata": {
  "kernelspec": {
   "display_name": "Python 3",
   "language": "python",
   "name": "python3"
  },
  "language_info": {
   "codemirror_mode": {
    "name": "ipython",
    "version": 2
   },
   "file_extension": ".py",
   "mimetype": "text/x-python",
   "name": "python",
   "nbconvert_exporter": "python",
   "pygments_lexer": "ipython2",
   "version": "2.7.6"
  }
 },
 "nbformat": 4,
 "nbformat_minor": 5
}
